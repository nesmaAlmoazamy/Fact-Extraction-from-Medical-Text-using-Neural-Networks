{
 "cells": [
  {
   "cell_type": "code",
   "execution_count": 20,
   "metadata": {},
   "outputs": [],
   "source": [
    "import csv\n",
    "import numpy as np\n",
    "import pandas as pd\n",
    "from keras.preprocessing.text import Tokenizer\n",
    "from keras.preprocessing.sequence import pad_sequences\n",
    "import pickle\n"
   ]
  },
  {
   "cell_type": "code",
   "execution_count": 21,
   "metadata": {},
   "outputs": [],
   "source": [
    "DS = pd.read_csv(\"MergedDS.csv\")"
   ]
  },
  {
   "cell_type": "code",
   "execution_count": 3,
   "metadata": {},
   "outputs": [
    {
     "data": {
      "text/plain": [
       "count    185888.000000\n",
       "mean       2267.345504\n",
       "std        4234.895677\n",
       "min           4.000000\n",
       "25%         431.000000\n",
       "50%        1058.000000\n",
       "75%        2443.000000\n",
       "max      102602.000000\n",
       "Name: text, dtype: float64"
      ]
     },
     "execution_count": 3,
     "metadata": {},
     "output_type": "execute_result"
    }
   ],
   "source": [
    "DS.text.apply(lambda x: len(x)).describe()"
   ]
  },
  {
   "cell_type": "code",
   "execution_count": 4,
   "metadata": {},
   "outputs": [
    {
     "name": "stdout",
     "output_type": "stream",
     "text": [
      "Unique symbols: 253\n"
     ]
    }
   ],
   "source": [
    "from collections import Counter\n",
    "\n",
    "unique_symbols = Counter()\n",
    "\n",
    "for _, message in DS.text.iteritems():\n",
    "    unique_symbols.update(message)\n",
    "    \n",
    "print(\"Unique symbols:\", len(unique_symbols))"
   ]
  },
  {
   "cell_type": "code",
   "execution_count": 5,
   "metadata": {},
   "outputs": [
    {
     "name": "stdout",
     "output_type": "stream",
     "text": [
      "Uncommon symbols: 30\n"
     ]
    }
   ],
   "source": [
    "THRESHOLD = 5\n",
    "uncommon_symbols = list()\n",
    "\n",
    "for symbol, count in unique_symbols.items():\n",
    "    if count < THRESHOLD:\n",
    "        uncommon_symbols.append(symbol)\n",
    "\n",
    "print(\"Uncommon symbols:\", len(uncommon_symbols))\n"
   ]
  },
  {
   "cell_type": "code",
   "execution_count": 6,
   "metadata": {},
   "outputs": [],
   "source": [
    "\n",
    "# Replace them with a placeholder:\n",
    "\n",
    "DUMMY = uncommon_symbols[0]\n",
    "tr_table = str.maketrans(\"\".join(uncommon_symbols), DUMMY * len(uncommon_symbols))\n",
    "\n",
    "DS.text = DS.text.apply(lambda x: x.translate(tr_table))\n",
    "\n",
    "\n"
   ]
  },
  {
   "cell_type": "code",
   "execution_count": 9,
   "metadata": {},
   "outputs": [],
   "source": [
    "# We will need the number of unique symbols further down when we will decide on the dimensionality of inputs.\n",
    "\n",
    "num_unique_symbols = len(unique_symbols) - len(uncommon_symbols) + 1 \n",
    "\n",
    "tokenizer = Tokenizer(\n",
    "    char_level=True,\n",
    "    filters=None,\n",
    "    lower=False,\n",
    "    num_words=num_unique_symbols\n",
    ")\n",
    "\n",
    "tokenizer.fit_on_texts(DS.text)\n",
    "sequences = tokenizer.texts_to_sequences(DS.text)\n"
   ]
  },
  {
   "cell_type": "code",
   "execution_count": 11,
   "metadata": {},
   "outputs": [],
   "source": [
    "with open(\"tokenizer.pkl\", \"wb\") as f:\n",
    "    pickle.dump(tokenizer, f)\n",
    "\n",
    "# Pad the input: I use the 500 lenght, just a bit over the median length.\n",
    "\n",
    "padded_sequences = pad_sequences(sequences, maxlen=500)\n"
   ]
  },
  {
   "cell_type": "code",
   "execution_count": 22,
   "metadata": {},
   "outputs": [
    {
     "data": {
      "text/plain": [
       "0                                           RR 130/80 mmHg.\n",
       "1         Kergelt liigkaaluline. Nahk, limaskestad taval...\n",
       "2         RR142/89mmHg, HR 76 x min, p167cm, k89kg.  EKG...\n",
       "3                   RR143/87mmHg, HR60 x min, p180cm, k93kg\n",
       "4         RR 140/74 mm Hg Cor fr. 62 UH uuringul kaela a...\n",
       "                                ...                        \n",
       "185883    14.11.2014 -     Saabus kiirabiga. Kaebusteks ...\n",
       "185884    *22.10.2014 <ANONYM id=\"0\" type=\"per\" morph=\"_...\n",
       "185885    *03.11.2014 <ANONYM id=\"0\" type=\"per\" morph=\"_...\n",
       "185886    *18.11.2014 <ANONYM id=\"0\" type=\"per\" morph=\"_...\n",
       "185887     Anamnees 08.08.2014:\\nPalavaga veidi raskem h...\n",
       "Name: text, Length: 185888, dtype: object"
      ]
     },
     "execution_count": 22,
     "metadata": {},
     "output_type": "execute_result"
    }
   ],
   "source": [
    "DS.text"
   ]
  },
  {
   "cell_type": "code",
   "execution_count": 18,
   "metadata": {},
   "outputs": [
    {
     "data": {
      "text/plain": [
       "array([[ 0,  0,  0, ..., 49, 22,  7],\n",
       "       [ 0,  0,  0, ...,  3,  5,  7],\n",
       "       [ 0,  0,  0, ...,  4, 16,  7],\n",
       "       ...,\n",
       "       [ 0,  0,  0, ..., 41, 24, 24],\n",
       "       [10, 12,  1, ..., 10,  4,  1],\n",
       "       [ 0,  0,  0, ...,  1,  1, 19]])"
      ]
     },
     "execution_count": 18,
     "metadata": {},
     "output_type": "execute_result"
    }
   ],
   "source": [
    "padded_sequences"
   ]
  },
  {
   "cell_type": "code",
   "execution_count": 15,
   "metadata": {},
   "outputs": [],
   "source": [
    "DS.text = pad_sequences"
   ]
  },
  {
   "cell_type": "code",
   "execution_count": null,
   "metadata": {},
   "outputs": [],
   "source": [
    "x_train, x_val, y_train, y_val = train_test_split(DS, y_train, stratify=y_train['toxic'], test_size=0.05)\n"
   ]
  }
 ],
 "metadata": {
  "kernelspec": {
   "display_name": "Python 3",
   "language": "python",
   "name": "python3"
  },
  "language_info": {
   "codemirror_mode": {
    "name": "ipython",
    "version": 3
   },
   "file_extension": ".py",
   "mimetype": "text/x-python",
   "name": "python",
   "nbconvert_exporter": "python",
   "pygments_lexer": "ipython3",
   "version": "3.7.6"
  }
 },
 "nbformat": 4,
 "nbformat_minor": 4
}
