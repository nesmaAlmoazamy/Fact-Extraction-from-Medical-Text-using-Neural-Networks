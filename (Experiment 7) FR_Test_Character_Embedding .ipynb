{
 "cells": [
  {
   "cell_type": "code",
   "execution_count": 1,
   "metadata": {},
   "outputs": [
    {
     "name": "stderr",
     "output_type": "stream",
     "text": [
      "Using TensorFlow backend.\n"
     ]
    }
   ],
   "source": [
    "import csv\n",
    "import numpy as np\n",
    "import pandas as pd\n",
    "from keras.preprocessing.text import Tokenizer\n",
    "from keras.preprocessing.sequence import pad_sequences\n",
    "import pickle"
   ]
  },
  {
   "cell_type": "code",
   "execution_count": 2,
   "metadata": {},
   "outputs": [],
   "source": [
    "DS = pd.read_csv(\"FR_Object_tagged_Subset_150SentenceLength.csv\")"
   ]
  },
  {
   "cell_type": "code",
   "execution_count": 3,
   "metadata": {},
   "outputs": [],
   "source": [
    "DS['tag'].fillna('text', inplace=True)"
   ]
  },
  {
   "cell_type": "code",
   "execution_count": 18,
   "metadata": {},
   "outputs": [
    {
     "data": {
      "text/html": [
       "<div>\n",
       "<style scoped>\n",
       "    .dataframe tbody tr th:only-of-type {\n",
       "        vertical-align: middle;\n",
       "    }\n",
       "\n",
       "    .dataframe tbody tr th {\n",
       "        vertical-align: top;\n",
       "    }\n",
       "\n",
       "    .dataframe thead th {\n",
       "        text-align: right;\n",
       "    }\n",
       "</style>\n",
       "<table border=\"1\" class=\"dataframe\">\n",
       "  <thead>\n",
       "    <tr style=\"text-align: right;\">\n",
       "      <th></th>\n",
       "      <th>text_ID</th>\n",
       "      <th>word</th>\n",
       "      <th>tag</th>\n",
       "    </tr>\n",
       "  </thead>\n",
       "  <tbody>\n",
       "    <tr>\n",
       "      <th>7</th>\n",
       "      <td>51616</td>\n",
       "      <td>toonid</td>\n",
       "      <td>text</td>\n",
       "    </tr>\n",
       "    <tr>\n",
       "      <th>8</th>\n",
       "      <td>51616</td>\n",
       "      <td>rütmilised,</td>\n",
       "      <td>text</td>\n",
       "    </tr>\n",
       "    <tr>\n",
       "      <th>9</th>\n",
       "      <td>51616</td>\n",
       "      <td>fr</td>\n",
       "      <td>object</td>\n",
       "    </tr>\n",
       "    <tr>\n",
       "      <th>10</th>\n",
       "      <td>51616</td>\n",
       "      <td>72,</td>\n",
       "      <td>object</td>\n",
       "    </tr>\n",
       "    <tr>\n",
       "      <th>15</th>\n",
       "      <td>101498</td>\n",
       "      <td>rütm</td>\n",
       "      <td>text</td>\n",
       "    </tr>\n",
       "    <tr>\n",
       "      <th>16</th>\n",
       "      <td>101498</td>\n",
       "      <td>fr</td>\n",
       "      <td>object</td>\n",
       "    </tr>\n",
       "    <tr>\n",
       "      <th>17</th>\n",
       "      <td>101498</td>\n",
       "      <td>83</td>\n",
       "      <td>object</td>\n",
       "    </tr>\n",
       "    <tr>\n",
       "      <th>20</th>\n",
       "      <td>101498</td>\n",
       "      <td>ii,</td>\n",
       "      <td>text</td>\n",
       "    </tr>\n",
       "  </tbody>\n",
       "</table>\n",
       "</div>"
      ],
      "text/plain": [
       "    text_ID         word     tag\n",
       "7     51616       toonid    text\n",
       "8     51616  rütmilised,    text\n",
       "9     51616           fr  object\n",
       "10    51616          72,  object\n",
       "15   101498         rütm    text\n",
       "16   101498           fr  object\n",
       "17   101498           83  object\n",
       "20   101498          ii,    text"
      ]
     },
     "execution_count": 18,
     "metadata": {},
     "output_type": "execute_result"
    }
   ],
   "source": [
    "DS.loc[np.r_[7:11,15:18,20:21],:] "
   ]
  },
  {
   "cell_type": "code",
   "execution_count": 4,
   "metadata": {},
   "outputs": [],
   "source": [
    "words = list(set(DS[\"word\"].values))\n",
    "n_words = len(words)\n",
    "tags = list(set(DS[\"tag\"].values))\n",
    "n_tags = len(tags)"
   ]
  },
  {
   "cell_type": "code",
   "execution_count": 5,
   "metadata": {},
   "outputs": [],
   "source": [
    "class SentenceGetter(object):\n",
    "    def __init__(self, data):\n",
    "        self.n_sent = 1\n",
    "        self.data = data\n",
    "        self.empty = False\n",
    "        agg_func = lambda s: [(w, t) for w, t in zip(s[\"word\"].values.tolist(),\n",
    "                                                           s[\"tag\"].values.tolist())]\n",
    "        self.grouped = self.data.groupby(\"text_ID\").apply(agg_func)\n",
    "        self.sentences = [s for s in self.grouped]\n",
    "getter = SentenceGetter(DS)\n",
    "sentences = getter.sentences\n"
   ]
  },
  {
   "cell_type": "code",
   "execution_count": 6,
   "metadata": {},
   "outputs": [],
   "source": [
    "max_len = 150\n",
    "max_len_char = 10"
   ]
  },
  {
   "cell_type": "code",
   "execution_count": 7,
   "metadata": {},
   "outputs": [],
   "source": [
    "tag2idx = {t: i + 1 for i, t in enumerate(tags)}\n",
    "tag2idx[\"PAD\"] = 0\n",
    "idx2tag = {i: w for w, i in tag2idx.items()}"
   ]
  },
  {
   "cell_type": "code",
   "execution_count": 8,
   "metadata": {},
   "outputs": [
    {
     "data": {
      "text/plain": [
       "{'object': 1, 'text': 2, 'PAD': 0}"
      ]
     },
     "execution_count": 8,
     "metadata": {},
     "output_type": "execute_result"
    }
   ],
   "source": [
    "tag2idx"
   ]
  },
  {
   "cell_type": "code",
   "execution_count": 9,
   "metadata": {},
   "outputs": [
    {
     "name": "stdout",
     "output_type": "stream",
     "text": [
      "100\n"
     ]
    }
   ],
   "source": [
    "chars = set([w_i for w in words for w_i in w])\n",
    "n_chars = len(chars)\n",
    "print(n_chars)\n"
   ]
  },
  {
   "cell_type": "code",
   "execution_count": 10,
   "metadata": {},
   "outputs": [],
   "source": [
    "char2idx = {c: i + 2 for i, c in enumerate(chars)}\n",
    "char2idx[\"UNK\"] = 1 #For predictions\n",
    "char2idx[\"PAD\"] = 0"
   ]
  },
  {
   "cell_type": "code",
   "execution_count": 11,
   "metadata": {},
   "outputs": [],
   "source": [
    "idx2char = {i: w for w, i in char2idx.items()}"
   ]
  },
  {
   "cell_type": "code",
   "execution_count": 12,
   "metadata": {},
   "outputs": [],
   "source": [
    "X_char = []\n",
    "for sentence in sentences:\n",
    "    sent_seq = []\n",
    "    for i in range(max_len):\n",
    "        word_seq = []\n",
    "        for j in range(max_len_char):\n",
    "            try:\n",
    "                word_seq.append(char2idx.get(sentence[i][0][j]))\n",
    "            except:\n",
    "                word_seq.append(char2idx.get(\"PAD\"))\n",
    "        sent_seq.append(word_seq)\n",
    "    X_char.append(np.array(sent_seq))"
   ]
  },
  {
   "cell_type": "code",
   "execution_count": 13,
   "metadata": {},
   "outputs": [],
   "source": [
    "y = [[tag2idx[w[1]] for w  in s] for s in sentences]\n"
   ]
  },
  {
   "cell_type": "code",
   "execution_count": 14,
   "metadata": {},
   "outputs": [
    {
     "data": {
      "text/plain": [
       "4072"
      ]
     },
     "execution_count": 14,
     "metadata": {},
     "output_type": "execute_result"
    }
   ],
   "source": [
    "len(sentences)"
   ]
  },
  {
   "cell_type": "code",
   "execution_count": 15,
   "metadata": {},
   "outputs": [],
   "source": [
    "y = pad_sequences(maxlen=max_len, sequences=y, value=tag2idx[\"PAD\"], padding='post', truncating='post')"
   ]
  },
  {
   "cell_type": "code",
   "execution_count": 16,
   "metadata": {},
   "outputs": [
    {
     "data": {
      "text/plain": [
       "array([2, 2, 2, 2, 2, 2, 2, 2, 2, 2, 1, 1, 2, 2, 2, 0, 0, 0, 0, 0, 0, 0,\n",
       "       0, 0, 0, 0, 0, 0, 0, 0, 0, 0, 0, 0, 0, 0, 0, 0, 0, 0, 0, 0, 0, 0,\n",
       "       0, 0, 0, 0, 0, 0, 0, 0, 0, 0, 0, 0, 0, 0, 0, 0, 0, 0, 0, 0, 0, 0,\n",
       "       0, 0, 0, 0, 0, 0, 0, 0, 0, 0, 0, 0, 0, 0, 0, 0, 0, 0, 0, 0, 0, 0,\n",
       "       0, 0, 0, 0, 0, 0, 0, 0, 0, 0, 0, 0, 0, 0, 0, 0, 0, 0, 0, 0, 0, 0,\n",
       "       0, 0, 0, 0, 0, 0, 0, 0, 0, 0, 0, 0, 0, 0, 0, 0, 0, 0, 0, 0, 0, 0,\n",
       "       0, 0, 0, 0, 0, 0, 0, 0, 0, 0, 0, 0, 0, 0, 0, 0, 0, 0])"
      ]
     },
     "execution_count": 16,
     "metadata": {},
     "output_type": "execute_result"
    }
   ],
   "source": [
    "y[1]"
   ]
  },
  {
   "cell_type": "code",
   "execution_count": 17,
   "metadata": {},
   "outputs": [
    {
     "data": {
      "text/plain": [
       "{'object': 1, 'text': 2, 'PAD': 0}"
      ]
     },
     "execution_count": 17,
     "metadata": {},
     "output_type": "execute_result"
    }
   ],
   "source": [
    "tag2idx"
   ]
  },
  {
   "cell_type": "code",
   "execution_count": 18,
   "metadata": {},
   "outputs": [],
   "source": [
    "from sklearn.model_selection import train_test_split\n",
    "X_char_tr, X_char_te, y_tr,  y_te= train_test_split(X_char, y, test_size=0.8, random_state=2018)\n"
   ]
  },
  {
   "cell_type": "code",
   "execution_count": 19,
   "metadata": {},
   "outputs": [
    {
     "data": {
      "text/plain": [
       "10"
      ]
     },
     "execution_count": 19,
     "metadata": {},
     "output_type": "execute_result"
    }
   ],
   "source": [
    "max_len_char"
   ]
  },
  {
   "cell_type": "code",
   "execution_count": 20,
   "metadata": {},
   "outputs": [
    {
     "name": "stderr",
     "output_type": "stream",
     "text": [
      "C:\\Users\\Kasutaja\\Anaconda3\\envs\\myEnv\\lib\\site-packages\\tensorflow_core\\python\\framework\\indexed_slices.py:433: UserWarning: Converting sparse IndexedSlices to a dense Tensor of unknown shape. This may consume a large amount of memory.\n",
      "  \"Converting sparse IndexedSlices to a dense Tensor of unknown shape. \"\n"
     ]
    },
    {
     "name": "stdout",
     "output_type": "stream",
     "text": [
      "Model: \"model_1\"\n",
      "_________________________________________________________________\n",
      "Layer (type)                 Output Shape              Param #   \n",
      "=================================================================\n",
      "input_1 (InputLayer)         (None, 150, 10)           0         \n",
      "_________________________________________________________________\n",
      "time_distributed_1 (TimeDist (None, 150, 10, 20)       2120      \n",
      "_________________________________________________________________\n",
      "time_distributed_2 (TimeDist (None, 150, 20)           3280      \n",
      "_________________________________________________________________\n",
      "spatial_dropout1d_1 (Spatial (None, 150, 20)           0         \n",
      "_________________________________________________________________\n",
      "bidirectional_1 (Bidirection (None, 150, 40)           6560      \n",
      "_________________________________________________________________\n",
      "time_distributed_3 (TimeDist (None, 150, 3)            123       \n",
      "=================================================================\n",
      "Total params: 12,083\n",
      "Trainable params: 12,083\n",
      "Non-trainable params: 0\n",
      "_________________________________________________________________\n"
     ]
    }
   ],
   "source": [
    "from keras.models import load_model\n",
    " \n",
    "# load model\n",
    "model = load_model('CharacterEmbeddingObject-1.00.hdf5')\n",
    "# summarize model.\n",
    "model.summary()"
   ]
  },
  {
   "cell_type": "code",
   "execution_count": 21,
   "metadata": {},
   "outputs": [],
   "source": [
    "# model.layers[4:]"
   ]
  },
  {
   "cell_type": "code",
   "execution_count": 23,
   "metadata": {
    "scrolled": true
   },
   "outputs": [
    {
     "name": "stdout",
     "output_type": "stream",
     "text": [
      "Train on 732 samples, validate on 82 samples\n",
      "Epoch 1/10\n",
      "732/732 [==============================] - 6s 8ms/step - loss: 0.0313 - acc: 0.9909 - val_loss: 0.0249 - val_acc: 0.9922\n",
      "Epoch 2/10\n",
      "732/732 [==============================] - 5s 7ms/step - loss: 0.0257 - acc: 0.9920 - val_loss: 0.0240 - val_acc: 0.9924\n",
      "Epoch 3/10\n",
      "732/732 [==============================] - 5s 7ms/step - loss: 0.0228 - acc: 0.9922 - val_loss: 0.0198 - val_acc: 0.9926\n",
      "Epoch 4/10\n",
      "732/732 [==============================] - 5s 7ms/step - loss: 0.0190 - acc: 0.9933 - val_loss: 0.0155 - val_acc: 0.9952\n",
      "Epoch 5/10\n",
      "732/732 [==============================] - 5s 7ms/step - loss: 0.0165 - acc: 0.9944 - val_loss: 0.0130 - val_acc: 0.9956\n",
      "Epoch 6/10\n",
      "732/732 [==============================] - 5s 7ms/step - loss: 0.0142 - acc: 0.9952 - val_loss: 0.0110 - val_acc: 0.9968\n",
      "Epoch 7/10\n",
      "732/732 [==============================] - 5s 7ms/step - loss: 0.0119 - acc: 0.9960 - val_loss: 0.0085 - val_acc: 0.9977\n",
      "Epoch 8/10\n",
      "732/732 [==============================] - 5s 7ms/step - loss: 0.0077 - acc: 0.9977 - val_loss: 0.0058 - val_acc: 0.9985\n",
      "Epoch 9/10\n",
      "732/732 [==============================] - 5s 7ms/step - loss: 0.0063 - acc: 0.9982 - val_loss: 0.0060 - val_acc: 0.9986\n",
      "Epoch 10/10\n",
      "732/732 [==============================] - 5s 7ms/step - loss: 0.0053 - acc: 0.9987 - val_loss: 0.0055 - val_acc: 0.9987\n"
     ]
    }
   ],
   "source": [
    "from keras.callbacks import ModelCheckpoint\n",
    "from keras.optimizers import Adam, SGD, RMSprop\n",
    "\n",
    "# # Saving the best model only\n",
    "# filepath=\"CharacterEmbeddingObject-{val_acc:.2f}.hdf5\"\n",
    "# checkpoint = ModelCheckpoint(filepath, monitor='val_acc', verbose=1, save_best_only=True, mode='max')\n",
    "# callbacks_list = [checkpoint]\n",
    "\n",
    "# for layer in model.layers[:4]:\n",
    "#     layer.trainable = False\n",
    "# for layer in model.layers[4:]:\n",
    "#     layer.trainable = True\n",
    "\n",
    "# early_stopping = EarlyStopping(monitor='val_acc', patience=5)\n",
    "#https://www.depends-on-the-definition.com/transfer-learning-for-dog-breed-identification/\n",
    "\n",
    "# model.compile(optimizer=Adam(lr=0.0001, momentum=0.9),\n",
    "#               loss='sparse_categorical_crossentropy',\n",
    "#               metrics=[\"acc\"])\n",
    "\n",
    "# Fit the best model\n",
    "history = model.fit(np.array(X_char_tr).reshape((len(X_char_tr), max_len, max_len_char)),\n",
    "                    np.array(y_tr).reshape(len(y_tr), max_len, 1),\n",
    "                    batch_size=32, epochs=10, validation_split=0.1, verbose=1)\n",
    "#,callbacks=callbacks_list"
   ]
  },
  {
   "cell_type": "code",
   "execution_count": 24,
   "metadata": {},
   "outputs": [
    {
     "data": {
      "text/plain": [
       "[<keras.engine.input_layer.InputLayer at 0x20b8afca848>,\n",
       " <keras.layers.wrappers.TimeDistributed at 0x20b8afc6588>,\n",
       " <keras.layers.wrappers.TimeDistributed at 0x20b8afc6b88>,\n",
       " <keras.layers.core.SpatialDropout1D at 0x20b8afc6688>,\n",
       " <keras.layers.wrappers.Bidirectional at 0x20b8afca0c8>,\n",
       " <keras.layers.wrappers.TimeDistributed at 0x20b8afca408>]"
      ]
     },
     "execution_count": 24,
     "metadata": {},
     "output_type": "execute_result"
    }
   ],
   "source": [
    "model.layers"
   ]
  },
  {
   "cell_type": "code",
   "execution_count": 25,
   "metadata": {},
   "outputs": [],
   "source": [
    "hist = pd.DataFrame(history.history)\n"
   ]
  },
  {
   "cell_type": "code",
   "execution_count": 26,
   "metadata": {},
   "outputs": [
    {
     "data": {
      "image/png": "[encoded data removed]",
      "text/plain": [
       "<Figure size 864x864 with 1 Axes>"
      ]
     },
     "metadata": {},
     "output_type": "display_data"
    }
   ],
   "source": [
    "import matplotlib.pyplot as plt\n",
    "plt.style.use(\"ggplot\")\n",
    "plt.figure(figsize=(12,12))\n",
    "plt.plot(hist[\"acc\"])\n",
    "plt.plot(hist[\"val_acc\"])\n",
    "plt.show()\n"
   ]
  },
  {
   "cell_type": "code",
   "execution_count": 27,
   "metadata": {},
   "outputs": [],
   "source": [
    "def charindx2word(Tword):\n",
    "    word = []\n",
    "    for i in range(len(Tword)):\n",
    "        if(Tword[i] !=0):\n",
    "            word.append(idx2char[Tword[i]])\n",
    "    return \"\".join(word)"
   ]
  },
  {
   "cell_type": "code",
   "execution_count": 28,
   "metadata": {},
   "outputs": [],
   "source": [
    "y_pred = model.predict(\n",
    "                        np.array(X_char_te).reshape((len(X_char_te),\n",
    "                                                     max_len, max_len_char)))\n"
   ]
  },
  {
   "cell_type": "code",
   "execution_count": 29,
   "metadata": {},
   "outputs": [
    {
     "data": {
      "text/plain": [
       "3258"
      ]
     },
     "execution_count": 29,
     "metadata": {},
     "output_type": "execute_result"
    }
   ],
   "source": [
    "len(np.array(X_char_te).reshape((len(X_char_te),\n",
    "                                                     max_len, max_len_char)))"
   ]
  },
  {
   "cell_type": "code",
   "execution_count": 30,
   "metadata": {},
   "outputs": [
    {
     "data": {
      "text/plain": [
       "(814, 150, 10)"
      ]
     },
     "execution_count": 30,
     "metadata": {},
     "output_type": "execute_result"
    }
   ],
   "source": [
    "np.array(X_char_tr).reshape((len(X_char_tr),\n",
    "                                                     max_len, max_len_char)).shape"
   ]
  },
  {
   "cell_type": "code",
   "execution_count": 31,
   "metadata": {
    "scrolled": true
   },
   "outputs": [
    {
     "name": "stdout",
     "output_type": "stream",
     "text": [
      "Word           ||True ||Pred\n",
      "==============================\n",
      "EKG            : text  text\n",
      "Holter:        : text  text\n",
      "siinusrütm     : text  text\n",
      "fr             : object object\n",
      "63-127         : object object\n",
      "xmin,          : text  text\n",
      "keskmine       : text  text\n",
      "sagedus        : text  text\n",
      "83             : text  text\n",
      "xmin.          : text  text\n",
      "Rütmihäire     : text  text\n",
      "Kokkuvõtva     : text  text\n",
      "ravi           : text  text\n",
      "ja             : text  text\n",
      "plaanid        : text  text\n",
      "jäävad         : text  text\n",
      "samaks!        : text  text\n"
     ]
    }
   ],
   "source": [
    "i = 1\n",
    "p = np.argmax(y_pred[i], axis=-1)\n",
    "print(\"{:15}||{:5}||{}\".format(\"Word\", \"True\", \"Pred\"))\n",
    "print(30 * \"=\")\n",
    "for w, t, pred in zip(X_char_te[i], y_te[i], p):\n",
    "    if t != 0: #PAD\n",
    "        print(\"{:15}: {:5} {}\".format(charindx2word(w), idx2tag[t], idx2tag[pred]))\n"
   ]
  },
  {
   "cell_type": "code",
   "execution_count": 32,
   "metadata": {},
   "outputs": [
    {
     "data": {
      "text/plain": [
       "3258"
      ]
     },
     "execution_count": 32,
     "metadata": {},
     "output_type": "execute_result"
    }
   ],
   "source": [
    "len(y_pred)"
   ]
  },
  {
   "cell_type": "markdown",
   "metadata": {},
   "source": [
    "### Wrong Tags\n"
   ]
  },
  {
   "cell_type": "code",
   "execution_count": 33,
   "metadata": {},
   "outputs": [
    {
     "name": "stdout",
     "output_type": "stream",
     "text": [
      "49             : text  object\n",
      "mmHg,fr79x     : object text\n",
      "fr78.Kl.ja     : object text\n",
      "90',PQ         : object text\n",
      "mmHg,fr        : object text\n",
      "72             : object text\n",
      "mmHg,fr69x     : object text\n",
      "r              : text  object\n",
      "133            : text  object\n",
      "=              : text  object\n",
      "63             : object text\n",
      "Normofrekv     : object text\n",
      "=              : text  object\n",
      "76             : object text\n",
      "66             : object text\n",
      "120/80;fr      : object text\n",
      "74;            : object text\n",
      "64',St         : object text\n",
      "=              : text  object\n",
      "77             : object text\n",
      "FA.fr          : object text\n",
      "70/min.        : object text\n",
      "EKG:fr67x'     : object text\n",
      "=              : text  object\n",
      "88             : object text\n",
      "x/min,         : text  object\n",
      "nefroloogi     : object text\n",
      "Siinusrütm     : object text\n",
      "76             : object text\n",
      "Siinusrütm     : object text\n",
      "76             : object text\n",
      "Siinusrütm     : object text\n",
      "76             : object text\n",
      "200/100mmH     : object text\n",
      "200/100mmH     : object text\n",
      "Kaal60         : object text\n",
      "Siinusrütm     : object text\n",
      "72.<ANONYM     : object text\n",
      "siinusrütm     : object text\n",
      "71,horizon     : object text\n",
      "100/70;        : object text\n",
      "mmHg,fr        : object text\n",
      "66             : object text\n",
      "fr.92x'.       : object text\n",
      "regulaarne     : object text\n",
      "mmHg,fr        : object text\n",
      "82             : object text\n",
      "70             : object text\n",
      "112            : object text\n",
      "fr111          : object text\n",
      "mmHgfr         : object text\n",
      "x/min,         : text  object\n",
      "Cor-fr         : object text\n",
      "96-100x/mi     : object text\n",
      "fr68           : object PAD\n",
      "regulaarne     : object text\n",
      "SR,fr          : object text\n",
      "51             : object text\n",
      "fr.81          : object text\n",
      "normofrekv     : object text\n",
      "fr70x*         : object text\n",
      "mmHg,fr        : object text\n",
      "65             : object text\n",
      "siinusrütm     : object text\n",
      "77x            : object text\n",
      "mmHg,fr        : object text\n",
      "63             : object text\n",
      "=              : text  object\n",
      "61             : object text\n",
      "130/80         : object text\n",
      "145/82,fr      : object text\n",
      "77             : object text\n",
      "x/min,         : text  object\n",
      "71             : object text\n",
      "mmHg,fr        : object text\n",
      "81             : object text\n",
      "fr.78          : object text\n",
      "=              : text  object\n",
      "79             : object text\n",
      "mmHg,fr        : object text\n",
      "75             : object text\n",
      "fr85x´         : object text\n",
      "mmHg,fr        : object text\n",
      "64x            : object text\n",
      "90',PQ         : object text\n",
      "SR,fr51        : object text\n",
      "=              : text  object\n",
      "57             : object text\n",
      "Siinusrütm     : object text\n",
      "fr65           : object PAD\n",
      "64             : object text\n",
      "frrquent       : object text\n",
      "frrquent       : object text\n",
      "(              : text  object\n",
      "täna           : text  object\n",
      "115/75         : object text\n",
      "<ANONYM        : text  object\n",
      "110/70         : object text\n",
      "Normofrekv     : object text\n",
      "fr102x1,       : object text\n",
      "140780         : object text\n",
      "=              : text  object\n",
      "96             : object text\n",
      "arütmia,fr     : object text\n",
      "55,horizon     : object text\n",
      "arütmia,fr     : object text\n",
      "55,horizon     : object text\n",
      "190.           : object text\n",
      "fr=185         : object text\n",
      "118/80;        : object text\n",
      "üv             : text  object\n",
      "EKG:Siinus     : object text\n",
      "68x1           : object text\n",
      "ebareg.fr.     : object text\n",
      "fr.-102x´      : object text\n",
      "110/70,fr      : object text\n",
      "81.            : object text\n",
      "Siinusrütm     : object text\n",
      "x              : text  object\n",
      "=              : text  object\n",
      "68             : object text\n",
      "fr87,vestl     : object text\n",
      "mmHg,fr        : object text\n",
      "67             : object text\n",
      "N,fr78,kl.     : object text\n",
      "SR,.fr97x/     : object text\n",
      "135/80mmHg     : object text\n",
      "r              : text  object\n",
      "epol           : text  object\n",
      "160/90mmHg     : object text\n",
      "86x            : object text\n",
      "mmHg.fr        : object text\n",
      "62             : object text\n",
      "=              : text  object\n",
      "76             : object text\n",
      "=              : text  object\n",
      "79             : object text\n",
      "Siinusrütm     : object text\n",
      "76x            : object text\n",
      "reg.fr         : object text\n",
      "100            : object text\n",
      "Siinusrütm     : object text\n",
      "65/min.Süg     : object text\n",
      "fr63xmin.,     : object text\n",
      "(N             : text  object\n",
      ">6)            : text  object\n",
      "=              : text  object\n",
      "67             : object text\n",
      "96             : text  object\n",
      "63             : text  object\n",
      "63             : text  object\n",
      "63             : text  object\n",
      "Normofrekv     : object text\n",
      "Siinusrütm     : object text\n",
      "65/min.        : object text\n",
      "fr111          : object text\n",
      "Hg,fr          : object text\n",
      "67             : object text\n",
      "88             : text  object\n",
      "86             : object text\n",
      "rr             : text  object\n",
      "110-72         : text  object\n",
      "normofr.,      : object text\n",
      "bradüarütm     : object text\n",
      "66             : object text\n",
      "96             : text  object\n",
      "siinusrütm     : object text\n",
      "82xmin,        : object text\n",
      "76,            : text  object\n",
      "siinusrütm     : object text\n",
      "68             : object text\n",
      "157/86         : object text\n",
      "fr78,          : object text\n",
      "x/min,         : text  object\n",
      "120/80         : object text\n",
      "(              : text  object\n",
      "täna           : text  object\n",
      "fr-87,         : object text\n",
      "146/80         : object text\n",
      "130/80         : object text\n",
      "EKG.Siinus     : object text\n",
      "87x,           : object text\n",
      "155/80         : object text\n",
      "65             : text  object\n",
      "65             : text  object\n",
      "65             : text  object\n",
      "65             : text  object\n",
      "(N             : text  object\n",
      "<6)_           : text  object\n",
      "=              : text  object\n",
      "65             : object text\n",
      "treemor-,f     : object text\n",
      "siinusrütm     : object text\n",
      "75             : object text\n",
      "mmHg,fr        : object text\n",
      "72             : object text\n",
      "diafragma      : object text\n",
      "diafragma      : object text\n",
      "48*min.        : text  object\n",
      "Siinusrütm     : object text\n",
      "74x            : object text\n",
      "vats.fr.12     : object text\n",
      "EKGSiinusr     : object text\n",
      "80x1           : object text\n",
      "fr.82x'.       : object text\n",
      "(N             : text  object\n",
      ">11)           : text  object\n",
      "fr75xmin       : object text\n",
      "=              : text  object\n",
      "81             : object text\n",
      "regulaarne     : object text\n",
      "70             : object text\n",
      "72             : object text\n",
      "fr.74x'.El     : object text\n",
      "fr.74x'.El     : object text\n",
      "fr.74x'.El     : object text\n",
      "fr.74x'.El     : object text\n",
      "140/90mmHg     : object text\n",
      "80´            : object text\n",
      "(N             : text  object\n",
      "<11)_          : text  object\n",
      "108/73         : object text\n",
      "108/73         : object text\n",
      "126/74,        : object text\n",
      "55             : text  object\n",
      "84,            : text  object\n",
      "168/70,        : object text\n",
      "x/min,         : text  object\n",
      "EKG-fr         : object text\n",
      "71,            : object text\n",
      "mmHg,fr        : object text\n",
      "58             : object text\n",
      "rütm,fr        : object text\n",
      "64             : object text\n",
      "fr78.          : object text\n",
      "frekv.-ga      : object text\n",
      "2000           : text  object\n",
      "=              : text  object\n",
      "65             : object text\n",
      "135/85.fr      : object text\n",
      "66             : object text\n",
      "79             : object text\n",
      "=              : text  object\n",
      "79             : object text\n",
      "mmHg(närve     : object text\n",
      "89x            : object text\n",
      "140/90,fr      : object text\n",
      "160-170x/m     : object text\n",
      "fr73xmin       : object text\n",
      "SR.fr.66x'     : object text\n",
      "EKG:Siinus     : object text\n",
      "61X1min,no     : object text\n",
      "fr79*---RR     : object text\n",
      "fr79*---RR     : object text\n",
      "mmHg,fr        : object text\n",
      "62             : object text\n",
      "=              : text  object\n",
      "64             : object text\n",
      "164            : object text\n",
      "93,0.Kaeba     : object text\n",
      ",kahinata,     : object text\n",
      "70             : object text\n",
      "115/70         : object text\n",
      "f              : text  object\n",
      "reg            : text  object\n",
      "x/min,         : text  object\n",
      "124/62         : object text\n",
      "ole,fr         : object text\n",
      "59x            : object text\n",
      "fr.86,R-R      : object text\n",
      "fr75,tuli      : object text\n",
      "fr72x*         : object text\n",
      "x/min,         : text  object\n",
      "120/80         : object text\n",
      "71             : object text\n",
      "fr62*min       : object text\n",
      "ü              : text  object\n",
      "Elektrokar     : text  object\n",
      "ü              : text  PAD\n",
      "fr76x          : object PAD\n",
      "-              : text  object\n",
      "82             : object text\n",
      "(N             : text  object\n",
      ">11)           : text  object\n",
      "150/90,fr      : object text\n",
      "68;            : object text\n",
      "siinusrütm     : object text\n",
      "88,normaal     : object text\n",
      "Cor-fr         : object text\n",
      "64             : object text\n",
      "=              : text  object\n",
      "66             : object text\n",
      "fr150-170x     : object text\n",
      "f              : text  object\n",
      "reg            : text  object\n",
      "f              : text  object\n",
      "reg            : text  object\n",
      "x.             : text  object\n",
      "70*min.        : object text\n",
      "(N             : text  object\n",
      "<6)_           : text  object\n",
      "fr74,vestl     : object text\n",
      "119            : text  object\n",
      "119            : text  object\n",
      "119            : text  object\n",
      "Siinusrütm     : object text\n",
      "165/83         : object text\n",
      "165/83         : object text\n",
      "55             : text  object\n",
      "55             : text  object\n",
      "55             : text  object\n",
      "55             : text  object\n",
      "x              : text  object\n",
      "=              : text  object\n",
      "110            : object text\n",
      "MEF50          : object text\n",
      "70             : text  object\n",
      "x/min,         : text  object\n",
      "=              : text  object\n",
      "61             : object text\n",
      "mmHg,fr        : object text\n",
      "61x            : object text\n",
      "54             : text  object\n",
      "mmHg__fr63     : object text\n",
      "-              : text  object\n",
      "69             : object text\n",
      "(N             : text  object\n",
      "<11)_          : text  object\n",
      "=              : text  object\n",
      "50             : object text\n",
      "normofr.       : object text\n",
      "115/70,fr      : object text\n",
      "71             : object text\n",
      "fr75           : object PAD\n",
      "n\"/>:fr        : object text\n",
      "70,            : object text\n",
      "arütmia,fr     : object text\n",
      "101,horizo     : object text\n",
      "arütmia,fr     : object text\n",
      "101,horizo     : object text\n",
      "koldeleiut     : object text\n",
      "siinusrütm     : object text\n",
      "81             : object text\n",
      "173/90         : object text\n",
      "173/90         : object text\n",
      "(              : text  object\n",
      "13.10).        : text  object\n",
      "67             : text  object\n",
      "67             : text  object\n",
      "67             : text  object\n",
      "67             : text  object\n",
      "70x',          : object text\n",
      "ref            : text  object\n",
      "Süda,Fa.fr     : object text\n",
      "136/min.       : object text\n",
      "=              : text  object\n",
      "83             : object text\n",
      "=              : text  object\n",
      "61             : object text\n",
      "=              : text  object\n",
      "66             : object text\n",
      "diafragmak     : object text\n",
      "diafragmak     : object text\n",
      "diafragmak     : object text\n",
      "diafragmak     : object text\n",
      "diafragmak     : object text\n",
      "diafragmak     : object text\n",
      "diafragmak     : object text\n",
      "diafragmak     : object text\n",
      "siinusrütm     : object text\n",
      "73             : object text\n",
      "149/78         : object text\n",
      "149/78         : object text\n",
      "66',Pq         : object text\n",
      "160/80         : object text\n",
      "siinusrütm     : object text\n",
      "76             : object text\n",
      "(N             : text  object\n",
      ">3)            : text  object\n",
      "=              : text  object\n",
      "80             : object text\n",
      "mmHg,fr        : object text\n",
      "81             : object text\n",
      "71             : text  object\n",
      "71             : text  object\n",
      "71             : text  object\n",
      "-              : text  object\n",
      "87             : object text\n",
      "x              : text  object\n",
      "õendustoim     : object text\n",
      "60             : text  object\n",
      ",              : text  object\n",
      "siinusbrad     : object text\n",
      "59,normaal     : object text\n",
      "133/75         : object text\n",
      "(              : text  object\n",
      "ravi           : text  object\n",
      "(              : text  object\n",
      "ravi           : text  object\n",
      "mmHg,fr        : object text\n",
      "76             : object text\n",
      "EKG-fr         : object text\n",
      "53,            : object text\n",
      "40.72,         : object text\n",
      "=              : text  object\n",
      "67             : object text\n",
      "siinusbrad     : object text\n",
      "42,normaal     : object text\n",
      "fr.80x`.       : object text\n",
      "127/77,fr      : object text\n",
      "63X            : object text\n",
      "127/77,fr      : object text\n",
      "63X            : object text\n",
      "127/77,fr      : object text\n",
      "63X            : object text\n",
      "140/90         : object text\n",
      "FA,fr          : object text\n",
      "85             : object text\n",
      "FA,fr          : object text\n",
      "85             : object text\n",
      "FA,fr          : object text\n",
      "85             : object text\n",
      "FA,fr          : object text\n",
      "85             : object text\n",
      ".              : text  object\n",
      "72             : object text\n",
      "regul,fr       : object text\n",
      "76             : object text\n",
      "ole,fr         : object text\n",
      "70x            : object text\n",
      "tahhyfrekv     : object text\n",
      "105/65mmHg     : object text\n",
      "mmHg,fr        : object text\n",
      "95x            : object text\n"
     ]
    },
    {
     "name": "stdout",
     "output_type": "stream",
     "text": [
      "bradüarütm     : object text\n",
      "58             : object text\n",
      "bradüarütm     : object text\n",
      "58             : object text\n",
      "fr74x`,        : object text\n",
      "mmHg,fr        : object text\n",
      "56             : object text\n",
      "EKG-normof     : object text\n",
      "arütmia,fr     : object text\n",
      "72,horizon     : object text\n",
      "Siinusrütm     : object text\n",
      "80/min.        : object text\n",
      "fr73x1         : object text\n",
      "=              : text  object\n",
      "75             : object text\n",
      "frekvents      : object text\n",
      "frekvents      : object text\n",
      "frekvents      : object text\n",
      "siinusrütm     : object text\n",
      "80             : object text\n",
      "Siinusbrad     : object text\n",
      "55/min.        : object text\n",
      "x/min,         : text  object\n",
      "Siinusrütm     : object text\n",
      "60x'.          : object text\n",
      "ekg-siinus     : object text\n",
      "68x            : object text\n",
      "fr61           : object PAD\n",
      "nefrekoomi     : object text\n",
      "130/85         : object text\n",
      "64,            : text  object\n",
      "416            : object text\n",
      "416            : object text\n",
      "416            : object text\n",
      "416            : object text\n",
      "416            : object text\n",
      "416            : object text\n",
      "Tahhüfrekv     : object text\n",
      "isheemia.,     : object text\n",
      "siinusrütm     : object text\n",
      "81,normaal     : object text\n",
      "fr=76/min      : object text\n",
      "arütmia,fr     : object text\n",
      "96             : object text\n",
      "=              : text  object\n",
      "81             : object text\n",
      "fr.81          : object text\n",
      "fr.71x'.<A     : object text\n",
      "fr.71x'.<A     : object text\n",
      "rr             : text  object\n",
      "150-80         : text  object\n",
      "mmHg,fr        : object text\n",
      "66             : object text\n",
      "(N             : text  object\n",
      ">6)            : text  object\n",
      "bradüarütm     : object text\n",
      "66             : object text\n",
      "P              : text  object\n",
      "70             : object text\n",
      "diafragma      : object text\n",
      "~121           : text  object\n",
      "~121           : text  object\n",
      "~121           : text  object\n",
      "162x`kopsu     : object text\n",
      "140/84,fr      : object text\n",
      "68.            : object text\n",
      "150/80,fr      : object text\n",
      "65,reg.,       : object text\n",
      "=              : text  object\n",
      "58             : object text\n",
      "siinusrütm     : object text\n",
      "66             : object text\n",
      "64,3           : object text\n",
      "64,3           : object text\n",
      "146/70,        : object text\n",
      "190/110        : object text\n",
      "(N             : text  object\n",
      "<3)_           : text  object\n",
      "9061-RR134     : object text\n",
      "fr58           : object PAD\n",
      "siinusrütm     : object text\n",
      "70             : object text\n",
      "mmHg.fr        : object text\n",
      "66             : object text\n",
      "siinusrütm     : object text\n",
      "130/70         : object text\n",
      "EKG:fr         : object text\n",
      "69x',norm.     : object text\n",
      "ole,fr         : object text\n",
      "70x            : object text\n",
      "135/80mmHg     : object text\n",
      "cor-fr75x`     : object text\n",
      "siinustahü     : object text\n",
      "93,normaln     : object text\n",
      "fr100,vest     : object text\n",
      "180/100,fr     : object text\n",
      "99;            : object text\n",
      "55             : object text\n",
      "127782,fr      : object text\n",
      "79.Suhkur      : object text\n"
     ]
    }
   ],
   "source": [
    "j = 0\n",
    "for i in range(len(y_pred)):\n",
    "    p = np.argmax(y_pred[i], axis=-1)\n",
    "#     print(\"{:15}||{:5}||{}\".format(\"Word\", \"True\", \"Pred\"))\n",
    "#     print(30 * \"=\")\n",
    "    for w, t, pred in zip(X_char_te[i], y_te[i], p):\n",
    "        if charindx2word(w) != \"\": #PAD\n",
    "            if idx2tag[t] != idx2tag[pred]:\n",
    "                print(\"{:15}: {:5} {}\".format(charindx2word(w), idx2tag[t], idx2tag[pred]))\n",
    "                j = j+1\n"
   ]
  },
  {
   "cell_type": "code",
   "execution_count": 34,
   "metadata": {},
   "outputs": [
    {
     "data": {
      "text/plain": [
       "534"
      ]
     },
     "execution_count": 34,
     "metadata": {},
     "output_type": "execute_result"
    }
   ],
   "source": [
    "j"
   ]
  },
  {
   "cell_type": "code",
   "execution_count": 35,
   "metadata": {},
   "outputs": [
    {
     "name": "stdout",
     "output_type": "stream",
     "text": [
      "Word           ||True ||Pred\n",
      "==============================\n",
      "05.09.2012     : text  text\n",
      "-              : text  text\n",
      "Parem.Süda     : text  text\n",
      "puuduvad.      : text  text\n",
      "Hommikuks      : text  text\n",
      "RR             : text  text\n",
      "kõrgem.        : text  text\n",
      "Obj:           : text  text\n",
      "RR             : text  text\n",
      "165/60         : text  text\n",
      "mmHg,          : text  text\n",
      "fr             : object object\n",
      "64x            : object object\n",
      "regul,turs     : text  text\n",
      "ei             : text  text\n",
      "ole.           : text  text\n"
     ]
    }
   ],
   "source": [
    "i = 1001\n",
    "p = np.argmax(y_pred[i], axis=-1)\n",
    "print(\"{:15}||{:5}||{}\".format(\"Word\", \"True\", \"Pred\"))\n",
    "print(30 * \"=\")\n",
    "for w, t, pred in zip(X_char_te[i], y_te[i], p):\n",
    "    if t != 0: #PAD\n",
    "        print(\"{:15}: {:5} {}\".format(charindx2word(w), idx2tag[t], idx2tag[pred]))\n"
   ]
  },
  {
   "cell_type": "code",
   "execution_count": 36,
   "metadata": {},
   "outputs": [
    {
     "name": "stdout",
     "output_type": "stream",
     "text": [
      "F1-score: 89.2%\n",
      "           precision    recall  f1-score   support\n",
      "\n",
      "     text       0.93      0.88      0.91      5198\n",
      "   object       0.92      0.80      0.86      1992\n",
      "\n",
      "micro avg       0.92      0.86      0.89      7190\n",
      "macro avg       0.92      0.86      0.89      7190\n",
      "\n"
     ]
    }
   ],
   "source": [
    "from seqeval.metrics import accuracy_score, precision_score, recall_score, f1_score, classification_report\n",
    "\n",
    "def pred2label(pred):\n",
    "    out = []\n",
    "    for pred_i in pred:\n",
    "        out_i = []\n",
    "        for p in pred_i:\n",
    "            p_i = np.argmax(p)\n",
    "            out_i.append(idx2tag[p_i].replace(\"PAD\", \"text\"))\n",
    "        out.append(out_i)\n",
    "    return out\n",
    "\n",
    "def test2label(pred):\n",
    "    out = []\n",
    "    for pred_i in pred:\n",
    "        out_i = []\n",
    "        for p in pred_i:\n",
    "            out_i.append(idx2tag[p].replace(\"PAD\", \"text\"))\n",
    "        out.append(out_i)\n",
    "    return out\n",
    "\n",
    "pred_labels = pred2label(y_pred)\n",
    "test_labels = test2label(y_te)\n",
    "\n",
    "print(\"F1-score: {:.1%}\".format(f1_score(test_labels, pred_labels)))\n",
    "print(classification_report(test_labels, pred_labels))\n"
   ]
  },
  {
   "cell_type": "code",
   "execution_count": 37,
   "metadata": {},
   "outputs": [
    {
     "data": {
      "text/plain": [
       "0.9989093513402906"
      ]
     },
     "execution_count": 37,
     "metadata": {},
     "output_type": "execute_result"
    }
   ],
   "source": [
    "accuracy_score(test_labels, pred_labels)"
   ]
  },
  {
   "cell_type": "code",
   "execution_count": 38,
   "metadata": {},
   "outputs": [
    {
     "name": "stdout",
     "output_type": "stream",
     "text": [
      "              precision    recall  f1-score   support\n",
      "\n",
      "      object       0.96      0.89      0.93      3707\n",
      "        text       1.00      1.00      1.00    484993\n",
      "\n",
      "    accuracy                           1.00    488700\n",
      "   macro avg       0.98      0.95      0.96    488700\n",
      "weighted avg       1.00      1.00      1.00    488700\n",
      "\n",
      "Accuracy 0.9989093513402906\n"
     ]
    }
   ],
   "source": [
    "from sklearn_crfsuite.metrics import flat_classification_report,flat_accuracy_score\n",
    "report = flat_classification_report(y_pred=pred_labels, y_true=test_labels)\n",
    "print(report)\n",
    "print(\"Accuracy\",flat_accuracy_score(y_pred=pred_labels, y_true=test_labels))"
   ]
  },
  {
   "cell_type": "code",
   "execution_count": 39,
   "metadata": {},
   "outputs": [],
   "source": [
    "from sklearn_crfsuite.metrics import flat_f1_score, flat_precision_score, flat_recall_score"
   ]
  },
  {
   "cell_type": "code",
   "execution_count": 40,
   "metadata": {},
   "outputs": [
    {
     "name": "stdout",
     "output_type": "stream",
     "text": [
      "0.9989073050951504\n",
      "0.9989073050951504\n",
      "0.9989073050951504\n"
     ]
    }
   ],
   "source": [
    "def pred2label2(pred):\n",
    "    out = []\n",
    "    for pred_i in pred:\n",
    "        out_i = []\n",
    "        for p in pred_i:\n",
    "            p_i = np.argmax(p)\n",
    "            out_i.append(p_i)\n",
    "        out.append(out_i)\n",
    "    return out\n",
    "y_predNew = pred2label2(y_pred)\n",
    "print(flat_recall_score(y_pred=np.array(y_predNew) , y_true= y_te ,average = \"micro\"))\n",
    "print(flat_f1_score(y_pred=np.array(y_predNew),  y_true= y_te ,average = \"micro\"))\n",
    "print(flat_precision_score(y_pred=np.array(y_predNew), y_true= y_te ,average = \"micro\"))\n"
   ]
  },
  {
   "cell_type": "code",
   "execution_count": null,
   "metadata": {},
   "outputs": [],
   "source": [
    "# from sklearn.metrics import precision_recall_fscore_support\n",
    "# precision_recall_fscore_support(y_pred=pred_labels, y_true=test_labels)"
   ]
  },
  {
   "cell_type": "code",
   "execution_count": null,
   "metadata": {},
   "outputs": [],
   "source": [
    "# from sklearn.metrics import multilabel_confusion_matrix\n",
    "# multilabel_confusion_matrix(y_pred=pred_labels, y_true=test_labels)\n"
   ]
  }
 ],
 "metadata": {
  "kernelspec": {
   "display_name": "Python 3",
   "language": "python",
   "name": "python3"
  },
  "language_info": {
   "codemirror_mode": {
    "name": "ipython",
    "version": 3
   },
   "file_extension": ".py",
   "mimetype": "text/x-python",
   "name": "python",
   "nbconvert_exporter": "python",
   "pygments_lexer": "ipython3",
   "version": "3.7.6"
  }
 },
 "nbformat": 4,
 "nbformat_minor": 4
}
