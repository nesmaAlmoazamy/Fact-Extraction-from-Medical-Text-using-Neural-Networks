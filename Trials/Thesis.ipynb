{
 "cells": [
  {
   "cell_type": "code",
   "execution_count": 3,
   "metadata": {},
   "outputs": [],
   "source": [
    "import csv\n",
    "import pandas as pd"
   ]
  },
  {
   "cell_type": "code",
   "execution_count": 27,
   "metadata": {},
   "outputs": [
    {
     "name": "stdout",
     "output_type": "stream",
     "text": [
      "Processing c:\\users\\kasutaja\\appdata\\local\\pip\\cache\\wheels\\76\\03\\bb\\589d421d27431bcd2c6da284d5f2286c8e3b2ea3cf1594c074\\sklearn-0.0-py2.py3-none-any.whl\n",
      "Collecting scikit-learn\n",
      "  Using cached scikit_learn-0.22.1-cp37-cp37m-win_amd64.whl (6.3 MB)\n",
      "Requirement already satisfied: scipy>=0.17.0 in c:\\users\\kasutaja\\anaconda3\\envs\\myenv\\lib\\site-packages (from scikit-learn->sklearn) (1.4.1)\n",
      "Requirement already satisfied: numpy>=1.11.0 in c:\\users\\kasutaja\\anaconda3\\envs\\myenv\\lib\\site-packages (from scikit-learn->sklearn) (1.18.1)\n",
      "Collecting joblib>=0.11\n",
      "  Downloading joblib-0.14.1-py2.py3-none-any.whl (294 kB)\n",
      "Installing collected packages: joblib, scikit-learn, sklearn\n",
      "Successfully installed joblib-0.14.1 scikit-learn-0.22.1 sklearn-0.0\n"
     ]
    }
   ],
   "source": [
    "!pip install sklearn"
   ]
  },
  {
   "cell_type": "code",
   "execution_count": 4,
   "metadata": {},
   "outputs": [],
   "source": [
    "extract = pd.read_csv(\"egcut_epi_nesma_extracted_features_example.csv\",header=None)"
   ]
  },
  {
   "cell_type": "code",
   "execution_count": 5,
   "metadata": {},
   "outputs": [
    {
     "data": {
      "text/html": [
       "<div>\n",
       "<style scoped>\n",
       "    .dataframe tbody tr th:only-of-type {\n",
       "        vertical-align: middle;\n",
       "    }\n",
       "\n",
       "    .dataframe tbody tr th {\n",
       "        vertical-align: top;\n",
       "    }\n",
       "\n",
       "    .dataframe thead th {\n",
       "        text-align: right;\n",
       "    }\n",
       "</style>\n",
       "<table border=\"1\" class=\"dataframe\">\n",
       "  <thead>\n",
       "    <tr style=\"text-align: right;\">\n",
       "      <th></th>\n",
       "      <th>text_ID</th>\n",
       "      <th>start</th>\n",
       "      <th>end</th>\n",
       "      <th>object</th>\n",
       "      <th>value</th>\n",
       "      <th>unit</th>\n",
       "      <th>min</th>\n",
       "      <th>max</th>\n",
       "    </tr>\n",
       "  </thead>\n",
       "  <tbody>\n",
       "    <tr>\n",
       "      <th>0</th>\n",
       "      <td>46809</td>\n",
       "      <td>0</td>\n",
       "      <td>6</td>\n",
       "      <td>RR</td>\n",
       "      <td>130.0</td>\n",
       "      <td>NaN</td>\n",
       "      <td>NaN</td>\n",
       "      <td>NaN</td>\n",
       "    </tr>\n",
       "    <tr>\n",
       "      <th>1</th>\n",
       "      <td>45389</td>\n",
       "      <td>165</td>\n",
       "      <td>171</td>\n",
       "      <td>RR</td>\n",
       "      <td>110.0</td>\n",
       "      <td>NaN</td>\n",
       "      <td>NaN</td>\n",
       "      <td>NaN</td>\n",
       "    </tr>\n",
       "    <tr>\n",
       "      <th>2</th>\n",
       "      <td>47482</td>\n",
       "      <td>0</td>\n",
       "      <td>5</td>\n",
       "      <td>RR</td>\n",
       "      <td>142.0</td>\n",
       "      <td>NaN</td>\n",
       "      <td>NaN</td>\n",
       "      <td>NaN</td>\n",
       "    </tr>\n",
       "    <tr>\n",
       "      <th>3</th>\n",
       "      <td>53393</td>\n",
       "      <td>0</td>\n",
       "      <td>5</td>\n",
       "      <td>RR</td>\n",
       "      <td>143.0</td>\n",
       "      <td>NaN</td>\n",
       "      <td>NaN</td>\n",
       "      <td>NaN</td>\n",
       "    </tr>\n",
       "    <tr>\n",
       "      <th>4</th>\n",
       "      <td>53571</td>\n",
       "      <td>0</td>\n",
       "      <td>6</td>\n",
       "      <td>RR</td>\n",
       "      <td>140.0</td>\n",
       "      <td>NaN</td>\n",
       "      <td>NaN</td>\n",
       "      <td>NaN</td>\n",
       "    </tr>\n",
       "  </tbody>\n",
       "</table>\n",
       "</div>"
      ],
      "text/plain": [
       "   text_ID  start  end object  value unit  min  max\n",
       "0    46809      0    6     RR  130.0  NaN  NaN  NaN\n",
       "1    45389    165  171     RR  110.0  NaN  NaN  NaN\n",
       "2    47482      0    5     RR  142.0  NaN  NaN  NaN\n",
       "3    53393      0    5     RR  143.0  NaN  NaN  NaN\n",
       "4    53571      0    6     RR  140.0  NaN  NaN  NaN"
      ]
     },
     "execution_count": 5,
     "metadata": {},
     "output_type": "execute_result"
    }
   ],
   "source": [
    "extract.columns = [\"text_ID\",\"start\",\"end\",\"object\",\"value\",\"unit\",\"min\",\"max\"]\n",
    "\n",
    "extract.head()"
   ]
  },
  {
   "cell_type": "code",
   "execution_count": 6,
   "metadata": {},
   "outputs": [],
   "source": [
    "text = pd.read_csv(\"egcut_epi_nesma_texts_example.csv\",header=None)"
   ]
  },
  {
   "cell_type": "code",
   "execution_count": 7,
   "metadata": {},
   "outputs": [
    {
     "data": {
      "text/html": [
       "<div>\n",
       "<style scoped>\n",
       "    .dataframe tbody tr th:only-of-type {\n",
       "        vertical-align: middle;\n",
       "    }\n",
       "\n",
       "    .dataframe tbody tr th {\n",
       "        vertical-align: top;\n",
       "    }\n",
       "\n",
       "    .dataframe thead th {\n",
       "        text-align: right;\n",
       "    }\n",
       "</style>\n",
       "<table border=\"1\" class=\"dataframe\">\n",
       "  <thead>\n",
       "    <tr style=\"text-align: right;\">\n",
       "      <th></th>\n",
       "      <th>text_ID</th>\n",
       "      <th>text</th>\n",
       "    </tr>\n",
       "  </thead>\n",
       "  <tbody>\n",
       "    <tr>\n",
       "      <th>0</th>\n",
       "      <td>347474</td>\n",
       "      <td>\\nRR 132/84  \\n\\n</td>\n",
       "    </tr>\n",
       "    <tr>\n",
       "      <th>1</th>\n",
       "      <td>46809</td>\n",
       "      <td>RR 130/80 mmHg.</td>\n",
       "    </tr>\n",
       "    <tr>\n",
       "      <th>2</th>\n",
       "      <td>45389</td>\n",
       "      <td>Kergelt liigkaaluline. Nahk, limaskestad taval...</td>\n",
       "    </tr>\n",
       "    <tr>\n",
       "      <th>3</th>\n",
       "      <td>47482</td>\n",
       "      <td>RR142/89mmHg, HR 76 x min, p167cm, k89kg.  EKG...</td>\n",
       "    </tr>\n",
       "    <tr>\n",
       "      <th>4</th>\n",
       "      <td>53393</td>\n",
       "      <td>RR143/87mmHg, HR60 x min, p180cm, k93kg</td>\n",
       "    </tr>\n",
       "  </tbody>\n",
       "</table>\n",
       "</div>"
      ],
      "text/plain": [
       "   text_ID                                               text\n",
       "0   347474                                  \\nRR 132/84  \\n\\n\n",
       "1    46809                                    RR 130/80 mmHg.\n",
       "2    45389  Kergelt liigkaaluline. Nahk, limaskestad taval...\n",
       "3    47482  RR142/89mmHg, HR 76 x min, p167cm, k89kg.  EKG...\n",
       "4    53393            RR143/87mmHg, HR60 x min, p180cm, k93kg"
      ]
     },
     "execution_count": 7,
     "metadata": {},
     "output_type": "execute_result"
    }
   ],
   "source": [
    "text.columns = [\"text_ID\",\"text\"]\n",
    "text.head()"
   ]
  },
  {
   "cell_type": "code",
   "execution_count": 8,
   "metadata": {},
   "outputs": [
    {
     "data": {
      "text/plain": [
       "428132     61\n",
       "440167     31\n",
       "284004     28\n",
       "179052     28\n",
       "1118428    25\n",
       "           ..\n",
       "1644002     1\n",
       "356033      1\n",
       "539481      1\n",
       "429757      1\n",
       "804663      1\n",
       "Name: text_ID, Length: 121535, dtype: int64"
      ]
     },
     "execution_count": 8,
     "metadata": {},
     "output_type": "execute_result"
    }
   ],
   "source": [
    "text.text_ID.value_counts()"
   ]
  },
  {
   "cell_type": "code",
   "execution_count": 9,
   "metadata": {},
   "outputs": [],
   "source": [
    "text = text.drop_duplicates(subset='text_ID', keep='first')"
   ]
  },
  {
   "cell_type": "code",
   "execution_count": 10,
   "metadata": {},
   "outputs": [
    {
     "data": {
      "text/plain": [
       "121535"
      ]
     },
     "execution_count": 10,
     "metadata": {},
     "output_type": "execute_result"
    }
   ],
   "source": [
    "len(text)"
   ]
  },
  {
   "cell_type": "code",
   "execution_count": 11,
   "metadata": {},
   "outputs": [
    {
     "data": {
      "text/plain": [
       "185888"
      ]
     },
     "execution_count": 11,
     "metadata": {},
     "output_type": "execute_result"
    }
   ],
   "source": [
    "len(extract)"
   ]
  },
  {
   "cell_type": "code",
   "execution_count": 12,
   "metadata": {},
   "outputs": [],
   "source": [
    "DS = pd.merge(extract, text, how=\"left\", on='text_ID')"
   ]
  },
  {
   "cell_type": "code",
   "execution_count": 13,
   "metadata": {},
   "outputs": [
    {
     "data": {
      "text/plain": [
       "185888"
      ]
     },
     "execution_count": 13,
     "metadata": {},
     "output_type": "execute_result"
    }
   ],
   "source": [
    "len(DS)"
   ]
  },
  {
   "cell_type": "code",
   "execution_count": 14,
   "metadata": {},
   "outputs": [
    {
     "data": {
      "text/html": [
       "<div>\n",
       "<style scoped>\n",
       "    .dataframe tbody tr th:only-of-type {\n",
       "        vertical-align: middle;\n",
       "    }\n",
       "\n",
       "    .dataframe tbody tr th {\n",
       "        vertical-align: top;\n",
       "    }\n",
       "\n",
       "    .dataframe thead th {\n",
       "        text-align: right;\n",
       "    }\n",
       "</style>\n",
       "<table border=\"1\" class=\"dataframe\">\n",
       "  <thead>\n",
       "    <tr style=\"text-align: right;\">\n",
       "      <th></th>\n",
       "      <th>text_ID</th>\n",
       "      <th>start</th>\n",
       "      <th>end</th>\n",
       "      <th>object</th>\n",
       "      <th>value</th>\n",
       "      <th>unit</th>\n",
       "      <th>min</th>\n",
       "      <th>max</th>\n",
       "      <th>text</th>\n",
       "    </tr>\n",
       "  </thead>\n",
       "  <tbody>\n",
       "    <tr>\n",
       "      <th>0</th>\n",
       "      <td>46809</td>\n",
       "      <td>0</td>\n",
       "      <td>6</td>\n",
       "      <td>RR</td>\n",
       "      <td>130.0</td>\n",
       "      <td>NaN</td>\n",
       "      <td>NaN</td>\n",
       "      <td>NaN</td>\n",
       "      <td>RR 130/80 mmHg.</td>\n",
       "    </tr>\n",
       "    <tr>\n",
       "      <th>1</th>\n",
       "      <td>45389</td>\n",
       "      <td>165</td>\n",
       "      <td>171</td>\n",
       "      <td>RR</td>\n",
       "      <td>110.0</td>\n",
       "      <td>NaN</td>\n",
       "      <td>NaN</td>\n",
       "      <td>NaN</td>\n",
       "      <td>Kergelt liigkaaluline. Nahk, limaskestad taval...</td>\n",
       "    </tr>\n",
       "    <tr>\n",
       "      <th>2</th>\n",
       "      <td>47482</td>\n",
       "      <td>0</td>\n",
       "      <td>5</td>\n",
       "      <td>RR</td>\n",
       "      <td>142.0</td>\n",
       "      <td>NaN</td>\n",
       "      <td>NaN</td>\n",
       "      <td>NaN</td>\n",
       "      <td>RR142/89mmHg, HR 76 x min, p167cm, k89kg.  EKG...</td>\n",
       "    </tr>\n",
       "    <tr>\n",
       "      <th>3</th>\n",
       "      <td>53393</td>\n",
       "      <td>0</td>\n",
       "      <td>5</td>\n",
       "      <td>RR</td>\n",
       "      <td>143.0</td>\n",
       "      <td>NaN</td>\n",
       "      <td>NaN</td>\n",
       "      <td>NaN</td>\n",
       "      <td>RR143/87mmHg, HR60 x min, p180cm, k93kg</td>\n",
       "    </tr>\n",
       "    <tr>\n",
       "      <th>4</th>\n",
       "      <td>53571</td>\n",
       "      <td>0</td>\n",
       "      <td>6</td>\n",
       "      <td>RR</td>\n",
       "      <td>140.0</td>\n",
       "      <td>NaN</td>\n",
       "      <td>NaN</td>\n",
       "      <td>NaN</td>\n",
       "      <td>RR 140/74 mm Hg Cor fr. 62 UH uuringul kaela a...</td>\n",
       "    </tr>\n",
       "  </tbody>\n",
       "</table>\n",
       "</div>"
      ],
      "text/plain": [
       "   text_ID  start  end object  value unit  min  max  \\\n",
       "0    46809      0    6     RR  130.0  NaN  NaN  NaN   \n",
       "1    45389    165  171     RR  110.0  NaN  NaN  NaN   \n",
       "2    47482      0    5     RR  142.0  NaN  NaN  NaN   \n",
       "3    53393      0    5     RR  143.0  NaN  NaN  NaN   \n",
       "4    53571      0    6     RR  140.0  NaN  NaN  NaN   \n",
       "\n",
       "                                                text  \n",
       "0                                    RR 130/80 mmHg.  \n",
       "1  Kergelt liigkaaluline. Nahk, limaskestad taval...  \n",
       "2  RR142/89mmHg, HR 76 x min, p167cm, k89kg.  EKG...  \n",
       "3            RR143/87mmHg, HR60 x min, p180cm, k93kg  \n",
       "4  RR 140/74 mm Hg Cor fr. 62 UH uuringul kaela a...  "
      ]
     },
     "execution_count": 14,
     "metadata": {},
     "output_type": "execute_result"
    }
   ],
   "source": [
    "DS.head()"
   ]
  },
  {
   "cell_type": "code",
   "execution_count": 15,
   "metadata": {},
   "outputs": [
    {
     "data": {
      "text/plain": [
       "text_ID         0\n",
       "start           0\n",
       "end             0\n",
       "object          0\n",
       "value           0\n",
       "unit       166347\n",
       "min        185137\n",
       "max        180579\n",
       "text            0\n",
       "dtype: int64"
      ]
     },
     "execution_count": 15,
     "metadata": {},
     "output_type": "execute_result"
    }
   ],
   "source": [
    "DS.isna().sum()"
   ]
  },
  {
   "cell_type": "code",
   "execution_count": 16,
   "metadata": {},
   "outputs": [
    {
     "data": {
      "text/plain": [
       "RR        138495\n",
       "eGFR       25406\n",
       "Pikkus     21987\n",
       "Name: object, dtype: int64"
      ]
     },
     "execution_count": 16,
     "metadata": {},
     "output_type": "execute_result"
    }
   ],
   "source": [
    "DS.object.value_counts()"
   ]
  },
  {
   "cell_type": "code",
   "execution_count": 17,
   "metadata": {},
   "outputs": [
    {
     "data": {
      "text/plain": [
       "array(['RR', 'Pikkus', 'eGFR'], dtype=object)"
      ]
     },
     "execution_count": 17,
     "metadata": {},
     "output_type": "execute_result"
    }
   ],
   "source": [
    "DS[\"object\"].unique()"
   ]
  },
  {
   "cell_type": "code",
   "execution_count": 18,
   "metadata": {},
   "outputs": [
    {
     "data": {
      "text/plain": [
       "428132     61\n",
       "440167     31\n",
       "284004     28\n",
       "179052     28\n",
       "1118428    25\n",
       "           ..\n",
       "345576      1\n",
       "89579       1\n",
       "427708      1\n",
       "99824       1\n",
       "1221283     1\n",
       "Name: text_ID, Length: 121535, dtype: int64"
      ]
     },
     "execution_count": 18,
     "metadata": {},
     "output_type": "execute_result"
    }
   ],
   "source": [
    "DS.text_ID.value_counts()"
   ]
  },
  {
   "cell_type": "code",
   "execution_count": 19,
   "metadata": {},
   "outputs": [
    {
     "data": {
      "text/html": [
       "<div>\n",
       "<style scoped>\n",
       "    .dataframe tbody tr th:only-of-type {\n",
       "        vertical-align: middle;\n",
       "    }\n",
       "\n",
       "    .dataframe tbody tr th {\n",
       "        vertical-align: top;\n",
       "    }\n",
       "\n",
       "    .dataframe thead th {\n",
       "        text-align: right;\n",
       "    }\n",
       "</style>\n",
       "<table border=\"1\" class=\"dataframe\">\n",
       "  <thead>\n",
       "    <tr style=\"text-align: right;\">\n",
       "      <th></th>\n",
       "      <th>text_ID</th>\n",
       "      <th>start</th>\n",
       "      <th>end</th>\n",
       "      <th>object</th>\n",
       "      <th>value</th>\n",
       "      <th>unit</th>\n",
       "      <th>min</th>\n",
       "      <th>max</th>\n",
       "      <th>text</th>\n",
       "    </tr>\n",
       "  </thead>\n",
       "  <tbody>\n",
       "    <tr>\n",
       "      <th>0</th>\n",
       "      <td>46809</td>\n",
       "      <td>0</td>\n",
       "      <td>6</td>\n",
       "      <td>RR</td>\n",
       "      <td>130.0</td>\n",
       "      <td>NaN</td>\n",
       "      <td>NaN</td>\n",
       "      <td>NaN</td>\n",
       "      <td>RR 130/80 mmHg.</td>\n",
       "    </tr>\n",
       "    <tr>\n",
       "      <th>1</th>\n",
       "      <td>45389</td>\n",
       "      <td>165</td>\n",
       "      <td>171</td>\n",
       "      <td>RR</td>\n",
       "      <td>110.0</td>\n",
       "      <td>NaN</td>\n",
       "      <td>NaN</td>\n",
       "      <td>NaN</td>\n",
       "      <td>Kergelt liigkaaluline. Nahk, limaskestad taval...</td>\n",
       "    </tr>\n",
       "    <tr>\n",
       "      <th>2</th>\n",
       "      <td>47482</td>\n",
       "      <td>0</td>\n",
       "      <td>5</td>\n",
       "      <td>RR</td>\n",
       "      <td>142.0</td>\n",
       "      <td>NaN</td>\n",
       "      <td>NaN</td>\n",
       "      <td>NaN</td>\n",
       "      <td>RR142/89mmHg, HR 76 x min, p167cm, k89kg.  EKG...</td>\n",
       "    </tr>\n",
       "    <tr>\n",
       "      <th>3</th>\n",
       "      <td>53393</td>\n",
       "      <td>0</td>\n",
       "      <td>5</td>\n",
       "      <td>RR</td>\n",
       "      <td>143.0</td>\n",
       "      <td>NaN</td>\n",
       "      <td>NaN</td>\n",
       "      <td>NaN</td>\n",
       "      <td>RR143/87mmHg, HR60 x min, p180cm, k93kg</td>\n",
       "    </tr>\n",
       "    <tr>\n",
       "      <th>4</th>\n",
       "      <td>53571</td>\n",
       "      <td>0</td>\n",
       "      <td>6</td>\n",
       "      <td>RR</td>\n",
       "      <td>140.0</td>\n",
       "      <td>NaN</td>\n",
       "      <td>NaN</td>\n",
       "      <td>NaN</td>\n",
       "      <td>RR 140/74 mm Hg Cor fr. 62 UH uuringul kaela a...</td>\n",
       "    </tr>\n",
       "  </tbody>\n",
       "</table>\n",
       "</div>"
      ],
      "text/plain": [
       "   text_ID  start  end object  value unit  min  max  \\\n",
       "0    46809      0    6     RR  130.0  NaN  NaN  NaN   \n",
       "1    45389    165  171     RR  110.0  NaN  NaN  NaN   \n",
       "2    47482      0    5     RR  142.0  NaN  NaN  NaN   \n",
       "3    53393      0    5     RR  143.0  NaN  NaN  NaN   \n",
       "4    53571      0    6     RR  140.0  NaN  NaN  NaN   \n",
       "\n",
       "                                                text  \n",
       "0                                    RR 130/80 mmHg.  \n",
       "1  Kergelt liigkaaluline. Nahk, limaskestad taval...  \n",
       "2  RR142/89mmHg, HR 76 x min, p167cm, k89kg.  EKG...  \n",
       "3            RR143/87mmHg, HR60 x min, p180cm, k93kg  \n",
       "4  RR 140/74 mm Hg Cor fr. 62 UH uuringul kaela a...  "
      ]
     },
     "execution_count": 19,
     "metadata": {},
     "output_type": "execute_result"
    }
   ],
   "source": [
    "DS.head()"
   ]
  },
  {
   "cell_type": "code",
   "execution_count": 20,
   "metadata": {},
   "outputs": [],
   "source": [
    "# X = DS.loc[:, DS.columns != 'object']\n",
    "X = DS.text\n",
    "Y = DS.object"
   ]
  },
  {
   "cell_type": "code",
   "execution_count": 28,
   "metadata": {},
   "outputs": [],
   "source": [
    "import numpy as np\n",
    "from keras.utils import np_utils\n",
    "\n",
    "import matplotlib.pyplot as plt\n",
    "from keras.layers import GRU,Dropout,BatchNormalization\n",
    "from sklearn.model_selection import train_test_split\n",
    "import keras\n",
    "from keras.preprocessing.sequence import pad_sequences\n",
    "from sklearn.preprocessing import LabelEncoder\n",
    "from keras.preprocessing.text import Tokenizer\n",
    "\n",
    "%matplotlib inline"
   ]
  },
  {
   "cell_type": "code",
   "execution_count": 29,
   "metadata": {},
   "outputs": [],
   "source": [
    "def plot_history(history):\n",
    "    acc = history.history['acc']\n",
    "    val_acc = history.history['val_acc']\n",
    "    loss = history.history['loss']\n",
    "    val_loss = history.history['val_loss']\n",
    "    x = range(1, len(acc) + 1)\n",
    "\n",
    "    plt.figure(figsize=(12, 5))\n",
    "    plt.subplot(1, 2, 1)\n",
    "    plt.plot(x, acc, 'b', label='Training acc')\n",
    "    plt.plot(x, val_acc, 'r', label='Validation acc')\n",
    "    plt.title('Training and validation accuracy')\n",
    "    plt.legend()\n",
    "    plt.subplot(1, 2, 2)\n",
    "    plt.plot(x, loss, 'b', label='Training loss')\n",
    "    plt.plot(x, val_loss, 'r', label='Validation loss')\n",
    "    plt.title('Training and validation loss')\n",
    "    plt.legend()"
   ]
  },
  {
   "cell_type": "code",
   "execution_count": 30,
   "metadata": {},
   "outputs": [],
   "source": [
    "shape = 3\n",
    "encoder = LabelEncoder()\n",
    "encoder.fit(Y)\n",
    "\n",
    "Xtrain, Xtest, Ytrain, Ytest = train_test_split(X, Y, test_size=0.2, random_state=1,stratify = Y)\n",
    "\n",
    "Xtrain, Xval, Ytrain, Yval = train_test_split(Xtrain, Ytrain, test_size=0.25, random_state=1,stratify = Ytrain)\n",
    "\n"
   ]
  },
  {
   "cell_type": "code",
   "execution_count": 31,
   "metadata": {},
   "outputs": [
    {
     "data": {
      "text/plain": [
       "111532"
      ]
     },
     "execution_count": 31,
     "metadata": {},
     "output_type": "execute_result"
    }
   ],
   "source": [
    "len(Xtrain)"
   ]
  },
  {
   "cell_type": "code",
   "execution_count": 32,
   "metadata": {},
   "outputs": [],
   "source": [
    "Ytrain = encoder.transform(Ytrain)\n",
    "Ytest = encoder.transform(Ytest)\n",
    "Yval = encoder.transform(Yval)\n",
    "\n",
    "Ytrain = np_utils.to_categorical(Ytrain)\n",
    "Ytest = np_utils.to_categorical(Ytest)\n",
    "Yval = np_utils.to_categorical(Yval)\n",
    "\n"
   ]
  },
  {
   "cell_type": "code",
   "execution_count": 33,
   "metadata": {},
   "outputs": [],
   "source": [
    "tokenizer = Tokenizer(num_words=5000)\n",
    "tokenizer.fit_on_texts(Xtrain)\n",
    "\n",
    "Xtrain = tokenizer.texts_to_sequences(Xtrain)\n",
    "Xtest = tokenizer.texts_to_sequences(Xtest)\n",
    "Xval = tokenizer.texts_to_sequences(Xval)\n",
    "vocab_size = len(tokenizer.word_index) + 1  # Adding 1 because of reserved 0 index\n",
    "\n"
   ]
  },
  {
   "cell_type": "code",
   "execution_count": 34,
   "metadata": {},
   "outputs": [],
   "source": [
    "maxlen = 1000\n",
    "\n",
    "Xtrain = pad_sequences(Xtrain, padding='post', maxlen=maxlen)\n",
    "Xtest = pad_sequences(Xtest, padding='post', maxlen=maxlen)\n",
    "Xval = pad_sequences(Xval, padding='post', maxlen=maxlen)\n",
    "\n"
   ]
  },
  {
   "cell_type": "code",
   "execution_count": 35,
   "metadata": {},
   "outputs": [
    {
     "name": "stdout",
     "output_type": "stream",
     "text": [
      "Model: \"sequential_1\"\n",
      "_________________________________________________________________\n",
      "Layer (type)                 Output Shape              Param #   \n",
      "=================================================================\n",
      "embedding_1 (Embedding)      (None, 1000, 50)          15273550  \n",
      "_________________________________________________________________\n",
      "gru_1 (GRU)                  (None, 256)               235776    \n",
      "_________________________________________________________________\n",
      "dropout_1 (Dropout)          (None, 256)               0         \n",
      "_________________________________________________________________\n",
      "dense_1 (Dense)              (None, 3)                 771       \n",
      "=================================================================\n",
      "Total params: 15,510,097\n",
      "Trainable params: 15,510,097\n",
      "Non-trainable params: 0\n",
      "_________________________________________________________________\n"
     ]
    }
   ],
   "source": [
    "from keras.models import Sequential\n",
    "from keras import layers\n",
    "\n",
    "embedding_dim = 50\n",
    "\n",
    "model = Sequential()\n",
    "model.add(layers.Embedding(input_dim=vocab_size, \n",
    "                           output_dim=embedding_dim, \n",
    "                           input_length=maxlen))\n",
    "model.add(GRU(256))\n",
    "model.add(Dropout(0.1))\n",
    "model.add(layers.Dense(shape, activation='sigmoid'))\n",
    "model.compile(optimizer='adam',\n",
    "              loss='categorical_crossentropy',\n",
    "              metrics=['accuracy'])\n",
    "model.summary()\n"
   ]
  },
  {
   "cell_type": "code",
   "execution_count": null,
   "metadata": {},
   "outputs": [
    {
     "name": "stderr",
     "output_type": "stream",
     "text": [
      "C:\\Users\\Kasutaja\\Anaconda3\\envs\\myEnv\\lib\\site-packages\\tensorflow_core\\python\\framework\\indexed_slices.py:433: UserWarning: Converting sparse IndexedSlices to a dense Tensor of unknown shape. This may consume a large amount of memory.\n",
      "  \"Converting sparse IndexedSlices to a dense Tensor of unknown shape. \"\n"
     ]
    },
    {
     "name": "stdout",
     "output_type": "stream",
     "text": [
      "Train on 111532 samples, validate on 37178 samples\n",
      "Epoch 1/10\n",
      " 25000/111532 [=====>........................] - ETA: 4:32:46 - loss: 0.8411 - accuracy: 0.7221"
     ]
    }
   ],
   "source": [
    "history = model.fit(Xtrain, Ytrain,\n",
    "                    epochs=10,\n",
    "                    verbose=True,\n",
    "                    validation_data=(Xval, Yval),batch_size=1000)\n"
   ]
  },
  {
   "cell_type": "code",
   "execution_count": null,
   "metadata": {},
   "outputs": [],
   "source": [
    "\n",
    "f= open(\"report.csv\",\"a\")\n",
    "loss, accuracy = model.evaluate(Xtrain, Ytrain, verbose=True)\n",
    "print(\"Training Accuracy: {:.4f}\".format(accuracy))\n",
    "f.write(\",{:.4f}\".format(accuracy))\n",
    "\n",
    "loss, accuracy = model.evaluate(Xval, Yval, verbose=True)\n",
    "\n",
    "print(\"Validation Accuracy:  {:.4f}\".format(accuracy))\n",
    "f.write(\",{:.4f} \\n\".format(accuracy))\n",
    "f.close()\n",
    "plot_history(history)\n",
    "Ypred = model.predict(Xtest)\n",
    "from sklearn.metrics import confusion_matrix, classification_report\n",
    "\n",
    "matrix = confusion_matrix(Ytest.argmax(axis=1), Ypred.argmax(axis=1))\n",
    "classification_Report = classification_report(Ytest.argmax(axis=1), Ypred.argmax(axis=1), output_dict=True)\n",
    "df = pd.DataFrame(classification_Report).transpose()\n",
    "df.to_csv(\"ClassificationReport.csv\")"
   ]
  },
  {
   "cell_type": "code",
   "execution_count": 82,
   "metadata": {},
   "outputs": [
    {
     "name": "stderr",
     "output_type": "stream",
     "text": [
      "/home/nesma/anaconda3/envs/basic/lib/python3.7/site-packages/IPython/core/interactiveshell.py:3051: DtypeWarning: Columns (4) have mixed types.Specify dtype option on import or set low_memory=False.\n",
      "  interactivity=interactivity, compiler=compiler, result=result)\n"
     ]
    }
   ],
   "source": [
    "full_extract = pd.read_csv(\"/home/nesma/egcut_epi_nesma_extracted_features.csv\",header=None)"
   ]
  },
  {
   "cell_type": "code",
   "execution_count": 83,
   "metadata": {},
   "outputs": [
    {
     "data": {
      "text/html": [
       "<div>\n",
       "<style scoped>\n",
       "    .dataframe tbody tr th:only-of-type {\n",
       "        vertical-align: middle;\n",
       "    }\n",
       "\n",
       "    .dataframe tbody tr th {\n",
       "        vertical-align: top;\n",
       "    }\n",
       "\n",
       "    .dataframe thead th {\n",
       "        text-align: right;\n",
       "    }\n",
       "</style>\n",
       "<table border=\"1\" class=\"dataframe\">\n",
       "  <thead>\n",
       "    <tr style=\"text-align: right;\">\n",
       "      <th></th>\n",
       "      <th>0</th>\n",
       "      <th>1</th>\n",
       "      <th>2</th>\n",
       "      <th>3</th>\n",
       "      <th>4</th>\n",
       "      <th>5</th>\n",
       "      <th>6</th>\n",
       "      <th>7</th>\n",
       "    </tr>\n",
       "  </thead>\n",
       "  <tbody>\n",
       "    <tr>\n",
       "      <th>0</th>\n",
       "      <td>46809</td>\n",
       "      <td>0</td>\n",
       "      <td>6</td>\n",
       "      <td>RR</td>\n",
       "      <td>130</td>\n",
       "      <td>NaN</td>\n",
       "      <td>NaN</td>\n",
       "      <td>NaN</td>\n",
       "    </tr>\n",
       "    <tr>\n",
       "      <th>1</th>\n",
       "      <td>43588</td>\n",
       "      <td>2421</td>\n",
       "      <td>2433</td>\n",
       "      <td>ALP</td>\n",
       "      <td>54</td>\n",
       "      <td>U/L</td>\n",
       "      <td>NaN</td>\n",
       "      <td>NaN</td>\n",
       "    </tr>\n",
       "    <tr>\n",
       "      <th>2</th>\n",
       "      <td>43050</td>\n",
       "      <td>720</td>\n",
       "      <td>735</td>\n",
       "      <td>HCT</td>\n",
       "      <td>40</td>\n",
       "      <td>%</td>\n",
       "      <td>NaN</td>\n",
       "      <td>41.2</td>\n",
       "    </tr>\n",
       "    <tr>\n",
       "      <th>3</th>\n",
       "      <td>45389</td>\n",
       "      <td>165</td>\n",
       "      <td>171</td>\n",
       "      <td>RR</td>\n",
       "      <td>110</td>\n",
       "      <td>NaN</td>\n",
       "      <td>NaN</td>\n",
       "      <td>NaN</td>\n",
       "    </tr>\n",
       "    <tr>\n",
       "      <th>4</th>\n",
       "      <td>42960</td>\n",
       "      <td>2314</td>\n",
       "      <td>2332</td>\n",
       "      <td>HCT</td>\n",
       "      <td>45</td>\n",
       "      <td>%</td>\n",
       "      <td>40.0</td>\n",
       "      <td>50.0</td>\n",
       "    </tr>\n",
       "  </tbody>\n",
       "</table>\n",
       "</div>"
      ],
      "text/plain": [
       "       0     1     2    3    4    5     6     7\n",
       "0  46809     0     6   RR  130  NaN   NaN   NaN\n",
       "1  43588  2421  2433  ALP   54  U/L   NaN   NaN\n",
       "2  43050   720   735  HCT   40    %   NaN  41.2\n",
       "3  45389   165   171   RR  110  NaN   NaN   NaN\n",
       "4  42960  2314  2332  HCT   45    %  40.0  50.0"
      ]
     },
     "execution_count": 83,
     "metadata": {},
     "output_type": "execute_result"
    }
   ],
   "source": [
    "full_extract.head()"
   ]
  },
  {
   "cell_type": "code",
   "execution_count": 85,
   "metadata": {},
   "outputs": [],
   "source": [
    "full_extract.columns  = [\"id\",\"start\",\"end\",\"object\",\"value\",\"unit\",\"min\",\"max\"]"
   ]
  },
  {
   "cell_type": "code",
   "execution_count": 93,
   "metadata": {},
   "outputs": [
    {
     "data": {
      "text/plain": [
       "428132     1172\n",
       "440167      472\n",
       "284004      397\n",
       "179052      397\n",
       "121117      350\n",
       "450576      310\n",
       "737895      271\n",
       "999932      265\n",
       "201723      233\n",
       "1111922     233\n",
       "438105      229\n",
       "200487      226\n",
       "966450      204\n",
       "238631      203\n",
       "213615      199\n",
       "419013      195\n",
       "288904      191\n",
       "211700      190\n",
       "325959      190\n",
       "85772       189\n",
       "Name: id, dtype: int64"
      ]
     },
     "execution_count": 93,
     "metadata": {},
     "output_type": "execute_result"
    }
   ],
   "source": [
    "full_extract[\"id\"].value_counts().head(n=20)"
   ]
  },
  {
   "cell_type": "code",
   "execution_count": 95,
   "metadata": {},
   "outputs": [
    {
     "data": {
      "text/html": [
       "<div>\n",
       "<style scoped>\n",
       "    .dataframe tbody tr th:only-of-type {\n",
       "        vertical-align: middle;\n",
       "    }\n",
       "\n",
       "    .dataframe tbody tr th {\n",
       "        vertical-align: top;\n",
       "    }\n",
       "\n",
       "    .dataframe thead th {\n",
       "        text-align: right;\n",
       "    }\n",
       "</style>\n",
       "<table border=\"1\" class=\"dataframe\">\n",
       "  <thead>\n",
       "    <tr style=\"text-align: right;\">\n",
       "      <th></th>\n",
       "      <th>id</th>\n",
       "      <th>start</th>\n",
       "      <th>end</th>\n",
       "      <th>object</th>\n",
       "      <th>value</th>\n",
       "      <th>unit</th>\n",
       "      <th>min</th>\n",
       "      <th>max</th>\n",
       "    </tr>\n",
       "  </thead>\n",
       "  <tbody>\n",
       "    <tr>\n",
       "      <th>94143</th>\n",
       "      <td>85772</td>\n",
       "      <td>813</td>\n",
       "      <td>841</td>\n",
       "      <td>Lümfotsüüdid</td>\n",
       "      <td>7.5</td>\n",
       "      <td>%</td>\n",
       "      <td>20.0</td>\n",
       "      <td>40.0</td>\n",
       "    </tr>\n",
       "    <tr>\n",
       "      <th>94144</th>\n",
       "      <td>85772</td>\n",
       "      <td>845</td>\n",
       "      <td>878</td>\n",
       "      <td>Neutrofiilid</td>\n",
       "      <td>86.5</td>\n",
       "      <td>%</td>\n",
       "      <td>40.0</td>\n",
       "      <td>75.0</td>\n",
       "    </tr>\n",
       "    <tr>\n",
       "      <th>94145</th>\n",
       "      <td>85772</td>\n",
       "      <td>897</td>\n",
       "      <td>924</td>\n",
       "      <td>neutrofiilid</td>\n",
       "      <td>78</td>\n",
       "      <td>%</td>\n",
       "      <td>40.0</td>\n",
       "      <td>80.0</td>\n",
       "    </tr>\n",
       "    <tr>\n",
       "      <th>94146</th>\n",
       "      <td>85772</td>\n",
       "      <td>940</td>\n",
       "      <td>966</td>\n",
       "      <td>neutrofiilid</td>\n",
       "      <td>8</td>\n",
       "      <td>%</td>\n",
       "      <td>0.0</td>\n",
       "      <td>5.0</td>\n",
       "    </tr>\n",
       "    <tr>\n",
       "      <th>94147</th>\n",
       "      <td>85772</td>\n",
       "      <td>132</td>\n",
       "      <td>139</td>\n",
       "      <td>CRP</td>\n",
       "      <td>330</td>\n",
       "      <td>NaN</td>\n",
       "      <td>NaN</td>\n",
       "      <td>NaN</td>\n",
       "    </tr>\n",
       "    <tr>\n",
       "      <th>...</th>\n",
       "      <td>...</td>\n",
       "      <td>...</td>\n",
       "      <td>...</td>\n",
       "      <td>...</td>\n",
       "      <td>...</td>\n",
       "      <td>...</td>\n",
       "      <td>...</td>\n",
       "      <td>...</td>\n",
       "    </tr>\n",
       "    <tr>\n",
       "      <th>98809</th>\n",
       "      <td>85772</td>\n",
       "      <td>293</td>\n",
       "      <td>317</td>\n",
       "      <td>MCHC</td>\n",
       "      <td>317</td>\n",
       "      <td>g/L</td>\n",
       "      <td>317.0</td>\n",
       "      <td>357.0</td>\n",
       "    </tr>\n",
       "    <tr>\n",
       "      <th>98810</th>\n",
       "      <td>85772</td>\n",
       "      <td>321</td>\n",
       "      <td>340</td>\n",
       "      <td>PLT</td>\n",
       "      <td>523</td>\n",
       "      <td>NaN</td>\n",
       "      <td>145.0</td>\n",
       "      <td>390.0</td>\n",
       "    </tr>\n",
       "    <tr>\n",
       "      <th>98811</th>\n",
       "      <td>85772</td>\n",
       "      <td>201</td>\n",
       "      <td>222</td>\n",
       "      <td>WBC</td>\n",
       "      <td>12</td>\n",
       "      <td>NaN</td>\n",
       "      <td>3.5</td>\n",
       "      <td>8.8</td>\n",
       "    </tr>\n",
       "    <tr>\n",
       "      <th>98812</th>\n",
       "      <td>85772</td>\n",
       "      <td>231</td>\n",
       "      <td>251</td>\n",
       "      <td>RBC</td>\n",
       "      <td>2.95</td>\n",
       "      <td>NaN</td>\n",
       "      <td>3.9</td>\n",
       "      <td>5.2</td>\n",
       "    </tr>\n",
       "    <tr>\n",
       "      <th>98813</th>\n",
       "      <td>85772</td>\n",
       "      <td>261</td>\n",
       "      <td>283</td>\n",
       "      <td>HGB</td>\n",
       "      <td>96</td>\n",
       "      <td>g/L</td>\n",
       "      <td>117.0</td>\n",
       "      <td>153.0</td>\n",
       "    </tr>\n",
       "  </tbody>\n",
       "</table>\n",
       "<p>189 rows × 8 columns</p>\n",
       "</div>"
      ],
      "text/plain": [
       "          id  start  end        object value unit    min    max\n",
       "94143  85772    813  841  Lümfotsüüdid   7.5    %   20.0   40.0\n",
       "94144  85772    845  878  Neutrofiilid  86.5    %   40.0   75.0\n",
       "94145  85772    897  924  neutrofiilid    78    %   40.0   80.0\n",
       "94146  85772    940  966  neutrofiilid     8    %    0.0    5.0\n",
       "94147  85772    132  139           CRP   330  NaN    NaN    NaN\n",
       "...      ...    ...  ...           ...   ...  ...    ...    ...\n",
       "98809  85772    293  317          MCHC   317  g/L  317.0  357.0\n",
       "98810  85772    321  340           PLT   523  NaN  145.0  390.0\n",
       "98811  85772    201  222           WBC    12  NaN    3.5    8.8\n",
       "98812  85772    231  251           RBC  2.95  NaN    3.9    5.2\n",
       "98813  85772    261  283           HGB    96  g/L  117.0  153.0\n",
       "\n",
       "[189 rows x 8 columns]"
      ]
     },
     "execution_count": 95,
     "metadata": {},
     "output_type": "execute_result"
    }
   ],
   "source": [
    " full_extract[full_extract[\"id\"] == 85772]"
   ]
  },
  {
   "cell_type": "code",
   "execution_count": 103,
   "metadata": {},
   "outputs": [],
   "source": [
    "pd.set_option('display.max_colwidth', 1)\n"
   ]
  },
  {
   "cell_type": "code",
   "execution_count": 106,
   "metadata": {},
   "outputs": [
    {
     "data": {
      "text/html": [
       "<div>\n",
       "<style scoped>\n",
       "    .dataframe tbody tr th:only-of-type {\n",
       "        vertical-align: middle;\n",
       "    }\n",
       "\n",
       "    .dataframe tbody tr th {\n",
       "        vertical-align: top;\n",
       "    }\n",
       "\n",
       "    .dataframe thead th {\n",
       "        text-align: right;\n",
       "    }\n",
       "</style>\n",
       "<table border=\"1\" class=\"dataframe\">\n",
       "  <thead>\n",
       "    <tr style=\"text-align: right;\">\n",
       "      <th></th>\n",
       "      <th>text_ID</th>\n",
       "      <th>start</th>\n",
       "      <th>end</th>\n",
       "      <th>object</th>\n",
       "      <th>value</th>\n",
       "      <th>unit</th>\n",
       "      <th>min</th>\n",
       "      <th>max</th>\n",
       "      <th>text</th>\n",
       "    </tr>\n",
       "  </thead>\n",
       "  <tbody>\n",
       "    <tr>\n",
       "      <th>85772</th>\n",
       "      <td>230794</td>\n",
       "      <td>96</td>\n",
       "      <td>111</td>\n",
       "      <td>Pikkus</td>\n",
       "      <td>173.0</td>\n",
       "      <td>cm</td>\n",
       "      <td>NaN</td>\n",
       "      <td>NaN</td>\n",
       "      <td>18.11.2014 -  õde &lt;ANONYM id=\"0\" type=\"per\" morph=\"_H_ sg n;_H_ sg n\"/&gt;\\n\\nRR:  110/60  mmHg\\nKaal:  68,5  kg\\nPikkus: 173  cm\\nVÜM: 86 cm\\nKMI:  23\\nSuitsetamine: ei\\n18.11.2014 -  REFRAKTSIOON    sph    cyl    ax\\n                        OD -2,25 -0,25 18\\n                        OS -2,0 -0,5 39\\n\\nVISUS KAUGELE                                      \\noma prilliga                            \\nOD    cc -1,25 -0,5 90 1,0\\nOS  cc -1,25 -0,5 60 1,0\\n\\nMõlemad silmad :   cc 1,0\\n\\nVISUS LÄHEDALE  \\nKORREKTSIOONITA  / - GA\\nOD                                 \\nOS               \\nMõlemad silmad: 0,8\\n\\n18.11.2014 -  Üldseisund hea.\\n Nahk ja lim.kestad puhtad. \\n Visuaalselt kilpn suurenenud\\nSüdame tegevus regulaarne, toonid puhtad.\\nKopsudes bilater vesikul. hingamiskahin\\nLuu-lihassüst-patol.leiuta. Laseque bilater 90° \\nLülisamba liikuvus nimmest N, õla- küünar- ja randmeliigeste liikuvus N, liigutused valuvabad.\\nPasternatski smptm.bilater.negat.\\nParavertebraalsed np-d palpatoorselt valutud C ja Th.pk-s\\nVeenilaiendeid ei esine\\n Tunnelsündroomid (Tinel, Phalen) bilater negat.\\nKPR d=s\\nEKG: regul SR fr.68  x min, N de ja repolarisatsiooni voltaaz,semiverik el posits. ES-, N  EKG.\\n\\n\\n.</td>\n",
       "    </tr>\n",
       "  </tbody>\n",
       "</table>\n",
       "</div>"
      ],
      "text/plain": [
       "       text_ID  start  end  object  value unit  min  max  \\\n",
       "85772  230794   96     111  Pikkus  173.0  cm  NaN  NaN    \n",
       "\n",
       "                                                                                                                                                                                                                                                                                                                                                                                                                                                                                                                                                                                                                                                                                                                                                                                                                                                                                                                                                                                                                                                                                                                                                                                                                                                          text  \n",
       "85772  18.11.2014 -  õde <ANONYM id=\"0\" type=\"per\" morph=\"_H_ sg n;_H_ sg n\"/>\\n\\nRR:  110/60  mmHg\\nKaal:  68,5  kg\\nPikkus: 173  cm\\nVÜM: 86 cm\\nKMI:  23\\nSuitsetamine: ei\\n18.11.2014 -  REFRAKTSIOON    sph    cyl    ax\\n                        OD -2,25 -0,25 18\\n                        OS -2,0 -0,5 39\\n\\nVISUS KAUGELE                                      \\noma prilliga                            \\nOD    cc -1,25 -0,5 90 1,0\\nOS  cc -1,25 -0,5 60 1,0\\n\\nMõlemad silmad :   cc 1,0\\n\\nVISUS LÄHEDALE  \\nKORREKTSIOONITA  / - GA\\nOD                                 \\nOS               \\nMõlemad silmad: 0,8\\n\\n18.11.2014 -  Üldseisund hea.\\n Nahk ja lim.kestad puhtad. \\n Visuaalselt kilpn suurenenud\\nSüdame tegevus regulaarne, toonid puhtad.\\nKopsudes bilater vesikul. hingamiskahin\\nLuu-lihassüst-patol.leiuta. Laseque bilater 90° \\nLülisamba liikuvus nimmest N, õla- küünar- ja randmeliigeste liikuvus N, liigutused valuvabad.\\nPasternatski smptm.bilater.negat.\\nParavertebraalsed np-d palpatoorselt valutud C ja Th.pk-s\\nVeenilaiendeid ei esine\\n Tunnelsündroomid (Tinel, Phalen) bilater negat.\\nKPR d=s\\nEKG: regul SR fr.68  x min, N de ja repolarisatsiooni voltaaz,semiverik el posits. ES-, N  EKG.\\n\\n\\n.   "
      ]
     },
     "execution_count": 106,
     "metadata": {},
     "output_type": "execute_result"
    }
   ],
   "source": [
    " DS[85772:85773]"
   ]
  },
  {
   "cell_type": "code",
   "execution_count": 107,
   "metadata": {},
   "outputs": [
    {
     "name": "stdout",
     "output_type": "stream",
     "text": [
      "85772    18.11.2014 -  õde <ANONYM id=\"0\" type=\"per\" morph=\"_H_ sg n;_H_ sg n\"/>\\n\\nRR:  110/60  mmHg\\nKaal:  68,5  kg\\nPikkus: 173  cm\\nVÜM: 86 cm\\nKMI:  23\\nSuitsetamine: ei\\n18.11.2014 -  REFRAKTSIOON    sph    cyl    ax\\n                        OD -2,25 -0,25 18\\n                        OS -2,0 -0,5 39\\n\\nVISUS KAUGELE                                      \\noma prilliga                            \\nOD    cc -1,25 -0,5 90 1,0\\nOS  cc -1,25 -0,5 60 1,0\\n\\nMõlemad silmad :   cc 1,0\\n\\nVISUS LÄHEDALE  \\nKORREKTSIOONITA  / - GA\\nOD                                 \\nOS               \\nMõlemad silmad: 0,8\\n\\n18.11.2014 -  Üldseisund hea.\\n Nahk ja lim.kestad puhtad. \\n Visuaalselt kilpn suurenenud\\nSüdame tegevus regulaarne, toonid puhtad.\\nKopsudes bilater vesikul. hingamiskahin\\nLuu-lihassüst-patol.leiuta. Laseque bilater 90° \\nLülisamba liikuvus nimmest N, õla- küünar- ja randmeliigeste liikuvus N, liigutused valuvabad.\\nPasternatski smptm.bilater.negat.\\nParavertebraalsed np-d palpatoorselt valutud C ja Th.pk-s\\nVeenilaiendeid ei esine\\n Tunnelsündroomid (Tinel, Phalen) bilater negat.\\nKPR d=s\\nEKG: regul SR fr.68  x min, N de ja repolarisatsiooni voltaaz,semiverik el posits. ES-, N  EKG.\\n\\n\\n. \n",
      "Name: text, dtype: object\n"
     ]
    }
   ],
   "source": [
    "print( DS[85772:85773][\"text\"])"
   ]
  },
  {
   "cell_type": "code",
   "execution_count": null,
   "metadata": {},
   "outputs": [],
   "source": [
    "class SkillsExtractorNN:\n",
    "\n",
    "    def __init__(self, word_features_dim, dense_features_dim):\n",
    "\n",
    "        lstm_input_phrase = keras.layers.Input(shape=(None, word_features_dim))\n",
    "        lstm_input_cont = keras.layers.Input(shape=(None, word_features_dim))\n",
    "        dense_input = keras.layers.Input(shape=(dense_features_dim,))\n",
    "\n",
    "        lstm_emb_phrase = keras.layers.LSTM(256)(lstm_input_phrase)\n",
    "        lstm_emb_phrase = keras.layers.Dense(128, activation='relu')(lstm_emb_phrase)\n",
    "\n",
    "        lstm_emb_cont = keras.layers.LSTM(256)(lstm_input_cont)\n",
    "        lstm_emb_cont = keras.layers.Dense(128, activation='relu')(lstm_emb_cont)\n",
    "\n",
    "        dense_emb = keras.layers.Dense(512, activation='relu')(dense_input)\n",
    "        dense_emb = keras.layers.Dense(256, activation='relu')(dense_emb)\n",
    "\n",
    "        x = keras.layers.concatenate([lstm_emb_phrase, lstm_emb_cont, dense_emb])\n",
    "        x = keras.layers.Dense(128, activation='relu')(x)\n",
    "        x = keras.layers.Dense(64, activation='relu')(x)\n",
    "        x = keras.layers.Dense(32, activation='relu')(x)\n",
    "\n",
    "        main_output = keras.layers.Dense(2, activation='softplus')(x)\n",
    "\n",
    "        self.model = keras.models.Model(inputs=[lstm_input_phrase, lstm_input_cont, dense_input],\n",
    "                                        outputs=main_output)\n",
    "\n",
    "        optimizer = keras.optimizers.Adam(lr=0.0001)\n",
    "\n",
    "        self.model.compile(optimizer=optimizer, loss='binary_crossentropy')\n",
    "\n",
    "        \n",
    "        \n",
    "def fit(self, x_lstm_phrase, x_lstm_context, x_dense, y,\n",
    "        val_split=0.25, patience=5, max_epochs=1000, batch_size=32):\n",
    "\n",
    "    x_lstm_phrase_seq = keras.preprocessing.sequence.pad_sequences(x_lstm_phrase)\n",
    "    x_lstm_context_seq = keras.preprocessing.sequence.pad_sequences(x_lstm_context)\n",
    "\n",
    "    y_onehot = onehot_transform(y)\n",
    "\n",
    "    self.model.fit([x_lstm_phrase_seq, x_lstm_context_seq, x_dense],\n",
    "                   y_onehot,\n",
    "                   batch_size=batch_size,\n",
    "                   pochs=max_epochs,\n",
    "                   validation_split=val_split,\n",
    "                   callbacks=[keras.callbacks.EarlyStopping(monitor='val_loss', patience=patience)])\n",
    "\n",
    "\n",
    "def predict(self, x_lstm_phrase, x_lstm_context, x_dense):\n",
    "\n",
    "    x_lstm_phrase_seq = keras.preprocessing.sequence.pad_sequences(x_lstm_phrase)\n",
    "    x_lstm_context_seq = keras.preprocessing.sequence.pad_sequences(x_lstm_context)\n",
    "\n",
    "    y = self.model.predict([x_lstm_phrase_seq, x_lstm_context_seq, x_dense])\n",
    "\n",
    "    return y\n",
    "\n",
    "\n",
    "def onehot_transform(y):\n",
    "\n",
    "    onehot_y = []\n",
    "\n",
    "    for numb in y:\n",
    "        onehot_arr = np.zeros(2)\n",
    "        onehot_arr[numb] = 1\n",
    "        onehot_y.append(np.array(onehot_arr))\n",
    "\n",
    "    return np.array(onehot_y)\n",
    "\n",
    "\n"
   ]
  }
 ],
 "metadata": {
  "kernelspec": {
   "display_name": "Python 3",
   "language": "python",
   "name": "python3"
  },
  "language_info": {
   "codemirror_mode": {
    "name": "ipython",
    "version": 3
   },
   "file_extension": ".py",
   "mimetype": "text/x-python",
   "name": "python",
   "nbconvert_exporter": "python",
   "pygments_lexer": "ipython3",
   "version": "3.7.6"
  }
 },
 "nbformat": 4,
 "nbformat_minor": 4
}
