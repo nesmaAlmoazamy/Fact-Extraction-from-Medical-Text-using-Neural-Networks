{
 "cells": [
  {
   "cell_type": "code",
   "execution_count": 9,
   "metadata": {},
   "outputs": [],
   "source": [
    "import csv\n",
    "import pandas as pd"
   ]
  },
  {
   "cell_type": "code",
   "execution_count": 10,
   "metadata": {},
   "outputs": [],
   "source": [
    "extract = pd.read_csv(\"egcut_epi_nesma_extracted_features_example.csv\",header=None)"
   ]
  },
  {
   "cell_type": "code",
   "execution_count": 11,
   "metadata": {},
   "outputs": [],
   "source": [
    "extract.columns = [\"text_ID\",\"start\",\"end\",\"object\",\"value\",\"unit\",\"min\",\"max\"]"
   ]
  },
  {
   "cell_type": "code",
   "execution_count": 12,
   "metadata": {},
   "outputs": [],
   "source": [
    "text = pd.read_csv(\"egcut_epi_nesma_texts_example.csv\",header=None)"
   ]
  },
  {
   "cell_type": "code",
   "execution_count": 13,
   "metadata": {},
   "outputs": [
    {
     "data": {
      "text/html": [
       "<div>\n",
       "<style scoped>\n",
       "    .dataframe tbody tr th:only-of-type {\n",
       "        vertical-align: middle;\n",
       "    }\n",
       "\n",
       "    .dataframe tbody tr th {\n",
       "        vertical-align: top;\n",
       "    }\n",
       "\n",
       "    .dataframe thead th {\n",
       "        text-align: right;\n",
       "    }\n",
       "</style>\n",
       "<table border=\"1\" class=\"dataframe\">\n",
       "  <thead>\n",
       "    <tr style=\"text-align: right;\">\n",
       "      <th></th>\n",
       "      <th>text_ID</th>\n",
       "      <th>text</th>\n",
       "    </tr>\n",
       "  </thead>\n",
       "  <tbody>\n",
       "    <tr>\n",
       "      <th>0</th>\n",
       "      <td>347474</td>\n",
       "      <td>\\nRR 132/84  \\n\\n</td>\n",
       "    </tr>\n",
       "    <tr>\n",
       "      <th>1</th>\n",
       "      <td>46809</td>\n",
       "      <td>RR 130/80 mmHg.</td>\n",
       "    </tr>\n",
       "    <tr>\n",
       "      <th>2</th>\n",
       "      <td>45389</td>\n",
       "      <td>Kergelt liigkaaluline. Nahk, limaskestad taval...</td>\n",
       "    </tr>\n",
       "    <tr>\n",
       "      <th>3</th>\n",
       "      <td>47482</td>\n",
       "      <td>RR142/89mmHg, HR 76 x min, p167cm, k89kg.  EKG...</td>\n",
       "    </tr>\n",
       "    <tr>\n",
       "      <th>4</th>\n",
       "      <td>53393</td>\n",
       "      <td>RR143/87mmHg, HR60 x min, p180cm, k93kg</td>\n",
       "    </tr>\n",
       "  </tbody>\n",
       "</table>\n",
       "</div>"
      ],
      "text/plain": [
       "   text_ID                                               text\n",
       "0   347474                                  \\nRR 132/84  \\n\\n\n",
       "1    46809                                    RR 130/80 mmHg.\n",
       "2    45389  Kergelt liigkaaluline. Nahk, limaskestad taval...\n",
       "3    47482  RR142/89mmHg, HR 76 x min, p167cm, k89kg.  EKG...\n",
       "4    53393            RR143/87mmHg, HR60 x min, p180cm, k93kg"
      ]
     },
     "execution_count": 13,
     "metadata": {},
     "output_type": "execute_result"
    }
   ],
   "source": [
    "text.columns = [\"text_ID\",\"text\"]\n",
    "text.head()"
   ]
  },
  {
   "cell_type": "code",
   "execution_count": 14,
   "metadata": {},
   "outputs": [
    {
     "data": {
      "text/plain": [
       "428132     61\n",
       "440167     31\n",
       "284004     28\n",
       "179052     28\n",
       "1118428    25\n",
       "           ..\n",
       "1644002     1\n",
       "356033      1\n",
       "539481      1\n",
       "429757      1\n",
       "804663      1\n",
       "Name: text_ID, Length: 121535, dtype: int64"
      ]
     },
     "execution_count": 14,
     "metadata": {},
     "output_type": "execute_result"
    }
   ],
   "source": [
    "text.text_ID.value_counts()"
   ]
  },
  {
   "cell_type": "code",
   "execution_count": 15,
   "metadata": {},
   "outputs": [],
   "source": [
    "text = text.drop_duplicates(subset='text_ID', keep='first')"
   ]
  },
  {
   "cell_type": "code",
   "execution_count": 16,
   "metadata": {},
   "outputs": [],
   "source": [
    "DS = pd.merge(extract, text, how=\"left\", on='text_ID')"
   ]
  },
  {
   "cell_type": "code",
   "execution_count": 1,
   "metadata": {},
   "outputs": [],
   "source": [
    "#from estnltk import Text"
   ]
  },
  {
   "cell_type": "code",
   "execution_count": 12,
   "metadata": {},
   "outputs": [],
   "source": [
    "#DS.to_csv(\"MergedDS.csv\",index=False)"
   ]
  },
  {
   "cell_type": "code",
   "execution_count": 17,
   "metadata": {},
   "outputs": [],
   "source": [
    "X = DS.text\n",
    "Y = DS.object\n",
    "Z = DS.value\n",
    "Span = DS[[\"start\",\"end\"]]\n",
    "X = X[:5000]\n",
    "Span = Span[:5000] \n",
    "Y = Y[:5000]\n",
    "Z = Z[:5000]"
   ]
  },
  {
   "cell_type": "code",
   "execution_count": 18,
   "metadata": {},
   "outputs": [],
   "source": [
    "max_sent_len = max([len(sentence) for sentence in DS.text])\n"
   ]
  },
  {
   "cell_type": "code",
   "execution_count": 28,
   "metadata": {},
   "outputs": [
    {
     "data": {
      "text/plain": [
       "102602"
      ]
     },
     "execution_count": 28,
     "metadata": {},
     "output_type": "execute_result"
    }
   ],
   "source": [
    "max_sent_len"
   ]
  },
  {
   "cell_type": "code",
   "execution_count": 19,
   "metadata": {},
   "outputs": [
    {
     "name": "stderr",
     "output_type": "stream",
     "text": [
      "Using TensorFlow backend.\n"
     ]
    }
   ],
   "source": [
    "import numpy as np\n",
    "from keras.utils import np_utils\n",
    "\n",
    "import matplotlib.pyplot as plt\n",
    "from keras.layers import GRU,Dropout,BatchNormalization\n",
    "from sklearn.model_selection import train_test_split\n",
    "import keras\n",
    "from keras.preprocessing.sequence import pad_sequences\n",
    "from sklearn.preprocessing import LabelEncoder\n",
    "from keras.preprocessing.text import Tokenizer\n",
    "\n",
    "%matplotlib inline"
   ]
  },
  {
   "cell_type": "code",
   "execution_count": 30,
   "metadata": {},
   "outputs": [],
   "source": [
    "# def plot_history(history):\n",
    "#     acc = history.history['accuracy']\n",
    "#     val_acc = history.history['val_acc']\n",
    "#     loss = history.history['loss']\n",
    "#     val_loss = history.history['val_loss']\n",
    "#     x = range(1, len(acc) + 1)\n",
    "\n",
    "#     plt.figure(figsize=(12, 5))\n",
    "#     plt.subplot(1, 2, 1)\n",
    "#     plt.plot(x, acc, 'b', label='Training acc')\n",
    "#     plt.plot(x, val_acc, 'r', label='Validation acc')\n",
    "#     plt.title('Training and validation accuracy')\n",
    "#     plt.legend()\n",
    "#     plt.subplot(1, 2, 2)\n",
    "#     plt.plot(x, loss, 'b', label='Training loss')\n",
    "#     plt.plot(x, val_loss, 'r', label='Validation loss')\n",
    "#     plt.title('Training and validation loss')\n",
    "#     plt.legend()"
   ]
  },
  {
   "cell_type": "code",
   "execution_count": 20,
   "metadata": {},
   "outputs": [],
   "source": [
    "Xtrain, Xtest, Ytrain, Ytest , Ztrain, Ztest ,Strain,Stest = train_test_split(X, Y, Z,Span, test_size=0.2, random_state=1)\n",
    "\n",
    "Xtrain, Xval, Ytrain, Yval , Ztrain, Zval , Strain, Sval= train_test_split(Xtrain, Ytrain, Ztrain, Strain, test_size=0.25, random_state=1)\n",
    "\n"
   ]
  },
  {
   "cell_type": "code",
   "execution_count": 21,
   "metadata": {},
   "outputs": [],
   "source": [
    "shape = 3\n",
    "encoder = LabelEncoder()\n",
    "encoder.fit(Y) #3 classes in Object column\n",
    "\n",
    "\n",
    "Ytrain = encoder.transform(Ytrain)\n",
    "Ytest = encoder.transform(Ytest)\n",
    "Yval = encoder.transform(Yval)\n",
    "\n",
    "Ytrain = np_utils.to_categorical(Ytrain)\n",
    "Ytest = np_utils.to_categorical(Ytest)\n",
    "Yval = np_utils.to_categorical(Yval)\n",
    "\n"
   ]
  },
  {
   "cell_type": "code",
   "execution_count": 22,
   "metadata": {},
   "outputs": [],
   "source": [
    "tokenizer = Tokenizer(num_words=5000)\n",
    "tokenizer.fit_on_texts(Xtrain)\n",
    "\n",
    "Xtrain = tokenizer.texts_to_sequences(Xtrain)\n",
    "Xtest = tokenizer.texts_to_sequences(Xtest)\n",
    "Xval = tokenizer.texts_to_sequences(Xval)\n",
    "vocab_size = len(tokenizer.word_index) + 1  # Adding 1 because of reserved 0 index\n",
    "\n"
   ]
  },
  {
   "cell_type": "code",
   "execution_count": 23,
   "metadata": {},
   "outputs": [],
   "source": [
    "maxlen = 100\n",
    "\n",
    "Xtrain = pad_sequences(Xtrain, padding='post', maxlen=maxlen)\n",
    "Xtest = pad_sequences(Xtest, padding='post', maxlen=maxlen)\n",
    "Xval = pad_sequences(Xval, padding='post', maxlen=maxlen)\n",
    "\n"
   ]
  },
  {
   "cell_type": "code",
   "execution_count": 24,
   "metadata": {},
   "outputs": [
    {
     "name": "stderr",
     "output_type": "stream",
     "text": [
      "ERROR: Could not find a version that satisfies the requirement keras_contrib (from versions: none)\n",
      "ERROR: No matching distribution found for keras_contrib\n"
     ]
    }
   ],
   "source": [
    "!pip install keras_contrib\n"
   ]
  },
  {
   "cell_type": "code",
   "execution_count": 25,
   "metadata": {},
   "outputs": [
    {
     "name": "stdout",
     "output_type": "stream",
     "text": [
      "Model: \"model_1\"\n",
      "__________________________________________________________________________________________________\n",
      "Layer (type)                    Output Shape         Param #     Connected to                     \n",
      "==================================================================================================\n",
      "input_text (InputLayer)         (None, 100)          0                                            \n",
      "__________________________________________________________________________________________________\n",
      "embedding_1 (Embedding)         (None, 100, 256)     9718272     input_text[0][0]                 \n",
      "__________________________________________________________________________________________________\n",
      "bidirectional_1 (Bidirectional) (None, 512)          1050624     embedding_1[0][0]                \n",
      "__________________________________________________________________________________________________\n",
      "dropout_1 (Dropout)             (None, 512)          0           bidirectional_1[0][0]            \n",
      "__________________________________________________________________________________________________\n",
      "output_object (Dense)           (None, 3)            1539        dropout_1[0][0]                  \n",
      "__________________________________________________________________________________________________\n",
      "output_value (Dense)            (None, 1)            513         dropout_1[0][0]                  \n",
      "==================================================================================================\n",
      "Total params: 10,770,948\n",
      "Trainable params: 10,770,948\n",
      "Non-trainable params: 0\n",
      "__________________________________________________________________________________________________\n"
     ]
    }
   ],
   "source": [
    "from keras.models import Sequential\n",
    "from keras import layers\n",
    "from keras.layers import Input, LSTM, Embedding, Dense\n",
    "from keras.layers import Bidirectional\n",
    "model = Sequential()\n",
    "\n",
    "input_text = keras.layers.Input(shape=(maxlen,),dtype='int32',name=\"input_text\")\n",
    "emb = Embedding(input_dim=vocab_size, output_dim=256, input_length=maxlen)(input_text)\n",
    "lstm_out = Bidirectional(keras.layers.LSTM(256))(emb)\n",
    "\n",
    "# span = keras.layers.Input(shape=(2, ),name=\"span\")\n",
    "# merged = keras.layers.concatenate([lstm_out,span])\n",
    "x = keras.layers.Dropout(0.1)(lstm_out)\n",
    "\n",
    "# x = keras.layers.Dense(128, activation='relu')(lstm_out)\n",
    "# x = keras.layers.Dense(64, activation='relu')(x)\n",
    "# x = keras.layers.Dense(32, activation='relu')(x)\n",
    "output_object = keras.layers.Dense(3, activation='linear',name=\"output_object\")(x)\n",
    "# from keras_contrib.layers import CRF\n",
    "# crf = CRF(3)\n",
    "# output_object = crf(x) \n",
    "output_value = keras.layers.Dense(1, activation='linear',name=\"output_value\")(x)\n",
    "\n",
    "\n",
    "# model = keras.models.Model(inputs=[input_text,span],\n",
    "\n",
    "model = keras.models.Model(input_text,\n",
    "                                outputs=[output_object,output_value])\n",
    "from keras.optimizers import adam \n",
    "opt = adam(lr=0.001)\n",
    "# model.compile(optimizer= \"adam\" ,loss=[ \"categorical_crossentropy\",\"mean_squared_logarithmic_error\"],metrics=['accuracy',\"mse\"])\n",
    "model.compile(optimizer= opt ,loss= {'output_object':\"categorical_crossentropy\",'output_value':\"mean_squared_logarithmic_error\"}, metrics={'output_object': 'accuracy','output_value': \"mse\"})\n",
    "              #,metrics=['accuracy'])\n",
    "\n",
    "model.summary()\n"
   ]
  },
  {
   "cell_type": "code",
   "execution_count": 26,
   "metadata": {},
   "outputs": [
    {
     "name": "stderr",
     "output_type": "stream",
     "text": [
      "C:\\Users\\Kasutaja\\Anaconda3\\envs\\myEnv\\lib\\site-packages\\tensorflow_core\\python\\framework\\indexed_slices.py:433: UserWarning: Converting sparse IndexedSlices to a dense Tensor of unknown shape. This may consume a large amount of memory.\n",
      "  \"Converting sparse IndexedSlices to a dense Tensor of unknown shape. \"\n"
     ]
    },
    {
     "name": "stdout",
     "output_type": "stream",
     "text": [
      "Train on 3000 samples, validate on 1000 samples\n",
      "Epoch 1/10\n",
      "3000/3000 [==============================] - 20s 7ms/step - loss: 25.2281 - output_object_loss: 3.1147 - output_value_loss: 22.1134 - output_object_accuracy: 0.3720 - output_value_mse: 10468719.0000 - val_loss: 23.3176 - val_output_object_loss: 1.4157 - val_output_value_loss: 21.9019 - val_output_object_accuracy: 0.1430 - val_output_value_mse: 214523.5938\n",
      "Epoch 2/10\n",
      "3000/3000 [==============================] - 20s 7ms/step - loss: 22.9072 - output_object_loss: 1.2524 - output_value_loss: 21.6547 - output_object_accuracy: 0.1323 - output_value_mse: 10468696.0000 - val_loss: 22.2442 - val_output_object_loss: 1.1995 - val_output_value_loss: 21.0447 - val_output_object_accuracy: 0.1370 - val_output_value_mse: 214489.3438\n",
      "Epoch 3/10\n",
      "3000/3000 [==============================] - 19s 6ms/step - loss: 21.8979 - output_object_loss: 1.2744 - output_value_loss: 20.6235 - output_object_accuracy: 0.1100 - output_value_mse: 10468609.0000 - val_loss: 21.1260 - val_output_object_loss: 1.9967 - val_output_value_loss: 19.1292 - val_output_object_accuracy: 0.1280 - val_output_value_mse: 214382.6406\n",
      "Epoch 4/10\n",
      "3000/3000 [==============================] - 22s 7ms/step - loss: 20.5110 - output_object_loss: 2.7061 - output_value_loss: 17.8050 - output_object_accuracy: 0.1140 - output_value_mse: 10468134.0000 - val_loss: 14.6204 - val_output_object_loss: 4.8565 - val_output_value_loss: 9.7639 - val_output_object_accuracy: 0.1400 - val_output_value_mse: 213427.6250\n",
      "Epoch 5/10\n",
      "3000/3000 [==============================] - 22s 7ms/step - loss: 16.9875 - output_object_loss: 8.4190 - output_value_loss: 8.5685 - output_object_accuracy: 0.2027 - output_value_mse: 10466592.0000 - val_loss: 17.0363 - val_output_object_loss: 11.1537 - val_output_value_loss: 5.8826 - val_output_object_accuracy: 0.1400 - val_output_value_mse: 212089.9844\n",
      "Epoch 6/10\n",
      "3000/3000 [==============================] - 20s 7ms/step - loss: 11.9241 - output_object_loss: 6.6856 - output_value_loss: 5.2385 - output_object_accuracy: 0.1273 - output_value_mse: 10464343.0000 - val_loss: 7.2471 - val_output_object_loss: 2.7381 - val_output_value_loss: 4.5091 - val_output_object_accuracy: 0.1400 - val_output_value_mse: 211138.8438\n",
      "Epoch 7/10\n",
      "3000/3000 [==============================] - 22s 7ms/step - loss: 6.7625 - output_object_loss: 2.4292 - output_value_loss: 4.3334 - output_object_accuracy: 0.1273 - output_value_mse: 10462994.0000 - val_loss: 6.3746 - val_output_object_loss: 2.4473 - val_output_value_loss: 3.9273 - val_output_object_accuracy: 0.1400 - val_output_value_mse: 210581.1250\n",
      "Epoch 8/10\n",
      "3000/3000 [==============================] - 27s 9ms/step - loss: 5.9541 - output_object_loss: 2.1774 - output_value_loss: 3.7767 - output_object_accuracy: 0.1273 - output_value_mse: 10462118.0000 - val_loss: 5.7386 - val_output_object_loss: 2.3071 - val_output_value_loss: 3.4315 - val_output_object_accuracy: 0.1400 - val_output_value_mse: 209999.2812\n",
      "Epoch 9/10\n",
      "3000/3000 [==============================] - 30s 10ms/step - loss: 5.4061 - output_object_loss: 2.0908 - output_value_loss: 3.3154 - output_object_accuracy: 0.1273 - output_value_mse: 10461171.0000 - val_loss: 5.2796 - val_output_object_loss: 2.2565 - val_output_value_loss: 3.0231 - val_output_object_accuracy: 0.1400 - val_output_value_mse: 209422.0781\n",
      "Epoch 10/10\n",
      "3000/3000 [==============================] - 31s 10ms/step - loss: 4.9974 - output_object_loss: 2.0575 - output_value_loss: 2.9399 - output_object_accuracy: 0.1273 - output_value_mse: 10460137.0000 - val_loss: 4.9552 - val_output_object_loss: 2.2565 - val_output_value_loss: 2.6987 - val_output_object_accuracy: 0.1400 - val_output_value_mse: 208881.6562\n"
     ]
    }
   ],
   "source": [
    "# tryx = Xtrain.reshape((3000,100))\n",
    "# history = model.fit([tryx,Strain], y = [Ytrain,Ztrain],\n",
    "\n",
    "# keras.callbacks.EarlyStopping(monitor='val_loss',\n",
    "#                               min_delta=0,\n",
    "#                               patience=2,\n",
    "#                               verbose=0, mode='auto')\n",
    "\n",
    "history = model.fit(Xtrain, y = [Ytrain,Ztrain],\n",
    "                    epochs=10,\n",
    "                    verbose=True,\n",
    "#                     validation_data=([Xval,Sval], [Yval,  Zval]),batch_size=1000)\n",
    "                    validation_data=(Xval, [Yval,  Zval]),batch_size=1000)\n",
    "\n",
    "#,batch_size=5000\n"
   ]
  },
  {
   "cell_type": "code",
   "execution_count": 29,
   "metadata": {},
   "outputs": [
    {
     "data": {
      "image/png": "[encoded data removed]",
      "text/plain": [
       "<Figure size 432x288 with 2 Axes>"
      ]
     },
     "metadata": {
      "needs_background": "light"
     },
     "output_type": "display_data"
    }
   ],
   "source": [
    "from matplotlib import pyplot\n",
    "pyplot.subplot(211)\n",
    "pyplot.title('Loss')\n",
    "pyplot.plot(history.history['loss'], label='train')\n",
    "pyplot.plot(history.history['val_loss'], label='test')\n",
    "pyplot.legend()\n",
    "# plot mse during training\n",
    "pyplot.subplot(212)\n",
    "pyplot.title('Mean Squared Error')\n",
    "pyplot.plot(history.history['output_value_mse'], label='train')\n",
    "pyplot.plot(history.history['val_output_value_mse'], label='test')\n",
    "pyplot.legend()\n",
    "pyplot.show()"
   ]
  },
  {
   "cell_type": "code",
   "execution_count": 30,
   "metadata": {},
   "outputs": [
    {
     "name": "stdout",
     "output_type": "stream",
     "text": [
      "3000/3000 [==============================] - 22s 7ms/step\n"
     ]
    },
    {
     "data": {
      "text/plain": [
       "[4.782543665568034,\n",
       " 2.0504844188690186,\n",
       " 2.729947566986084,\n",
       " 0.12733332812786102,\n",
       " 10459574.0]"
      ]
     },
     "execution_count": 30,
     "metadata": {},
     "output_type": "execute_result"
    }
   ],
   "source": [
    "# f= open(\"report.csv\",\"a\")\n",
    "# loss1, accuracy1,loss2, accuracy2 = \n",
    "model.evaluate(Xtrain, [Ytrain,Ztrain], verbose=True)\n",
    "# print(\"Training Accuracy: {:.4f}\".format(accuracy))\n",
    "# f.write(\",{:.4f}\".format(accuracy))\n",
    "\n",
    "# loss, accuracy = model.evaluate(Xval, Yval, verbose=True)\n",
    "\n",
    "# print(\"Validation Accuracy:  {:.4f}\".format(accuracy))\n",
    "# f.write(\",{:.4f} \\n\".format(accuracy))\n",
    "# f.close()\n",
    "# plot_history(history)\n",
    "# Ypred = model.predict(Xtest)\n",
    "# from sklearn.metrics import confusion_matrix, classification_report\n",
    "\n",
    "# matrix = confusion_matrix(Ytest.argmax(axis=1), Ypred.argmax(axis=1))\n",
    "# classification_Report = classification_report(Ytest.argmax(axis=1), Ypred.argmax(axis=1), output_dict=True)\n",
    "# df = pd.DataFrame(classification_Report).transpose()\n",
    "# df.to_csv(\"ClassificationReport.csv\")"
   ]
  },
  {
   "cell_type": "code",
   "execution_count": 31,
   "metadata": {},
   "outputs": [],
   "source": [
    "pred1,pred2 = model.predict(Xval)\n"
   ]
  },
  {
   "cell_type": "code",
   "execution_count": 32,
   "metadata": {},
   "outputs": [
    {
     "name": "stdout",
     "output_type": "stream",
     "text": [
      "1000/1000 [==============================] - 7s 7ms/step\n"
     ]
    },
    {
     "data": {
      "text/plain": [
       "[4.848122142791748,\n",
       " 2.093463897705078,\n",
       " 2.746799945831299,\n",
       " 0.12999999523162842,\n",
       " 16023612.0]"
      ]
     },
     "execution_count": 32,
     "metadata": {},
     "output_type": "execute_result"
    }
   ],
   "source": [
    "model.evaluate(Xtest, [Ytest,Ztest], verbose=True)\n"
   ]
  },
  {
   "cell_type": "code",
   "execution_count": 38,
   "metadata": {},
   "outputs": [
    {
     "name": "stdout",
     "output_type": "stream",
     "text": [
      "Model: \"model_2\"\n",
      "__________________________________________________________________________________________________\n",
      "Layer (type)                    Output Shape         Param #     Connected to                     \n",
      "==================================================================================================\n",
      "input_text (InputLayer)         (None, 100)          0                                            \n",
      "__________________________________________________________________________________________________\n",
      "embedding_2 (Embedding)         (None, 100, 256)     9718272     input_text[0][0]                 \n",
      "__________________________________________________________________________________________________\n",
      "bidirectional_2 (Bidirectional) (None, 512)          1050624     embedding_2[0][0]                \n",
      "__________________________________________________________________________________________________\n",
      "dense_1 (Dense)                 (None, 128)          65664       bidirectional_2[0][0]            \n",
      "__________________________________________________________________________________________________\n",
      "dropout_2 (Dropout)             (None, 128)          0           dense_1[0][0]                    \n",
      "__________________________________________________________________________________________________\n",
      "dense_2 (Dense)                 (None, 64)           8256        dropout_2[0][0]                  \n",
      "__________________________________________________________________________________________________\n",
      "dense_3 (Dense)                 (None, 32)           2080        dense_2[0][0]                    \n",
      "__________________________________________________________________________________________________\n",
      "output_object (Dense)           (None, 3)            99          dense_3[0][0]                    \n",
      "__________________________________________________________________________________________________\n",
      "output_value (Dense)            (None, 1)            33          dense_3[0][0]                    \n",
      "==================================================================================================\n",
      "Total params: 10,845,028\n",
      "Trainable params: 10,845,028\n",
      "Non-trainable params: 0\n",
      "__________________________________________________________________________________________________\n"
     ]
    }
   ],
   "source": [
    "from keras.models import Sequential\n",
    "from keras import layers\n",
    "from keras.layers import Input, LSTM, Embedding, Dense\n",
    "from keras.layers import Bidirectional\n",
    "model2 = Sequential()\n",
    "\n",
    "input_text = keras.layers.Input(shape=(maxlen,),dtype='int32',name=\"input_text\")\n",
    "emb = Embedding(input_dim=vocab_size, output_dim=256, input_length=maxlen)(input_text)\n",
    "lstm_out = Bidirectional(keras.layers.LSTM(256))(emb)\n",
    "\n",
    "# span = keras.layers.Input(shape=(2, ),name=\"span\")\n",
    "# merged = keras.layers.concatenate([lstm_out,span])\n",
    "\n",
    "x = keras.layers.Dense(128, activation='relu')(lstm_out)\n",
    "x = keras.layers.Dropout(0.1)(x)\n",
    "x = keras.layers.Dense(64, activation='relu')(x)\n",
    "x = keras.layers.Dense(32, activation='relu')(x)\n",
    "\n",
    "output_object = keras.layers.Dense(3, activation='linear',name=\"output_object\")(x)\n",
    "# from keras_contrib.layers import CRF\n",
    "# crf = CRF(3)\n",
    "# output_object = crf(x) \n",
    "output_value = keras.layers.Dense(1, activation='linear',name=\"output_value\")(x)\n",
    "\n",
    "\n",
    "# model = keras.models.Model(inputs=[input_text,span],\n",
    "\n",
    "model2 = keras.models.Model(input_text,\n",
    "                                outputs=[output_object,output_value])\n",
    "from keras.optimizers import adam \n",
    "opt = adam(lr=0.001)\n",
    "# model.compile(optimizer= \"adam\" ,loss=[ \"categorical_crossentropy\",\"mean_squared_logarithmic_error\"],metrics=['accuracy',\"mse\"])\n",
    "model2.compile(optimizer= opt ,loss= {'output_object':\"categorical_crossentropy\",'output_value':\"mean_squared_logarithmic_error\"}, metrics={'output_object': 'accuracy','output_value': \"mse\"})\n",
    "              #,metrics=['accuracy'])\n",
    "\n",
    "model2.summary()\n"
   ]
  },
  {
   "cell_type": "code",
   "execution_count": 39,
   "metadata": {},
   "outputs": [
    {
     "name": "stderr",
     "output_type": "stream",
     "text": [
      "C:\\Users\\Kasutaja\\Anaconda3\\envs\\myEnv\\lib\\site-packages\\tensorflow_core\\python\\framework\\indexed_slices.py:433: UserWarning: Converting sparse IndexedSlices to a dense Tensor of unknown shape. This may consume a large amount of memory.\n",
      "  \"Converting sparse IndexedSlices to a dense Tensor of unknown shape. \"\n"
     ]
    },
    {
     "name": "stdout",
     "output_type": "stream",
     "text": [
      "Train on 3000 samples, validate on 1000 samples\n",
      "Epoch 1/10\n",
      "3000/3000 [==============================] - 30s 10ms/step - loss: 28.1943 - output_object_loss: 6.0319 - output_value_loss: 22.1624 - output_object_accuracy: 0.3093 - output_value_mse: 10468722.0000 - val_loss: 25.3448 - val_output_object_loss: 3.2259 - val_output_value_loss: 22.1188 - val_output_object_accuracy: 0.2290 - val_output_value_mse: 214532.1562\n",
      "Epoch 2/10\n",
      "3000/3000 [==============================] - 32s 11ms/step - loss: 24.1951 - output_object_loss: 2.1957 - output_value_loss: 21.9994 - output_object_accuracy: 0.2333 - output_value_mse: 10468710.0000 - val_loss: 22.5871 - val_output_object_loss: 0.7297 - val_output_value_loss: 21.8574 - val_output_object_accuracy: 0.1590 - val_output_value_mse: 214523.6094\n",
      "Epoch 3/10\n",
      "3000/3000 [==============================] - 35s 12ms/step - loss: 22.3837 - output_object_loss: 0.7259 - output_value_loss: 21.6578 - output_object_accuracy: 0.1493 - output_value_mse: 10468688.0000 - val_loss: 21.8038 - val_output_object_loss: 0.6295 - val_output_value_loss: 21.1743 - val_output_object_accuracy: 0.0840 - val_output_value_mse: 214498.0156\n",
      "Epoch 4/10\n",
      "3000/3000 [==============================] - 36s 12ms/step - loss: 21.4802 - output_object_loss: 0.7551 - output_value_loss: 20.7251 - output_object_accuracy: 0.0917 - output_value_mse: 10468646.0000 - val_loss: 19.6497 - val_output_object_loss: 0.6126 - val_output_value_loss: 19.0371 - val_output_object_accuracy: 0.0550 - val_output_value_mse: 214384.0938\n",
      "Epoch 5/10\n",
      "3000/3000 [==============================] - 37s 12ms/step - loss: 19.1078 - output_object_loss: 1.5263 - output_value_loss: 17.5814 - output_object_accuracy: 0.1453 - output_value_mse: 10468321.0000 - val_loss: 14.4682 - val_output_object_loss: 5.2823 - val_output_value_loss: 9.1859 - val_output_object_accuracy: 0.3080 - val_output_value_mse: 213298.8438\n",
      "Epoch 6/10\n",
      "3000/3000 [==============================] - 38s 13ms/step - loss: 12.5980 - output_object_loss: 5.5179 - output_value_loss: 7.0801 - output_object_accuracy: 0.3090 - output_value_mse: 10465623.0000 - val_loss: 9.5081 - val_output_object_loss: 4.9787 - val_output_value_loss: 4.5293 - val_output_object_accuracy: 0.3080 - val_output_value_mse: 211155.5312\n",
      "Epoch 7/10\n",
      "3000/3000 [==============================] - 40s 13ms/step - loss: 10.0151 - output_object_loss: 6.0906 - output_value_loss: 3.9246 - output_object_accuracy: 0.3097 - output_value_mse: 10462092.0000 - val_loss: 13.8968 - val_output_object_loss: 11.1537 - val_output_value_loss: 2.7431 - val_output_object_accuracy: 0.3080 - val_output_value_mse: 208959.8438\n",
      "Epoch 8/10\n",
      "3000/3000 [==============================] - 42s 14ms/step - loss: 12.1110 - output_object_loss: 9.7215 - output_value_loss: 2.3896 - output_object_accuracy: 0.3097 - output_value_mse: 10458534.0000 - val_loss: 10.8006 - val_output_object_loss: 9.0757 - val_output_value_loss: 1.7249 - val_output_object_accuracy: 0.3080 - val_output_value_mse: 206569.1875\n",
      "Epoch 9/10\n",
      "3000/3000 [==============================] - 44s 15ms/step - loss: 10.7972 - output_object_loss: 9.2279 - output_value_loss: 1.5692 - output_object_accuracy: 0.3097 - output_value_mse: 10454381.0000 - val_loss: 10.1878 - val_output_object_loss: 9.0161 - val_output_value_loss: 1.1717 - val_output_object_accuracy: 0.3080 - val_output_value_mse: 204384.5625\n",
      "Epoch 10/10\n",
      "3000/3000 [==============================] - 46s 15ms/step - loss: 10.2916 - output_object_loss: 9.1802 - output_value_loss: 1.1114 - output_object_accuracy: 0.3097 - output_value_mse: 10450276.0000 - val_loss: 9.8698 - val_output_object_loss: 9.0174 - val_output_value_loss: 0.8524 - val_output_object_accuracy: 0.3080 - val_output_value_mse: 202450.5312\n"
     ]
    }
   ],
   "source": [
    "# tryx = Xtrain.reshape((3000,100))\n",
    "# history = model.fit([tryx,Strain], y = [Ytrain,Ztrain],\n",
    "\n",
    "# keras.callbacks.EarlyStopping(monitor='val_loss',\n",
    "#                               min_delta=0,\n",
    "#                               patience=2,\n",
    "#                               verbose=0, mode='auto')\n",
    "\n",
    "history2 = model2.fit(Xtrain, y = [Ytrain,Ztrain],\n",
    "                    epochs=10,\n",
    "                    verbose=True,\n",
    "#                     validation_data=([Xval,Sval], [Yval,  Zval]),batch_size=1000)\n",
    "                    validation_data=(Xval, [Yval,  Zval]),batch_size=1000)\n",
    "\n",
    "#,batch_size=5000\n"
   ]
  },
  {
   "cell_type": "code",
   "execution_count": 40,
   "metadata": {},
   "outputs": [
    {
     "data": {
      "image/png": "[encoded data removed]",
      "text/plain": [
       "<Figure size 432x288 with 2 Axes>"
      ]
     },
     "metadata": {
      "needs_background": "light"
     },
     "output_type": "display_data"
    }
   ],
   "source": [
    "from matplotlib import pyplot\n",
    "pyplot.subplot(211)\n",
    "pyplot.title('Loss')\n",
    "pyplot.plot(history2.history['loss'], label='train')\n",
    "pyplot.plot(history2.history['val_loss'], label='test')\n",
    "pyplot.legend()\n",
    "# plot mse during training\n",
    "pyplot.subplot(212)\n",
    "pyplot.title('Mean Squared Error')\n",
    "pyplot.plot(history2.history['output_value_mse'], label='train')\n",
    "pyplot.plot(history2.history['val_output_value_mse'], label='test')\n",
    "pyplot.legend()\n",
    "pyplot.show()"
   ]
  },
  {
   "cell_type": "code",
   "execution_count": 41,
   "metadata": {},
   "outputs": [
    {
     "name": "stdout",
     "output_type": "stream",
     "text": [
      "3000/3000 [==============================] - 34s 11ms/step\n"
     ]
    },
    {
     "data": {
      "text/plain": [
       "[10.091463821411132,\n",
       " 9.190621376037598,\n",
       " 0.9032018780708313,\n",
       " 0.3096666634082794,\n",
       " 10447953.0]"
      ]
     },
     "execution_count": 41,
     "metadata": {},
     "output_type": "execute_result"
    }
   ],
   "source": [
    "model2.evaluate(Xtrain, [Ytrain,Ztrain], verbose=True)\n"
   ]
  },
  {
   "cell_type": "code",
   "execution_count": 37,
   "metadata": {},
   "outputs": [],
   "source": [
    "from tensorflow_addons.text.crf import crf_binary_score"
   ]
  }
 ],
 "metadata": {
  "kernelspec": {
   "display_name": "Python 3",
   "language": "python",
   "name": "python3"
  },
  "language_info": {
   "codemirror_mode": {
    "name": "ipython",
    "version": 3
   },
   "file_extension": ".py",
   "mimetype": "text/x-python",
   "name": "python",
   "nbconvert_exporter": "python",
   "pygments_lexer": "ipython3",
   "version": "3.7.6"
  }
 },
 "nbformat": 4,
 "nbformat_minor": 4
}
