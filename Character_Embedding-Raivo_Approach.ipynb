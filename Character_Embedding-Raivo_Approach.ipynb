{
 "cells": [
  {
   "cell_type": "code",
   "execution_count": 1,
   "metadata": {},
   "outputs": [
    {
     "name": "stderr",
     "output_type": "stream",
     "text": [
      "Using TensorFlow backend.\n"
     ]
    }
   ],
   "source": [
    "import csv\n",
    "import numpy as np\n",
    "import pandas as pd\n",
    "from keras.preprocessing.text import Tokenizer\n",
    "from keras.preprocessing.sequence import pad_sequences\n",
    "import pickle\n"
   ]
  },
  {
   "cell_type": "code",
   "execution_count": 2,
   "metadata": {},
   "outputs": [],
   "source": [
    "DS = pd.read_csv(\"RaivoSubset150SentenceLength.csv\")"
   ]
  },
  {
   "cell_type": "code",
   "execution_count": 3,
   "metadata": {},
   "outputs": [],
   "source": [
    "DS['tag'].fillna('O', inplace=True)"
   ]
  },
  {
   "cell_type": "code",
   "execution_count": 4,
   "metadata": {},
   "outputs": [
    {
     "data": {
      "text/plain": [
       "27741"
      ]
     },
     "execution_count": 4,
     "metadata": {},
     "output_type": "execute_result"
    }
   ],
   "source": [
    "words = list(set(DS[\"word\"].values))\n",
    "n_words = len(words)\n",
    "n_words"
   ]
  },
  {
   "cell_type": "code",
   "execution_count": 5,
   "metadata": {},
   "outputs": [
    {
     "data": {
      "text/plain": [
       "2"
      ]
     },
     "execution_count": 5,
     "metadata": {},
     "output_type": "execute_result"
    }
   ],
   "source": [
    "tags = list(set(DS[\"tag\"].values))\n",
    "n_tags = len(tags); n_tags\n"
   ]
  },
  {
   "cell_type": "code",
   "execution_count": 6,
   "metadata": {},
   "outputs": [],
   "source": [
    "class SentenceGetter(object):\n",
    "    \n",
    "    def __init__(self, data):\n",
    "        self.n_sent = 1\n",
    "        self.data = data\n",
    "        self.empty = False\n",
    "        agg_func = lambda s: [(w, t) for w, t in zip(s[\"word\"].values.tolist(),\n",
    "                                                           s[\"tag\"].values.tolist())]\n",
    "        self.grouped = self.data.groupby(\"text_ID\").apply(agg_func)\n",
    "        self.sentences = [s for s in self.grouped]\n",
    "    \n",
    "    def get_next(self):\n",
    "        try:\n",
    "            s = self.grouped[\"Sentence: {}\".format(self.n_sent)]\n",
    "            self.n_sent += 1\n",
    "            return s\n",
    "        except:\n",
    "            return None"
   ]
  },
  {
   "cell_type": "code",
   "execution_count": 7,
   "metadata": {},
   "outputs": [],
   "source": [
    "getter = SentenceGetter(DS)"
   ]
  },
  {
   "cell_type": "code",
   "execution_count": 8,
   "metadata": {},
   "outputs": [],
   "source": [
    "sentences = getter.sentences\n"
   ]
  },
  {
   "cell_type": "code",
   "execution_count": 9,
   "metadata": {},
   "outputs": [
    {
     "data": {
      "text/plain": [
       "[('Pt.', 'O'),\n",
       " ('tehtud', 'O'),\n",
       " ('3', 'O'),\n",
       " ('plasmaferees,', 'O'),\n",
       " ('talus', 'O'),\n",
       " ('hästi.', 'O'),\n",
       " ('Eemaldatud', 'O'),\n",
       " ('700', 'O'),\n",
       " ('ml', 'O'),\n",
       " ('plasmat.', 'O'),\n",
       " ('RR', 'object'),\n",
       " ('112/60', 'object'),\n",
       " ('mmHg.', 'O'),\n",
       " ('Tgasi', 'O'),\n",
       " ('22.10.09.', 'O')]"
      ]
     },
     "execution_count": 9,
     "metadata": {},
     "output_type": "execute_result"
    }
   ],
   "source": [
    "sentences[1]"
   ]
  },
  {
   "cell_type": "code",
   "execution_count": 10,
   "metadata": {},
   "outputs": [
    {
     "data": {
      "text/plain": [
       "count    157280.000000\n",
       "mean          6.230697\n",
       "std           4.330117\n",
       "min           1.000000\n",
       "25%           3.000000\n",
       "50%           5.000000\n",
       "75%           9.000000\n",
       "max          54.000000\n",
       "Name: word, dtype: float64"
      ]
     },
     "execution_count": 10,
     "metadata": {},
     "output_type": "execute_result"
    }
   ],
   "source": [
    "# np.median([len(s) for s in sentences])\n",
    "DS.word.apply(lambda x: len(x)).describe()"
   ]
  },
  {
   "cell_type": "code",
   "execution_count": 11,
   "metadata": {},
   "outputs": [
    {
     "data": {
      "text/plain": [
       "150"
      ]
     },
     "execution_count": 11,
     "metadata": {},
     "output_type": "execute_result"
    }
   ],
   "source": [
    "LengthsList = []\n",
    "for i in range(len(sentences)):\n",
    "    LengthsList.append(len(sentences[i]))\n",
    "np.max(LengthsList)"
   ]
  },
  {
   "cell_type": "code",
   "execution_count": 12,
   "metadata": {},
   "outputs": [
    {
     "data": {
      "text/plain": [
       "[('Kokkuvõte:', 'O'),\n",
       " ('<ANONYM', 'O'),\n",
       " ('id=\"0\"', 'O'),\n",
       " ('type=\"per\"', 'O'),\n",
       " ('morph=\"_A_', 'O'),\n",
       " ('sg', 'O'),\n",
       " ('n\"/>', 'O'),\n",
       " ('nähtava', 'O'),\n",
       " ('patoloogiata.', 'O'),\n",
       " ('Kokkuvõte:', 'O'),\n",
       " ('<ANONYM', 'O'),\n",
       " ('id=\"0\"', 'O'),\n",
       " ('type=\"per\"', 'O'),\n",
       " ('morph=\"_A_', 'O'),\n",
       " ('sg', 'O'),\n",
       " ('n\"/>', 'O'),\n",
       " ('nähtava', 'O'),\n",
       " ('patoloogiata.', 'O'),\n",
       " ('Kokkuvõte:', 'O'),\n",
       " ('<ANONYM', 'O'),\n",
       " ('id=\"0\"', 'O'),\n",
       " ('type=\"per\"', 'O'),\n",
       " ('morph=\"_A_', 'O'),\n",
       " ('sg', 'O'),\n",
       " ('n\"/>', 'O'),\n",
       " ('nähtava', 'O'),\n",
       " ('patoloogiata.', 'O'),\n",
       " ('Kokkuvõte:', 'O'),\n",
       " ('<ANONYM', 'O'),\n",
       " ('id=\"0\"', 'O'),\n",
       " ('type=\"per\"', 'O'),\n",
       " ('morph=\"_A_', 'O'),\n",
       " ('sg', 'O'),\n",
       " ('n\"/>', 'O'),\n",
       " ('nähtava', 'O'),\n",
       " ('patoloogiata.', 'O'),\n",
       " ('Kokkuvõte:', 'O'),\n",
       " ('<ANONYM', 'O'),\n",
       " ('id=\"0\"', 'O'),\n",
       " ('type=\"per\"', 'O'),\n",
       " ('morph=\"_A_', 'O'),\n",
       " ('sg', 'O'),\n",
       " ('n\"/>', 'O'),\n",
       " ('nähtava', 'O'),\n",
       " ('patoloogiata.', 'O'),\n",
       " ('Kokkuvõte:', 'O'),\n",
       " ('<ANONYM', 'O'),\n",
       " ('id=\"0\"', 'O'),\n",
       " ('type=\"per\"', 'O'),\n",
       " ('morph=\"_A_', 'O'),\n",
       " ('sg', 'O'),\n",
       " ('n\"/>', 'O'),\n",
       " ('nähtava', 'O'),\n",
       " ('patoloogiata.', 'O')]"
      ]
     },
     "execution_count": 12,
     "metadata": {},
     "output_type": "execute_result"
    }
   ],
   "source": [
    "sentences[6]"
   ]
  },
  {
   "cell_type": "code",
   "execution_count": 14,
   "metadata": {},
   "outputs": [],
   "source": [
    "max_len = 150\n",
    "max_len_char = 10"
   ]
  },
  {
   "cell_type": "code",
   "execution_count": 15,
   "metadata": {},
   "outputs": [],
   "source": [
    "tag2idx = {t: i + 1 for i, t in enumerate(tags)}\n",
    "tag2idx[\"PAD\"] = 0\n",
    "idx2tag = {i: w for w, i in tag2idx.items()}"
   ]
  },
  {
   "cell_type": "code",
   "execution_count": 16,
   "metadata": {},
   "outputs": [
    {
     "name": "stdout",
     "output_type": "stream",
     "text": [
      "104\n"
     ]
    }
   ],
   "source": [
    "chars = set([w_i for w in words for w_i in w])\n",
    "n_chars = len(chars)\n",
    "print(n_chars)\n"
   ]
  },
  {
   "cell_type": "code",
   "execution_count": 17,
   "metadata": {},
   "outputs": [],
   "source": [
    "char2idx = {c: i + 2 for i, c in enumerate(chars)}\n",
    "char2idx[\"UNK\"] = 1 #For predictions\n",
    "char2idx[\"PAD\"] = 0"
   ]
  },
  {
   "cell_type": "code",
   "execution_count": 18,
   "metadata": {},
   "outputs": [],
   "source": [
    "idx2char = {i: w for w, i in char2idx.items()}"
   ]
  },
  {
   "cell_type": "code",
   "execution_count": 19,
   "metadata": {},
   "outputs": [],
   "source": [
    "X_char = []\n",
    "for sentence in sentences:\n",
    "    sent_seq = []\n",
    "    for i in range(max_len):\n",
    "        word_seq = []\n",
    "        for j in range(max_len_char):\n",
    "            try:\n",
    "                word_seq.append(char2idx.get(sentence[i][0][j]))\n",
    "            except:\n",
    "                word_seq.append(char2idx.get(\"PAD\"))\n",
    "        sent_seq.append(word_seq)\n",
    "    X_char.append(np.array(sent_seq))"
   ]
  },
  {
   "cell_type": "code",
   "execution_count": 20,
   "metadata": {},
   "outputs": [],
   "source": [
    "y = [[tag2idx[w[1]] for w  in s] for s in sentences]\n"
   ]
  },
  {
   "cell_type": "code",
   "execution_count": 21,
   "metadata": {},
   "outputs": [
    {
     "data": {
      "text/plain": [
       "13643"
      ]
     },
     "execution_count": 21,
     "metadata": {},
     "output_type": "execute_result"
    }
   ],
   "source": [
    "len(sentences)"
   ]
  },
  {
   "cell_type": "code",
   "execution_count": 22,
   "metadata": {},
   "outputs": [],
   "source": [
    "y = pad_sequences(maxlen=max_len, sequences=y, value=tag2idx[\"PAD\"], padding='post', truncating='post')\n"
   ]
  },
  {
   "cell_type": "code",
   "execution_count": 23,
   "metadata": {},
   "outputs": [],
   "source": [
    "from sklearn.model_selection import train_test_split\n",
    "X_char_tr, X_char_te, y_tr,  y_te= train_test_split(X_char, y, test_size=0.2, random_state=2018)\n"
   ]
  },
  {
   "cell_type": "code",
   "execution_count": 24,
   "metadata": {},
   "outputs": [
    {
     "name": "stdout",
     "output_type": "stream",
     "text": [
      "WARNING:tensorflow:Large dropout rate: 0.6 (>0.5). In TensorFlow 2.x, dropout() uses dropout rate instead of keep_prob. Please ensure that this is intended.\n",
      "WARNING:tensorflow:Large dropout rate: 0.6 (>0.5). In TensorFlow 2.x, dropout() uses dropout rate instead of keep_prob. Please ensure that this is intended.\n",
      "WARNING:tensorflow:Large dropout rate: 0.6 (>0.5). In TensorFlow 2.x, dropout() uses dropout rate instead of keep_prob. Please ensure that this is intended.\n",
      "WARNING:tensorflow:Large dropout rate: 0.6 (>0.5). In TensorFlow 2.x, dropout() uses dropout rate instead of keep_prob. Please ensure that this is intended.\n",
      "WARNING:tensorflow:Large dropout rate: 0.6 (>0.5). In TensorFlow 2.x, dropout() uses dropout rate instead of keep_prob. Please ensure that this is intended.\n"
     ]
    }
   ],
   "source": [
    "from keras.models import Model, Input\n",
    "from keras.layers import LSTM, Embedding, Dense, TimeDistributed, Dropout, Conv1D\n",
    "from keras.layers import Bidirectional, concatenate, SpatialDropout1D, GlobalMaxPooling1D\n",
    "\n",
    "\n",
    "# input and embeddings for characters\n",
    "char_in = Input(shape=(max_len, max_len_char,))\n",
    "emb_char = TimeDistributed(Embedding(input_dim=n_chars + 2, output_dim=10,\n",
    "                           input_length=max_len_char, mask_zero=True))(char_in)\n",
    "# character LSTM to get word encodings by characters\n",
    "char_enc = TimeDistributed(LSTM(units=20, return_sequences=False,\n",
    "                                recurrent_dropout=0.5))(emb_char)\n",
    "\n",
    "# main LSTM\n",
    "x = SpatialDropout1D(0.3)(char_enc)\n",
    "main_lstm = Bidirectional(LSTM(units=50, return_sequences=True,\n",
    "                               recurrent_dropout=0.6))(x)\n",
    "out = TimeDistributed(Dense(n_tags + 1, activation=\"softmax\"))(main_lstm)\n",
    "\n",
    "model = Model( char_in, out)\n",
    "\n",
    "\n"
   ]
  },
  {
   "cell_type": "code",
   "execution_count": 25,
   "metadata": {},
   "outputs": [
    {
     "name": "stdout",
     "output_type": "stream",
     "text": [
      "Model: \"model_1\"\n",
      "_________________________________________________________________\n",
      "Layer (type)                 Output Shape              Param #   \n",
      "=================================================================\n",
      "input_1 (InputLayer)         (None, 150, 10)           0         \n",
      "_________________________________________________________________\n",
      "time_distributed_1 (TimeDist (None, 150, 10, 10)       1060      \n",
      "_________________________________________________________________\n",
      "time_distributed_2 (TimeDist (None, 150, 20)           2480      \n",
      "_________________________________________________________________\n",
      "spatial_dropout1d_1 (Spatial (None, 150, 20)           0         \n",
      "_________________________________________________________________\n",
      "bidirectional_1 (Bidirection (None, 150, 100)          28400     \n",
      "_________________________________________________________________\n",
      "time_distributed_3 (TimeDist (None, 150, 3)            303       \n",
      "=================================================================\n",
      "Total params: 32,243\n",
      "Trainable params: 32,243\n",
      "Non-trainable params: 0\n",
      "_________________________________________________________________\n"
     ]
    }
   ],
   "source": [
    "model.compile(optimizer=\"adam\", loss=\"sparse_categorical_crossentropy\", metrics=[\"acc\"])\n",
    "model.summary()\n"
   ]
  },
  {
   "cell_type": "code",
   "execution_count": null,
   "metadata": {},
   "outputs": [
    {
     "name": "stderr",
     "output_type": "stream",
     "text": [
      "C:\\Users\\Kasutaja\\Anaconda3\\envs\\myEnv\\lib\\site-packages\\tensorflow_core\\python\\framework\\indexed_slices.py:433: UserWarning: Converting sparse IndexedSlices to a dense Tensor of unknown shape. This may consume a large amount of memory.\n",
      "  \"Converting sparse IndexedSlices to a dense Tensor of unknown shape. \"\n"
     ]
    },
    {
     "name": "stdout",
     "output_type": "stream",
     "text": [
      "Train on 9822 samples, validate on 1092 samples\n",
      "Epoch 1/10\n",
      "9822/9822 [==============================] - 74s 7ms/step - loss: 0.0222 - acc: 0.9227 - val_loss: 0.0060 - val_acc: 0.9822\n",
      "Epoch 2/10\n",
      "9822/9822 [==============================] - 75s 8ms/step - loss: 0.0054 - acc: 0.9836 - val_loss: 0.0044 - val_acc: 0.9850\n",
      "Epoch 3/10\n",
      "9822/9822 [==============================] - 75s 8ms/step - loss: 0.0044 - acc: 0.9852 - val_loss: 0.0033 - val_acc: 0.9868\n",
      "Epoch 4/10\n",
      "9822/9822 [==============================] - 74s 7ms/step - loss: 0.0036 - acc: 0.9874 - val_loss: 0.0026 - val_acc: 0.9902\n",
      "Epoch 5/10\n",
      "9822/9822 [==============================] - 73s 7ms/step - loss: 0.0031 - acc: 0.9894 - val_loss: 0.0021 - val_acc: 0.9923\n",
      "Epoch 6/10\n",
      "5504/9822 [===============>..............] - ETA: 30s - loss: 0.0029 - acc: 0.9900"
     ]
    }
   ],
   "source": [
    "history = model.fit(np.array(X_char_tr).reshape((len(X_char_tr), max_len, max_len_char)),\n",
    "                    np.array(y_tr).reshape(len(y_tr), max_len, 1),\n",
    "                    batch_size=32, epochs=10, validation_split=0.1, verbose=1)\n"
   ]
  },
  {
   "cell_type": "code",
   "execution_count": null,
   "metadata": {},
   "outputs": [],
   "source": [
    "hist = pd.DataFrame(history.history)\n"
   ]
  },
  {
   "cell_type": "code",
   "execution_count": null,
   "metadata": {},
   "outputs": [],
   "source": [
    "import matplotlib.pyplot as plt\n",
    "plt.style.use(\"ggplot\")\n",
    "plt.figure(figsize=(12,12))\n",
    "plt.plot(hist[\"acc\"])\n",
    "plt.plot(hist[\"val_acc\"])\n",
    "plt.show()\n"
   ]
  },
  {
   "cell_type": "code",
   "execution_count": null,
   "metadata": {},
   "outputs": [],
   "source": [
    "y_pred = model.predict(\n",
    "                        np.array(X_char_te).reshape((len(X_char_te),\n",
    "                                                     max_len, max_len_char)))\n"
   ]
  },
  {
   "cell_type": "code",
   "execution_count": null,
   "metadata": {},
   "outputs": [],
   "source": [
    "def charindx2word(Tword):\n",
    "    word = []\n",
    "    for i in range(len(Tword)):\n",
    "        if(Tword[i] !=0):\n",
    "            word.append(idx2char[Tword[i]])\n",
    "    return \"\".join(word)"
   ]
  },
  {
   "cell_type": "code",
   "execution_count": null,
   "metadata": {},
   "outputs": [],
   "source": [
    "i = 1000\n",
    "p = np.argmax(y_pred[i], axis=-1)\n",
    "print(\"{:15}||{:5}||{}\".format(\"Word\", \"True\", \"Pred\"))\n",
    "print(30 * \"=\")\n",
    "for w, t, pred in zip(X_char_te[i], y_te[i], p):\n",
    "    if t != 0: #PAD\n",
    "        print(\"{:15}: {:5} {}\".format(charindx2word(w), idx2tag[t], idx2tag[pred]))\n"
   ]
  },
  {
   "cell_type": "code",
   "execution_count": null,
   "metadata": {},
   "outputs": [],
   "source": [
    "i = 14\n",
    "p = np.argmax(y_pred[i], axis=-1)\n",
    "print(\"{:15}||{:5}||{}\".format(\"Word\", \"True\", \"Pred\"))\n",
    "print(30 * \"=\")\n",
    "for w, t, pred in zip(X_char_te[i], y_te[i], p):\n",
    "    if t != 0: #PAD\n",
    "        print(\"{:15}: {:5} {}\".format(charindx2word(w), idx2tag[t], idx2tag[pred]))\n"
   ]
  },
  {
   "cell_type": "code",
   "execution_count": null,
   "metadata": {},
   "outputs": [],
   "source": [
    "def pred2label(pred):\n",
    "    out = []\n",
    "    for pred_i in pred:\n",
    "        out_i = []\n",
    "        for p in pred_i:\n",
    "            p_i = np.argmax(p, axis=-1)\n",
    "            out_i.append(idx2tag[p_i])\n",
    "        out.append(out_i)\n",
    "    return out\n",
    "pred_labels = pred2label(y_pred)\n",
    "\n",
    "def pred2labelV2(pred):\n",
    "    out = []\n",
    "    for pred_i in pred:\n",
    "        out_i = []\n",
    "        for p in pred_i:\n",
    "            out_i.append(idx2tag[p])\n",
    "        out.append(out_i)\n",
    "    return out\n",
    "test_labels = pred2labelV2(y_te)"
   ]
  },
  {
   "cell_type": "code",
   "execution_count": null,
   "metadata": {},
   "outputs": [],
   "source": [
    "from seqeval.metrics import accuracy_score,precision_score, recall_score, f1_score, classification_report\n",
    "print(\"F1-score: {:.1%}\".format(f1_score(test_labels, pred_labels)))"
   ]
  },
  {
   "cell_type": "code",
   "execution_count": null,
   "metadata": {},
   "outputs": [],
   "source": [
    "from sklearn_crfsuite.metrics import flat_classification_report  \n",
    "report = flat_classification_report(y_pred=pred_labels, y_true=test_labels)\n",
    "print(report)"
   ]
  },
  {
   "cell_type": "code",
   "execution_count": null,
   "metadata": {},
   "outputs": [],
   "source": [
    "print(classification_report(test_labels,pred_labels))"
   ]
  },
  {
   "cell_type": "code",
   "execution_count": null,
   "metadata": {},
   "outputs": [],
   "source": []
  },
  {
   "cell_type": "code",
   "execution_count": null,
   "metadata": {},
   "outputs": [],
   "source": []
  }
 ],
 "metadata": {
  "kernelspec": {
   "display_name": "Python 3",
   "language": "python",
   "name": "python3"
  },
  "language_info": {
   "codemirror_mode": {
    "name": "ipython",
    "version": 3
   },
   "file_extension": ".py",
   "mimetype": "text/x-python",
   "name": "python",
   "nbconvert_exporter": "python",
   "pygments_lexer": "ipython3",
   "version": "3.7.6"
  }
 },
 "nbformat": 4,
 "nbformat_minor": 4
}
