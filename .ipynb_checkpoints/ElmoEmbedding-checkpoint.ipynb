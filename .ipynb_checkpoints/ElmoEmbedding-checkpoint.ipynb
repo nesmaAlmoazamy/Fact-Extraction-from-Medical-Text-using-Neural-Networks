{
 "cells": [
  {
   "cell_type": "code",
   "execution_count": 1,
   "metadata": {},
   "outputs": [
    {
     "name": "stderr",
     "output_type": "stream",
     "text": [
      "Using TensorFlow backend.\n"
     ]
    }
   ],
   "source": [
    "import csv\n",
    "import numpy as np\n",
    "import pandas as pd\n",
    "from keras.preprocessing.text import Tokenizer\n",
    "from keras.preprocessing.sequence import pad_sequences\n",
    "import pickle"
   ]
  },
  {
   "cell_type": "code",
   "execution_count": 2,
   "metadata": {},
   "outputs": [],
   "source": [
    "DS = pd.read_csv(\"ObjectSubset150SentenceLength.csv\")"
   ]
  },
  {
   "cell_type": "code",
   "execution_count": 3,
   "metadata": {},
   "outputs": [
    {
     "data": {
      "text/plain": [
       "157280"
      ]
     },
     "execution_count": 3,
     "metadata": {},
     "output_type": "execute_result"
    }
   ],
   "source": [
    "len(DS)"
   ]
  },
  {
   "cell_type": "code",
   "execution_count": 4,
   "metadata": {},
   "outputs": [],
   "source": [
    "DS = DS[:10000]"
   ]
  },
  {
   "cell_type": "code",
   "execution_count": 5,
   "metadata": {},
   "outputs": [],
   "source": [
    "DS['tag'].fillna('text', inplace=True)"
   ]
  },
  {
   "cell_type": "code",
   "execution_count": 6,
   "metadata": {},
   "outputs": [
    {
     "data": {
      "text/html": [
       "<div>\n",
       "<style scoped>\n",
       "    .dataframe tbody tr th:only-of-type {\n",
       "        vertical-align: middle;\n",
       "    }\n",
       "\n",
       "    .dataframe tbody tr th {\n",
       "        vertical-align: top;\n",
       "    }\n",
       "\n",
       "    .dataframe thead th {\n",
       "        text-align: right;\n",
       "    }\n",
       "</style>\n",
       "<table border=\"1\" class=\"dataframe\">\n",
       "  <thead>\n",
       "    <tr style=\"text-align: right;\">\n",
       "      <th></th>\n",
       "      <th>text_ID</th>\n",
       "      <th>word</th>\n",
       "      <th>tag</th>\n",
       "    </tr>\n",
       "  </thead>\n",
       "  <tbody>\n",
       "    <tr>\n",
       "      <th>0</th>\n",
       "      <td>46809</td>\n",
       "      <td>RR</td>\n",
       "      <td>object</td>\n",
       "    </tr>\n",
       "    <tr>\n",
       "      <th>1</th>\n",
       "      <td>46809</td>\n",
       "      <td>130/80</td>\n",
       "      <td>object</td>\n",
       "    </tr>\n",
       "    <tr>\n",
       "      <th>2</th>\n",
       "      <td>46809</td>\n",
       "      <td>mmHg.</td>\n",
       "      <td>text</td>\n",
       "    </tr>\n",
       "    <tr>\n",
       "      <th>3</th>\n",
       "      <td>47482</td>\n",
       "      <td>RR142/89mmHg,</td>\n",
       "      <td>object</td>\n",
       "    </tr>\n",
       "    <tr>\n",
       "      <th>4</th>\n",
       "      <td>47482</td>\n",
       "      <td>HR</td>\n",
       "      <td>text</td>\n",
       "    </tr>\n",
       "  </tbody>\n",
       "</table>\n",
       "</div>"
      ],
      "text/plain": [
       "   text_ID           word     tag\n",
       "0    46809             RR  object\n",
       "1    46809         130/80  object\n",
       "2    46809          mmHg.    text\n",
       "3    47482  RR142/89mmHg,  object\n",
       "4    47482             HR    text"
      ]
     },
     "execution_count": 6,
     "metadata": {},
     "output_type": "execute_result"
    }
   ],
   "source": [
    "DS.head()"
   ]
  },
  {
   "cell_type": "code",
   "execution_count": 7,
   "metadata": {},
   "outputs": [
    {
     "data": {
      "text/plain": [
       "3657"
      ]
     },
     "execution_count": 7,
     "metadata": {},
     "output_type": "execute_result"
    }
   ],
   "source": [
    "words = list(set(DS[\"word\"].values))\n",
    "n_words = len(words);n_words"
   ]
  },
  {
   "cell_type": "code",
   "execution_count": 8,
   "metadata": {},
   "outputs": [
    {
     "data": {
      "text/plain": [
       "2"
      ]
     },
     "execution_count": 8,
     "metadata": {},
     "output_type": "execute_result"
    }
   ],
   "source": [
    "tags = list(set(DS[\"tag\"].values))\n",
    "n_tags = len(tags); n_tags\n"
   ]
  },
  {
   "cell_type": "code",
   "execution_count": 9,
   "metadata": {},
   "outputs": [],
   "source": [
    "class SentenceGetter(object):\n",
    "    \n",
    "    def __init__(self, data):\n",
    "        self.n_sent = 1\n",
    "        self.data = data\n",
    "        self.empty = False\n",
    "        agg_func = lambda s: [(w, t) for w, t in zip(s[\"word\"].values.tolist(),\n",
    "                                                           s[\"tag\"].values.tolist())]\n",
    "        self.grouped = self.data.groupby(\"text_ID\").apply(agg_func)\n",
    "        self.sentences = [s for s in self.grouped]\n",
    "    \n",
    "    def get_next(self):\n",
    "        try:\n",
    "            s = self.grouped[\"Sentence: {}\".format(self.n_sent)]\n",
    "            self.n_sent += 1\n",
    "            return s\n",
    "        except:\n",
    "            return None"
   ]
  },
  {
   "cell_type": "code",
   "execution_count": 10,
   "metadata": {},
   "outputs": [],
   "source": [
    "getter = SentenceGetter(DS)"
   ]
  },
  {
   "cell_type": "code",
   "execution_count": 11,
   "metadata": {},
   "outputs": [],
   "source": [
    "sentences = getter.sentences"
   ]
  },
  {
   "cell_type": "code",
   "execution_count": 12,
   "metadata": {},
   "outputs": [
    {
     "data": {
      "text/plain": [
       "1085"
      ]
     },
     "execution_count": 12,
     "metadata": {},
     "output_type": "execute_result"
    }
   ],
   "source": [
    "len(sentences)"
   ]
  },
  {
   "cell_type": "code",
   "execution_count": 13,
   "metadata": {},
   "outputs": [
    {
     "data": {
      "text/plain": [
       "[('Pt.', 'text'),\n",
       " ('tehtud', 'text'),\n",
       " ('3', 'text'),\n",
       " ('plasmaferees,', 'text'),\n",
       " ('talus', 'text'),\n",
       " ('hästi.', 'text'),\n",
       " ('Eemaldatud', 'text'),\n",
       " ('700', 'text'),\n",
       " ('ml', 'text'),\n",
       " ('plasmat.', 'text'),\n",
       " ('RR', 'object'),\n",
       " ('112/60', 'object'),\n",
       " ('mmHg.', 'text'),\n",
       " ('Tgasi', 'text'),\n",
       " ('22.10.09.', 'text')]"
      ]
     },
     "execution_count": 13,
     "metadata": {},
     "output_type": "execute_result"
    }
   ],
   "source": [
    "sentences[1]"
   ]
  },
  {
   "cell_type": "code",
   "execution_count": 14,
   "metadata": {},
   "outputs": [],
   "source": [
    "max_len = 10\n",
    "tag2idx = {t: i + 1 for i, t in enumerate(tags)}\n",
    "tag2idx[\"O\"] = 0\n"
   ]
  },
  {
   "cell_type": "code",
   "execution_count": 15,
   "metadata": {},
   "outputs": [],
   "source": [
    "X = [[w[0] for w in s] for s in sentences]\n"
   ]
  },
  {
   "cell_type": "code",
   "execution_count": 16,
   "metadata": {},
   "outputs": [],
   "source": [
    "new_X = []\n",
    "for seq in X:\n",
    "    new_seq = []\n",
    "    for i in range(max_len):\n",
    "        try:\n",
    "            new_seq.append(seq[i])\n",
    "        except:\n",
    "            new_seq.append(\"__PAD__\")\n",
    "    new_X.append(new_seq)\n",
    "X = new_X"
   ]
  },
  {
   "cell_type": "code",
   "execution_count": 17,
   "metadata": {},
   "outputs": [
    {
     "name": "stdout",
     "output_type": "stream",
     "text": [
      "['Pt.', 'tehtud', '3', 'plasmaferees,', 'talus', 'hästi.', 'Eemaldatud', '700', 'ml', 'plasmat.']\n"
     ]
    }
   ],
   "source": [
    "print(X[1])"
   ]
  },
  {
   "cell_type": "code",
   "execution_count": 18,
   "metadata": {},
   "outputs": [],
   "source": [
    "y = [[tag2idx[w[1]] for w in s] for s in sentences]\n"
   ]
  },
  {
   "cell_type": "code",
   "execution_count": 19,
   "metadata": {},
   "outputs": [],
   "source": [
    "from keras.preprocessing.sequence import pad_sequences\n",
    "y = pad_sequences(maxlen=max_len, sequences=y, padding=\"post\", value=tag2idx[\"O\"])\n"
   ]
  },
  {
   "cell_type": "code",
   "execution_count": 20,
   "metadata": {},
   "outputs": [
    {
     "data": {
      "text/plain": [
       "{'object': 1, 'text': 2, 'O': 0}"
      ]
     },
     "execution_count": 20,
     "metadata": {},
     "output_type": "execute_result"
    }
   ],
   "source": [
    "tag2idx"
   ]
  },
  {
   "cell_type": "code",
   "execution_count": 21,
   "metadata": {},
   "outputs": [],
   "source": [
    "idx2tag = {i: w for w, i in tag2idx.items()}"
   ]
  },
  {
   "cell_type": "code",
   "execution_count": 22,
   "metadata": {},
   "outputs": [
    {
     "data": {
      "text/plain": [
       "{1: 'object', 2: 'text', 0: 'O'}"
      ]
     },
     "execution_count": 22,
     "metadata": {},
     "output_type": "execute_result"
    }
   ],
   "source": [
    "idx2tag"
   ]
  },
  {
   "cell_type": "code",
   "execution_count": 23,
   "metadata": {},
   "outputs": [],
   "source": [
    "from sklearn.model_selection import train_test_split\n",
    "X_tr, X_te, y_tr, y_te = train_test_split(X, y, test_size=0.6, random_state=2018)\n"
   ]
  },
  {
   "cell_type": "code",
   "execution_count": 24,
   "metadata": {},
   "outputs": [
    {
     "data": {
      "text/plain": [
       "434"
      ]
     },
     "execution_count": 24,
     "metadata": {},
     "output_type": "execute_result"
    }
   ],
   "source": [
    "len(X_tr)"
   ]
  },
  {
   "cell_type": "code",
   "execution_count": 25,
   "metadata": {},
   "outputs": [],
   "source": [
    "batch_size = 32\n"
   ]
  },
  {
   "cell_type": "code",
   "execution_count": 26,
   "metadata": {},
   "outputs": [],
   "source": [
    "# import tensorflow.compat.v1 as tf\n",
    "# from keras import backend as K\n",
    "\n",
    "# # import tensorflow_hub as hub\n",
    "# # from keras import backend as K\n",
    "# # sess = tf.Session()\n",
    "\n",
    "# # init = tf.global_variables_initializer() # This reinitializes keras weights, so must be put before Keras loading\n",
    "# sess.run(init)\n",
    "# sess.run(tf.global_variables_initializer())\n",
    "# K.set_session(sess)\n",
    "\n",
    "import tensorflow as tf\n",
    "import tensorflow_hub as hub\n",
    "from keras import backend as K\n"
   ]
  },
  {
   "cell_type": "code",
   "execution_count": 28,
   "metadata": {},
   "outputs": [],
   "source": [
    "from allennlp.modules.elmo import Elmo, batch_to_ids\n",
    "options_file = \"options.json\"\n",
    "weight_file = \"swb_weights.hdf5\"\n",
    "elmo_model  = Elmo(options_file, weight_file, 2, dropout=0)\n"
   ]
  },
  {
   "cell_type": "code",
   "execution_count": 120,
   "metadata": {},
   "outputs": [],
   "source": [
    "from allennlp.modules.elmo import Elmo, batch_to_ids, Vocabulary, ELMoCharacterMapper\n"
   ]
  },
  {
   "cell_type": "code",
   "execution_count": 131,
   "metadata": {},
   "outputs": [
    {
     "data": {
      "text/plain": [
       "Elmo(\n",
       "  (_elmo_lstm): _ElmoBiLm(\n",
       "    (_token_embedder): _ElmoCharacterEncoder(\n",
       "      (char_conv_0): Conv1d(16, 32, kernel_size=(1,), stride=(1,))\n",
       "      (char_conv_1): Conv1d(16, 32, kernel_size=(2,), stride=(1,))\n",
       "      (char_conv_2): Conv1d(16, 64, kernel_size=(3,), stride=(1,))\n",
       "      (char_conv_3): Conv1d(16, 128, kernel_size=(4,), stride=(1,))\n",
       "      (char_conv_4): Conv1d(16, 256, kernel_size=(5,), stride=(1,))\n",
       "      (char_conv_5): Conv1d(16, 512, kernel_size=(6,), stride=(1,))\n",
       "      (char_conv_6): Conv1d(16, 1024, kernel_size=(7,), stride=(1,))\n",
       "      (_highways): Highway(\n",
       "        (_layers): ModuleList(\n",
       "          (0): Linear(in_features=2048, out_features=4096, bias=True)\n",
       "          (1): Linear(in_features=2048, out_features=4096, bias=True)\n",
       "        )\n",
       "      )\n",
       "      (_projection): Linear(in_features=2048, out_features=512, bias=True)\n",
       "    )\n",
       "    (_elmo_lstm): ElmoLstm(\n",
       "      (forward_layer_0): LstmCellWithProjection(\n",
       "        (input_linearity): Linear(in_features=512, out_features=16384, bias=False)\n",
       "        (state_linearity): Linear(in_features=512, out_features=16384, bias=True)\n",
       "        (state_projection): Linear(in_features=4096, out_features=512, bias=False)\n",
       "      )\n",
       "      (backward_layer_0): LstmCellWithProjection(\n",
       "        (input_linearity): Linear(in_features=512, out_features=16384, bias=False)\n",
       "        (state_linearity): Linear(in_features=512, out_features=16384, bias=True)\n",
       "        (state_projection): Linear(in_features=4096, out_features=512, bias=False)\n",
       "      )\n",
       "      (forward_layer_1): LstmCellWithProjection(\n",
       "        (input_linearity): Linear(in_features=512, out_features=16384, bias=False)\n",
       "        (state_linearity): Linear(in_features=512, out_features=16384, bias=True)\n",
       "        (state_projection): Linear(in_features=4096, out_features=512, bias=False)\n",
       "      )\n",
       "      (backward_layer_1): LstmCellWithProjection(\n",
       "        (input_linearity): Linear(in_features=512, out_features=16384, bias=False)\n",
       "        (state_linearity): Linear(in_features=512, out_features=16384, bias=True)\n",
       "        (state_projection): Linear(in_features=4096, out_features=512, bias=False)\n",
       "      )\n",
       "    )\n",
       "  )\n",
       "  (_dropout): Dropout(p=0, inplace=False)\n",
       "  (scalar_mix_0): ScalarMix(\n",
       "    (scalar_parameters): ParameterList(\n",
       "        (0): Parameter containing: [torch.FloatTensor of size 1]\n",
       "        (1): Parameter containing: [torch.FloatTensor of size 1]\n",
       "        (2): Parameter containing: [torch.FloatTensor of size 1]\n",
       "    )\n",
       "  )\n",
       "  (scalar_mix_1): ScalarMix(\n",
       "    (scalar_parameters): ParameterList(\n",
       "        (0): Parameter containing: [torch.FloatTensor of size 1]\n",
       "        (1): Parameter containing: [torch.FloatTensor of size 1]\n",
       "        (2): Parameter containing: [torch.FloatTensor of size 1]\n",
       "    )\n",
       "  )\n",
       ")"
      ]
     },
     "execution_count": 131,
     "metadata": {},
     "output_type": "execute_result"
    }
   ],
   "source": [
    "elmo_model"
   ]
  },
  {
   "cell_type": "code",
   "execution_count": 51,
   "metadata": {},
   "outputs": [],
   "source": [
    "# import tensorflow_hub as hub \n"
   ]
  },
  {
   "cell_type": "code",
   "execution_count": 41,
   "metadata": {},
   "outputs": [],
   "source": [
    "# # tf.disable_eager_execution()\n",
    "\n",
    "# elmo = hub.Module(\"https://tfhub.dev/google/elmo/2\", trainable=True)\n"
   ]
  },
  {
   "cell_type": "code",
   "execution_count": 48,
   "metadata": {},
   "outputs": [],
   "source": [
    "# from keras.models import Model, Input\n",
    "# from keras.layers.merge import add\n",
    "# from keras.layers import LSTM, Embedding, Dense, TimeDistributed, Dropout, Bidirectional, Lambda\n"
   ]
  },
  {
   "cell_type": "code",
   "execution_count": 29,
   "metadata": {},
   "outputs": [],
   "source": [
    "X_tr_character_ids = batch_to_ids(X_tr)\n",
    "X_tr_embeddings = elmo_model(X_tr_character_ids)\n",
    "\n",
    "X_te_character_ids = batch_to_ids(X_te)\n",
    "X_te_embeddings = elmo_model(X_te_character_ids)"
   ]
  },
  {
   "cell_type": "code",
   "execution_count": null,
   "metadata": {},
   "outputs": [],
   "source": []
  },
  {
   "cell_type": "code",
   "execution_count": 47,
   "metadata": {},
   "outputs": [],
   "source": [
    "# sess.run(tf.compat.v1.global_variables_initializer())\n",
    "# sess.run(tf.compat.v1.tables_initializer())"
   ]
  },
  {
   "cell_type": "code",
   "execution_count": 45,
   "metadata": {},
   "outputs": [],
   "source": [
    "# def ElmoEmbedding(x):\n",
    "#     return elmo_model(inputs={\n",
    "#                             \"tokens\": tf.squeeze(tf.cast(x, tf.string)),\n",
    "#                             \"sequence_len\": tf.constant(batch_size*[max_len])\n",
    "#                       },\n",
    "# #                       signature=\"tokens\",\n",
    "#                       as_dict=True)[\"elmo\"]\n"
   ]
  },
  {
   "cell_type": "code",
   "execution_count": 30,
   "metadata": {},
   "outputs": [],
   "source": [
    "# from keras.models import Model, Input\n",
    "# from keras.layers.merge import add\n",
    "from keras.layers import LSTM, Embedding, Dense, TimeDistributed, Dropout, Bidirectional, Lambda\n"
   ]
  },
  {
   "cell_type": "code",
   "execution_count": 51,
   "metadata": {},
   "outputs": [],
   "source": [
    "# input_text = Input(shape=(max_len,), dtype=tf.string)\n",
    "# embedding = Lambda(ElmoEmbedding, output_shape=(None, 1024))(input_text)\n",
    "# x = Bidirectional(LSTM(units=512, return_sequences=True,\n",
    "#                        recurrent_dropout=0.2, dropout=0.2))(embedding)\n",
    "# x_rnn = Bidirectional(LSTM(units=512, return_sequences=True,\n",
    "#                            recurrent_dropout=0.2, dropout=0.2))(x)\n",
    "# x = add([x, x_rnn])  # residual connection to the first biLSTM\n",
    "# out = TimeDistributed(Dense(n_tags, activation=\"softmax\"))(x)\n"
   ]
  },
  {
   "cell_type": "code",
   "execution_count": 31,
   "metadata": {},
   "outputs": [
    {
     "data": {
      "text/plain": [
       "torch.Size([434, 10, 1024])"
      ]
     },
     "execution_count": 31,
     "metadata": {},
     "output_type": "execute_result"
    }
   ],
   "source": [
    "X_tr_embeddings[\"elmo_representations\"][1].shape"
   ]
  },
  {
   "cell_type": "code",
   "execution_count": 32,
   "metadata": {},
   "outputs": [
    {
     "data": {
      "text/plain": [
       "(434, 10)"
      ]
     },
     "execution_count": 32,
     "metadata": {},
     "output_type": "execute_result"
    }
   ],
   "source": [
    "y_tr.shape"
   ]
  },
  {
   "cell_type": "code",
   "execution_count": 34,
   "metadata": {},
   "outputs": [
    {
     "data": {
      "text/plain": [
       "2"
      ]
     },
     "execution_count": 34,
     "metadata": {},
     "output_type": "execute_result"
    }
   ],
   "source": [
    "n_tags"
   ]
  },
  {
   "cell_type": "code",
   "execution_count": 36,
   "metadata": {},
   "outputs": [],
   "source": [
    "# y_te.reshape(217,10,1).shape"
   ]
  },
  {
   "cell_type": "code",
   "execution_count": 102,
   "metadata": {},
   "outputs": [],
   "source": [
    "from keras.models import Sequential\n",
    "from keras.layers import LSTM, core, Activation, Dense\n",
    "import numpy as np\n",
    "from keras.layers import Bidirectional, concatenate, SpatialDropout1D, GlobalMaxPooling1D\n",
    "\n",
    "\n",
    "model = Sequential()          \n",
    "\n",
    "model.add(LSTM(50, input_shape=(10, 1024), return_sequences=True,recurrent_dropout=0.6))\n",
    "# , dropout=0.2\n",
    "model.add(TimeDistributed(Dense(3, activation='softmax')))\n",
    "model.compile(loss='sparse_categorical_crossentropy', optimizer='adam', metrics=[\"accuracy\"])"
   ]
  },
  {
   "cell_type": "code",
   "execution_count": 98,
   "metadata": {},
   "outputs": [
    {
     "name": "stdout",
     "output_type": "stream",
     "text": [
      "Model: \"sequential_12\"\n",
      "_________________________________________________________________\n",
      "Layer (type)                 Output Shape              Param #   \n",
      "=================================================================\n",
      "lstm_20 (LSTM)               (None, 150, 50)           215000    \n",
      "_________________________________________________________________\n",
      "time_distributed_16 (TimeDis (None, 150, 3)            153       \n",
      "=================================================================\n",
      "Total params: 215,153\n",
      "Trainable params: 215,153\n",
      "Non-trainable params: 0\n",
      "_________________________________________________________________\n"
     ]
    }
   ],
   "source": [
    "model.summary()"
   ]
  },
  {
   "cell_type": "code",
   "execution_count": 99,
   "metadata": {},
   "outputs": [],
   "source": [
    "# X_tr_embeddings['elmo_representations'][1].detach().numpy().shape"
   ]
  },
  {
   "cell_type": "code",
   "execution_count": 100,
   "metadata": {},
   "outputs": [],
   "source": [
    "# y_tr.reshape(868,10,1)"
   ]
  },
  {
   "cell_type": "code",
   "execution_count": 103,
   "metadata": {},
   "outputs": [
    {
     "name": "stdout",
     "output_type": "stream",
     "text": [
      "Train on 390 samples, validate on 44 samples\n",
      "Epoch 1/10\n",
      "390/390 [==============================] - 1s 1ms/step - loss: 0.4873 - accuracy: 0.8472 - val_loss: 0.2413 - val_accuracy: 0.9295\n",
      "Epoch 2/10\n",
      "390/390 [==============================] - 0s 456us/step - loss: 0.2056 - accuracy: 0.9315 - val_loss: 0.1891 - val_accuracy: 0.9455\n",
      "Epoch 3/10\n",
      "390/390 [==============================] - 0s 459us/step - loss: 0.1668 - accuracy: 0.9379 - val_loss: 0.1759 - val_accuracy: 0.9386\n",
      "Epoch 4/10\n",
      "390/390 [==============================] - ETA: 0s - loss: 0.1475 - accuracy: 0.94 - 0s 456us/step - loss: 0.1468 - accuracy: 0.9449 - val_loss: 0.1758 - val_accuracy: 0.9523\n",
      "Epoch 5/10\n",
      "390/390 [==============================] - 0s 451us/step - loss: 0.1342 - accuracy: 0.9477 - val_loss: 0.1698 - val_accuracy: 0.9477\n",
      "Epoch 6/10\n",
      "390/390 [==============================] - 0s 421us/step - loss: 0.1216 - accuracy: 0.9500 - val_loss: 0.1669 - val_accuracy: 0.9500\n",
      "Epoch 7/10\n",
      "390/390 [==============================] - 0s 410us/step - loss: 0.1098 - accuracy: 0.9567 - val_loss: 0.1715 - val_accuracy: 0.9500\n",
      "Epoch 8/10\n",
      "390/390 [==============================] - 0s 415us/step - loss: 0.0990 - accuracy: 0.9610 - val_loss: 0.1677 - val_accuracy: 0.9545\n",
      "Epoch 9/10\n",
      "390/390 [==============================] - 0s 408us/step - loss: 0.0893 - accuracy: 0.9672 - val_loss: 0.1669 - val_accuracy: 0.9545\n",
      "Epoch 10/10\n",
      "390/390 [==============================] - 0s 410us/step - loss: 0.0816 - accuracy: 0.9721 - val_loss: 0.1749 - val_accuracy: 0.9500\n"
     ]
    }
   ],
   "source": [
    "history = model.fit(X_tr_embeddings['elmo_representations'][1].detach().numpy(), y_tr.reshape(y_tr.shape[0],10,1),validation_split=0.1 ,verbose=1,epochs=10,batch_size=32)"
   ]
  },
  {
   "cell_type": "code",
   "execution_count": 104,
   "metadata": {},
   "outputs": [
    {
     "data": {
      "image/png": "[encoded data removed]",
      "text/plain": [
       "<Figure size 864x864 with 1 Axes>"
      ]
     },
     "metadata": {},
     "output_type": "display_data"
    }
   ],
   "source": [
    "hist = pd.DataFrame(history.history)\n",
    "import matplotlib.pyplot as plt\n",
    "plt.style.use(\"ggplot\")\n",
    "plt.figure(figsize=(12,12))\n",
    "plt.plot(hist[\"accuracy\"])\n",
    "plt.plot(hist[\"val_accuracy\"])\n",
    "plt.show()\n"
   ]
  },
  {
   "cell_type": "code",
   "execution_count": 105,
   "metadata": {},
   "outputs": [
    {
     "name": "stdout",
     "output_type": "stream",
     "text": [
      "651/651 [==============================] - 0s 224us/step\n"
     ]
    }
   ],
   "source": [
    "y_pred = model.predict(X_te_embeddings['elmo_representations'][1].detach().numpy(),verbose=1)"
   ]
  },
  {
   "cell_type": "code",
   "execution_count": 106,
   "metadata": {},
   "outputs": [
    {
     "data": {
      "text/plain": [
       "array([[2.9279480e-03, 2.2904875e-02, 9.7416717e-01],\n",
       "       [5.8955308e-03, 8.2393378e-01, 1.7017078e-01],\n",
       "       [6.3151452e-03, 5.7540238e-01, 4.1828248e-01],\n",
       "       [1.7276158e-03, 1.3815437e-02, 9.8445696e-01],\n",
       "       [4.5477566e-03, 1.9985691e-02, 9.7546661e-01],\n",
       "       [9.8784900e-01, 3.5014488e-03, 8.6495522e-03],\n",
       "       [9.9598807e-01, 1.1015098e-03, 2.9104827e-03],\n",
       "       [9.9722505e-01, 7.6261768e-04, 2.0123480e-03],\n",
       "       [9.9768746e-01, 6.4733950e-04, 1.6652371e-03],\n",
       "       [9.9783081e-01, 5.9194519e-04, 1.5772361e-03]], dtype=float32)"
      ]
     },
     "execution_count": 106,
     "metadata": {},
     "output_type": "execute_result"
    }
   ],
   "source": [
    "y_pred[1]"
   ]
  },
  {
   "cell_type": "code",
   "execution_count": 107,
   "metadata": {},
   "outputs": [
    {
     "data": {
      "text/plain": [
       "array([2, 1, 1, 2, 2, 0, 0, 0, 0, 0])"
      ]
     },
     "execution_count": 107,
     "metadata": {},
     "output_type": "execute_result"
    }
   ],
   "source": [
    "y_te[1]"
   ]
  },
  {
   "cell_type": "code",
   "execution_count": 108,
   "metadata": {},
   "outputs": [],
   "source": [
    "def pred2label(pred):\n",
    "    out = []\n",
    "    for pred_i in pred:\n",
    "        out_i = []\n",
    "        for p in pred_i:\n",
    "            p_i = np.argmax(p, axis=-1)\n",
    "            out_i.append(idx2tag[p_i])\n",
    "        out.append(out_i)\n",
    "    return out\n",
    "pred_labels = pred2label(y_pred)\n",
    "\n",
    "def pred2labelV2(pred):\n",
    "    out = []\n",
    "    for pred_i in pred:\n",
    "        out_i = []\n",
    "        for p in pred_i:\n",
    "            out_i.append(idx2tag[p])\n",
    "        out.append(out_i)\n",
    "    return out\n",
    "test_labels = pred2labelV2(y_te)"
   ]
  },
  {
   "cell_type": "code",
   "execution_count": 176,
   "metadata": {},
   "outputs": [
    {
     "name": "stdout",
     "output_type": "stream",
     "text": [
      "Word           ||True ||Pred\n",
      "==============================\n",
      "*              : text  text\n",
      "Psüühiline     : text  text\n",
      "seisund        : text  text\n",
      "normis         : text  text\n",
      "__PAD__        : O     O\n",
      "__PAD__        : O     O\n",
      "__PAD__        : O     O\n",
      "__PAD__        : O     O\n",
      "__PAD__        : O     O\n",
      "__PAD__        : O     O\n"
     ]
    }
   ],
   "source": [
    "i = 208\n",
    "p = np.argmax(y_pred[i], axis=-1)\n",
    "print(\"{:15}||{:5}||{}\".format(\"Word\", \"True\", \"Pred\"))\n",
    "print(30 * \"=\")\n",
    "for w, t, pred in zip(X_te[i], y_te[i], p):\n",
    "    if w != 0:\n",
    "        print(\"{:15}: {:5} {}\".format(w,idx2tag[t], idx2tag[pred]))\n"
   ]
  },
  {
   "cell_type": "code",
   "execution_count": 178,
   "metadata": {},
   "outputs": [
    {
     "name": "stdout",
     "output_type": "stream",
     "text": [
      "101            : object text\n",
      "kg,165         : object text\n",
      "RR             : text  object\n",
      "l/min.         : object text\n",
      "RR             : object text\n",
      "type=\"per\"     : object text\n",
      "ole.Toonid     : object text\n",
      "tuhmid         : object text\n",
      "Pikkus         : object text\n",
      "127/67mmHg     : object text\n",
      "norm,          : object text\n",
      "kõht           : object text\n",
      ",nüüd          : object text\n",
      "RR             : object text\n",
      "RR             : text  object\n",
      "RR             : object text\n",
      "160/100mm      : object text\n",
      "RR-121/84      : object text\n",
      "enesetunne     : object text\n",
      "hea,           : object text\n",
      "väärtus        : object text\n",
      "RR             : object text\n",
      "Cor            : object text\n",
      "ole            : object text\n",
      "RR             : object text\n",
      "RR             : object text\n",
      "160/90         : object text\n",
      "eemaldatud     : object text\n",
      "700            : object text\n",
      "RR             : object text\n",
      "140/           : object text\n",
      "puhtad,        : object text\n",
      "reg.           : object text\n",
      "-              : object text\n",
      "Cor            : object text\n",
      "RR             : object text\n",
      "125/75mmhg     : object text\n",
      "09.07.2013     : object text\n",
      "RR             : text  object\n",
      "Kaebused       : object text\n",
      "südame         : object text\n",
      "Pikkus-174cm,  : object text\n",
      "Kliiniliselt   : object text\n",
      "kompenseeritud : object text\n",
      "x              : text  object\n",
      "RR             : object text\n",
      "140/80         : object text\n",
      "-              : text  object\n",
      "Kardiovaskulaars_steem:: object text\n",
      "RR             : text  object\n",
      "heas           : object text\n",
      "üldseisundis.  : object text\n",
      "14.06.2010     : object text\n",
      "regulaarne,    : object text\n",
      "fr.            : object text\n",
      "Kardiovaskulaarsüsteem: object text\n",
      "RR             : object text\n",
      "RR:            : object text\n",
      "114/68         : object text\n",
      "normofr,       : object text\n",
      "RR             : object text\n",
      "ei             : object text\n",
      "ole.           : object text\n",
      "Pikkus-160     : object text\n",
      "-              : text  object\n",
      "-              : object text\n",
      "Kaal           : object text\n",
      "lisakahinaid   : object text\n",
      "ei             : object text\n",
      "170/90         : text  object\n",
      "ÄKSta          : object text\n",
      "RR             : object text\n",
      "Kardiovaskulaarsüsteem:: object text\n",
      "130/88mmHg,    : text  object\n",
      "RR             : object text\n",
      "160            : object text\n",
      "RR             : object text\n",
      "160            : object text\n",
      "puhtad.        : object text\n",
      "RR             : object text\n",
      "100/60mmHg.    : text  object\n",
      "RR             : text  object\n",
      "RR:            : object text\n",
      "rütmis,toonid  : text  object\n",
      "ei             : object text\n",
      "kuula.FR       : object text\n",
      "puhtad,        : object text\n",
      "cor.           : object text\n",
      "RR125/         : object text\n",
      "RR             : object text\n",
      "120/80         : object text\n",
      "RR120/         : object text\n",
      "RR156/92mmHg   : object text\n",
      "n;_H_          : object text\n",
      "sg             : object text\n",
      "126/75         : object text\n",
      "II             : object text\n",
      "diff           : object text\n",
      "140/80         : object text\n",
      "-              : object text\n",
      "Südametegevus  : object text\n",
      "kg,            : object text\n",
      "kasv           : object text\n",
      "sm,            : text  object\n",
      "BMI            : text  object\n",
      "-              : object text\n",
      "Kopsude        : object text\n",
      "RR             : object text\n",
      "164/77         : object text\n",
      "134/80         : object text\n",
      "Kardiovaskulaarsüsteem: object text\n",
      "RR             : object text\n",
      "160/80         : object text\n",
      "-              : object text\n",
      "ole            : object text\n",
      ".              : object text\n",
      "..             : object text\n",
      "RR             : object text\n",
      "P              : object text\n",
      "76             : object text\n",
      "hürereemiline, : object text\n",
      "muus           : object text\n",
      "tööta.RR185/   : object text\n",
      "Kliiniliselt   : object text\n",
      "ja             : object text\n",
      "kaal           : object text\n",
      "79             : object text\n",
      "167            : object text\n",
      "BMI            : text  object\n",
      "RR             : text  object\n",
      "RR             : text  object\n",
      "I              : object text\n",
      "astmes,difuusne.: object text\n",
      "RR             : object text\n",
      "150/100        : object text\n",
      "98%,fr.93x/min.RR: object text\n",
      "140/90         : object text\n",
      "RR             : object text\n",
      "140/80mmhg     : object text\n",
      "100/65;        : text  object\n",
      "163            : object text\n",
      "reg            : object text\n",
      "kaal91kg,      : object text\n",
      "RR:1452/90mmHg,: text  object\n",
      "RR             : text  object\n",
      "-              : object text\n",
      "Gl             : object text\n",
      "18.02.14,neerupuudulikkus: object text\n",
      "süveneb        : object text\n",
      "Rr             : text  object\n",
      "160/100mmHg    : text  object\n",
      "06.08.2013     : object text\n",
      "-              : object text\n",
      "05.09.2013     : object text\n",
      "bilateraalselt : object text\n",
      "obstruktsioon. : object text\n",
      "morph=\"_S_     : object text\n",
      "-              : text  object\n",
      "RR             : text  object\n",
      "105/70mmHg     : object text\n",
      "RR101/75mmHg   : text  object\n",
      "karedavõitu,   : object text\n",
      "kahvatu.       : object text\n",
      "108/67         : object text\n",
      "RR:            : object text\n",
      "RR             : text  object\n",
      "arütmilised    : object text\n",
      "RR             : object text\n",
      "RR-monitooringul: object text\n",
      "kõrgemaid      : object text\n",
      "RR             : text  object\n",
      "veloergomeetriat: text  object\n",
      "RR             : text  object\n",
      "adipoosne      : object text\n",
      "2.             : object text\n",
      "rütmis         : text  object\n",
      "puhtad.FR      : object text\n",
      "100            : object text\n",
      "x1min.RR       : text  object\n",
      "RR             : object text\n",
      "130/80         : object text\n",
      "type=\"per\"     : object text\n",
      "morph=\"_H_     : object text\n",
      "RR130-88mmhg   : object text\n",
      "ka             : object text\n",
      "suhkrut,       : object text\n",
      "siinusrütm,    : object text\n",
      "frekvents      : object text\n",
      "RR             : text  object\n",
      "180/90         : text  object\n",
      "RR             : object text\n",
      "Kardiovaskulaarsüsteem: object text\n",
      "RR             : text  object\n",
      "mmHg           : object text\n",
      "vasakul,       : object text\n",
      "Kardiovaskulaarsüsteem: object text\n",
      "141/92,        : object text\n",
      "kg.RR          : object text\n",
      "07.12.2010     : object text\n",
      "RR130,75       : object text\n",
      "RR120-78,      : object text\n",
      "RR-130/80mmHg, : object text\n",
      "RR             : text  object\n",
      "väärtus        : object text\n",
      "enesetunne     : object text\n",
      "hea,           : object text\n",
      "29.01.2015     : object text\n",
      "-              : object text\n",
      "RR114-70mmhg   : object text\n",
      "Auskultatsioonil: object text\n",
      "normofr.       : object text\n",
      "RR             : text  object\n",
      "Näost          : object text\n",
      "hüpereemiline, : object text\n",
      ".              : object text\n",
      "EKG            : object text\n",
      "RR             : text  object\n",
      "analüüsidele.  : object text\n",
      "RR             : object text\n",
      "RR             : object text\n",
      "145/85         : object text\n",
      "Kliiniliselt   : object text\n",
      "kompenseeritud : object text\n",
      "170,1cm        : object text\n",
      "rahuldav.      : object text\n",
      "Jume           : object text\n",
      "n\"/>,          : object text\n",
      "D02638         : object text\n",
      "RR             : object text\n",
      "162/78         : object text\n",
      "140/72         : text  object\n",
      "RR             : text  object\n",
      "140/90         : text  object\n",
      "134/.143/157   : text  object\n",
      "90/60          : text  object\n",
      "Klappidel      : object text\n",
      "lisakahinaid   : object text\n",
      "stenokardilised: object text\n",
      "valud,         : object text\n",
      "150/95         : text  object\n",
      "78xmin.        : object text\n",
      "RR             : object text\n",
      "120/82mmHg.    : text  object\n",
      "RR120/70mmHg   : object text\n",
      "Nimi_D01414    : text  O\n",
      "RR             : object text\n",
      "114/79,        : object text\n",
      "-              : text  object\n",
      "RR             : text  object\n",
      "sagaras        : object text\n",
      "tihenemine,    : object text\n",
      "160/80         : text  object\n",
      "Pikkus         : object text\n",
      "157            : object text\n",
      "väärtus        : object text\n",
      "kg,            : object text\n",
      "RR             : object text\n",
      "164/100        : text  object\n",
      "l/min.RR       : object text\n",
      "130/80         : object text\n",
      "RR             : object text\n",
      "120/80         : object text\n",
      "Kuupaev_Visiit_Arst_Uksus_: text  O\n",
      "RR             : object text\n",
      "125/80mmHg     : object text\n",
      "kokkuvõte:     : object text\n",
      "saabudes       : object text\n",
      "Fr             : object text\n",
      "115            : object text\n",
      "RR             : text  object\n",
      "langetada.     : object text\n",
      "RR97/68mmHg,   : object text\n",
      "09.11.2010     : object text\n",
      "RR             : text  object\n",
      "17.12.2010     : object text\n",
      "-              : object text\n",
      "Kaebusteta.    : object text\n",
      "RR             : object text\n",
      "130/80         : object text\n",
      "rägivad.Tuursed-RR130/86: object text\n",
      "RR             : text  object\n",
      "püstiasendis   : object text\n",
      "väärtus        : object text\n",
      "Palp.          : object text\n",
      "valulikkust    : object text\n",
      "opitud         : object text\n",
      "sapipõis       : object text\n",
      "Kardiovaskulaarsüsteem:: object text\n",
      "RR             : text  object\n",
      "130/80mmHg,    : text  object\n",
      "regul._        : object text\n",
      "Kardiovaskulaarsüsteem:: object text\n",
      "RR             : text  object\n",
      "130/80mmHg,    : text  object\n",
      "Pt             : object text\n",
      "tugev          : object text\n",
      "tasane         : object text\n",
      "hingamiskahin  : object text\n",
      "RR             : text  object\n",
      "selget         : object text\n",
      "sõlme          : object text\n",
      "RR             : text  object\n",
      "Pikkus-168cm,  : object text\n",
      "sööki-5,9mmol/l.RR-150/90mmHg,: object text\n",
      "siinusrütm.    : object text\n",
      "150/90         : object text\n",
      "vajalik        : object text\n",
      "otsustada      : object text\n",
      "RR             : text  object\n",
      ",toonid        : object text\n",
      "tuhmid         : object text\n",
      "15.06.2011     : object text\n",
      "-              : object text\n",
      "rütmiline,     : text  object\n",
      "h/k.           : object text\n",
      "RR             : object text\n",
      "15.10.2012     : object text\n",
      "-              : object text\n",
      "rütmiline,     : text  object\n",
      "120/80         : text  object\n",
      "type=\"per\"     : object text\n",
      "RR117/80       : object text\n",
      "08.10.2012     : object text\n",
      "RR             : object text\n",
      "134/           : object text\n",
      "RR             : object text\n",
      "130/90         : object text\n",
      "RR             : object text\n",
      "139/71         : object text\n"
     ]
    }
   ],
   "source": [
    "j = 0\n",
    "for i in range(len(y_pred)):\n",
    "    p = np.argmax(y_pred[i], axis=-1)\n",
    "#     print(\"{:15}||{:5}||{}\".format(\"Word\", \"True\", \"Pred\"))\n",
    "#     print(30 * \"=\")\n",
    "    for w, t, pred in zip(X_te[i], y_te[i], p):\n",
    "        if w != \"__PAD__\": #PAD\n",
    "            if idx2tag[t] != idx2tag[pred]:\n",
    "                print(\"{:15}: {:5} {}\".format(w, idx2tag[t], idx2tag[pred]))\n",
    "                j = j+1\n"
   ]
  },
  {
   "cell_type": "code",
   "execution_count": 179,
   "metadata": {},
   "outputs": [
    {
     "data": {
      "text/plain": [
       "329"
      ]
     },
     "execution_count": 179,
     "metadata": {},
     "output_type": "execute_result"
    }
   ],
   "source": [
    "j"
   ]
  },
  {
   "cell_type": "code",
   "execution_count": 163,
   "metadata": {},
   "outputs": [
    {
     "name": "stdout",
     "output_type": "stream",
     "text": [
      "              precision    recall  f1-score   support\n",
      "\n",
      "           O       1.00      1.00      1.00      2181\n",
      "      object       0.79      0.46      0.58       495\n",
      "        text       0.93      0.98      0.96      3834\n",
      "\n",
      "    accuracy                           0.95      6510\n",
      "   macro avg       0.91      0.82      0.85      6510\n",
      "weighted avg       0.94      0.95      0.94      6510\n",
      "\n"
     ]
    }
   ],
   "source": [
    "from  sklearn_crfsuite.metrics import flat_classification_report  \n",
    "report = flat_classification_report(y_pred=pred_labels, y_true=test_labels)\n",
    "print(report)"
   ]
  },
  {
   "cell_type": "code",
   "execution_count": 164,
   "metadata": {},
   "outputs": [
    {
     "name": "stdout",
     "output_type": "stream",
     "text": [
      "F1-score: 62.5%\n"
     ]
    }
   ],
   "source": [
    "from seqeval.metrics import precision_score, recall_score, f1_score, classification_report\n",
    "print(\"F1-score: {:.1%}\".format(f1_score(test_labels, pred_labels)))"
   ]
  },
  {
   "cell_type": "code",
   "execution_count": 165,
   "metadata": {},
   "outputs": [
    {
     "name": "stdout",
     "output_type": "stream",
     "text": [
      "           precision    recall  f1-score   support\n",
      "\n",
      "     text       0.70      0.63      0.66       816\n",
      "   object       0.63      0.42      0.50       294\n",
      "\n",
      "micro avg       0.69      0.57      0.63      1110\n",
      "macro avg       0.69      0.57      0.62      1110\n",
      "\n"
     ]
    }
   ],
   "source": [
    "print(classification_report(test_labels, pred_labels))"
   ]
  },
  {
   "cell_type": "code",
   "execution_count": 114,
   "metadata": {},
   "outputs": [],
   "source": [
    "sentences = [['minu', 'nimi' ,'on', 'nesma', 'hästi', 'Eemaldatud', '700', 'ml', 'plasmat','RR',' 112/60',' mmHg'], ['Pt.', 'tehtud' ,'plasmaferees', 'talus', 'hästi']]\n",
    "character_ids = batch_to_ids(sentences)\n",
    "embeddings = elmo_model(character_ids)"
   ]
  },
  {
   "cell_type": "code",
   "execution_count": 115,
   "metadata": {},
   "outputs": [
    {
     "data": {
      "text/plain": [
       "torch.Size([2, 12, 1024])"
      ]
     },
     "execution_count": 115,
     "metadata": {},
     "output_type": "execute_result"
    }
   ],
   "source": [
    "embeddings['elmo_representations'][1].shape"
   ]
  },
  {
   "cell_type": "code",
   "execution_count": 116,
   "metadata": {},
   "outputs": [
    {
     "data": {
      "text/plain": [
       "array([ 1.5760477, -1.4664712,  1.4634519, ..., -1.5398364, -1.3632509,\n",
       "        0.5512005], dtype=float32)"
      ]
     },
     "execution_count": 116,
     "metadata": {},
     "output_type": "execute_result"
    }
   ],
   "source": [
    "embeddings['elmo_representations'][1][1][4].detach().numpy()"
   ]
  },
  {
   "cell_type": "code",
   "execution_count": 118,
   "metadata": {},
   "outputs": [],
   "source": [
    "# scipy.spatial.distance.cosine(embeddings['elmo_representations'][1][1][4].detach().numpy(),embeddings['elmo_representations'][1][1][1].detach().numpy())"
   ]
  }
 ],
 "metadata": {
  "kernelspec": {
   "display_name": "Python 3",
   "language": "python",
   "name": "python3"
  },
  "language_info": {
   "codemirror_mode": {
    "name": "ipython",
    "version": 3
   },
   "file_extension": ".py",
   "mimetype": "text/x-python",
   "name": "python",
   "nbconvert_exporter": "python",
   "pygments_lexer": "ipython3",
   "version": "3.7.6"
  }
 },
 "nbformat": 4,
 "nbformat_minor": 4
}
