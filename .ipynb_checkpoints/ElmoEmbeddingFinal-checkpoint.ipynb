{
 "cells": [
  {
   "cell_type": "code",
   "execution_count": 14,
   "metadata": {},
   "outputs": [],
   "source": [
    "import csv\n",
    "import numpy as np\n",
    "import pandas as pd\n",
    "from keras.preprocessing.text import Tokenizer\n",
    "from keras.preprocessing.sequence import pad_sequences\n",
    "\n",
    "from allennlp.modules.elmo import Elmo, batch_to_ids\n",
    "\n",
    "import pickle\n",
    "\n",
    "\n",
    "\n",
    "DS = pd.read_csv(\"ObjectSubset150SentenceLength.csv\")\n",
    "DS['tag'].fillna('text', inplace=True)\n",
    "words = list(set(DS[\"word\"].values))\n",
    "n_words = len(words)\n",
    "tags = list(set(DS[\"tag\"].values))\n",
    "n_tags = len(tags)\n",
    "\n",
    "class SentenceGetter(object):\n",
    "    def __init__(self, data):\n",
    "        self.n_sent = 1\n",
    "        self.data = data\n",
    "        self.empty = False\n",
    "        agg_func = lambda s: [(w, t) for w, t in zip(s[\"word\"].values.tolist(),\n",
    "                                                           s[\"tag\"].values.tolist())]\n",
    "        self.grouped = self.data.groupby(\"text_ID\").apply(agg_func)\n",
    "        self.sentences = [s for s in self.grouped]\n",
    "\n",
    "getter = SentenceGetter(DS)\n",
    "sentences = getter.sentences\n",
    "\n",
    "max_len = 10\n",
    "tags2 = [\"PAD\",\"object\",\"text\"]\n",
    "tag2idx = {t: i  for i, t in enumerate(tags2)}\n",
    "# tag2idx[\"PAD\"] = 0\n",
    "\n",
    "X = [[w[0] for w in s] for s in sentences]\n",
    "\n",
    "new_X = []\n",
    "for seq in X:\n",
    "    new_seq = []\n",
    "    for i in range(max_len):\n",
    "        try:\n",
    "            new_seq.append(seq[i])\n",
    "        except:\n",
    "            new_seq.append(\"PAD\")\n",
    "    new_X.append(new_seq)\n",
    "X = new_X\n",
    "\n",
    "y = [[tag2idx[w[1]] for w in s] for s in sentences]\n",
    "\n",
    "from keras.preprocessing.sequence import pad_sequences\n",
    "y = pad_sequences(maxlen=max_len, sequences=y, padding=\"post\", value=tag2idx[\"PAD\"], truncating='post')\n",
    "\n",
    "idx2tag = {i: w for w, i in tag2idx.items()}\n",
    "\n",
    "from sklearn.model_selection import train_test_split\n",
    "X_tr, X_te, y_tr, y_te = train_test_split(X, y, test_size=0.2, random_state=2018)\n",
    "batch_size = 32\n",
    "\n",
    "\n",
    "options_file = \"options.json\"\n",
    "weight_file = \"swb_weights.hdf5\"\n",
    "elmo_model  = Elmo(options_file, weight_file, 2, dropout=0)\n",
    "\n",
    "\n",
    "\n",
    "# X_tr_character_ids = batch_to_ids(X_tr)\n",
    "# X_tr_embeddings = elmo_model(X_tr_character_ids)\n",
    "# pickle.dump(X_tr_embeddings, open('X_tr_embeddings.pickle', 'wb'))\n",
    "\n",
    "# X_te_character_ids = batch_to_ids(X_te)\n",
    "# X_te_embeddings = elmo_model(X_te_character_ids)\n",
    "# pickle.dump(X_te_embeddings, open('X_te_embeddings.pickle', 'wb'))\n"
   ]
  },
  {
   "cell_type": "code",
   "execution_count": 15,
   "metadata": {},
   "outputs": [],
   "source": [
    "# import tensorflow.compat.v1 as tf\n",
    "# from keras import backend as K\n",
    "\n",
    "# # import tensorflow_hub as hub\n",
    "# # from keras import backend as K\n",
    "# # sess = tf.Session()\n",
    "\n",
    "# # init = tf.global_variables_initializer() # This reinitializes keras weights, so must be put before Keras loading\n",
    "# sess.run(init)\n",
    "# sess.run(tf.global_variables_initializer())\n",
    "# K.set_session(sess)\n",
    "\n",
    "import tensorflow as tf\n",
    "import tensorflow_hub as hub\n",
    "from keras import backend as K\n"
   ]
  },
  {
   "cell_type": "code",
   "execution_count": 3,
   "metadata": {},
   "outputs": [],
   "source": [
    "# sess = tf.Session()\n",
    "# K.set_session(sess)\n"
   ]
  },
  {
   "cell_type": "code",
   "execution_count": 16,
   "metadata": {},
   "outputs": [],
   "source": [
    "from allennlp.modules.elmo import Elmo, batch_to_ids\n",
    "options_file = \"options.json\"\n",
    "weight_file = \"swb_weights.hdf5\"\n",
    "elmo_model  = Elmo(options_file, weight_file, 2, dropout=0)\n"
   ]
  },
  {
   "cell_type": "code",
   "execution_count": 17,
   "metadata": {},
   "outputs": [],
   "source": [
    "# from keras.models import Model, Input\n",
    "# from keras.layers.merge import add\n",
    "from keras.layers import LSTM, Embedding, Dense, TimeDistributed, Dropout, Bidirectional, Lambda\n"
   ]
  },
  {
   "cell_type": "code",
   "execution_count": 6,
   "metadata": {},
   "outputs": [],
   "source": [
    "# X_tr_character_ids = batch_to_ids(X_tr)\n",
    "# X_tr_embeddings = elmo_model(X_tr_character_ids)\n",
    "\n",
    "# X_te_character_ids = batch_to_ids(X_te)\n",
    "# X_te_embeddings = elmo_model(X_te_character_ids)"
   ]
  },
  {
   "cell_type": "code",
   "execution_count": 18,
   "metadata": {},
   "outputs": [],
   "source": [
    "# Load pickle files that was prepared in UT server.\n",
    "with open('X_tr_embeddings.pickle', 'rb') as f:\n",
    "    X_tr_embeddings = pickle.load(f)\n",
    "\n",
    "with open('X_te_embeddings.pickle', 'rb') as f:\n",
    "    X_te_embeddings = pickle.load(f)"
   ]
  },
  {
   "cell_type": "code",
   "execution_count": 19,
   "metadata": {},
   "outputs": [
    {
     "data": {
      "text/plain": [
       "(10914, 10, 1024)"
      ]
     },
     "execution_count": 19,
     "metadata": {},
     "output_type": "execute_result"
    }
   ],
   "source": [
    "X_tr_embeddings['elmo_representations'][1].detach().numpy().shape"
   ]
  },
  {
   "cell_type": "code",
   "execution_count": 9,
   "metadata": {},
   "outputs": [],
   "source": [
    "# sess.run(tf.compat.v1.global_variables_initializer())\n",
    "# sess.run(tf.compat.v1.tables_initializer())\n",
    "# def ElmoEmbedding(x):\n",
    "#     return elmo_model(inputs={\n",
    "#                             \"tokens\": tf.squeeze(tf.cast(x, tf.string)),\n",
    "#                             \"sequence_len\": tf.constant(batch_size*[max_len])\n",
    "#                       },\n",
    "# #                       signature=\"tokens\",\n",
    "#                       as_dict=True)[\"elmo\"]\n",
    "\n",
    "# from keras.models import Model, Input\n",
    "# from keras.layers.merge import add\n",
    "# from keras.layers import LSTM, Embedding, Dense, TimeDistributed, Dropout, Bidirectional, Lambda\n",
    "\n",
    "# input_text = Input(shape=(max_len,), dtype=tf.string)\n",
    "# embedding = Lambda(ElmoEmbedding, output_shape=(None, 1024))(input_text)\n",
    "# x = Bidirectional(LSTM(units=512, return_sequences=True,\n",
    "#                        recurrent_dropout=0.2, dropout=0.2))(embedding)\n",
    "# x_rnn = Bidirectional(LSTM(units=512, return_sequences=True,\n",
    "#                            recurrent_dropout=0.2, dropout=0.2))(x)\n",
    "# x = add([x, x_rnn])  # residual connection to the first biLSTM\n",
    "# out = TimeDistributed(Dense(n_tags, activation=\"softmax\"))(x)\n"
   ]
  },
  {
   "cell_type": "code",
   "execution_count": 20,
   "metadata": {},
   "outputs": [
    {
     "data": {
      "text/plain": [
       "torch.Size([10914, 10, 1024])"
      ]
     },
     "execution_count": 20,
     "metadata": {},
     "output_type": "execute_result"
    }
   ],
   "source": [
    "X_tr_embeddings[\"elmo_representations\"][1].shape"
   ]
  },
  {
   "cell_type": "code",
   "execution_count": 21,
   "metadata": {},
   "outputs": [
    {
     "data": {
      "text/plain": [
       "(10914, 10)"
      ]
     },
     "execution_count": 21,
     "metadata": {},
     "output_type": "execute_result"
    }
   ],
   "source": [
    "y_tr.shape"
   ]
  },
  {
   "cell_type": "code",
   "execution_count": 22,
   "metadata": {},
   "outputs": [],
   "source": [
    "from keras.models import Sequential\n",
    "from keras.layers import LSTM, core, Activation, Dense\n",
    "import numpy as np\n",
    "from keras.layers import Bidirectional, concatenate, SpatialDropout1D, GlobalMaxPooling1D\n",
    "\n",
    "\n",
    "model = Sequential()\n",
    "# model.add(TimeDistributed(LSTM(units=20,input_shape=(10, 1024), return_sequences=False,\n",
    "#                                 recurrent_dropout=0.5)))\n",
    "\n",
    "# # main LSTM\n",
    "# model.add(SpatialDropout1D(0.3))\n",
    "\n",
    "model.add(Bidirectional(LSTM(50, input_shape=(10, 1024), return_sequences=True,recurrent_dropout=0.5)))\n",
    "\n",
    "model.add(TimeDistributed(Dense(3, activation='softmax')))\n",
    "model.compile(loss='sparse_categorical_crossentropy', optimizer='adam', metrics=[\"accuracy\"])\n"
   ]
  },
  {
   "cell_type": "code",
   "execution_count": 23,
   "metadata": {},
   "outputs": [
    {
     "name": "stdout",
     "output_type": "stream",
     "text": [
      "Train on 9822 samples, validate on 1092 samples\n",
      "Epoch 1/10\n",
      "9822/9822 [==============================] - 8s 773us/step - loss: 0.0259 - accuracy: 0.9925 - val_loss: 0.0068 - val_accuracy: 0.9981\n",
      "Epoch 2/10\n",
      "9822/9822 [==============================] - 7s 699us/step - loss: 0.0058 - accuracy: 0.9986 - val_loss: 0.0054 - val_accuracy: 0.9984\n",
      "Epoch 3/10\n",
      "9822/9822 [==============================] - 7s 696us/step - loss: 0.0041 - accuracy: 0.9990 - val_loss: 0.0044 - val_accuracy: 0.9991\n",
      "Epoch 4/10\n",
      "9822/9822 [==============================] - 7s 697us/step - loss: 0.0031 - accuracy: 0.9992 - val_loss: 0.0041 - val_accuracy: 0.9988\n",
      "Epoch 5/10\n",
      "9822/9822 [==============================] - 7s 721us/step - loss: 0.0025 - accuracy: 0.9994 - val_loss: 0.0045 - val_accuracy: 0.9985\n",
      "Epoch 6/10\n",
      "9822/9822 [==============================] - 7s 697us/step - loss: 0.0022 - accuracy: 0.9994 - val_loss: 0.0034 - val_accuracy: 0.9989\n",
      "Epoch 7/10\n",
      "9822/9822 [==============================] - 7s 740us/step - loss: 0.0019 - accuracy: 0.9995 - val_loss: 0.0044 - val_accuracy: 0.9988\n",
      "Epoch 8/10\n",
      "9822/9822 [==============================] - 7s 706us/step - loss: 0.0019 - accuracy: 0.9995 - val_loss: 0.0032 - val_accuracy: 0.9991\n",
      "Epoch 9/10\n",
      "9822/9822 [==============================] - 7s 696us/step - loss: 0.0018 - accuracy: 0.9995 - val_loss: 0.0071 - val_accuracy: 0.9975\n",
      "Epoch 10/10\n",
      "9822/9822 [==============================] - 7s 699us/step - loss: 0.0024 - accuracy: 0.9993 - val_loss: 0.0029 - val_accuracy: 0.9992\n"
     ]
    }
   ],
   "source": [
    "history = model.fit(X_tr_embeddings['elmo_representations'][1].detach().numpy(), y_tr.reshape(y_tr.shape[0],10,1),validation_split=0.1 ,verbose=1,epochs=10,batch_size=32)"
   ]
  },
  {
   "cell_type": "code",
   "execution_count": 24,
   "metadata": {},
   "outputs": [
    {
     "data": {
      "image/png": "[encoded data removed]",
      "text/plain": [
       "<Figure size 864x864 with 1 Axes>"
      ]
     },
     "metadata": {},
     "output_type": "display_data"
    }
   ],
   "source": [
    "hist = pd.DataFrame(history.history)\n",
    "import matplotlib.pyplot as plt\n",
    "plt.style.use(\"ggplot\")\n",
    "plt.figure(figsize=(12,12))\n",
    "plt.plot(hist[\"accuracy\"])\n",
    "plt.plot(hist[\"val_accuracy\"])\n",
    "plt.show()\n"
   ]
  },
  {
   "cell_type": "code",
   "execution_count": 25,
   "metadata": {},
   "outputs": [
    {
     "name": "stdout",
     "output_type": "stream",
     "text": [
      "2729/2729 [==============================] - 1s 195us/step\n"
     ]
    }
   ],
   "source": [
    "y_pred = model.predict(X_te_embeddings['elmo_representations'][1].detach().numpy(),verbose=1)"
   ]
  },
  {
   "cell_type": "code",
   "execution_count": 26,
   "metadata": {},
   "outputs": [
    {
     "data": {
      "text/plain": [
       "array([[1.44008732e-06, 1.01944233e-05, 9.99988317e-01],\n",
       "       [6.91031858e-07, 2.49103005e-06, 9.99996781e-01],\n",
       "       [9.62049967e-07, 1.33633994e-05, 9.99985695e-01],\n",
       "       [1.82191195e-06, 7.91603998e-06, 9.99990225e-01],\n",
       "       [5.10916334e-06, 3.39772050e-05, 9.99960899e-01],\n",
       "       [4.38612915e-05, 9.93198574e-01, 6.75757276e-03],\n",
       "       [1.43530006e-05, 9.89687741e-01, 1.02978535e-02],\n",
       "       [1.19286497e-05, 1.02113750e-04, 9.99885917e-01],\n",
       "       [9.59236058e-06, 4.08980268e-04, 9.99581397e-01],\n",
       "       [8.35970297e-07, 1.04635990e-06, 9.99998093e-01]], dtype=float32)"
      ]
     },
     "execution_count": 26,
     "metadata": {},
     "output_type": "execute_result"
    }
   ],
   "source": [
    "y_pred[1]"
   ]
  },
  {
   "cell_type": "code",
   "execution_count": 27,
   "metadata": {},
   "outputs": [
    {
     "data": {
      "text/plain": [
       "array([2, 2, 2, 2, 2, 1, 1, 2, 2, 2])"
      ]
     },
     "execution_count": 27,
     "metadata": {},
     "output_type": "execute_result"
    }
   ],
   "source": [
    "y_te[1]"
   ]
  },
  {
   "cell_type": "code",
   "execution_count": 28,
   "metadata": {},
   "outputs": [],
   "source": [
    "def pred2label(pred):\n",
    "    out = []\n",
    "    for pred_i in pred:\n",
    "        out_i = []\n",
    "        for p in pred_i:\n",
    "            p_i = np.argmax(p, axis=-1)\n",
    "            out_i.append(idx2tag[p_i])\n",
    "        out.append(out_i)\n",
    "    return out\n",
    "pred_labels = pred2label(y_pred)\n",
    "\n",
    "def pred2labelV2(pred):\n",
    "    out = []\n",
    "    for pred_i in pred:\n",
    "        out_i = []\n",
    "        for p in pred_i:\n",
    "            out_i.append(idx2tag[p])\n",
    "        out.append(out_i)\n",
    "    return out\n",
    "test_labels = pred2labelV2(y_te)"
   ]
  },
  {
   "cell_type": "code",
   "execution_count": 29,
   "metadata": {},
   "outputs": [],
   "source": [
    "# i = 4\n",
    "# p = np.argmax(y_pred[i], axis=-1)\n",
    "# print(\"{:15}||{:5}||{}\".format(\"Word\", \"True\", \"Pred\"))\n",
    "# print(30 * \"=\")\n",
    "# for w, t, pred in zip(X_tr_embeddings[i], y_te[i], p):\n",
    "#     if w != 0:\n",
    "#         print(\"{:15}: {:5} {}\".format(w, t, pred))\n"
   ]
  },
  {
   "cell_type": "code",
   "execution_count": 30,
   "metadata": {},
   "outputs": [
    {
     "data": {
      "text/plain": [
       "array([[1.44008732e-06, 1.01944233e-05, 9.99988317e-01],\n",
       "       [6.91031858e-07, 2.49103005e-06, 9.99996781e-01],\n",
       "       [9.62049967e-07, 1.33633994e-05, 9.99985695e-01],\n",
       "       [1.82191195e-06, 7.91603998e-06, 9.99990225e-01],\n",
       "       [5.10916334e-06, 3.39772050e-05, 9.99960899e-01],\n",
       "       [4.38612915e-05, 9.93198574e-01, 6.75757276e-03],\n",
       "       [1.43530006e-05, 9.89687741e-01, 1.02978535e-02],\n",
       "       [1.19286497e-05, 1.02113750e-04, 9.99885917e-01],\n",
       "       [9.59236058e-06, 4.08980268e-04, 9.99581397e-01],\n",
       "       [8.35970297e-07, 1.04635990e-06, 9.99998093e-01]], dtype=float32)"
      ]
     },
     "execution_count": 30,
     "metadata": {},
     "output_type": "execute_result"
    }
   ],
   "source": [
    "y_pred[1]"
   ]
  },
  {
   "cell_type": "code",
   "execution_count": 31,
   "metadata": {},
   "outputs": [
    {
     "name": "stdout",
     "output_type": "stream",
     "text": [
      "              precision    recall  f1-score   support\n",
      "\n",
      "         PAD       1.00      1.00      1.00      6775\n",
      "      object       0.99      0.98      0.99      2422\n",
      "        text       1.00      1.00      1.00     18093\n",
      "\n",
      "    accuracy                           1.00     27290\n",
      "   macro avg       1.00      0.99      1.00     27290\n",
      "weighted avg       1.00      1.00      1.00     27290\n",
      "\n"
     ]
    }
   ],
   "source": [
    "from  sklearn_crfsuite.metrics import flat_classification_report  \n",
    "report = flat_classification_report(y_pred=pred_labels, y_true=test_labels)\n",
    "print(report)"
   ]
  },
  {
   "cell_type": "code",
   "execution_count": 32,
   "metadata": {},
   "outputs": [
    {
     "name": "stdout",
     "output_type": "stream",
     "text": [
      "F1-score: 98.6%\n"
     ]
    }
   ],
   "source": [
    "from seqeval.metrics import precision_score, recall_score, f1_score, classification_report\n",
    "print(\"F1-score: {:.1%}\".format(f1_score(test_labels, pred_labels)))"
   ]
  },
  {
   "cell_type": "code",
   "execution_count": 33,
   "metadata": {},
   "outputs": [
    {
     "name": "stdout",
     "output_type": "stream",
     "text": [
      "           precision    recall  f1-score   support\n",
      "\n",
      "     text       0.99      0.98      0.98      3451\n",
      "      PAD       1.00      1.00      1.00      1275\n",
      "   object       0.99      0.97      0.98      1466\n",
      "\n",
      "micro avg       0.99      0.98      0.99      6192\n",
      "macro avg       0.99      0.98      0.99      6192\n",
      "\n"
     ]
    }
   ],
   "source": [
    "print(classification_report(test_labels, pred_labels))"
   ]
  },
  {
   "cell_type": "code",
   "execution_count": null,
   "metadata": {},
   "outputs": [],
   "source": []
  },
  {
   "cell_type": "code",
   "execution_count": null,
   "metadata": {},
   "outputs": [],
   "source": []
  },
  {
   "cell_type": "code",
   "execution_count": null,
   "metadata": {},
   "outputs": [],
   "source": []
  },
  {
   "cell_type": "code",
   "execution_count": null,
   "metadata": {},
   "outputs": [],
   "source": [
    "# sentences = [['minu', 'nimi' ,'on', 'nesma', 'hästi', 'Eemaldatud', '700', 'ml', 'plasmat','RR',' 112/60',' mmHg'], ['Pt.', 'tehtud' ,'plasmaferees', 'talus', 'hästi']]\n",
    "# character_ids = batch_to_ids(sentences)\n",
    "# embeddings = elmo(character_ids)"
   ]
  },
  {
   "cell_type": "code",
   "execution_count": null,
   "metadata": {},
   "outputs": [],
   "source": [
    "# embeddings['elmo_representations'][1].shape"
   ]
  },
  {
   "cell_type": "code",
   "execution_count": null,
   "metadata": {},
   "outputs": [],
   "source": [
    "# embeddings['elmo_representations'][1][1][4].detach().numpy()"
   ]
  },
  {
   "cell_type": "code",
   "execution_count": null,
   "metadata": {},
   "outputs": [],
   "source": [
    "# scipy.spatial.distance.cosine(embeddings['elmo_representations'][1][1][4].detach().numpy(),embeddings['elmo_representations'][1][1][1].detach().numpy())"
   ]
  },
  {
   "cell_type": "code",
   "execution_count": null,
   "metadata": {},
   "outputs": [],
   "source": []
  },
  {
   "cell_type": "code",
   "execution_count": null,
   "metadata": {},
   "outputs": [],
   "source": []
  }
 ],
 "metadata": {
  "kernelspec": {
   "display_name": "Python 3",
   "language": "python",
   "name": "python3"
  },
  "language_info": {
   "codemirror_mode": {
    "name": "ipython",
    "version": 3
   },
   "file_extension": ".py",
   "mimetype": "text/x-python",
   "name": "python",
   "nbconvert_exporter": "python",
   "pygments_lexer": "ipython3",
   "version": "3.7.6"
  }
 },
 "nbformat": 4,
 "nbformat_minor": 4
}
