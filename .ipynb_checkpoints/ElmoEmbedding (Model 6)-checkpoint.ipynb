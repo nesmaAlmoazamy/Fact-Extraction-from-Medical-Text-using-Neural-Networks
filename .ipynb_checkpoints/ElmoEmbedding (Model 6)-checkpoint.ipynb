{
 "cells": [
  {
   "cell_type": "code",
   "execution_count": 2,
   "metadata": {},
   "outputs": [],
   "source": [
    "import csv\n",
    "import numpy as np\n",
    "import pandas as pd\n",
    "from keras.preprocessing.text import Tokenizer\n",
    "from keras.preprocessing.sequence import pad_sequences\n",
    "\n",
    "from allennlp.modules.elmo import Elmo, batch_to_ids\n",
    "\n",
    "import pickle\n",
    "\n",
    "\n",
    "\n",
    "DS = pd.read_csv(\"ObjectSubset150SentenceLength.csv\")\n",
    "DS['tag'].fillna('text', inplace=True)\n",
    "words = list(set(DS[\"word\"].values))\n",
    "n_words = len(words)\n",
    "tags = list(set(DS[\"tag\"].values))\n",
    "n_tags = len(tags)\n",
    "\n",
    "# class SentenceGetter(object):\n",
    "#     def __init__(self, data):\n",
    "#         self.n_sent = 1\n",
    "#         self.data = data\n",
    "#         self.empty = False\n",
    "#         agg_func = lambda s: [(w, t) for w, t in zip(s[\"word\"].values.tolist(),\n",
    "#                                                            s[\"tag\"].values.tolist())]\n",
    "#         self.grouped = self.data.groupby(\"text_ID\").apply(agg_func)\n",
    "#         self.sentences = [s for s in self.grouped]\n",
    "\n",
    "# getter = SentenceGetter(DS)\n",
    "# sentences = getter.sentences\n",
    "\n",
    "max_len = 10\n",
    "tags2 = [\"PAD\",\"object\",\"text\"]\n",
    "tag2idx = {t: i  for i, t in enumerate(tags2)}\n",
    "\n",
    "# X = [[w[0] for w in s] for s in sentences]\n",
    "\n",
    "# new_X = []\n",
    "# for seq in X:\n",
    "#     new_seq = []\n",
    "#     for i in range(max_len):\n",
    "#         try:\n",
    "#             new_seq.append(seq[i])\n",
    "#         except:\n",
    "#             new_seq.append(\"PAD\")\n",
    "#     new_X.append(new_seq)\n",
    "# X = new_X\n",
    "\n",
    "# y = [[tag2idx[w[1]] for w in s] for s in sentences]\n",
    "\n",
    "# from keras.preprocessing.sequence import pad_sequences\n",
    "# y = pad_sequences(maxlen=max_len, sequences=y, padding=\"post\", value=tag2idx[\"PAD\"], truncating='post')\n",
    "\n",
    "idx2tag = {i: w for w, i in tag2idx.items()}\n",
    "\n",
    "# from sklearn.model_selection import train_test_split\n",
    "# X_tr, X_te, y_tr, y_te = train_test_split(X, y, test_size=0.2, random_state=2018)\n",
    "\n",
    "\n",
    "\n",
    "batch_size = 32\n",
    "\n",
    "\n",
    "# options_file = \"options.json\"\n",
    "# weight_file = \"swb_weights.hdf5\"\n",
    "# elmo_model  = Elmo(options_file, weight_file, 2, dropout=0)\n",
    "\n",
    "\n",
    "\n",
    "# X_tr_character_ids = batch_to_ids(X_tr)\n",
    "# X_tr_embeddings = elmo_model(X_tr_character_ids)\n",
    "# pickle.dump(X_tr_embeddings, open('X_tr_embeddings.pickle', 'wb'))\n",
    "\n",
    "# X_te_character_ids = batch_to_ids(X_te)\n",
    "# X_te_embeddings = elmo_model(X_te_character_ids)\n",
    "# pickle.dump(X_te_embeddings, open('X_te_embeddings.pickle', 'wb'))\n",
    "\n",
    "\n",
    "\n",
    "# pickle.dump(y_tr, open('y_tr.pickle', 'wb'))\n",
    "# pickle.dump(y_te, open('y_te.pickle', 'wb'))\n",
    "\n"
   ]
  },
  {
   "cell_type": "code",
   "execution_count": 2,
   "metadata": {},
   "outputs": [],
   "source": [
    "# import tensorflow.compat.v1 as tf\n",
    "# from keras import backend as K\n",
    "\n",
    "# # import tensorflow_hub as hub\n",
    "# # from keras import backend as K\n",
    "# # sess = tf.Session()\n",
    "\n",
    "# # init = tf.global_variables_initializer() # This reinitializes keras weights, so must be put before Keras loading\n",
    "# sess.run(init)\n",
    "# sess.run(tf.global_variables_initializer())\n",
    "# K.set_session(sess)\n",
    "\n",
    "# import tensorflow as tf\n",
    "# import tensorflow_hub as hub\n",
    "# from keras import backend as K\n"
   ]
  },
  {
   "cell_type": "code",
   "execution_count": 3,
   "metadata": {},
   "outputs": [],
   "source": [
    "# sess = tf.Session()\n",
    "# K.set_session(sess)\n"
   ]
  },
  {
   "cell_type": "code",
   "execution_count": 3,
   "metadata": {},
   "outputs": [],
   "source": [
    "from allennlp.modules.elmo import Elmo, batch_to_ids\n",
    "options_file = \"options.json\"\n",
    "weight_file = \"swb_weights.hdf5\"\n",
    "elmo_model  = Elmo(options_file, weight_file, 2, dropout=0)\n"
   ]
  },
  {
   "cell_type": "code",
   "execution_count": 4,
   "metadata": {},
   "outputs": [],
   "source": [
    "# from keras.models import Model, Input\n",
    "# from keras.layers.merge import add\n",
    "from keras.layers import LSTM, Embedding, Dense, TimeDistributed, Dropout, Bidirectional, Lambda\n"
   ]
  },
  {
   "cell_type": "code",
   "execution_count": 6,
   "metadata": {},
   "outputs": [],
   "source": [
    "# X_tr_character_ids = batch_to_ids(X_tr)\n",
    "# X_tr_embeddings = elmo_model(X_tr_character_ids)\n",
    "\n",
    "# X_te_character_ids = batch_to_ids(X_te)\n",
    "# X_te_embeddings = elmo_model(X_te_character_ids)"
   ]
  },
  {
   "cell_type": "code",
   "execution_count": 6,
   "metadata": {},
   "outputs": [],
   "source": [
    "# Load pickle files that was prepared in UT server.\n",
    "with open('elmoembedings\\X_tr_embeddings.pickle', 'rb') as f:\n",
    "    X_tr_embeddings = pickle.load(f)\n",
    "\n",
    "with open('elmoembedings\\X_te_embeddings.pickle', 'rb') as f:\n",
    "    X_te_embeddings = pickle.load(f)"
   ]
  },
  {
   "cell_type": "code",
   "execution_count": 7,
   "metadata": {},
   "outputs": [
    {
     "data": {
      "text/plain": [
       "(10914, 35, 1024)"
      ]
     },
     "execution_count": 7,
     "metadata": {},
     "output_type": "execute_result"
    }
   ],
   "source": [
    "X_tr_embeddings['elmo_representations'][1].detach().numpy().shape"
   ]
  },
  {
   "cell_type": "code",
   "execution_count": 9,
   "metadata": {},
   "outputs": [],
   "source": [
    "# sess.run(tf.compat.v1.global_variables_initializer())\n",
    "# sess.run(tf.compat.v1.tables_initializer())\n",
    "# def ElmoEmbedding(x):\n",
    "#     return elmo_model(inputs={\n",
    "#                             \"tokens\": tf.squeeze(tf.cast(x, tf.string)),\n",
    "#                             \"sequence_len\": tf.constant(batch_size*[max_len])\n",
    "#                       },\n",
    "# #                       signature=\"tokens\",\n",
    "#                       as_dict=True)[\"elmo\"]\n",
    "\n",
    "# from keras.models import Model, Input\n",
    "# from keras.layers.merge import add\n",
    "# from keras.layers import LSTM, Embedding, Dense, TimeDistributed, Dropout, Bidirectional, Lambda\n",
    "\n",
    "# input_text = Input(shape=(max_len,), dtype=tf.string)\n",
    "# embedding = Lambda(ElmoEmbedding, output_shape=(None, 1024))(input_text)\n",
    "# x = Bidirectional(LSTM(units=512, return_sequences=True,\n",
    "#                        recurrent_dropout=0.2, dropout=0.2))(embedding)\n",
    "# x_rnn = Bidirectional(LSTM(units=512, return_sequences=True,\n",
    "#                            recurrent_dropout=0.2, dropout=0.2))(x)\n",
    "# x = add([x, x_rnn])  # residual connection to the first biLSTM\n",
    "# out = TimeDistributed(Dense(n_tags, activation=\"softmax\"))(x)\n"
   ]
  },
  {
   "cell_type": "code",
   "execution_count": 8,
   "metadata": {},
   "outputs": [
    {
     "data": {
      "text/plain": [
       "torch.Size([10914, 35, 1024])"
      ]
     },
     "execution_count": 8,
     "metadata": {},
     "output_type": "execute_result"
    }
   ],
   "source": [
    "X_tr_embeddings[\"elmo_representations\"][1].shape"
   ]
  },
  {
   "cell_type": "code",
   "execution_count": 10,
   "metadata": {},
   "outputs": [],
   "source": [
    "# Load pickle files that was prepared in UT server.\n",
    "with open('elmoembedings/y_tr.pickle', 'rb') as f:\n",
    "    y_tr = pickle.load(f)\n",
    "\n",
    "with open('elmoembedings/y_te.pickle', 'rb') as f:\n",
    "    y_te = pickle.load(f)"
   ]
  },
  {
   "cell_type": "code",
   "execution_count": 11,
   "metadata": {},
   "outputs": [
    {
     "data": {
      "text/plain": [
       "(10914, 35)"
      ]
     },
     "execution_count": 11,
     "metadata": {},
     "output_type": "execute_result"
    }
   ],
   "source": [
    "y_tr.shape"
   ]
  },
  {
   "cell_type": "code",
   "execution_count": 12,
   "metadata": {},
   "outputs": [],
   "source": [
    "from keras.models import Sequential\n",
    "from keras.layers import LSTM, core, Activation, Dense\n",
    "import numpy as np\n",
    "from keras.layers import Bidirectional, concatenate, SpatialDropout1D, GlobalMaxPooling1D\n",
    "\n",
    "\n",
    "model = Sequential()\n",
    "# model.add(TimeDistributed(LSTM(units=20,input_shape=(10, 1024), return_sequences=False,\n",
    "#                                 recurrent_dropout=0.5)))\n",
    "\n",
    "# # main LSTM\n",
    "# model.add(SpatialDropout1D(0.3))\n",
    "\n",
    "model.add(Bidirectional(LSTM(20, input_shape=(10, 1024), return_sequences=True,recurrent_dropout=0.5)))\n",
    "\n",
    "model.add(TimeDistributed(Dense(3, activation='softmax')))\n",
    "model.compile(loss='sparse_categorical_crossentropy', optimizer='adam', metrics=[\"accuracy\"])\n"
   ]
  },
  {
   "cell_type": "code",
   "execution_count": 14,
   "metadata": {},
   "outputs": [
    {
     "name": "stdout",
     "output_type": "stream",
     "text": [
      "Train on 9822 samples, validate on 1092 samples\n",
      "Epoch 1/10\n",
      "9822/9822 [==============================] - 13s 1ms/step - loss: 0.0340 - accuracy: 0.9904 - val_loss: 0.0055 - val_accuracy: 0.9988\n",
      "Epoch 2/10\n",
      "9822/9822 [==============================] - 13s 1ms/step - loss: 0.0046 - accuracy: 0.9991 - val_loss: 0.0031 - val_accuracy: 0.9993\n",
      "Epoch 3/10\n",
      "9822/9822 [==============================] - 13s 1ms/step - loss: 0.0030 - accuracy: 0.9993 - val_loss: 0.0025 - val_accuracy: 0.9994\n",
      "Epoch 4/10\n",
      "9822/9822 [==============================] - 13s 1ms/step - loss: 0.0023 - accuracy: 0.9995 - val_loss: 0.0020 - val_accuracy: 0.9995\n",
      "Epoch 5/10\n",
      "9822/9822 [==============================] - 14s 1ms/step - loss: 0.0018 - accuracy: 0.9995 - val_loss: 0.0018 - val_accuracy: 0.9996\n",
      "Epoch 6/10\n",
      "9822/9822 [==============================] - 13s 1ms/step - loss: 0.0015 - accuracy: 0.9996 - val_loss: 0.0024 - val_accuracy: 0.9992\n",
      "Epoch 7/10\n",
      "9822/9822 [==============================] - 13s 1ms/step - loss: 0.0014 - accuracy: 0.9997 - val_loss: 0.0014 - val_accuracy: 0.9997\n",
      "Epoch 8/10\n",
      "9822/9822 [==============================] - 13s 1ms/step - loss: 0.0012 - accuracy: 0.9997 - val_loss: 0.0016 - val_accuracy: 0.9996\n",
      "Epoch 9/10\n",
      "9822/9822 [==============================] - 13s 1ms/step - loss: 0.0011 - accuracy: 0.9997 - val_loss: 0.0014 - val_accuracy: 0.9997\n",
      "Epoch 10/10\n",
      "9822/9822 [==============================] - 12s 1ms/step - loss: 0.0010 - accuracy: 0.9997 - val_loss: 0.0014 - val_accuracy: 0.9996\n"
     ]
    }
   ],
   "source": [
    "history = model.fit(X_tr_embeddings['elmo_representations'][1].detach().numpy(), y_tr.reshape(y_tr.shape[0],35,1),validation_split=0.1 ,verbose=1,epochs=10,batch_size=32)"
   ]
  },
  {
   "cell_type": "code",
   "execution_count": 15,
   "metadata": {},
   "outputs": [
    {
     "data": {
      "image/png": "[encoded data removed]",
      "text/plain": [
       "<Figure size 864x864 with 1 Axes>"
      ]
     },
     "metadata": {},
     "output_type": "display_data"
    }
   ],
   "source": [
    "hist = pd.DataFrame(history.history)\n",
    "import matplotlib.pyplot as plt\n",
    "plt.style.use(\"ggplot\")\n",
    "plt.figure(figsize=(12,12))\n",
    "plt.plot(hist[\"accuracy\"])\n",
    "plt.plot(hist[\"val_accuracy\"])\n",
    "plt.show()\n"
   ]
  },
  {
   "cell_type": "code",
   "execution_count": 16,
   "metadata": {},
   "outputs": [
    {
     "name": "stdout",
     "output_type": "stream",
     "text": [
      "2729/2729 [==============================] - 1s 428us/step\n"
     ]
    }
   ],
   "source": [
    "y_pred = model.predict(X_te_embeddings['elmo_representations'][1].detach().numpy(),verbose=1)"
   ]
  },
  {
   "cell_type": "code",
   "execution_count": 17,
   "metadata": {},
   "outputs": [
    {
     "data": {
      "text/plain": [
       "array([[2.66355128e-05, 1.63264864e-04, 9.99810159e-01],\n",
       "       [7.69114104e-06, 1.82649874e-05, 9.99974012e-01],\n",
       "       [5.55388169e-06, 1.66333302e-05, 9.99977827e-01],\n",
       "       [5.73447005e-06, 4.55552945e-05, 9.99948740e-01],\n",
       "       [4.58475151e-05, 3.91817564e-04, 9.99562323e-01],\n",
       "       [7.71419873e-05, 9.98264968e-01, 1.65794045e-03],\n",
       "       [4.45707956e-05, 9.98164833e-01, 1.79057452e-03],\n",
       "       [3.56211531e-05, 3.30557930e-04, 9.99633789e-01],\n",
       "       [4.34454741e-05, 2.49606936e-04, 9.99706924e-01],\n",
       "       [2.53178205e-05, 3.14367135e-05, 9.99943256e-01],\n",
       "       [1.85514473e-05, 2.83163126e-06, 9.99978662e-01],\n",
       "       [9.99930143e-01, 1.09479452e-05, 5.88664989e-05],\n",
       "       [9.99966741e-01, 6.34563276e-06, 2.69880420e-05],\n",
       "       [9.99979496e-01, 5.32358581e-06, 1.50877004e-05],\n",
       "       [9.99981999e-01, 5.02026796e-06, 1.30119515e-05],\n",
       "       [9.99982238e-01, 4.98924555e-06, 1.27938019e-05],\n",
       "       [9.99982476e-01, 4.85847750e-06, 1.26368932e-05],\n",
       "       [9.99982834e-01, 4.80370863e-06, 1.24114731e-05],\n",
       "       [9.99982953e-01, 4.75796969e-06, 1.22535821e-05],\n",
       "       [9.99983072e-01, 4.73363434e-06, 1.20997656e-05],\n",
       "       [9.99983191e-01, 4.71374597e-06, 1.19813349e-05],\n",
       "       [9.99983430e-01, 4.70376926e-06, 1.18761091e-05],\n",
       "       [9.99983549e-01, 4.69410770e-06, 1.17973632e-05],\n",
       "       [9.99983668e-01, 4.69050201e-06, 1.17365189e-05],\n",
       "       [9.99983668e-01, 4.69385759e-06, 1.16937063e-05],\n",
       "       [9.99983668e-01, 4.70157238e-06, 1.16709116e-05],\n",
       "       [9.99983668e-01, 4.70413806e-06, 1.16758101e-05],\n",
       "       [9.99983668e-01, 4.70202076e-06, 1.17066056e-05],\n",
       "       [9.99983549e-01, 4.68683447e-06, 1.17744776e-05],\n",
       "       [9.99983430e-01, 4.63688048e-06, 1.19020506e-05],\n",
       "       [9.99983311e-01, 4.59853163e-06, 1.20543891e-05],\n",
       "       [9.99983072e-01, 4.64462391e-06, 1.22265137e-05],\n",
       "       [9.99982476e-01, 5.00568467e-06, 1.24853332e-05],\n",
       "       [9.99978662e-01, 6.10345205e-06, 1.52540397e-05],\n",
       "       [9.99930263e-01, 2.01502244e-05, 4.95587519e-05]], dtype=float32)"
      ]
     },
     "execution_count": 17,
     "metadata": {},
     "output_type": "execute_result"
    }
   ],
   "source": [
    "y_pred[1]"
   ]
  },
  {
   "cell_type": "code",
   "execution_count": 18,
   "metadata": {},
   "outputs": [
    {
     "name": "stdout",
     "output_type": "stream",
     "text": [
      "Model: \"sequential_1\"\n",
      "_________________________________________________________________\n",
      "Layer (type)                 Output Shape              Param #   \n",
      "=================================================================\n",
      "bidirectional_1 (Bidirection (None, 35, 40)            167200    \n",
      "_________________________________________________________________\n",
      "time_distributed_1 (TimeDist (None, 35, 3)             123       \n",
      "=================================================================\n",
      "Total params: 167,323\n",
      "Trainable params: 167,323\n",
      "Non-trainable params: 0\n",
      "_________________________________________________________________\n"
     ]
    }
   ],
   "source": [
    "model.summary()"
   ]
  },
  {
   "cell_type": "code",
   "execution_count": 19,
   "metadata": {},
   "outputs": [
    {
     "data": {
      "text/plain": [
       "array([2, 2, 2, 2, 2, 1, 1, 2, 2, 2, 2, 0, 0, 0, 0, 0, 0, 0, 0, 0, 0, 0,\n",
       "       0, 0, 0, 0, 0, 0, 0, 0, 0, 0, 0, 0, 0])"
      ]
     },
     "execution_count": 19,
     "metadata": {},
     "output_type": "execute_result"
    }
   ],
   "source": [
    "y_te[1]"
   ]
  },
  {
   "cell_type": "code",
   "execution_count": 20,
   "metadata": {},
   "outputs": [],
   "source": [
    "def pred2label(pred):\n",
    "    out = []\n",
    "    for pred_i in pred:\n",
    "        out_i = []\n",
    "        for p in pred_i:\n",
    "            p_i = np.argmax(p, axis=-1)\n",
    "            out_i.append(idx2tag[p_i].replace(\"PAD\",\"text\"))\n",
    "        out.append(out_i)\n",
    "    return out\n",
    "pred_labels = pred2label(y_pred)\n",
    "\n",
    "def pred2labelV2(pred):\n",
    "    out = []\n",
    "    for pred_i in pred:\n",
    "        out_i = []\n",
    "        for p in pred_i:\n",
    "            out_i.append(idx2tag[p].replace(\"PAD\",\"text\"))\n",
    "        out.append(out_i)\n",
    "    return out\n",
    "test_labels = pred2labelV2(y_te)"
   ]
  },
  {
   "cell_type": "code",
   "execution_count": 19,
   "metadata": {},
   "outputs": [],
   "source": [
    "# i = 4\n",
    "# p = np.argmax(y_pred[i], axis=-1)\n",
    "# print(\"{:15}||{:5}||{}\".format(\"Word\", \"True\", \"Pred\"))\n",
    "# print(30 * \"=\")\n",
    "# for w, t, pred in zip(X_tr_embeddings[i], y_te[i], p):\n",
    "#     if w != 0:\n",
    "#         print(\"{:15}: {:5} {}\".format(w, t, pred))\n"
   ]
  },
  {
   "cell_type": "code",
   "execution_count": 21,
   "metadata": {},
   "outputs": [
    {
     "data": {
      "text/plain": [
       "array([[2.66355128e-05, 1.63264864e-04, 9.99810159e-01],\n",
       "       [7.69114104e-06, 1.82649874e-05, 9.99974012e-01],\n",
       "       [5.55388169e-06, 1.66333302e-05, 9.99977827e-01],\n",
       "       [5.73447005e-06, 4.55552945e-05, 9.99948740e-01],\n",
       "       [4.58475151e-05, 3.91817564e-04, 9.99562323e-01],\n",
       "       [7.71419873e-05, 9.98264968e-01, 1.65794045e-03],\n",
       "       [4.45707956e-05, 9.98164833e-01, 1.79057452e-03],\n",
       "       [3.56211531e-05, 3.30557930e-04, 9.99633789e-01],\n",
       "       [4.34454741e-05, 2.49606936e-04, 9.99706924e-01],\n",
       "       [2.53178205e-05, 3.14367135e-05, 9.99943256e-01],\n",
       "       [1.85514473e-05, 2.83163126e-06, 9.99978662e-01],\n",
       "       [9.99930143e-01, 1.09479452e-05, 5.88664989e-05],\n",
       "       [9.99966741e-01, 6.34563276e-06, 2.69880420e-05],\n",
       "       [9.99979496e-01, 5.32358581e-06, 1.50877004e-05],\n",
       "       [9.99981999e-01, 5.02026796e-06, 1.30119515e-05],\n",
       "       [9.99982238e-01, 4.98924555e-06, 1.27938019e-05],\n",
       "       [9.99982476e-01, 4.85847750e-06, 1.26368932e-05],\n",
       "       [9.99982834e-01, 4.80370863e-06, 1.24114731e-05],\n",
       "       [9.99982953e-01, 4.75796969e-06, 1.22535821e-05],\n",
       "       [9.99983072e-01, 4.73363434e-06, 1.20997656e-05],\n",
       "       [9.99983191e-01, 4.71374597e-06, 1.19813349e-05],\n",
       "       [9.99983430e-01, 4.70376926e-06, 1.18761091e-05],\n",
       "       [9.99983549e-01, 4.69410770e-06, 1.17973632e-05],\n",
       "       [9.99983668e-01, 4.69050201e-06, 1.17365189e-05],\n",
       "       [9.99983668e-01, 4.69385759e-06, 1.16937063e-05],\n",
       "       [9.99983668e-01, 4.70157238e-06, 1.16709116e-05],\n",
       "       [9.99983668e-01, 4.70413806e-06, 1.16758101e-05],\n",
       "       [9.99983668e-01, 4.70202076e-06, 1.17066056e-05],\n",
       "       [9.99983549e-01, 4.68683447e-06, 1.17744776e-05],\n",
       "       [9.99983430e-01, 4.63688048e-06, 1.19020506e-05],\n",
       "       [9.99983311e-01, 4.59853163e-06, 1.20543891e-05],\n",
       "       [9.99983072e-01, 4.64462391e-06, 1.22265137e-05],\n",
       "       [9.99982476e-01, 5.00568467e-06, 1.24853332e-05],\n",
       "       [9.99978662e-01, 6.10345205e-06, 1.52540397e-05],\n",
       "       [9.99930263e-01, 2.01502244e-05, 4.95587519e-05]], dtype=float32)"
      ]
     },
     "execution_count": 21,
     "metadata": {},
     "output_type": "execute_result"
    }
   ],
   "source": [
    "y_pred[1]"
   ]
  },
  {
   "cell_type": "code",
   "execution_count": 22,
   "metadata": {},
   "outputs": [
    {
     "name": "stdout",
     "output_type": "stream",
     "text": [
      "F1-score: 98.3%\n"
     ]
    }
   ],
   "source": [
    "from seqeval.metrics import precision_score, recall_score, f1_score, classification_report\n",
    "print(\"F1-score: {:.1%}\".format(f1_score(test_labels, pred_labels)))"
   ]
  },
  {
   "cell_type": "code",
   "execution_count": 23,
   "metadata": {
    "scrolled": true
   },
   "outputs": [
    {
     "name": "stdout",
     "output_type": "stream",
     "text": [
      "           precision    recall  f1-score   support\n",
      "\n",
      "     text       0.99      0.98      0.98      4419\n",
      "   object       0.99      0.98      0.98      2068\n",
      "\n",
      "micro avg       0.99      0.98      0.98      6487\n",
      "macro avg       0.99      0.98      0.98      6487\n",
      "\n"
     ]
    }
   ],
   "source": [
    "print(classification_report(test_labels, pred_labels))"
   ]
  },
  {
   "cell_type": "code",
   "execution_count": 24,
   "metadata": {},
   "outputs": [
    {
     "name": "stdout",
     "output_type": "stream",
     "text": [
      "              precision    recall  f1-score   support\n",
      "\n",
      "      object       0.99      0.99      0.99      3588\n",
      "        text       1.00      1.00      1.00     91927\n",
      "\n",
      "    accuracy                           1.00     95515\n",
      "   macro avg       1.00      0.99      1.00     95515\n",
      "weighted avg       1.00      1.00      1.00     95515\n",
      "\n"
     ]
    }
   ],
   "source": [
    "from  sklearn_crfsuite.metrics import flat_classification_report  \n",
    "report = flat_classification_report(y_pred=pred_labels, y_true=test_labels)\n",
    "print(report)"
   ]
  },
  {
   "cell_type": "code",
   "execution_count": 24,
   "metadata": {},
   "outputs": [],
   "source": [
    "# sentences = [['minu', 'nimi' ,'on', 'nesma', 'hästi', 'Eemaldatud', '700', 'ml', 'plasmat','RR',' 112/60',' mmHg'], ['Pt.', 'tehtud' ,'plasmaferees', 'talus', 'hästi']]\n",
    "# character_ids = batch_to_ids(sentences)\n",
    "# embeddings = elmo(character_ids)\n",
    "# scipy.spatial.distance.cosine(embeddings['elmo_representations'][1][1][4].detach().numpy(),embeddings['elmo_representations'][1][1][1].detach().numpy())"
   ]
  }
 ],
 "metadata": {
  "kernelspec": {
   "display_name": "Python 3",
   "language": "python",
   "name": "python3"
  },
  "language_info": {
   "codemirror_mode": {
    "name": "ipython",
    "version": 3
   },
   "file_extension": ".py",
   "mimetype": "text/x-python",
   "name": "python",
   "nbconvert_exporter": "python",
   "pygments_lexer": "ipython3",
   "version": "3.7.6"
  }
 },
 "nbformat": 4,
 "nbformat_minor": 4
}
