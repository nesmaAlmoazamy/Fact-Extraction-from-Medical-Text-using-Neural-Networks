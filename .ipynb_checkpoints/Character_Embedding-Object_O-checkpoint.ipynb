{
 "cells": [
  {
   "cell_type": "code",
   "execution_count": 1,
   "metadata": {},
   "outputs": [
    {
     "name": "stderr",
     "output_type": "stream",
     "text": [
      "Using TensorFlow backend.\n"
     ]
    }
   ],
   "source": [
    "import csv\n",
    "import numpy as np\n",
    "import pandas as pd\n",
    "from keras.preprocessing.text import Tokenizer\n",
    "from keras.preprocessing.sequence import pad_sequences\n",
    "import pickle"
   ]
  },
  {
   "cell_type": "code",
   "execution_count": 2,
   "metadata": {},
   "outputs": [],
   "source": [
    "DS = pd.read_csv(\"ObjectSubset150SentenceLength.csv\")"
   ]
  },
  {
   "cell_type": "code",
   "execution_count": 3,
   "metadata": {},
   "outputs": [],
   "source": [
    "DS['tag'].fillna('O', inplace=True)"
   ]
  },
  {
   "cell_type": "code",
   "execution_count": 4,
   "metadata": {},
   "outputs": [
    {
     "data": {
      "text/plain": [
       "27741"
      ]
     },
     "execution_count": 4,
     "metadata": {},
     "output_type": "execute_result"
    }
   ],
   "source": [
    "words = list(set(DS[\"word\"].values))\n",
    "n_words = len(words)\n",
    "n_words"
   ]
  },
  {
   "cell_type": "code",
   "execution_count": 5,
   "metadata": {},
   "outputs": [
    {
     "data": {
      "text/plain": [
       "2"
      ]
     },
     "execution_count": 5,
     "metadata": {},
     "output_type": "execute_result"
    }
   ],
   "source": [
    "tags = list(set(DS[\"tag\"].values))\n",
    "n_tags = len(tags); n_tags\n"
   ]
  },
  {
   "cell_type": "code",
   "execution_count": 6,
   "metadata": {},
   "outputs": [],
   "source": [
    "class SentenceGetter(object):\n",
    "    \n",
    "    def __init__(self, data):\n",
    "        self.n_sent = 1\n",
    "        self.data = data\n",
    "        self.empty = False\n",
    "        agg_func = lambda s: [(w, t) for w, t in zip(s[\"word\"].values.tolist(),\n",
    "                                                           s[\"tag\"].values.tolist())]\n",
    "        self.grouped = self.data.groupby(\"text_ID\").apply(agg_func)\n",
    "        self.sentences = [s for s in self.grouped]\n",
    "    \n",
    "    def get_next(self):\n",
    "        try:\n",
    "            s = self.grouped[\"Sentence: {}\".format(self.n_sent)]\n",
    "            self.n_sent += 1\n",
    "            return s\n",
    "        except:\n",
    "            return None"
   ]
  },
  {
   "cell_type": "code",
   "execution_count": 7,
   "metadata": {},
   "outputs": [],
   "source": [
    "getter = SentenceGetter(DS)"
   ]
  },
  {
   "cell_type": "code",
   "execution_count": 8,
   "metadata": {},
   "outputs": [],
   "source": [
    "sentences = getter.sentences\n"
   ]
  },
  {
   "cell_type": "code",
   "execution_count": 9,
   "metadata": {},
   "outputs": [
    {
     "data": {
      "text/plain": [
       "[('Pt.', 'O'),\n",
       " ('tehtud', 'O'),\n",
       " ('3', 'O'),\n",
       " ('plasmaferees,', 'O'),\n",
       " ('talus', 'O'),\n",
       " ('hästi.', 'O'),\n",
       " ('Eemaldatud', 'O'),\n",
       " ('700', 'O'),\n",
       " ('ml', 'O'),\n",
       " ('plasmat.', 'O'),\n",
       " ('RR', 'object'),\n",
       " ('112/60', 'object'),\n",
       " ('mmHg.', 'O'),\n",
       " ('Tgasi', 'O'),\n",
       " ('22.10.09.', 'O')]"
      ]
     },
     "execution_count": 9,
     "metadata": {},
     "output_type": "execute_result"
    }
   ],
   "source": [
    "sentences[1]"
   ]
  },
  {
   "cell_type": "code",
   "execution_count": 10,
   "metadata": {},
   "outputs": [
    {
     "data": {
      "text/plain": [
       "count    157280.000000\n",
       "mean          6.230697\n",
       "std           4.330117\n",
       "min           1.000000\n",
       "25%           3.000000\n",
       "50%           5.000000\n",
       "75%           9.000000\n",
       "max          54.000000\n",
       "Name: word, dtype: float64"
      ]
     },
     "execution_count": 10,
     "metadata": {},
     "output_type": "execute_result"
    }
   ],
   "source": [
    "# np.median([len(s) for s in sentences])\n",
    "DS.word.apply(lambda x: len(x)).describe()"
   ]
  },
  {
   "cell_type": "code",
   "execution_count": 11,
   "metadata": {},
   "outputs": [
    {
     "data": {
      "text/plain": [
       "150"
      ]
     },
     "execution_count": 11,
     "metadata": {},
     "output_type": "execute_result"
    }
   ],
   "source": [
    "LengthsList = []\n",
    "for i in range(len(sentences)):\n",
    "    LengthsList.append(len(sentences[i]))\n",
    "np.max(LengthsList)"
   ]
  },
  {
   "cell_type": "code",
   "execution_count": 12,
   "metadata": {},
   "outputs": [
    {
     "data": {
      "text/plain": [
       "[('Kokkuvõte:', 'O'),\n",
       " ('<ANONYM', 'O'),\n",
       " ('id=\"0\"', 'O'),\n",
       " ('type=\"per\"', 'O'),\n",
       " ('morph=\"_A_', 'O'),\n",
       " ('sg', 'O'),\n",
       " ('n\"/>', 'O'),\n",
       " ('nähtava', 'O'),\n",
       " ('patoloogiata.', 'O'),\n",
       " ('Kokkuvõte:', 'O'),\n",
       " ('<ANONYM', 'O'),\n",
       " ('id=\"0\"', 'O'),\n",
       " ('type=\"per\"', 'O'),\n",
       " ('morph=\"_A_', 'O'),\n",
       " ('sg', 'O'),\n",
       " ('n\"/>', 'O'),\n",
       " ('nähtava', 'O'),\n",
       " ('patoloogiata.', 'O'),\n",
       " ('Kokkuvõte:', 'O'),\n",
       " ('<ANONYM', 'O'),\n",
       " ('id=\"0\"', 'O'),\n",
       " ('type=\"per\"', 'O'),\n",
       " ('morph=\"_A_', 'O'),\n",
       " ('sg', 'O'),\n",
       " ('n\"/>', 'O'),\n",
       " ('nähtava', 'O'),\n",
       " ('patoloogiata.', 'O'),\n",
       " ('Kokkuvõte:', 'O'),\n",
       " ('<ANONYM', 'O'),\n",
       " ('id=\"0\"', 'O'),\n",
       " ('type=\"per\"', 'O'),\n",
       " ('morph=\"_A_', 'O'),\n",
       " ('sg', 'O'),\n",
       " ('n\"/>', 'O'),\n",
       " ('nähtava', 'O'),\n",
       " ('patoloogiata.', 'O'),\n",
       " ('Kokkuvõte:', 'O'),\n",
       " ('<ANONYM', 'O'),\n",
       " ('id=\"0\"', 'O'),\n",
       " ('type=\"per\"', 'O'),\n",
       " ('morph=\"_A_', 'O'),\n",
       " ('sg', 'O'),\n",
       " ('n\"/>', 'O'),\n",
       " ('nähtava', 'O'),\n",
       " ('patoloogiata.', 'O'),\n",
       " ('Kokkuvõte:', 'O'),\n",
       " ('<ANONYM', 'O'),\n",
       " ('id=\"0\"', 'O'),\n",
       " ('type=\"per\"', 'O'),\n",
       " ('morph=\"_A_', 'O'),\n",
       " ('sg', 'O'),\n",
       " ('n\"/>', 'O'),\n",
       " ('nähtava', 'O'),\n",
       " ('patoloogiata.', 'O')]"
      ]
     },
     "execution_count": 12,
     "metadata": {},
     "output_type": "execute_result"
    }
   ],
   "source": [
    "sentences[6]"
   ]
  },
  {
   "cell_type": "code",
   "execution_count": 13,
   "metadata": {},
   "outputs": [],
   "source": [
    "max_len = 150\n",
    "max_len_char = 10"
   ]
  },
  {
   "cell_type": "code",
   "execution_count": 14,
   "metadata": {},
   "outputs": [],
   "source": [
    "tag2idx = {t: i + 1 for i, t in enumerate(tags)}\n",
    "tag2idx[\"PAD\"] = 0\n",
    "idx2tag = {i: w for w, i in tag2idx.items()}"
   ]
  },
  {
   "cell_type": "code",
   "execution_count": 15,
   "metadata": {},
   "outputs": [
    {
     "name": "stdout",
     "output_type": "stream",
     "text": [
      "104\n"
     ]
    }
   ],
   "source": [
    "chars = set([w_i for w in words for w_i in w])\n",
    "n_chars = len(chars)\n",
    "print(n_chars)\n"
   ]
  },
  {
   "cell_type": "code",
   "execution_count": 16,
   "metadata": {},
   "outputs": [],
   "source": [
    "char2idx = {c: i + 2 for i, c in enumerate(chars)}\n",
    "char2idx[\"UNK\"] = 1 #For predictions\n",
    "char2idx[\"PAD\"] = 0"
   ]
  },
  {
   "cell_type": "code",
   "execution_count": 17,
   "metadata": {},
   "outputs": [],
   "source": [
    "idx2char = {i: w for w, i in char2idx.items()}"
   ]
  },
  {
   "cell_type": "code",
   "execution_count": 18,
   "metadata": {},
   "outputs": [],
   "source": [
    "X_char = []\n",
    "for sentence in sentences:\n",
    "    sent_seq = []\n",
    "    for i in range(max_len):\n",
    "        word_seq = []\n",
    "        for j in range(max_len_char):\n",
    "            try:\n",
    "                word_seq.append(char2idx.get(sentence[i][0][j]))\n",
    "            except:\n",
    "                word_seq.append(char2idx.get(\"PAD\"))\n",
    "        sent_seq.append(word_seq)\n",
    "    X_char.append(np.array(sent_seq))"
   ]
  },
  {
   "cell_type": "code",
   "execution_count": 19,
   "metadata": {},
   "outputs": [],
   "source": [
    "y = [[tag2idx[w[1]] for w  in s] for s in sentences]\n"
   ]
  },
  {
   "cell_type": "code",
   "execution_count": 20,
   "metadata": {},
   "outputs": [],
   "source": [
    "y = pad_sequences(maxlen=max_len, sequences=y, value=tag2idx[\"PAD\"], padding='post', truncating='post')"
   ]
  },
  {
   "cell_type": "code",
   "execution_count": 21,
   "metadata": {},
   "outputs": [
    {
     "data": {
      "text/plain": [
       "{'object': 1, 'O': 2, 'PAD': 0}"
      ]
     },
     "execution_count": 21,
     "metadata": {},
     "output_type": "execute_result"
    }
   ],
   "source": [
    "tag2idx"
   ]
  },
  {
   "cell_type": "code",
   "execution_count": 22,
   "metadata": {},
   "outputs": [],
   "source": [
    "from sklearn.model_selection import train_test_split\n",
    "X_char_tr, X_char_te, y_tr,  y_te= train_test_split(X_char, y, test_size=0.2, random_state=2018)\n"
   ]
  },
  {
   "cell_type": "code",
   "execution_count": 23,
   "metadata": {},
   "outputs": [
    {
     "name": "stdout",
     "output_type": "stream",
     "text": [
      "WARNING:tensorflow:Large dropout rate: 0.6 (>0.5). In TensorFlow 2.x, dropout() uses dropout rate instead of keep_prob. Please ensure that this is intended.\n",
      "WARNING:tensorflow:Large dropout rate: 0.6 (>0.5). In TensorFlow 2.x, dropout() uses dropout rate instead of keep_prob. Please ensure that this is intended.\n",
      "WARNING:tensorflow:Large dropout rate: 0.6 (>0.5). In TensorFlow 2.x, dropout() uses dropout rate instead of keep_prob. Please ensure that this is intended.\n",
      "WARNING:tensorflow:Large dropout rate: 0.6 (>0.5). In TensorFlow 2.x, dropout() uses dropout rate instead of keep_prob. Please ensure that this is intended.\n",
      "WARNING:tensorflow:Large dropout rate: 0.6 (>0.5). In TensorFlow 2.x, dropout() uses dropout rate instead of keep_prob. Please ensure that this is intended.\n"
     ]
    }
   ],
   "source": [
    "from keras.models import Model, Input\n",
    "from keras.layers import LSTM, Embedding, Dense, TimeDistributed, Dropout, Conv1D\n",
    "from keras.layers import Bidirectional, concatenate, SpatialDropout1D, GlobalMaxPooling1D\n",
    "\n",
    "\n",
    "# input and embeddings for characters\n",
    "char_in = Input(shape=(max_len, max_len_char,))\n",
    "emb_char = TimeDistributed(Embedding(input_dim=n_chars + 2, output_dim=10,\n",
    "                           input_length=max_len_char, mask_zero=True))(char_in)\n",
    "# character LSTM to get word encodings by characters\n",
    "char_enc = TimeDistributed(LSTM(units=20, return_sequences=False,\n",
    "                                recurrent_dropout=0.5))(emb_char)\n",
    "\n",
    "# main LSTM\n",
    "x = SpatialDropout1D(0.3)(char_enc)\n",
    "main_lstm = Bidirectional(LSTM(units=50, return_sequences=True,\n",
    "                               recurrent_dropout=0.6))(x)\n",
    "out = TimeDistributed(Dense(n_tags + 1, activation=\"softmax\"))(main_lstm)\n",
    "\n",
    "model = Model( char_in, out)\n",
    " \n",
    "\n",
    "\n"
   ]
  },
  {
   "cell_type": "code",
   "execution_count": 24,
   "metadata": {},
   "outputs": [
    {
     "name": "stdout",
     "output_type": "stream",
     "text": [
      "Model: \"model_1\"\n",
      "_________________________________________________________________\n",
      "Layer (type)                 Output Shape              Param #   \n",
      "=================================================================\n",
      "input_1 (InputLayer)         (None, 150, 10)           0         \n",
      "_________________________________________________________________\n",
      "time_distributed_1 (TimeDist (None, 150, 10, 10)       1060      \n",
      "_________________________________________________________________\n",
      "time_distributed_2 (TimeDist (None, 150, 20)           2480      \n",
      "_________________________________________________________________\n",
      "spatial_dropout1d_1 (Spatial (None, 150, 20)           0         \n",
      "_________________________________________________________________\n",
      "bidirectional_1 (Bidirection (None, 150, 100)          28400     \n",
      "_________________________________________________________________\n",
      "time_distributed_3 (TimeDist (None, 150, 3)            303       \n",
      "=================================================================\n",
      "Total params: 32,243\n",
      "Trainable params: 32,243\n",
      "Non-trainable params: 0\n",
      "_________________________________________________________________\n"
     ]
    }
   ],
   "source": [
    "model.compile(optimizer=\"adam\", loss=\"sparse_categorical_crossentropy\", metrics=[\"acc\"])\n",
    "model.summary()\n"
   ]
  },
  {
   "cell_type": "code",
   "execution_count": 25,
   "metadata": {
    "scrolled": true
   },
   "outputs": [
    {
     "name": "stderr",
     "output_type": "stream",
     "text": [
      "C:\\Users\\Kasutaja\\Anaconda3\\envs\\myEnv\\lib\\site-packages\\tensorflow_core\\python\\framework\\indexed_slices.py:433: UserWarning: Converting sparse IndexedSlices to a dense Tensor of unknown shape. This may consume a large amount of memory.\n",
      "  \"Converting sparse IndexedSlices to a dense Tensor of unknown shape. \"\n"
     ]
    },
    {
     "name": "stdout",
     "output_type": "stream",
     "text": [
      "Train on 9822 samples, validate on 1092 samples\n",
      "Epoch 1/10\n",
      "9822/9822 [==============================] - 75s 8ms/step - loss: 0.0221 - acc: 0.9234 - val_loss: 0.0068 - val_acc: 0.9816\n",
      "Epoch 2/10\n",
      "9822/9822 [==============================] - 73s 7ms/step - loss: 0.0055 - acc: 0.9828 - val_loss: 0.0043 - val_acc: 0.9855\n",
      "Epoch 3/10\n",
      "9822/9822 [==============================] - 73s 7ms/step - loss: 0.0042 - acc: 0.9852 - val_loss: 0.0031 - val_acc: 0.9865\n",
      "Epoch 4/10\n",
      "9822/9822 [==============================] - 99s 10ms/step - loss: 0.0033 - acc: 0.9882 - val_loss: 0.0022 - val_acc: 0.9912\n",
      "Epoch 5/10\n",
      "9822/9822 [==============================] - 102s 10ms/step - loss: 0.0028 - acc: 0.9900 - val_loss: 0.0018 - val_acc: 0.9927\n",
      "Epoch 6/10\n",
      "9822/9822 [==============================] - 103s 10ms/step - loss: 0.0026 - acc: 0.9913 - val_loss: 0.0017 - val_acc: 0.9930\n",
      "Epoch 7/10\n",
      "9822/9822 [==============================] - 112s 11ms/step - loss: 0.0024 - acc: 0.9916 - val_loss: 0.0015 - val_acc: 0.9932\n",
      "Epoch 8/10\n",
      "9822/9822 [==============================] - 105s 11ms/step - loss: 0.0023 - acc: 0.9923 - val_loss: 0.0014 - val_acc: 0.9938\n",
      "Epoch 9/10\n",
      "9822/9822 [==============================] - 97s 10ms/step - loss: 0.0021 - acc: 0.9930 - val_loss: 0.0013 - val_acc: 0.9952\n",
      "Epoch 10/10\n",
      "9822/9822 [==============================] - 95s 10ms/step - loss: 0.0021 - acc: 0.9933 - val_loss: 0.0013 - val_acc: 0.9960\n"
     ]
    }
   ],
   "source": [
    "history = model.fit(np.array(X_char_tr).reshape((len(X_char_tr), max_len, max_len_char)),\n",
    "                    np.array(y_tr).reshape(len(y_tr), max_len, 1),\n",
    "                    batch_size=32, epochs=10, validation_split=0.1, verbose=1)\n"
   ]
  },
  {
   "cell_type": "code",
   "execution_count": 26,
   "metadata": {},
   "outputs": [],
   "source": [
    "hist = pd.DataFrame(history.history)\n"
   ]
  },
  {
   "cell_type": "code",
   "execution_count": 27,
   "metadata": {},
   "outputs": [
    {
     "data": {
      "image/png": "[encoded data removed]",
      "text/plain": [
       "<Figure size 864x864 with 1 Axes>"
      ]
     },
     "metadata": {},
     "output_type": "display_data"
    }
   ],
   "source": [
    "import matplotlib.pyplot as plt\n",
    "plt.style.use(\"ggplot\")\n",
    "plt.figure(figsize=(12,12))\n",
    "plt.plot(hist[\"acc\"])\n",
    "plt.plot(hist[\"val_acc\"])\n",
    "plt.show()\n"
   ]
  },
  {
   "cell_type": "code",
   "execution_count": 28,
   "metadata": {},
   "outputs": [],
   "source": [
    "y_pred = model.predict(\n",
    "                        np.array(X_char_te).reshape((len(X_char_te),\n",
    "                                                     max_len, max_len_char)))\n"
   ]
  },
  {
   "cell_type": "code",
   "execution_count": 29,
   "metadata": {},
   "outputs": [],
   "source": [
    "def charindx2word(Tword):\n",
    "    word = []\n",
    "    for i in range(len(Tword)):\n",
    "        if(Tword[i] !=0):\n",
    "            word.append(idx2char[Tword[i]])\n",
    "    return \"\".join(word)"
   ]
  },
  {
   "cell_type": "code",
   "execution_count": 30,
   "metadata": {},
   "outputs": [
    {
     "data": {
      "text/plain": [
       "'PAD'"
      ]
     },
     "execution_count": 30,
     "metadata": {},
     "output_type": "execute_result"
    }
   ],
   "source": [
    "idx2char[0]"
   ]
  },
  {
   "cell_type": "code",
   "execution_count": 31,
   "metadata": {},
   "outputs": [
    {
     "name": "stdout",
     "output_type": "stream",
     "text": [
      "Word           ||True ||Pred\n",
      "==============================\n",
      "Üldseisnud     : O     O\n",
      "rahuldav.S     : O     O\n",
      "regulaarne     : object O\n",
      "mm             : O     O\n",
      "Hg.Vesikul     : O     O\n",
      "hingamiska     : O     O\n",
      "pehme,valu     : O     O\n"
     ]
    }
   ],
   "source": [
    "i = 1000\n",
    "p = np.argmax(y_pred[i], axis=-1)\n",
    "print(\"{:15}||{:5}||{}\".format(\"Word\", \"True\", \"Pred\"))\n",
    "print(30 * \"=\")\n",
    "for w, t, pred in zip(X_char_te[i], y_te[i], p):\n",
    "    if t != 0: #PAD\n",
    "        print(\"{:15}: {:5} {}\".format(charindx2word(w), idx2tag[t], idx2tag[pred]))\n"
   ]
  },
  {
   "cell_type": "code",
   "execution_count": 32,
   "metadata": {},
   "outputs": [
    {
     "data": {
      "text/plain": [
       "2729"
      ]
     },
     "execution_count": 32,
     "metadata": {},
     "output_type": "execute_result"
    }
   ],
   "source": [
    "len(y_pred)"
   ]
  },
  {
   "cell_type": "code",
   "execution_count": 40,
   "metadata": {},
   "outputs": [
    {
     "name": "stdout",
     "output_type": "stream",
     "text": [
      "/106           : O     object\n",
      "90             : O     object\n",
      "ebaregulaa     : object O\n",
      "KORRAS.        : object O\n",
      "KOORMUSTES     : object O\n",
      "155/95         : object O\n",
      "24-tunni       : object O\n",
      "Nõustamine     : object O\n",
      "=              : O     object\n",
      "kõikumised     : object O\n",
      "140-90mmhg     : object O\n",
      "100            : O     object\n",
      "sööki-6,6m     : object O\n",
      "regulaarne     : object O\n",
      "kaebusteta     : object O\n",
      "P185           : O     object\n",
      "regulaarne     : object O\n",
      "tarvitanud     : object O\n",
      "135/82         : object O\n",
      "135/92//85     : O     object\n",
      "min.Pikkus     : object O\n",
      "189            : object O\n",
      "min.Pikkus     : object O\n",
      "189            : object O\n",
      "Kordusrets     : object O\n",
      "46cm,          : object O\n",
      "Analüüsid.     : object O\n",
      "184/88         : object O\n",
      "Analüüsid.     : object O\n",
      "184/88         : object O\n",
      "regulaarse     : object O\n",
      "kukkumisoh     : O     object\n",
      "170            : object O\n",
      "sööki-4,3m     : object O\n",
      "P102           : O     object\n",
      "PR             : O     object\n",
      "138            : O     object\n",
      "P102           : O     object\n",
      "PR             : O     object\n",
      "138            : O     object\n",
      "rr140/100      : object O\n",
      "tuhmid,kah     : object O\n",
      "130/82         : object O\n",
      "RR-monitoo     : object O\n",
      "P155           : O     object\n",
      "regulaarne     : object O\n",
      "90             : O     object\n",
      "145/80mmHg     : O     object\n",
      "98%,fr.93x     : object O\n",
      "140/90         : object O\n",
      "86x´,regul     : object O\n",
      "Tervisekon     : object O\n",
      "sööki.RR-1     : object O\n",
      "min.Pikkus     : object O\n",
      "162            : object O\n",
      "min.Pikkus     : object O\n",
      "162            : object O\n",
      "õhupuudus,     : object O\n",
      "sääki-14,0     : object O\n",
      "130/80mm/h     : O     object\n",
      "cor:akts.r     : object O\n",
      "120/80mmhg     : object O\n",
      "10/5           : O     object\n",
      "regulaarne     : object O\n",
      "rr150/90       : object O\n",
      "40/10          : O     object\n",
      "regulaarne     : object O\n",
      "südamepeks     : object O\n",
      "kontrollil     : object O\n",
      "166/97         : object O\n",
      "136/84         : O     object\n",
      "Analüüsid.     : object O\n",
      "118/80         : object O\n",
      "P71            : O     object\n",
      "140            : object O\n",
      "157/94         : object O\n",
      "Nõustamine     : object O\n",
      "rr100/60       : object O\n",
      "/100           : O     object\n",
      "rr170/100(     : object O\n",
      "24             : object O\n",
      "min.Pikkus     : object O\n",
      "170            : object O\n",
      "min.Pikkus     : object O\n",
      "170            : object O\n",
      "170/100        : object O\n",
      "140/90         : object O\n",
      "kompenseer     : object O\n",
      "142/78         : O     object\n",
      "100            : O     object\n",
      "100            : O     object\n",
      "pearinglus     : object O\n",
      "49cm.          : object O\n",
      "160/100mmH     : O     object\n",
      "PR             : O     object\n",
      "154ms.         : O     object\n",
      "170cm          : object O\n",
      "tervisetõe     : object O\n",
      "13-101035-     : object O\n",
      "13-101035-     : object O\n",
      "13-101035-     : object O\n",
      "13-101035-     : object O\n",
      "13-101035-     : object O\n",
      "13-101035-     : object O\n",
      "13-101035-     : object O\n",
      "13-101035-     : object O\n",
      "sööki-6,3m     : object O\n",
      "156/86         : object O\n",
      "156/86         : object O\n",
      "Amb.m/õ,te     : object O\n",
      "id=\"0\"         : object O\n",
      "140            : object O\n",
      "Hba1c-7,0%     : object O\n",
      "112/60         : O     object\n",
      "kg.Pikkus      : object O\n",
      "163            : object O\n",
      "kg.Pikkus      : object O\n",
      "163            : object O\n",
      "kg.Pikkus      : object O\n",
      "163            : object O\n",
      "Pingepeava     : object O\n",
      "118/75         : object O\n",
      "RRmonitoor     : object O\n",
      "110            : object O\n",
      "110            : object O\n",
      "110            : object O\n",
      "ebaregulaa     : object O\n",
      "regulaarne     : object O\n",
      "03.06.2010     : object O\n",
      "127            : object O\n",
      "uimnasust.     : object O\n",
      "140/85.Cor     : object O\n",
      "120x1          : object O\n",
      "120x1          : object O\n",
      "rr140/90       : object O\n",
      "130/80         : O     object\n",
      "Nõustamine     : object O\n",
      "114/74         : object O\n",
      "reg.puhtad     : object O\n",
      "Turseteta.     : object O\n",
      "statiinrav     : object O\n",
      "transparen     : object O\n",
      "134/75mmHg     : O     object\n",
      "120kg          : object O\n",
      "RR-monitoo     : object O\n",
      "135/93         : object O\n",
      "*10.06.201     : object O\n",
      "170            : O     object\n",
      "RR-monitoo     : object O\n",
      "rägivad.Tu     : object O\n",
      "140/100        : O     object\n",
      "130/80         : O     object\n",
      "130/80         : O     object\n",
      "R120-82mmh     : O     object\n",
      "100            : O     object\n",
      "Ülekaaluli     : object O\n",
      "170/90         : O     object\n",
      "ujulast.Hb     : object O\n",
      "140/80         : O     object\n",
      "26.10.2015     : object O\n",
      "05.11.2015     : object O\n",
      "26.10.2015     : object O\n",
      "05.11.2015     : object O\n",
      "133            : O     object\n",
      "/106           : O     object\n",
      "90             : O     object\n",
      "meeleolula     : object O\n",
      "100/70,        : object O\n",
      "Hba1c-5,7%     : object O\n",
      "söönuna--1     : object O\n",
      "üldseisund     : object O\n",
      "120/70.        : object O\n",
      "120x           : object O\n",
      "p/s-12,5kg     : object O\n",
      "120,1          : object O\n",
      "*12.03.201     : object O\n",
      "24             : object O\n",
      "rr140/90       : object O\n",
      "155/105        : O     object\n",
      "145;           : object O\n",
      "regulaarne     : object O\n",
      "120,2kg        : object O\n",
      "162/90         : O     object\n"
     ]
    }
   ],
   "source": [
    "j = 0\n",
    "for i in range(len(y_pred)):\n",
    "    p = np.argmax(y_pred[i], axis=-1)\n",
    "#     print(\"{:15}||{:5}||{}\".format(\"Word\", \"True\", \"Pred\"))\n",
    "#     print(30 * \"=\")\n",
    "    for w, t, pred in zip(X_char_te[i], y_te[i], p):\n",
    "        if charindx2word(w) != \"\":\n",
    "            if idx2tag[t] != idx2tag[pred]:\n",
    "                print(\"{:15}: {:5} {}\".format(charindx2word(w), idx2tag[t], idx2tag[pred]))\n",
    "                j = j+1\n"
   ]
  },
  {
   "cell_type": "code",
   "execution_count": 41,
   "metadata": {},
   "outputs": [
    {
     "data": {
      "text/plain": [
       "183"
      ]
     },
     "execution_count": 41,
     "metadata": {},
     "output_type": "execute_result"
    }
   ],
   "source": [
    "j"
   ]
  },
  {
   "cell_type": "code",
   "execution_count": 35,
   "metadata": {},
   "outputs": [
    {
     "name": "stdout",
     "output_type": "stream",
     "text": [
      "Word           ||True ||Pred\n",
      "==============================\n",
      "RR             : object object\n",
      "168            : object object\n",
      "/106           : O     object\n",
      "Cor            : O     O\n",
      "toonid         : O     O\n",
      "regulaarse     : O     O\n",
      "EHHO           : O     O\n",
      ":              : O     O\n",
      "Korrigeeri     : O     O\n",
      "ravi           : O     O\n",
      "28.12.2012     : O     O\n",
      "pearinglus     : O     O\n",
      "püsib          : O     O\n",
      ".              : O     O\n",
      "EHHO-s         : O     O\n",
      "vahesein       : O     O\n",
      "1.1-1.2        : O     O\n",
      "RR170/         : object object\n",
      "90             : O     O\n",
      "RR             : object object\n",
      "168            : object object\n",
      "/106           : O     O\n",
      "Cor            : O     O\n",
      "toonid         : O     O\n",
      "regulaarse     : O     O\n",
      "EHHO           : O     O\n",
      ":              : O     O\n",
      "Korrigeeri     : O     O\n",
      "ravi           : O     O\n",
      "28.12.2012     : O     O\n",
      "pearinglus     : O     O\n",
      "püsib          : O     O\n",
      ".              : O     O\n",
      "EHHO-s         : O     O\n",
      "vahesein       : O     O\n",
      "1.1-1.2        : O     O\n",
      "RR170/         : object object\n",
      "90             : O     object\n"
     ]
    }
   ],
   "source": [
    "i = 12\n",
    "p = np.argmax(y_pred[i], axis=-1)\n",
    "print(\"{:15}||{:5}||{}\".format(\"Word\", \"True\", \"Pred\"))\n",
    "print(30 * \"=\")\n",
    "for w, t, pred in zip(X_char_te[i], y_te[i], p):\n",
    "    if charindx2word(w) != \"\":\n",
    "        print(\"{:15}: {:5} {}\".format(charindx2word(w), idx2tag[t], idx2tag[pred]))\n"
   ]
  },
  {
   "cell_type": "code",
   "execution_count": 36,
   "metadata": {},
   "outputs": [
    {
     "name": "stdout",
     "output_type": "stream",
     "text": [
      "F1-score: 84.1%\n",
      "           precision    recall  f1-score   support\n",
      "\n",
      "   object       0.86      0.83      0.84      2104\n",
      "\n",
      "micro avg       0.86      0.83      0.84      2104\n",
      "macro avg       0.86      0.83      0.84      2104\n",
      "\n"
     ]
    }
   ],
   "source": [
    "from seqeval.metrics import precision_score, recall_score, f1_score, classification_report\n",
    "\n",
    "def pred2label(pred):\n",
    "    out = []\n",
    "    for pred_i in pred:\n",
    "        out_i = []\n",
    "        for p in pred_i:\n",
    "            p_i = np.argmax(p)\n",
    "            out_i.append(idx2tag[p_i].replace(\"PAD\", \"O\"))\n",
    "        out.append(out_i)\n",
    "    return out\n",
    "\n",
    "def test2label(pred):\n",
    "    out = []\n",
    "    for pred_i in pred:\n",
    "        out_i = []\n",
    "        for p in pred_i:\n",
    "            out_i.append(idx2tag[p].replace(\"PAD\", \"O\"))\n",
    "        out.append(out_i)\n",
    "    return out\n",
    "\n",
    "pred_labels = pred2label(y_pred)\n",
    "test_labels = test2label(y_te)\n",
    "\n",
    "print(\"F1-score: {:.1%}\".format(f1_score(test_labels, pred_labels)))\n",
    "print(classification_report(test_labels, pred_labels))\n"
   ]
  },
  {
   "cell_type": "code",
   "execution_count": 38,
   "metadata": {},
   "outputs": [
    {
     "name": "stdout",
     "output_type": "stream",
     "text": [
      "              precision    recall  f1-score   support\n",
      "\n",
      "           O       1.00      0.92      0.96    405697\n",
      "      object       0.09      0.96      0.17      3653\n",
      "\n",
      "    accuracy                           0.92    409350\n",
      "   macro avg       0.55      0.94      0.56    409350\n",
      "weighted avg       0.99      0.92      0.95    409350\n",
      "\n"
     ]
    }
   ],
   "source": [
    "from sklearn_crfsuite.metrics import flat_classification_report  \n",
    "report = flat_classification_report(y_pred=pred_labels, y_true=test_labels)\n",
    "print(report)"
   ]
  },
  {
   "cell_type": "code",
   "execution_count": null,
   "metadata": {},
   "outputs": [],
   "source": []
  }
 ],
 "metadata": {
  "kernelspec": {
   "display_name": "Python 3",
   "language": "python",
   "name": "python3"
  },
  "language_info": {
   "codemirror_mode": {
    "name": "ipython",
    "version": 3
   },
   "file_extension": ".py",
   "mimetype": "text/x-python",
   "name": "python",
   "nbconvert_exporter": "python",
   "pygments_lexer": "ipython3",
   "version": "3.7.6"
  }
 },
 "nbformat": 4,
 "nbformat_minor": 4
}
