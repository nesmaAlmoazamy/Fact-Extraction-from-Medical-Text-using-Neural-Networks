{
 "cells": [
  {
   "cell_type": "code",
   "execution_count": 24,
   "metadata": {},
   "outputs": [],
   "source": [
    "import csv\n",
    "import numpy as np\n",
    "import pandas as pd\n",
    "from keras.preprocessing.text import Tokenizer\n",
    "from keras.preprocessing.sequence import pad_sequences\n",
    "import pickle"
   ]
  },
  {
   "cell_type": "code",
   "execution_count": 25,
   "metadata": {},
   "outputs": [],
   "source": [
    "DS = pd.read_csv(\"ObjectSubset150SentenceLength.csv\")"
   ]
  },
  {
   "cell_type": "code",
   "execution_count": 26,
   "metadata": {},
   "outputs": [],
   "source": [
    "DS['tag'].fillna('O', inplace=True)"
   ]
  },
  {
   "cell_type": "code",
   "execution_count": 27,
   "metadata": {},
   "outputs": [
    {
     "data": {
      "text/plain": [
       "27741"
      ]
     },
     "execution_count": 27,
     "metadata": {},
     "output_type": "execute_result"
    }
   ],
   "source": [
    "words = list(set(DS[\"word\"].values))\n",
    "n_words = len(words)\n",
    "n_words"
   ]
  },
  {
   "cell_type": "code",
   "execution_count": 28,
   "metadata": {},
   "outputs": [
    {
     "data": {
      "text/plain": [
       "2"
      ]
     },
     "execution_count": 28,
     "metadata": {},
     "output_type": "execute_result"
    }
   ],
   "source": [
    "tags = list(set(DS[\"tag\"].values))\n",
    "n_tags = len(tags); n_tags\n"
   ]
  },
  {
   "cell_type": "code",
   "execution_count": 37,
   "metadata": {},
   "outputs": [
    {
     "data": {
      "text/plain": [
       "['O', 'object']"
      ]
     },
     "execution_count": 37,
     "metadata": {},
     "output_type": "execute_result"
    }
   ],
   "source": [
    "tags"
   ]
  },
  {
   "cell_type": "code",
   "execution_count": 29,
   "metadata": {},
   "outputs": [],
   "source": [
    "class SentenceGetter(object):\n",
    "    \n",
    "    def __init__(self, data):\n",
    "        self.n_sent = 1\n",
    "        self.data = data\n",
    "        self.empty = False\n",
    "        agg_func = lambda s: [(w, t) for w, t in zip(s[\"word\"].values.tolist(),\n",
    "                                                           s[\"tag\"].values.tolist())]\n",
    "        self.grouped = self.data.groupby(\"text_ID\").apply(agg_func)\n",
    "        self.sentences = [s for s in self.grouped]\n",
    "    \n",
    "    def get_next(self):\n",
    "        try:\n",
    "            s = self.grouped[\"Sentence: {}\".format(self.n_sent)]\n",
    "            self.n_sent += 1\n",
    "            return s\n",
    "        except:\n",
    "            return None"
   ]
  },
  {
   "cell_type": "code",
   "execution_count": 30,
   "metadata": {},
   "outputs": [],
   "source": [
    "getter = SentenceGetter(DS)"
   ]
  },
  {
   "cell_type": "code",
   "execution_count": 31,
   "metadata": {},
   "outputs": [],
   "source": [
    "sentences = getter.sentences\n"
   ]
  },
  {
   "cell_type": "code",
   "execution_count": 32,
   "metadata": {},
   "outputs": [
    {
     "data": {
      "text/plain": [
       "'26.05.09 patsient hospitaliseeritud erütrotsüütide ülekandeks, 2 doosi RR 120/85 temperatuur 37.7. Võetud vereanalüüsid. Enesetunne rahuldav.'"
      ]
     },
     "execution_count": 32,
     "metadata": {},
     "output_type": "execute_result"
    }
   ],
   "source": [
    "labels = [[s[1] for s in sent] for sent in sentences]\n",
    "sentences = [\" \".join([s[0] for s in sent]) for sent in sentences]\n",
    "sentences[0]\n"
   ]
  },
  {
   "cell_type": "code",
   "execution_count": 93,
   "metadata": {},
   "outputs": [
    {
     "name": "stdout",
     "output_type": "stream",
     "text": [
      "['O', 'O', 'O', 'O', 'O', 'O', 'O', 'object', 'object', 'O', 'O', 'O', 'O', 'O', 'O']\n"
     ]
    }
   ],
   "source": [
    "print(labels[0])\n"
   ]
  },
  {
   "cell_type": "code",
   "execution_count": 33,
   "metadata": {},
   "outputs": [],
   "source": [
    "from collections import Counter\n",
    "from keras.preprocessing.sequence import pad_sequences\n",
    "\n",
    "word_cnt = Counter(DS[\"word\"].values)\n",
    "vocabulary = set(w[0] for w in word_cnt.most_common(5000))\n"
   ]
  },
  {
   "cell_type": "code",
   "execution_count": 34,
   "metadata": {},
   "outputs": [],
   "source": [
    "max_len = 50\n",
    "word2idx = {\"PAD\": 0, \"UNK\": 1}\n",
    "word2idx.update({w: i for i, w in enumerate(words) if w in vocabulary})\n",
    "tag2idx = {t: i for i, t in enumerate(tags)}\n"
   ]
  },
  {
   "cell_type": "code",
   "execution_count": 56,
   "metadata": {},
   "outputs": [],
   "source": [
    "idx2word = {i: w for w, i in word2idx.items()}"
   ]
  },
  {
   "cell_type": "code",
   "execution_count": 35,
   "metadata": {},
   "outputs": [],
   "source": [
    "X = [[word2idx.get(w, word2idx[\"UNK\"]) for w in s.split()] for s in sentences]\n"
   ]
  },
  {
   "cell_type": "code",
   "execution_count": 39,
   "metadata": {},
   "outputs": [],
   "source": [
    "X = pad_sequences(maxlen=max_len, sequences=X, padding=\"post\", value=word2idx[\"PAD\"])\n"
   ]
  },
  {
   "cell_type": "code",
   "execution_count": 40,
   "metadata": {},
   "outputs": [],
   "source": [
    "y = [[tag2idx[l_i] for l_i in l] for l in labels]\n"
   ]
  },
  {
   "cell_type": "code",
   "execution_count": 41,
   "metadata": {},
   "outputs": [],
   "source": [
    "y = pad_sequences(maxlen=max_len, sequences=y, padding=\"post\", value=tag2idx[\"O\"])\n"
   ]
  },
  {
   "cell_type": "code",
   "execution_count": 42,
   "metadata": {},
   "outputs": [],
   "source": [
    "from sklearn.model_selection import train_test_split\n",
    "\n",
    "X_tr, X_te, y_tr, y_te = train_test_split(X, y, test_size=0.1, shuffle=False)\n"
   ]
  },
  {
   "cell_type": "code",
   "execution_count": 43,
   "metadata": {},
   "outputs": [],
   "source": [
    "from keras.models import Model, Input\n",
    "from keras.layers import LSTM, Embedding, Dense, TimeDistributed, SpatialDropout1D, Bidirectional\n"
   ]
  },
  {
   "cell_type": "code",
   "execution_count": 44,
   "metadata": {},
   "outputs": [],
   "source": [
    "word_input = Input(shape=(max_len,))\n",
    "model = Embedding(input_dim=n_words, output_dim=50, input_length=max_len)(word_input)\n",
    "model = SpatialDropout1D(0.1)(model)\n",
    "model = Bidirectional(LSTM(units=100, return_sequences=True, recurrent_dropout=0.1))(model)\n",
    "out = TimeDistributed(Dense(n_tags, activation=\"softmax\"))(model)\n"
   ]
  },
  {
   "cell_type": "code",
   "execution_count": 45,
   "metadata": {},
   "outputs": [],
   "source": [
    "model = Model(word_input, out)\n",
    "model.compile(optimizer=\"rmsprop\",\n",
    "              loss=\"sparse_categorical_crossentropy\",\n",
    "              metrics=[\"accuracy\"])\n"
   ]
  },
  {
   "cell_type": "code",
   "execution_count": 46,
   "metadata": {},
   "outputs": [
    {
     "name": "stderr",
     "output_type": "stream",
     "text": [
      "C:\\Users\\Kasutaja\\Anaconda3\\envs\\myEnv\\lib\\site-packages\\tensorflow_core\\python\\framework\\indexed_slices.py:433: UserWarning: Converting sparse IndexedSlices to a dense Tensor of unknown shape. This may consume a large amount of memory.\n",
      "  \"Converting sparse IndexedSlices to a dense Tensor of unknown shape. \"\n"
     ]
    },
    {
     "name": "stdout",
     "output_type": "stream",
     "text": [
      "Train on 11050 samples, validate on 1228 samples\n",
      "Epoch 1/5\n",
      "11050/11050 [==============================] - 24s 2ms/step - loss: 0.0384 - accuracy: 0.9889 - val_loss: 0.0207 - val_accuracy: 0.9942\n",
      "Epoch 2/5\n",
      "11050/11050 [==============================] - 23s 2ms/step - loss: 0.0099 - accuracy: 0.9970 - val_loss: 0.0146 - val_accuracy: 0.9951\n",
      "Epoch 3/5\n",
      "11050/11050 [==============================] - 23s 2ms/step - loss: 0.0080 - accuracy: 0.9975 - val_loss: 0.0152 - val_accuracy: 0.9952\n",
      "Epoch 4/5\n",
      "11050/11050 [==============================] - 23s 2ms/step - loss: 0.0071 - accuracy: 0.9978 - val_loss: 0.0138 - val_accuracy: 0.9955\n",
      "Epoch 5/5\n",
      "11050/11050 [==============================] - 23s 2ms/step - loss: 0.0066 - accuracy: 0.9980 - val_loss: 0.0116 - val_accuracy: 0.9963\n"
     ]
    }
   ],
   "source": [
    "history = model.fit(X_tr, y_tr.reshape(*y_tr.shape, 1),\n",
    "                    batch_size=32, epochs=5,\n",
    "                    validation_split=0.1, verbose=1)\n"
   ]
  },
  {
   "cell_type": "code",
   "execution_count": null,
   "metadata": {},
   "outputs": [],
   "source": []
  },
  {
   "cell_type": "code",
   "execution_count": null,
   "metadata": {},
   "outputs": [],
   "source": []
  },
  {
   "cell_type": "code",
   "execution_count": null,
   "metadata": {},
   "outputs": [],
   "source": []
  },
  {
   "cell_type": "code",
   "execution_count": null,
   "metadata": {},
   "outputs": [],
   "source": []
  },
  {
   "cell_type": "code",
   "execution_count": null,
   "metadata": {
    "scrolled": true
   },
   "outputs": [],
   "source": [
    "# from keras.callbacks import ModelCheckpoint\n",
    "\n",
    "# # Saving the best model only\n",
    "# filepath=\"CharacterEmbeddingObject-{val_accuracy:.2f}.hdf5\"\n",
    "# checkpoint = ModelCheckpoint(filepath, monitor='val_accuracy', verbose=1, save_best_only=True, mode='max')\n",
    "# callbacks_list = [checkpoint]"
   ]
  },
  {
   "cell_type": "code",
   "execution_count": 47,
   "metadata": {},
   "outputs": [],
   "source": [
    "hist = pd.DataFrame(history.history)\n"
   ]
  },
  {
   "cell_type": "code",
   "execution_count": 49,
   "metadata": {},
   "outputs": [
    {
     "data": {
      "image/png": "[encoded data removed]",
      "text/plain": [
       "<Figure size 864x864 with 1 Axes>"
      ]
     },
     "metadata": {},
     "output_type": "display_data"
    }
   ],
   "source": [
    "import matplotlib.pyplot as plt\n",
    "plt.style.use(\"ggplot\")\n",
    "plt.figure(figsize=(12,12))\n",
    "plt.plot(hist[\"accuracy\"])\n",
    "plt.plot(hist[\"val_accuracy\"])\n",
    "plt.show()\n"
   ]
  },
  {
   "cell_type": "code",
   "execution_count": 51,
   "metadata": {},
   "outputs": [],
   "source": [
    "y_pred = model.predict(X_te)"
   ]
  },
  {
   "cell_type": "code",
   "execution_count": 53,
   "metadata": {},
   "outputs": [],
   "source": [
    "idx2tag = {i: w for w, i in tag2idx.items()}"
   ]
  },
  {
   "cell_type": "code",
   "execution_count": 60,
   "metadata": {},
   "outputs": [
    {
     "name": "stdout",
     "output_type": "stream",
     "text": [
      "Word           ||True ||Pred\n",
      "==============================\n",
      "RR             : object object\n",
      "130/80,        : object object\n"
     ]
    }
   ],
   "source": [
    "i = 1006\n",
    "p = np.argmax(y_pred[i], axis=-1)\n",
    "print(\"{:15}||{:5}||{}\".format(\"Word\", \"True\", \"Pred\"))\n",
    "print(30 * \"=\")\n",
    "for w, t, pred in zip(X_te[i], y_te[i], p):\n",
    "    if t != 0: #PAD\n",
    "        print(\"{:15}: {:5} {}\".format(idx2word[w], idx2tag[t], idx2tag[pred]))\n"
   ]
  },
  {
   "cell_type": "code",
   "execution_count": null,
   "metadata": {},
   "outputs": [],
   "source": [
    "len(y_pred)"
   ]
  },
  {
   "cell_type": "markdown",
   "metadata": {},
   "source": [
    "### Wrong Tags\n"
   ]
  },
  {
   "cell_type": "code",
   "execution_count": 64,
   "metadata": {},
   "outputs": [
    {
     "name": "stdout",
     "output_type": "stream",
     "text": [
      "UNK            : object O\n",
      "UNK            : O     object\n",
      "UNK            : object O\n",
      "UNK            : O     object\n",
      "UNK            : object O\n",
      "UNK            : object O\n",
      "UNK            : object O\n",
      "112/70         : O     object\n",
      "UNK            : O     object\n",
      "UNK            : object O\n",
      "UNK            : object O\n",
      "UNK            : O     object\n",
      "UNK            : object O\n",
      "120/85         : object O\n",
      "kontrolli,     : O     object\n",
      "RR120/70mmHg   : object O\n",
      "pigem          : O     object\n",
      "RR140/90       : object O\n",
      "UNK            : object O\n",
      "UNK            : object O\n",
      "kontroll       : O     object\n",
      "UNK            : object O\n",
      "UNK            : O     object\n",
      "UNK            : object O\n",
      "UNK            : object O\n",
      "UNK            : object O\n",
      "UNK            : object O\n",
      "UNK            : object O\n",
      "UNK            : object O\n",
      "UNK            : object O\n",
      "UNK            : object O\n",
      "UNK            : object O\n",
      "UNK            : object O\n",
      "UNK            : O     object\n",
      "UNK            : object O\n",
      "UNK            : object O\n",
      "UNK            : object O\n",
      "UNK            : object O\n",
      "UNK            : object O\n",
      "UNK            : object O\n",
      "rütmi          : O     object\n",
      "UNK            : object O\n",
      "UNK            : object O\n",
      "UNK            : object O\n",
      "UNK            : object O\n",
      "UNK            : object O\n",
      "UNK            : object O\n",
      "78,            : O     object\n",
      "korras         : O     object\n",
      "UNK            : object O\n",
      "UNK            : object O\n",
      "UNK            : object O\n",
      "UNK            : object O\n",
      "UNK            : object O\n",
      "UNK            : object O\n",
      "UNK            : object O\n",
      "kontroll.      : O     object\n",
      "UNK            : object O\n",
      "UNK            : object O\n",
      "UNK            : object O\n",
      "UNK            : object O\n",
      "UNK            : object O\n",
      "UNK            : object O\n",
      "mõõta          : O     object\n",
      "UNK            : object O\n",
      "UNK            : object O\n",
      "mõõta          : O     object\n",
      "UNK            : object O\n",
      "UNK            : object O\n",
      "UNK            : object O\n",
      "UNK            : object O\n",
      "UNK            : object O\n",
      "UNK            : object O\n",
      "ravimi         : O     object\n",
      "UNK            : object O\n",
      "108/60         : object O\n",
      "UNK            : object O\n",
      "UNK            : O     object\n",
      "UNK            : object O\n",
      "UNK            : object O\n",
      "UNK            : object O\n",
      "UNK            : object O\n",
      "UNK            : object O\n",
      "UNK            : object O\n",
      "UNK            : object O\n",
      "UNK            : object O\n",
      "UNK            : object O\n",
      "UNK            : object O\n",
      "UNK            : object O\n",
      "UNK            : object O\n",
      "UNK            : object O\n",
      "UNK            : object O\n",
      "UNK            : object O\n",
      "UNK            : object O\n",
      "RR.            : object O\n",
      "UNK            : object O\n",
      "UNK            : O     object\n",
      "UNK            : object O\n",
      "UNK            : O     object\n",
      "UNK            : object O\n",
      "UNK            : object O\n",
      "UNK            : O     object\n",
      "UNK            : object O\n",
      "UNK            : object O\n",
      "UNK            : object O\n",
      "UNK            : object O\n",
      "UNK            : object O\n",
      "UNK            : O     object\n",
      "UNK            : object O\n",
      "UNK            : object O\n",
      "UNK            : object O\n",
      "UNK            : object O\n",
      "UNK            : object O\n",
      "UNK            : object O\n",
      "UNK            : object O\n",
      "UNK            : object O\n",
      "UNK            : object O\n",
      "UNK            : O     object\n",
      "UNK            : object O\n",
      "UNK            : O     object\n",
      "UNK            : object O\n",
      "UNK            : object O\n",
      "UNK            : object O\n",
      "UNK            : object O\n",
      "UNK            : O     object\n",
      "UNK            : object O\n",
      "UNK            : object O\n",
      "UNK            : object O\n",
      "RR.            : object O\n",
      "UNK            : O     object\n",
      "UNK            : object O\n",
      "150/80         : O     object\n",
      "UNK            : object O\n",
      "UNK            : object O\n",
      "UNK            : object O\n",
      "UNK            : O     object\n",
      "UNK            : object O\n",
      "UNK            : object O\n",
      "UNK            : O     object\n",
      "130/80         : object O\n",
      "UNK            : object O\n",
      "kõrgem.        : O     object\n",
      "UNK            : object O\n",
      "UNK            : object O\n",
      "UNK            : object O\n",
      "UNK            : object O\n",
      "UNK            : object O\n",
      "Obj:RR         : object O\n",
      "Obj:RR         : object O\n",
      "150            : object O\n",
      "UNK            : object O\n",
      "UNK            : O     object\n",
      "UNK            : object O\n",
      "UNK            : object O\n",
      "UNK            : object O\n",
      "UNK            : object O\n",
      "UNK            : object O\n",
      "UNK            : object O\n",
      "UNK            : object O\n",
      "UNK            : object O\n",
      "UNK            : object O\n",
      "UNK            : object O\n",
      "UNK            : object O\n",
      "UNK            : O     object\n",
      "UNK            : object O\n",
      "UNK            : object O\n",
      "UNK            : O     object\n",
      "UNK            : object O\n",
      "UNK            : object O\n",
      "UNK            : object O\n",
      "UNK            : object O\n",
      "kontrollima    : O     object\n",
      "UNK            : object O\n",
      "UNK            : O     object\n",
      "UNK            : O     object\n",
      "UNK            : object O\n",
      "UNK            : object O\n",
      "UNK            : O     object\n",
      "UNK            : object O\n",
      "UNK            : O     object\n",
      "UNK            : object O\n",
      "UNK            : object O\n",
      "UNK            : object O\n",
      "UNK            : object O\n",
      "UNK            : object O\n",
      "UNK            : object O\n",
      "endiselt       : O     object\n",
      "UNK            : O     object\n",
      "UNK            : object O\n",
      "mõõta          : O     object\n",
      "UNK            : object O\n",
      "kuni           : O     object\n",
      "kuni           : O     object\n",
      "UNK            : object O\n",
      "UNK            : object O\n",
      "UNK            : object O\n",
      "UNK            : object O\n",
      "UNK            : object O\n",
      "UNK            : object O\n",
      "UNK            : object O\n",
      "UNK            : object O\n",
      "UNK            : object O\n",
      "UNK            : object O\n",
      "pigem          : O     object\n",
      "UNK            : object O\n",
      "UNK            : object O\n",
      "UNK            : object O\n",
      "UNK            : object O\n",
      "UNK            : object O\n",
      "UNK            : object O\n",
      "UNK            : object O\n",
      "UNK            : object O\n",
      "UNK            : object O\n",
      "UNK            : object O\n",
      "UNK            : O     object\n",
      "UNK            : object O\n",
      "UNK            : O     object\n",
      "UNK            : O     object\n",
      "UNK            : O     object\n",
      "UNK            : object O\n",
      "tõuseb         : O     object\n",
      "160/90         : O     object\n",
      "kuni           : O     object\n",
      "UNK            : object O\n",
      "UNK            : object O\n",
      "UNK            : object O\n",
      "UNK            : object O\n",
      "UNK            : object O\n",
      "UNK            : object O\n",
      "UNK            : object O\n",
      "UNK            : object O\n",
      "UNK            : object O\n",
      "UNK            : O     object\n",
      "UNK            : object O\n",
      "UNK            : O     object\n",
      "UNK            : object O\n",
      "UNK            : object O\n",
      "UNK            : object O\n",
      "UNK            : object O\n",
      "UNK            : object O\n",
      "UNK            : object O\n",
      "UNK            : object O\n",
      "78,            : O     object\n",
      "UNK            : object O\n",
      "UNK            : object O\n",
      "UNK            : object O\n",
      "UNK            : object O\n",
      "UNK            : object O\n",
      "RR.            : object O\n",
      "UNK            : O     object\n",
      "UNK            : object O\n",
      "UNK            : object O\n",
      "ravimit        : O     object\n",
      "nüüd           : O     object\n",
      "nüüd           : O     object\n",
      "UNK            : object O\n",
      "regul,RR       : object O\n",
      "UNK            : object O\n",
      "UNK            : object O\n",
      "UNK            : object O\n",
      "UNK            : object O\n",
      "UNK            : object O\n",
      "UNK            : O     object\n",
      "UNK            : object O\n",
      "UNK            : O     object\n",
      "UNK            : object O\n",
      "UNK            : object O\n",
      "108/60         : object O\n",
      "mõõta          : O     object\n",
      "UNK            : object O\n",
      "UNK            : O     object\n",
      "UNK            : object O\n",
      "UNK            : object O\n",
      "UNK            : object O\n",
      "UNK            : object O\n",
      "UNK            : object O\n",
      "UNK            : object O\n",
      "UNK            : O     object\n",
      "kontrollima.   : O     object\n",
      "UNK            : O     object\n",
      "UNK            : object O\n",
      "kontrollima    : O     object\n",
      "UNK            : object O\n",
      "159            : object O\n",
      "UNK            : object O\n",
      "UNK            : object O\n",
      "160/90         : O     object\n",
      "UNK            : object O\n",
      "UNK            : object O\n",
      "UNK            : object O\n",
      "UNK            : object O\n",
      "UNK            : object O\n",
      "UNK            : object O\n",
      "UNK            : O     object\n",
      "UNK            : object O\n",
      "UNK            : object O\n",
      "UNK            : object O\n",
      "UNK            : object O\n",
      "UNK            : object O\n",
      "UNK            : object O\n",
      "UNK            : object O\n",
      "UNK            : object O\n",
      "UNK            : object O\n",
      "UNK            : object O\n",
      "kontroll,      : O     object\n",
      "*06.07.2015    : object O\n",
      "UNK            : object O\n",
      "UNK            : object O\n",
      "UNK            : object O\n",
      "UNK            : object O\n",
      "UNK            : object O\n",
      "ravim          : O     object\n",
      "UNK            : object O\n",
      "UNK            : object O\n"
     ]
    }
   ],
   "source": [
    "j = 0\n",
    "for i in range(len(y_pred)):\n",
    "    p = np.argmax(y_pred[i], axis=-1)\n",
    "#     print(\"{:15}||{:5}||{}\".format(\"Word\", \"True\", \"Pred\"))\n",
    "#     print(30 * \"=\")\n",
    "    for w, t, pred in zip(X_te[i], y_te[i], p):\n",
    "        if idx2word[w] != \"\": #PAD\n",
    "            if idx2tag[t] != idx2tag[pred]:\n",
    "                print(\"{:15}: {:5} {}\".format(idx2word[w], idx2tag[t], idx2tag[pred]))\n",
    "                j = j+1\n"
   ]
  },
  {
   "cell_type": "code",
   "execution_count": 65,
   "metadata": {},
   "outputs": [
    {
     "data": {
      "text/plain": [
       "314"
      ]
     },
     "execution_count": 65,
     "metadata": {},
     "output_type": "execute_result"
    }
   ],
   "source": [
    "j"
   ]
  },
  {
   "cell_type": "code",
   "execution_count": 66,
   "metadata": {},
   "outputs": [
    {
     "name": "stdout",
     "output_type": "stream",
     "text": [
      "F1-score: 87.2%\n",
      "           precision    recall  f1-score   support\n",
      "\n",
      "   object       0.92      0.83      0.87      1519\n",
      "\n",
      "micro avg       0.92      0.83      0.87      1519\n",
      "macro avg       0.92      0.83      0.87      1519\n",
      "\n"
     ]
    }
   ],
   "source": [
    "from seqeval.metrics import accuracy_score, precision_score, recall_score, f1_score, classification_report\n",
    "\n",
    "def pred2label(pred):\n",
    "    out = []\n",
    "    for pred_i in pred:\n",
    "        out_i = []\n",
    "        for p in pred_i:\n",
    "            p_i = np.argmax(p)\n",
    "            out_i.append(idx2tag[p_i].replace(\"PAD\", \"text\"))\n",
    "        out.append(out_i)\n",
    "    return out\n",
    "\n",
    "def test2label(pred):\n",
    "    out = []\n",
    "    for pred_i in pred:\n",
    "        out_i = []\n",
    "        for p in pred_i:\n",
    "            out_i.append(idx2tag[p].replace(\"PAD\", \"text\"))\n",
    "        out.append(out_i)\n",
    "    return out\n",
    "\n",
    "pred_labels = pred2label(y_pred)\n",
    "test_labels = test2label(y_te)\n",
    "\n",
    "print(\"F1-score: {:.1%}\".format(f1_score(test_labels, pred_labels)))\n",
    "print(classification_report(test_labels, pred_labels))\n"
   ]
  },
  {
   "cell_type": "code",
   "execution_count": 67,
   "metadata": {},
   "outputs": [
    {
     "data": {
      "text/plain": [
       "0.9953992673992674"
      ]
     },
     "execution_count": 67,
     "metadata": {},
     "output_type": "execute_result"
    }
   ],
   "source": [
    "accuracy_score(test_labels, pred_labels)"
   ]
  },
  {
   "cell_type": "code",
   "execution_count": 68,
   "metadata": {},
   "outputs": [
    {
     "name": "stdout",
     "output_type": "stream",
     "text": [
      "              precision    recall  f1-score   support\n",
      "\n",
      "           O       1.00      1.00      1.00     65536\n",
      "      object       0.97      0.91      0.94      2714\n",
      "\n",
      "    accuracy                           1.00     68250\n",
      "   macro avg       0.98      0.95      0.97     68250\n",
      "weighted avg       1.00      1.00      1.00     68250\n",
      "\n",
      "Accuracy 0.9953992673992674\n"
     ]
    }
   ],
   "source": [
    "from sklearn_crfsuite.metrics import flat_classification_report,flat_accuracy_score\n",
    "report = flat_classification_report(y_pred=pred_labels, y_true=test_labels)\n",
    "print(report)\n",
    "print(\"Accuracy\",flat_accuracy_score(y_pred=pred_labels, y_true=test_labels))"
   ]
  },
  {
   "cell_type": "markdown",
   "metadata": {},
   "source": [
    "## Interpretability\n",
    "###### TextExplainer allows to explain predictions of black-box text classifiers using LIME algorithm.\n",
    "\n"
   ]
  },
  {
   "cell_type": "code",
   "execution_count": 69,
   "metadata": {},
   "outputs": [
    {
     "name": "stderr",
     "output_type": "stream",
     "text": [
      "C:\\Users\\Kasutaja\\Anaconda3\\envs\\myEnv\\lib\\site-packages\\sklearn\\utils\\deprecation.py:144: FutureWarning: The sklearn.metrics.scorer module is  deprecated in version 0.22 and will be removed in version 0.24. The corresponding classes / functions should instead be imported from sklearn.metrics. Anything that cannot be imported from sklearn.metrics is now part of the private API.\n",
      "  warnings.warn(message, FutureWarning)\n",
      "C:\\Users\\Kasutaja\\Anaconda3\\envs\\myEnv\\lib\\site-packages\\sklearn\\utils\\deprecation.py:144: FutureWarning: The sklearn.feature_selection.base module is  deprecated in version 0.22 and will be removed in version 0.24. The corresponding classes / functions should instead be imported from sklearn.feature_selection. Anything that cannot be imported from sklearn.feature_selection is now part of the private API.\n",
      "  warnings.warn(message, FutureWarning)\n"
     ]
    }
   ],
   "source": [
    "from eli5.lime import TextExplainer\n",
    "from eli5.lime.samplers import MaskingTextSampler\n",
    "# https://eli5.readthedocs.io/en/latest/autodocs/lime.html"
   ]
  },
  {
   "cell_type": "code",
   "execution_count": 70,
   "metadata": {},
   "outputs": [],
   "source": [
    "class NERExplainerGenerator(object):\n",
    "    \n",
    "    def __init__(self, model, word2idx, tag2idx, max_len):\n",
    "        self.model = model\n",
    "        self.word2idx = word2idx\n",
    "        self.tag2idx = tag2idx\n",
    "        self.idx2tag = {v: k for k,v in tag2idx.items()}\n",
    "        self.max_len = max_len\n",
    "        \n",
    "    def _preprocess(self, texts):\n",
    "        X = [[self.word2idx.get(w, self.word2idx[\"UNK\"]) for w in t.split()]\n",
    "             for t in texts]\n",
    "        X = pad_sequences(maxlen=self.max_len, sequences=X,\n",
    "                          padding=\"post\", value=self.word2idx[\"PAD\"])\n",
    "        return X\n",
    "    \n",
    "    def get_predict_function(self, word_index):\n",
    "        def predict_func(texts):\n",
    "            X = self._preprocess(texts)\n",
    "            p = self.model.predict(X)\n",
    "            return p[:,word_index,:]\n",
    "        return predict_func\n"
   ]
  },
  {
   "cell_type": "code",
   "execution_count": 142,
   "metadata": {},
   "outputs": [
    {
     "name": "stdout",
     "output_type": "stream",
     "text": [
      "Pt. tehtud 3 plasmaferees, talus hästi. Eemaldatud 700 ml plasmat. RR 112/60 mmHg. Tgasi 22.10.09.\n",
      "\n",
      "Pt. (O) tehtud (O) 3 (O) plasmaferees, (O) talus (O) hästi. (O) Eemaldatud (O) 700 (O) ml (O) plasmat. (O) RR (object) 112/60 (object) mmHg. (O) Tgasi (O) 22.10.09. (O)\n"
     ]
    }
   ],
   "source": [
    "index = 1\n",
    "label = labels[index]\n",
    "text = sentences[index]\n",
    "print(text)\n",
    "print()\n",
    "print(\" \".join([f\"{t} ({l})\" for t, l in zip(text.split(), label)]))\n"
   ]
  },
  {
   "cell_type": "code",
   "execution_count": 143,
   "metadata": {},
   "outputs": [
    {
     "name": "stdout",
     "output_type": "stream",
     "text": [
      "0: Pt.\n",
      "1: tehtud\n",
      "2: 3\n",
      "3: plasmaferees,\n",
      "4: talus\n",
      "5: hästi.\n",
      "6: Eemaldatud\n",
      "7: 700\n",
      "8: ml\n",
      "9: plasmat.\n",
      "10: RR\n",
      "11: 112/60\n",
      "12: mmHg.\n",
      "13: Tgasi\n",
      "14: 22.10.09.\n"
     ]
    }
   ],
   "source": [
    "for i, w in enumerate(text.split()):\n",
    "    print(f\"{i}: {w}\")\n"
   ]
  },
  {
   "cell_type": "code",
   "execution_count": 83,
   "metadata": {},
   "outputs": [],
   "source": [
    "explainer_generator = NERExplainerGenerator(model, word2idx, tag2idx, max_len)\n"
   ]
  },
  {
   "cell_type": "code",
   "execution_count": 163,
   "metadata": {},
   "outputs": [],
   "source": [
    "word_index = 13\n",
    "predict_func = explainer_generator.get_predict_function(word_index=word_index)\n"
   ]
  },
  {
   "cell_type": "code",
   "execution_count": 164,
   "metadata": {},
   "outputs": [],
   "source": [
    "sampler = MaskingTextSampler(\n",
    "    replacement=\"UNK\",\n",
    "    max_replace=0.7\n",
    ")"
   ]
  },
  {
   "cell_type": "code",
   "execution_count": 165,
   "metadata": {},
   "outputs": [
    {
     "name": "stdout",
     "output_type": "stream",
     "text": [
      "(('Pt. tehtud UNK UNK, UNK UNK. Eemaldatud UNK UNK plasmat. UNK 112/UNK UNK. UNK 22.UNK.UNK.', 'Pt. tehtud 3 plasmaferees, talus hästi. Eemaldatud UNK ml UNK. RR 112/60 mmHg. Tgasi 22.UNK.09.', 'Pt. UNK 3 UNK, UNK hästi. UNK UNK UNK UNK. RR UNK/UNK mmHg. UNK UNK.UNK.UNK.', 'Pt. tehtud 3 plasmaferees, UNK hästi. UNK 700 UNK plasmat. RR 112/60 mmHg. Tgasi 22.UNK.UNK.', 'UNK. tehtud 3 plasmaferees, talus hästi. Eemaldatud 700 ml plasmat. RR 112/60 mmHg. Tgasi 22.10.09.'), array([0.57735021, 0.91287087, 0.52704621, 0.84983653, 0.97182526]))\n"
     ]
    }
   ],
   "source": [
    "#Return (examples, similarity) tuple with generated documents similar to a given document and a vector of similarity values.\n",
    "# samples, similarity = \n",
    "print(sampler.sample_near(text, n_samples=5))\n"
   ]
  },
  {
   "cell_type": "code",
   "execution_count": 168,
   "metadata": {},
   "outputs": [
    {
     "data": {
      "text/html": [
       "\n",
       "    <style>\n",
       "    table.eli5-weights tr:hover {\n",
       "        filter: brightness(85%);\n",
       "    }\n",
       "</style>\n",
       "\n",
       "\n",
       "\n",
       "    \n",
       "\n",
       "    \n",
       "\n",
       "    \n",
       "\n",
       "    \n",
       "\n",
       "    \n",
       "\n",
       "    \n",
       "\n",
       "\n",
       "    \n",
       "\n",
       "    \n",
       "\n",
       "    \n",
       "\n",
       "    \n",
       "        \n",
       "\n",
       "    \n",
       "\n",
       "        \n",
       "\n",
       "        \n",
       "    \n",
       "        \n",
       "        \n",
       "    \n",
       "        <p style=\"margin-bottom: 0.5em; margin-top: 0em\">\n",
       "            <b>\n",
       "    \n",
       "        y=O\n",
       "    \n",
       "</b>\n",
       "\n",
       "    \n",
       "    (probability <b>0.998</b>, score <b>-6.378</b>)\n",
       "\n",
       "top features\n",
       "        </p>\n",
       "    \n",
       "    <table class=\"eli5-weights\"\n",
       "           style=\"border-collapse: collapse; border: none; margin-top: 0em; table-layout: auto; margin-bottom: 2em;\">\n",
       "        <thead>\n",
       "        <tr style=\"border: none;\">\n",
       "            \n",
       "                <th style=\"padding: 0 1em 0 0.5em; text-align: right; border: none;\" title=\"Feature contribution already accounts for the feature value (for linear models, contribution = weight * feature value), and the sum of feature contributions is equal to the score or, for some classifiers, to the probability. Feature values are shown if &quot;show_feature_values&quot; is True.\">\n",
       "                    Contribution<sup>?</sup>\n",
       "                </th>\n",
       "            \n",
       "            <th style=\"padding: 0 0.5em 0 0.5em; text-align: left; border: none;\">Feature</th>\n",
       "            \n",
       "        </tr>\n",
       "        </thead>\n",
       "        <tbody>\n",
       "        \n",
       "            <tr style=\"background-color: hsl(120, 100.00%, 80.00%); border: none;\">\n",
       "    <td style=\"padding: 0 1em 0 0.5em; text-align: right; border: none;\">\n",
       "        +3.606\n",
       "    </td>\n",
       "    <td style=\"padding: 0 0.5em 0 0.5em; text-align: left; border: none;\">\n",
       "        Highlighted in text (sum)\n",
       "    </td>\n",
       "    \n",
       "</tr>\n",
       "        \n",
       "            <tr style=\"background-color: hsl(120, 100.00%, 83.37%); border: none;\">\n",
       "    <td style=\"padding: 0 1em 0 0.5em; text-align: right; border: none;\">\n",
       "        +2.772\n",
       "    </td>\n",
       "    <td style=\"padding: 0 0.5em 0 0.5em; text-align: left; border: none;\">\n",
       "        &lt;BIAS&gt;\n",
       "    </td>\n",
       "    \n",
       "</tr>\n",
       "        \n",
       "        \n",
       "\n",
       "        \n",
       "        \n",
       "\n",
       "        </tbody>\n",
       "    </table>\n",
       "\n",
       "    \n",
       "\n",
       "\n",
       "\n",
       "    <p style=\"margin-bottom: 2.5em; margin-top:-0.5em;\">\n",
       "        <span style=\"opacity: 0.80\">Pt. tehtud 3 </span><span style=\"background-color: hsl(120, 100.00%, 97.81%); opacity: 0.80\" title=\"0.027\">plasmaferees</span><span style=\"opacity: 0.80\">, talus hästi. </span><span style=\"background-color: hsl(120, 100.00%, 93.51%); opacity: 0.81\" title=\"0.127\">Eemaldatud</span><span style=\"opacity: 0.80\"> 700 </span><span style=\"background-color: hsl(120, 100.00%, 96.46%); opacity: 0.81\" title=\"0.053\">ml</span><span style=\"opacity: 0.80\"> </span><span style=\"background-color: hsl(120, 100.00%, 91.38%); opacity: 0.82\" title=\"0.190\">plasmat</span><span style=\"opacity: 0.80\">. </span><span style=\"background-color: hsl(120, 100.00%, 76.81%); opacity: 0.89\" title=\"0.781\">RR</span><span style=\"opacity: 0.80\"> </span><span style=\"background-color: hsl(120, 100.00%, 94.30%); opacity: 0.81\" title=\"0.105\">112</span><span style=\"opacity: 0.80\">/</span><span style=\"background-color: hsl(120, 100.00%, 91.20%); opacity: 0.82\" title=\"0.196\">60</span><span style=\"opacity: 0.80\"> </span><span style=\"background-color: hsl(120, 100.00%, 83.94%); opacity: 0.85\" title=\"0.462\">mmHg</span><span style=\"opacity: 0.80\">. </span><span style=\"background-color: hsl(120, 100.00%, 60.00%); opacity: 1.00\" title=\"1.702\">Tgasi</span><span style=\"opacity: 0.80\"> 22.</span><span style=\"background-color: hsl(0, 100.00%, 97.31%); opacity: 0.80\" title=\"-0.036\">10</span><span style=\"opacity: 0.80\">.09.</span>\n",
       "    </p>\n",
       "\n",
       "\n",
       "    \n",
       "\n",
       "    \n",
       "\n",
       "    \n",
       "\n",
       "    \n",
       "\n",
       "\n",
       "    \n",
       "\n",
       "    \n",
       "\n",
       "    \n",
       "\n",
       "    \n",
       "\n",
       "    \n",
       "\n",
       "    \n",
       "\n",
       "\n",
       "    \n",
       "\n",
       "    \n",
       "\n",
       "    \n",
       "\n",
       "    \n",
       "\n",
       "    \n",
       "\n",
       "    \n",
       "\n",
       "\n",
       "\n"
      ],
      "text/plain": [
       "Explanation(estimator=\"SGDClassifier(alpha=0.001, average=False, class_weight=None,\\n              early_stopping=False, epsilon=0.1, eta0=0.0, fit_intercept=True,\\n              l1_ratio=0.15, learning_rate='optimal', loss='log', max_iter=1000,\\n              n_iter_no_change=5, n_jobs=None, penalty='elasticnet',\\n              power_t=0.5, random_state=RandomState(MT19937) at 0x1BB798A8598,\\n              shuffle=True, tol=0.001, validation_fraction=0.1, verbose=0,\\n              warm_start=False)\", description=None, error=None, method='linear model', is_regression=False, targets=[TargetExplanation(target='O', feature_weights=FeatureWeights(pos=[FeatureWeight(feature='<BIAS>', weight=2.7718702043454213, std=None, value=1.0), FeatureWeight(feature='[14] Tgasi', weight=1.7017623532822588, std=None, value=1.0), FeatureWeight(feature='[10] RR', weight=0.7809550207268211, std=None, value=1.0), FeatureWeight(feature='[13] mmHg', weight=0.4619909444992989, std=None, value=1.0), FeatureWeight(feature='[12] 60', weight=0.19555270802382765, std=None, value=1.0), FeatureWeight(feature='[9] plasmat', weight=0.1900110963445696, std=None, value=1.0), FeatureWeight(feature='[6] Eemaldatud', weight=0.12674941482046795, std=None, value=1.0), FeatureWeight(feature='[11] 112', weight=0.10531067638151388, std=None, value=1.0), FeatureWeight(feature='[8] ml', weight=0.053335056179370996, std=None, value=1.0), FeatureWeight(feature='[3] plasmaferees', weight=0.02674533003232176, std=None, value=1.0)], neg=[FeatureWeight(feature='[16] 10', weight=-0.03597237040080539, std=None, value=1.0)], pos_remaining=0, neg_remaining=0), proba=0.9983048888815318, score=-6.3783104342350665, weighted_spans=WeightedSpans(docs_weighted_spans=[DocWeightedSpans(document='Pt. tehtud 3 plasmaferees, talus hästi. Eemaldatud 700 ml plasmat. RR 112/60 mmHg. Tgasi 22.10.09.', spans=[('plasmaferees', [(13, 25)], 0.02674533003232176), ('Eemaldatud', [(40, 50)], 0.12674941482046795), ('ml', [(55, 57)], 0.053335056179370996), ('plasmat', [(58, 65)], 0.1900110963445696), ('RR', [(67, 69)], 0.7809550207268211), ('112', [(70, 73)], 0.10531067638151388), ('60', [(74, 76)], 0.19555270802382765), ('mmHg', [(77, 81)], 0.4619909444992989), ('Tgasi', [(83, 88)], 1.7017623532822588), ('10', [(92, 94)], -0.03597237040080539)], preserve_density=False, vec_name=None)], other=FeatureWeights(pos=[FeatureWeight(feature=<FormattedFeatureName 'Highlighted in text (sum)'>, weight=3.6064402298896456, std=None, value=None), FeatureWeight(feature='<BIAS>', weight=2.7718702043454213, std=None, value=1.0)], neg=[], pos_remaining=0, neg_remaining=0)), heatmap=None)], feature_importances=None, decision_tree=None, highlight_spaces=None, transition_features=None, image=None)"
      ]
     },
     "execution_count": 168,
     "metadata": {},
     "output_type": "execute_result"
    }
   ],
   "source": [
    "te = TextExplainer(\n",
    "    sampler=sampler,\n",
    "    position_dependent=True,\n",
    "    random_state=42,\n",
    "#     char_based =True #True if explanation should be char-based, False if it should be token-based. Default is False.\n",
    ")\n",
    "\n",
    "te.fit(text, predict_func)\n",
    "\n",
    "te.explain_prediction(\n",
    "    target_names=list(explainer_generator.idx2tag.values())\n",
    "#     ,top=4\n",
    ")\n",
    "# https://github.com/TeamHG-Memex/eli5/blob/017c738f8dcf3e31346de49a390835ffafad3f1b/eli5/explain.py#L83\n"
   ]
  },
  {
   "cell_type": "code",
   "execution_count": 128,
   "metadata": {},
   "outputs": [
    {
     "data": {
      "text/plain": [
       "['O', 'object']"
      ]
     },
     "execution_count": 128,
     "metadata": {},
     "output_type": "execute_result"
    }
   ],
   "source": [
    "list(explainer_generator.idx2tag.values())"
   ]
  }
 ],
 "metadata": {
  "kernelspec": {
   "display_name": "Python 3",
   "language": "python",
   "name": "python3"
  },
  "language_info": {
   "codemirror_mode": {
    "name": "ipython",
    "version": 3
   },
   "file_extension": ".py",
   "mimetype": "text/x-python",
   "name": "python",
   "nbconvert_exporter": "python",
   "pygments_lexer": "ipython3",
   "version": "3.7.6"
  }
 },
 "nbformat": 4,
 "nbformat_minor": 4
}
