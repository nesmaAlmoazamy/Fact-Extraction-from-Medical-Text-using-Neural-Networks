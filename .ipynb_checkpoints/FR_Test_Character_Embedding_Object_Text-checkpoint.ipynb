{
 "cells": [
  {
   "cell_type": "code",
   "execution_count": 4,
   "metadata": {},
   "outputs": [],
   "source": [
    "import csv\n",
    "import numpy as np\n",
    "import pandas as pd\n",
    "from keras.preprocessing.text import Tokenizer\n",
    "from keras.preprocessing.sequence import pad_sequences\n",
    "import pickle"
   ]
  },
  {
   "cell_type": "code",
   "execution_count": 5,
   "metadata": {},
   "outputs": [],
   "source": [
    "DS = pd.read_csv(\"ObjectSubset150SentenceLength.csv\")"
   ]
  },
  {
   "cell_type": "code",
   "execution_count": 6,
   "metadata": {},
   "outputs": [],
   "source": [
    "DS['tag'].fillna('text', inplace=True)"
   ]
  },
  {
   "cell_type": "code",
   "execution_count": 7,
   "metadata": {},
   "outputs": [
    {
     "data": {
      "text/plain": [
       "27741"
      ]
     },
     "execution_count": 7,
     "metadata": {},
     "output_type": "execute_result"
    }
   ],
   "source": [
    "words = list(set(DS[\"word\"].values))\n",
    "n_words = len(words)\n",
    "n_words"
   ]
  },
  {
   "cell_type": "code",
   "execution_count": 8,
   "metadata": {},
   "outputs": [
    {
     "data": {
      "text/plain": [
       "2"
      ]
     },
     "execution_count": 8,
     "metadata": {},
     "output_type": "execute_result"
    }
   ],
   "source": [
    "tags = list(set(DS[\"tag\"].values))\n",
    "n_tags = len(tags); n_tags\n"
   ]
  },
  {
   "cell_type": "code",
   "execution_count": 9,
   "metadata": {},
   "outputs": [],
   "source": [
    "class SentenceGetter(object):\n",
    "    \n",
    "    def __init__(self, data):\n",
    "        self.n_sent = 1\n",
    "        self.data = data\n",
    "        self.empty = False\n",
    "        agg_func = lambda s: [(w, t) for w, t in zip(s[\"word\"].values.tolist(),\n",
    "                                                           s[\"tag\"].values.tolist())]\n",
    "        self.grouped = self.data.groupby(\"text_ID\").apply(agg_func)\n",
    "        self.sentences = [s for s in self.grouped]\n",
    "    \n",
    "    def get_next(self):\n",
    "        try:\n",
    "            s = self.grouped[\"Sentence: {}\".format(self.n_sent)]\n",
    "            self.n_sent += 1\n",
    "            return s\n",
    "        except:\n",
    "            return None"
   ]
  },
  {
   "cell_type": "code",
   "execution_count": 10,
   "metadata": {},
   "outputs": [],
   "source": [
    "getter = SentenceGetter(DS)"
   ]
  },
  {
   "cell_type": "code",
   "execution_count": 11,
   "metadata": {},
   "outputs": [],
   "source": [
    "sentences = getter.sentences\n"
   ]
  },
  {
   "cell_type": "code",
   "execution_count": 12,
   "metadata": {},
   "outputs": [
    {
     "data": {
      "text/plain": [
       "[('Pt.', 'text'),\n",
       " ('tehtud', 'text'),\n",
       " ('3', 'text'),\n",
       " ('plasmaferees,', 'text'),\n",
       " ('talus', 'text'),\n",
       " ('hästi.', 'text'),\n",
       " ('Eemaldatud', 'text'),\n",
       " ('700', 'text'),\n",
       " ('ml', 'text'),\n",
       " ('plasmat.', 'text'),\n",
       " ('RR', 'object'),\n",
       " ('112/60', 'object'),\n",
       " ('mmHg.', 'text'),\n",
       " ('Tgasi', 'text'),\n",
       " ('22.10.09.', 'text')]"
      ]
     },
     "execution_count": 12,
     "metadata": {},
     "output_type": "execute_result"
    }
   ],
   "source": [
    "sentences[1]"
   ]
  },
  {
   "cell_type": "code",
   "execution_count": 18,
   "metadata": {},
   "outputs": [],
   "source": [
    "max_len = 150\n",
    "max_len_char = 10"
   ]
  },
  {
   "cell_type": "code",
   "execution_count": 19,
   "metadata": {},
   "outputs": [],
   "source": [
    "tag2idx = {t: i + 1 for i, t in enumerate(tags)}\n",
    "tag2idx[\"PAD\"] = 0\n",
    "idx2tag = {i: w for w, i in tag2idx.items()}"
   ]
  },
  {
   "cell_type": "code",
   "execution_count": 56,
   "metadata": {},
   "outputs": [
    {
     "data": {
      "text/plain": [
       "{'text': 1, 'object': 2, 'PAD': 0}"
      ]
     },
     "execution_count": 56,
     "metadata": {},
     "output_type": "execute_result"
    }
   ],
   "source": [
    "tag2idx"
   ]
  },
  {
   "cell_type": "code",
   "execution_count": 20,
   "metadata": {},
   "outputs": [
    {
     "name": "stdout",
     "output_type": "stream",
     "text": [
      "104\n"
     ]
    }
   ],
   "source": [
    "chars = set([w_i for w in words for w_i in w])\n",
    "n_chars = len(chars)\n",
    "print(n_chars)\n"
   ]
  },
  {
   "cell_type": "code",
   "execution_count": 21,
   "metadata": {},
   "outputs": [],
   "source": [
    "char2idx = {c: i + 2 for i, c in enumerate(chars)}\n",
    "char2idx[\"UNK\"] = 1 #For predictions\n",
    "char2idx[\"PAD\"] = 0"
   ]
  },
  {
   "cell_type": "code",
   "execution_count": 22,
   "metadata": {},
   "outputs": [],
   "source": [
    "idx2char = {i: w for w, i in char2idx.items()}"
   ]
  },
  {
   "cell_type": "code",
   "execution_count": 23,
   "metadata": {},
   "outputs": [],
   "source": [
    "X_char = []\n",
    "for sentence in sentences:\n",
    "    sent_seq = []\n",
    "    for i in range(max_len):\n",
    "        word_seq = []\n",
    "        for j in range(max_len_char):\n",
    "            try:\n",
    "                word_seq.append(char2idx.get(sentence[i][0][j]))\n",
    "            except:\n",
    "                word_seq.append(char2idx.get(\"PAD\"))\n",
    "        sent_seq.append(word_seq)\n",
    "    X_char.append(np.array(sent_seq))"
   ]
  },
  {
   "cell_type": "code",
   "execution_count": 24,
   "metadata": {},
   "outputs": [],
   "source": [
    "y = [[tag2idx[w[1]] for w  in s] for s in sentences]\n"
   ]
  },
  {
   "cell_type": "code",
   "execution_count": 25,
   "metadata": {},
   "outputs": [
    {
     "data": {
      "text/plain": [
       "13643"
      ]
     },
     "execution_count": 25,
     "metadata": {},
     "output_type": "execute_result"
    }
   ],
   "source": [
    "len(sentences)"
   ]
  },
  {
   "cell_type": "code",
   "execution_count": 26,
   "metadata": {},
   "outputs": [],
   "source": [
    "y = pad_sequences(maxlen=max_len, sequences=y, value=tag2idx[\"PAD\"], padding='post', truncating='post')"
   ]
  },
  {
   "cell_type": "code",
   "execution_count": 27,
   "metadata": {},
   "outputs": [
    {
     "data": {
      "text/plain": [
       "array([1, 1, 1, 1, 1, 1, 1, 1, 1, 1, 2, 2, 1, 1, 1, 0, 0, 0, 0, 0, 0, 0,\n",
       "       0, 0, 0, 0, 0, 0, 0, 0, 0, 0, 0, 0, 0, 0, 0, 0, 0, 0, 0, 0, 0, 0,\n",
       "       0, 0, 0, 0, 0, 0, 0, 0, 0, 0, 0, 0, 0, 0, 0, 0, 0, 0, 0, 0, 0, 0,\n",
       "       0, 0, 0, 0, 0, 0, 0, 0, 0, 0, 0, 0, 0, 0, 0, 0, 0, 0, 0, 0, 0, 0,\n",
       "       0, 0, 0, 0, 0, 0, 0, 0, 0, 0, 0, 0, 0, 0, 0, 0, 0, 0, 0, 0, 0, 0,\n",
       "       0, 0, 0, 0, 0, 0, 0, 0, 0, 0, 0, 0, 0, 0, 0, 0, 0, 0, 0, 0, 0, 0,\n",
       "       0, 0, 0, 0, 0, 0, 0, 0, 0, 0, 0, 0, 0, 0, 0, 0, 0, 0])"
      ]
     },
     "execution_count": 27,
     "metadata": {},
     "output_type": "execute_result"
    }
   ],
   "source": [
    "y[1]"
   ]
  },
  {
   "cell_type": "code",
   "execution_count": 28,
   "metadata": {},
   "outputs": [
    {
     "data": {
      "text/plain": [
       "{'text': 1, 'object': 2, 'PAD': 0}"
      ]
     },
     "execution_count": 28,
     "metadata": {},
     "output_type": "execute_result"
    }
   ],
   "source": [
    "tag2idx"
   ]
  },
  {
   "cell_type": "code",
   "execution_count": 29,
   "metadata": {},
   "outputs": [],
   "source": [
    "from sklearn.model_selection import train_test_split\n",
    "X_char_tr, X_char_te, y_tr,  y_te= train_test_split(X_char, y, test_size=0.2, random_state=2018)\n"
   ]
  },
  {
   "cell_type": "code",
   "execution_count": 30,
   "metadata": {},
   "outputs": [
    {
     "data": {
      "text/plain": [
       "10"
      ]
     },
     "execution_count": 30,
     "metadata": {},
     "output_type": "execute_result"
    }
   ],
   "source": [
    "max_len_char"
   ]
  },
  {
   "cell_type": "code",
   "execution_count": 32,
   "metadata": {},
   "outputs": [],
   "source": [
    "from keras.models import Model, Input\n",
    "from keras.layers import LSTM, Embedding, Dense, TimeDistributed, Dropout, Conv1D\n",
    "from keras.layers import Bidirectional, concatenate, SpatialDropout1D, GlobalMaxPooling1D\n",
    "\n",
    "\n",
    "# input and embeddings for characters\n",
    "char_in = Input(shape=(max_len, max_len_char,))\n",
    "emb_char = TimeDistributed(Embedding(input_dim=n_chars + 2, output_dim=10,\n",
    "                           input_length=max_len_char, mask_zero=True))(char_in)\n",
    "# character LSTM to get word encodings by characters\n",
    "char_enc = TimeDistributed(LSTM(units=20, return_sequences=False,\n",
    "                                recurrent_dropout=0.5))(emb_char)\n",
    "\n",
    "# main LSTM\n",
    "x = SpatialDropout1D(0.3)(char_enc)\n",
    "main_lstm = Bidirectional(LSTM(units=50, return_sequences=True,\n",
    "                               recurrent_dropout=0.6))(x)\n",
    "out = TimeDistributed(Dense(n_tags + 1, activation=\"softmax\"))(main_lstm)\n",
    "\n",
    "model = Model( char_in, out)\n",
    " \n",
    "\n",
    "\n"
   ]
  },
  {
   "cell_type": "code",
   "execution_count": 33,
   "metadata": {},
   "outputs": [
    {
     "name": "stdout",
     "output_type": "stream",
     "text": [
      "Model: \"model_2\"\n",
      "_________________________________________________________________\n",
      "Layer (type)                 Output Shape              Param #   \n",
      "=================================================================\n",
      "input_2 (InputLayer)         (None, 150, 10)           0         \n",
      "_________________________________________________________________\n",
      "time_distributed_4 (TimeDist (None, 150, 10, 10)       1060      \n",
      "_________________________________________________________________\n",
      "time_distributed_5 (TimeDist (None, 150, 20)           2480      \n",
      "_________________________________________________________________\n",
      "spatial_dropout1d_2 (Spatial (None, 150, 20)           0         \n",
      "_________________________________________________________________\n",
      "bidirectional_2 (Bidirection (None, 150, 100)          28400     \n",
      "_________________________________________________________________\n",
      "time_distributed_6 (TimeDist (None, 150, 3)            303       \n",
      "=================================================================\n",
      "Total params: 32,243\n",
      "Trainable params: 32,243\n",
      "Non-trainable params: 0\n",
      "_________________________________________________________________\n"
     ]
    }
   ],
   "source": [
    "model.compile(optimizer=\"adam\", loss=\"sparse_categorical_crossentropy\", metrics=[\"acc\"])\n",
    "model.summary()\n"
   ]
  },
  {
   "cell_type": "code",
   "execution_count": 34,
   "metadata": {},
   "outputs": [],
   "source": [
    "a = np.array(X_char_tr).reshape((len(X_char_tr), max_len, max_len_char))"
   ]
  },
  {
   "cell_type": "code",
   "execution_count": 35,
   "metadata": {},
   "outputs": [
    {
     "data": {
      "text/plain": [
       "(10914, 150, 10)"
      ]
     },
     "execution_count": 35,
     "metadata": {},
     "output_type": "execute_result"
    }
   ],
   "source": [
    "a.shape"
   ]
  },
  {
   "cell_type": "code",
   "execution_count": 36,
   "metadata": {},
   "outputs": [
    {
     "data": {
      "text/plain": [
       "(150, 10)"
      ]
     },
     "execution_count": 36,
     "metadata": {},
     "output_type": "execute_result"
    }
   ],
   "source": [
    "X_char_tr[1].shape"
   ]
  },
  {
   "cell_type": "code",
   "execution_count": null,
   "metadata": {},
   "outputs": [],
   "source": []
  },
  {
   "cell_type": "code",
   "execution_count": 40,
   "metadata": {
    "scrolled": true
   },
   "outputs": [
    {
     "name": "stdout",
     "output_type": "stream",
     "text": [
      "Train on 9822 samples, validate on 1092 samples\n",
      "Epoch 1/10\n",
      "9822/9822 [==============================] - 70s 7ms/step - loss: 0.0044 - acc: 0.9849 - val_loss: 0.0035 - val_acc: 0.9864\n",
      "\n",
      "Epoch 00001: val_acc improved from -inf to 0.98637, saving model to CharacterEmbeddingObject-0.99.hdf5\n",
      "Epoch 2/10\n",
      "9822/9822 [==============================] - 71s 7ms/step - loss: 0.0036 - acc: 0.9874 - val_loss: 0.0026 - val_acc: 0.9899\n",
      "\n",
      "Epoch 00002: val_acc improved from 0.98637 to 0.98992, saving model to CharacterEmbeddingObject-0.99.hdf5\n",
      "Epoch 3/10\n",
      "9822/9822 [==============================] - 69s 7ms/step - loss: 0.0031 - acc: 0.9894 - val_loss: 0.0021 - val_acc: 0.9919\n",
      "\n",
      "Epoch 00003: val_acc improved from 0.98992 to 0.99193, saving model to CharacterEmbeddingObject-0.99.hdf5\n",
      "Epoch 4/10\n",
      "9822/9822 [==============================] - 70s 7ms/step - loss: 0.0028 - acc: 0.9901 - val_loss: 0.0019 - val_acc: 0.9924\n",
      "\n",
      "Epoch 00004: val_acc improved from 0.99193 to 0.99242, saving model to CharacterEmbeddingObject-0.99.hdf5\n",
      "Epoch 5/10\n",
      "9822/9822 [==============================] - 69s 7ms/step - loss: 0.0026 - acc: 0.9908 - val_loss: 0.0017 - val_acc: 0.9928\n",
      "\n",
      "Epoch 00005: val_acc improved from 0.99242 to 0.99282, saving model to CharacterEmbeddingObject-0.99.hdf5\n",
      "Epoch 6/10\n",
      "9822/9822 [==============================] - 69s 7ms/step - loss: 0.0025 - acc: 0.9914 - val_loss: 0.0016 - val_acc: 0.9939\n",
      "\n",
      "Epoch 00006: val_acc improved from 0.99282 to 0.99395, saving model to CharacterEmbeddingObject-0.99.hdf5\n",
      "Epoch 7/10\n",
      "9822/9822 [==============================] - 70s 7ms/step - loss: 0.0023 - acc: 0.9921 - val_loss: 0.0014 - val_acc: 0.9951\n",
      "\n",
      "Epoch 00007: val_acc improved from 0.99395 to 0.99508, saving model to CharacterEmbeddingObject-1.00.hdf5\n",
      "Epoch 8/10\n",
      "9822/9822 [==============================] - 69s 7ms/step - loss: 0.0022 - acc: 0.9922 - val_loss: 0.0014 - val_acc: 0.9947\n",
      "\n",
      "Epoch 00008: val_acc did not improve from 0.99508\n",
      "Epoch 9/10\n",
      "9822/9822 [==============================] - 70s 7ms/step - loss: 0.0022 - acc: 0.9928 - val_loss: 0.0013 - val_acc: 0.9956\n",
      "\n",
      "Epoch 00009: val_acc improved from 0.99508 to 0.99556, saving model to CharacterEmbeddingObject-1.00.hdf5\n",
      "Epoch 10/10\n",
      "9822/9822 [==============================] - 69s 7ms/step - loss: 0.0020 - acc: 0.9934 - val_loss: 0.0012 - val_acc: 0.9961\n",
      "\n",
      "Epoch 00010: val_acc improved from 0.99556 to 0.99613, saving model to CharacterEmbeddingObject-1.00.hdf5\n"
     ]
    }
   ],
   "source": [
    "from keras.callbacks import ModelCheckpoint\n",
    "\n",
    "# Saving the best model only\n",
    "filepath=\"CharacterEmbeddingObject-{val_acc:.2f}.hdf5\"\n",
    "checkpoint = ModelCheckpoint(filepath, monitor='val_acc', verbose=1, save_best_only=True, mode='max')\n",
    "callbacks_list = [checkpoint]\n",
    "\n",
    "# Fit the best model\n",
    "history = model.fit(np.array(X_char_tr).reshape((len(X_char_tr), max_len, max_len_char)),\n",
    "                    np.array(y_tr).reshape(len(y_tr), max_len, 1),\n",
    "                    batch_size=32, epochs=10, validation_split=0.1, verbose=1,callbacks=callbacks_list)\n"
   ]
  },
  {
   "cell_type": "code",
   "execution_count": 41,
   "metadata": {},
   "outputs": [],
   "source": [
    "hist = pd.DataFrame(history.history)\n"
   ]
  },
  {
   "cell_type": "code",
   "execution_count": 42,
   "metadata": {},
   "outputs": [
    {
     "data": {
      "image/png": "[encoded data removed]",
      "text/plain": [
       "<Figure size 864x864 with 1 Axes>"
      ]
     },
     "metadata": {},
     "output_type": "display_data"
    }
   ],
   "source": [
    "import matplotlib.pyplot as plt\n",
    "plt.style.use(\"ggplot\")\n",
    "plt.figure(figsize=(12,12))\n",
    "plt.plot(hist[\"acc\"])\n",
    "plt.plot(hist[\"val_acc\"])\n",
    "plt.show()\n"
   ]
  },
  {
   "cell_type": "code",
   "execution_count": 43,
   "metadata": {},
   "outputs": [],
   "source": [
    "y_pred = model.predict(\n",
    "                        np.array(X_char_te).reshape((len(X_char_te),\n",
    "                                                     max_len, max_len_char)))\n"
   ]
  },
  {
   "cell_type": "code",
   "execution_count": 44,
   "metadata": {},
   "outputs": [],
   "source": [
    "def charindx2word(Tword):\n",
    "    word = []\n",
    "    for i in range(len(Tword)):\n",
    "        if(Tword[i] !=0):\n",
    "            word.append(idx2char[Tword[i]])\n",
    "    return \"\".join(word)"
   ]
  },
  {
   "cell_type": "code",
   "execution_count": 45,
   "metadata": {},
   "outputs": [
    {
     "name": "stdout",
     "output_type": "stream",
     "text": [
      "Word           ||True ||Pred\n",
      "==============================\n",
      "Üldseisnud     : text  text\n",
      "rahuldav.S     : text  text\n",
      "regulaarne     : object text\n",
      "mm             : text  text\n",
      "Hg.Vesikul     : text  text\n",
      "hingamiska     : text  text\n",
      "pehme,valu     : text  text\n"
     ]
    }
   ],
   "source": [
    "i = 1000\n",
    "p = np.argmax(y_pred[i], axis=-1)\n",
    "print(\"{:15}||{:5}||{}\".format(\"Word\", \"True\", \"Pred\"))\n",
    "print(30 * \"=\")\n",
    "for w, t, pred in zip(X_char_te[i], y_te[i], p):\n",
    "    if t != 0: #PAD\n",
    "        print(\"{:15}: {:5} {}\".format(charindx2word(w), idx2tag[t], idx2tag[pred]))\n"
   ]
  },
  {
   "cell_type": "code",
   "execution_count": 46,
   "metadata": {},
   "outputs": [
    {
     "data": {
      "text/plain": [
       "2729"
      ]
     },
     "execution_count": 46,
     "metadata": {},
     "output_type": "execute_result"
    }
   ],
   "source": [
    "len(y_pred)"
   ]
  },
  {
   "cell_type": "markdown",
   "metadata": {},
   "source": [
    "### Wrong Tags\n"
   ]
  },
  {
   "cell_type": "code",
   "execution_count": 47,
   "metadata": {},
   "outputs": [
    {
     "name": "stdout",
     "output_type": "stream",
     "text": [
      "/106           : text  object\n",
      "90             : text  object\n",
      "ebaregulaa     : object text\n",
      "KORRAS.        : object text\n",
      "KOORMUSTES     : object text\n",
      "155/95         : object text\n",
      "24-tunni       : object text\n",
      "Nõustamine     : object text\n",
      "=              : text  object\n",
      "kõikumised     : object text\n",
      "140-90mmhg     : object text\n",
      "130/82         : object text\n",
      "130/95         : object text\n",
      "100            : text  object\n",
      "sööki-6,6m     : object text\n",
      "regulaarne     : object text\n",
      "kaebusteta     : object text\n",
      "P185           : text  object\n",
      "regulaarne     : object text\n",
      "tarvitanud     : object text\n",
      "135/82         : object text\n",
      "min.Pikkus     : object text\n",
      "189            : object text\n",
      "min.Pikkus     : object text\n",
      "189            : object text\n",
      "Kordusrets     : object text\n",
      "Analüüsid.     : object text\n",
      "184/88         : object text\n",
      "Analüüsid.     : object text\n",
      "184/88         : object text\n",
      "regulaarse     : object text\n",
      "kukkumisoh     : text  object\n",
      "170            : object text\n",
      "sööki-4,3m     : object text\n",
      "P102           : text  object\n",
      "PR             : text  object\n",
      "P102           : text  object\n",
      "PR             : text  object\n",
      "rr140/100      : object text\n",
      "tuhmid,kah     : object text\n",
      "RR-monitoo     : object text\n",
      "P155           : text  object\n",
      "114/73         : object text\n",
      "regulaarne     : object text\n",
      "90             : text  object\n",
      "145/80mmHg     : text  object\n",
      "98%,fr.93x     : object text\n",
      "140/90         : object text\n",
      "86x´,regul     : object text\n",
      "130/90         : object text\n",
      "Tervisekon     : object text\n",
      "min.Pikkus     : object text\n",
      "162            : object text\n",
      "min.Pikkus     : object text\n",
      "162            : object text\n",
      "õhupuudus,     : object text\n",
      "sääki-14,0     : object text\n",
      "cor:akts.r     : object text\n",
      "120/80mmhg     : object text\n",
      "regulaarne     : object text\n",
      "rr150/90       : object text\n",
      "regulaarne     : object text\n",
      "südamepeks     : object text\n",
      "kontrollil     : object text\n",
      "166/97         : object text\n",
      "rR             : text  object\n",
      "136/84         : text  object\n",
      "Analüüsid.     : object text\n",
      "118/80         : object text\n",
      "P71            : text  object\n",
      "142104016      : text  object\n",
      "142104016      : text  object\n",
      "142104016      : text  object\n",
      "142104016      : text  object\n",
      "140            : object text\n",
      "157/94         : object text\n",
      "Nõustamine     : object text\n",
      "rr100/60       : object text\n",
      "rr170/100(     : object text\n",
      "24             : object text\n",
      "min.Pikkus     : object text\n",
      "170            : object text\n",
      "min.Pikkus     : object text\n",
      "170            : object text\n",
      "170/100        : object text\n",
      "136/88<br      : text  object\n",
      "140/90         : object text\n",
      "kompenseer     : object text\n",
      "100            : text  object\n",
      "100            : text  object\n",
      "124/78         : text  object\n",
      "pearinglus     : object text\n",
      "70/min.RR      : object text\n",
      "PR             : text  object\n",
      "154ms.         : text  object\n",
      "170cm          : object text\n",
      "tervisetõe     : object text\n",
      "13-101035-     : object text\n",
      "13-101035-     : object text\n",
      "13-101035-     : object text\n",
      "13-101035-     : object text\n",
      "13-101035-     : object text\n",
      "13-101035-     : object text\n",
      "13-101035-     : object text\n",
      "13-101035-     : object text\n",
      "sööki-6,3m     : object text\n",
      "156/86         : object text\n",
      "156/86         : object text\n",
      "180            : object text\n",
      "Amb.m/õ,te     : object text\n",
      "id=\"0\"         : object text\n",
      "140            : object text\n",
      "Hba1c-7,0%     : object text\n",
      "112/60         : text  object\n",
      "kg.Pikkus      : object text\n",
      "163            : object text\n",
      "kg.Pikkus      : object text\n",
      "163            : object text\n",
      "kg.Pikkus      : object text\n",
      "163            : object text\n",
      "Pingepeava     : object text\n",
      "118/75         : object text\n",
      "RRmonitoor     : object text\n",
      "110            : object text\n",
      "110            : object text\n",
      "110            : object text\n",
      "ebaregulaa     : object text\n",
      "regulaarne     : object text\n",
      "03.06.2010     : object text\n",
      "127            : object text\n",
      "uimnasust.     : object text\n",
      "140/85.Cor     : object text\n",
      "120x1          : object text\n",
      "120x1          : object text\n",
      "rr140/90       : object text\n",
      "AVR            : text  object\n",
      "130/80         : text  object\n",
      "Nõustamine     : object text\n",
      "=              : text  object\n",
      "120/80         : object text\n",
      "reg.puhtad     : object text\n",
      "Turseteta.     : object text\n",
      "statiinrav     : object text\n",
      "transparen     : object text\n",
      "134/75mmHg     : text  object\n",
      "120kg          : object text\n",
      "RR-monitoo     : object text\n",
      "135/93         : object text\n",
      "Rmberg         : text  object\n",
      "*10.06.201     : object text\n",
      "RR-monitoo     : object text\n",
      "rägivad.Tu     : object text\n",
      "140/100        : text  object\n",
      "150/90         : object text\n",
      "130/80         : text  object\n",
      "R120-82mmh     : text  object\n",
      "=              : text  object\n",
      "100            : text  object\n",
      "Ülekaaluli     : object text\n",
      "140/90         : text  object\n",
      "170/90         : text  object\n",
      "ujulast.Hb     : object text\n",
      "140/80         : text  object\n",
      "26.10.2015     : object text\n",
      "160/80         : object text\n",
      "05.11.2015     : object text\n",
      "26.10.2015     : object text\n",
      "05.11.2015     : object text\n",
      "/106           : text  object\n",
      "90             : text  object\n",
      "meeleolula     : object text\n",
      "100/70,        : object text\n",
      "Hba1c-5,7%     : object text\n",
      "söönuna--1     : object text\n",
      "üldseisund     : object text\n",
      "120/70.        : object text\n",
      "120x           : object text\n",
      "p/s-12,5kg     : object text\n",
      "120,1          : object text\n",
      "*12.03.201     : object text\n",
      "24             : object text\n",
      "rr140/90       : object text\n",
      "155/105        : text  object\n",
      "145;           : object text\n",
      "regulaarne     : object text\n",
      "120,2kg        : object text\n",
      "162/90         : text  object\n"
     ]
    }
   ],
   "source": [
    "j = 0\n",
    "for i in range(len(y_pred)):\n",
    "    p = np.argmax(y_pred[i], axis=-1)\n",
    "#     print(\"{:15}||{:5}||{}\".format(\"Word\", \"True\", \"Pred\"))\n",
    "#     print(30 * \"=\")\n",
    "    for w, t, pred in zip(X_char_te[i], y_te[i], p):\n",
    "        if charindx2word(w) != \"\": #PAD\n",
    "            if idx2tag[t] != idx2tag[pred]:\n",
    "                print(\"{:15}: {:5} {}\".format(charindx2word(w), idx2tag[t], idx2tag[pred]))\n",
    "                j = j+1\n"
   ]
  },
  {
   "cell_type": "code",
   "execution_count": 48,
   "metadata": {},
   "outputs": [
    {
     "data": {
      "text/plain": [
       "187"
      ]
     },
     "execution_count": 48,
     "metadata": {},
     "output_type": "execute_result"
    }
   ],
   "source": [
    "j"
   ]
  },
  {
   "cell_type": "code",
   "execution_count": 104,
   "metadata": {},
   "outputs": [
    {
     "name": "stdout",
     "output_type": "stream",
     "text": [
      "Word           ||True ||Pred\n",
      "==============================\n",
      "01.11.2011     : text  text\n",
      "-              : text  text\n",
      "118            : text  text\n",
      "kg,164         : text  text\n",
      "cm,BMI         : text  text\n",
      "43,RR          : object object\n",
      "150/90         : object object\n",
      "mmHg,FR        : text  text\n",
      "~125           : text  text\n",
      "x´,ebaregu     : text  text\n",
      ".              : text  text\n"
     ]
    }
   ],
   "source": [
    "i = 1\n",
    "p = np.argmax(y_pred[i], axis=-1)\n",
    "print(\"{:15}||{:5}||{}\".format(\"Word\", \"True\", \"Pred\"))\n",
    "print(30 * \"=\")\n",
    "for w, t, pred in zip(X_char_te[i], y_te[i], p):\n",
    "    if t != 0: #PAD\n",
    "        print(\"{:15}: {:5} {}\".format(charindx2word(w), idx2tag[t], idx2tag[pred]))\n"
   ]
  },
  {
   "cell_type": "code",
   "execution_count": 49,
   "metadata": {},
   "outputs": [
    {
     "name": "stdout",
     "output_type": "stream",
     "text": [
      "F1-score: 89.9%\n",
      "           precision    recall  f1-score   support\n",
      "\n",
      "     text       0.97      0.89      0.93      4461\n",
      "   object       0.86      0.82      0.84      2104\n",
      "\n",
      "micro avg       0.93      0.87      0.90      6565\n",
      "macro avg       0.93      0.87      0.90      6565\n",
      "\n"
     ]
    }
   ],
   "source": [
    "from seqeval.metrics import accuracy_score, precision_score, recall_score, f1_score, classification_report\n",
    "\n",
    "def pred2label(pred):\n",
    "    out = []\n",
    "    for pred_i in pred:\n",
    "        out_i = []\n",
    "        for p in pred_i:\n",
    "            p_i = np.argmax(p)\n",
    "            out_i.append(idx2tag[p_i].replace(\"PAD\", \"text\"))\n",
    "        out.append(out_i)\n",
    "    return out\n",
    "\n",
    "def test2label(pred):\n",
    "    out = []\n",
    "    for pred_i in pred:\n",
    "        out_i = []\n",
    "        for p in pred_i:\n",
    "            out_i.append(idx2tag[p].replace(\"PAD\", \"text\"))\n",
    "        out.append(out_i)\n",
    "    return out\n",
    "\n",
    "pred_labels = pred2label(y_pred)\n",
    "test_labels = test2label(y_te)\n",
    "\n",
    "print(\"F1-score: {:.1%}\".format(f1_score(test_labels, pred_labels)))\n",
    "print(classification_report(test_labels, pred_labels))\n"
   ]
  },
  {
   "cell_type": "code",
   "execution_count": 50,
   "metadata": {},
   "outputs": [
    {
     "data": {
      "text/plain": [
       "0.9170953951386345"
      ]
     },
     "execution_count": 50,
     "metadata": {},
     "output_type": "execute_result"
    }
   ],
   "source": [
    "accuracy_score(test_labels, pred_labels)"
   ]
  },
  {
   "cell_type": "code",
   "execution_count": 2,
   "metadata": {},
   "outputs": [],
   "source": [
    "# from sklearn_crfsuite.metrics import flat_classification_report,flat_accuracy_score\n",
    "# report = flat_classification_report(y_pred=pred_labels, y_true=test_labels)\n",
    "# print(report)\n",
    "# print(\"Accuracy\",flat_accuracy_score(y_pred=pred_labels, y_true=test_labels))"
   ]
  },
  {
   "cell_type": "code",
   "execution_count": 59,
   "metadata": {},
   "outputs": [
    {
     "name": "stderr",
     "output_type": "stream",
     "text": [
      "C:\\Users\\Kasutaja\\Anaconda3\\envs\\myEnv\\lib\\site-packages\\IPython\\core\\interactiveshell.py:3063: DtypeWarning: Columns (4,8) have mixed types.Specify dtype option on import or set low_memory=False.\n",
      "  interactivity=interactivity, compiler=compiler, result=result)\n"
     ]
    }
   ],
   "source": [
    "FULLDS = pd.read_csv(\"MergedDSFULL.csv\")"
   ]
  },
  {
   "cell_type": "code",
   "execution_count": 61,
   "metadata": {},
   "outputs": [
    {
     "data": {
      "text/html": [
       "<div>\n",
       "<style scoped>\n",
       "    .dataframe tbody tr th:only-of-type {\n",
       "        vertical-align: middle;\n",
       "    }\n",
       "\n",
       "    .dataframe tbody tr th {\n",
       "        vertical-align: top;\n",
       "    }\n",
       "\n",
       "    .dataframe thead th {\n",
       "        text-align: right;\n",
       "    }\n",
       "</style>\n",
       "<table border=\"1\" class=\"dataframe\">\n",
       "  <thead>\n",
       "    <tr style=\"text-align: right;\">\n",
       "      <th></th>\n",
       "      <th>text_ID</th>\n",
       "      <th>start</th>\n",
       "      <th>end</th>\n",
       "      <th>object</th>\n",
       "      <th>value</th>\n",
       "      <th>unit</th>\n",
       "      <th>min</th>\n",
       "      <th>max</th>\n",
       "      <th>text</th>\n",
       "    </tr>\n",
       "  </thead>\n",
       "  <tbody>\n",
       "    <tr>\n",
       "      <th>0</th>\n",
       "      <td>46809</td>\n",
       "      <td>0</td>\n",
       "      <td>6</td>\n",
       "      <td>RR</td>\n",
       "      <td>130</td>\n",
       "      <td>NaN</td>\n",
       "      <td>NaN</td>\n",
       "      <td>NaN</td>\n",
       "      <td>RR 130/80 mmHg.</td>\n",
       "    </tr>\n",
       "    <tr>\n",
       "      <th>1</th>\n",
       "      <td>43588</td>\n",
       "      <td>2421</td>\n",
       "      <td>2433</td>\n",
       "      <td>ALP</td>\n",
       "      <td>54</td>\n",
       "      <td>U/L</td>\n",
       "      <td>NaN</td>\n",
       "      <td>NaN</td>\n",
       "      <td>UURINGUD JA PROTSEDUURID \\nLÄBIVAATUS: Objekt...</td>\n",
       "    </tr>\n",
       "    <tr>\n",
       "      <th>2</th>\n",
       "      <td>43050</td>\n",
       "      <td>720</td>\n",
       "      <td>735</td>\n",
       "      <td>HCT</td>\n",
       "      <td>40</td>\n",
       "      <td>%</td>\n",
       "      <td>NaN</td>\n",
       "      <td>41.2</td>\n",
       "      <td>UURINGUD JA PROTSEDUURID \\n|Uuring|24.04|25.0...</td>\n",
       "    </tr>\n",
       "    <tr>\n",
       "      <th>3</th>\n",
       "      <td>45389</td>\n",
       "      <td>165</td>\n",
       "      <td>171</td>\n",
       "      <td>RR</td>\n",
       "      <td>110</td>\n",
       "      <td>NaN</td>\n",
       "      <td>NaN</td>\n",
       "      <td>NaN</td>\n",
       "      <td>Kergelt liigkaaluline. Nahk, limaskestad taval...</td>\n",
       "    </tr>\n",
       "    <tr>\n",
       "      <th>4</th>\n",
       "      <td>42960</td>\n",
       "      <td>2314</td>\n",
       "      <td>2332</td>\n",
       "      <td>HCT</td>\n",
       "      <td>45</td>\n",
       "      <td>%</td>\n",
       "      <td>40.0</td>\n",
       "      <td>50.0</td>\n",
       "      <td>UURINGUD JA PROTSEDUURID \\nObjektiivselt: Nor...</td>\n",
       "    </tr>\n",
       "  </tbody>\n",
       "</table>\n",
       "</div>"
      ],
      "text/plain": [
       "   text_ID  start   end object value unit   min   max  \\\n",
       "0    46809      0     6     RR   130  NaN   NaN   NaN   \n",
       "1    43588   2421  2433    ALP    54  U/L   NaN   NaN   \n",
       "2    43050    720   735    HCT    40    %   NaN  41.2   \n",
       "3    45389    165   171     RR   110  NaN   NaN   NaN   \n",
       "4    42960   2314  2332    HCT    45    %  40.0  50.0   \n",
       "\n",
       "                                                text  \n",
       "0                                    RR 130/80 mmHg.  \n",
       "1   UURINGUD JA PROTSEDUURID \\nLÄBIVAATUS: Objekt...  \n",
       "2   UURINGUD JA PROTSEDUURID \\n|Uuring|24.04|25.0...  \n",
       "3  Kergelt liigkaaluline. Nahk, limaskestad taval...  \n",
       "4   UURINGUD JA PROTSEDUURID \\nObjektiivselt: Nor...  "
      ]
     },
     "execution_count": 61,
     "metadata": {},
     "output_type": "execute_result"
    }
   ],
   "source": [
    "FULLDS.head()"
   ]
  },
  {
   "cell_type": "code",
   "execution_count": 63,
   "metadata": {},
   "outputs": [],
   "source": [
    "FR_DS = FULLDS[FULLDS[\"object\"] == \"fr\"]"
   ]
  },
  {
   "cell_type": "code",
   "execution_count": 65,
   "metadata": {},
   "outputs": [],
   "source": [
    "FR_DS = FR_DS[FR_DS['text'].notna()]"
   ]
  },
  {
   "cell_type": "code",
   "execution_count": 66,
   "metadata": {},
   "outputs": [],
   "source": [
    "FR_Subset = FR_DS[FR_DS['text'].apply(len)<150]\n"
   ]
  },
  {
   "cell_type": "code",
   "execution_count": 67,
   "metadata": {},
   "outputs": [
    {
     "data": {
      "text/plain": [
       "4639"
      ]
     },
     "execution_count": 67,
     "metadata": {},
     "output_type": "execute_result"
    }
   ],
   "source": [
    "len(FR_Subset)"
   ]
  },
  {
   "cell_type": "code",
   "execution_count": 68,
   "metadata": {},
   "outputs": [],
   "source": [
    "FR_Subset.to_csv(\"FR_ObjectSubset150SentenceLength\",index=False)"
   ]
  },
  {
   "cell_type": "code",
   "execution_count": null,
   "metadata": {},
   "outputs": [],
   "source": [
    "CharacterEmbeddingObject-1.00.hdf5"
   ]
  },
  {
   "cell_type": "code",
   "execution_count": null,
   "metadata": {},
   "outputs": [],
   "source": []
  }
 ],
 "metadata": {
  "kernelspec": {
   "display_name": "Python 3",
   "language": "python",
   "name": "python3"
  },
  "language_info": {
   "codemirror_mode": {
    "name": "ipython",
    "version": 3
   },
   "file_extension": ".py",
   "mimetype": "text/x-python",
   "name": "python",
   "nbconvert_exporter": "python",
   "pygments_lexer": "ipython3",
   "version": "3.7.6"
  }
 },
 "nbformat": 4,
 "nbformat_minor": 4
}
