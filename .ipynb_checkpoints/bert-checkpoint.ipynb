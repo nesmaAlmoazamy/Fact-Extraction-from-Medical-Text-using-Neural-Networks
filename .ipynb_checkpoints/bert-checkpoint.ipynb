{
 "cells": [
  {
   "cell_type": "code",
   "execution_count": 1,
   "metadata": {},
   "outputs": [
    {
     "name": "stderr",
     "output_type": "stream",
     "text": [
      "Using TensorFlow backend.\n"
     ]
    }
   ],
   "source": [
    "import csv\n",
    "import numpy as np\n",
    "import pandas as pd\n",
    "from keras.preprocessing.text import Tokenizer\n",
    "from keras.preprocessing.sequence import pad_sequences\n",
    "import pickle"
   ]
  },
  {
   "cell_type": "code",
   "execution_count": 2,
   "metadata": {},
   "outputs": [],
   "source": [
    "DS = pd.read_csv(\"DataAnnotatedSubset150SentenceLength.csv\")"
   ]
  },
  {
   "cell_type": "code",
   "execution_count": 3,
   "metadata": {},
   "outputs": [
    {
     "data": {
      "text/html": [
       "<div>\n",
       "<style scoped>\n",
       "    .dataframe tbody tr th:only-of-type {\n",
       "        vertical-align: middle;\n",
       "    }\n",
       "\n",
       "    .dataframe tbody tr th {\n",
       "        vertical-align: top;\n",
       "    }\n",
       "\n",
       "    .dataframe thead th {\n",
       "        text-align: right;\n",
       "    }\n",
       "</style>\n",
       "<table border=\"1\" class=\"dataframe\">\n",
       "  <thead>\n",
       "    <tr style=\"text-align: right;\">\n",
       "      <th></th>\n",
       "      <th>text_ID</th>\n",
       "      <th>word</th>\n",
       "      <th>tag</th>\n",
       "    </tr>\n",
       "  </thead>\n",
       "  <tbody>\n",
       "    <tr>\n",
       "      <th>0</th>\n",
       "      <td>46809</td>\n",
       "      <td>RR</td>\n",
       "      <td>object</td>\n",
       "    </tr>\n",
       "    <tr>\n",
       "      <th>1</th>\n",
       "      <td>46809</td>\n",
       "      <td>130/80</td>\n",
       "      <td>value</td>\n",
       "    </tr>\n",
       "    <tr>\n",
       "      <th>2</th>\n",
       "      <td>46809</td>\n",
       "      <td>mmHg.</td>\n",
       "      <td>NaN</td>\n",
       "    </tr>\n",
       "    <tr>\n",
       "      <th>3</th>\n",
       "      <td>47482</td>\n",
       "      <td>RR142/89mmHg,</td>\n",
       "      <td>object</td>\n",
       "    </tr>\n",
       "    <tr>\n",
       "      <th>4</th>\n",
       "      <td>47482</td>\n",
       "      <td>HR</td>\n",
       "      <td>NaN</td>\n",
       "    </tr>\n",
       "  </tbody>\n",
       "</table>\n",
       "</div>"
      ],
      "text/plain": [
       "   text_ID           word     tag\n",
       "0    46809             RR  object\n",
       "1    46809         130/80   value\n",
       "2    46809          mmHg.     NaN\n",
       "3    47482  RR142/89mmHg,  object\n",
       "4    47482             HR     NaN"
      ]
     },
     "execution_count": 3,
     "metadata": {},
     "output_type": "execute_result"
    }
   ],
   "source": [
    "DS.head()"
   ]
  },
  {
   "cell_type": "code",
   "execution_count": 3,
   "metadata": {},
   "outputs": [],
   "source": [
    "DS['tag'].fillna('unk', inplace=True)"
   ]
  },
  {
   "cell_type": "code",
   "execution_count": 4,
   "metadata": {},
   "outputs": [
    {
     "data": {
      "text/plain": [
       "27741"
      ]
     },
     "execution_count": 4,
     "metadata": {},
     "output_type": "execute_result"
    }
   ],
   "source": [
    "words = list(set(DS[\"word\"].values))\n",
    "n_words = len(words)\n",
    "n_words"
   ]
  },
  {
   "cell_type": "code",
   "execution_count": 5,
   "metadata": {},
   "outputs": [
    {
     "data": {
      "text/plain": [
       "3"
      ]
     },
     "execution_count": 5,
     "metadata": {},
     "output_type": "execute_result"
    }
   ],
   "source": [
    "tags = list(set(DS[\"tag\"].values))\n",
    "n_tags = len(tags); n_tags\n"
   ]
  },
  {
   "cell_type": "code",
   "execution_count": 6,
   "metadata": {},
   "outputs": [],
   "source": [
    "class SentenceGetter(object):\n",
    "    \n",
    "    def __init__(self, data):\n",
    "        self.n_sent = 1\n",
    "        self.data = data\n",
    "        self.empty = False\n",
    "        agg_func = lambda s: [(w, t) for w, t in zip(s[\"word\"].values.tolist(),\n",
    "                                                           s[\"tag\"].values.tolist())]\n",
    "        self.grouped = self.data.groupby(\"text_ID\").apply(agg_func)\n",
    "        self.sentences = [s for s in self.grouped]\n",
    "    \n",
    "    def get_next(self):\n",
    "        try:\n",
    "            s = self.grouped[\"Sentence: {}\".format(self.n_sent)]\n",
    "            self.n_sent += 1\n",
    "            return s\n",
    "        except:\n",
    "            return None"
   ]
  },
  {
   "cell_type": "code",
   "execution_count": 7,
   "metadata": {},
   "outputs": [],
   "source": [
    "getter = SentenceGetter(DS)"
   ]
  },
  {
   "cell_type": "code",
   "execution_count": 8,
   "metadata": {},
   "outputs": [],
   "source": [
    "sentences =[\" \".join([s[0] for s in sent]) for sent in getter.sentences]\n"
   ]
  },
  {
   "cell_type": "code",
   "execution_count": 9,
   "metadata": {},
   "outputs": [
    {
     "data": {
      "text/plain": [
       "'Pt. tehtud 3 plasmaferees, talus hästi. Eemaldatud 700 ml plasmat. RR 112/60 mmHg. Tgasi 22.10.09.'"
      ]
     },
     "execution_count": 9,
     "metadata": {},
     "output_type": "execute_result"
    }
   ],
   "source": [
    "sentences[1]"
   ]
  },
  {
   "cell_type": "code",
   "execution_count": 10,
   "metadata": {},
   "outputs": [
    {
     "name": "stdout",
     "output_type": "stream",
     "text": [
      "['unk', 'unk', 'unk', 'unk', 'unk', 'unk', 'unk', 'object', 'value', 'unk', 'unk', 'unk', 'unk', 'unk', 'unk']\n"
     ]
    }
   ],
   "source": [
    "labels = [[s[1] for s in sent] for sent in getter.sentences]\n",
    "print(labels[0])\n"
   ]
  },
  {
   "cell_type": "code",
   "execution_count": 11,
   "metadata": {},
   "outputs": [],
   "source": [
    "tags_vals = list(set(DS[\"tag\"].values))\n",
    "tag2idx = {t: i for i, t in enumerate(tags_vals)}\n"
   ]
  },
  {
   "cell_type": "code",
   "execution_count": 14,
   "metadata": {},
   "outputs": [
    {
     "ename": "ModuleNotFoundError",
     "evalue": "No module named 'torch'",
     "output_type": "error",
     "traceback": [
      "\u001b[1;31m---------------------------------------------------------------------------\u001b[0m",
      "\u001b[1;31mModuleNotFoundError\u001b[0m                       Traceback (most recent call last)",
      "\u001b[1;32m<ipython-input-14-bbde2f34164a>\u001b[0m in \u001b[0;36m<module>\u001b[1;34m\u001b[0m\n\u001b[1;32m----> 1\u001b[1;33m \u001b[1;32mimport\u001b[0m \u001b[0mtorch\u001b[0m\u001b[1;33m\u001b[0m\u001b[1;33m\u001b[0m\u001b[0m\n\u001b[0m\u001b[0;32m      2\u001b[0m \u001b[1;32mfrom\u001b[0m \u001b[0mtorch\u001b[0m\u001b[1;33m.\u001b[0m\u001b[0moptim\u001b[0m \u001b[1;32mimport\u001b[0m \u001b[0mAdam\u001b[0m\u001b[1;33m\u001b[0m\u001b[1;33m\u001b[0m\u001b[0m\n\u001b[0;32m      3\u001b[0m \u001b[1;32mfrom\u001b[0m \u001b[0mtorch\u001b[0m\u001b[1;33m.\u001b[0m\u001b[0mutils\u001b[0m\u001b[1;33m.\u001b[0m\u001b[0mdata\u001b[0m \u001b[1;32mimport\u001b[0m \u001b[0mTensorDataset\u001b[0m\u001b[1;33m,\u001b[0m \u001b[0mDataLoader\u001b[0m\u001b[1;33m,\u001b[0m \u001b[0mRandomSampler\u001b[0m\u001b[1;33m,\u001b[0m \u001b[0mSequentialSampler\u001b[0m\u001b[1;33m\u001b[0m\u001b[1;33m\u001b[0m\u001b[0m\n\u001b[0;32m      4\u001b[0m \u001b[1;32mfrom\u001b[0m \u001b[0mkeras\u001b[0m\u001b[1;33m.\u001b[0m\u001b[0mpreprocessing\u001b[0m\u001b[1;33m.\u001b[0m\u001b[0msequence\u001b[0m \u001b[1;32mimport\u001b[0m \u001b[0mpad_sequences\u001b[0m\u001b[1;33m\u001b[0m\u001b[1;33m\u001b[0m\u001b[0m\n\u001b[0;32m      5\u001b[0m \u001b[1;32mfrom\u001b[0m \u001b[0msklearn\u001b[0m\u001b[1;33m.\u001b[0m\u001b[0mmodel_selection\u001b[0m \u001b[1;32mimport\u001b[0m \u001b[0mtrain_test_split\u001b[0m\u001b[1;33m\u001b[0m\u001b[1;33m\u001b[0m\u001b[0m\n",
      "\u001b[1;31mModuleNotFoundError\u001b[0m: No module named 'torch'"
     ]
    }
   ],
   "source": [
    "import torch\n",
    "from torch.optim import Adam\n",
    "from torch.utils.data import TensorDataset, DataLoader, RandomSampler, SequentialSampler\n",
    "from keras.preprocessing.sequence import pad_sequences\n",
    "from sklearn.model_selection import train_test_split\n",
    "from pytorch_pretrained_bert import BertTokenizer, BertConfig\n",
    "from pytorch_pretrained_bert import BertForTokenClassification, BertAdam"
   ]
  },
  {
   "cell_type": "code",
   "execution_count": null,
   "metadata": {},
   "outputs": [],
   "source": [
    "!pip install torch"
   ]
  },
  {
   "cell_type": "code",
   "execution_count": null,
   "metadata": {},
   "outputs": [],
   "source": []
  },
  {
   "cell_type": "code",
   "execution_count": null,
   "metadata": {},
   "outputs": [],
   "source": []
  },
  {
   "cell_type": "code",
   "execution_count": null,
   "metadata": {},
   "outputs": [],
   "source": []
  },
  {
   "cell_type": "code",
   "execution_count": null,
   "metadata": {},
   "outputs": [],
   "source": []
  },
  {
   "cell_type": "code",
   "execution_count": 110,
   "metadata": {},
   "outputs": [],
   "source": [
    "max_len = 54\n",
    "max_len_char = 10"
   ]
  },
  {
   "cell_type": "code",
   "execution_count": 111,
   "metadata": {},
   "outputs": [],
   "source": [
    "word2idx = {w: i + 2 for i, w in enumerate(words)}\n",
    "word2idx[\"UNK\"] = 1\n",
    "word2idx[\"PAD\"] = 0\n",
    "idx2word = {i: w for w, i in word2idx.items()}\n",
    "tag2idx = {t: i + 1 for i, t in enumerate(tags)}\n",
    "tag2idx[\"PAD\"] = 0\n",
    "idx2tag = {i: w for w, i in tag2idx.items()}"
   ]
  },
  {
   "cell_type": "code",
   "execution_count": 112,
   "metadata": {},
   "outputs": [],
   "source": [
    "from keras.preprocessing.sequence import pad_sequences\n",
    "X_word = [[word2idx[w[0]] for w in s] for s in sentences]\n"
   ]
  },
  {
   "cell_type": "code",
   "execution_count": 113,
   "metadata": {},
   "outputs": [],
   "source": [
    "X_word = pad_sequences(maxlen=max_len, sequences=X_word, value=word2idx[\"PAD\"], padding='post', truncating='post')"
   ]
  },
  {
   "cell_type": "code",
   "execution_count": 114,
   "metadata": {},
   "outputs": [
    {
     "name": "stdout",
     "output_type": "stream",
     "text": [
      "104\n"
     ]
    }
   ],
   "source": [
    "chars = set([w_i for w in words for w_i in w])\n",
    "n_chars = len(chars)\n",
    "print(n_chars)\n"
   ]
  },
  {
   "cell_type": "code",
   "execution_count": 115,
   "metadata": {},
   "outputs": [],
   "source": [
    "char2idx = {c: i + 2 for i, c in enumerate(chars)}\n",
    "char2idx[\"UNK\"] = 1\n",
    "char2idx[\"PAD\"] = 0"
   ]
  },
  {
   "cell_type": "code",
   "execution_count": 116,
   "metadata": {},
   "outputs": [],
   "source": [
    "X_char = []\n",
    "for sentence in sentences:\n",
    "    sent_seq = []\n",
    "    for i in range(max_len):\n",
    "        word_seq = []\n",
    "        for j in range(max_len_char):\n",
    "            try:\n",
    "                word_seq.append(char2idx.get(sentence[i][0][j]))\n",
    "            except:\n",
    "                word_seq.append(char2idx.get(\"PAD\"))\n",
    "        sent_seq.append(word_seq)\n",
    "    X_char.append(np.array(sent_seq))"
   ]
  },
  {
   "cell_type": "code",
   "execution_count": 131,
   "metadata": {},
   "outputs": [],
   "source": [
    "y = [[tag2idx[w[1]] for w in s] for s in sentences]\n"
   ]
  },
  {
   "cell_type": "code",
   "execution_count": 132,
   "metadata": {},
   "outputs": [],
   "source": [
    "y = pad_sequences(maxlen=max_len, sequences=y, value=tag2idx[\"PAD\"], padding='post', truncating='post')\n"
   ]
  },
  {
   "cell_type": "code",
   "execution_count": 134,
   "metadata": {},
   "outputs": [],
   "source": [
    "from sklearn.model_selection import train_test_split\n",
    "X_word_tr, X_word_te, y_tr, y_te = train_test_split(X_word, y, test_size=0.1, random_state=2018)\n",
    "X_char_tr, X_char_te, _, _ = train_test_split(X_char, y, test_size=0.1, random_state=2018)\n"
   ]
  },
  {
   "cell_type": "code",
   "execution_count": 135,
   "metadata": {},
   "outputs": [
    {
     "name": "stdout",
     "output_type": "stream",
     "text": [
      "WARNING:tensorflow:Large dropout rate: 0.6 (>0.5). In TensorFlow 2.x, dropout() uses dropout rate instead of keep_prob. Please ensure that this is intended.\n",
      "WARNING:tensorflow:Large dropout rate: 0.6 (>0.5). In TensorFlow 2.x, dropout() uses dropout rate instead of keep_prob. Please ensure that this is intended.\n",
      "WARNING:tensorflow:Large dropout rate: 0.6 (>0.5). In TensorFlow 2.x, dropout() uses dropout rate instead of keep_prob. Please ensure that this is intended.\n",
      "WARNING:tensorflow:Large dropout rate: 0.6 (>0.5). In TensorFlow 2.x, dropout() uses dropout rate instead of keep_prob. Please ensure that this is intended.\n",
      "WARNING:tensorflow:Large dropout rate: 0.6 (>0.5). In TensorFlow 2.x, dropout() uses dropout rate instead of keep_prob. Please ensure that this is intended.\n"
     ]
    }
   ],
   "source": [
    "from keras.models import Model, Input\n",
    "from keras.layers import LSTM, Embedding, Dense, TimeDistributed, Dropout, Conv1D\n",
    "from keras.layers import Bidirectional, concatenate, SpatialDropout1D, GlobalMaxPooling1D\n",
    "\n",
    "\n",
    "# input and embedding for words\n",
    "word_in = Input(shape=(max_len,))\n",
    "emb_word = Embedding(input_dim=n_words + 2, output_dim=20,\n",
    "                     input_length=max_len, mask_zero=True)(word_in)\n",
    "\n",
    "# input and embeddings for characters\n",
    "char_in = Input(shape=(max_len, max_len_char,))\n",
    "emb_char = TimeDistributed(Embedding(input_dim=n_chars + 2, output_dim=10,\n",
    "                           input_length=max_len_char, mask_zero=True))(char_in)\n",
    "# character LSTM to get word encodings by characters\n",
    "char_enc = TimeDistributed(LSTM(units=20, return_sequences=False,\n",
    "                                recurrent_dropout=0.5))(emb_char)\n",
    "\n",
    "# main LSTM\n",
    "x = concatenate([emb_word, char_enc])\n",
    "x = SpatialDropout1D(0.3)(x)\n",
    "main_lstm = Bidirectional(LSTM(units=50, return_sequences=True,\n",
    "                               recurrent_dropout=0.6))(x)\n",
    "out = TimeDistributed(Dense(n_tags + 1, activation=\"softmax\"))(main_lstm)\n",
    "\n",
    "model = Model([word_in, char_in], out)\n",
    "\n",
    "\n"
   ]
  },
  {
   "cell_type": "code",
   "execution_count": 137,
   "metadata": {},
   "outputs": [
    {
     "name": "stdout",
     "output_type": "stream",
     "text": [
      "Model: \"model_1\"\n",
      "__________________________________________________________________________________________________\n",
      "Layer (type)                    Output Shape         Param #     Connected to                     \n",
      "==================================================================================================\n",
      "input_2 (InputLayer)            (None, 54, 10)       0                                            \n",
      "__________________________________________________________________________________________________\n",
      "input_1 (InputLayer)            (None, 54)           0                                            \n",
      "__________________________________________________________________________________________________\n",
      "time_distributed_1 (TimeDistrib (None, 54, 10, 10)   1060        input_2[0][0]                    \n",
      "__________________________________________________________________________________________________\n",
      "embedding_1 (Embedding)         (None, 54, 20)       554860      input_1[0][0]                    \n",
      "__________________________________________________________________________________________________\n",
      "time_distributed_2 (TimeDistrib (None, 54, 20)       2480        time_distributed_1[0][0]         \n",
      "__________________________________________________________________________________________________\n",
      "concatenate_1 (Concatenate)     (None, 54, 40)       0           embedding_1[0][0]                \n",
      "                                                                 time_distributed_2[0][0]         \n",
      "__________________________________________________________________________________________________\n",
      "spatial_dropout1d_1 (SpatialDro (None, 54, 40)       0           concatenate_1[0][0]              \n",
      "__________________________________________________________________________________________________\n",
      "bidirectional_1 (Bidirectional) (None, 54, 100)      36400       spatial_dropout1d_1[0][0]        \n",
      "__________________________________________________________________________________________________\n",
      "time_distributed_3 (TimeDistrib (None, 54, 4)        404         bidirectional_1[0][0]            \n",
      "==================================================================================================\n",
      "Total params: 595,204\n",
      "Trainable params: 595,204\n",
      "Non-trainable params: 0\n",
      "__________________________________________________________________________________________________\n"
     ]
    }
   ],
   "source": [
    "model.compile(optimizer=\"adam\", loss=\"sparse_categorical_crossentropy\", metrics=[\"acc\"])\n",
    "model.summary()\n"
   ]
  },
  {
   "cell_type": "code",
   "execution_count": 138,
   "metadata": {},
   "outputs": [
    {
     "name": "stderr",
     "output_type": "stream",
     "text": [
      "C:\\Users\\Kasutaja\\Anaconda3\\envs\\myEnv\\lib\\site-packages\\tensorflow_core\\python\\framework\\indexed_slices.py:433: UserWarning: Converting sparse IndexedSlices to a dense Tensor of unknown shape. This may consume a large amount of memory.\n",
      "  \"Converting sparse IndexedSlices to a dense Tensor of unknown shape. \"\n"
     ]
    },
    {
     "name": "stdout",
     "output_type": "stream",
     "text": [
      "Train on 11050 samples, validate on 1228 samples\n",
      "Epoch 1/10\n",
      "11050/11050 [==============================] - 56s 5ms/step - loss: 0.0627 - acc: 0.9314 - val_loss: 0.0127 - val_acc: 0.9850\n",
      "Epoch 2/10\n",
      "11050/11050 [==============================] - 51s 5ms/step - loss: 0.0096 - acc: 0.9889 - val_loss: 0.0060 - val_acc: 0.9919\n",
      "Epoch 3/10\n",
      "11050/11050 [==============================] - 49s 4ms/step - loss: 0.0048 - acc: 0.9942 - val_loss: 0.0049 - val_acc: 0.9939\n",
      "Epoch 4/10\n",
      "11050/11050 [==============================] - 51s 5ms/step - loss: 0.0024 - acc: 0.9968 - val_loss: 0.0046 - val_acc: 0.9939\n",
      "Epoch 5/10\n",
      "11050/11050 [==============================] - 50s 5ms/step - loss: 0.0014 - acc: 0.9981 - val_loss: 0.0046 - val_acc: 0.9939\n",
      "Epoch 6/10\n",
      "11050/11050 [==============================] - 51s 5ms/step - loss: 0.0011 - acc: 0.9986 - val_loss: 0.0048 - val_acc: 0.9933\n",
      "Epoch 7/10\n",
      "11050/11050 [==============================] - 51s 5ms/step - loss: 8.4861e-04 - acc: 0.9989 - val_loss: 0.0046 - val_acc: 0.9938\n",
      "Epoch 8/10\n",
      "11050/11050 [==============================] - 51s 5ms/step - loss: 7.4867e-04 - acc: 0.9990 - val_loss: 0.0051 - val_acc: 0.9926\n",
      "Epoch 9/10\n",
      "11050/11050 [==============================] - 51s 5ms/step - loss: 7.1445e-04 - acc: 0.9991 - val_loss: 0.0048 - val_acc: 0.9940\n",
      "Epoch 10/10\n",
      "11050/11050 [==============================] - 53s 5ms/step - loss: 5.9169e-04 - acc: 0.9992 - val_loss: 0.0049 - val_acc: 0.9942\n"
     ]
    }
   ],
   "source": [
    "history = model.fit([X_word_tr,\n",
    "                     np.array(X_char_tr).reshape((len(X_char_tr), max_len, max_len_char))],\n",
    "                    np.array(y_tr).reshape(len(y_tr), max_len, 1),\n",
    "                    batch_size=32, epochs=10, validation_split=0.1, verbose=1)\n"
   ]
  },
  {
   "cell_type": "code",
   "execution_count": 139,
   "metadata": {},
   "outputs": [],
   "source": [
    "hist = pd.DataFrame(history.history)\n"
   ]
  },
  {
   "cell_type": "code",
   "execution_count": 140,
   "metadata": {},
   "outputs": [
    {
     "data": {
      "image/png": "[encoded data removed]",
      "text/plain": [
       "<Figure size 864x864 with 1 Axes>"
      ]
     },
     "metadata": {},
     "output_type": "display_data"
    }
   ],
   "source": [
    "import matplotlib.pyplot as plt\n",
    "plt.style.use(\"ggplot\")\n",
    "plt.figure(figsize=(12,12))\n",
    "plt.plot(hist[\"acc\"])\n",
    "plt.plot(hist[\"val_acc\"])\n",
    "plt.show()\n"
   ]
  },
  {
   "cell_type": "code",
   "execution_count": 141,
   "metadata": {},
   "outputs": [],
   "source": [
    "y_pred = model.predict([X_word_te,\n",
    "                        np.array(X_char_te).reshape((len(X_char_te),\n",
    "                                                     max_len, max_len_char))])\n"
   ]
  },
  {
   "cell_type": "code",
   "execution_count": 147,
   "metadata": {},
   "outputs": [
    {
     "name": "stdout",
     "output_type": "stream",
     "text": [
      "Word           ||True ||Pred\n",
      "==============================\n",
      "Kardiovaskulaarsüsteem:: unk   unk\n",
      "RR             : object object\n",
      "160/100mmHg.   : value value\n",
      "Ausk-l         : unk   unk\n",
      "s-toonid       : unk   unk\n",
      "reg,           : unk   unk\n",
      "puhtad,        : unk   unk\n",
      "fr.            : unk   unk\n",
      "60*min.        : unk   unk\n",
      "Kardiovaskulaarsüsteem:: unk   unk\n",
      "RR             : object object\n",
      "160/100mmHg.   : value value\n",
      "Ausk-l         : unk   unk\n",
      "s-toonid       : unk   unk\n",
      "reg,           : unk   unk\n",
      "puhtad,        : unk   unk\n",
      "fr.            : unk   unk\n",
      "60*min.        : unk   unk\n"
     ]
    }
   ],
   "source": [
    "i = 4\n",
    "p = np.argmax(y_pred[i], axis=-1)\n",
    "print(\"{:15}||{:5}||{}\".format(\"Word\", \"True\", \"Pred\"))\n",
    "print(30 * \"=\")\n",
    "for w, t, pred in zip(X_word_te[i], y_te[i], p):\n",
    "    if w != 0:\n",
    "        print(\"{:15}: {:5} {}\".format(idx2word[w], idx2tag[t], idx2tag[pred]))\n"
   ]
  },
  {
   "cell_type": "code",
   "execution_count": 185,
   "metadata": {},
   "outputs": [],
   "source": [
    "\n",
    "\n",
    "def pred2label(pred):\n",
    "    out = []\n",
    "    for pred_i in pred:\n",
    "        out_i = []\n",
    "        for p in pred_i:\n",
    "            p_i = np.argmax(p, axis=-1)\n",
    "            out_i.append(idx2tag[p_i])\n",
    "        out.append(out_i)\n",
    "    return out\n",
    "pred_labels = pred2label(y_pred)\n",
    "\n",
    "def pred2labelV2(pred):\n",
    "    out = []\n",
    "    for pred_i in pred:\n",
    "        out_i = []\n",
    "        for p in pred_i:\n",
    "            out_i.append(idx2tag[p])\n",
    "        out.append(out_i)\n",
    "    return out\n",
    "test_labels = pred2labelV2(y_te)"
   ]
  },
  {
   "cell_type": "code",
   "execution_count": 199,
   "metadata": {},
   "outputs": [
    {
     "name": "stdout",
     "output_type": "stream",
     "text": [
      "['unk', 'unk', 'unk', 'unk', 'unk', 'object', 'value', 'unk', 'unk', 'unk', 'unk', 'PAD', 'PAD', 'PAD', 'PAD', 'PAD', 'PAD', 'PAD', 'PAD', 'PAD', 'PAD', 'PAD', 'PAD', 'PAD', 'PAD', 'PAD', 'PAD', 'PAD', 'PAD', 'PAD', 'PAD', 'PAD', 'PAD', 'PAD', 'PAD', 'PAD', 'PAD', 'PAD', 'PAD', 'PAD', 'PAD', 'PAD', 'PAD', 'PAD', 'PAD', 'PAD', 'PAD', 'PAD', 'PAD', 'PAD', 'PAD', 'PAD', 'PAD', 'PAD']\n"
     ]
    }
   ],
   "source": [
    "print(test_labels[1])"
   ]
  },
  {
   "cell_type": "code",
   "execution_count": 187,
   "metadata": {},
   "outputs": [
    {
     "name": "stdout",
     "output_type": "stream",
     "text": [
      "unk\n",
      "[3 3 3 3 3 2 1 3 3 3 3 0 0 0 0 0 0 0 0 0 0 0 0 0 0 0 0 0 0 0 0 0 0 0 0 0 0\n",
      " 0 0 0 0 0 0 0 0 0 0 0 0 0 0 0 0 0]\n"
     ]
    }
   ],
   "source": [
    "print(idx2tag[3])\n",
    "print(y_te[1])"
   ]
  },
  {
   "cell_type": "code",
   "execution_count": 188,
   "metadata": {},
   "outputs": [
    {
     "name": "stdout",
     "output_type": "stream",
     "text": [
      "F1-score: 54.6%\n"
     ]
    }
   ],
   "source": [
    "from seqeval.metrics import precision_score, recall_score, f1_score, classification_report\n",
    "print(\"F1-score: {:.1%}\".format(f1_score(test_labels, pred_labels)))"
   ]
  },
  {
   "cell_type": "code",
   "execution_count": 189,
   "metadata": {},
   "outputs": [
    {
     "name": "stdout",
     "output_type": "stream",
     "text": [
      "              precision    recall  f1-score   support\n",
      "\n",
      "         PAD       0.00      0.00      0.00     58220\n",
      "      object       0.33      0.97      0.50      1050\n",
      "         unk       0.21      1.00      0.34     13658\n",
      "       value       0.18      0.97      0.30       782\n",
      "\n",
      "    accuracy                           0.21     73710\n",
      "   macro avg       0.18      0.73      0.28     73710\n",
      "weighted avg       0.04      0.21      0.07     73710\n",
      "\n"
     ]
    }
   ],
   "source": [
    "from  sklearn_crfsuite.metrics import flat_classification_report  \n",
    "report = flat_classification_report(y_pred=pred_labels, y_true=test_labels)\n",
    "print(report)"
   ]
  },
  {
   "cell_type": "code",
   "execution_count": 205,
   "metadata": {},
   "outputs": [
    {
     "data": {
      "image/png": "[encoded data removed]",
      "text/plain": [
       "<Figure size 432x288 with 1 Axes>"
      ]
     },
     "metadata": {},
     "output_type": "display_data"
    }
   ],
   "source": [
    "import matplotlib.pyplot as plt\n",
    "plt.style.use(\"ggplot\")\n",
    "plt.hist([len(s) for s in sentences], bins=50)\n",
    "plt.show()"
   ]
  },
  {
   "cell_type": "code",
   "execution_count": 246,
   "metadata": {},
   "outputs": [
    {
     "name": "stdout",
     "output_type": "stream",
     "text": [
      "Train on 11050 samples, validate on 1228 samples\n",
      "Epoch 1/20\n",
      "11050/11050 [==============================] - 50s 4ms/step - loss: 5.5176e-04 - acc: 0.9992 - val_loss: 0.0052 - val_acc: 0.9920\n",
      "Epoch 2/20\n",
      "11050/11050 [==============================] - 49s 4ms/step - loss: 5.0278e-04 - acc: 0.9994 - val_loss: 0.0051 - val_acc: 0.9933\n",
      "Epoch 3/20\n",
      "11050/11050 [==============================] - 49s 4ms/step - loss: 4.4895e-04 - acc: 0.9995 - val_loss: 0.0048 - val_acc: 0.9945\n",
      "Epoch 4/20\n",
      "11050/11050 [==============================] - 48s 4ms/step - loss: 4.5015e-04 - acc: 0.9994 - val_loss: 0.0051 - val_acc: 0.9931\n",
      "Epoch 5/20\n",
      "11050/11050 [==============================] - 49s 4ms/step - loss: 4.4827e-04 - acc: 0.9993 - val_loss: 0.0050 - val_acc: 0.9944\n",
      "Epoch 6/20\n",
      "11050/11050 [==============================] - 48s 4ms/step - loss: 3.7821e-04 - acc: 0.9995 - val_loss: 0.0054 - val_acc: 0.9922\n",
      "Epoch 7/20\n",
      "11050/11050 [==============================] - 48s 4ms/step - loss: 3.5568e-04 - acc: 0.9995 - val_loss: 0.0056 - val_acc: 0.9931\n",
      "Epoch 8/20\n",
      "11050/11050 [==============================] - 48s 4ms/step - loss: 3.2257e-04 - acc: 0.9995 - val_loss: 0.0057 - val_acc: 0.9930\n",
      "Epoch 9/20\n",
      "11050/11050 [==============================] - 50s 5ms/step - loss: 3.4625e-04 - acc: 0.9996 - val_loss: 0.0054 - val_acc: 0.9925\n",
      "Epoch 10/20\n",
      "11050/11050 [==============================] - 49s 4ms/step - loss: 2.8369e-04 - acc: 0.9997 - val_loss: 0.0055 - val_acc: 0.9933\n",
      "Epoch 11/20\n",
      "11050/11050 [==============================] - 51s 5ms/step - loss: 2.7029e-04 - acc: 0.9996 - val_loss: 0.0058 - val_acc: 0.9919\n",
      "Epoch 12/20\n",
      "11050/11050 [==============================] - 51s 5ms/step - loss: 2.8819e-04 - acc: 0.9996 - val_loss: 0.0055 - val_acc: 0.9939\n",
      "Epoch 13/20\n",
      "11050/11050 [==============================] - 50s 5ms/step - loss: 2.6187e-04 - acc: 0.9996 - val_loss: 0.0061 - val_acc: 0.9926\n",
      "Epoch 14/20\n",
      "11050/11050 [==============================] - 51s 5ms/step - loss: 2.5836e-04 - acc: 0.9996 - val_loss: 0.0059 - val_acc: 0.9925\n",
      "Epoch 15/20\n",
      "11050/11050 [==============================] - 52s 5ms/step - loss: 2.7288e-04 - acc: 0.9996 - val_loss: 0.0056 - val_acc: 0.9943\n",
      "Epoch 16/20\n",
      "11050/11050 [==============================] - 52s 5ms/step - loss: 2.4597e-04 - acc: 0.9997 - val_loss: 0.0059 - val_acc: 0.9928\n",
      "Epoch 17/20\n",
      "11050/11050 [==============================] - 50s 4ms/step - loss: 2.1781e-04 - acc: 0.9997 - val_loss: 0.0060 - val_acc: 0.9933\n",
      "Epoch 18/20\n",
      "11050/11050 [==============================] - 49s 4ms/step - loss: 2.4442e-04 - acc: 0.9997 - val_loss: 0.0062 - val_acc: 0.9932\n",
      "Epoch 19/20\n",
      "11050/11050 [==============================] - 49s 4ms/step - loss: 2.1906e-04 - acc: 0.9997 - val_loss: 0.0061 - val_acc: 0.9928\n",
      "Epoch 20/20\n",
      "11050/11050 [==============================] - 49s 4ms/step - loss: 2.0300e-04 - acc: 0.9997 - val_loss: 0.0062 - val_acc: 0.9930\n"
     ]
    }
   ],
   "source": [
    "history = model.fit([X_word_tr,\n",
    "                     np.array(X_char_tr).reshape((len(X_char_tr), max_len, max_len_char))],\n",
    "                    np.array(y_tr).reshape(len(y_tr), max_len, 1),\n",
    "                    batch_size=32, epochs=20, validation_split=0.1, verbose=1)\n"
   ]
  },
  {
   "cell_type": "code",
   "execution_count": 251,
   "metadata": {},
   "outputs": [
    {
     "data": {
      "text/html": [
       "<div>\n",
       "<style scoped>\n",
       "    .dataframe tbody tr th:only-of-type {\n",
       "        vertical-align: middle;\n",
       "    }\n",
       "\n",
       "    .dataframe tbody tr th {\n",
       "        vertical-align: top;\n",
       "    }\n",
       "\n",
       "    .dataframe thead th {\n",
       "        text-align: right;\n",
       "    }\n",
       "</style>\n",
       "<table border=\"1\" class=\"dataframe\">\n",
       "  <thead>\n",
       "    <tr style=\"text-align: right;\">\n",
       "      <th></th>\n",
       "      <th>val_loss</th>\n",
       "      <th>val_acc</th>\n",
       "      <th>loss</th>\n",
       "      <th>acc</th>\n",
       "    </tr>\n",
       "  </thead>\n",
       "  <tbody>\n",
       "    <tr>\n",
       "      <th>0</th>\n",
       "      <td>0.005189</td>\n",
       "      <td>0.991951</td>\n",
       "      <td>0.000552</td>\n",
       "      <td>0.999216</td>\n",
       "    </tr>\n",
       "    <tr>\n",
       "      <th>1</th>\n",
       "      <td>0.005057</td>\n",
       "      <td>0.993268</td>\n",
       "      <td>0.000503</td>\n",
       "      <td>0.999360</td>\n",
       "    </tr>\n",
       "    <tr>\n",
       "      <th>2</th>\n",
       "      <td>0.004751</td>\n",
       "      <td>0.994512</td>\n",
       "      <td>0.000449</td>\n",
       "      <td>0.999480</td>\n",
       "    </tr>\n",
       "    <tr>\n",
       "      <th>3</th>\n",
       "      <td>0.005068</td>\n",
       "      <td>0.993122</td>\n",
       "      <td>0.000450</td>\n",
       "      <td>0.999408</td>\n",
       "    </tr>\n",
       "    <tr>\n",
       "      <th>4</th>\n",
       "      <td>0.005039</td>\n",
       "      <td>0.994366</td>\n",
       "      <td>0.000448</td>\n",
       "      <td>0.999344</td>\n",
       "    </tr>\n",
       "    <tr>\n",
       "      <th>5</th>\n",
       "      <td>0.005415</td>\n",
       "      <td>0.992244</td>\n",
       "      <td>0.000378</td>\n",
       "      <td>0.999544</td>\n",
       "    </tr>\n",
       "    <tr>\n",
       "      <th>6</th>\n",
       "      <td>0.005571</td>\n",
       "      <td>0.993122</td>\n",
       "      <td>0.000356</td>\n",
       "      <td>0.999456</td>\n",
       "    </tr>\n",
       "    <tr>\n",
       "      <th>7</th>\n",
       "      <td>0.005711</td>\n",
       "      <td>0.993048</td>\n",
       "      <td>0.000323</td>\n",
       "      <td>0.999496</td>\n",
       "    </tr>\n",
       "    <tr>\n",
       "      <th>8</th>\n",
       "      <td>0.005446</td>\n",
       "      <td>0.992463</td>\n",
       "      <td>0.000346</td>\n",
       "      <td>0.999552</td>\n",
       "    </tr>\n",
       "    <tr>\n",
       "      <th>9</th>\n",
       "      <td>0.005533</td>\n",
       "      <td>0.993341</td>\n",
       "      <td>0.000284</td>\n",
       "      <td>0.999656</td>\n",
       "    </tr>\n",
       "    <tr>\n",
       "      <th>10</th>\n",
       "      <td>0.005793</td>\n",
       "      <td>0.991878</td>\n",
       "      <td>0.000270</td>\n",
       "      <td>0.999632</td>\n",
       "    </tr>\n",
       "    <tr>\n",
       "      <th>11</th>\n",
       "      <td>0.005456</td>\n",
       "      <td>0.993853</td>\n",
       "      <td>0.000288</td>\n",
       "      <td>0.999616</td>\n",
       "    </tr>\n",
       "    <tr>\n",
       "      <th>12</th>\n",
       "      <td>0.006058</td>\n",
       "      <td>0.992609</td>\n",
       "      <td>0.000262</td>\n",
       "      <td>0.999616</td>\n",
       "    </tr>\n",
       "    <tr>\n",
       "      <th>13</th>\n",
       "      <td>0.005919</td>\n",
       "      <td>0.992536</td>\n",
       "      <td>0.000258</td>\n",
       "      <td>0.999608</td>\n",
       "    </tr>\n",
       "    <tr>\n",
       "      <th>14</th>\n",
       "      <td>0.005564</td>\n",
       "      <td>0.994292</td>\n",
       "      <td>0.000273</td>\n",
       "      <td>0.999552</td>\n",
       "    </tr>\n",
       "    <tr>\n",
       "      <th>15</th>\n",
       "      <td>0.005882</td>\n",
       "      <td>0.992756</td>\n",
       "      <td>0.000246</td>\n",
       "      <td>0.999688</td>\n",
       "    </tr>\n",
       "    <tr>\n",
       "      <th>16</th>\n",
       "      <td>0.005951</td>\n",
       "      <td>0.993268</td>\n",
       "      <td>0.000218</td>\n",
       "      <td>0.999680</td>\n",
       "    </tr>\n",
       "    <tr>\n",
       "      <th>17</th>\n",
       "      <td>0.006177</td>\n",
       "      <td>0.993195</td>\n",
       "      <td>0.000244</td>\n",
       "      <td>0.999680</td>\n",
       "    </tr>\n",
       "    <tr>\n",
       "      <th>18</th>\n",
       "      <td>0.006125</td>\n",
       "      <td>0.992829</td>\n",
       "      <td>0.000219</td>\n",
       "      <td>0.999672</td>\n",
       "    </tr>\n",
       "    <tr>\n",
       "      <th>19</th>\n",
       "      <td>0.006234</td>\n",
       "      <td>0.992975</td>\n",
       "      <td>0.000203</td>\n",
       "      <td>0.999728</td>\n",
       "    </tr>\n",
       "  </tbody>\n",
       "</table>\n",
       "</div>"
      ],
      "text/plain": [
       "    val_loss   val_acc      loss       acc\n",
       "0   0.005189  0.991951  0.000552  0.999216\n",
       "1   0.005057  0.993268  0.000503  0.999360\n",
       "2   0.004751  0.994512  0.000449  0.999480\n",
       "3   0.005068  0.993122  0.000450  0.999408\n",
       "4   0.005039  0.994366  0.000448  0.999344\n",
       "5   0.005415  0.992244  0.000378  0.999544\n",
       "6   0.005571  0.993122  0.000356  0.999456\n",
       "7   0.005711  0.993048  0.000323  0.999496\n",
       "8   0.005446  0.992463  0.000346  0.999552\n",
       "9   0.005533  0.993341  0.000284  0.999656\n",
       "10  0.005793  0.991878  0.000270  0.999632\n",
       "11  0.005456  0.993853  0.000288  0.999616\n",
       "12  0.006058  0.992609  0.000262  0.999616\n",
       "13  0.005919  0.992536  0.000258  0.999608\n",
       "14  0.005564  0.994292  0.000273  0.999552\n",
       "15  0.005882  0.992756  0.000246  0.999688\n",
       "16  0.005951  0.993268  0.000218  0.999680\n",
       "17  0.006177  0.993195  0.000244  0.999680\n",
       "18  0.006125  0.992829  0.000219  0.999672\n",
       "19  0.006234  0.992975  0.000203  0.999728"
      ]
     },
     "execution_count": 251,
     "metadata": {},
     "output_type": "execute_result"
    }
   ],
   "source": [
    "hist"
   ]
  },
  {
   "cell_type": "code",
   "execution_count": 247,
   "metadata": {},
   "outputs": [],
   "source": [
    "hist = pd.DataFrame(history.history)\n"
   ]
  },
  {
   "cell_type": "code",
   "execution_count": null,
   "metadata": {},
   "outputs": [],
   "source": [
    "y_pred2 = model.predict([X_word_te,\n",
    "                        np.array(X_char_te).reshape((len(X_char_te),\n",
    "                                                     max_len, max_len_char))])\n",
    "p2 = np.argmax(y_pred2[i], axis=-1)\n",
    "print(\"{:15}||{:5}||{}\".format(\"Word\", \"True\", \"Pred\"))\n",
    "print(30 * \"=\")"
   ]
  },
  {
   "cell_type": "code",
   "execution_count": 287,
   "metadata": {},
   "outputs": [
    {
     "name": "stdout",
     "output_type": "stream",
     "text": [
      "Kardiovaskulaarsüsteem:: unk   unk\n",
      "RR             : object object\n",
      "105/70         : value value\n",
      "mmHg           : unk   unk\n"
     ]
    }
   ],
   "source": [
    "i=2\n",
    "for w, t, pred in zip(X_word_te[i], y_te[i], p2):\n",
    "    if w != 0:\n",
    "        print(\"{:15}: {:5} {}\".format(idx2word[w], idx2tag[t], idx2tag[pred]))\n",
    "\n",
    "\n",
    "\n"
   ]
  },
  {
   "cell_type": "code",
   "execution_count": 249,
   "metadata": {},
   "outputs": [
    {
     "name": "stdout",
     "output_type": "stream",
     "text": [
      "F1-score: 54.6%\n"
     ]
    }
   ],
   "source": [
    "\n",
    "pred_labels2 = pred2label(y_pred2)\n",
    "test_labels2 = pred2labelV2(y_te)\n",
    "\n",
    "from seqeval.metrics import precision_score, recall_score, f1_score, classification_report\n",
    "print(\"F1-score: {:.1%}\".format(f1_score(test_labels2, pred_labels2)))\n",
    "\n"
   ]
  },
  {
   "cell_type": "code",
   "execution_count": 252,
   "metadata": {},
   "outputs": [
    {
     "name": "stdout",
     "output_type": "stream",
     "text": [
      "              precision    recall  f1-score   support\n",
      "\n",
      "         PAD       0.00      0.00      0.00     58220\n",
      "      object       0.48      0.97      0.64      1050\n",
      "         unk       0.21      1.00      0.34     13658\n",
      "       value       0.15      0.98      0.26       782\n",
      "\n",
      "    accuracy                           0.21     73710\n",
      "   macro avg       0.21      0.74      0.31     73710\n",
      "weighted avg       0.05      0.21      0.07     73710\n",
      "\n"
     ]
    }
   ],
   "source": [
    "\n",
    "from  sklearn_crfsuite.metrics import flat_classification_report  \n",
    "report2 = flat_classification_report(y_pred=pred_labels2, y_true=test_labels2)\n",
    "print(report2)\n",
    "\n",
    "\n"
   ]
  },
  {
   "cell_type": "code",
   "execution_count": 308,
   "metadata": {},
   "outputs": [
    {
     "data": {
      "text/plain": [
       "360"
      ]
     },
     "execution_count": 308,
     "metadata": {},
     "output_type": "execute_result"
    }
   ],
   "source": [
    "int(2/3 * (max_len * max_len_char))"
   ]
  },
  {
   "cell_type": "code",
   "execution_count": 309,
   "metadata": {},
   "outputs": [
    {
     "name": "stdout",
     "output_type": "stream",
     "text": [
      "Model: \"model_3\"\n",
      "__________________________________________________________________________________________________\n",
      "Layer (type)                    Output Shape         Param #     Connected to                     \n",
      "==================================================================================================\n",
      "input_6 (InputLayer)            (None, 54, 10)       0                                            \n",
      "__________________________________________________________________________________________________\n",
      "input_5 (InputLayer)            (None, 54)           0                                            \n",
      "__________________________________________________________________________________________________\n",
      "time_distributed_7 (TimeDistrib (None, 54, 10, 10)   1060        input_6[0][0]                    \n",
      "__________________________________________________________________________________________________\n",
      "embedding_5 (Embedding)         (None, 54, 50)       1387150     input_5[0][0]                    \n",
      "__________________________________________________________________________________________________\n",
      "time_distributed_8 (TimeDistrib (None, 54, 50)       12200       time_distributed_7[0][0]         \n",
      "__________________________________________________________________________________________________\n",
      "concatenate_3 (Concatenate)     (None, 54, 100)      0           embedding_5[0][0]                \n",
      "                                                                 time_distributed_8[0][0]         \n",
      "__________________________________________________________________________________________________\n",
      "spatial_dropout1d_3 (SpatialDro (None, 54, 100)      0           concatenate_3[0][0]              \n",
      "__________________________________________________________________________________________________\n",
      "bidirectional_3 (Bidirectional) (None, 54, 720)      1327680     spatial_dropout1d_3[0][0]        \n",
      "__________________________________________________________________________________________________\n",
      "time_distributed_9 (TimeDistrib (None, 54, 4)        2884        bidirectional_3[0][0]            \n",
      "==================================================================================================\n",
      "Total params: 2,730,974\n",
      "Trainable params: 2,730,974\n",
      "Non-trainable params: 0\n",
      "__________________________________________________________________________________________________\n"
     ]
    }
   ],
   "source": [
    "from keras.models import Model, Input\n",
    "from keras.layers import LSTM, Embedding, Dense, TimeDistributed, Dropout, Conv1D\n",
    "from keras.layers import Bidirectional, concatenate, SpatialDropout1D, GlobalMaxPooling1D\n",
    "\n",
    "\n",
    "# input and embedding for words\n",
    "word_in = Input(shape=(max_len,))\n",
    "emb_word = Embedding(input_dim=n_words + 2, output_dim=50,\n",
    "                     input_length=max_len, mask_zero=True)(word_in)\n",
    "\n",
    "# input and embeddings for characters\n",
    "char_in = Input(shape=(max_len, max_len_char,))\n",
    "emb_char = TimeDistributed(Embedding(input_dim=n_chars + 2, output_dim=10,\n",
    "                           input_length=max_len_char, mask_zero=True))(char_in)\n",
    "# character LSTM to get word encodings by characters\n",
    "char_enc = TimeDistributed(LSTM(units=50, return_sequences=False,\n",
    "                                recurrent_dropout=0.5))(emb_char)\n",
    "\n",
    "# main LSTM\n",
    "x = concatenate([emb_word, char_enc])\n",
    "x = SpatialDropout1D(0.4)(x)\n",
    "main_lstm = Bidirectional(LSTM(units=360, return_sequences=True,\n",
    "                               recurrent_dropout=0.6))(x)\n",
    "out = TimeDistributed(Dense(n_tags + 1, activation=\"softmax\"))(main_lstm)\n",
    "\n",
    "model2 = Model([word_in, char_in], out)\n",
    "\n",
    "\n",
    "model2.compile(optimizer=\"adam\", loss=\"sparse_categorical_crossentropy\", metrics=[\"acc\"])\n",
    "model2.summary()\n"
   ]
  },
  {
   "cell_type": "code",
   "execution_count": null,
   "metadata": {},
   "outputs": [
    {
     "name": "stderr",
     "output_type": "stream",
     "text": [
      "C:\\Users\\Kasutaja\\Anaconda3\\envs\\myEnv\\lib\\site-packages\\tensorflow_core\\python\\framework\\indexed_slices.py:433: UserWarning: Converting sparse IndexedSlices to a dense Tensor of unknown shape. This may consume a large amount of memory.\n",
      "  \"Converting sparse IndexedSlices to a dense Tensor of unknown shape. \"\n"
     ]
    },
    {
     "name": "stdout",
     "output_type": "stream",
     "text": [
      "Train on 11050 samples, validate on 1228 samples\n",
      "Epoch 1/20\n",
      "11050/11050 [==============================] - 202s 18ms/step - loss: 0.0383 - acc: 0.9575 - val_loss: 0.0064 - val_acc: 0.9911\n",
      "Epoch 2/20\n",
      "11050/11050 [==============================] - 212s 19ms/step - loss: 0.0050 - acc: 0.9937 - val_loss: 0.0038 - val_acc: 0.9943\n",
      "Epoch 3/20\n",
      "11050/11050 [==============================] - 214s 19ms/step - loss: 0.0024 - acc: 0.9968 - val_loss: 0.0037 - val_acc: 0.9947\n",
      "Epoch 4/20\n",
      "11050/11050 [==============================] - 210s 19ms/step - loss: 0.0014 - acc: 0.9983 - val_loss: 0.0037 - val_acc: 0.9955\n",
      "Epoch 5/20\n",
      "11050/11050 [==============================] - 213s 19ms/step - loss: 9.0499e-04 - acc: 0.9987 - val_loss: 0.0044 - val_acc: 0.9935\n",
      "Epoch 6/20\n",
      "11050/11050 [==============================] - 214s 19ms/step - loss: 7.3151e-04 - acc: 0.9991 - val_loss: 0.0039 - val_acc: 0.9952\n",
      "Epoch 7/20\n",
      "11050/11050 [==============================] - 211s 19ms/step - loss: 6.5961e-04 - acc: 0.9992 - val_loss: 0.0047 - val_acc: 0.9934\n",
      "Epoch 8/20\n",
      "11050/11050 [==============================] - 205s 19ms/step - loss: 5.7713e-04 - acc: 0.9992 - val_loss: 0.0051 - val_acc: 0.9923\n",
      "Epoch 9/20\n",
      "11050/11050 [==============================] - 204s 18ms/step - loss: 5.0009e-04 - acc: 0.9993 - val_loss: 0.0044 - val_acc: 0.9948\n",
      "Epoch 10/20\n",
      "11050/11050 [==============================] - 206s 19ms/step - loss: 5.3117e-04 - acc: 0.9992 - val_loss: 0.0053 - val_acc: 0.9928\n",
      "Epoch 11/20\n",
      " 4960/11050 [============>.................] - ETA: 1:49 - loss: 5.0780e-04 - acc: 0.9993"
     ]
    }
   ],
   "source": [
    "history2 = model2.fit([X_word_tr,\n",
    "                     np.array(X_char_tr).reshape((len(X_char_tr), max_len, max_len_char))],\n",
    "                    np.array(y_tr).reshape(len(y_tr), max_len, 1),\n",
    "                    batch_size=32, epochs=20, validation_split=0.1, verbose=1)\n"
   ]
  },
  {
   "cell_type": "code",
   "execution_count": 296,
   "metadata": {},
   "outputs": [],
   "source": [
    "y_pred3 = model2.predict([X_word_te,\n",
    "                        np.array(X_char_te).reshape((len(X_char_te),\n",
    "                                                     max_len, max_len_char))])\n",
    "p3 = np.argmax(y_pred3[i], axis=-1)\n"
   ]
  },
  {
   "cell_type": "code",
   "execution_count": 307,
   "metadata": {},
   "outputs": [
    {
     "name": "stdout",
     "output_type": "stream",
     "text": [
      "Word           ||True ||Pred\n",
      "==============================\n",
      "04.12.2012     : unk   unk\n",
      "-              : unk   unk\n",
      "RR             : object unk\n",
      "180/80         : value unk\n",
      "mmHg,          : unk   unk\n",
      "fr.            : unk   object\n",
      "87             : unk   value\n",
      "x`,            : unk   unk\n",
      "O2             : unk   unk\n",
      "saturatsioon   : unk   unk\n",
      "98%,           : unk   unk\n",
      "kaal           : unk   unk\n",
      "60             : unk   unk\n",
      "kg.            : unk   unk\n",
      "pikkus         : unk   unk\n",
      "1.50           : unk   unk\n",
      "cm.            : unk   unk\n",
      ".              : unk   unk\n"
     ]
    }
   ],
   "source": [
    "print(\"{:15}||{:5}||{}\".format(\"Word\", \"True\", \"Pred\"))\n",
    "print(30 * \"=\")\n",
    "i=103\n",
    "for w, t, pred in zip(X_word_te[i], y_te[i], p3):\n",
    "    if w != 0:\n",
    "        print(\"{:15}: {:5} {}\".format(idx2word[w], idx2tag[t], idx2tag[pred]))\n",
    "\n"
   ]
  },
  {
   "cell_type": "code",
   "execution_count": 298,
   "metadata": {},
   "outputs": [
    {
     "name": "stdout",
     "output_type": "stream",
     "text": [
      "F1-score: 54.4%\n"
     ]
    }
   ],
   "source": [
    "pred_labels3 = pred2label(y_pred3)\n",
    "test_labels3 = pred2labelV2(y_te)\n",
    "print(\"F1-score: {:.1%}\".format(f1_score(test_labels3, pred_labels3)))\n"
   ]
  },
  {
   "cell_type": "code",
   "execution_count": 299,
   "metadata": {},
   "outputs": [
    {
     "name": "stdout",
     "output_type": "stream",
     "text": [
      "              precision    recall  f1-score   support\n",
      "\n",
      "         PAD       0.00      0.00      0.00     58220\n",
      "      object       0.29      0.98      0.45      1050\n",
      "         unk       0.21      1.00      0.34     13658\n",
      "       value       0.20      0.97      0.33       782\n",
      "\n",
      "    accuracy                           0.21     73710\n",
      "   macro avg       0.17      0.74      0.28     73710\n",
      "weighted avg       0.04      0.21      0.07     73710\n",
      "\n"
     ]
    }
   ],
   "source": [
    "report3 = flat_classification_report(y_pred=pred_labels3, y_true=test_labels3)\n",
    "print(report3)\n",
    "\n"
   ]
  },
  {
   "cell_type": "code",
   "execution_count": null,
   "metadata": {},
   "outputs": [],
   "source": []
  },
  {
   "cell_type": "code",
   "execution_count": null,
   "metadata": {},
   "outputs": [],
   "source": []
  },
  {
   "cell_type": "code",
   "execution_count": null,
   "metadata": {},
   "outputs": [],
   "source": []
  },
  {
   "cell_type": "code",
   "execution_count": null,
   "metadata": {},
   "outputs": [],
   "source": []
  },
  {
   "cell_type": "code",
   "execution_count": 206,
   "metadata": {},
   "outputs": [],
   "source": [
    "test_sentence = \" Tupp vaba, em.kael puhas, RR 155/85 mmhg , emakas vÃ¤ike, adn.ii.\"\n",
    "test_sentence = ''.join(test_sentence).split() \n"
   ]
  },
  {
   "cell_type": "code",
   "execution_count": 208,
   "metadata": {},
   "outputs": [],
   "source": [
    "x_test_sent = pad_sequences(sequences=[[word2idx.get(w, 0) for w in test_sentence]],\n",
    "                            padding=\"post\", value=0, maxlen=max_len)\n"
   ]
  },
  {
   "cell_type": "code",
   "execution_count": 253,
   "metadata": {},
   "outputs": [],
   "source": [
    "# y_pred = model.predict(x_test_sent,X_char_mytest)\n",
    "\n",
    "# p = model.predict(x_test_sent)\n",
    "# p = np.argmax(p, axis=-1)\n",
    "\n",
    "# print(\"{:15}||{}\".format(\"Word\", \"Prediction\"))\n",
    "# print(30 * \"=\")\n",
    "# for w, pred in zip(test_sentence, p[0]):\n",
    "#     print(\"{:15}: {:5}\".format(w, tags[pred]))\n"
   ]
  }
 ],
 "metadata": {
  "kernelspec": {
   "display_name": "Python 3",
   "language": "python",
   "name": "python3"
  },
  "language_info": {
   "codemirror_mode": {
    "name": "ipython",
    "version": 3
   },
   "file_extension": ".py",
   "mimetype": "text/x-python",
   "name": "python",
   "nbconvert_exporter": "python",
   "pygments_lexer": "ipython3",
   "version": "3.7.6"
  }
 },
 "nbformat": 4,
 "nbformat_minor": 4
}
