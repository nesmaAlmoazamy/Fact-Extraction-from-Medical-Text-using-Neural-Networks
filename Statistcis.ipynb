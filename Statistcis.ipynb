{
 "cells": [
  {
   "cell_type": "code",
   "execution_count": 2,
   "metadata": {},
   "outputs": [
    {
     "name": "stderr",
     "output_type": "stream",
     "text": [
      "Using TensorFlow backend.\n"
     ]
    }
   ],
   "source": [
    "import csv\n",
    "import numpy as np\n",
    "import pandas as pd\n",
    "from keras.preprocessing.text import Tokenizer\n",
    "from keras.preprocessing.sequence import pad_sequences\n",
    "import pickle"
   ]
  },
  {
   "cell_type": "code",
   "execution_count": 13,
   "metadata": {},
   "outputs": [
    {
     "name": "stderr",
     "output_type": "stream",
     "text": [
      "C:\\Users\\Kasutaja\\Anaconda3\\envs\\myEnv\\lib\\site-packages\\IPython\\core\\interactiveshell.py:3063: DtypeWarning: Columns (4,8) have mixed types.Specify dtype option on import or set low_memory=False.\n",
      "  interactivity=interactivity, compiler=compiler, result=result)\n"
     ]
    }
   ],
   "source": [
    "MergedFullDS = pd.read_csv(\"MergedDSFULL.csv\")"
   ]
  },
  {
   "cell_type": "code",
   "execution_count": 3,
   "metadata": {},
   "outputs": [
    {
     "data": {
      "text/html": [
       "<div>\n",
       "<style scoped>\n",
       "    .dataframe tbody tr th:only-of-type {\n",
       "        vertical-align: middle;\n",
       "    }\n",
       "\n",
       "    .dataframe tbody tr th {\n",
       "        vertical-align: top;\n",
       "    }\n",
       "\n",
       "    .dataframe thead th {\n",
       "        text-align: right;\n",
       "    }\n",
       "</style>\n",
       "<table border=\"1\" class=\"dataframe\">\n",
       "  <thead>\n",
       "    <tr style=\"text-align: right;\">\n",
       "      <th></th>\n",
       "      <th>text_ID</th>\n",
       "      <th>start</th>\n",
       "      <th>end</th>\n",
       "      <th>object</th>\n",
       "      <th>value</th>\n",
       "      <th>unit</th>\n",
       "      <th>min</th>\n",
       "      <th>max</th>\n",
       "      <th>text</th>\n",
       "    </tr>\n",
       "  </thead>\n",
       "  <tbody>\n",
       "    <tr>\n",
       "      <th>0</th>\n",
       "      <td>46809</td>\n",
       "      <td>0</td>\n",
       "      <td>6</td>\n",
       "      <td>RR</td>\n",
       "      <td>130</td>\n",
       "      <td>NaN</td>\n",
       "      <td>NaN</td>\n",
       "      <td>NaN</td>\n",
       "      <td>RR 130/80 mmHg.</td>\n",
       "    </tr>\n",
       "    <tr>\n",
       "      <th>1</th>\n",
       "      <td>43588</td>\n",
       "      <td>2421</td>\n",
       "      <td>2433</td>\n",
       "      <td>ALP</td>\n",
       "      <td>54</td>\n",
       "      <td>U/L</td>\n",
       "      <td>NaN</td>\n",
       "      <td>NaN</td>\n",
       "      <td>UURINGUD JA PROTSEDUURID \\nLÄBIVAATUS: Objekt...</td>\n",
       "    </tr>\n",
       "    <tr>\n",
       "      <th>2</th>\n",
       "      <td>43050</td>\n",
       "      <td>720</td>\n",
       "      <td>735</td>\n",
       "      <td>HCT</td>\n",
       "      <td>40</td>\n",
       "      <td>%</td>\n",
       "      <td>NaN</td>\n",
       "      <td>41.2</td>\n",
       "      <td>UURINGUD JA PROTSEDUURID \\n|Uuring|24.04|25.0...</td>\n",
       "    </tr>\n",
       "    <tr>\n",
       "      <th>3</th>\n",
       "      <td>45389</td>\n",
       "      <td>165</td>\n",
       "      <td>171</td>\n",
       "      <td>RR</td>\n",
       "      <td>110</td>\n",
       "      <td>NaN</td>\n",
       "      <td>NaN</td>\n",
       "      <td>NaN</td>\n",
       "      <td>Kergelt liigkaaluline. Nahk, limaskestad taval...</td>\n",
       "    </tr>\n",
       "    <tr>\n",
       "      <th>4</th>\n",
       "      <td>42960</td>\n",
       "      <td>2314</td>\n",
       "      <td>2332</td>\n",
       "      <td>HCT</td>\n",
       "      <td>45</td>\n",
       "      <td>%</td>\n",
       "      <td>40.0</td>\n",
       "      <td>50.0</td>\n",
       "      <td>UURINGUD JA PROTSEDUURID \\nObjektiivselt: Nor...</td>\n",
       "    </tr>\n",
       "  </tbody>\n",
       "</table>\n",
       "</div>"
      ],
      "text/plain": [
       "   text_ID  start   end object value unit   min   max  \\\n",
       "0    46809      0     6     RR   130  NaN   NaN   NaN   \n",
       "1    43588   2421  2433    ALP    54  U/L   NaN   NaN   \n",
       "2    43050    720   735    HCT    40    %   NaN  41.2   \n",
       "3    45389    165   171     RR   110  NaN   NaN   NaN   \n",
       "4    42960   2314  2332    HCT    45    %  40.0  50.0   \n",
       "\n",
       "                                                text  \n",
       "0                                    RR 130/80 mmHg.  \n",
       "1   UURINGUD JA PROTSEDUURID \\nLÄBIVAATUS: Objekt...  \n",
       "2   UURINGUD JA PROTSEDUURID \\n|Uuring|24.04|25.0...  \n",
       "3  Kergelt liigkaaluline. Nahk, limaskestad taval...  \n",
       "4   UURINGUD JA PROTSEDUURID \\nObjektiivselt: Nor...  "
      ]
     },
     "execution_count": 3,
     "metadata": {},
     "output_type": "execute_result"
    }
   ],
   "source": [
    "MergedFullDS.head()"
   ]
  },
  {
   "cell_type": "code",
   "execution_count": 5,
   "metadata": {},
   "outputs": [
    {
     "data": {
      "text/plain": [
       "2125"
      ]
     },
     "execution_count": 5,
     "metadata": {},
     "output_type": "execute_result"
    }
   ],
   "source": [
    "len(set(MergedFullDS.object))"
   ]
  },
  {
   "cell_type": "code",
   "execution_count": 14,
   "metadata": {},
   "outputs": [
    {
     "data": {
      "text/plain": [
       "301106"
      ]
     },
     "execution_count": 14,
     "metadata": {},
     "output_type": "execute_result"
    }
   ],
   "source": [
    "len(set(MergedFullDS.text_ID))"
   ]
  },
  {
   "cell_type": "code",
   "execution_count": 9,
   "metadata": {},
   "outputs": [],
   "source": [
    "MergedDS = pd.read_csv(\"MergedDS.csv\")"
   ]
  },
  {
   "cell_type": "code",
   "execution_count": 10,
   "metadata": {},
   "outputs": [
    {
     "data": {
      "text/html": [
       "<div>\n",
       "<style scoped>\n",
       "    .dataframe tbody tr th:only-of-type {\n",
       "        vertical-align: middle;\n",
       "    }\n",
       "\n",
       "    .dataframe tbody tr th {\n",
       "        vertical-align: top;\n",
       "    }\n",
       "\n",
       "    .dataframe thead th {\n",
       "        text-align: right;\n",
       "    }\n",
       "</style>\n",
       "<table border=\"1\" class=\"dataframe\">\n",
       "  <thead>\n",
       "    <tr style=\"text-align: right;\">\n",
       "      <th></th>\n",
       "      <th>text_ID</th>\n",
       "      <th>start</th>\n",
       "      <th>end</th>\n",
       "      <th>object</th>\n",
       "      <th>value</th>\n",
       "      <th>unit</th>\n",
       "      <th>min</th>\n",
       "      <th>max</th>\n",
       "      <th>text</th>\n",
       "    </tr>\n",
       "  </thead>\n",
       "  <tbody>\n",
       "    <tr>\n",
       "      <th>0</th>\n",
       "      <td>46809</td>\n",
       "      <td>0</td>\n",
       "      <td>6</td>\n",
       "      <td>RR</td>\n",
       "      <td>130.0</td>\n",
       "      <td>NaN</td>\n",
       "      <td>NaN</td>\n",
       "      <td>NaN</td>\n",
       "      <td>RR 130/80 mmHg.</td>\n",
       "    </tr>\n",
       "    <tr>\n",
       "      <th>1</th>\n",
       "      <td>45389</td>\n",
       "      <td>165</td>\n",
       "      <td>171</td>\n",
       "      <td>RR</td>\n",
       "      <td>110.0</td>\n",
       "      <td>NaN</td>\n",
       "      <td>NaN</td>\n",
       "      <td>NaN</td>\n",
       "      <td>Kergelt liigkaaluline. Nahk, limaskestad taval...</td>\n",
       "    </tr>\n",
       "    <tr>\n",
       "      <th>2</th>\n",
       "      <td>47482</td>\n",
       "      <td>0</td>\n",
       "      <td>5</td>\n",
       "      <td>RR</td>\n",
       "      <td>142.0</td>\n",
       "      <td>NaN</td>\n",
       "      <td>NaN</td>\n",
       "      <td>NaN</td>\n",
       "      <td>RR142/89mmHg, HR 76 x min, p167cm, k89kg.  EKG...</td>\n",
       "    </tr>\n",
       "    <tr>\n",
       "      <th>3</th>\n",
       "      <td>53393</td>\n",
       "      <td>0</td>\n",
       "      <td>5</td>\n",
       "      <td>RR</td>\n",
       "      <td>143.0</td>\n",
       "      <td>NaN</td>\n",
       "      <td>NaN</td>\n",
       "      <td>NaN</td>\n",
       "      <td>RR143/87mmHg, HR60 x min, p180cm, k93kg</td>\n",
       "    </tr>\n",
       "    <tr>\n",
       "      <th>4</th>\n",
       "      <td>53571</td>\n",
       "      <td>0</td>\n",
       "      <td>6</td>\n",
       "      <td>RR</td>\n",
       "      <td>140.0</td>\n",
       "      <td>NaN</td>\n",
       "      <td>NaN</td>\n",
       "      <td>NaN</td>\n",
       "      <td>RR 140/74 mm Hg Cor fr. 62 UH uuringul kaela a...</td>\n",
       "    </tr>\n",
       "  </tbody>\n",
       "</table>\n",
       "</div>"
      ],
      "text/plain": [
       "   text_ID  start  end object  value unit  min  max  \\\n",
       "0    46809      0    6     RR  130.0  NaN  NaN  NaN   \n",
       "1    45389    165  171     RR  110.0  NaN  NaN  NaN   \n",
       "2    47482      0    5     RR  142.0  NaN  NaN  NaN   \n",
       "3    53393      0    5     RR  143.0  NaN  NaN  NaN   \n",
       "4    53571      0    6     RR  140.0  NaN  NaN  NaN   \n",
       "\n",
       "                                                text  \n",
       "0                                    RR 130/80 mmHg.  \n",
       "1  Kergelt liigkaaluline. Nahk, limaskestad taval...  \n",
       "2  RR142/89mmHg, HR 76 x min, p167cm, k89kg.  EKG...  \n",
       "3            RR143/87mmHg, HR60 x min, p180cm, k93kg  \n",
       "4  RR 140/74 mm Hg Cor fr. 62 UH uuringul kaela a...  "
      ]
     },
     "execution_count": 10,
     "metadata": {},
     "output_type": "execute_result"
    }
   ],
   "source": [
    "MergedDS.head()"
   ]
  },
  {
   "cell_type": "code",
   "execution_count": 12,
   "metadata": {},
   "outputs": [
    {
     "data": {
      "text/plain": [
       "{'Pikkus', 'RR', 'eGFR'}"
      ]
     },
     "execution_count": 12,
     "metadata": {},
     "output_type": "execute_result"
    }
   ],
   "source": [
    "set(MergedDS.object)"
   ]
  },
  {
   "cell_type": "code",
   "execution_count": 21,
   "metadata": {},
   "outputs": [
    {
     "name": "stderr",
     "output_type": "stream",
     "text": [
      "C:\\Users\\Kasutaja\\Anaconda3\\envs\\myEnv\\lib\\site-packages\\ipykernel_launcher.py:1: FutureWarning: Passing a negative integer is deprecated in version 1.0 and will not be supported in future version. Instead, use None to not limit the column width.\n",
      "  \"\"\"Entry point for launching an IPython kernel.\n"
     ]
    }
   ],
   "source": [
    "pd.set_option('display.max_colwidth', -1)\n"
   ]
  },
  {
   "cell_type": "code",
   "execution_count": 36,
   "metadata": {},
   "outputs": [
    {
     "name": "stdout",
     "output_type": "stream",
     "text": [
      "162    RR 120/90 mmHg.fr.51x/min.ebaregulaarne,SpO2 98%,kaal 91 kg.pikkus 175 cm.                                                                                                                                                                                                                                                                                                                                                                                                                                                                                                                                                                                                                                                                                                                                                                                                                                                                                                                                                                                                                                                                                                                                                                                                                                                                                                                                                                                                                                                                                                                                                                                                                                                                                                                                                                                                                                                                                                                                                                                                                                                                                                                                                                                                                                                                                                                                                                                                                                                                                                                                                                                                                               \n",
      "163    Kaebused: haavandid vas. jalasäärel \\nKäesolev probleem: haavandid  laienevad \\nMis juhtus (kirjeldus)?: Esimene haavand tekkis umbes 10a tagasi ja sllest ajast päris kinni kasvanud  haavandeid pole olnud,nad migreeruvad.Esimese haavandi  tekkimisele eelnes trombophlebitis reiel,l ja reieluu murd samal jalal. \\nEelnev ravi, ravile tuleku asjaolud: Braunovidon salv,Baneocyni ,Prontosan geeli,Cr.Fucicorti.Ennem hospitaliseerimist 20 päeva  on võtnud Cotrimoxazoli. \\nVabaabielus.Lapsi pole.Elus on töötanud ehituses ja treialina.Elab oma majas.Põdenud: reieluu murd,thrombophlebitis vas. reiel,pneumonia.Opereeritud  traumajärgselt ja polypus nasi.Ei suitseta.Alkoholi ei tarvita. \\nObjektiivse leiu kokkuvõte:  LOKAALNE LEID Lokaalselt: Vasakul jalasäärel  2 suurt haavandeid .Mediaalsel pinnal 3x10cm ja lateraalsel pinnal ca  3x5cm.Haavandid sügavusega 3-4mm ja haavandi põhi tagasihodlikult kaetud lõtva granulatsioonkoega.Eritus mõõdukas ja hägune.Ümbretsev nahk pigmenteeritud ,skleroseeritud,,naha läbi paistab veeni võrgustik.Pehme koed palpeerimisel tihked(skleroos)..  Status praesens obj.:adipoosne 150kg  patsient,normaalse kehaehitusega. Cavum oris:keel niiske, puhas.Kurguring põletiku tunnusteta.Tonsillid keskmise suurusega.Limaskestad:ii.Hambad: paljud puuduvad,üksikud karioossed. Pulmones:auskultatsioonil esineb puhas vesikulaarne hingamiskahin. Cor:aktsioon regulaarne.Toonid keskmise tugevusega.RR145/86 mm/Hg, Frek68 x min.Pulss pinge ja täitumus rahuldav. Abdomen: suur esile võlvuv,palpatsioonil valutu,pehme.Resistentsusi ei esine.                                                                                                                                                                                                                                                                                                                                                                                                                                                                                                                                                                                                                                                                                                                                                                                                                                                                                                                                                                                                                                                                                  \n",
      "164    RR-110/60mmHg, cor-regulaaene , 72frekvents, jikpnääre vaevu palpeeritav, tihedam.                                                                                                                                                                                                                                                                                                                                                                                                                                                                                                                                                                                                                                                                                                                                                                                                                                                                                                                                                                                                                                                                                                                                                                                                                                                                                                                                                                                                                                                                                                                                                                                                                                                                                                                                                                                                                                                                                                                                                                                                                                                                                                                                                                                                                                                                                                                                                                                                                                                                                                                                                                                                                       \n",
      "165    \\n                Patsient hospitaliseeitud erakorralise haigena. Saabus haiglasse poja saatel. Patsiendi sõnul ravimid enam järjekordselt ei aita.  Hirmutunne, öösel ei maga,ärevus, pinge,nutune.Väidab,et ravimite  pärast nahk sügeleb.  Avaldab lootusetust, elutüdimust, pessimistlik.Kaebused südamekloppimisele, hingamisraskustele.Rõhuv tunne rinnus. .Kaebab pearinglust,peas kumisemist,eriti vasakult. Ravil korduvalt.Kodus on tarvitanud  Alprazolami,Risperidoni,Sertralini, Rivotrili.Arvab,et Alventa talle ei soobi.\\n                 \\n                Patsient esitab terve nimekirja ravimitest mida ta on varem tarvitanud.\\n                 \\n                SOMAATILINE STAATUS\\n                 \\n                Nahk ning nähtavad limaskestad puhtad.Pulm. auskultatsioonil vesikulaarne hingamis kahin.\\n                 \\n                Cor: ausk toonid regulaarsed, RR  140/90 mmHg, fr 80 x min, reg.\\n                 \\n                Kõht palpatsioonil pehme, valutu.\\n                 \\n                Neuroloogiliselt koldeleiuta.\\n                 \\n                PSÜÜHILINE STAATUS\\n                 \\n                Kontakt adekvaatne. Orienteeritud kohas,ajas,isikus.Situatsioonis desorienteeritud.Tahteaktiivsus  alanenud,saamatu.\\n                 \\n                Meeleolu langenud,nutune.Avaldab  elutüdimust,lootusetust, Unehäired,ärev,jõuetu,pidev väsimus.\\n                 \\n                Meelepetteid ei avalda.\\n                 \\n                Mõttekäik  laialivalguv, keskendunud oma vaevustele.\\n                 \\n                Kognitiivsed võimed  alanenud. Kontsentratsioonivõime vähene.\\n                 \\n                Haiguskriitika puudulik.\\n                 \\n                Ravi Betaloc 25mg h,Kestine 10mg h,Rivotrili 1mg h,öö,Rispolepti 0,5mg h, öö,Truxal 25mg-12,5mg öö,Fluanxol0,5mg h,Ciprinol 250mg h,öö,vajadusel Val.diazepami 7-14gtt,Alprazolami0,25mg h,Hjertemagnyli 75mg L\\n                  \\n                Ravi statsionaaris lõpetatud patsiendi soovil. Haige raviga rahul,uni paranenud.Ärevus tunduvalt vähenenud.Suitsiidimõtteid ei avalda.Meeleolu stabiilsem.Haiguskriitika osaline.Haigele ja pojale selgitatud vajadust ravimeid tarvitatud kindla raviskeemina.Jätkab ravi perearsti juures.Patsiendile soovitatud edaspidi mõelda hooldekodust,sest toimetuleku probleemid süvenevad.\\n                 \\n                Koju ordineeritud Fluanxoli 1mg,o,5mg h,N ,X5624505Jätkab ravi  Betaloc 25mg h,,Rivotrili 1mg h,öö,Rispolepti 0,5mg öö,Truxal 25mg-12,5mg öö,Fluanxol0,5mg h,Alprazolami0,25mg h,Hjertemagnyli 75mg L\\n              \n",
      "166    \\n                Kopsuturse  tõttu  hospitaliseeritud  <ANONYM id=\"16\" type=\"per\" morph=\"_Y_ sg ill\"/>.  Klliniliselt  kopsuturse pilt, radioloogiliselt  tekkis kahtlus ka parempoolsele  kopsupõletikule, mida  toetas     põletikumarkerite    tõus. Infarkti biomarkerid   ja  D dim  negatiivsed, seetõttu  ägedat  koronaarpatoloogiat  diagnoosida  ei  saanud. <ANONYM id=\"17\" type=\"per\" morph=\"_Y_ sg in\"/>    kahe  ööpäeva  jooksul üldseisund  stabilisseerus ning  ravi jätkus   siseosakonnas. Antibakteriaalset  ravi  alustatud  cefuroximiga , kuna  5 päeva  jooksul   pneumoonia   osas  vähene  posit.  dünaamika  jätkatud   sol . unasyniga.  Ravi  foonil  oli  paranemine   positiivse  dünaamikaga , palavikuvaba ,      rahuolekus  ja  kergel  pingutusel  ( istuma tõusmisel )   hingeldust ei  tekkinud .  Oksügenisatsiooninäitajad  paranesid. Radioloogiliselt  kopsuleid   taandus, CRV  normaliseerus.   Aeg  ajalt  kurtis  kõhuvalu, samas  düspeptilisi  vaevusi ei olnud,  kõhuuuringud  patolooogiata.    Kõhuhäirete  põhjuseks ilmselt  antibakeriaalne  ravi.   Lahkudes rahuldavas üldsesiundis, pts  aktiivne,  suutis  istuda,  seista, potitoolil käia.  RR 115/  60  mmHg.  Kopsudes  püsivalt    mullilisi räginaid.\\n                  \\n                RAVI.    Sol.  clexane   40  mg  s/c,  sol.  cefuroxim   1,5  --> sol unasyn   3,0 x4-->  tbl. unasyn  375  mg x3,  cordaron  200  mg x1,  betaloc   50  mg x1,  ketoprofen 100  mg x1,  omeprazol  20  mg  x1,  ACC 0,2  x3,  trifas  100  mg x1, spirix  50  mg x1,  ketipinor  25  mg öö., inh. atrovent+ ventolin x3,  pudelisse puhumine,\\n                  \\n                EDASINE  RAVI    cordaron 200 mg x1, betaloc 50 mg x1, tramadol  50  mg   vajadusel, omeprazol 20 mg x1, , trifas 100 mg x1, spirix 50 mg x1, pudelisse  puhumine.\\n                                                                                                                                                                                                                                                                                                                                                                                                                                                                                                                                                                                                                                                                                                                                                                                                                                     \n",
      "167    Antibakteriaalse raviga valu paremal rindkeres leevendub, põletikunäitajad langevad. 30.05 tekib uus valuepisood, palaviku tõus, põletikunäitajate tõus. Veregaasides kerge hüpokseemia, vähene hüperventilatsioon. Analüüsides d-dimeeride tõus, mistõttu teostatud ehhokardiograafia, kopsude kompuuterangiograafia. Patsiendil esineb tõenäoliselt korduv kopsuarteri trombemboolia koos sekundaarse trombemboolilise pulmonaalhüpertensiooniga. Jalaveresoonte doppler-ultraheliuuringul vasakul pindmises süvareieveenis ja popliteaalveenis trombimassid, mis ilmselt kopsuarteri trombemboolia põhjuseks. Alustatud antikoagulantravi. Patsient lubatud kodusele ravile rahuldavas üldseisundis, rahuolekus hingamispuudulikkuse nähtudeta, RR 140/100 mmHg, fr 56x'.                                                                                                                                                                                                                                                                                                                                                                                                                                                                                                                                                                                                                                                                                                                                                                                                                                                                                                                                                                                                                                                                                                                                                                                                                                                                                                                                                                                                                                                                                                                                                                                                                                                                                                                                                                                                                                                                                                                             \n",
      "168    RASEDUSE ANDMEDSaabub sünnitusosakonda oodatava: I sünnitusega.  SÜNNITUSE ANDMED16.03.2009 17:26. sünnib poeg kaaluga: 3896. apgariga: 9-9.  SÜNNITUSE KULGKestus: 10.36. II periood: 56 min..  SÜNNITUSE JÄRGSELTSünnitusjärgne periood normaalne. RR: 115/65. Lahkliha paranenud. Piimanäärmed: vasak terve, parem terve. Imetab.                                                                                                                                                                                                                                                                                                                                                                                                                                                                                                                                                                                                                                                                                                                                                                                                                                                                                                                                                                                                                                                                                                                                                                                                                                                                                                                                                                                                                                                                                                                                                                                                                                                                                                                                                                                                                                                                                                                                                                                                                                                                                                                                                                                                                                                                                                                                                                     \n",
      "169    \\n                RAVI HAIGLAS - Hjertemagnyl 75 mg x 1, Spirix 25 mg x 1, Cardace 1,25 mg x 2, Lescol XL 80 mg õhtul, BetalocZok 50 mg x 1, Cordaron 200 mg õhtul, Marevan 4,5 mg õhtul alates 20.07-st.\\n                  \\n                KULG HAIGLAS - patsiendil EMO-s tekib kodade virvenduse foonil brdaüarütmia sagedusega 40-50 x min Cordaroni infusiooni foonil, mistõttu otsustatud taastada el.kardioversiooniga siinusrütm. 200 J kahel korral taastunud siinusrütm lühiajaliselt ning läinud uuesti üle kodade laperdusarütmiaks. 19.07 hommikuks siiski siinusrütm spontaanselt taastunud, 20.07 ööl esineb 2 väga lühikest rütmihäire paroksüsmi, kusjuures siinusrütm taastub üle 2 sek.pausi. Peale seda püsib siinusrütm kuni väljakirjutamiseni. Südametegevus sagedusega 55-65 x min. RR 123/77 mmHg. Kodusesse ravisse lisatud uuesti Cordaron. Jätkab ka BetalocZokiga, kuid vajaik jälgida pulsisagedust ning vajadusel annuseid vähendada. Kuna turseid ega kopsupaisu ei esinenud, lingudiureetikumi ei pea vajalikuks.\\n                                                                                                                                                                                                                                                                                                                                                                                                                                                                                                                                                                                                                                                                                                                                                                                                                                                                                                                                                                                                                                                                                                                                                                                                                                                                                                                                                                                                                                                                                                                                                                                                                                                  \n",
      "171    Patsiendil insuliinresistentsus, insuliinide päevadoos kuni 130 TÜ, samas metforminiga neerupuudulikkuse süvenemise risk suur. Viimastel haiglaravi päevadel veresuhkru profiil päris hea, väärtused < 10 mmol/l. RR 140/70 mm Hg. Konsulteeritud silmaarsti poolt- vt. Kojukirjutamisel üldseisund hea. \\n  \\n22.08.2013 10:02 - <ANONYM id=\"3\" type=\"per\" morph=\"_H_ sg n\"/>, <ANONYM id=\"4\" type=\"per\" morph=\"_H_ sg n\"/> - D03490 - E240 - oftalmoloogia \\nDiabeet u. 13a.(insuliinil), silmaarstil pole käinud. \\nVis od=0,8+1,5Dsph=1,0 \\nos=0,9+1,0Dsph-1,0Dcyl 80*=1,0 \\nTensio 9/10 mmHg \\nObj:mõl. lensis algav hägu. \\nFundus ou: diskid roosakad, piiritletud.Veresooned ahenenud, makuli- ealise normide piires. Diabeetilise koldeleiuta. \\nkoodid: 3002,7263,7267, 7251(nomesko XCW99).                                                                                                                                                                                                                                                                                                                                                                                                                                                                                                                                                                                                                                                                                                                                                                                                                                                                                                                                                                                                                                                                                                                                                                                                                                                                                                                                                                                                                                                                                                                                                                                                                                                                                                                                                                                                                                                                                                   \n",
      "172    \\n                Diagnoos  Grav in h. 41+2. Praeliminatio..\\n                 \\n                Saabus haiglasse N/N saatekirjaga kõrgenenud vererõhuga.\\n                 \\n                Haiglas viibimise ajal seisund stabiilne, RR 110/70 - 102/80.\\n                 \\n                KTG normi piires.\\n                 \\n                Väljakirjutatud rahuldavas seisundis kasvava rasedusega. 06.02.13. - sünn. os. -  sünnitus.\\n                                                                                                                                                                                                                                                                                                                                                                                                                                                                                                                                                                                                                                                                                                                                                                                                                                                                                                                                                                                                                                                                                                                                                                                                                                                                                                                                                                                                                                                                                                                                                                                                                                                                                                                                                                                                                                                                                                                                                                                                                                                                                                                                                                                                                                                      \n",
      "173    Haiguse kulg: \\nTeostatud koloskoopiline uuring narkoosis, kus patoloogilist leidu ei esinenud. Protseduuriga tüsistusi ei kaasnenud, peale koloskoopiat enesetunne hea, kaebusi ei ole, RR 120/60 mmHg. Paraku jääb selgusetuks mis kombel aneemia nii kiiresti (Hb langus 100->50 g/l) 1 nädala jooksul süvenes.  \\n                                                                                                                                                                                                                                                                                                                                                                                                                                                                                                                                                                                                                                                                                                                                                                                                                                                                                                                                                                                                                                                                                                                                                                                                                                                                                                                                                                                                                                                                                                                                                                                                                                                                                                                                                                                                                                                                                                                                                                                                                                                                                                                                                                                                                                                                                                                                                                                   \n",
      "174    \\n                Patsient hospitaliseeritud erakorralise haigena diabeetilises ketoatsidoosis, selle põhjuseks eelnev alkoholitarbimine. Patsient viibinud meie osakonnas samal põhjusel 2007 ja 2008.a. I tüübi diabeet 13 aastat. Võimalik, et diabeet kombineeritud geneesiga, kuna patsient väga alkoholilembene- joob paar korda nädalas viina ja õlu korraga u. 2 liitrit. Varem ka suitsetas, viimased 3 kuud enam mitte.\\n                 \\n                Haiglasse saabudes kaebab kõhuvalu, iiveldust, korduvalt oksendanud. Üldseisund rahuldav. <ANONYM id=\"13\" type=\"per\" morph=\"_S_ sg el\"/> tugev atsetooni hais. Tahhükardia kuni 120x', RR 116/66 mm Hg. Astrupis pH 7,19, <ANONYM id=\"14\" type=\"per\" morph=\"_Y_ ?\"/> -23,4, veresuhkur 38 mmol/l, hemokontsentratsioonist kreatiniini tõus. Saanud infusioonravi, insuliin perfuusoriga kuni 10.12, edasi alustatud tavapärase insuliinravi skeemiga. Kaebused paari päevaga taandusid. Kuna HgbA1C  9,3%, Levemiri doose tõstetud. Varasematel aegadel patsiendile dieedist räägitud, patsient sellest teadlik, kuid tunnistab, et kodus hea isu tõttu sööb vajadusest enam. Ka haiglas joonud apelsinimahla. Diabeedi tüsistustest esmaselt diagnoositud retinopaatiat ja polüneuropaatiat.\\n                 \\n                RR Cardacega 128/80 mm Hg. ketoatsidoosi lahenedes kaldub bradükardiasse, fr. min. 47 x', keskmiselt ~60 x'.\\n                 \\n                Lipiide seekord seerumis ei määranud. 02/2008 kolesterool 3,2 mmol/l. Arvestades alkoholilembust ja ka kroonilisest C- hepatiidist transaminaaside tõusu, ei tule statiinravi nagunii arvesse.\\n                                                                                                                                                                                                                                                                                                                                                                                                                                                                                                                                                                                                                                                                                                                                                                                                                                                                                                                                                                                                                                                \n",
      "175    \\n                Saabus  uuringutele tursete Kaaluiive  kokku 15 kg, viimase 2 nädalaga 3,5 kg UHD 05.07.2011- dr šois- loote kaal 2083 gr  LVI 17,9  A. uterinades  rssistentsuse tõus KTG-d normis\\n                 \\n                RR  130-141/72 mmHg  Biokeemia normis , uriinis valk neg\\n                 \\n\\n                HbA1c 5,9 % GTT tehtud-korras Pt.l glükomeeter olemas- teeb 2 profiili päeva- kui veresuhkrud  normist kõrgemad- vajalik dieetõe konsultatsioon ( tulla selleks päevastatsionaari )\\n                                                                                                                                                                                                                                                                                                                                                                                                                                                                                                                                                                                                                                                                                                                                                                                                                                                                                                                                                                                                                                                                                                                                                                                                                                                                                                                                                                                                                                                                                                                                                                                                                                                                                                                                                                                                                                                                                                                                                                                                                                                                                                                                                                           \n",
      "176    \\nVeri, biokeemia.\\n\\n                                                                                                                                                                                                                                                                                                                                                                                                                                                                                                                                                                                                                                                                                                                                                                                                                                                                                                                                                                                                                                                                                                                                                                                                                                                                                                                                                                                                                                                                                                                                                                                                                                                                                                                                                                                                                                                                                                                                                                                                                                                                                                                                                                                                                                                                                                                                                                                                                                                                                                                                                                                                                                                                                   \n",
      "177    \\n       130/82 mmHg\\n\\n                                                                                                                                                                                                                                                                                                                                                                                                                                                                                                                                                                                                                                                                                                                                                                                                                                                                                                                                                                                                                                                                                                                                                                                                                                                                                                                                                                                                                                                                                                                                                                                                                                                                                                                                                                                                                                                                                                                                                                                                                                                                                                                                                                                                                                                                                                                                                                                                                                                                                                                                                                                                                                                                                 \n",
      "178    \\nRR 138/78\\n\\n                                                                                                                                                                                                                                                                                                                                                                                                                                                                                                                                                                                                                                                                                                                                                                                                                                                                                                                                                                                                                                                                                                                                                                                                                                                                                                                                                                                                                                                                                                                                                                                                                                                                                                                                                                                                                                                                                                                                                                                                                                                                                                                                                                                                                                                                                                                                                                                                                                                                                                                                                                                                                                                                                          \n",
      "179    \\nCor Fr istudes 64-68 *min. Asend sümmeetriline. Palp. valulikkus Th 12 kohal. Painutus N, varvastele-kandadele tõuseb. Laseq. bilat. neg. Taha painutades valu, jäikustunne abaluude vahelt alum. lumbaalpk-ni. \\n\\n                                                                                                                                                                                                                                                                                                                                                                                                                                                                                                                                                                                                                                                                                                                                                                                                                                                                                                                                                                                                                                                                                                                                                                                                                                                                                                                                                                                                                                                                                                                                                                                                                                                                                                                                                                                                                                                                                                                                                                                                                                                                                                                                                                                                                                                                                                                                                                                                                                                                                   \n",
      "180    \\n18.06.2013:\\n\\n                                                                                                                                                                                                                                                                                                                                                                                                                                                                                                                                                                                                                                                                                                                                                                                                                                                                                                                                                                                                                                                                                                                                                                                                                                                                                                                                                                                                                                                                                                                                                                                                                                                                                                                                                                                                                                                                                                                                                                                                                                                                                                                                                                                                                                                                                                                                                                                                                                                                                                                                                                                                                                                                                        \n",
      "181    \\nR: jätkub RKK.                                             \\n\\n                                                                                                                                                                                                                                                                                                                                                                                                                                                                                                                                                                                                                                                                                                                                                                                                                                                                                                                                                                                                                                                                                                                                                                                                                                                                                                                                                                                                                                                                                                                                                                                                                                                                                                                                                                                                                                                                                                                                                                                                                                                                                                                                                                                                                                                                                                                                                                                                                                                                                                                                                                                                                                        \n",
      "182    \\nOrganleid endine.\\n\\n                                                                                                                                                                                                                                                                                                                                                                                                                                                                                                                                                                                                                                                                                                                                                                                                                                                                                                                                                                                                                                                                                                                                                                                                                                                                                                                                                                                                                                                                                                                                                                                                                                                                                                                                                                                                                                                                                                                                                                                                                                                                                                                                                                                                                                                                                                                                                                                                                                                                                                                                                                                                                                                                                  \n",
      "183    \\n20.06.2013:\\n\\n                                                                                                                                                                                                                                                                                                                                                                                                                                                                                                                                                                                                                                                                                                                                                                                                                                                                                                                                                                                                                                                                                                                                                                                                                                                                                                                                                                                                                                                                                                                                                                                                                                                                                                                                                                                                                                                                                                                                                                                                                                                                                                                                                                                                                                                                                                                                                                                                                                                                                                                                                                                                                                                                                        \n",
      "184    \\nRö lülisambast.                                            \\n\\n                                                                                                                                                                                                                                                                                                                                                                                                                                                                                                                                                                                                                                                                                                                                                                                                                                                                                                                                                                                                                                                                                                                                                                                                                                                                                                                                                                                                                                                                                                                                                                                                                                                                                                                                                                                                                                                                                                                                                                                                                                                                                                                                                                                                                                                                                                                                                                                                                                                                                                                                                                                                                                        \n",
      "185    Kaal-80.8kg, veresuhkur- 1 tund pärast sööki-15,2mmol/lFrikadellisupp ooteks.RR-130/80mmHg.                                                                                                                                                                                                                                                                                                                                                                                                                                                                                                                                                                                                                                                                                                                                                                                                                                                                                                                                                                                                                                                                                                                                                                                                                                                                                                                                                                                                                                                                                                                                                                                                                                                                                                                                                                                                                                                                                                                                                                                                                                                                                                                                                                                                                                                                                                                                                                                                                                                                                                                                                                                                              \n",
      "186    RR 173/90 mmHg,fr reg 79 x min.                                                                                                                                                                                                                                                                                                                                                                                                                                                                                                                                                                                                                                                                                                                                                                                                                                                                                                                                                                                                                                                                                                                                                                                                                                                                                                                                                                                                                                                                                                                                                                                                                                                                                                                                                                                                                                                                                                                                                                                                                                                                                                                                                                                                                                                                                                                                                                                                                                                                                                                                                                                                                                                                          \n",
      "188    Hospitaliseeritud erakorraliselt uroinfektsiooni kahtlusel kaebustega ca nädala vältel kestnud kõrgele palavikule ja valudele vasakus küljes-seljas, jalgade kangusele, urineerimine valutu, sage. Pöördus meie EMO-sse 12.08, sonogr.-l jäänud kahtlus duplex-vaagnale vasakul, mida KT-uuring ei kinnitanud, CRV oli 60 mg/l, uriin olulise leiuta.Valvearsti poolt ordineeritud Ciprinoli, millele vaatamata palavikud ja seljavalud püsivad.\\n\\t\\t\\t\\t\\n\\t\\t\\t\\t \\n\\t\\t\\t\\t\\n\\t\\t\\t\\t\\n\\t\\t\\t\\t    Anamneesis duodeenumi haavand, kroonil. seljavalud( degen. muutused) ja FA persistens, viimati 2013.a. dets.-s.Püsiraviks seni olnud t. Cardace 1,25 mg.Puuk olnud juuni alguses kubeme pk.-s, eemaldas ise.\\n\\t\\t\\t\\t\\n\\t\\t\\t\\t \\n\\t\\t\\t\\t\\n\\t\\t\\t\\t\\n\\t\\t\\t\\t     Saabudes keskmise raskusega üldseisundis, keel kuiv, valkja katuga, kehatemperatuur 38,3 kr.C, kopsudel vesik. hingamiskahin, südamel tahhükardia 110 l/min., RR 130/70, kõht. palp.-lt pehme, hellus paremal roidekaare alusi neeru pk.-a bimanuaalsel palp.-l , 12. roide sümptom sin (+-). Rö-thoracis aktuaalse leiuta, analüsides CRV tõusnud 126 mg/l, <ANONYM id=\"0\" type=\"per\" morph=\"_Y_ ?\"/> 58, ESR 32, ALP 77, transaminaasid, jääkained, K, Na normis, PSA 0,09, uriinis valgu jäljed, uriini külv kasvuta.Borrelia ia puukensefaliidi Ig-d negat.\\n\\t\\t\\t\\t\\n\\t\\t\\t\\t \\n\\t\\t\\t\\t\\n\\t\\t\\t\\t\\n\\t\\t\\t\\t    Alustatud  Sol. Unasyni 3,0*3 i/v, t. Paracetamoli 1,0*3, C. Omepi 20 mg*2, i/v NaCl 0,9 %-1000 ml+Panangini 10 ml+Buscopani 20 mg, kõrgete palavikkude püsides lisatud 3. ravipäevast Sol. Gentamycini 160 mg i/v.\\n\\t\\t\\t\\t\\n\\t\\t\\t\\t \\n\\t\\t\\t\\t\\n\\t\\t\\t\\t\\n\\t\\t\\t\\t    Pt. palavikuvaba alates 3.ravipäevast, seljavalud taanduvad, CRV posit. dünaamikaga. Koju ord. veel t. Unasyni 750 mg*2 3 päevaks.\\n\\t\\t\\t\\t\\n\\t\\t\\t\\t \\n\\t\\t\\t\\t\\n\\t\\t\\t\\t\\n\\t\\t\\t\\t   Kl. leiu ja subj. vaevuste alusel diagnoositud vasakpoolset ägedat tubulointerstitsiaalnefriiti.\\n\\t\\t\\t\\t\\n\\t\\t\\t\\t                                                                                                                                                                                                                                                                                                                                                                                                                                                                                                                                                                                                                                                                                                                  \n",
      "189    Üldseisund rahuldav, teadvusel, aruselge. Nahk puhas, lööbevaba, hemodünaamilsielt stabiilne, RR 146/89mmHg Fr 63x  SR. Kopsudes vesikulaarne hnigamiskahin bilateraalslet, kõhukatted pehmed, palpatsioonil valutud. Jalgadel perifeerselt kerge tursed,jalad soojad, perifeersed pulsid palpeeritavad.                                                                                                                                                                                                                                                                                                                                                                                                                                                                                                                                                                                                                                                                                                                                                                                                                                                                                                                                                                                                                                                                                                                                                                                                                                                                                                                                                                                                                                                                                                                                                                                                                                                                                                                                                                                                                                                                                                                                                                                                                                                                                                                                                                                                                                                                                                                                                                                                 \n",
      "190    Saabudes rahuldavas üldseisundis, adekvaatselt orienteeritud. Liigub rulaatori toel. SpO2 96-97%, cor- abs arütmia 110-102 x min.RR 119/67 mmHg. EKGs FA, ST iso, T(+). EMOs Cordaroniga 300 mg, Panangin i/v - siinusrütm ei taastunud.\\n\\t\\t\\t\\t\\n\\t\\t\\t\\t \\n\\t\\t\\t\\t\\n\\t\\t\\t\\t\\n\\t\\t\\t\\tAnalüüsid - vt.allpool! - kardiomarkerid normis.\\n\\t\\t\\t\\t\\n\\t\\t\\t\\t \\n\\t\\t\\t\\t\\n\\t\\t\\t\\t\\n\\t\\t\\t\\tRaviks sai s/c Clexan prof. doosis, i/v tilkinf-d Pananginiga, Betaloc zok 25 mg x2, Micardis 80 mg x1, Atorvastatin 20 mg õ, Valoc.-Diazepami 5 gtt H + 10 gtt.ööseks,Clopridogrel 75 mg (3 pv) -> Marevaniseeritud al.21.01st. Siinusrütm taastunud spont-lt med.ravi foonil 21.01. Edasi tiitritud marevaani annust.\\n\\t\\t\\t\\t\\n\\t\\t\\t\\t \\n\\t\\t\\t\\t\\n\\t\\t\\t\\t\\n\\t\\t\\t\\tEdasine ravi jätkub Micardis 80 mg x1, Betaloc Zok 25 mg x2, Atorvastatin 20 mg õ, Marevan 4,5 ja 6 mg päevas vaheldumisi.\\n\\t\\t\\t\\t\\n\\t\\t\\t\\t \\n\\t\\t\\t\\t\\n\\t\\t\\t\\t\\n\\t\\t\\t\\t30.01.2014.a. läheb tagasi taastusravile HNRKsse. Vajalik INR (norm 2 -3) kontroll esimesel kuul vähemalt 1 x nädalas, edasi 1 x kuus, vajadusel marevani annust korrigeerida.                                                                                                                                                                                                                                                                                                                                                                                                                                                                                                                                                                                                                                                                                                                                                                                                                                                                                                                                                                                                                                                                                                                                                                                                                                                                                                                                                                                                                                                                                                                                                                      \n",
      "191    HAIGUSE KULG: plaaniline  SKG tüsistusteta, tegemist parema pärgarteri oklusiooniga, dilateerimise ja stentimise ( kokku 3 BMS)  järgselt nähtavad valendikus trombimassid, mis aspireeritud (Export kateeter), <ANONYM id=\"3\" type=\"per\" morph=\"_H_ sg g\"/> 3 vool,  alustatud agressiivse antiagregatsiooniga (<ANONYM id=\"4\" type=\"per\" morph=\"_Y_ ?\"/> + clopidogrel + i.v. GP IIb/IIIa inhibiitor Integrilin).Ehho-kg alusel LVEF normis, 56%, kineetikahäiret ei ole, klapipatoloogiata. Protseduuri järgselt jälgimine intensiivravipalatis, vähene valusündroomi püsimine, EKG muutust ei teki, minimalane müokardi nekroosi markerite leke, periprotseduraalset infarkti ei saa diagnoosida. Jääkained normis, ägeda infektsiooni tunnusteta.   Lubatud kodusele ravile, lahkub statsionaarist heas üldseisundis, punktsioonikohal väike hematoom, RR 140/80 mmHg, EKG-s siinusrütm 67x’.                                                                                                                                                                                                                                                                                                                                                                                                                                                                                                                                                                                                                                                                                                                                                                                                                                                                                                                                                                                                                                                                                                                                                                                                                                                                                                                                                                                                                                                                                                                                                                                                                                                                                                                                                                                                       \n",
      "192    \\n08.01.2014:\\n\\n                                                                                                                                                                                                                                                                                                                                                                                                                                                                                                                                                                                                                                                                                                                                                                                                                                                                                                                                                                                                                                                                                                                                                                                                                                                                                                                                                                                                                                                                                                                                                                                                                                                                                                                                                                                                                                                                                                                                                                                                                                                                                                                                                                                                                                                                                                                                                                                                                                                                                                                                                                                                                                                                                        \n",
      "193    \\nLuu- liiges- ja lihassüsteem: Pt.liigub longates,mõlema põlveliigese toetusfunktsiooni piiratus.Palp.valulikkus lülisamba nimme osas,liikuvus igas suunas piiratud mõõdukalt                               \\n\\n                                                                                                                                                                                                                                                                                                                                                                                                                                                                                                                                                                                                                                                                                                                                                                                                                                                                                                                                                                                                                                                                                                                                                                                                                                                                                                                                                                                                                                                                                                                                                                                                                                                                                                                                                                                                                                                                                                                                                                                                                                                                                                                                                                                                                                                                                                                                                                                                                                                                                        \n",
      "Name: text, dtype: object\n"
     ]
    }
   ],
   "source": [
    "print(MergedDS[(MergedDS[\"object\"] == 'RR' )][\"text\"][150:180])"
   ]
  },
  {
   "cell_type": "code",
   "execution_count": 5,
   "metadata": {},
   "outputs": [],
   "source": [
    "DS = pd.read_csv(\"ObjectSubset150SentenceLength.csv\")"
   ]
  },
  {
   "cell_type": "code",
   "execution_count": 6,
   "metadata": {},
   "outputs": [],
   "source": [
    "DS['tag'].fillna('text', inplace=True)"
   ]
  },
  {
   "cell_type": "code",
   "execution_count": 7,
   "metadata": {},
   "outputs": [
    {
     "data": {
      "text/plain": [
       "27741"
      ]
     },
     "execution_count": 7,
     "metadata": {},
     "output_type": "execute_result"
    }
   ],
   "source": [
    "words = list(set(DS[\"word\"].values))\n",
    "n_words = len(words)\n",
    "n_words"
   ]
  },
  {
   "cell_type": "code",
   "execution_count": 40,
   "metadata": {},
   "outputs": [
    {
     "data": {
      "text/plain": [
       "2"
      ]
     },
     "execution_count": 40,
     "metadata": {},
     "output_type": "execute_result"
    }
   ],
   "source": [
    "tags = list(set(DS[\"tag\"].values))\n",
    "n_tags = len(tags); n_tags"
   ]
  },
  {
   "cell_type": "code",
   "execution_count": 6,
   "metadata": {},
   "outputs": [
    {
     "data": {
      "text/html": [
       "<div>\n",
       "<style scoped>\n",
       "    .dataframe tbody tr th:only-of-type {\n",
       "        vertical-align: middle;\n",
       "    }\n",
       "\n",
       "    .dataframe tbody tr th {\n",
       "        vertical-align: top;\n",
       "    }\n",
       "\n",
       "    .dataframe thead th {\n",
       "        text-align: right;\n",
       "    }\n",
       "</style>\n",
       "<table border=\"1\" class=\"dataframe\">\n",
       "  <thead>\n",
       "    <tr style=\"text-align: right;\">\n",
       "      <th></th>\n",
       "      <th>text_ID</th>\n",
       "      <th>char</th>\n",
       "      <th>tag</th>\n",
       "    </tr>\n",
       "  </thead>\n",
       "  <tbody>\n",
       "    <tr>\n",
       "      <th>0</th>\n",
       "      <td>46809</td>\n",
       "      <td>R</td>\n",
       "      <td>object</td>\n",
       "    </tr>\n",
       "    <tr>\n",
       "      <th>1</th>\n",
       "      <td>46809</td>\n",
       "      <td>R</td>\n",
       "      <td>object</td>\n",
       "    </tr>\n",
       "    <tr>\n",
       "      <th>2</th>\n",
       "      <td>46809</td>\n",
       "      <td>1</td>\n",
       "      <td>object</td>\n",
       "    </tr>\n",
       "    <tr>\n",
       "      <th>3</th>\n",
       "      <td>46809</td>\n",
       "      <td>3</td>\n",
       "      <td>object</td>\n",
       "    </tr>\n",
       "    <tr>\n",
       "      <th>4</th>\n",
       "      <td>46809</td>\n",
       "      <td>0</td>\n",
       "      <td>object</td>\n",
       "    </tr>\n",
       "  </tbody>\n",
       "</table>\n",
       "</div>"
      ],
      "text/plain": [
       "   text_ID char     tag\n",
       "0    46809    R  object\n",
       "1    46809    R  object\n",
       "2    46809    1  object\n",
       "3    46809    3  object\n",
       "4    46809    0  object"
      ]
     },
     "execution_count": 6,
     "metadata": {},
     "output_type": "execute_result"
    }
   ],
   "source": [
    "Chars_DS = pd.read_csv(\"CharsDSDULL.csv\")\n",
    "Chars_DS.head()"
   ]
  },
  {
   "cell_type": "code",
   "execution_count": 7,
   "metadata": {},
   "outputs": [
    {
     "data": {
      "text/plain": [
       "979964"
      ]
     },
     "execution_count": 7,
     "metadata": {},
     "output_type": "execute_result"
    }
   ],
   "source": [
    "len(Chars_DS)"
   ]
  },
  {
   "cell_type": "code",
   "execution_count": 8,
   "metadata": {},
   "outputs": [
    {
     "name": "stdout",
     "output_type": "stream",
     "text": [
      "104\n"
     ]
    }
   ],
   "source": [
    "chars = set([w_i for w in words for w_i in w])\n",
    "n_chars = len(chars)\n",
    "print(n_chars)\n"
   ]
  },
  {
   "cell_type": "code",
   "execution_count": 8,
   "metadata": {},
   "outputs": [],
   "source": [
    "class SentenceGetter(object):\n",
    "    def __init__(self, dataset):\n",
    "        self.n_sent = 1\n",
    "        self.dataset = dataset\n",
    "        self.empty = False\n",
    "        agg_func = lambda s: [(w, t) for w,t in zip(s[\"word\"].values.tolist(),\n",
    "                                                        s[\"tag\"].values.tolist())]\n",
    "        self.grouped = self.dataset.groupby(\"text_ID\").apply(agg_func)\n",
    "        self.sentences = [s for s in self.grouped]\n",
    "getter = SentenceGetter(DS)\n",
    "sentences = getter.sentences"
   ]
  },
  {
   "cell_type": "code",
   "execution_count": 9,
   "metadata": {},
   "outputs": [
    {
     "data": {
      "text/plain": [
       "[('Pt.', 'text'),\n",
       " ('tehtud', 'text'),\n",
       " ('3', 'text'),\n",
       " ('plasmaferees,', 'text'),\n",
       " ('talus', 'text'),\n",
       " ('hästi.', 'text'),\n",
       " ('Eemaldatud', 'text'),\n",
       " ('700', 'text'),\n",
       " ('ml', 'text'),\n",
       " ('plasmat.', 'text'),\n",
       " ('RR', 'object'),\n",
       " ('112/60', 'object'),\n",
       " ('mmHg.', 'text'),\n",
       " ('Tgasi', 'text'),\n",
       " ('22.10.09.', 'text')]"
      ]
     },
     "execution_count": 9,
     "metadata": {},
     "output_type": "execute_result"
    }
   ],
   "source": [
    "sentences[1]"
   ]
  },
  {
   "cell_type": "code",
   "execution_count": 10,
   "metadata": {},
   "outputs": [],
   "source": [
    "LengthsList = []\n",
    "for i in range(len(sentences)):\n",
    "    LengthsList.append(len(sentences[i]))"
   ]
  },
  {
   "cell_type": "code",
   "execution_count": 11,
   "metadata": {},
   "outputs": [
    {
     "data": {
      "text/plain": [
       "10.0"
      ]
     },
     "execution_count": 11,
     "metadata": {},
     "output_type": "execute_result"
    }
   ],
   "source": [
    "np.median(LengthsList)"
   ]
  },
  {
   "cell_type": "code",
   "execution_count": 12,
   "metadata": {},
   "outputs": [
    {
     "data": {
      "text/plain": [
       "13643"
      ]
     },
     "execution_count": 12,
     "metadata": {},
     "output_type": "execute_result"
    }
   ],
   "source": [
    "len(sentences)"
   ]
  }
 ],
 "metadata": {
  "kernelspec": {
   "display_name": "Python 3",
   "language": "python",
   "name": "python3"
  },
  "language_info": {
   "codemirror_mode": {
    "name": "ipython",
    "version": 3
   },
   "file_extension": ".py",
   "mimetype": "text/x-python",
   "name": "python",
   "nbconvert_exporter": "python",
   "pygments_lexer": "ipython3",
   "version": "3.7.6"
  }
 },
 "nbformat": 4,
 "nbformat_minor": 4
}
