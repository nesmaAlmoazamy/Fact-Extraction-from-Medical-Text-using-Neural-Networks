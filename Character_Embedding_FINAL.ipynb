{
 "cells": [
  {
   "cell_type": "code",
   "execution_count": 1,
   "metadata": {},
   "outputs": [
    {
     "name": "stderr",
     "output_type": "stream",
     "text": [
      "Using TensorFlow backend.\n"
     ]
    }
   ],
   "source": [
    "import csv\n",
    "import numpy as np\n",
    "import pandas as pd\n",
    "from keras.preprocessing.text import Tokenizer\n",
    "from keras.preprocessing.sequence import pad_sequences\n",
    "import pickle"
   ]
  },
  {
   "cell_type": "code",
   "execution_count": 2,
   "metadata": {},
   "outputs": [],
   "source": [
    "DS = pd.read_csv(\"ObjectSubset150SentenceLength.csv\")"
   ]
  },
  {
   "cell_type": "code",
   "execution_count": 3,
   "metadata": {},
   "outputs": [],
   "source": [
    "DS['tag'].fillna('text', inplace=True)"
   ]
  },
  {
   "cell_type": "code",
   "execution_count": 4,
   "metadata": {},
   "outputs": [],
   "source": [
    "words = list(set(DS[\"word\"].values))\n",
    "n_words = len(words)\n",
    "tags = list(set(DS[\"tag\"].values))\n",
    "n_tags = len(tags)"
   ]
  },
  {
   "cell_type": "code",
   "execution_count": 5,
   "metadata": {},
   "outputs": [],
   "source": [
    "class SentenceGetter(object):\n",
    "    def __init__(self, data):\n",
    "        self.n_sent = 1\n",
    "        self.data = data\n",
    "        self.empty = False\n",
    "        agg_func = lambda s: [(w, t) for w, t in zip(s[\"word\"].values.tolist(),\n",
    "                                                           s[\"tag\"].values.tolist())]\n",
    "        self.grouped = self.data.groupby(\"text_ID\").apply(agg_func)\n",
    "        self.sentences = [s for s in self.grouped]"
   ]
  },
  {
   "cell_type": "code",
   "execution_count": 6,
   "metadata": {},
   "outputs": [],
   "source": [
    "getter = SentenceGetter(DS)\n",
    "sentences = getter.sentences"
   ]
  },
  {
   "cell_type": "code",
   "execution_count": 7,
   "metadata": {},
   "outputs": [
    {
     "data": {
      "text/html": [
       "<div>\n",
       "<style scoped>\n",
       "    .dataframe tbody tr th:only-of-type {\n",
       "        vertical-align: middle;\n",
       "    }\n",
       "\n",
       "    .dataframe tbody tr th {\n",
       "        vertical-align: top;\n",
       "    }\n",
       "\n",
       "    .dataframe thead th {\n",
       "        text-align: right;\n",
       "    }\n",
       "</style>\n",
       "<table border=\"1\" class=\"dataframe\">\n",
       "  <thead>\n",
       "    <tr style=\"text-align: right;\">\n",
       "      <th></th>\n",
       "      <th>text_ID</th>\n",
       "      <th>word</th>\n",
       "      <th>tag</th>\n",
       "    </tr>\n",
       "  </thead>\n",
       "  <tbody>\n",
       "    <tr>\n",
       "      <th>0</th>\n",
       "      <td>46809</td>\n",
       "      <td>RR</td>\n",
       "      <td>object</td>\n",
       "    </tr>\n",
       "    <tr>\n",
       "      <th>1</th>\n",
       "      <td>46809</td>\n",
       "      <td>130/80</td>\n",
       "      <td>object</td>\n",
       "    </tr>\n",
       "    <tr>\n",
       "      <th>2</th>\n",
       "      <td>46809</td>\n",
       "      <td>mmHg.</td>\n",
       "      <td>text</td>\n",
       "    </tr>\n",
       "    <tr>\n",
       "      <th>3</th>\n",
       "      <td>47482</td>\n",
       "      <td>RR142/89mmHg,</td>\n",
       "      <td>object</td>\n",
       "    </tr>\n",
       "    <tr>\n",
       "      <th>4</th>\n",
       "      <td>47482</td>\n",
       "      <td>HR</td>\n",
       "      <td>text</td>\n",
       "    </tr>\n",
       "  </tbody>\n",
       "</table>\n",
       "</div>"
      ],
      "text/plain": [
       "   text_ID           word     tag\n",
       "0    46809             RR  object\n",
       "1    46809         130/80  object\n",
       "2    46809          mmHg.    text\n",
       "3    47482  RR142/89mmHg,  object\n",
       "4    47482             HR    text"
      ]
     },
     "execution_count": 7,
     "metadata": {},
     "output_type": "execute_result"
    }
   ],
   "source": [
    "DS.head()"
   ]
  },
  {
   "cell_type": "code",
   "execution_count": 8,
   "metadata": {},
   "outputs": [
    {
     "data": {
      "text/plain": [
       "[('Pt.', 'text'),\n",
       " ('tehtud', 'text'),\n",
       " ('3', 'text'),\n",
       " ('plasmaferees,', 'text'),\n",
       " ('talus', 'text'),\n",
       " ('hästi.', 'text'),\n",
       " ('Eemaldatud', 'text'),\n",
       " ('700', 'text'),\n",
       " ('ml', 'text'),\n",
       " ('plasmat.', 'text'),\n",
       " ('RR', 'object'),\n",
       " ('112/60', 'object'),\n",
       " ('mmHg.', 'text'),\n",
       " ('Tgasi', 'text'),\n",
       " ('22.10.09.', 'text')]"
      ]
     },
     "execution_count": 8,
     "metadata": {},
     "output_type": "execute_result"
    }
   ],
   "source": [
    "sentences[1]"
   ]
  },
  {
   "cell_type": "code",
   "execution_count": 9,
   "metadata": {},
   "outputs": [],
   "source": [
    "max_len = 150\n",
    "max_len_char = 10"
   ]
  },
  {
   "cell_type": "code",
   "execution_count": 10,
   "metadata": {},
   "outputs": [],
   "source": [
    "tag2idx = {t: i + 1 for i, t in enumerate(tags)}\n",
    "tag2idx[\"PAD\"] = 0\n",
    "idx2tag = {i: w for w, i in tag2idx.items()}"
   ]
  },
  {
   "cell_type": "code",
   "execution_count": 11,
   "metadata": {},
   "outputs": [
    {
     "data": {
      "text/plain": [
       "{'object': 1, 'text': 2, 'PAD': 0}"
      ]
     },
     "execution_count": 11,
     "metadata": {},
     "output_type": "execute_result"
    }
   ],
   "source": [
    "tag2idx"
   ]
  },
  {
   "cell_type": "code",
   "execution_count": 12,
   "metadata": {},
   "outputs": [],
   "source": [
    "chars = set([w_i for w in words for w_i in w])\n",
    "n_chars = len(chars)"
   ]
  },
  {
   "cell_type": "code",
   "execution_count": 13,
   "metadata": {},
   "outputs": [],
   "source": [
    "char2idx = {c: i + 2 for i, c in enumerate(chars)}\n",
    "char2idx[\"UNK\"] = 1 #For predictions\n",
    "char2idx[\"PAD\"] = 0"
   ]
  },
  {
   "cell_type": "code",
   "execution_count": 14,
   "metadata": {},
   "outputs": [],
   "source": [
    "idx2char = {i: w for w, i in char2idx.items()}"
   ]
  },
  {
   "cell_type": "code",
   "execution_count": 15,
   "metadata": {},
   "outputs": [],
   "source": [
    "X_char = []\n",
    "for sentence in sentences:\n",
    "    sent_seq = []\n",
    "    for i in range(max_len):\n",
    "        word_seq = []\n",
    "        for j in range(max_len_char):\n",
    "            try:\n",
    "                word_seq.append(char2idx.get(sentence[i][0][j]))\n",
    "            except:\n",
    "                word_seq.append(char2idx.get(\"PAD\"))\n",
    "        sent_seq.append(word_seq)\n",
    "    X_char.append(np.array(sent_seq))"
   ]
  },
  {
   "cell_type": "code",
   "execution_count": 16,
   "metadata": {},
   "outputs": [],
   "source": [
    "y = [[tag2idx[w[1]] for w  in s] for s in sentences]\n"
   ]
  },
  {
   "cell_type": "code",
   "execution_count": 17,
   "metadata": {},
   "outputs": [
    {
     "data": {
      "text/plain": [
       "13643"
      ]
     },
     "execution_count": 17,
     "metadata": {},
     "output_type": "execute_result"
    }
   ],
   "source": [
    "len(sentences)"
   ]
  },
  {
   "cell_type": "code",
   "execution_count": 18,
   "metadata": {},
   "outputs": [],
   "source": [
    "y = pad_sequences(maxlen=max_len, sequences=y, value=tag2idx[\"PAD\"], padding='post', truncating='post')"
   ]
  },
  {
   "cell_type": "code",
   "execution_count": 19,
   "metadata": {},
   "outputs": [
    {
     "data": {
      "text/plain": [
       "(150, 10)"
      ]
     },
     "execution_count": 19,
     "metadata": {},
     "output_type": "execute_result"
    }
   ],
   "source": [
    "X_char[1].shape"
   ]
  },
  {
   "cell_type": "code",
   "execution_count": 20,
   "metadata": {},
   "outputs": [
    {
     "data": {
      "text/plain": [
       "{'object': 1, 'text': 2, 'PAD': 0}"
      ]
     },
     "execution_count": 20,
     "metadata": {},
     "output_type": "execute_result"
    }
   ],
   "source": [
    "tag2idx"
   ]
  },
  {
   "cell_type": "code",
   "execution_count": 21,
   "metadata": {},
   "outputs": [],
   "source": [
    "from sklearn.model_selection import train_test_split\n",
    "X_char_tr, X_char_te, y_tr,  y_te= train_test_split(X_char, y, test_size=0.2, random_state=2018)\n"
   ]
  },
  {
   "cell_type": "code",
   "execution_count": 22,
   "metadata": {},
   "outputs": [
    {
     "data": {
      "text/plain": [
       "{'+': 2,\n",
       " 'r': 3,\n",
       " ';': 4,\n",
       " '%': 5,\n",
       " '\"': 6,\n",
       " '<': 7,\n",
       " '_': 8,\n",
       " 'D': 9,\n",
       " '#': 10,\n",
       " '°': 11,\n",
       " '&': 12,\n",
       " 'h': 13,\n",
       " 'C': 14,\n",
       " 'ü': 15,\n",
       " '.': 16,\n",
       " '½': 17,\n",
       " 'U': 18,\n",
       " 'ž': 19,\n",
       " 't': 20,\n",
       " '>': 21,\n",
       " 'W': 22,\n",
       " 'l': 23,\n",
       " 'ä': 24,\n",
       " 'c': 25,\n",
       " \"'\": 26,\n",
       " '0': 27,\n",
       " 'z': 28,\n",
       " '1': 29,\n",
       " '-': 30,\n",
       " 'x': 31,\n",
       " 'J': 32,\n",
       " '`': 33,\n",
       " 'N': 34,\n",
       " 'õ': 35,\n",
       " 'g': 36,\n",
       " 'O': 37,\n",
       " ',': 38,\n",
       " 'š': 39,\n",
       " 'I': 40,\n",
       " 'L': 41,\n",
       " ')': 42,\n",
       " 'w': 43,\n",
       " ']': 44,\n",
       " 'G': 45,\n",
       " '~': 46,\n",
       " 'i': 47,\n",
       " 'f': 48,\n",
       " 'Ü': 49,\n",
       " 'V': 50,\n",
       " 'o': 51,\n",
       " '3': 52,\n",
       " '´': 53,\n",
       " '?': 54,\n",
       " 'Ö': 55,\n",
       " '9': 56,\n",
       " 'R': 57,\n",
       " 'T': 58,\n",
       " '2': 59,\n",
       " 'j': 60,\n",
       " 'M': 61,\n",
       " '(': 62,\n",
       " 'F': 63,\n",
       " '*': 64,\n",
       " 'Õ': 65,\n",
       " 'm': 66,\n",
       " '[': 67,\n",
       " '6': 68,\n",
       " 'B': 69,\n",
       " 'Q': 70,\n",
       " '!': 71,\n",
       " '–': 72,\n",
       " 'H': 73,\n",
       " '5': 74,\n",
       " 'ˇ': 75,\n",
       " 'E': 76,\n",
       " 'n': 77,\n",
       " 'ö': 78,\n",
       " 'A': 79,\n",
       " ':': 80,\n",
       " 'v': 81,\n",
       " '/': 82,\n",
       " 'S': 83,\n",
       " 'Ä': 84,\n",
       " 'd': 85,\n",
       " '�': 86,\n",
       " 'a': 87,\n",
       " '8': 88,\n",
       " 'Z': 89,\n",
       " '=': 90,\n",
       " '\\\\': 91,\n",
       " 'b': 92,\n",
       " 'K': 93,\n",
       " 'Y': 94,\n",
       " 'p': 95,\n",
       " '7': 96,\n",
       " 'y': 97,\n",
       " 'q': 98,\n",
       " 's': 99,\n",
       " '4': 100,\n",
       " 'u': 101,\n",
       " 'P': 102,\n",
       " 'k': 103,\n",
       " 'e': 104,\n",
       " 'X': 105,\n",
       " 'UNK': 1,\n",
       " 'PAD': 0}"
      ]
     },
     "execution_count": 22,
     "metadata": {},
     "output_type": "execute_result"
    }
   ],
   "source": [
    "char2idx"
   ]
  },
  {
   "cell_type": "code",
   "execution_count": 23,
   "metadata": {},
   "outputs": [
    {
     "data": {
      "text/plain": [
       "array([[102,  20,  16, ...,   0,   0,   0],\n",
       "       [ 20, 104,  13, ...,   0,   0,   0],\n",
       "       [ 52,   0,   0, ...,   0,   0,   0],\n",
       "       ...,\n",
       "       [  0,   0,   0, ...,   0,   0,   0],\n",
       "       [  0,   0,   0, ...,   0,   0,   0],\n",
       "       [  0,   0,   0, ...,   0,   0,   0]])"
      ]
     },
     "execution_count": 23,
     "metadata": {},
     "output_type": "execute_result"
    }
   ],
   "source": [
    "X_char[1]"
   ]
  },
  {
   "cell_type": "code",
   "execution_count": 24,
   "metadata": {},
   "outputs": [
    {
     "data": {
      "text/plain": [
       "(10914, 150)"
      ]
     },
     "execution_count": 24,
     "metadata": {},
     "output_type": "execute_result"
    }
   ],
   "source": [
    "y_tr.shape"
   ]
  },
  {
   "cell_type": "code",
   "execution_count": 25,
   "metadata": {},
   "outputs": [
    {
     "data": {
      "text/plain": [
       "10"
      ]
     },
     "execution_count": 25,
     "metadata": {},
     "output_type": "execute_result"
    }
   ],
   "source": [
    "max_len_char"
   ]
  },
  {
   "cell_type": "code",
   "execution_count": 26,
   "metadata": {},
   "outputs": [],
   "source": [
    "from keras.models import Model, Input\n",
    "from keras.layers import LSTM, Embedding, Dense, TimeDistributed, Dropout, Conv1D\n",
    "from keras.layers import Flatten, Bidirectional, concatenate, SpatialDropout1D, GlobalMaxPooling1D\n",
    "\n",
    "\n",
    "# input and embeddings for characters\n",
    "char_in = Input(shape=(max_len,max_len_char))\n",
    "\n",
    "\n",
    "# \n",
    "emb_char = TimeDistributed(Embedding(input_dim=n_chars + 2, output_dim=20,\n",
    "                           input_length=max_len_char))(char_in)\n",
    "# character LSTM to get word encodings by characters\n",
    "# WE use TimeDistributed to apply LSTM to each of the timesteps, independently:\n",
    "# The trick here is, to wrap the parts that should be applied to the characters in a TimeDistributed layer to apply the same layers to every character sequence.\n",
    "# emb_char = Flatten()(emb_char)\n",
    "\n",
    "char_enc = TimeDistributed(LSTM(units=20, return_sequences=False,recurrent_dropout=0.5))(emb_char)\n",
    "\n",
    "# main LSTM\n",
    "x = SpatialDropout1D(0.3)(char_enc)\n",
    "main_lstm = Bidirectional(LSTM(units=20, return_sequences=True,\n",
    "                               recurrent_dropout=0.5))(x)\n",
    "# Time Distributed Dense applies the same dense layer to every time step during GRU/LSTM Cell unrolling.\n",
    "#Using return_sequences=False, the Dense layer will get applied only once in the last cell. This is normally the case when RNNs are used for classification problems. \n",
    "#If return_sequences=True, then the Dense layer is used to apply at every timestep just like TimeDistributedDense.\n",
    "\n",
    "\n",
    "out = TimeDistributed(Dense(n_tags + 1, activation=\"softmax\"))(main_lstm)\n",
    "\n",
    "model = Model( char_in, out)"
   ]
  },
  {
   "cell_type": "code",
   "execution_count": 27,
   "metadata": {},
   "outputs": [
    {
     "name": "stdout",
     "output_type": "stream",
     "text": [
      "Model: \"model_1\"\n",
      "____________________________________________________________________________________________________\n",
      "Layer (type)                                 Output Shape                            Param #        \n",
      "====================================================================================================\n",
      "input_1 (InputLayer)                         (None, 150, 10)                         0              \n",
      "____________________________________________________________________________________________________\n",
      "time_distributed_1 (TimeDistributed)         (None, 150, 10, 20)                     2120           \n",
      "____________________________________________________________________________________________________\n",
      "time_distributed_2 (TimeDistributed)         (None, 150, 20)                         3280           \n",
      "____________________________________________________________________________________________________\n",
      "spatial_dropout1d_1 (SpatialDropout1D)       (None, 150, 20)                         0              \n",
      "____________________________________________________________________________________________________\n",
      "bidirectional_1 (Bidirectional)              (None, 150, 40)                         6560           \n",
      "____________________________________________________________________________________________________\n",
      "time_distributed_3 (TimeDistributed)         (None, 150, 3)                          123            \n",
      "====================================================================================================\n",
      "Total params: 12,083\n",
      "Trainable params: 12,083\n",
      "Non-trainable params: 0\n",
      "____________________________________________________________________________________________________\n"
     ]
    }
   ],
   "source": [
    "model.compile(optimizer=\"adam\", loss=\"sparse_categorical_crossentropy\", metrics=[\"acc\"])\n",
    "model.summary(line_length=100)\n"
   ]
  },
  {
   "cell_type": "code",
   "execution_count": 29,
   "metadata": {},
   "outputs": [],
   "source": [
    "a = np.array(X_char_tr).reshape((len(X_char_tr), max_len, max_len_char))"
   ]
  },
  {
   "cell_type": "code",
   "execution_count": 30,
   "metadata": {},
   "outputs": [
    {
     "data": {
      "text/plain": [
       "(10914, 150, 10)"
      ]
     },
     "execution_count": 30,
     "metadata": {},
     "output_type": "execute_result"
    }
   ],
   "source": [
    "a.shape"
   ]
  },
  {
   "cell_type": "code",
   "execution_count": 31,
   "metadata": {},
   "outputs": [
    {
     "data": {
      "text/plain": [
       "(150, 10)"
      ]
     },
     "execution_count": 31,
     "metadata": {},
     "output_type": "execute_result"
    }
   ],
   "source": [
    "X_char_tr[1].shape"
   ]
  },
  {
   "cell_type": "code",
   "execution_count": 32,
   "metadata": {},
   "outputs": [
    {
     "data": {
      "text/plain": [
       "(10914, 150, 10)"
      ]
     },
     "execution_count": 32,
     "metadata": {},
     "output_type": "execute_result"
    }
   ],
   "source": [
    "np.array(X_char_tr).reshape((len(X_char_tr), max_len, max_len_char)).shape"
   ]
  },
  {
   "cell_type": "code",
   "execution_count": 33,
   "metadata": {
    "scrolled": true
   },
   "outputs": [
    {
     "name": "stderr",
     "output_type": "stream",
     "text": [
      "C:\\Users\\Kasutaja\\Anaconda3\\envs\\myEnv\\lib\\site-packages\\tensorflow_core\\python\\framework\\indexed_slices.py:433: UserWarning: Converting sparse IndexedSlices to a dense Tensor of unknown shape. This may consume a large amount of memory.\n",
      "  \"Converting sparse IndexedSlices to a dense Tensor of unknown shape. \"\n"
     ]
    },
    {
     "name": "stdout",
     "output_type": "stream",
     "text": [
      "Train on 9822 samples, validate on 1092 samples\n",
      "Epoch 1/10\n",
      "9822/9822 [==============================] - 77s 8ms/step - loss: 0.1363 - acc: 0.9700 - val_loss: 0.0276 - val_acc: 0.9912\n",
      "\n",
      "Epoch 00001: val_acc improved from -inf to 0.99120, saving model to CharacterEmbeddingObject-0.99.hdf5\n",
      "Epoch 2/10\n",
      "9822/9822 [==============================] - 77s 8ms/step - loss: 0.0203 - acc: 0.9933 - val_loss: 0.0131 - val_acc: 0.9962\n",
      "\n",
      "Epoch 00002: val_acc improved from 0.99120 to 0.99615, saving model to CharacterEmbeddingObject-1.00.hdf5\n",
      "Epoch 3/10\n",
      "9822/9822 [==============================] - 78s 8ms/step - loss: 0.0112 - acc: 0.9969 - val_loss: 0.0093 - val_acc: 0.9980\n",
      "\n",
      "Epoch 00003: val_acc improved from 0.99615 to 0.99797, saving model to CharacterEmbeddingObject-1.00.hdf5\n",
      "Epoch 4/10\n",
      "9822/9822 [==============================] - 77s 8ms/step - loss: 0.0092 - acc: 0.9979 - val_loss: 0.0079 - val_acc: 0.9982\n",
      "\n",
      "Epoch 00004: val_acc improved from 0.99797 to 0.99822, saving model to CharacterEmbeddingObject-1.00.hdf5\n",
      "Epoch 5/10\n",
      "9822/9822 [==============================] - 77s 8ms/step - loss: 0.0079 - acc: 0.9983 - val_loss: 0.0065 - val_acc: 0.9986\n",
      "\n",
      "Epoch 00005: val_acc improved from 0.99822 to 0.99858, saving model to CharacterEmbeddingObject-1.00.hdf5\n",
      "Epoch 6/10\n",
      "9822/9822 [==============================] - 77s 8ms/step - loss: 0.0070 - acc: 0.9985 - val_loss: 0.0062 - val_acc: 0.9987\n",
      "\n",
      "Epoch 00006: val_acc improved from 0.99858 to 0.99869, saving model to CharacterEmbeddingObject-1.00.hdf5\n",
      "Epoch 7/10\n",
      "9822/9822 [==============================] - 77s 8ms/step - loss: 0.0063 - acc: 0.9986 - val_loss: 0.0055 - val_acc: 0.9988\n",
      "\n",
      "Epoch 00007: val_acc improved from 0.99869 to 0.99879, saving model to CharacterEmbeddingObject-1.00.hdf5\n",
      "Epoch 8/10\n",
      "9822/9822 [==============================] - 76s 8ms/step - loss: 0.0058 - acc: 0.9987 - val_loss: 0.0050 - val_acc: 0.9988\n",
      "\n",
      "Epoch 00008: val_acc did not improve from 0.99879\n",
      "Epoch 9/10\n",
      "9822/9822 [==============================] - 76s 8ms/step - loss: 0.0054 - acc: 0.9987 - val_loss: 0.0044 - val_acc: 0.9988\n",
      "\n",
      "Epoch 00009: val_acc improved from 0.99879 to 0.99883, saving model to CharacterEmbeddingObject-1.00.hdf5\n",
      "Epoch 10/10\n",
      "9822/9822 [==============================] - 76s 8ms/step - loss: 0.0055 - acc: 0.9987 - val_loss: 0.0042 - val_acc: 0.9989\n",
      "\n",
      "Epoch 00010: val_acc improved from 0.99883 to 0.99888, saving model to CharacterEmbeddingObject-1.00.hdf5\n"
     ]
    }
   ],
   "source": [
    "from keras.callbacks import ModelCheckpoint\n",
    "\n",
    "# Saving the best model only\n",
    "filepath=\"CharacterEmbeddingObject-{val_acc:.2f}.hdf5\"\n",
    "checkpoint = ModelCheckpoint(filepath, monitor='val_acc', verbose=1, save_best_only=True, mode='max')\n",
    "callbacks_list = [checkpoint]\n",
    "\n",
    "# Fit the best model\n",
    "history = model.fit(np.array(X_char_tr).reshape((len(X_char_tr), max_len, max_len_char)),\n",
    "                    np.array(y_tr).reshape(len(y_tr), max_len, 1),\n",
    "                    batch_size=32, epochs=10, validation_split=0.1, verbose=1,callbacks=callbacks_list)\n"
   ]
  },
  {
   "cell_type": "code",
   "execution_count": 34,
   "metadata": {},
   "outputs": [],
   "source": [
    "hist = pd.DataFrame(history.history)\n"
   ]
  },
  {
   "cell_type": "code",
   "execution_count": 35,
   "metadata": {},
   "outputs": [
    {
     "data": {
      "image/png": "[encoded data removed]",
      "text/plain": [
       "<Figure size 864x864 with 1 Axes>"
      ]
     },
     "metadata": {},
     "output_type": "display_data"
    }
   ],
   "source": [
    "import matplotlib.pyplot as plt\n",
    "plt.style.use(\"ggplot\")\n",
    "plt.figure(figsize=(12,12))\n",
    "plt.plot(hist[\"acc\"])\n",
    "plt.plot(hist[\"val_acc\"])\n",
    "plt.show()\n"
   ]
  },
  {
   "cell_type": "code",
   "execution_count": 36,
   "metadata": {},
   "outputs": [],
   "source": [
    "y_pred = model.predict(\n",
    "                        np.array(X_char_te).reshape((len(X_char_te),\n",
    "                                                     max_len, max_len_char)))\n"
   ]
  },
  {
   "cell_type": "code",
   "execution_count": 37,
   "metadata": {},
   "outputs": [
    {
     "data": {
      "text/plain": [
       "array([[3.9943741e-05, 1.8112497e-02, 9.8184752e-01],\n",
       "       [1.7106719e-05, 6.0757278e-03, 9.9390715e-01],\n",
       "       [2.1197138e-05, 1.5815673e-02, 9.8416317e-01],\n",
       "       [1.6907528e-05, 8.2747685e-03, 9.9170834e-01],\n",
       "       [4.2534346e-05, 5.2456460e-03, 9.9471188e-01],\n",
       "       [1.6567769e-04, 9.9800497e-01, 1.8293320e-03],\n",
       "       [7.2796924e-05, 9.8159480e-01, 1.8332453e-02],\n",
       "       [3.9142353e-05, 2.4532879e-02, 9.7542793e-01],\n",
       "       [2.6610998e-05, 1.2065326e-02, 9.8790807e-01],\n",
       "       [3.6429519e-05, 1.9053036e-02, 9.8091060e-01],\n",
       "       [5.7651781e-05, 6.8175369e-03, 9.9312478e-01],\n",
       "       [9.9939859e-01, 5.2519474e-04, 7.6203571e-05],\n",
       "       [9.9978966e-01, 2.0152378e-04, 8.8305314e-06],\n",
       "       [9.9992204e-01, 7.5326192e-05, 2.6756513e-06],\n",
       "       [9.9997211e-01, 2.6536500e-05, 1.3129011e-06],\n",
       "       [9.9998915e-01, 1.0068708e-05, 8.1943114e-07],\n",
       "       [9.9999475e-01, 4.6804907e-06, 5.9709498e-07],\n",
       "       [9.9999678e-01, 2.6868729e-06, 4.8095535e-07],\n",
       "       [9.9999785e-01, 1.8153404e-06, 4.1358899e-07],\n",
       "       [9.9999821e-01, 1.3872400e-06, 3.7296454e-07],\n",
       "       [9.9999845e-01, 1.1641997e-06, 3.4870612e-07],\n",
       "       [9.9999857e-01, 1.0440161e-06, 3.3448282e-07],\n",
       "       [9.9999869e-01, 9.7734699e-07, 3.2618041e-07],\n",
       "       [9.9999869e-01, 9.3921096e-07, 3.2127107e-07],\n",
       "       [9.9999869e-01, 9.1667317e-07, 3.1829825e-07],\n",
       "       [9.9999869e-01, 9.0289706e-07, 3.1644109e-07],\n",
       "       [9.9999869e-01, 8.9419257e-07, 3.1524348e-07],\n",
       "       [9.9999881e-01, 8.8851596e-07, 3.1444634e-07],\n",
       "       [9.9999881e-01, 8.8469920e-07, 3.1389985e-07],\n",
       "       [9.9999881e-01, 8.8206241e-07, 3.1351541e-07],\n",
       "       [9.9999881e-01, 8.8019351e-07, 3.1323745e-07],\n",
       "       [9.9999881e-01, 8.7883643e-07, 3.1303290e-07],\n",
       "       [9.9999881e-01, 8.7783121e-07, 3.1287831e-07],\n",
       "       [9.9999881e-01, 8.7707144e-07, 3.1275985e-07],\n",
       "       [9.9999881e-01, 8.7648692e-07, 3.1266771e-07],\n",
       "       [9.9999881e-01, 8.7602984e-07, 3.1259466e-07],\n",
       "       [9.9999881e-01, 8.7566900e-07, 3.1253623e-07],\n",
       "       [9.9999881e-01, 8.7537677e-07, 3.1248854e-07],\n",
       "       [9.9999881e-01, 8.7514138e-07, 3.1244983e-07],\n",
       "       [9.9999881e-01, 8.7494942e-07, 3.1241794e-07],\n",
       "       [9.9999881e-01, 8.7478924e-07, 3.1239111e-07],\n",
       "       [9.9999881e-01, 8.7465577e-07, 3.1236877e-07],\n",
       "       [9.9999881e-01, 8.7454316e-07, 3.1234973e-07],\n",
       "       [9.9999881e-01, 8.7444727e-07, 3.1233364e-07],\n",
       "       [9.9999881e-01, 8.7436717e-07, 3.1231994e-07],\n",
       "       [9.9999881e-01, 8.7429800e-07, 3.1230832e-07],\n",
       "       [9.9999881e-01, 8.7423876e-07, 3.1229789e-07],\n",
       "       [9.9999881e-01, 8.7418545e-07, 3.1228896e-07],\n",
       "       [9.9999881e-01, 8.7414122e-07, 3.1228151e-07],\n",
       "       [9.9999881e-01, 8.7410206e-07, 3.1227526e-07],\n",
       "       [9.9999881e-01, 8.7406789e-07, 3.1226929e-07],\n",
       "       [9.9999881e-01, 8.7403788e-07, 3.1226395e-07],\n",
       "       [9.9999881e-01, 8.7401122e-07, 3.1225946e-07],\n",
       "       [9.9999881e-01, 8.7398786e-07, 3.1225559e-07],\n",
       "       [9.9999881e-01, 8.7396705e-07, 3.1225201e-07],\n",
       "       [9.9999881e-01, 8.7394869e-07, 3.1224906e-07],\n",
       "       [9.9999881e-01, 8.7393204e-07, 3.1224667e-07],\n",
       "       [9.9999881e-01, 8.7391703e-07, 3.1224428e-07],\n",
       "       [9.9999881e-01, 8.7390367e-07, 3.1224189e-07],\n",
       "       [9.9999881e-01, 8.7389202e-07, 3.1224010e-07],\n",
       "       [9.9999881e-01, 8.7388037e-07, 3.1223831e-07],\n",
       "       [9.9999881e-01, 8.7387201e-07, 3.1223712e-07],\n",
       "       [9.9999881e-01, 8.7386366e-07, 3.1223593e-07],\n",
       "       [9.9999881e-01, 8.7385536e-07, 3.1223476e-07],\n",
       "       [9.9999881e-01, 8.7384871e-07, 3.1223416e-07],\n",
       "       [9.9999881e-01, 8.7384200e-07, 3.1223297e-07],\n",
       "       [9.9999881e-01, 8.7383620e-07, 3.1223237e-07],\n",
       "       [9.9999881e-01, 8.7383199e-07, 3.1223178e-07],\n",
       "       [9.9999881e-01, 8.7382620e-07, 3.1223118e-07],\n",
       "       [9.9999881e-01, 8.7382205e-07, 3.1223058e-07],\n",
       "       [9.9999881e-01, 8.7381704e-07, 3.1223030e-07],\n",
       "       [9.9999881e-01, 8.7381369e-07, 3.1222999e-07],\n",
       "       [9.9999881e-01, 8.7381034e-07, 3.1222939e-07],\n",
       "       [9.9999881e-01, 8.7380704e-07, 3.1222939e-07],\n",
       "       [9.9999881e-01, 8.7380369e-07, 3.1222939e-07],\n",
       "       [9.9999881e-01, 8.7380204e-07, 3.1222939e-07],\n",
       "       [9.9999881e-01, 8.7379868e-07, 3.1222939e-07],\n",
       "       [9.9999881e-01, 8.7379703e-07, 3.1222910e-07],\n",
       "       [9.9999881e-01, 8.7379453e-07, 3.1222879e-07],\n",
       "       [9.9999881e-01, 8.7379368e-07, 3.1222939e-07],\n",
       "       [9.9999881e-01, 8.7379203e-07, 3.1222967e-07],\n",
       "       [9.9999881e-01, 8.7378953e-07, 3.1222939e-07],\n",
       "       [9.9999881e-01, 8.7378783e-07, 3.1222939e-07],\n",
       "       [9.9999881e-01, 8.7378703e-07, 3.1222999e-07],\n",
       "       [9.9999881e-01, 8.7378618e-07, 3.1223030e-07],\n",
       "       [9.9999881e-01, 8.7378618e-07, 3.1223058e-07],\n",
       "       [9.9999881e-01, 8.7378453e-07, 3.1223087e-07],\n",
       "       [9.9999881e-01, 8.7378532e-07, 3.1223149e-07],\n",
       "       [9.9999881e-01, 8.7378532e-07, 3.1223237e-07],\n",
       "       [9.9999881e-01, 8.7378703e-07, 3.1223325e-07],\n",
       "       [9.9999881e-01, 8.7378868e-07, 3.1223385e-07],\n",
       "       [9.9999881e-01, 8.7378953e-07, 3.1223476e-07],\n",
       "       [9.9999881e-01, 8.7379368e-07, 3.1223624e-07],\n",
       "       [9.9999881e-01, 8.7379533e-07, 3.1223712e-07],\n",
       "       [9.9999881e-01, 8.7380033e-07, 3.1223951e-07],\n",
       "       [9.9999881e-01, 8.7380704e-07, 3.1224130e-07],\n",
       "       [9.9999881e-01, 8.7381369e-07, 3.1224337e-07],\n",
       "       [9.9999881e-01, 8.7382284e-07, 3.1224667e-07],\n",
       "       [9.9999881e-01, 8.7383285e-07, 3.1224963e-07],\n",
       "       [9.9999881e-01, 8.7384700e-07, 3.1225380e-07],\n",
       "       [9.9999881e-01, 8.7386366e-07, 3.1225886e-07],\n",
       "       [9.9999881e-01, 8.7388366e-07, 3.1226452e-07],\n",
       "       [9.9999881e-01, 8.7390868e-07, 3.1227168e-07],\n",
       "       [9.9999881e-01, 8.7393869e-07, 3.1228001e-07],\n",
       "       [9.9999881e-01, 8.7397370e-07, 3.1229015e-07],\n",
       "       [9.9999881e-01, 8.7401702e-07, 3.1230235e-07],\n",
       "       [9.9999881e-01, 8.7407039e-07, 3.1231696e-07],\n",
       "       [9.9999881e-01, 8.7413542e-07, 3.1233452e-07],\n",
       "       [9.9999881e-01, 8.7421211e-07, 3.1235598e-07],\n",
       "       [9.9999881e-01, 8.7430550e-07, 3.1238190e-07],\n",
       "       [9.9999881e-01, 8.7441720e-07, 3.1241257e-07],\n",
       "       [9.9999881e-01, 8.7455567e-07, 3.1244983e-07],\n",
       "       [9.9999881e-01, 8.7472165e-07, 3.1249570e-07],\n",
       "       [9.9999881e-01, 8.7492270e-07, 3.1255055e-07],\n",
       "       [9.9999881e-01, 8.7516474e-07, 3.1261703e-07],\n",
       "       [9.9999881e-01, 8.7545857e-07, 3.1269784e-07],\n",
       "       [9.9999881e-01, 8.7581429e-07, 3.1279566e-07],\n",
       "       [9.9999881e-01, 8.7624710e-07, 3.1291412e-07],\n",
       "       [9.9999881e-01, 8.7677199e-07, 3.1305828e-07],\n",
       "       [9.9999881e-01, 8.7740773e-07, 3.1323327e-07],\n",
       "       [9.9999881e-01, 8.7818290e-07, 3.1344754e-07],\n",
       "       [9.9999881e-01, 8.7912474e-07, 3.1370863e-07],\n",
       "       [9.9999881e-01, 8.8027747e-07, 3.1402769e-07],\n",
       "       [9.9999881e-01, 8.8168395e-07, 3.1441905e-07],\n",
       "       [9.9999881e-01, 8.8340761e-07, 3.1489918e-07],\n",
       "       [9.9999881e-01, 8.8552645e-07, 3.1549075e-07],\n",
       "       [9.9999881e-01, 8.8814153e-07, 3.1622275e-07],\n",
       "       [9.9999881e-01, 8.9137615e-07, 3.1712997e-07],\n",
       "       [9.9999869e-01, 8.9540600e-07, 3.1826303e-07],\n",
       "       [9.9999869e-01, 9.0045063e-07, 3.1968395e-07],\n",
       "       [9.9999869e-01, 9.0681829e-07, 3.2148012e-07],\n",
       "       [9.9999869e-01, 9.1493081e-07, 3.2376923e-07],\n",
       "       [9.9999869e-01, 9.2538295e-07, 3.2671713e-07],\n",
       "       [9.9999869e-01, 9.3904083e-07, 3.3056082e-07],\n",
       "       [9.9999869e-01, 9.5719656e-07, 3.3564507e-07],\n",
       "       [9.9999869e-01, 9.8184250e-07, 3.4249359e-07],\n",
       "       [9.9999857e-01, 1.0161356e-06, 3.5190965e-07],\n",
       "       [9.9999857e-01, 1.0652910e-06, 3.6517895e-07],\n",
       "       [9.9999845e-01, 1.1382630e-06, 3.8442050e-07],\n",
       "       [9.9999845e-01, 1.2511870e-06, 4.1326672e-07],\n",
       "       [9.9999809e-01, 1.4348878e-06, 4.5821722e-07],\n",
       "       [9.9999774e-01, 1.7526168e-06, 5.3150762e-07],\n",
       "       [9.9999690e-01, 2.3459586e-06, 6.5750658e-07],\n",
       "       [9.9999559e-01, 3.5661972e-06, 8.8795576e-07],\n",
       "       [9.9999225e-01, 6.3863740e-06, 1.3398600e-06],\n",
       "       [9.9998403e-01, 1.3753273e-05, 2.2883332e-06],\n",
       "       [9.9996078e-01, 3.4847824e-05, 4.3733544e-06],\n",
       "       [9.9989367e-01, 9.7248900e-05, 9.0562426e-06],\n",
       "       [9.9969959e-01, 2.8023019e-04, 2.0242564e-05],\n",
       "       [9.9916852e-01, 7.7582826e-04, 5.5680819e-05]], dtype=float32)"
      ]
     },
     "execution_count": 37,
     "metadata": {},
     "output_type": "execute_result"
    }
   ],
   "source": [
    "y_pred[1]"
   ]
  },
  {
   "cell_type": "code",
   "execution_count": 38,
   "metadata": {},
   "outputs": [
    {
     "data": {
      "text/plain": [
       "array([30, 59, 41, 59, 59, 41, 82, 30, 59, 59])"
      ]
     },
     "execution_count": 38,
     "metadata": {},
     "output_type": "execute_result"
    }
   ],
   "source": [
    "X_char_te[1][0]"
   ]
  },
  {
   "cell_type": "code",
   "execution_count": 39,
   "metadata": {},
   "outputs": [],
   "source": [
    "def charindx2word(Tword):\n",
    "    word = []\n",
    "    for i in range(len(Tword)):\n",
    "        if(Tword[i] !=0):\n",
    "            word.append(idx2char[Tword[i]])\n",
    "    return \"\".join(word)"
   ]
  },
  {
   "cell_type": "code",
   "execution_count": 40,
   "metadata": {},
   "outputs": [
    {
     "name": "stdout",
     "output_type": "stream",
     "text": [
      "Word           ||True ||Pred\n",
      "==============================\n",
      "Üldseisnud     : text  text\n",
      "rahuldav.S     : text  text\n",
      "regulaarne     : object text\n",
      "mm             : text  text\n",
      "Hg.Vesikul     : text  text\n",
      "hingamiska     : text  text\n",
      "pehme,valu     : text  text\n"
     ]
    }
   ],
   "source": [
    "i = 1000\n",
    "p = np.argmax(y_pred[i], axis=-1)\n",
    "print(\"{:15}||{:5}||{}\".format(\"Word\", \"True\", \"Pred\"))\n",
    "print(30 * \"=\")\n",
    "for w, t, pred in zip(X_char_te[i], y_te[i], p):\n",
    "    if t != 0: #PAD\n",
    "        print(\"{:15}: {:5} {}\".format(charindx2word(w), idx2tag[t], idx2tag[pred]))\n"
   ]
  },
  {
   "cell_type": "code",
   "execution_count": 41,
   "metadata": {},
   "outputs": [
    {
     "data": {
      "text/plain": [
       "2729"
      ]
     },
     "execution_count": 41,
     "metadata": {},
     "output_type": "execute_result"
    }
   ],
   "source": [
    "len(y_pred)"
   ]
  },
  {
   "cell_type": "markdown",
   "metadata": {},
   "source": [
    "### Wrong Tags\n"
   ]
  },
  {
   "cell_type": "code",
   "execution_count": 42,
   "metadata": {},
   "outputs": [
    {
     "name": "stdout",
     "output_type": "stream",
     "text": [
      "Word           ||True ||Pred\n",
      "==============================\n",
      "puhtad.RR1     : object text\n",
      "langeb         : text  object\n",
      "ebaregulaa     : object text\n",
      "Pikkus         : object text\n",
      "157            : object text\n",
      "Pikkus         : object text\n",
      "165            : object text\n",
      "170/110        : object text\n",
      "p/s)RR-130     : object text\n",
      "piim)RR-15     : object text\n",
      "KORRAS.        : object text\n",
      "KOORMUSTES     : object text\n",
      "väga           : text  object\n",
      "155/95         : object text\n",
      "Pikkus-174     : object text\n",
      "holter         : text  object\n",
      "Nõustamine     : object text\n",
      "suhtes.RR1     : object text\n",
      "=              : text  object\n",
      "105/60         : object text\n",
      "2.3.RR         : object text\n",
      "114/           : object text\n",
      "kõikumised     : object text\n",
      "140-90mmhg     : object text\n",
      "130/82         : object text\n",
      "130/95         : object text\n",
      "sööki.RR-1     : object text\n",
      "sööki-6,6m     : object text\n",
      "regulaarne     : object text\n",
      "Pikkus-        : object text\n",
      "178            : object text\n",
      "langeb         : text  object\n",
      "kaebusteta     : object text\n",
      "Holter         : text  object\n",
      "Holter         : text  object\n",
      "Holter         : text  object\n",
      "maks           : text  object\n",
      "min.RR         : object text\n",
      "130/86         : object text\n",
      "regulaarne     : object text\n",
      "Pikkus:        : object text\n",
      "162,7cm        : object text\n",
      "Pikkus:        : object text\n",
      "162,7cm        : object text\n",
      "tarvitanud     : object text\n",
      "135/82         : object text\n",
      "min.RR         : object text\n",
      "135/70         : object text\n",
      "monitoorin     : text  object\n",
      "mmol/l.RR-     : object text\n",
      "monitoorin     : text  object\n",
      "regul,RR       : object text\n",
      "140/80         : object text\n",
      "Pikkus         : object text\n",
      "164            : object text\n",
      "135/92//85     : text  object\n",
      "ECG____RR      : object text\n",
      "145/70         : object text\n",
      "Pikkus         : object text\n",
      "162            : object text\n",
      "kahin.RR       : object text\n",
      "112/81         : object text\n",
      "ole.RR         : object text\n",
      "120/80.Rö      : object text\n",
      "Kirjeldus:     : text  object\n",
      "Pikkus         : object text\n",
      "184cm          : object text\n",
      "Pikkus         : object text\n",
      "184cm          : object text\n",
      "frekv.RR-1     : object text\n",
      "110,9--109     : text  object\n",
      "Holter         : text  object\n",
      "maks           : text  object\n",
      "ravi           : text  object\n",
      "köha.RR        : object text\n",
      "130,           : object text\n",
      "min.Pikkus     : object text\n",
      "189            : object text\n",
      "min.Pikkus     : object text\n",
      "189            : object text\n",
      "Kordusrets     : object text\n",
      "150/90         : object text\n",
      "Pikkus         : object text\n",
      "46cm,          : object text\n",
      "esita.RR       : object text\n",
      "125/70.        : object text\n",
      "Analüüsid.     : object text\n",
      "184/88         : object text\n",
      "Analüüsid.     : object text\n",
      "184/88         : object text\n",
      "regulaarse     : object text\n",
      "Pikkus         : object text\n",
      "175            : object text\n",
      "Pikkus         : object text\n",
      "175            : object text\n",
      "x1min,RR       : object text\n",
      "125            : object text\n",
      "x1min,RR       : object text\n",
      "125            : object text\n",
      "Pikkus         : object text\n",
      "170            : object text\n",
      "Pikkus         : object text\n",
      "170            : object text\n",
      "on             : text  object\n",
      "Pikkus         : object text\n",
      "165            : object text\n",
      "Pikkus         : object text\n",
      "165            : object text\n",
      "170            : object text\n",
      "Ogj.RR         : object text\n",
      "130/90         : object text\n",
      "retsepti.R     : object text\n",
      "156/93         : object text\n",
      "Pikkus         : object text\n",
      "154            : object text\n",
      "ja             : text  object\n",
      "Pikkus         : object text\n",
      "157cm.         : object text\n",
      "Pikkus         : object text\n",
      "157cm.         : object text\n",
      "on             : text  object\n",
      "monitoorin     : text  object\n",
      "Pikkus-        : object text\n",
      "150            : object text\n",
      "ravi           : text  object\n",
      "retsepti.R     : object text\n",
      "160\\90         : object text\n",
      "sööki-4,3m     : object text\n",
      "rr140/100      : object text\n",
      "kordusvisi     : text  object\n",
      "Pikkus         : object text\n",
      "183,           : object text\n",
      "monitoorin     : text  object\n",
      "tuhmid,kah     : object text\n",
      "130/82         : object text\n",
      "kõrgem         : text  object\n",
      "RR-monitoo     : object text\n",
      "väärtusi.      : text  object\n",
      "min,RR         : object text\n",
      "140            : object text\n",
      "114/73         : object text\n",
      "114/73         : object text\n",
      "114/73         : object text\n",
      "regulaarne     : object text\n",
      "98%,fr.93x     : object text\n",
      "140/90         : object text\n",
      "Pikkus-        : object text\n",
      "159            : object text\n",
      "Holter         : text  object\n",
      "maks.          : text  object\n",
      "sööki8-7,8     : text  object\n",
      "Pikkus-165     : object text\n",
      "Pikkus-165     : object text\n",
      "min,RR         : object text\n",
      "120/80         : object text\n",
      "Pikkus         : object text\n",
      "175            : object text\n",
      "Pikkus         : object text\n",
      "175            : object text\n",
      "kõrge          : text  object\n",
      "kõrge          : text  object\n",
      "86x´,regul     : object text\n",
      "130/90         : object text\n",
      "Tervisekon     : object text\n",
      "Holter         : text  object\n",
      "maks           : text  object\n",
      "arvi           : text  object\n",
      "aja.RR         : object text\n",
      "134/92         : object text\n",
      "halvasti.R     : object text\n",
      "sööki.RR-1     : object text\n",
      "min.Pikkus     : object text\n",
      "162            : object text\n",
      "min.Pikkus     : object text\n",
      "162            : object text\n",
      "õhupuudus,     : object text\n",
      "118/88         : object text\n",
      "sääki-14,0     : object text\n",
      "130/80mm/h     : text  object\n",
      "monitoorin     : text  object\n",
      "52Pikkus       : object text\n",
      "166            : object text\n",
      "52Pikkus       : object text\n",
      "166            : object text\n",
      "cor:akts.r     : object text\n",
      "120/80mmhg     : object text\n",
      "-              : text  object\n",
      "123/73,        : object text\n",
      "mõõtma.        : text  object\n",
      "mõõtma.        : text  object\n",
      "regulaarne     : object text\n",
      "holteri        : text  object\n",
      "rr150/90       : object text\n",
      "Pikkus         : object text\n",
      "160            : object text\n",
      "Pikkus         : object text\n",
      "160            : object text\n",
      "Pikkus         : object text\n",
      "161cm.         : object text\n",
      "Pikkus         : object text\n",
      "161cm.         : object text\n",
      "Pikkus         : object text\n",
      "174            : object text\n",
      "Pikkus         : object text\n",
      "174            : object text\n",
      "Pikkus         : object text\n",
      "168            : object text\n",
      "Pikkus         : object text\n",
      "168            : object text\n",
      "regulaarne     : object text\n",
      "Pikkus-192     : object text\n",
      "Pikkus-192     : object text\n",
      "ole.RR         : object text\n",
      "125/80.Rö      : object text\n",
      "südamepeks     : object text\n",
      "Pikkus-        : object text\n",
      "173            : object text\n",
      "Pikkus-        : object text\n",
      "162            : object text\n",
      "Pikkus-175     : object text\n",
      "kontrollil     : object text\n",
      "166/97         : object text\n",
      "Analüüsid.     : object text\n",
      "118/80         : object text\n",
      "Pikkus         : object text\n",
      "166            : object text\n",
      "Pikkus         : object text\n",
      "157,5          : object text\n",
      "Pikkus         : object text\n",
      "157,5          : object text\n",
      "Pikkus         : object text\n",
      "168            : object text\n",
      "Pikkus         : object text\n",
      "168            : object text\n",
      "140            : object text\n",
      "157/94         : object text\n",
      "Nõustamine     : object text\n",
      "120            : object text\n",
      "rr100/60       : object text\n",
      "ravimid        : text  object\n",
      "kontrollil     : text  object\n",
      "normi          : text  object\n",
      "mõõta          : text  object\n",
      "fr79*---RR     : object text\n",
      "134/67         : object text\n",
      "mõõta          : text  object\n",
      "134/67         : object text\n",
      "Pikkus         : object text\n",
      "170            : object text\n",
      "Pikkus         : object text\n",
      "170            : object text\n",
      "min.Pikkus     : object text\n",
      "170            : object text\n",
      "min.Pikkus     : object text\n",
      "170            : object text\n",
      "RR150/90.S     : object text\n",
      "regRR140-9     : object text\n",
      "võileib).R     : object text\n",
      "rahus-22/m     : text  object\n",
      "170/100        : object text\n",
      "Pikkus         : object text\n",
      "175            : object text\n",
      "*26.05.201     : text  object\n",
      "RR             : object PAD\n",
      "ees.RR133-     : object text\n",
      "140/94--&g     : object text\n",
      "140/90         : object text\n",
      "kompenseer     : object text\n",
      "140/70         : object text\n",
      "rohtud         : text  object\n",
      "de             : text  object\n",
      "Pikkus         : object text\n",
      "177,5,         : object text\n",
      "retsepti       : text  object\n",
      "leia,RR        : object text\n",
      "130/80         : object text\n",
      "s=             : text  object\n",
      "sööki-5,8/     : text  object\n",
      "110/80.Bor     : object text\n",
      "pearinglus     : object text\n",
      "monitoorin     : text  object\n",
      "retsepti.R     : object text\n",
      "148/93         : object text\n",
      "Obj:RR         : object text\n"
     ]
    },
    {
     "name": "stdout",
     "output_type": "stream",
     "text": [
      "150/90         : object text\n",
      "140/70         : object text\n",
      "ravim          : text  object\n",
      "Pikkus         : object text\n",
      "49cm.          : object text\n",
      "monitoorin     : text  object\n",
      "170cm          : object text\n",
      "Pikkus-        : object text\n",
      "174            : object text\n",
      "min.RR         : object text\n",
      "140/80         : object text\n",
      "155.95         : object text\n",
      "tervisetõe     : object text\n",
      "kaal           : text  object\n",
      "Pikkus-        : object text\n",
      "175            : object text\n",
      "kontroll-      : text  object\n",
      "Pikkus-165     : object text\n",
      "2.3.RR         : object text\n",
      "114/           : object text\n",
      "13-101035-     : object text\n",
      "13-101035-     : object text\n",
      "13-101035-     : object text\n",
      "13-101035-     : object text\n",
      "13-101035-     : object text\n",
      "13-101035-     : object text\n",
      "13-101035-     : object text\n",
      "13-101035-     : object text\n",
      "Pikkus         : object text\n",
      "160            : object text\n",
      "RR-le          : object text\n",
      "sööki-6,3m     : object text\n",
      "Pikkus-        : object text\n",
      "163            : object text\n",
      "Holter         : text  object\n",
      "maks.          : text  object\n",
      "Rvai           : text  object\n",
      "156/86         : object text\n",
      "156/86         : object text\n",
      "156/86         : object text\n",
      "114/73,        : object text\n",
      "Pikkus-        : object text\n",
      "180            : object text\n",
      "Amb.m/õ,te     : object text\n",
      "id=\"0\"         : object text\n",
      "140            : object text\n",
      "Hba1c-7,0%     : object text\n",
      "-              : text  object\n",
      "<ANONYM        : text  object\n",
      "maks           : text  object\n",
      "120/70         : object text\n",
      "kg.Pikkus      : object text\n",
      "163            : object text\n",
      "120/70         : object text\n",
      "kg.Pikkus      : object text\n",
      "163            : object text\n",
      "mmHg.fr.88     : text  object\n",
      "120/70         : object text\n",
      "kg.Pikkus      : object text\n",
      "163            : object text\n",
      "Pingepeava     : object text\n",
      "118/75         : object text\n",
      "Pikkus:        : object text\n",
      "161            : object text\n",
      "Pikkus:        : object text\n",
      "161            : object text\n",
      "RRmonitoor     : object text\n",
      "110            : object text\n",
      "110            : object text\n",
      "110            : object text\n",
      "ebaregulaa     : object text\n",
      "regulaarne     : object text\n",
      "Holter         : text  object\n",
      "max171/94      : text  object\n",
      "arviei         : text  object\n",
      "kuni           : text  object\n",
      "150-160/90     : text  object\n",
      "Pikkus         : object text\n",
      "157            : object text\n",
      "Pikkus         : object text\n",
      "157            : object text\n",
      "03.06.2010     : object text\n",
      "127            : object text\n",
      "uimnasust.     : object text\n",
      "140/85.Cor     : object text\n",
      "120x1          : object text\n",
      "120x1          : object text\n",
      "rütm.,RR=      : object text\n",
      "120/80         : object text\n",
      "rr140/90       : object text\n",
      "RR128-82.      : object text\n",
      "Rr130/80       : text  object\n",
      "Nõustamine     : object text\n",
      "-              : text  object\n",
      "114/74         : object text\n",
      "RR90/60        : object text\n",
      "monitoorin     : text  object\n",
      "monitoorin     : text  object\n",
      "=              : text  object\n",
      "120/80         : object text\n",
      "rahuldav.R     : object text\n",
      "reg.puhtad     : object text\n",
      "Pikkus         : object text\n",
      "166cm.V/s      : object text\n",
      "Pikkus         : object text\n",
      "166cm.V/s      : object text\n",
      "Turseteta.     : object text\n",
      "statiinrav     : object text\n",
      "RR95/65        : object text\n",
      "holteril       : text  object\n",
      "normotooni     : text  object\n",
      "min-.RR        : object text\n",
      "120/80         : object text\n",
      "kanged.RR      : object text\n",
      "110/72         : object text\n",
      "retsepti.R     : object text\n",
      "122/77         : object text\n",
      "transparen     : object text\n",
      "125.80         : object text\n",
      "120kg          : object text\n",
      "RR-monitoo     : object text\n",
      "alanes         : text  object\n",
      "135/93         : object text\n",
      "Fa.RR          : object text\n",
      "130/90         : object text\n",
      "raviks         : text  object\n",
      "-              : text  object\n",
      "154/72         : object text\n",
      "Pikkus         : object text\n",
      "170            : object text\n",
      "Pikkus         : object text\n",
      "170            : object text\n",
      "*10.06.201     : object text\n",
      "Pikkus         : object text\n",
      "170            : object text\n",
      "Pikkus         : object text\n",
      "170            : object text\n",
      "Pikkus-        : object text\n",
      "164            : object text\n",
      "RR-monitoo     : object text\n",
      "väärtusi.      : text  object\n",
      "Pikkus         : object text\n",
      "172            : object text\n",
      "rägivad.Tu     : object text\n",
      "küll           : text  object\n",
      "x1mi.RR        : object text\n",
      "130/           : object text\n",
      "puhtad.RR      : object text\n",
      "150/90         : object text\n",
      "150/90         : object text\n",
      "150/90         : object text\n",
      "min.RR         : object text\n",
      "115/70mmHg     : object text\n",
      "Pikkus-        : object text\n",
      "163            : object text\n",
      "Pikkus         : object text\n",
      "156            : object text\n",
      "Pikkus         : object text\n",
      "156            : object text\n",
      "RR130/80_      : object text\n",
      "retsepti.R     : object text\n",
      "144/95         : object text\n",
      "=              : text  object\n",
      "100/50         : object text\n",
      "Ülekaaluli     : object text\n",
      "135/80         : object text\n",
      "VEK,RR         : object text\n",
      "162/103        : object text\n",
      "Pikkus-159     : object text\n",
      "Pikkus-159     : object text\n",
      "128/90         : object text\n",
      "120/75         : object text\n",
      "ujulast.Hb     : object text\n",
      "26.10.2015     : object text\n",
      "160/80         : object text\n",
      "05.11.2015     : object text\n",
      "26.10.2015     : object text\n",
      "160/80         : object text\n",
      "05.11.2015     : object text\n",
      "RR97/68mmH     : object text\n",
      "rahuldav,R     : object text\n",
      "148/68         : object text\n",
      "retsepti.R     : object text\n",
      "160\\80         : object text\n",
      "meeleolula     : object text\n",
      "100/70,        : object text\n",
      "Hba1c-5,7%     : object text\n",
      "söönuna--1     : object text\n",
      "Holter         : text  object\n",
      "max            : text  object\n",
      "ravi           : text  object\n",
      "üldseisund     : object text\n",
      "120/70.        : object text\n",
      "120x           : object text\n",
      "p/s-12,5kg     : object text\n",
      "120,1          : object text\n",
      "*12.03.201     : object text\n",
      "kahin.RR-1     : object text\n",
      "Pikkus         : object text\n",
      "166cm,         : object text\n",
      "rr140/90       : object text\n",
      "Holter         : text  object\n",
      "maks           : text  object\n",
      "madal          : text  object\n",
      "monitoorin     : text  object\n",
      "145;           : object text\n",
      "regulaarne     : object text\n",
      "120,2kg        : object text\n",
      "l/min.RR       : object text\n",
      "130/80         : object text\n",
      "Pikkus         : object text\n",
      "170            : object text\n",
      "RR119/84.      : object text\n",
      "/              : text  object\n"
     ]
    }
   ],
   "source": [
    "j = 0\n",
    "print(\"{:15}||{:5}||{}\".format(\"Word\", \"True\", \"Pred\"))\n",
    "print(30 * \"=\")\n",
    "\n",
    "for i in range(len(y_pred)):\n",
    "    p = np.argmax(y_pred[i], axis=-1)\n",
    "    for w, t, pred in zip(X_char_te[i], y_te[i], p):\n",
    "        if charindx2word(w) != \"\": #PAD\n",
    "            if idx2tag[t] != idx2tag[pred]:\n",
    "                print(\"{:15}: {:5} {}\".format(charindx2word(w), idx2tag[t], idx2tag[pred]))\n",
    "                j = j+1\n"
   ]
  },
  {
   "cell_type": "code",
   "execution_count": 43,
   "metadata": {},
   "outputs": [
    {
     "data": {
      "text/plain": [
       "498"
      ]
     },
     "execution_count": 43,
     "metadata": {},
     "output_type": "execute_result"
    }
   ],
   "source": [
    "j"
   ]
  },
  {
   "cell_type": "code",
   "execution_count": 44,
   "metadata": {},
   "outputs": [
    {
     "name": "stdout",
     "output_type": "stream",
     "text": [
      "Word           ||True ||Pred\n",
      "==============================\n",
      "01.11.2011     : text  text\n",
      "-              : text  text\n",
      "118            : text  text\n",
      "kg,164         : text  text\n",
      "cm,BMI         : text  text\n",
      "43,RR          : object object\n",
      "150/90         : object object\n",
      "mmHg,FR        : text  text\n",
      "~125           : text  text\n",
      "x´,ebaregu     : text  text\n",
      ".              : text  text\n"
     ]
    }
   ],
   "source": [
    "i = 1\n",
    "p = np.argmax(y_pred[i], axis=-1)\n",
    "print(\"{:15}||{:5}||{}\".format(\"Word\", \"True\", \"Pred\"))\n",
    "print(30 * \"=\")\n",
    "for w, t, pred in zip(X_char_te[i], y_te[i], p):\n",
    "    if t != 0: #PAD\n",
    "        print(\"{:15}: {:5} {}\".format(charindx2word(w), idx2tag[t], idx2tag[pred]))\n"
   ]
  },
  {
   "cell_type": "code",
   "execution_count": 45,
   "metadata": {},
   "outputs": [
    {
     "name": "stdout",
     "output_type": "stream",
     "text": [
      "F1-score: 89.5%\n",
      "           precision    recall  f1-score   support\n",
      "\n",
      "     text       0.92      0.88      0.90      4461\n",
      "   object       0.95      0.83      0.88      2104\n",
      "\n",
      "micro avg       0.93      0.86      0.89      6565\n",
      "macro avg       0.93      0.86      0.89      6565\n",
      "\n"
     ]
    }
   ],
   "source": [
    "from seqeval.metrics import accuracy_score, precision_score, recall_score, f1_score, classification_report\n",
    "\n",
    "def pred2label(pred):\n",
    "    out = []\n",
    "    for pred_i in pred:\n",
    "        out_i = []\n",
    "        for p in pred_i:\n",
    "            p_i = np.argmax(p)\n",
    "            out_i.append(idx2tag[p_i].replace(\"PAD\", \"text\"))\n",
    "        out.append(out_i)\n",
    "    return out\n",
    "\n",
    "def test2label(pred):\n",
    "    out = []\n",
    "    for pred_i in pred:\n",
    "        out_i = []\n",
    "        for p in pred_i:\n",
    "            out_i.append(idx2tag[p].replace(\"PAD\", \"text\"))\n",
    "        out.append(out_i)\n",
    "    return out\n",
    "\n",
    "pred_labels = pred2label(y_pred)\n",
    "test_labels = test2label(y_te)\n",
    "\n",
    "print(\"F1-score: {:.1%}\".format(f1_score(test_labels, pred_labels)))\n",
    "print(classification_report(test_labels, pred_labels))\n"
   ]
  },
  {
   "cell_type": "code",
   "execution_count": 46,
   "metadata": {},
   "outputs": [
    {
     "data": {
      "text/plain": [
       "13643"
      ]
     },
     "execution_count": 46,
     "metadata": {},
     "output_type": "execute_result"
    }
   ],
   "source": [
    "len(sentences)"
   ]
  },
  {
   "cell_type": "code",
   "execution_count": 47,
   "metadata": {},
   "outputs": [
    {
     "data": {
      "text/plain": [
       "0.9987834371564676"
      ]
     },
     "execution_count": 47,
     "metadata": {},
     "output_type": "execute_result"
    }
   ],
   "source": [
    "accuracy_score(test_labels, pred_labels)"
   ]
  },
  {
   "cell_type": "code",
   "execution_count": 48,
   "metadata": {},
   "outputs": [
    {
     "name": "stdout",
     "output_type": "stream",
     "text": [
      "              precision    recall  f1-score   support\n",
      "\n",
      "      object       0.97      0.89      0.93      3653\n",
      "        text       1.00      1.00      1.00    405697\n",
      "\n",
      "    accuracy                           1.00    409350\n",
      "   macro avg       0.99      0.94      0.96    409350\n",
      "weighted avg       1.00      1.00      1.00    409350\n",
      "\n",
      "Accuracy 0.9987834371564676\n"
     ]
    }
   ],
   "source": [
    "from sklearn_crfsuite.metrics import flat_classification_report,flat_accuracy_score\n",
    "report = flat_classification_report(y_pred=pred_labels, y_true=test_labels)\n",
    "print(report)\n",
    "print(\"Accuracy\",flat_accuracy_score(y_pred=pred_labels, y_true=test_labels))"
   ]
  },
  {
   "cell_type": "code",
   "execution_count": 49,
   "metadata": {},
   "outputs": [],
   "source": [
    "len(sentences)"
   ]
  }
 ],
 "metadata": {
  "kernelspec": {
   "display_name": "Python 3",
   "language": "python",
   "name": "python3"
  },
  "language_info": {
   "codemirror_mode": {
    "name": "ipython",
    "version": 3
   },
   "file_extension": ".py",
   "mimetype": "text/x-python",
   "name": "python",
   "nbconvert_exporter": "python",
   "pygments_lexer": "ipython3",
   "version": "3.7.6"
  }
 },
 "nbformat": 4,
 "nbformat_minor": 4
}
