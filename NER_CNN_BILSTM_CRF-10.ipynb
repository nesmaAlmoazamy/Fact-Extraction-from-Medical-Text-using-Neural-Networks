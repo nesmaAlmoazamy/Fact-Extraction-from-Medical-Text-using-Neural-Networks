{
 "cells": [
  {
   "cell_type": "code",
   "execution_count": 1,
   "metadata": {},
   "outputs": [],
   "source": [
    "import csv\n",
    "import numpy as np\n",
    "import pandas as pd\n",
    "import future"
   ]
  },
  {
   "cell_type": "code",
   "execution_count": 2,
   "metadata": {},
   "outputs": [],
   "source": [
    "DS = pd.read_csv(\"ObjectSubset150SentenceLength.csv\")"
   ]
  },
  {
   "cell_type": "code",
   "execution_count": 3,
   "metadata": {},
   "outputs": [
    {
     "data": {
      "text/html": [
       "<div>\n",
       "<style scoped>\n",
       "    .dataframe tbody tr th:only-of-type {\n",
       "        vertical-align: middle;\n",
       "    }\n",
       "\n",
       "    .dataframe tbody tr th {\n",
       "        vertical-align: top;\n",
       "    }\n",
       "\n",
       "    .dataframe thead th {\n",
       "        text-align: right;\n",
       "    }\n",
       "</style>\n",
       "<table border=\"1\" class=\"dataframe\">\n",
       "  <thead>\n",
       "    <tr style=\"text-align: right;\">\n",
       "      <th></th>\n",
       "      <th>text_ID</th>\n",
       "      <th>word</th>\n",
       "      <th>tag</th>\n",
       "    </tr>\n",
       "  </thead>\n",
       "  <tbody>\n",
       "    <tr>\n",
       "      <th>0</th>\n",
       "      <td>46809</td>\n",
       "      <td>RR</td>\n",
       "      <td>object</td>\n",
       "    </tr>\n",
       "    <tr>\n",
       "      <th>1</th>\n",
       "      <td>46809</td>\n",
       "      <td>130/80</td>\n",
       "      <td>object</td>\n",
       "    </tr>\n",
       "    <tr>\n",
       "      <th>2</th>\n",
       "      <td>46809</td>\n",
       "      <td>mmHg.</td>\n",
       "      <td>NaN</td>\n",
       "    </tr>\n",
       "    <tr>\n",
       "      <th>3</th>\n",
       "      <td>47482</td>\n",
       "      <td>RR142/89mmHg,</td>\n",
       "      <td>object</td>\n",
       "    </tr>\n",
       "    <tr>\n",
       "      <th>4</th>\n",
       "      <td>47482</td>\n",
       "      <td>HR</td>\n",
       "      <td>NaN</td>\n",
       "    </tr>\n",
       "    <tr>\n",
       "      <th>...</th>\n",
       "      <td>...</td>\n",
       "      <td>...</td>\n",
       "      <td>...</td>\n",
       "    </tr>\n",
       "    <tr>\n",
       "      <th>157275</th>\n",
       "      <td>1624218</td>\n",
       "      <td>saamiseks.</td>\n",
       "      <td>NaN</td>\n",
       "    </tr>\n",
       "    <tr>\n",
       "      <th>157276</th>\n",
       "      <td>1624218</td>\n",
       "      <td>RR</td>\n",
       "      <td>object</td>\n",
       "    </tr>\n",
       "    <tr>\n",
       "      <th>157277</th>\n",
       "      <td>1624218</td>\n",
       "      <td>140/90,</td>\n",
       "      <td>object</td>\n",
       "    </tr>\n",
       "    <tr>\n",
       "      <th>157278</th>\n",
       "      <td>1624218</td>\n",
       "      <td>VS</td>\n",
       "      <td>NaN</td>\n",
       "    </tr>\n",
       "    <tr>\n",
       "      <th>157279</th>\n",
       "      <td>1624218</td>\n",
       "      <td>4,1.</td>\n",
       "      <td>NaN</td>\n",
       "    </tr>\n",
       "  </tbody>\n",
       "</table>\n",
       "<p>157280 rows × 3 columns</p>\n",
       "</div>"
      ],
      "text/plain": [
       "        text_ID           word     tag\n",
       "0         46809             RR  object\n",
       "1         46809         130/80  object\n",
       "2         46809          mmHg.     NaN\n",
       "3         47482  RR142/89mmHg,  object\n",
       "4         47482             HR     NaN\n",
       "...         ...            ...     ...\n",
       "157275  1624218     saamiseks.     NaN\n",
       "157276  1624218             RR  object\n",
       "157277  1624218        140/90,  object\n",
       "157278  1624218             VS     NaN\n",
       "157279  1624218           4,1.     NaN\n",
       "\n",
       "[157280 rows x 3 columns]"
      ]
     },
     "execution_count": 3,
     "metadata": {},
     "output_type": "execute_result"
    }
   ],
   "source": [
    "DS"
   ]
  },
  {
   "cell_type": "code",
   "execution_count": 4,
   "metadata": {},
   "outputs": [],
   "source": [
    "DS['tag'].fillna('text', inplace=True)"
   ]
  },
  {
   "cell_type": "code",
   "execution_count": 5,
   "metadata": {},
   "outputs": [],
   "source": [
    "class SentenceGetter(object):\n",
    "    def __init__(self, dataset):\n",
    "        self.n_sent = 1\n",
    "        self.dataset = dataset\n",
    "        self.empty = False\n",
    "        agg_func = lambda s: [(w, t) for w,t in zip(s[\"word\"].values.tolist(),\n",
    "                                                        s[\"tag\"].values.tolist())]\n",
    "        self.grouped = self.dataset.groupby(\"text_ID\").apply(agg_func)\n",
    "        self.sentences = [s for s in self.grouped]"
   ]
  },
  {
   "cell_type": "code",
   "execution_count": 6,
   "metadata": {},
   "outputs": [],
   "source": [
    "getter = SentenceGetter(DS)\n",
    "sentences = getter.sentences"
   ]
  },
  {
   "cell_type": "code",
   "execution_count": 7,
   "metadata": {},
   "outputs": [
    {
     "data": {
      "text/plain": [
       "13643"
      ]
     },
     "execution_count": 7,
     "metadata": {},
     "output_type": "execute_result"
    }
   ],
   "source": [
    "len(sentences)"
   ]
  },
  {
   "cell_type": "code",
   "execution_count": 8,
   "metadata": {},
   "outputs": [],
   "source": [
    "# import pickle\n",
    "# with open('sentences5000.txt', 'wb') as f:\n",
    "#   pickle.dump(sentences, f)"
   ]
  },
  {
   "cell_type": "code",
   "execution_count": 9,
   "metadata": {},
   "outputs": [],
   "source": [
    "# with open('sentences2000.txt', 'rb') as f:\n",
    "#     sentences = pickle.load(f)"
   ]
  },
  {
   "cell_type": "code",
   "execution_count": 10,
   "metadata": {},
   "outputs": [],
   "source": [
    "LengthsList = []\n",
    "for i in range(len(sentences)):\n",
    "    LengthsList.append(len(sentences[i]))"
   ]
  },
  {
   "cell_type": "code",
   "execution_count": 11,
   "metadata": {},
   "outputs": [
    {
     "data": {
      "text/plain": [
       "10.0"
      ]
     },
     "execution_count": 11,
     "metadata": {},
     "output_type": "execute_result"
    }
   ],
   "source": [
    "np.median(LengthsList)"
   ]
  },
  {
   "cell_type": "code",
   "execution_count": 12,
   "metadata": {},
   "outputs": [],
   "source": [
    "from math import nan\n",
    "\n",
    "words = list(set(DS[\"word\"].values))\n",
    "n_words = len(words)\n",
    "\n",
    "tags = list(set(DS[\"tag\"].values))\n",
    "n_tags = len(tags); \n",
    "\n",
    "\n",
    "from future.utils import iteritems\n",
    "\n",
    "word2idx = {w: i for i, w in enumerate(words)}\n",
    "# tag2idx[\"PAD\"] = 0\n",
    "tags2 = [\"PAD\",\"text\",\"object\"]\n",
    "tag2idx = {t: i for i, t in enumerate(tags2)}\n",
    "idx2tag = {v: k for k, v in iteritems(tag2idx)}"
   ]
  },
  {
   "cell_type": "code",
   "execution_count": null,
   "metadata": {},
   "outputs": [],
   "source": []
  },
  {
   "cell_type": "code",
   "execution_count": 13,
   "metadata": {},
   "outputs": [
    {
     "data": {
      "text/plain": [
       "{0: 'PAD', 1: 'text', 2: 'object'}"
      ]
     },
     "execution_count": 13,
     "metadata": {},
     "output_type": "execute_result"
    }
   ],
   "source": [
    "idx2tag"
   ]
  },
  {
   "cell_type": "code",
   "execution_count": 14,
   "metadata": {},
   "outputs": [
    {
     "data": {
      "text/plain": [
       "27741"
      ]
     },
     "execution_count": 14,
     "metadata": {},
     "output_type": "execute_result"
    }
   ],
   "source": [
    "len(words)"
   ]
  },
  {
   "cell_type": "code",
   "execution_count": null,
   "metadata": {},
   "outputs": [],
   "source": []
  },
  {
   "cell_type": "code",
   "execution_count": 15,
   "metadata": {},
   "outputs": [
    {
     "data": {
      "text/plain": [
       "150"
      ]
     },
     "execution_count": 15,
     "metadata": {},
     "output_type": "execute_result"
    }
   ],
   "source": [
    "max([len(s) for s in sentences])"
   ]
  },
  {
   "cell_type": "code",
   "execution_count": 16,
   "metadata": {},
   "outputs": [
    {
     "name": "stderr",
     "output_type": "stream",
     "text": [
      "Using TensorFlow backend.\n"
     ]
    }
   ],
   "source": [
    "from keras.preprocessing.sequence import pad_sequences\n",
    "from keras.utils import to_categorical\n",
    "from sklearn.model_selection import train_test_split\n",
    "\n",
    "# maxlen = max([len(s) for s in sentences])\n",
    "maxlen = 150\n",
    "X = [[word2idx[w[0]] for w in s] for s in sentences]\n",
    "X = pad_sequences(maxlen=maxlen, sequences=X, padding=\"post\",value=tag2idx[\"PAD\"], truncating='post')\n",
    "\n",
    "y = [[tag2idx[w[1]] for w in s] for s in sentences]\n",
    "y = pad_sequences(maxlen=maxlen, sequences=y, padding=\"post\", value=tag2idx[\"PAD\"], truncating='post')\n",
    "y = [to_categorical(i, num_classes=n_tags +1) for i in y]\n",
    "\n",
    "# Split train and test data\n",
    "X_train, X_test, y_train, y_test = train_test_split(X, y, test_size=0.2,random_state=2018)"
   ]
  },
  {
   "cell_type": "code",
   "execution_count": 17,
   "metadata": {},
   "outputs": [
    {
     "data": {
      "text/plain": [
       "{'PAD': 0, 'text': 1, 'object': 2}"
      ]
     },
     "execution_count": 17,
     "metadata": {},
     "output_type": "execute_result"
    }
   ],
   "source": [
    "tag2idx"
   ]
  },
  {
   "cell_type": "code",
   "execution_count": 18,
   "metadata": {},
   "outputs": [
    {
     "data": {
      "text/plain": [
       "array([[0., 1., 0.],\n",
       "       [0., 1., 0.],\n",
       "       [0., 1., 0.],\n",
       "       [0., 1., 0.],\n",
       "       [0., 0., 1.],\n",
       "       [0., 1., 0.],\n",
       "       [0., 1., 0.],\n",
       "       [0., 1., 0.],\n",
       "       [0., 1., 0.],\n",
       "       [0., 1., 0.],\n",
       "       [0., 1., 0.],\n",
       "       [0., 1., 0.],\n",
       "       [0., 1., 0.],\n",
       "       [0., 1., 0.],\n",
       "       [0., 1., 0.],\n",
       "       [0., 1., 0.],\n",
       "       [0., 1., 0.],\n",
       "       [0., 1., 0.],\n",
       "       [0., 1., 0.],\n",
       "       [0., 1., 0.],\n",
       "       [0., 1., 0.],\n",
       "       [1., 0., 0.],\n",
       "       [1., 0., 0.],\n",
       "       [1., 0., 0.],\n",
       "       [1., 0., 0.],\n",
       "       [1., 0., 0.],\n",
       "       [1., 0., 0.],\n",
       "       [1., 0., 0.],\n",
       "       [1., 0., 0.],\n",
       "       [1., 0., 0.],\n",
       "       [1., 0., 0.],\n",
       "       [1., 0., 0.],\n",
       "       [1., 0., 0.],\n",
       "       [1., 0., 0.],\n",
       "       [1., 0., 0.],\n",
       "       [1., 0., 0.],\n",
       "       [1., 0., 0.],\n",
       "       [1., 0., 0.],\n",
       "       [1., 0., 0.],\n",
       "       [1., 0., 0.],\n",
       "       [1., 0., 0.],\n",
       "       [1., 0., 0.],\n",
       "       [1., 0., 0.],\n",
       "       [1., 0., 0.],\n",
       "       [1., 0., 0.],\n",
       "       [1., 0., 0.],\n",
       "       [1., 0., 0.],\n",
       "       [1., 0., 0.],\n",
       "       [1., 0., 0.],\n",
       "       [1., 0., 0.],\n",
       "       [1., 0., 0.],\n",
       "       [1., 0., 0.],\n",
       "       [1., 0., 0.],\n",
       "       [1., 0., 0.],\n",
       "       [1., 0., 0.],\n",
       "       [1., 0., 0.],\n",
       "       [1., 0., 0.],\n",
       "       [1., 0., 0.],\n",
       "       [1., 0., 0.],\n",
       "       [1., 0., 0.],\n",
       "       [1., 0., 0.],\n",
       "       [1., 0., 0.],\n",
       "       [1., 0., 0.],\n",
       "       [1., 0., 0.],\n",
       "       [1., 0., 0.],\n",
       "       [1., 0., 0.],\n",
       "       [1., 0., 0.],\n",
       "       [1., 0., 0.],\n",
       "       [1., 0., 0.],\n",
       "       [1., 0., 0.],\n",
       "       [1., 0., 0.],\n",
       "       [1., 0., 0.],\n",
       "       [1., 0., 0.],\n",
       "       [1., 0., 0.],\n",
       "       [1., 0., 0.],\n",
       "       [1., 0., 0.],\n",
       "       [1., 0., 0.],\n",
       "       [1., 0., 0.],\n",
       "       [1., 0., 0.],\n",
       "       [1., 0., 0.],\n",
       "       [1., 0., 0.],\n",
       "       [1., 0., 0.],\n",
       "       [1., 0., 0.],\n",
       "       [1., 0., 0.],\n",
       "       [1., 0., 0.],\n",
       "       [1., 0., 0.],\n",
       "       [1., 0., 0.],\n",
       "       [1., 0., 0.],\n",
       "       [1., 0., 0.],\n",
       "       [1., 0., 0.],\n",
       "       [1., 0., 0.],\n",
       "       [1., 0., 0.],\n",
       "       [1., 0., 0.],\n",
       "       [1., 0., 0.],\n",
       "       [1., 0., 0.],\n",
       "       [1., 0., 0.],\n",
       "       [1., 0., 0.],\n",
       "       [1., 0., 0.],\n",
       "       [1., 0., 0.],\n",
       "       [1., 0., 0.],\n",
       "       [1., 0., 0.],\n",
       "       [1., 0., 0.],\n",
       "       [1., 0., 0.],\n",
       "       [1., 0., 0.],\n",
       "       [1., 0., 0.],\n",
       "       [1., 0., 0.],\n",
       "       [1., 0., 0.],\n",
       "       [1., 0., 0.],\n",
       "       [1., 0., 0.],\n",
       "       [1., 0., 0.],\n",
       "       [1., 0., 0.],\n",
       "       [1., 0., 0.],\n",
       "       [1., 0., 0.],\n",
       "       [1., 0., 0.],\n",
       "       [1., 0., 0.],\n",
       "       [1., 0., 0.],\n",
       "       [1., 0., 0.],\n",
       "       [1., 0., 0.],\n",
       "       [1., 0., 0.],\n",
       "       [1., 0., 0.],\n",
       "       [1., 0., 0.],\n",
       "       [1., 0., 0.],\n",
       "       [1., 0., 0.],\n",
       "       [1., 0., 0.],\n",
       "       [1., 0., 0.],\n",
       "       [1., 0., 0.],\n",
       "       [1., 0., 0.],\n",
       "       [1., 0., 0.],\n",
       "       [1., 0., 0.],\n",
       "       [1., 0., 0.],\n",
       "       [1., 0., 0.],\n",
       "       [1., 0., 0.],\n",
       "       [1., 0., 0.],\n",
       "       [1., 0., 0.],\n",
       "       [1., 0., 0.],\n",
       "       [1., 0., 0.],\n",
       "       [1., 0., 0.],\n",
       "       [1., 0., 0.],\n",
       "       [1., 0., 0.],\n",
       "       [1., 0., 0.],\n",
       "       [1., 0., 0.],\n",
       "       [1., 0., 0.],\n",
       "       [1., 0., 0.],\n",
       "       [1., 0., 0.],\n",
       "       [1., 0., 0.],\n",
       "       [1., 0., 0.],\n",
       "       [1., 0., 0.],\n",
       "       [1., 0., 0.],\n",
       "       [1., 0., 0.],\n",
       "       [1., 0., 0.]], dtype=float32)"
      ]
     },
     "execution_count": 18,
     "metadata": {},
     "output_type": "execute_result"
    }
   ],
   "source": [
    "y_train[2]"
   ]
  },
  {
   "cell_type": "code",
   "execution_count": 19,
   "metadata": {},
   "outputs": [
    {
     "data": {
      "text/plain": [
       "array([[0., 1., 0.],\n",
       "       [0., 1., 0.],\n",
       "       [0., 1., 0.],\n",
       "       [0., 1., 0.],\n",
       "       [0., 0., 1.],\n",
       "       [0., 1., 0.],\n",
       "       [0., 1., 0.],\n",
       "       [0., 1., 0.],\n",
       "       [0., 1., 0.],\n",
       "       [0., 1., 0.],\n",
       "       [0., 1., 0.],\n",
       "       [0., 1., 0.],\n",
       "       [0., 1., 0.],\n",
       "       [0., 1., 0.],\n",
       "       [0., 1., 0.],\n",
       "       [0., 1., 0.],\n",
       "       [0., 1., 0.],\n",
       "       [0., 1., 0.],\n",
       "       [0., 1., 0.],\n",
       "       [0., 1., 0.],\n",
       "       [0., 1., 0.],\n",
       "       [1., 0., 0.],\n",
       "       [1., 0., 0.],\n",
       "       [1., 0., 0.],\n",
       "       [1., 0., 0.],\n",
       "       [1., 0., 0.],\n",
       "       [1., 0., 0.],\n",
       "       [1., 0., 0.],\n",
       "       [1., 0., 0.],\n",
       "       [1., 0., 0.],\n",
       "       [1., 0., 0.],\n",
       "       [1., 0., 0.],\n",
       "       [1., 0., 0.],\n",
       "       [1., 0., 0.],\n",
       "       [1., 0., 0.],\n",
       "       [1., 0., 0.],\n",
       "       [1., 0., 0.],\n",
       "       [1., 0., 0.],\n",
       "       [1., 0., 0.],\n",
       "       [1., 0., 0.],\n",
       "       [1., 0., 0.],\n",
       "       [1., 0., 0.],\n",
       "       [1., 0., 0.],\n",
       "       [1., 0., 0.],\n",
       "       [1., 0., 0.],\n",
       "       [1., 0., 0.],\n",
       "       [1., 0., 0.],\n",
       "       [1., 0., 0.],\n",
       "       [1., 0., 0.],\n",
       "       [1., 0., 0.],\n",
       "       [1., 0., 0.],\n",
       "       [1., 0., 0.],\n",
       "       [1., 0., 0.],\n",
       "       [1., 0., 0.],\n",
       "       [1., 0., 0.],\n",
       "       [1., 0., 0.],\n",
       "       [1., 0., 0.],\n",
       "       [1., 0., 0.],\n",
       "       [1., 0., 0.],\n",
       "       [1., 0., 0.],\n",
       "       [1., 0., 0.],\n",
       "       [1., 0., 0.],\n",
       "       [1., 0., 0.],\n",
       "       [1., 0., 0.],\n",
       "       [1., 0., 0.],\n",
       "       [1., 0., 0.],\n",
       "       [1., 0., 0.],\n",
       "       [1., 0., 0.],\n",
       "       [1., 0., 0.],\n",
       "       [1., 0., 0.],\n",
       "       [1., 0., 0.],\n",
       "       [1., 0., 0.],\n",
       "       [1., 0., 0.],\n",
       "       [1., 0., 0.],\n",
       "       [1., 0., 0.],\n",
       "       [1., 0., 0.],\n",
       "       [1., 0., 0.],\n",
       "       [1., 0., 0.],\n",
       "       [1., 0., 0.],\n",
       "       [1., 0., 0.],\n",
       "       [1., 0., 0.],\n",
       "       [1., 0., 0.],\n",
       "       [1., 0., 0.],\n",
       "       [1., 0., 0.],\n",
       "       [1., 0., 0.],\n",
       "       [1., 0., 0.],\n",
       "       [1., 0., 0.],\n",
       "       [1., 0., 0.],\n",
       "       [1., 0., 0.],\n",
       "       [1., 0., 0.],\n",
       "       [1., 0., 0.],\n",
       "       [1., 0., 0.],\n",
       "       [1., 0., 0.],\n",
       "       [1., 0., 0.],\n",
       "       [1., 0., 0.],\n",
       "       [1., 0., 0.],\n",
       "       [1., 0., 0.],\n",
       "       [1., 0., 0.],\n",
       "       [1., 0., 0.],\n",
       "       [1., 0., 0.],\n",
       "       [1., 0., 0.],\n",
       "       [1., 0., 0.],\n",
       "       [1., 0., 0.],\n",
       "       [1., 0., 0.],\n",
       "       [1., 0., 0.],\n",
       "       [1., 0., 0.],\n",
       "       [1., 0., 0.],\n",
       "       [1., 0., 0.],\n",
       "       [1., 0., 0.],\n",
       "       [1., 0., 0.],\n",
       "       [1., 0., 0.],\n",
       "       [1., 0., 0.],\n",
       "       [1., 0., 0.],\n",
       "       [1., 0., 0.],\n",
       "       [1., 0., 0.],\n",
       "       [1., 0., 0.],\n",
       "       [1., 0., 0.],\n",
       "       [1., 0., 0.],\n",
       "       [1., 0., 0.],\n",
       "       [1., 0., 0.],\n",
       "       [1., 0., 0.],\n",
       "       [1., 0., 0.],\n",
       "       [1., 0., 0.],\n",
       "       [1., 0., 0.],\n",
       "       [1., 0., 0.],\n",
       "       [1., 0., 0.],\n",
       "       [1., 0., 0.],\n",
       "       [1., 0., 0.],\n",
       "       [1., 0., 0.],\n",
       "       [1., 0., 0.],\n",
       "       [1., 0., 0.],\n",
       "       [1., 0., 0.],\n",
       "       [1., 0., 0.],\n",
       "       [1., 0., 0.],\n",
       "       [1., 0., 0.],\n",
       "       [1., 0., 0.],\n",
       "       [1., 0., 0.],\n",
       "       [1., 0., 0.],\n",
       "       [1., 0., 0.],\n",
       "       [1., 0., 0.],\n",
       "       [1., 0., 0.],\n",
       "       [1., 0., 0.],\n",
       "       [1., 0., 0.],\n",
       "       [1., 0., 0.],\n",
       "       [1., 0., 0.],\n",
       "       [1., 0., 0.],\n",
       "       [1., 0., 0.],\n",
       "       [1., 0., 0.],\n",
       "       [1., 0., 0.],\n",
       "       [1., 0., 0.]], dtype=float32)"
      ]
     },
     "execution_count": 19,
     "metadata": {},
     "output_type": "execute_result"
    }
   ],
   "source": [
    "y_train[2]"
   ]
  },
  {
   "cell_type": "code",
   "execution_count": 20,
   "metadata": {},
   "outputs": [
    {
     "data": {
      "text/plain": [
       "array([  359,  2277, 26968,  4604, 11032,     0,     0,     0,     0,\n",
       "           0,     0,     0,     0,     0,     0,     0,     0,     0,\n",
       "           0,     0,     0,     0,     0,     0,     0,     0,     0,\n",
       "           0,     0,     0,     0,     0,     0,     0,     0,     0,\n",
       "           0,     0,     0,     0,     0,     0,     0,     0,     0,\n",
       "           0,     0,     0,     0,     0,     0,     0,     0,     0,\n",
       "           0,     0,     0,     0,     0,     0,     0,     0,     0,\n",
       "           0,     0,     0,     0,     0,     0,     0,     0,     0,\n",
       "           0,     0,     0,     0,     0,     0,     0,     0,     0,\n",
       "           0,     0,     0,     0,     0,     0,     0,     0,     0,\n",
       "           0,     0,     0,     0,     0,     0,     0,     0,     0,\n",
       "           0,     0,     0,     0,     0,     0,     0,     0,     0,\n",
       "           0,     0,     0,     0,     0,     0,     0,     0,     0,\n",
       "           0,     0,     0,     0,     0,     0,     0,     0,     0,\n",
       "           0,     0,     0,     0,     0,     0,     0,     0,     0,\n",
       "           0,     0,     0,     0,     0,     0,     0,     0,     0,\n",
       "           0,     0,     0,     0,     0,     0])"
      ]
     },
     "execution_count": 20,
     "metadata": {},
     "output_type": "execute_result"
    }
   ],
   "source": [
    "X_train[1]"
   ]
  },
  {
   "cell_type": "code",
   "execution_count": 21,
   "metadata": {},
   "outputs": [],
   "source": [
    "# import pickle\n",
    "# def StoreData(myObject,ObjectName):\n",
    "#         with open(ObjectName+'.txt', 'wb') as f:\n",
    "#           pickle.dump(myObject, f)"
   ]
  },
  {
   "cell_type": "code",
   "execution_count": 22,
   "metadata": {},
   "outputs": [],
   "source": [
    "# StoreData(X_train,\"X_train\")\n",
    "# StoreData(X_test,\"X_test\")\n",
    "# StoreData(y_train,\"y_train\")\n",
    "# StoreData(y_test,\"y_test\")"
   ]
  },
  {
   "cell_type": "code",
   "execution_count": 23,
   "metadata": {},
   "outputs": [],
   "source": [
    "# with open('X_test.txt', 'rb') as f:\n",
    "#     # Step 3\n",
    "#     X_test = pickle.load(f)"
   ]
  },
  {
   "cell_type": "code",
   "execution_count": 24,
   "metadata": {},
   "outputs": [
    {
     "data": {
      "text/plain": [
       "(10914, 150)"
      ]
     },
     "execution_count": 24,
     "metadata": {},
     "output_type": "execute_result"
    }
   ],
   "source": [
    "X_train.shape"
   ]
  },
  {
   "cell_type": "code",
   "execution_count": 25,
   "metadata": {},
   "outputs": [],
   "source": [
    "# from keras.models import load_model\n",
    "# # def fake_loss(y_true,y_pred):\n",
    "# #         return 0\n",
    "# # def crf_viterbi_accuracy(y_true,y_pred):\n",
    "# #         return 0\n",
    "# from keras_contrib.layers.crf import CRF, crf_loss, crf_viterbi_accuracy\n",
    "# model = load_model('ner-CNN-bi-lstm-model-FULL-0.99.hdf5', custom_objects={'CRF':CRF, 'crf_loss': crf_loss,'crf_viterbi_accuracy': crf_viterbi_accuracy})\n"
   ]
  },
  {
   "cell_type": "code",
   "execution_count": 26,
   "metadata": {},
   "outputs": [],
   "source": [
    "# output_dim = 1 + (input_dim - kernel_size)/stride\n"
   ]
  },
  {
   "cell_type": "code",
   "execution_count": 27,
   "metadata": {},
   "outputs": [],
   "source": [
    "# n_words + 2 - 2 / 2"
   ]
  },
  {
   "cell_type": "code",
   "execution_count": 28,
   "metadata": {},
   "outputs": [],
   "source": [
    "from keras.models import Model, Input\n",
    "from keras.layers import TimeDistributed,SpatialDropout1D,LSTM,MaxPooling1D,Flatten,Embedding, Dense, TimeDistributed, Conv1D,Dropout, Bidirectional\n",
    "import keras as k\n",
    "from keras_contrib.layers import CRF\n",
    "\n",
    "input = Input(shape=(maxlen,))\n",
    "# Embedding Layer\n",
    "model = Embedding(input_dim=n_words + 2  , output_dim=20, input_length=maxlen)(input)\n",
    "\n",
    "\n",
    "# (number of sentences,  words, 100 output dimension or filters)   \n",
    "# 495,19352,150\n",
    "# batchSize = number of sentences    \n",
    "# length = number of words in each sentence   \n",
    "# channels = dimension of the embedding's output.  \n",
    "# (19352,495)\n",
    "model = Conv1D(filters=10,\n",
    "              kernel_size= 2,  # 3 means 3 words\n",
    "              padding='same',  # valid means no padding\n",
    "              strides=1,  # see explnation above\n",
    "              activation='relu')(model)\n",
    "\n",
    "# model = MaxPooling1D(pool_size=2,padding=\"same\")(model) # (?, 27, 10), (?, 24, 10)\n",
    "# model = Flatten()(model) # (?, 270), (?, 240)\n",
    "\n",
    "# model = LSTM(units=20, \n",
    "#              return_sequences=True, \n",
    "#              recurrent_dropout=0.5)(model)     \n",
    "\n",
    "model = SpatialDropout1D(0.3)(model)\n",
    "\n",
    "# BI-LSTM Layer\n",
    "model = Bidirectional(LSTM(units=20, \n",
    "                           return_sequences=True, \n",
    "                           recurrent_dropout=0.5))(model)\n",
    "\n",
    "\n",
    "\n",
    "# TimeDistributed Layer\n",
    "model = TimeDistributed(Dense(n_tags+1, activation=\"softmax\"))(model)  \n",
    "\n",
    "# CRF Layer\n",
    "crf = CRF(n_tags + 1)\n",
    "\n",
    "out = crf(model)  # output\n",
    "model = Model(input, out)"
   ]
  },
  {
   "cell_type": "code",
   "execution_count": 29,
   "metadata": {},
   "outputs": [
    {
     "name": "stderr",
     "output_type": "stream",
     "text": [
      "C:\\Users\\Kasutaja\\Anaconda3\\envs\\myEnv\\lib\\site-packages\\keras_contrib-2.0.8-py3.7.egg\\keras_contrib\\layers\\crf.py:346: UserWarning: CRF.loss_function is deprecated and it might be removed in the future. Please use losses.crf_loss instead.\n",
      "C:\\Users\\Kasutaja\\Anaconda3\\envs\\myEnv\\lib\\site-packages\\keras_contrib-2.0.8-py3.7.egg\\keras_contrib\\layers\\crf.py:353: UserWarning: CRF.accuracy is deprecated and it might be removed in the future. Please use metrics.crf_accuracy\n"
     ]
    },
    {
     "name": "stdout",
     "output_type": "stream",
     "text": [
      "Model: \"model_1\"\n",
      "_________________________________________________________________\n",
      "Layer (type)                 Output Shape              Param #   \n",
      "=================================================================\n",
      "input_1 (InputLayer)         (None, 150)               0         \n",
      "_________________________________________________________________\n",
      "embedding_1 (Embedding)      (None, 150, 20)           554860    \n",
      "_________________________________________________________________\n",
      "conv1d_1 (Conv1D)            (None, 150, 10)           410       \n",
      "_________________________________________________________________\n",
      "spatial_dropout1d_1 (Spatial (None, 150, 10)           0         \n",
      "_________________________________________________________________\n",
      "bidirectional_1 (Bidirection (None, 150, 40)           4960      \n",
      "_________________________________________________________________\n",
      "time_distributed_1 (TimeDist (None, 150, 3)            123       \n",
      "_________________________________________________________________\n",
      "crf_1 (CRF)                  (None, 150, 3)            27        \n",
      "=================================================================\n",
      "Total params: 560,380\n",
      "Trainable params: 560,380\n",
      "Non-trainable params: 0\n",
      "_________________________________________________________________\n"
     ]
    }
   ],
   "source": [
    "from keras.callbacks import ModelCheckpoint\n",
    "import matplotlib.pyplot as plt\n",
    "\n",
    "\n",
    "# Compile model\n",
    "model.compile(optimizer=\"adam\", loss=crf.loss_function, metrics=[crf.accuracy, 'accuracy'])\n",
    "\n",
    "model.summary()\n"
   ]
  },
  {
   "cell_type": "code",
   "execution_count": 30,
   "metadata": {},
   "outputs": [
    {
     "name": "stderr",
     "output_type": "stream",
     "text": [
      "C:\\Users\\Kasutaja\\Anaconda3\\envs\\myEnv\\lib\\site-packages\\tensorflow_core\\python\\framework\\indexed_slices.py:433: UserWarning: Converting sparse IndexedSlices to a dense Tensor of unknown shape. This may consume a large amount of memory.\n",
      "  \"Converting sparse IndexedSlices to a dense Tensor of unknown shape. \"\n"
     ]
    },
    {
     "name": "stdout",
     "output_type": "stream",
     "text": [
      "Train on 9822 samples, validate on 1092 samples\n",
      "Epoch 1/10\n",
      "9822/9822 [==============================] - 36s 4ms/step - loss: 1.0400 - crf_viterbi_accuracy: 0.5253 - accuracy: 0.9226 - val_loss: 0.5452 - val_crf_viterbi_accuracy: 0.9888 - val_accuracy: 0.9889\n",
      "\n",
      "Epoch 00001: val_accuracy improved from -inf to 0.98887, saving model to ner-CNN-bi-lstm-model-OBJECT-0.99.hdf5\n",
      "Epoch 2/10\n",
      "9822/9822 [==============================] - 34s 3ms/step - loss: 0.3301 - crf_viterbi_accuracy: 0.9901 - accuracy: 0.9226 - val_loss: 0.1950 - val_crf_viterbi_accuracy: 0.9911 - val_accuracy: 0.9912\n",
      "\n",
      "Epoch 00002: val_accuracy improved from 0.98887 to 0.99120, saving model to ner-CNN-bi-lstm-model-OBJECT-0.99.hdf5\n",
      "Epoch 3/10\n",
      "9822/9822 [==============================] - 34s 3ms/step - loss: 0.1442 - crf_viterbi_accuracy: 0.9907 - accuracy: 0.9226 - val_loss: 0.1071 - val_crf_viterbi_accuracy: 0.9911 - val_accuracy: 0.9912\n",
      "\n",
      "Epoch 00003: val_accuracy improved from 0.99120 to 0.99121, saving model to ner-CNN-bi-lstm-model-OBJECT-0.99.hdf5\n",
      "Epoch 4/10\n",
      "9822/9822 [==============================] - 33s 3ms/step - loss: 0.0882 - crf_viterbi_accuracy: 0.9908 - accuracy: 0.9226 - val_loss: 0.0692 - val_crf_viterbi_accuracy: 0.9909 - val_accuracy: 0.9911\n",
      "\n",
      "Epoch 00004: val_accuracy did not improve from 0.99121\n",
      "Epoch 5/10\n",
      "9822/9822 [==============================] - 33s 3ms/step - loss: 0.0581 - crf_viterbi_accuracy: 0.9910 - accuracy: 0.9226 - val_loss: 0.0488 - val_crf_viterbi_accuracy: 0.9916 - val_accuracy: 0.9918\n",
      "\n",
      "Epoch 00005: val_accuracy improved from 0.99121 to 0.99178, saving model to ner-CNN-bi-lstm-model-OBJECT-0.99.hdf5\n",
      "Epoch 6/10\n",
      "9822/9822 [==============================] - 36s 4ms/step - loss: 0.0420 - crf_viterbi_accuracy: 0.9926 - accuracy: 0.9226 - val_loss: 0.0374 - val_crf_viterbi_accuracy: 0.9938 - val_accuracy: 0.9938\n",
      "\n",
      "Epoch 00006: val_accuracy improved from 0.99178 to 0.99382, saving model to ner-CNN-bi-lstm-model-OBJECT-0.99.hdf5\n",
      "Epoch 7/10\n",
      "9822/9822 [==============================] - 33s 3ms/step - loss: 0.0321 - crf_viterbi_accuracy: 0.9954 - accuracy: 0.9226 - val_loss: 0.0293 - val_crf_viterbi_accuracy: 0.9970 - val_accuracy: 0.9970\n",
      "\n",
      "Epoch 00007: val_accuracy improved from 0.99382 to 0.99702, saving model to ner-CNN-bi-lstm-model-OBJECT-1.00.hdf5\n",
      "Epoch 8/10\n",
      "9822/9822 [==============================] - 32s 3ms/step - loss: 0.0249 - crf_viterbi_accuracy: 0.9981 - accuracy: 0.9226 - val_loss: 0.0238 - val_crf_viterbi_accuracy: 0.9979 - val_accuracy: 0.9980\n",
      "\n",
      "Epoch 00008: val_accuracy improved from 0.99702 to 0.99801, saving model to ner-CNN-bi-lstm-model-OBJECT-1.00.hdf5\n",
      "Epoch 9/10\n",
      "9822/9822 [==============================] - 32s 3ms/step - loss: 0.0198 - crf_viterbi_accuracy: 0.9988 - accuracy: 0.9226 - val_loss: 0.0200 - val_crf_viterbi_accuracy: 0.9980 - val_accuracy: 0.9980\n",
      "\n",
      "Epoch 00009: val_accuracy did not improve from 0.99801\n",
      "Epoch 10/10\n",
      "9822/9822 [==============================] - 33s 3ms/step - loss: 0.0161 - crf_viterbi_accuracy: 0.9990 - accuracy: 0.9226 - val_loss: 0.0173 - val_crf_viterbi_accuracy: 0.9981 - val_accuracy: 0.9982\n",
      "\n",
      "Epoch 00010: val_accuracy improved from 0.99801 to 0.99815, saving model to ner-CNN-bi-lstm-model-OBJECT-1.00.hdf5\n"
     ]
    }
   ],
   "source": [
    "\n",
    "# Saving the best model only\n",
    "filepath=\"ner-CNN-bi-lstm-model-OBJECT-{val_accuracy:.2f}.hdf5\"\n",
    "checkpoint = ModelCheckpoint(filepath, monitor='val_accuracy', verbose=1, save_best_only=True, mode='max')\n",
    "callbacks_list = [checkpoint]\n",
    "\n",
    "# Fit the best model\n",
    "history = model.fit(X_train, np.array(y_train), batch_size=32, epochs=10, validation_split=0.1, verbose=1, callbacks=callbacks_list)"
   ]
  },
  {
   "cell_type": "code",
   "execution_count": 31,
   "metadata": {},
   "outputs": [
    {
     "data": {
      "image/png": "[encoded data removed]",
      "text/plain": [
       "<Figure size 864x360 with 2 Axes>"
      ]
     },
     "metadata": {},
     "output_type": "display_data"
    }
   ],
   "source": [
    "# Plot the graph \n",
    "plt.style.use('ggplot')\n",
    "\n",
    "def plot_history(history):\n",
    "    accuracy = history.history['accuracy']\n",
    "    val_accuracy = history.history['val_accuracy']\n",
    "    loss = history.history['loss']\n",
    "    val_loss = history.history['val_loss']\n",
    "    x = range(1, len(accuracy) + 1)\n",
    "\n",
    "    plt.figure(figsize=(12, 5))\n",
    "    plt.subplot(1, 2, 1)\n",
    "    plt.plot(x, accuracy, 'b', label='Training acc')\n",
    "    plt.plot(x, val_accuracy, 'r', label='Validation acc')\n",
    "    plt.title('Training and validation accuracy')\n",
    "    plt.legend()\n",
    "    plt.subplot(1, 2, 2)\n",
    "    plt.plot(x, loss, 'b', label='Training loss')\n",
    "    plt.plot(x, val_loss, 'r', label='Validation loss')\n",
    "    plt.title('Training and validation loss')\n",
    "    plt.legend()\n",
    "\n",
    "plot_history(history)\n"
   ]
  },
  {
   "cell_type": "code",
   "execution_count": 32,
   "metadata": {},
   "outputs": [
    {
     "data": {
      "text/plain": [
       "{0: 'PAD', 1: 'text', 2: 'object'}"
      ]
     },
     "execution_count": 32,
     "metadata": {},
     "output_type": "execute_result"
    }
   ],
   "source": [
    "idx2tag"
   ]
  },
  {
   "cell_type": "code",
   "execution_count": 33,
   "metadata": {},
   "outputs": [
    {
     "name": "stdout",
     "output_type": "stream",
     "text": [
      "2729/2729 [==============================] - 3s 922us/step\n"
     ]
    }
   ],
   "source": [
    "test_pred = model.predict(X_test, verbose=1)   \n"
   ]
  },
  {
   "cell_type": "code",
   "execution_count": 34,
   "metadata": {},
   "outputs": [],
   "source": [
    "def pred2label(pred):\n",
    "    out = []\n",
    "    for pred_i in pred:\n",
    "        out_i = []\n",
    "        for p in pred_i:\n",
    "            p_i = np.argmax(p)\n",
    "            out_i.append(idx2tag[p_i].replace(\"PAD\",\"text\"))\n",
    "        out.append(out_i)\n",
    "    return out\n",
    "# test_pred = model.predict(X_test, verbose=1)   \n",
    "pred_labels = pred2label(test_pred)\n",
    "test_labels = pred2label(y_test)"
   ]
  },
  {
   "cell_type": "code",
   "execution_count": 35,
   "metadata": {},
   "outputs": [
    {
     "name": "stdout",
     "output_type": "stream",
     "text": [
      "F1-score: 82.3%\n"
     ]
    }
   ],
   "source": [
    "from seqeval.metrics import precision_score, recall_score, f1_score, classification_report\n",
    "print(\"F1-score: {:.1%}\".format(f1_score(test_labels, pred_labels)))"
   ]
  },
  {
   "cell_type": "code",
   "execution_count": 36,
   "metadata": {},
   "outputs": [
    {
     "name": "stdout",
     "output_type": "stream",
     "text": [
      "           precision    recall  f1-score   support\n",
      "\n",
      "     text       0.85      0.80      0.82      4461\n",
      "   object       0.88      0.76      0.82      2104\n",
      "\n",
      "micro avg       0.86      0.79      0.82      6565\n",
      "macro avg       0.86      0.79      0.82      6565\n",
      "\n"
     ]
    }
   ],
   "source": [
    "print(classification_report(test_labels, pred_labels))"
   ]
  },
  {
   "cell_type": "code",
   "execution_count": 37,
   "metadata": {},
   "outputs": [
    {
     "name": "stdout",
     "output_type": "stream",
     "text": [
      "              precision    recall  f1-score   support\n",
      "\n",
      "      object       0.95      0.84      0.89      3653\n",
      "        text       1.00      1.00      1.00    405697\n",
      "\n",
      "    accuracy                           1.00    409350\n",
      "   macro avg       0.97      0.92      0.95    409350\n",
      "weighted avg       1.00      1.00      1.00    409350\n",
      "\n"
     ]
    }
   ],
   "source": [
    "from  sklearn_crfsuite.metrics import flat_classification_report  \n",
    "report = flat_classification_report(y_pred=pred_labels, y_true=test_labels)\n",
    "print(report)"
   ]
  },
  {
   "cell_type": "code",
   "execution_count": 38,
   "metadata": {},
   "outputs": [
    {
     "name": "stdout",
     "output_type": "stream",
     "text": [
      "Word           ||True ||Pred\n",
      "30.04.2013     : text  text\n",
      "-              : text  text\n",
      "kaal           : text  text\n",
      "58             : text  text\n",
      "kg,            : text  text\n",
      "pikkus         : text  text\n",
      "164            : text  text\n",
      "cm,            : text  text\n",
      "KMI            : text  text\n",
      "20             : text  text\n",
      "30.04.2013     : text  text\n",
      "-              : text  text\n",
      "RR             : object object\n",
      "145/79,        : object object\n",
      "fr.            : text  text\n",
      "86             : text  text\n",
      "x'             : text  text\n",
      ".              : text  text\n",
      "21.05.2012     : text  text\n",
      "21.05.2012     : text  text\n",
      "21.05.2012     : text  text\n",
      "21.05.2012     : text  text\n",
      "21.05.2012     : text  text\n",
      "21.05.2012     : text  text\n",
      "21.05.2012     : text  text\n",
      "21.05.2012     : text  text\n",
      "21.05.2012     : text  text\n",
      "21.05.2012     : text  text\n",
      "21.05.2012     : text  text\n",
      "21.05.2012     : text  text\n",
      "21.05.2012     : text  text\n",
      "21.05.2012     : text  text\n",
      "21.05.2012     : text  text\n",
      "21.05.2012     : text  text\n",
      "21.05.2012     : text  text\n",
      "21.05.2012     : text  text\n",
      "21.05.2012     : text  text\n",
      "21.05.2012     : text  text\n",
      "21.05.2012     : text  text\n",
      "21.05.2012     : text  text\n",
      "21.05.2012     : text  text\n",
      "21.05.2012     : text  text\n",
      "21.05.2012     : text  text\n",
      "21.05.2012     : text  text\n",
      "21.05.2012     : text  text\n",
      "21.05.2012     : text  text\n",
      "21.05.2012     : text  text\n",
      "21.05.2012     : text  text\n",
      "21.05.2012     : text  text\n",
      "21.05.2012     : text  text\n",
      "21.05.2012     : text  text\n",
      "21.05.2012     : text  text\n",
      "21.05.2012     : text  text\n",
      "21.05.2012     : text  text\n",
      "21.05.2012     : text  text\n",
      "21.05.2012     : text  text\n",
      "21.05.2012     : text  text\n",
      "21.05.2012     : text  text\n",
      "21.05.2012     : text  text\n",
      "21.05.2012     : text  text\n",
      "21.05.2012     : text  text\n",
      "21.05.2012     : text  text\n",
      "21.05.2012     : text  text\n",
      "21.05.2012     : text  text\n",
      "21.05.2012     : text  text\n",
      "21.05.2012     : text  text\n",
      "21.05.2012     : text  text\n",
      "21.05.2012     : text  text\n",
      "21.05.2012     : text  text\n",
      "21.05.2012     : text  text\n",
      "21.05.2012     : text  text\n",
      "21.05.2012     : text  text\n",
      "21.05.2012     : text  text\n",
      "21.05.2012     : text  text\n",
      "21.05.2012     : text  text\n",
      "21.05.2012     : text  text\n",
      "21.05.2012     : text  text\n",
      "21.05.2012     : text  text\n",
      "21.05.2012     : text  text\n",
      "21.05.2012     : text  text\n",
      "21.05.2012     : text  text\n",
      "21.05.2012     : text  text\n",
      "21.05.2012     : text  text\n",
      "21.05.2012     : text  text\n",
      "21.05.2012     : text  text\n",
      "21.05.2012     : text  text\n",
      "21.05.2012     : text  text\n",
      "21.05.2012     : text  text\n",
      "21.05.2012     : text  text\n",
      "21.05.2012     : text  text\n",
      "21.05.2012     : text  text\n",
      "21.05.2012     : text  text\n",
      "21.05.2012     : text  text\n",
      "21.05.2012     : text  text\n",
      "21.05.2012     : text  text\n",
      "21.05.2012     : text  text\n",
      "21.05.2012     : text  text\n",
      "21.05.2012     : text  text\n",
      "21.05.2012     : text  text\n",
      "21.05.2012     : text  text\n",
      "21.05.2012     : text  text\n",
      "21.05.2012     : text  text\n",
      "21.05.2012     : text  text\n",
      "21.05.2012     : text  text\n",
      "21.05.2012     : text  text\n",
      "21.05.2012     : text  text\n",
      "21.05.2012     : text  text\n",
      "21.05.2012     : text  text\n",
      "21.05.2012     : text  text\n",
      "21.05.2012     : text  text\n",
      "21.05.2012     : text  text\n",
      "21.05.2012     : text  text\n",
      "21.05.2012     : text  text\n",
      "21.05.2012     : text  text\n",
      "21.05.2012     : text  text\n",
      "21.05.2012     : text  text\n",
      "21.05.2012     : text  text\n",
      "21.05.2012     : text  text\n",
      "21.05.2012     : text  text\n",
      "21.05.2012     : text  text\n",
      "21.05.2012     : text  text\n",
      "21.05.2012     : text  text\n",
      "21.05.2012     : text  text\n",
      "21.05.2012     : text  text\n",
      "21.05.2012     : text  text\n",
      "21.05.2012     : text  text\n",
      "21.05.2012     : text  text\n",
      "21.05.2012     : text  text\n",
      "21.05.2012     : text  text\n",
      "21.05.2012     : text  text\n",
      "21.05.2012     : text  text\n",
      "21.05.2012     : text  text\n",
      "21.05.2012     : text  text\n",
      "21.05.2012     : text  text\n",
      "21.05.2012     : text  text\n",
      "21.05.2012     : text  text\n",
      "21.05.2012     : text  text\n",
      "21.05.2012     : text  text\n",
      "21.05.2012     : text  text\n",
      "21.05.2012     : text  text\n",
      "21.05.2012     : text  text\n",
      "21.05.2012     : text  text\n",
      "21.05.2012     : text  text\n",
      "21.05.2012     : text  text\n",
      "21.05.2012     : text  text\n",
      "21.05.2012     : text  text\n",
      "21.05.2012     : text  text\n",
      "21.05.2012     : text  text\n",
      "21.05.2012     : text  text\n",
      "21.05.2012     : text  text\n"
     ]
    }
   ],
   "source": [
    "print(\"{:15}||{:5}||{}\".format(\"Word\", \"True\", \"Pred\"))\n",
    "\n",
    "i=5\n",
    "for w,true, pred in zip(X_test[i], test_labels[i] ,pred_labels[i]):\n",
    "    if true != \"PAD\":\n",
    "        print(\"{:15}: {:5} {}\".format(words[w],true,pred))\n"
   ]
  },
  {
   "cell_type": "code",
   "execution_count": 39,
   "metadata": {},
   "outputs": [],
   "source": [
    "test_sentence = \" Tupp vaba, em.kael puhas, RR 155/85 mmhg .\"\n",
    "test_sentence = ''.join(test_sentence).split() "
   ]
  },
  {
   "cell_type": "code",
   "execution_count": 40,
   "metadata": {},
   "outputs": [],
   "source": [
    "x_test_sent = pad_sequences(sequences=[[word2idx.get(w, 0) for w in test_sentence]],\n",
    "                            padding=\"post\", value=tag2idx[\"PAD\"], truncating='post', maxlen=maxlen)\n"
   ]
  },
  {
   "cell_type": "code",
   "execution_count": 41,
   "metadata": {},
   "outputs": [
    {
     "name": "stdout",
     "output_type": "stream",
     "text": [
      "Word           ||Prediction\n",
      "==============================\n",
      "Tupp           : text \n",
      "vaba,          : text \n",
      "em.kael        : text \n",
      "puhas,         : text \n",
      "RR             : object\n",
      "155/85         : object\n",
      "mmhg           : text \n",
      ".              : text \n"
     ]
    }
   ],
   "source": [
    "p = model.predict(x_test_sent)\n",
    "p = pred2label(p)\n",
    "# p = np.argmax(p, axis=-1)\n",
    "print(\"{:15}||{}\".format(\"Word\", \"Prediction\"))\n",
    "print(30 * \"=\")\n",
    "for w, pred in zip(test_sentence, p[0]):\n",
    "    print(\"{:15}: {:5}\".format(w, pred))\n"
   ]
  },
  {
   "cell_type": "code",
   "execution_count": null,
   "metadata": {},
   "outputs": [],
   "source": []
  }
 ],
 "metadata": {
  "kernelspec": {
   "display_name": "Python 3",
   "language": "python",
   "name": "python3"
  },
  "language_info": {
   "codemirror_mode": {
    "name": "ipython",
    "version": 3
   },
   "file_extension": ".py",
   "mimetype": "text/x-python",
   "name": "python",
   "nbconvert_exporter": "python",
   "pygments_lexer": "ipython3",
   "version": "3.7.6"
  }
 },
 "nbformat": 4,
 "nbformat_minor": 4
}
