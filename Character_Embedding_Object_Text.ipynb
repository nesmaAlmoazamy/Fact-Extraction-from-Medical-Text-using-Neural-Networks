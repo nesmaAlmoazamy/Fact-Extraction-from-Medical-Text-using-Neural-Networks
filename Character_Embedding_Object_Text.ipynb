{
 "cells": [
  {
   "cell_type": "code",
   "execution_count": 1,
   "metadata": {},
   "outputs": [
    {
     "name": "stderr",
     "output_type": "stream",
     "text": [
      "Using TensorFlow backend.\n"
     ]
    }
   ],
   "source": [
    "import csv\n",
    "import numpy as np\n",
    "import pandas as pd\n",
    "from keras.preprocessing.text import Tokenizer\n",
    "from keras.preprocessing.sequence import pad_sequences\n",
    "import pickle"
   ]
  },
  {
   "cell_type": "code",
   "execution_count": 2,
   "metadata": {},
   "outputs": [],
   "source": [
    "DS = pd.read_csv(\"ObjectSubset150SentenceLength.csv\")"
   ]
  },
  {
   "cell_type": "code",
   "execution_count": 3,
   "metadata": {},
   "outputs": [],
   "source": [
    "DS['tag'].fillna('text', inplace=True)"
   ]
  },
  {
   "cell_type": "code",
   "execution_count": 4,
   "metadata": {},
   "outputs": [
    {
     "data": {
      "text/plain": [
       "27741"
      ]
     },
     "execution_count": 4,
     "metadata": {},
     "output_type": "execute_result"
    }
   ],
   "source": [
    "words = list(set(DS[\"word\"].values))\n",
    "n_words = len(words)\n",
    "n_words"
   ]
  },
  {
   "cell_type": "code",
   "execution_count": 5,
   "metadata": {},
   "outputs": [
    {
     "data": {
      "text/plain": [
       "2"
      ]
     },
     "execution_count": 5,
     "metadata": {},
     "output_type": "execute_result"
    }
   ],
   "source": [
    "tags = list(set(DS[\"tag\"].values))\n",
    "n_tags = len(tags); n_tags\n"
   ]
  },
  {
   "cell_type": "code",
   "execution_count": 6,
   "metadata": {},
   "outputs": [],
   "source": [
    "class SentenceGetter(object):\n",
    "    \n",
    "    def __init__(self, data):\n",
    "        self.n_sent = 1\n",
    "        self.data = data\n",
    "        self.empty = False\n",
    "        agg_func = lambda s: [(w, t) for w, t in zip(s[\"word\"].values.tolist(),\n",
    "                                                           s[\"tag\"].values.tolist())]\n",
    "        self.grouped = self.data.groupby(\"text_ID\").apply(agg_func)\n",
    "        self.sentences = [s for s in self.grouped]\n",
    "    \n",
    "    def get_next(self):\n",
    "        try:\n",
    "            s = self.grouped[\"Sentence: {}\".format(self.n_sent)]\n",
    "            self.n_sent += 1\n",
    "            return s\n",
    "        except:\n",
    "            return None"
   ]
  },
  {
   "cell_type": "code",
   "execution_count": 7,
   "metadata": {},
   "outputs": [],
   "source": [
    "getter = SentenceGetter(DS)"
   ]
  },
  {
   "cell_type": "code",
   "execution_count": 8,
   "metadata": {},
   "outputs": [],
   "source": [
    "sentences = getter.sentences\n"
   ]
  },
  {
   "cell_type": "code",
   "execution_count": 9,
   "metadata": {},
   "outputs": [
    {
     "data": {
      "text/plain": [
       "[('Pt.', 'text'),\n",
       " ('tehtud', 'text'),\n",
       " ('3', 'text'),\n",
       " ('plasmaferees,', 'text'),\n",
       " ('talus', 'text'),\n",
       " ('hästi.', 'text'),\n",
       " ('Eemaldatud', 'text'),\n",
       " ('700', 'text'),\n",
       " ('ml', 'text'),\n",
       " ('plasmat.', 'text'),\n",
       " ('RR', 'object'),\n",
       " ('112/60', 'object'),\n",
       " ('mmHg.', 'text'),\n",
       " ('Tgasi', 'text'),\n",
       " ('22.10.09.', 'text')]"
      ]
     },
     "execution_count": 9,
     "metadata": {},
     "output_type": "execute_result"
    }
   ],
   "source": [
    "sentences[1]"
   ]
  },
  {
   "cell_type": "code",
   "execution_count": 12,
   "metadata": {},
   "outputs": [],
   "source": [
    "max_len = 150\n",
    "max_len_char = 10"
   ]
  },
  {
   "cell_type": "code",
   "execution_count": 13,
   "metadata": {},
   "outputs": [],
   "source": [
    "tag2idx = {t: i + 1 for i, t in enumerate(tags)}\n",
    "tag2idx[\"PAD\"] = 0\n",
    "idx2tag = {i: w for w, i in tag2idx.items()}"
   ]
  },
  {
   "cell_type": "code",
   "execution_count": 14,
   "metadata": {},
   "outputs": [
    {
     "name": "stdout",
     "output_type": "stream",
     "text": [
      "104\n"
     ]
    }
   ],
   "source": [
    "chars = set([w_i for w in words for w_i in w])\n",
    "n_chars = len(chars)\n",
    "print(n_chars)\n"
   ]
  },
  {
   "cell_type": "code",
   "execution_count": 15,
   "metadata": {},
   "outputs": [],
   "source": [
    "char2idx = {c: i + 2 for i, c in enumerate(chars)}\n",
    "char2idx[\"UNK\"] = 1 #For predictions\n",
    "char2idx[\"PAD\"] = 0"
   ]
  },
  {
   "cell_type": "code",
   "execution_count": 16,
   "metadata": {},
   "outputs": [],
   "source": [
    "idx2char = {i: w for w, i in char2idx.items()}"
   ]
  },
  {
   "cell_type": "code",
   "execution_count": 17,
   "metadata": {},
   "outputs": [],
   "source": [
    "X_char = []\n",
    "for sentence in sentences:\n",
    "    sent_seq = []\n",
    "    for i in range(max_len):\n",
    "        word_seq = []\n",
    "        for j in range(max_len_char):\n",
    "            try:\n",
    "                word_seq.append(char2idx.get(sentence[i][0][j]))\n",
    "            except:\n",
    "                word_seq.append(char2idx.get(\"PAD\"))\n",
    "        sent_seq.append(word_seq)\n",
    "    X_char.append(np.array(sent_seq))"
   ]
  },
  {
   "cell_type": "code",
   "execution_count": 94,
   "metadata": {},
   "outputs": [],
   "source": [
    "y = [[tag2idx[w[1]] for w  in s] for s in sentences]\n"
   ]
  },
  {
   "cell_type": "code",
   "execution_count": 21,
   "metadata": {},
   "outputs": [
    {
     "data": {
      "text/plain": [
       "13643"
      ]
     },
     "execution_count": 21,
     "metadata": {},
     "output_type": "execute_result"
    }
   ],
   "source": [
    "len(sentences)"
   ]
  },
  {
   "cell_type": "code",
   "execution_count": 97,
   "metadata": {},
   "outputs": [],
   "source": [
    "y = pad_sequences(maxlen=max_len, sequences=y, value=tag2idx[\"PAD\"], padding='post', truncating='post')"
   ]
  },
  {
   "cell_type": "code",
   "execution_count": 98,
   "metadata": {},
   "outputs": [
    {
     "data": {
      "text/plain": [
       "array([2, 2, 2, 2, 2, 2, 2, 2, 2, 2, 1, 1, 2, 2, 2, 0, 0, 0, 0, 0, 0, 0,\n",
       "       0, 0, 0, 0, 0, 0, 0, 0, 0, 0, 0, 0, 0, 0, 0, 0, 0, 0, 0, 0, 0, 0,\n",
       "       0, 0, 0, 0, 0, 0, 0, 0, 0, 0, 0, 0, 0, 0, 0, 0, 0, 0, 0, 0, 0, 0,\n",
       "       0, 0, 0, 0, 0, 0, 0, 0, 0, 0, 0, 0, 0, 0, 0, 0, 0, 0, 0, 0, 0, 0,\n",
       "       0, 0, 0, 0, 0, 0, 0, 0, 0, 0, 0, 0, 0, 0, 0, 0, 0, 0, 0, 0, 0, 0,\n",
       "       0, 0, 0, 0, 0, 0, 0, 0, 0, 0, 0, 0, 0, 0, 0, 0, 0, 0, 0, 0, 0, 0,\n",
       "       0, 0, 0, 0, 0, 0, 0, 0, 0, 0, 0, 0, 0, 0, 0, 0, 0, 0])"
      ]
     },
     "execution_count": 98,
     "metadata": {},
     "output_type": "execute_result"
    }
   ],
   "source": [
    "y[1]"
   ]
  },
  {
   "cell_type": "code",
   "execution_count": 93,
   "metadata": {},
   "outputs": [
    {
     "data": {
      "text/plain": [
       "{'object': 1, 'text': 2, 'PAD': 0}"
      ]
     },
     "execution_count": 93,
     "metadata": {},
     "output_type": "execute_result"
    }
   ],
   "source": [
    "tag2idx"
   ]
  },
  {
   "cell_type": "code",
   "execution_count": 23,
   "metadata": {},
   "outputs": [],
   "source": [
    "from sklearn.model_selection import train_test_split\n",
    "X_char_tr, X_char_te, y_tr,  y_te= train_test_split(X_char, y, test_size=0.2, random_state=2018)\n"
   ]
  },
  {
   "cell_type": "code",
   "execution_count": 114,
   "metadata": {},
   "outputs": [
    {
     "data": {
      "text/plain": [
       "10"
      ]
     },
     "execution_count": 114,
     "metadata": {},
     "output_type": "execute_result"
    }
   ],
   "source": [
    "max_len_char"
   ]
  },
  {
   "cell_type": "code",
   "execution_count": 24,
   "metadata": {},
   "outputs": [
    {
     "name": "stdout",
     "output_type": "stream",
     "text": [
      "WARNING:tensorflow:Large dropout rate: 0.6 (>0.5). In TensorFlow 2.x, dropout() uses dropout rate instead of keep_prob. Please ensure that this is intended.\n",
      "WARNING:tensorflow:Large dropout rate: 0.6 (>0.5). In TensorFlow 2.x, dropout() uses dropout rate instead of keep_prob. Please ensure that this is intended.\n",
      "WARNING:tensorflow:Large dropout rate: 0.6 (>0.5). In TensorFlow 2.x, dropout() uses dropout rate instead of keep_prob. Please ensure that this is intended.\n",
      "WARNING:tensorflow:Large dropout rate: 0.6 (>0.5). In TensorFlow 2.x, dropout() uses dropout rate instead of keep_prob. Please ensure that this is intended.\n",
      "WARNING:tensorflow:Large dropout rate: 0.6 (>0.5). In TensorFlow 2.x, dropout() uses dropout rate instead of keep_prob. Please ensure that this is intended.\n"
     ]
    }
   ],
   "source": [
    "from keras.models import Model, Input\n",
    "from keras.layers import LSTM, Embedding, Dense, TimeDistributed, Dropout, Conv1D\n",
    "from keras.layers import Bidirectional, concatenate, SpatialDropout1D, GlobalMaxPooling1D\n",
    "\n",
    "\n",
    "# input and embeddings for characters\n",
    "char_in = Input(shape=(max_len, max_len_char,))\n",
    "emb_char = TimeDistributed(Embedding(input_dim=n_chars + 2, output_dim=10,\n",
    "                           input_length=max_len_char, mask_zero=True))(char_in)\n",
    "# character LSTM to get word encodings by characters\n",
    "char_enc = TimeDistributed(LSTM(units=20, return_sequences=False,\n",
    "                                recurrent_dropout=0.5))(emb_char)\n",
    "\n",
    "# main LSTM\n",
    "x = SpatialDropout1D(0.3)(char_enc)\n",
    "main_lstm = Bidirectional(LSTM(units=50, return_sequences=True,\n",
    "                               recurrent_dropout=0.6))(x)\n",
    "out = TimeDistributed(Dense(n_tags + 1, activation=\"softmax\"))(main_lstm)\n",
    "\n",
    "model = Model( char_in, out)\n",
    " \n",
    "\n",
    "\n"
   ]
  },
  {
   "cell_type": "code",
   "execution_count": 25,
   "metadata": {},
   "outputs": [
    {
     "name": "stdout",
     "output_type": "stream",
     "text": [
      "Model: \"model_1\"\n",
      "_________________________________________________________________\n",
      "Layer (type)                 Output Shape              Param #   \n",
      "=================================================================\n",
      "input_1 (InputLayer)         (None, 150, 10)           0         \n",
      "_________________________________________________________________\n",
      "time_distributed_1 (TimeDist (None, 150, 10, 10)       1060      \n",
      "_________________________________________________________________\n",
      "time_distributed_2 (TimeDist (None, 150, 20)           2480      \n",
      "_________________________________________________________________\n",
      "spatial_dropout1d_1 (Spatial (None, 150, 20)           0         \n",
      "_________________________________________________________________\n",
      "bidirectional_1 (Bidirection (None, 150, 100)          28400     \n",
      "_________________________________________________________________\n",
      "time_distributed_3 (TimeDist (None, 150, 3)            303       \n",
      "=================================================================\n",
      "Total params: 32,243\n",
      "Trainable params: 32,243\n",
      "Non-trainable params: 0\n",
      "_________________________________________________________________\n"
     ]
    }
   ],
   "source": [
    "model.compile(optimizer=\"adam\", loss=\"sparse_categorical_crossentropy\", metrics=[\"acc\"])\n",
    "model.summary()\n"
   ]
  },
  {
   "cell_type": "code",
   "execution_count": 106,
   "metadata": {},
   "outputs": [],
   "source": [
    "a = np.array(X_char_tr).reshape((len(X_char_tr), max_len, max_len_char))"
   ]
  },
  {
   "cell_type": "code",
   "execution_count": 107,
   "metadata": {},
   "outputs": [
    {
     "data": {
      "text/plain": [
       "(10914, 150, 10)"
      ]
     },
     "execution_count": 107,
     "metadata": {},
     "output_type": "execute_result"
    }
   ],
   "source": [
    "a.shape"
   ]
  },
  {
   "cell_type": "code",
   "execution_count": 112,
   "metadata": {},
   "outputs": [
    {
     "data": {
      "text/plain": [
       "(150, 10)"
      ]
     },
     "execution_count": 112,
     "metadata": {},
     "output_type": "execute_result"
    }
   ],
   "source": [
    "X_char_tr[1].shape"
   ]
  },
  {
   "cell_type": "code",
   "execution_count": null,
   "metadata": {},
   "outputs": [],
   "source": []
  },
  {
   "cell_type": "code",
   "execution_count": 26,
   "metadata": {
    "scrolled": true
   },
   "outputs": [
    {
     "name": "stderr",
     "output_type": "stream",
     "text": [
      "C:\\Users\\Kasutaja\\Anaconda3\\envs\\myEnv\\lib\\site-packages\\tensorflow_core\\python\\framework\\indexed_slices.py:433: UserWarning: Converting sparse IndexedSlices to a dense Tensor of unknown shape. This may consume a large amount of memory.\n",
      "  \"Converting sparse IndexedSlices to a dense Tensor of unknown shape. \"\n"
     ]
    },
    {
     "name": "stdout",
     "output_type": "stream",
     "text": [
      "Train on 9822 samples, validate on 1092 samples\n",
      "Epoch 1/10\n",
      "9822/9822 [==============================] - 72s 7ms/step - loss: 0.0214 - acc: 0.9252 - val_loss: 0.0060 - val_acc: 0.9827\n",
      "Epoch 2/10\n",
      "9822/9822 [==============================] - 73s 7ms/step - loss: 0.0055 - acc: 0.9831 - val_loss: 0.0042 - val_acc: 0.9847\n",
      "Epoch 3/10\n",
      "9822/9822 [==============================] - 72s 7ms/step - loss: 0.0044 - acc: 0.9848 - val_loss: 0.0033 - val_acc: 0.9876\n",
      "Epoch 4/10\n",
      "9822/9822 [==============================] - 71s 7ms/step - loss: 0.0037 - acc: 0.9871 - val_loss: 0.0028 - val_acc: 0.9885\n",
      "Epoch 5/10\n",
      "9822/9822 [==============================] - 71s 7ms/step - loss: 0.0034 - acc: 0.9880 - val_loss: 0.0023 - val_acc: 0.9910\n",
      "Epoch 6/10\n",
      "9822/9822 [==============================] - 71s 7ms/step - loss: 0.0029 - acc: 0.9902 - val_loss: 0.0019 - val_acc: 0.9924\n",
      "Epoch 7/10\n",
      "9822/9822 [==============================] - 70s 7ms/step - loss: 0.0027 - acc: 0.9908 - val_loss: 0.0017 - val_acc: 0.9931\n",
      "Epoch 8/10\n",
      "9822/9822 [==============================] - 70s 7ms/step - loss: 0.0025 - acc: 0.9916 - val_loss: 0.0016 - val_acc: 0.9940\n",
      "Epoch 9/10\n",
      "9822/9822 [==============================] - 70s 7ms/step - loss: 0.0024 - acc: 0.9922 - val_loss: 0.0015 - val_acc: 0.9939\n",
      "Epoch 10/10\n",
      "9822/9822 [==============================] - 69s 7ms/step - loss: 0.0022 - acc: 0.9927 - val_loss: 0.0014 - val_acc: 0.9945\n"
     ]
    }
   ],
   "source": [
    "history = model.fit(np.array(X_char_tr).reshape((len(X_char_tr), max_len, max_len_char)),\n",
    "                    np.array(y_tr).reshape(len(y_tr), max_len, 1),\n",
    "                    batch_size=32, epochs=10, validation_split=0.1, verbose=1)\n"
   ]
  },
  {
   "cell_type": "code",
   "execution_count": 27,
   "metadata": {},
   "outputs": [],
   "source": [
    "hist = pd.DataFrame(history.history)\n"
   ]
  },
  {
   "cell_type": "code",
   "execution_count": 28,
   "metadata": {},
   "outputs": [
    {
     "data": {
      "image/png": "[encoded data removed]",
      "text/plain": [
       "<Figure size 864x864 with 1 Axes>"
      ]
     },
     "metadata": {},
     "output_type": "display_data"
    }
   ],
   "source": [
    "import matplotlib.pyplot as plt\n",
    "plt.style.use(\"ggplot\")\n",
    "plt.figure(figsize=(12,12))\n",
    "plt.plot(hist[\"acc\"])\n",
    "plt.plot(hist[\"val_acc\"])\n",
    "plt.show()\n"
   ]
  },
  {
   "cell_type": "code",
   "execution_count": 29,
   "metadata": {},
   "outputs": [],
   "source": [
    "y_pred = model.predict(\n",
    "                        np.array(X_char_te).reshape((len(X_char_te),\n",
    "                                                     max_len, max_len_char)))\n"
   ]
  },
  {
   "cell_type": "code",
   "execution_count": 74,
   "metadata": {},
   "outputs": [],
   "source": [
    "def charindx2word(Tword):\n",
    "    word = []\n",
    "    for i in range(len(Tword)):\n",
    "        if(Tword[i] !=0):\n",
    "            word.append(idx2char[Tword[i]])\n",
    "    return \"\".join(word)"
   ]
  },
  {
   "cell_type": "code",
   "execution_count": 31,
   "metadata": {},
   "outputs": [
    {
     "name": "stdout",
     "output_type": "stream",
     "text": [
      "Word           ||True ||Pred\n",
      "==============================\n",
      "Üldseisnud     : text  text\n",
      "rahuldav.S     : text  text\n",
      "regulaarne     : object text\n",
      "mm             : text  text\n",
      "Hg.Vesikul     : text  text\n",
      "hingamiska     : text  text\n",
      "pehme,valu     : text  text\n"
     ]
    }
   ],
   "source": [
    "i = 1000\n",
    "p = np.argmax(y_pred[i], axis=-1)\n",
    "print(\"{:15}||{:5}||{}\".format(\"Word\", \"True\", \"Pred\"))\n",
    "print(30 * \"=\")\n",
    "for w, t, pred in zip(X_char_te[i], y_te[i], p):\n",
    "    if t != 0: #PAD\n",
    "        print(\"{:15}: {:5} {}\".format(charindx2word(w), idx2tag[t], idx2tag[pred]))\n"
   ]
  },
  {
   "cell_type": "code",
   "execution_count": 32,
   "metadata": {},
   "outputs": [
    {
     "data": {
      "text/plain": [
       "2729"
      ]
     },
     "execution_count": 32,
     "metadata": {},
     "output_type": "execute_result"
    }
   ],
   "source": [
    "len(y_pred)"
   ]
  },
  {
   "cell_type": "markdown",
   "metadata": {},
   "source": [
    "### Wrong Tags\n"
   ]
  },
  {
   "cell_type": "code",
   "execution_count": 87,
   "metadata": {},
   "outputs": [
    {
     "name": "stdout",
     "output_type": "stream",
     "text": [
      "/106           : text  object\n",
      "90             : text  object\n",
      "ebaregulaa     : object text\n",
      "KORRAS.        : object text\n",
      "KOORMUSTES     : object text\n",
      "24-tunni       : object text\n",
      "Nõustamine     : object text\n",
      "=              : text  object\n",
      "kõikumised     : object text\n",
      "140-90mmhg     : object text\n",
      "130/82         : object text\n",
      "100            : text  object\n",
      "sööki-6,6m     : object text\n",
      "regulaarne     : object text\n",
      "178            : object text\n",
      "kaebusteta     : object text\n",
      "P185           : text  object\n",
      "regulaarne     : object text\n",
      "176/102        : text  object\n",
      "tarvitanud     : object text\n",
      "135/92//85     : text  object\n",
      "min.Pikkus     : object text\n",
      "189            : object text\n",
      "min.Pikkus     : object text\n",
      "189            : object text\n",
      "Kordusrets     : object text\n",
      "46cm,          : object text\n",
      "Analüüsid.     : object text\n",
      "184/88         : object text\n",
      "Analüüsid.     : object text\n",
      "184/88         : object text\n",
      "regulaarse     : object text\n",
      "181sm-100k     : text  object\n",
      "170            : object text\n",
      "138/82         : text  object\n",
      "142/88         : text  object\n",
      "sööki-4,3m     : object text\n",
      "P102           : text  object\n",
      "PR             : text  object\n",
      "P102           : text  object\n",
      "PR             : text  object\n",
      "rr140/100      : object text\n",
      "tuhmid,kah     : object text\n",
      "RR-monitoo     : object text\n",
      "P155           : text  object\n",
      "regulaarne     : object text\n",
      "90             : text  object\n",
      "145/80mmHg     : text  object\n",
      "98%,fr.93x     : object text\n",
      "140/90         : object text\n",
      "141/88         : text  object\n",
      "86x´,regul     : object text\n",
      "130/90         : object text\n",
      "Tervisekon     : object text\n",
      "162/110        : text  object\n",
      "min.Pikkus     : object text\n",
      "162            : object text\n",
      "min.Pikkus     : object text\n",
      "162            : object text\n",
      "õhupuudus,     : object text\n",
      "sääki-14,0     : object text\n",
      "167/115        : text  object\n",
      "cor:akts.r     : object text\n",
      "120/80mmhg     : object text\n",
      "regulaarne     : object text\n",
      "rr150/90       : object text\n",
      "regulaarne     : object text\n",
      "südamepeks     : object text\n",
      "173            : object text\n",
      "162            : object text\n",
      "kontrollil     : object text\n",
      "166/97         : object text\n",
      "rR             : text  object\n",
      "136/84         : text  object\n",
      "Analüüsid.     : object text\n",
      "P71            : text  object\n",
      "142104016      : text  object\n",
      "142104016      : text  object\n",
      "142104016      : text  object\n",
      "142104016      : text  object\n",
      "135/80         : text  object\n",
      "140            : object text\n",
      "Nõustamine     : object text\n",
      "138/96         : text  object\n",
      "rr100/60       : object text\n",
      "/100           : text  object\n",
      "rr170/100(     : object text\n",
      "24             : object text\n",
      "min.Pikkus     : object text\n",
      "170            : object text\n",
      "min.Pikkus     : object text\n",
      "170            : object text\n",
      "186/96         : text  object\n",
      "136/88<br      : text  object\n",
      "kompenseer     : object text\n",
      "100            : text  object\n",
      "100            : text  object\n",
      "124/78         : text  object\n",
      "pearinglus     : object text\n",
      "70/min.RR      : object text\n",
      "152/96         : text  object\n",
      "49cm.          : object text\n",
      "160/100mmH     : text  object\n",
      "PR             : text  object\n",
      "154ms.         : text  object\n",
      "170cm          : object text\n",
      "174            : object text\n",
      "tervisetõe     : object text\n",
      "13-101035-     : object text\n",
      "13-101035-     : object text\n",
      "13-101035-     : object text\n",
      "13-101035-     : object text\n",
      "13-101035-     : object text\n",
      "13-101035-     : object text\n",
      "13-101035-     : object text\n",
      "13-101035-     : object text\n",
      "sööki-6,3m     : object text\n",
      "156/86         : object text\n",
      "180            : object text\n",
      "Amb.m/õ,te     : object text\n",
      "id=\"0\"         : object text\n",
      "140            : object text\n",
      "Hba1c-7,0%     : object text\n",
      "112/60         : text  object\n",
      "kg.Pikkus      : object text\n",
      "163            : object text\n",
      "kg.Pikkus      : object text\n",
      "163            : object text\n",
      "kg.Pikkus      : object text\n",
      "163            : object text\n",
      "Pingepeava     : object text\n",
      "RRmonitoor     : object text\n",
      "110            : object text\n",
      "110            : object text\n",
      "110            : object text\n",
      "ebaregulaa     : object text\n",
      "regulaarne     : object text\n",
      "03.06.2010     : object text\n",
      "127            : object text\n",
      "uimnasust.     : object text\n",
      "140/85.Cor     : object text\n",
      "120x1          : object text\n",
      "120x1          : object text\n",
      "rr140/90       : object text\n",
      "160/25mg       : text  object\n",
      "1/2            : text  object\n",
      "AVR            : text  object\n",
      "130/80         : text  object\n",
      "Nõustamine     : object text\n",
      "144/78         : text  object\n",
      "=              : text  object\n",
      "reg.puhtad     : object text\n",
      "Turseteta.     : object text\n",
      "statiinrav     : object text\n",
      "transparen     : object text\n",
      "134/75mmHg     : text  object\n",
      "120kg          : object text\n",
      "RR-monitoo     : object text\n",
      "135/93         : object text\n",
      "Rmberg         : text  object\n",
      "*10.06.201     : object text\n",
      "RR-monitoo     : object text\n",
      "rägivad.Tu     : object text\n",
      "140/100        : text  object\n",
      "108/64         : text  object\n",
      "130/80         : text  object\n",
      "130/80         : text  object\n",
      "R120-82mmh     : text  object\n",
      "=              : text  object\n",
      "100            : text  object\n",
      "Ülekaaluli     : object text\n",
      "140/90         : text  object\n",
      "170/90         : text  object\n",
      "ujulast.Hb     : object text\n",
      "140/80         : text  object\n",
      "26.10.2015     : object text\n",
      "05.11.2015     : object text\n",
      "140/80         : text  object\n",
      "26.10.2015     : object text\n",
      "05.11.2015     : object text\n",
      "/106           : text  object\n",
      "90             : text  object\n",
      "meeleolula     : object text\n",
      "100/70,        : object text\n",
      "Hba1c-5,7%     : object text\n",
      "söönuna--1     : object text\n",
      "üldseisund     : object text\n",
      "120/70.        : object text\n",
      "120x           : object text\n",
      "p/s-12,5kg     : object text\n",
      "120,1          : object text\n",
      "*12.03.201     : object text\n",
      "24             : object text\n",
      "rr140/90       : object text\n",
      "149/80         : text  object\n",
      "155/105        : text  object\n",
      "145;           : object text\n",
      "regulaarne     : object text\n",
      "120,2kg        : object text\n",
      "162/90         : text  object\n",
      "134/98         : text  object\n",
      "100,eelnev     : object text\n"
     ]
    }
   ],
   "source": [
    "j = 0\n",
    "for i in range(len(y_pred)):\n",
    "    p = np.argmax(y_pred[i], axis=-1)\n",
    "#     print(\"{:15}||{:5}||{}\".format(\"Word\", \"True\", \"Pred\"))\n",
    "#     print(30 * \"=\")\n",
    "    for w, t, pred in zip(X_char_te[i], y_te[i], p):\n",
    "        if charindx2word(w) != \"\": #PAD\n",
    "            if idx2tag[t] != idx2tag[pred]:\n",
    "                print(\"{:15}: {:5} {}\".format(charindx2word(w), idx2tag[t], idx2tag[pred]))\n",
    "                j = j+1\n"
   ]
  },
  {
   "cell_type": "code",
   "execution_count": 88,
   "metadata": {},
   "outputs": [
    {
     "data": {
      "text/plain": [
       "202"
      ]
     },
     "execution_count": 88,
     "metadata": {},
     "output_type": "execute_result"
    }
   ],
   "source": [
    "j"
   ]
  },
  {
   "cell_type": "code",
   "execution_count": 104,
   "metadata": {},
   "outputs": [
    {
     "name": "stdout",
     "output_type": "stream",
     "text": [
      "Word           ||True ||Pred\n",
      "==============================\n",
      "01.11.2011     : text  text\n",
      "-              : text  text\n",
      "118            : text  text\n",
      "kg,164         : text  text\n",
      "cm,BMI         : text  text\n",
      "43,RR          : object object\n",
      "150/90         : object object\n",
      "mmHg,FR        : text  text\n",
      "~125           : text  text\n",
      "x´,ebaregu     : text  text\n",
      ".              : text  text\n"
     ]
    }
   ],
   "source": [
    "i = 1\n",
    "p = np.argmax(y_pred[i], axis=-1)\n",
    "print(\"{:15}||{:5}||{}\".format(\"Word\", \"True\", \"Pred\"))\n",
    "print(30 * \"=\")\n",
    "for w, t, pred in zip(X_char_te[i], y_te[i], p):\n",
    "    if t != 0: #PAD\n",
    "        print(\"{:15}: {:5} {}\".format(charindx2word(w), idx2tag[t], idx2tag[pred]))\n"
   ]
  },
  {
   "cell_type": "code",
   "execution_count": 102,
   "metadata": {},
   "outputs": [
    {
     "name": "stdout",
     "output_type": "stream",
     "text": [
      "F1-score: 89.5%\n",
      "           precision    recall  f1-score   support\n",
      "\n",
      "     text       0.96      0.89      0.92      4461\n",
      "   object       0.84      0.82      0.83      2104\n",
      "\n",
      "micro avg       0.92      0.87      0.89      6565\n",
      "macro avg       0.92      0.87      0.90      6565\n",
      "\n"
     ]
    }
   ],
   "source": [
    "from seqeval.metrics import accuracy_score, precision_score, recall_score, f1_score, classification_report\n",
    "\n",
    "def pred2label(pred):\n",
    "    out = []\n",
    "    for pred_i in pred:\n",
    "        out_i = []\n",
    "        for p in pred_i:\n",
    "            p_i = np.argmax(p)\n",
    "            out_i.append(idx2tag[p_i].replace(\"PAD\", \"text\"))\n",
    "        out.append(out_i)\n",
    "    return out\n",
    "\n",
    "def test2label(pred):\n",
    "    out = []\n",
    "    for pred_i in pred:\n",
    "        out_i = []\n",
    "        for p in pred_i:\n",
    "            out_i.append(idx2tag[p].replace(\"PAD\", \"text\"))\n",
    "        out.append(out_i)\n",
    "    return out\n",
    "\n",
    "pred_labels = pred2label(y_pred)\n",
    "test_labels = test2label(y_te)\n",
    "\n",
    "print(\"F1-score: {:.1%}\".format(f1_score(test_labels, pred_labels)))\n",
    "print(classification_report(test_labels, pred_labels))\n"
   ]
  },
  {
   "cell_type": "code",
   "execution_count": 50,
   "metadata": {},
   "outputs": [
    {
     "data": {
      "text/plain": [
       "0.9167240747526566"
      ]
     },
     "execution_count": 50,
     "metadata": {},
     "output_type": "execute_result"
    }
   ],
   "source": [
    "accuracy_score(test_labels, pred_labels)"
   ]
  },
  {
   "cell_type": "code",
   "execution_count": 58,
   "metadata": {},
   "outputs": [],
   "source": [
    "# from sklearn_crfsuite.metrics import flat_classification_report,flat_accuracy_score\n",
    "# report = flat_classification_report(y_pred=pred_labels, y_true=test_labels)\n",
    "# print(report)\n",
    "# print(\"Accuracy\",flat_accuracy_score(y_pred=pred_labels, y_true=test_labels))"
   ]
  }
 ],
 "metadata": {
  "kernelspec": {
   "display_name": "Python 3",
   "language": "python",
   "name": "python3"
  },
  "language_info": {
   "codemirror_mode": {
    "name": "ipython",
    "version": 3
   },
   "file_extension": ".py",
   "mimetype": "text/x-python",
   "name": "python",
   "nbconvert_exporter": "python",
   "pygments_lexer": "ipython3",
   "version": "3.7.6"
  }
 },
 "nbformat": 4,
 "nbformat_minor": 4
}
