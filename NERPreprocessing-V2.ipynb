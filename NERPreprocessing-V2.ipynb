{
 "cells": [
  {
   "cell_type": "code",
   "execution_count": 1,
   "metadata": {},
   "outputs": [],
   "source": [
    "import csv\n",
    "import numpy as np\n",
    "import pandas as pd\n",
    "import future"
   ]
  },
  {
   "cell_type": "code",
   "execution_count": 2,
   "metadata": {},
   "outputs": [],
   "source": [
    "DS = pd.read_csv(\"DataAnnotated.csv\")"
   ]
  },
  {
   "cell_type": "code",
   "execution_count": 3,
   "metadata": {},
   "outputs": [],
   "source": [
    "DS['NewTag'].fillna('unk', inplace=True)"
   ]
  },
  {
   "cell_type": "code",
   "execution_count": 4,
   "metadata": {},
   "outputs": [],
   "source": [
    "data = DS[['text_ID','word','NewTag']]\n",
    "data.columns = ['sentence_idx','word','tag']"
   ]
  },
  {
   "cell_type": "code",
   "execution_count": 5,
   "metadata": {},
   "outputs": [],
   "source": [
    "class SentenceGetter(object):\n",
    "    \n",
    "    def __init__(self, dataset):\n",
    "        self.n_sent = 1\n",
    "        self.dataset = dataset\n",
    "        self.empty = False\n",
    "        agg_func = lambda s: [(w, t) for w,t in zip(s[\"word\"].values.tolist(),\n",
    "                                                        s[\"tag\"].values.tolist())]\n",
    "        self.grouped = self.dataset.groupby(\"sentence_idx\").apply(agg_func)\n",
    "        self.sentences = [s for s in self.grouped]\n",
    "    \n",
    "    def get_next(self):\n",
    "        try:\n",
    "            s = self.grouped[\"Sentence: {}\".format(self.n_sent)]\n",
    "            self.n_sent += 1\n",
    "            return s\n",
    "        except:\n",
    "            return None"
   ]
  },
  {
   "cell_type": "code",
   "execution_count": 6,
   "metadata": {},
   "outputs": [],
   "source": [
    "getter = SentenceGetter(data)\n",
    "sentences = getter.sentences"
   ]
  },
  {
   "cell_type": "code",
   "execution_count": 7,
   "metadata": {},
   "outputs": [
    {
     "name": "stdout",
     "output_type": "stream",
     "text": [
      "[[('Kuupäev:', 'unk'), ('14.08.2012', 'unk'), ('09:01', 'unk'), ('Kood', 'unk'), ('ja', 'unk'), ('nimetus:', 'unk'), ('7903', 'unk'), ('Röntgeniülesvõte', 'unk'), ('rindkere', 'unk'), ('piirkonnast', 'unk'), ('(üks', 'unk'), ('ülesvõte)', 'unk'), ('Põhjendus:', 'unk'), ('.', 'unk'), ('Kirjeldus:', 'unk'), ('Diafragmad', 'unk'), ('selgekontuursed,', 'unk'), ('VII', 'unk'), ('roide', 'unk'), ('kõrgusel,', 'unk'), ('siinused', 'unk'), ('vabad.', 'unk'), ('Kopsutipud', 'unk'), ('puhtad.', 'unk'), ('Hiilused', 'unk'), ('struktuuritud,', 'unk'), ('laienenud,', 'unk'), ('joonis', 'unk'), ('alaväljadel', 'unk'), ('rohkenenud.', 'unk'), ('Kopsuväljades', 'unk'), ('koldelisi', 'unk'), ('ega', 'unk'), ('infiltratiivseid', 'unk'), ('muutuseid', 'unk'), ('ei', 'unk'), ('näe.', 'unk'), ('Südamevari', 'unk'), ('ealine.', 'unk'), ('Kuupäev:', 'unk'), ('22.08.2012', 'unk'), ('16:34', 'unk'), ('Kood', 'unk'), ('ja', 'unk'), ('nimetus:', 'unk'), ('6340', 'unk'), ('Täismahus', 'unk'), ('ehhokardiograafia', 'unk'), ('Põhjendus:', 'unk'), ('S-B', 'unk'), ('Kirjeldus:', 'unk'), ('Study', 'unk'), ('ID:', 'unk'), ('6035', 'unk'), ('Nimi:', 'unk'), ('<ANONYM', 'unk'), ('id=\"0\"', 'unk'), ('type=\"per\"', 'unk'), ('morph=\"_H_', 'unk'), ('sg', 'unk'), ('n\"/>,', 'unk'), ('<ANONYM', 'unk'), ('id=\"1\"', 'unk'), ('type=\"per\"', 'unk'), ('morph=\"_H_', 'unk'), ('sg', 'unk'), ('g\"/>', 'unk'), ('Uuringu', 'unk'), ('kuupäev:', 'unk'), ('22.08.2012', 'unk'), ('15:09', 'unk'), ('Isikukood:', 'unk'), ('<ANONYM', 'unk'), ('id=\"2\"', 'unk'), ('type=\"ssn\"', 'unk'), ('/>', 'unk'), ('Sünniaeg:', 'unk'), ('ANONYMDATEOFBIRTH', 'unk'), ('(d.MM.yyyy)', 'unk'), ('Sugu:', 'unk'), ('Female', 'unk'), ('Pikkus:', 'object'), ('157', 'value'), ('cm', 'unk'), ('Vanus:', 'unk'), ('82', 'unk'), ('yrs', 'unk'), ('Kaal:', 'unk'), ('101', 'unk'), ('kg', 'unk'), ('BSA:', 'unk'), ('2,0', 'unk'), ('meters2', 'unk'), ('Diagnoos:', 'unk'), ('Fibrillatio', 'unk'), ('atriorum.', 'unk'), ('Kokkuvõte', 'unk'), ('Nähtavus', 'unk'), ('suboptimaalne.', 'unk'), ('Vasaku', 'unk'), ('vatsakese', 'unk'), ('keskmine', 'unk'), ('hüpertroofia,', 'unk'), ('õõne', 'unk'), ('mõõtmed', 'unk'), ('normis,', 'unk'), ('üldine', 'unk'), ('hüpokinees', 'unk'), ('ja', 'unk'), ('süstoolse', 'unk'), ('funktsiooni', 'unk'), ('keskmise', 'unk'), ('raskusega', 'unk'), ('langus', 'unk'), ('(EF', 'unk'), ('BP', 'unk'), ('36%),', 'unk'), ('diastoolne', 'unk'), ('funktsioon', 'unk'), ('ei', 'unk'), ('ole', 'unk'), ('hinnatav.', 'unk'), ('Parema', 'unk'), ('vatsakese', 'unk'), ('mõõtmed', 'unk'), ('ja', 'unk'), ('süstoolne', 'unk'), ('funktsioon', 'unk'), ('normis', 'unk'), ('(TAPSE', 'unk'), ('2,6', 'unk'), ('cm).', 'unk'), ('Kodade', 'unk'), ('kerge', 'unk'), ('dilatatsioon.', 'unk'), ('mahu', 'unk'), ('ja', 'unk'), ('keha', 'unk'), ('pindala', 'unk'), ('järgi', 'unk'), ('arvestades', 'unk'), ('(vasaku', 'unk'), ('koja', 'unk'), ('maht', 'unk'), ('65', 'unk'), ('ml,', 'unk'), ('33', 'unk'), ('ml/m2).', 'unk'), ('Aordiklapi', 'unk'), ('struktuur', 'unk'), ('ja', 'unk'), ('funktsioon', 'unk'), ('normis.', 'unk'), ('Mitraalklapi', 'unk'), ('struktuur', 'unk'), ('normis,', 'unk'), ('minimaalne', 'unk'), ('regurgitatsioon.', 'unk'), ('Trikuspidaalklapi', 'unk'), ('struktuur', 'unk'), ('normis,', 'unk'), ('keskmine', 'unk'), ('regurgitatsioon.', 'unk'), ('Kopsuringe', 'unk'), ('rõhu', 'unk'), ('kerge', 'unk'), ('tõus.', 'unk'), ('Vähene', 'unk'), ('vedelik', 'unk'), ('perikardiõõnes', 'unk'), ('(~0,4', 'unk'), ('cm', 'unk'), ('vasaku', 'unk'), ('vatsakese', 'unk'), ('tagaseina', 'unk'), ('piirkonnas', 'unk'), ('diastolis).', 'unk'), ('Tahhüfrekventne', 'unk'), ('kodade', 'unk'), ('virvendus.', 'unk'), ('MMode/2D', 'unk'), ('Mõõtmised', 'unk'), ('ja', 'unk'), ('arvutused', 'unk'), ('RVDd:', 'unk'), ('2,9', 'unk'), ('cm', 'unk'), ('IVSd:', 'unk'), ('1,4', 'unk'), ('cm', 'unk'), ('IVSs:', 'unk'), ('1,9', 'unk'), ('cm', 'unk'), ('LVIDd:', 'unk'), ('4,1', 'unk'), ('cm', 'unk'), ('LVIDs:', 'unk'), ('3,4', 'unk'), ('cm', 'unk'), ('LVPWd:', 'unk'), ('1,3', 'unk'), ('cm', 'unk'), ('LVPWs:', 'unk'), ('1,4', 'unk'), ('cm', 'unk'), ('FS:', 'unk'), ('16,7', 'unk'), ('%', 'unk'), ('EF(Teich):', 'unk'), ('35,5', 'unk'), ('%', 'unk'), ('Ao', 'unk'), ('root', 'unk'), ('diam:', 'unk'), ('3,6', 'unk'), ('cm', 'unk'), ('LA', 'unk'), ('dimension:', 'unk'), ('4,1', 'unk'), ('cm', 'unk'), ('--------------------------------------------------------------------------------', 'unk'), ('asc', 'unk'), ('Aorta', 'unk'), ('Diam:', 'unk'), ('3,5', 'unk'), ('cm', 'unk'), ('LVOT', 'unk'), ('diam:', 'unk'), ('2,2', 'unk'), ('cm', 'unk'), ('LAs', 'unk'), ('major:', 'unk'), ('5,5', 'unk'), ('cm', 'unk'), ('LAs', 'unk'), ('minor:', 'unk'), ('4,0', 'unk'), ('cm', 'unk'), ('RAs', 'unk'), ('major:', 'unk'), ('5,6', 'unk'), ('cm', 'unk'), ('RAs', 'unk'), ('minor:', 'unk'), ('3,9', 'unk'), ('cm', 'unk'), ('--------------------------------------------------------------------------------', 'unk'), ('EDV(MOD-sp4):', 'unk'), ('70,0', 'unk'), ('ml', 'unk'), ('ESV(MOD-sp4):', 'unk'), ('43,0', 'unk'), ('ml', 'unk'), ('EF(MOD-sp4):', 'unk'), ('38,6', 'unk'), ('%', 'unk'), ('EDV(MOD-sp2):', 'unk'), ('70,0', 'unk'), ('ml', 'unk'), ('ESV(MOD-sp2):', 'unk'), ('38,0', 'unk'), ('ml', 'unk'), ('EF(MOD-sp2):', 'unk'), ('45,7', 'unk'), ('%', 'unk'), ('CO(MOD-sp4):', 'unk'), ('3,7', 'unk'), ('l/min', 'unk'), ('CI(MOD-sp4):', 'unk'), ('1,9', 'unk'), ('l/min/m2', 'unk'), ('SV(MOD-sp4):', 'unk'), ('27,0', 'unk'), ('ml', 'unk'), ('CO(MOD-sp2):', 'unk'), ('4,4', 'unk'), ('l/min', 'unk'), ('CI(MOD-sp2):', 'unk'), ('2,2', 'unk'), ('l/min/m2', 'unk'), ('SV(MOD-sp2):', 'unk'), ('32,0', 'unk'), ('ml', 'unk'), ('Aja', 'unk'), ('mõõtmised', 'unk'), ('Aortic', 'unk'), ('HR:', 'unk'), ('113,0', 'unk'), ('BPM', 'unk'), ('MM', 'unk'), ('HR:', 'unk'), ('138,0', 'unk'), ('BPM', 'unk'), ('Doppleri', 'unk'), ('mõõtmised', 'unk'), ('ja', 'unk'), ('arvutused', 'unk'), ('E/Med', 'unk'), (\"E':\", 'unk'), ('15,0', 'unk'), ('Med', 'unk'), (\"E'\", 'unk'), ('Vel:', 'unk'), ('5,8', 'unk'), ('cm/sec', 'unk'), ('MV', 'unk'), ('E', 'unk'), ('max', 'unk'), ('vel:', 'unk'), ('87,9', 'unk'), ('cm/sec', 'unk'), ('MV', 'unk'), ('dec', 'unk'), ('time:', 'unk'), ('0,09', 'unk'), ('sec', 'unk'), ('--------------------------------------------------------------------------------', 'unk'), ('Ao', 'unk'), ('V2', 'unk'), ('max:', 'unk'), ('97,0', 'unk'), ('cm/sec', 'unk'), ('Ao', 'unk'), ('max', 'unk'), ('PG:', 'unk'), ('3,8', 'unk'), ('mmHg', 'unk'), ('Ao', 'unk'), ('V2', 'unk'), ('mean:', 'unk'), ('58,8', 'unk'), ('cm/sec', 'unk'), ('Ao', 'unk'), ('mean', 'unk'), ('PG:', 'unk'), ('2,0', 'unk'), ('mmHg', 'unk'), ('Ao', 'unk'), ('V2', 'unk'), ('VTI:', 'unk'), ('12,6', 'unk'), ('cm', 'unk'), ('AVA(I,D):', 'unk'), ('4,2', 'unk'), ('cm2', 'unk'), ('AVA(V,D):', 'unk'), ('3,0', 'unk'), ('cm2', 'unk'), ('LV', 'unk'), ('V1', 'unk'), ('max', 'unk'), ('PG:', 'unk'), ('2,4', 'unk'), ('mmHg', 'unk'), ('LV', 'unk'), ('V1', 'unk'), ('mean', 'unk'), ('PG:', 'unk'), ('1,0', 'unk'), ('mmHg', 'unk'), ('LV', 'unk'), ('V1', 'unk'), ('max:', 'unk'), ('77,5', 'unk'), ('cm/sec', 'unk'), ('LV', 'unk'), ('V1', 'unk'), ('mean:', 'unk'), ('46,1', 'unk'), ('cm/sec', 'unk'), ('LV', 'unk'), ('V1', 'unk'), ('VTI:', 'unk'), ('13,8', 'unk'), ('cm', 'unk'), ('CO(LVOT):', 'unk'), ('5,9', 'unk'), ('l/min', 'unk'), ('CI(LVOT):', 'unk'), ('3,0', 'unk'), ('l/min/m2', 'unk'), ('SV(LVOT):', 'unk'), ('52,5', 'unk'), ('ml', 'unk'), ('TV', 'unk'), ('V2', 'unk'), ('max:', 'unk'), ('70,0', 'unk'), ('cm/sec', 'unk'), ('TV', 'unk'), ('max', 'unk'), ('PG:', 'unk'), ('2,0', 'unk'), ('mmHg', 'unk'), ('--------------------------------------------------------------------------------', 'unk'), ('TR', 'unk'), ('max', 'unk'), ('vel:', 'unk'), ('288,0', 'unk'), ('cm/sec', 'unk'), ('TR', 'unk'), ('max', 'unk'), ('PG:', 'unk'), ('33,2', 'unk'), ('mmHg', 'unk'), ('RVSP(TR):', 'unk'), ('48,2', 'unk'), ('mmHg', 'unk'), ('IVC', 'unk'), ('diam:', 'unk'), ('2,6', 'unk'), ('cm', 'unk'), ('RAP', 'unk'), ('systole:', 'unk'), ('15,0', 'unk'), ('mmHg', 'unk'), ('--------------------------------------------------------------------------------', 'unk'), ('Uuringu', 'unk'), ('tegi:', 'unk'), ('XCELERA107027\\\\vaike', 'unk'), ('22.08.2012', 'unk'), ('16:06', 'unk'), ('Suunav', 'unk'), ('arst:', 'unk'), ('<ANONYM', 'unk'), ('id=\"3\"', 'unk'), ('type=\"per\"', 'unk'), ('morph=\"_H_', 'unk'), ('sg', 'unk'), ('n\"/>,', 'unk'), ('<ANONYM', 'unk'), ('id=\"4\"', 'unk'), ('type=\"per\"', 'unk'), ('morph=\"_H_', 'unk'), ('sg', 'unk'), ('n\"/>', 'unk'), ('(D04862)', 'unk'), ('Teostaja', 'unk'), ('arst:', 'unk'), ('<ANONYM', 'unk'), ('id=\"5\"', 'unk'), ('type=\"per\"', 'unk'), ('morph=\"_H_', 'unk'), ('sg', 'unk'), ('n\"/>,', 'unk'), ('<ANONYM', 'unk'), ('id=\"6\"', 'unk'), ('type=\"per\"', 'unk'), ('morph=\"_H_', 'unk'), ('sg', 'unk'), ('n\"/>', 'unk'), ('(D02175)', 'unk'), ('Järeldus:', 'unk'), ('.', 'unk'), ('Kuupäev:', 'unk'), ('29.08.2012', 'unk'), ('10:03', 'unk'), ('Kood', 'unk'), ('ja', 'unk'), ('nimetus:', 'unk'), ('7953', 'unk'), ('Kõhu-', 'unk'), ('ja', 'unk'), ('vaagnapiirkonna', 'unk'), ('ultraheliuuring', 'unk'), ('Põhjendus:', 'unk'), ('VIB', 'unk'), ('KÕHT', 'unk'), ('Kirjeldus:', 'unk'), ('Maksa', 'unk'), ('paremas', 'unk'), ('sagaras', 'unk'), ('tsüst', 'unk'), ('¤', 'unk'), ('3,6', 'unk'), ('cm,', 'unk'), ('maksas', 'unk'), ('rasvionvolutiivsed', 'unk'), ('muutused,', 'unk'), ('maksa', 'unk'), ('veenid', 'unk'), ('mõõdukalt', 'unk'), ('laienenud,', 'unk'), ('maksasisesed', 'unk'), ('sapiteed', 'unk'), ('laienenud', 'unk'), ('ei', 'unk'), ('ole.', 'unk'), ('Sapipõie', 'unk'), ('sisaldis', 'unk'), ('ühtlane,', 'unk'), ('sein', 'unk'), ('paksenemiseta.', 'unk'), ('Pankreas', 'unk'), ('mahuliste', 'unk'), ('muutusteta.', 'unk'), ('Neerud', 'unk'), ('külgühtlased,', 'unk'), ('vaagnad', 'unk'), ('paisuta.', 'unk'), ('Põrn', 'unk'), ('ii.', 'unk'), ('Kusepõis', 'unk'), ('vähetäitunud,', 'unk'), ('seinad', 'unk'), ('siledad.', 'unk'), ('Kuupäev:', 'unk'), ('30.08.2012', 'unk'), ('14:05', 'unk'), ('Kood', 'unk'), ('ja', 'unk'), ('nimetus:', 'unk'), ('6301', 'unk'), ('Spirograafia', 'unk'), ('Põhjendus:', 'unk'), ('VIB9', 'unk'), ('Kirjeldus:', 'unk'), ('Kuupäev:', 'unk'), ('30.08.2012', 'unk'), ('14:05', 'unk'), ('Kood', 'unk'), ('ja', 'unk'), ('nimetus:', 'unk'), ('6302', 'unk'), ('Bronhodilataatortest', 'unk'), ('Põhjendus:', 'unk'), ('VIB9', 'unk'), ('Kirjeldus:', 'unk'), ('Kuupäev:', 'unk'), ('04.09.2012', 'unk'), ('15:33', 'unk'), ('Kood', 'unk'), ('ja', 'unk'), ('nimetus:', 'unk'), ('7903', 'unk'), ('Röntgeniülesvõte', 'unk'), ('rindkere', 'unk'), ('piirkonnast', 'unk'), ('(üks', 'unk'), ('ülesvõte)', 'unk'), ('Põhjendus:', 'unk'), ('6b', 'unk'), ('Kirjeldus:', 'unk'), ('Kopsud', 'unk'), ('koldeliste', 'unk'), ('ja', 'unk'), ('infiltratiivsete', 'unk'), ('muutusteta.', 'unk'), ('Südame', 'unk'), ('ristimõõt', 'unk'), ('on', 'unk'), ('suurenenud', 'unk'), ('vasakule,', 'unk'), ('aort', 'unk'), ('pikenenud,', 'unk'), ('tihenenud.', 'unk')]]\n"
     ]
    }
   ],
   "source": [
    "print(sentences[1:2])\n"
   ]
  },
  {
   "cell_type": "code",
   "execution_count": 8,
   "metadata": {},
   "outputs": [],
   "source": [
    "from math import nan\n",
    "\n",
    "words = list(set(data[\"word\"].values))\n",
    "n_words = len(words)\n",
    "\n",
    "tags = []\n",
    "for tag in set(data[\"tag\"].values):\n",
    "    if tag is nan or isinstance(tag, float):\n",
    "        tags.append('unk')\n",
    "    else:\n",
    "        tags.append(tag)\n",
    "n_tags = len(tags)\n",
    "\n",
    "from future.utils import iteritems\n",
    "\n",
    "word2idx = {w: i for i, w in enumerate(words)}\n",
    "tag2idx = {t: i for i, t in enumerate(tags)}\n",
    "idx2tag = {v: k for k, v in iteritems(tag2idx)}"
   ]
  },
  {
   "cell_type": "code",
   "execution_count": 9,
   "metadata": {},
   "outputs": [
    {
     "data": {
      "text/plain": [
       "19352"
      ]
     },
     "execution_count": 9,
     "metadata": {},
     "output_type": "execute_result"
    }
   ],
   "source": [
    "len(words)"
   ]
  },
  {
   "cell_type": "code",
   "execution_count": 24,
   "metadata": {},
   "outputs": [
    {
     "data": {
      "text/plain": [
       "3206"
      ]
     },
     "execution_count": 24,
     "metadata": {},
     "output_type": "execute_result"
    }
   ],
   "source": [
    "max([len(s) for s in sentences])\n"
   ]
  },
  {
   "cell_type": "code",
   "execution_count": 28,
   "metadata": {},
   "outputs": [],
   "source": [
    "from keras.preprocessing.sequence import pad_sequences\n",
    "from keras.utils import to_categorical\n",
    "from sklearn.model_selection import train_test_split\n",
    "\n",
    "# maxlen = max([len(s) for s in sentences])\n",
    "maxlen = 500\n",
    "X = [[word2idx[w[0]] for w in s] for s in sentences]\n",
    "X = pad_sequences(maxlen=maxlen, sequences=X, padding=\"post\",value=n_words - 1)\n",
    "\n",
    "y = [[tag2idx[w[1]] for w in s] for s in sentences]\n",
    "y = pad_sequences(maxlen=maxlen, sequences=y, padding=\"post\", value=tag2idx[\"unk\"])\n",
    "y = [to_categorical(i, num_classes=n_tags) for i in y]\n",
    "\n",
    "# Split train and test data\n",
    "X_train, X_test, y_train, y_test = train_test_split(X, y, test_size=0.2)"
   ]
  },
  {
   "cell_type": "code",
   "execution_count": 29,
   "metadata": {},
   "outputs": [],
   "source": [
    "from keras.models import Model, Input\n",
    "from keras.layers import LSTM, Embedding, Dense, TimeDistributed, Dropout, Bidirectional\n",
    "import keras as k\n",
    "from keras_contrib.layers import CRF\n",
    "\n",
    "input = Input(shape=(maxlen,))\n",
    "word_embedding_size = 150\n",
    "\n",
    "# Embedding Layer\n",
    "model = Embedding(input_dim=n_words, output_dim=word_embedding_size, input_length=maxlen)(input)\n",
    "\n",
    "# BI-LSTM Layer\n",
    "model = Bidirectional(LSTM(units=word_embedding_size, \n",
    "                           return_sequences=True, \n",
    "                           dropout=0.5, \n",
    "                           recurrent_dropout=0.5, \n",
    "                           kernel_initializer=k.initializers.he_normal()))(model)\n",
    "model = LSTM(units=word_embedding_size * 2, \n",
    "             return_sequences=True, \n",
    "             dropout=0.5, \n",
    "             recurrent_dropout=0.5, \n",
    "             kernel_initializer=k.initializers.he_normal())(model)\n",
    "\n",
    "# TimeDistributed Layer\n",
    "model = TimeDistributed(Dense(n_tags, activation=\"relu\"))(model)  \n",
    "\n",
    "# CRF Layer\n",
    "crf = CRF(n_tags)\n",
    "\n",
    "out = crf(model)  # output\n",
    "model = Model(input, out)"
   ]
  },
  {
   "cell_type": "code",
   "execution_count": 30,
   "metadata": {},
   "outputs": [
    {
     "name": "stderr",
     "output_type": "stream",
     "text": [
      "C:\\Users\\Kasutaja\\Anaconda3\\envs\\myEnv\\lib\\site-packages\\keras_contrib-2.0.8-py3.7.egg\\keras_contrib\\layers\\crf.py:346: UserWarning: CRF.loss_function is deprecated and it might be removed in the future. Please use losses.crf_loss instead.\n",
      "C:\\Users\\Kasutaja\\Anaconda3\\envs\\myEnv\\lib\\site-packages\\keras_contrib-2.0.8-py3.7.egg\\keras_contrib\\layers\\crf.py:353: UserWarning: CRF.accuracy is deprecated and it might be removed in the future. Please use metrics.crf_accuracy\n"
     ]
    },
    {
     "name": "stdout",
     "output_type": "stream",
     "text": [
      "Model: \"model_4\"\n",
      "_________________________________________________________________\n",
      "Layer (type)                 Output Shape              Param #   \n",
      "=================================================================\n",
      "input_4 (InputLayer)         (None, 500)               0         \n",
      "_________________________________________________________________\n",
      "embedding_4 (Embedding)      (None, 500, 150)          2902800   \n",
      "_________________________________________________________________\n",
      "bidirectional_4 (Bidirection (None, 500, 300)          361200    \n",
      "_________________________________________________________________\n",
      "lstm_8 (LSTM)                (None, 500, 300)          721200    \n",
      "_________________________________________________________________\n",
      "time_distributed_4 (TimeDist (None, 500, 3)            903       \n",
      "_________________________________________________________________\n",
      "crf_4 (CRF)                  (None, 500, 3)            27        \n",
      "=================================================================\n",
      "Total params: 3,986,130\n",
      "Trainable params: 3,986,130\n",
      "Non-trainable params: 0\n",
      "_________________________________________________________________\n"
     ]
    },
    {
     "name": "stderr",
     "output_type": "stream",
     "text": [
      "C:\\Users\\Kasutaja\\Anaconda3\\envs\\myEnv\\lib\\site-packages\\tensorflow_core\\python\\framework\\indexed_slices.py:433: UserWarning: Converting sparse IndexedSlices to a dense Tensor of unknown shape. This may consume a large amount of memory.\n",
      "  \"Converting sparse IndexedSlices to a dense Tensor of unknown shape. \"\n"
     ]
    },
    {
     "name": "stdout",
     "output_type": "stream",
     "text": [
      "Train on 356 samples, validate on 40 samples\n",
      "Epoch 1/10\n",
      "356/356 [==============================] - 84s 235ms/step - loss: 0.4503 - crf_viterbi_accuracy: 0.8597 - accuracy: 0.0018 - val_loss: 0.2872 - val_crf_viterbi_accuracy: 0.9966 - val_accuracy: 0.9966\n",
      "\n",
      "Epoch 00001: val_accuracy improved from -inf to 0.99665, saving model to ner-bi-lstm-td-model-1.00.hdf5\n",
      "Epoch 2/10\n",
      "356/356 [==============================] - 80s 225ms/step - loss: 0.2773 - crf_viterbi_accuracy: 0.9950 - accuracy: 0.0018 - val_loss: 0.1968 - val_crf_viterbi_accuracy: 0.9966 - val_accuracy: 0.9966\n",
      "\n",
      "Epoch 00002: val_accuracy did not improve from 0.99665\n",
      "Epoch 3/10\n",
      "356/356 [==============================] - 82s 230ms/step - loss: 0.1898 - crf_viterbi_accuracy: 0.9955 - accuracy: 0.0018 - val_loss: 0.1244 - val_crf_viterbi_accuracy: 0.9966 - val_accuracy: 0.9966\n",
      "\n",
      "Epoch 00003: val_accuracy did not improve from 0.99665\n",
      "Epoch 4/10\n",
      "356/356 [==============================] - 86s 242ms/step - loss: 0.1245 - crf_viterbi_accuracy: 0.9957 - accuracy: 0.0018 - val_loss: 0.0680 - val_crf_viterbi_accuracy: 0.9966 - val_accuracy: 0.9966\n",
      "\n",
      "Epoch 00004: val_accuracy did not improve from 0.99665\n",
      "Epoch 5/10\n",
      "356/356 [==============================] - 85s 239ms/step - loss: 0.0732 - crf_viterbi_accuracy: 0.9959 - accuracy: 0.0018 - val_loss: 0.0409 - val_crf_viterbi_accuracy: 0.9966 - val_accuracy: 0.9966\n",
      "\n",
      "Epoch 00005: val_accuracy did not improve from 0.99665\n",
      "Epoch 6/10\n",
      "356/356 [==============================] - 88s 246ms/step - loss: 0.0504 - crf_viterbi_accuracy: 0.9958 - accuracy: 0.0018 - val_loss: 0.0398 - val_crf_viterbi_accuracy: 0.9966 - val_accuracy: 0.9966\n",
      "\n",
      "Epoch 00006: val_accuracy did not improve from 0.99665\n",
      "Epoch 7/10\n",
      "356/356 [==============================] - 88s 249ms/step - loss: 0.0461 - crf_viterbi_accuracy: 0.9960 - accuracy: 0.0018 - val_loss: 0.0408 - val_crf_viterbi_accuracy: 0.9966 - val_accuracy: 0.9966\n",
      "\n",
      "Epoch 00007: val_accuracy did not improve from 0.99665\n",
      "Epoch 8/10\n",
      "356/356 [==============================] - 86s 241ms/step - loss: 0.0471 - crf_viterbi_accuracy: 0.9956 - accuracy: 0.0018 - val_loss: 0.0415 - val_crf_viterbi_accuracy: 0.9966 - val_accuracy: 0.9966\n",
      "\n",
      "Epoch 00008: val_accuracy did not improve from 0.99665\n",
      "Epoch 9/10\n",
      "356/356 [==============================] - 89s 249ms/step - loss: 0.0482 - crf_viterbi_accuracy: 0.9958 - accuracy: 0.0018 - val_loss: 0.0416 - val_crf_viterbi_accuracy: 0.9966 - val_accuracy: 0.9966\n",
      "\n",
      "Epoch 00009: val_accuracy did not improve from 0.99665\n",
      "Epoch 10/10\n",
      "356/356 [==============================] - 90s 252ms/step - loss: 0.0488 - crf_viterbi_accuracy: 0.9956 - accuracy: 0.0018 - val_loss: 0.0412 - val_crf_viterbi_accuracy: 0.9966 - val_accuracy: 0.9966\n",
      "\n",
      "Epoch 00010: val_accuracy did not improve from 0.99665\n"
     ]
    }
   ],
   "source": [
    "from keras.callbacks import ModelCheckpoint\n",
    "import matplotlib.pyplot as plt\n",
    "\n",
    "#Optimiser \n",
    "adam = k.optimizers.Adam(lr=0.0005, beta_1=0.9, beta_2=0.999)\n",
    "\n",
    "# Compile model\n",
    "model.compile(optimizer=adam, loss=crf.loss_function, metrics=[crf.accuracy, 'accuracy'])\n",
    "\n",
    "model.summary()\n",
    "\n",
    "# Saving the best model only\n",
    "filepath=\"ner-bi-lstm-td-model-{val_accuracy:.2f}.hdf5\"\n",
    "checkpoint = ModelCheckpoint(filepath, monitor='val_accuracy', verbose=1, save_best_only=True, mode='max')\n",
    "callbacks_list = [checkpoint]\n",
    "\n",
    "# Fit the best model\n",
    "history = model.fit(X_train, np.array(y_train), batch_size=256, epochs=10, validation_split=0.1, verbose=1, callbacks=callbacks_list)"
   ]
  },
  {
   "cell_type": "code",
   "execution_count": 31,
   "metadata": {},
   "outputs": [
    {
     "data": {
      "image/png": "[encoded data removed]",
      "text/plain": [
       "<Figure size 864x360 with 2 Axes>"
      ]
     },
     "metadata": {},
     "output_type": "display_data"
    }
   ],
   "source": [
    "# Plot the graph \n",
    "plt.style.use('ggplot')\n",
    "\n",
    "def plot_history(history):\n",
    "    accuracy = history.history['accuracy']\n",
    "    val_accuracy = history.history['val_accuracy']\n",
    "    loss = history.history['loss']\n",
    "    val_loss = history.history['val_loss']\n",
    "    x = range(1, len(accuracy) + 1)\n",
    "\n",
    "    plt.figure(figsize=(12, 5))\n",
    "    plt.subplot(1, 2, 1)\n",
    "    plt.plot(x, accuracy, 'b', label='Training acc')\n",
    "    plt.plot(x, val_accuracy, 'r', label='Validation acc')\n",
    "    plt.title('Training and validation accuracy')\n",
    "    plt.legend()\n",
    "    plt.subplot(1, 2, 2)\n",
    "    plt.plot(x, loss, 'b', label='Training loss')\n",
    "    plt.plot(x, val_loss, 'r', label='Validation loss')\n",
    "    plt.title('Training and validation loss')\n",
    "    plt.legend()\n",
    "\n",
    "plot_history(history)\n"
   ]
  },
  {
   "cell_type": "code",
   "execution_count": 32,
   "metadata": {},
   "outputs": [
    {
     "name": "stdout",
     "output_type": "stream",
     "text": [
      "99/99 [==============================] - 5s 51ms/step\n"
     ]
    }
   ],
   "source": [
    "def pred2label(pred):\n",
    "    out = []\n",
    "    for pred_i in pred:\n",
    "        out_i = []\n",
    "        for p in pred_i:\n",
    "            p_i = np.argmax(p)\n",
    "            out_i.append(idx2tag[p_i])\n",
    "        out.append(out_i)\n",
    "    return out\n",
    "test_pred = model.predict(X_test, verbose=1)   \n",
    "pred_labels = pred2label(test_pred)\n",
    "test_labels = pred2label(y_test)"
   ]
  },
  {
   "cell_type": "code",
   "execution_count": 33,
   "metadata": {},
   "outputs": [
    {
     "name": "stdout",
     "output_type": "stream",
     "text": [
      "F1-score: 6.9%\n"
     ]
    }
   ],
   "source": [
    "from seqeval.metrics import precision_score, recall_score, f1_score, classification_report\n",
    "print(\"F1-score: {:.1%}\".format(f1_score(test_labels, pred_labels)))"
   ]
  },
  {
   "cell_type": "code",
   "execution_count": 34,
   "metadata": {},
   "outputs": [
    {
     "name": "stderr",
     "output_type": "stream",
     "text": [
      "C:\\Users\\Kasutaja\\Anaconda3\\envs\\myEnv\\lib\\site-packages\\sklearn\\metrics\\_classification.py:1272: UndefinedMetricWarning: Precision and F-score are ill-defined and being set to 0.0 in labels with no predicted samples. Use `zero_division` parameter to control this behavior.\n",
      "  _warn_prf(average, modifier, msg_start, len(result))\n"
     ]
    },
    {
     "name": "stdout",
     "output_type": "stream",
     "text": [
      "              precision    recall  f1-score   support\n",
      "\n",
      "      object       0.00      0.00      0.00       128\n",
      "         unk       1.00      1.00      1.00     49297\n",
      "       value       0.00      0.00      0.00        75\n",
      "\n",
      "    accuracy                           1.00     49500\n",
      "   macro avg       0.33      0.33      0.33     49500\n",
      "weighted avg       0.99      1.00      0.99     49500\n",
      "\n"
     ]
    }
   ],
   "source": [
    "from  sklearn_crfsuite.metrics import flat_classification_report  \n",
    "report = flat_classification_report(y_pred=pred_labels, y_true=test_labels)\n",
    "print(report)"
   ]
  },
  {
   "cell_type": "code",
   "execution_count": 35,
   "metadata": {},
   "outputs": [
    {
     "name": "stdout",
     "output_type": "stream",
     "text": [
      "tag:value\n",
      "\t TN:         0\tFP:         0\n",
      "\t FN:         0\tTP:         0\n",
      "tag:unk\n",
      "\t TN:         0\tFP:         0\n",
      "\t FN:         0\tTP:     49401\n",
      "tag:object\n",
      "\t TN:        99\tFP:         0\n",
      "\t FN:         0\tTP:         0\n"
     ]
    }
   ],
   "source": [
    "TP = {}\n",
    "TN = {}\n",
    "FP = {}\n",
    "FN = {}\n",
    "for tag in tag2idx.keys():\n",
    "    TP[tag] = 0\n",
    "    TN[tag] = 0    \n",
    "    FP[tag] = 0    \n",
    "    FN[tag] = 0    \n",
    "\n",
    "def accumulate_score_by_tag(gt, pred):\n",
    "    \"\"\"\n",
    "    For each tag keep stats\n",
    "    \"\"\"\n",
    "    if gt == pred:\n",
    "        TP[gt] += 1\n",
    "    elif gt != 'O' and pred == 'O':\n",
    "        FN[gt] +=1\n",
    "    elif gt == 'O' and pred != 'O':\n",
    "        FP[gt] += 1\n",
    "    else:\n",
    "        TN[gt] += 1\n",
    "for i, sentence in enumerate(X_test):\n",
    "    y_hat = np.argmax(test_pred[0], axis=-1)\n",
    "    gt = np.argmax(y_test[0], axis=-1)\n",
    "    for idx, (w,pred) in enumerate(zip(sentence,y_hat)):\n",
    "        accumulate_score_by_tag(idx2tag[gt[idx]],tags[pred])\n",
    "for tag in tag2idx.keys():\n",
    "    print(f'tag:{tag}')    \n",
    "    print('\\t TN:{:10}\\tFP:{:10}'.format(TN[tag],FP[tag]))\n",
    "    print('\\t FN:{:10}\\tTP:{:10}'.format(FN[tag],TP[tag]))\n",
    "#Reference: https://www.kaggle.com/nikkisharma536/ner-with-bilstm-and-crf/notebook"
   ]
  },
  {
   "cell_type": "code",
   "execution_count": null,
   "metadata": {},
   "outputs": [],
   "source": [
    "pd.read_csv("
   ]
  }
 ],
 "metadata": {
  "kernelspec": {
   "display_name": "Python 3",
   "language": "python",
   "name": "python3"
  },
  "language_info": {
   "codemirror_mode": {
    "name": "ipython",
    "version": 3
   },
   "file_extension": ".py",
   "mimetype": "text/x-python",
   "name": "python",
   "nbconvert_exporter": "python",
   "pygments_lexer": "ipython3",
   "version": "3.7.6"
  }
 },
 "nbformat": 4,
 "nbformat_minor": 4
}
