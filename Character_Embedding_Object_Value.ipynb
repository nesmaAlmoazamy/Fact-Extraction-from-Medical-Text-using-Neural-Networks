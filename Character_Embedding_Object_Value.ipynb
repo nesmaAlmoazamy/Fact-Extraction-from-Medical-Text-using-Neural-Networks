{
 "cells": [
  {
   "cell_type": "code",
   "execution_count": 1,
   "metadata": {},
   "outputs": [
    {
     "name": "stderr",
     "output_type": "stream",
     "text": [
      "Using TensorFlow backend.\n"
     ]
    }
   ],
   "source": [
    "import csv\n",
    "import numpy as np\n",
    "import pandas as pd\n",
    "from keras.preprocessing.text import Tokenizer\n",
    "from keras.preprocessing.sequence import pad_sequences\n",
    "import pickle\n"
   ]
  },
  {
   "cell_type": "code",
   "execution_count": 2,
   "metadata": {},
   "outputs": [],
   "source": [
    "DS = pd.read_csv(\"DataAnnotatedSubset150SentenceLength.csv\")"
   ]
  },
  {
   "cell_type": "code",
   "execution_count": 3,
   "metadata": {},
   "outputs": [],
   "source": [
    "DS['tag'].fillna('text', inplace=True)"
   ]
  },
  {
   "cell_type": "code",
   "execution_count": 4,
   "metadata": {},
   "outputs": [
    {
     "data": {
      "text/plain": [
       "27741"
      ]
     },
     "execution_count": 4,
     "metadata": {},
     "output_type": "execute_result"
    }
   ],
   "source": [
    "words = list(set(DS[\"word\"].values))\n",
    "n_words = len(words)\n",
    "n_words"
   ]
  },
  {
   "cell_type": "code",
   "execution_count": 5,
   "metadata": {},
   "outputs": [
    {
     "data": {
      "text/plain": [
       "3"
      ]
     },
     "execution_count": 5,
     "metadata": {},
     "output_type": "execute_result"
    }
   ],
   "source": [
    "tags = list(set(DS[\"tag\"].values))\n",
    "n_tags = len(tags); n_tags\n"
   ]
  },
  {
   "cell_type": "code",
   "execution_count": 6,
   "metadata": {},
   "outputs": [],
   "source": [
    "class SentenceGetter(object):\n",
    "    \n",
    "    def __init__(self, data):\n",
    "        self.n_sent = 1\n",
    "        self.data = data\n",
    "        self.empty = False\n",
    "        agg_func = lambda s: [(w, t) for w, t in zip(s[\"word\"].values.tolist(),\n",
    "                                                           s[\"tag\"].values.tolist())]\n",
    "        self.grouped = self.data.groupby(\"text_ID\").apply(agg_func)\n",
    "        self.sentences = [s for s in self.grouped]"
   ]
  },
  {
   "cell_type": "code",
   "execution_count": 7,
   "metadata": {},
   "outputs": [],
   "source": [
    "getter = SentenceGetter(DS)"
   ]
  },
  {
   "cell_type": "code",
   "execution_count": 8,
   "metadata": {},
   "outputs": [],
   "source": [
    "sentences = getter.sentences\n"
   ]
  },
  {
   "cell_type": "code",
   "execution_count": 9,
   "metadata": {},
   "outputs": [
    {
     "data": {
      "text/plain": [
       "[('Pt.', 'text'),\n",
       " ('tehtud', 'text'),\n",
       " ('3', 'text'),\n",
       " ('plasmaferees,', 'text'),\n",
       " ('talus', 'text'),\n",
       " ('hästi.', 'text'),\n",
       " ('Eemaldatud', 'text'),\n",
       " ('700', 'text'),\n",
       " ('ml', 'text'),\n",
       " ('plasmat.', 'text'),\n",
       " ('RR', 'object'),\n",
       " ('112/60', 'value'),\n",
       " ('mmHg.', 'text'),\n",
       " ('Tgasi', 'text'),\n",
       " ('22.10.09.', 'text')]"
      ]
     },
     "execution_count": 9,
     "metadata": {},
     "output_type": "execute_result"
    }
   ],
   "source": [
    "sentences[1]"
   ]
  },
  {
   "cell_type": "code",
   "execution_count": 10,
   "metadata": {},
   "outputs": [
    {
     "data": {
      "text/plain": [
       "count    157280.000000\n",
       "mean          6.230697\n",
       "std           4.330117\n",
       "min           1.000000\n",
       "25%           3.000000\n",
       "50%           5.000000\n",
       "75%           9.000000\n",
       "max          54.000000\n",
       "Name: word, dtype: float64"
      ]
     },
     "execution_count": 10,
     "metadata": {},
     "output_type": "execute_result"
    }
   ],
   "source": [
    "# np.median([len(s) for s in sentences])\n",
    "DS.word.apply(lambda x: len(x)).describe()"
   ]
  },
  {
   "cell_type": "code",
   "execution_count": 11,
   "metadata": {},
   "outputs": [
    {
     "data": {
      "text/plain": [
       "150"
      ]
     },
     "execution_count": 11,
     "metadata": {},
     "output_type": "execute_result"
    }
   ],
   "source": [
    "LengthsList = []\n",
    "for i in range(len(sentences)):\n",
    "    LengthsList.append(len(sentences[i]))\n",
    "np.max(LengthsList)"
   ]
  },
  {
   "cell_type": "code",
   "execution_count": 12,
   "metadata": {},
   "outputs": [
    {
     "data": {
      "text/plain": [
       "[('Kokkuvõte:', 'text'),\n",
       " ('<ANONYM', 'text'),\n",
       " ('id=\"0\"', 'text'),\n",
       " ('type=\"per\"', 'text'),\n",
       " ('morph=\"_A_', 'text'),\n",
       " ('sg', 'text'),\n",
       " ('n\"/>', 'text'),\n",
       " ('nähtava', 'text'),\n",
       " ('patoloogiata.', 'text'),\n",
       " ('Kokkuvõte:', 'text'),\n",
       " ('<ANONYM', 'text'),\n",
       " ('id=\"0\"', 'text'),\n",
       " ('type=\"per\"', 'text'),\n",
       " ('morph=\"_A_', 'text'),\n",
       " ('sg', 'text'),\n",
       " ('n\"/>', 'text'),\n",
       " ('nähtava', 'text'),\n",
       " ('patoloogiata.', 'text'),\n",
       " ('Kokkuvõte:', 'text'),\n",
       " ('<ANONYM', 'text'),\n",
       " ('id=\"0\"', 'text'),\n",
       " ('type=\"per\"', 'text'),\n",
       " ('morph=\"_A_', 'text'),\n",
       " ('sg', 'text'),\n",
       " ('n\"/>', 'text'),\n",
       " ('nähtava', 'text'),\n",
       " ('patoloogiata.', 'text'),\n",
       " ('Kokkuvõte:', 'text'),\n",
       " ('<ANONYM', 'text'),\n",
       " ('id=\"0\"', 'text'),\n",
       " ('type=\"per\"', 'text'),\n",
       " ('morph=\"_A_', 'text'),\n",
       " ('sg', 'text'),\n",
       " ('n\"/>', 'text'),\n",
       " ('nähtava', 'text'),\n",
       " ('patoloogiata.', 'text'),\n",
       " ('Kokkuvõte:', 'text'),\n",
       " ('<ANONYM', 'text'),\n",
       " ('id=\"0\"', 'text'),\n",
       " ('type=\"per\"', 'text'),\n",
       " ('morph=\"_A_', 'text'),\n",
       " ('sg', 'text'),\n",
       " ('n\"/>', 'text'),\n",
       " ('nähtava', 'text'),\n",
       " ('patoloogiata.', 'text'),\n",
       " ('Kokkuvõte:', 'text'),\n",
       " ('<ANONYM', 'text'),\n",
       " ('id=\"0\"', 'text'),\n",
       " ('type=\"per\"', 'text'),\n",
       " ('morph=\"_A_', 'text'),\n",
       " ('sg', 'text'),\n",
       " ('n\"/>', 'text'),\n",
       " ('nähtava', 'text'),\n",
       " ('patoloogiata.', 'text')]"
      ]
     },
     "execution_count": 12,
     "metadata": {},
     "output_type": "execute_result"
    }
   ],
   "source": [
    "sentences[6]"
   ]
  },
  {
   "cell_type": "code",
   "execution_count": 13,
   "metadata": {},
   "outputs": [],
   "source": [
    "max_len = 150\n",
    "max_len_char = 10"
   ]
  },
  {
   "cell_type": "code",
   "execution_count": 14,
   "metadata": {},
   "outputs": [],
   "source": [
    "tag2idx = {t: i + 1 for i, t in enumerate(tags)}\n",
    "tag2idx[\"PAD\"] = 0\n",
    "idx2tag = {i: w for w, i in tag2idx.items()}"
   ]
  },
  {
   "cell_type": "code",
   "execution_count": 15,
   "metadata": {},
   "outputs": [
    {
     "name": "stdout",
     "output_type": "stream",
     "text": [
      "104\n"
     ]
    }
   ],
   "source": [
    "chars = set([w_i for w in words for w_i in w])\n",
    "n_chars = len(chars)\n",
    "print(n_chars)\n"
   ]
  },
  {
   "cell_type": "code",
   "execution_count": 16,
   "metadata": {},
   "outputs": [],
   "source": [
    "char2idx = {c: i + 2 for i, c in enumerate(chars)}\n",
    "char2idx[\"UNK\"] = 1 #For predictions\n",
    "char2idx[\"PAD\"] = 0"
   ]
  },
  {
   "cell_type": "code",
   "execution_count": 17,
   "metadata": {},
   "outputs": [],
   "source": [
    "idx2char = {i: w for w, i in char2idx.items()}"
   ]
  },
  {
   "cell_type": "code",
   "execution_count": 18,
   "metadata": {},
   "outputs": [],
   "source": [
    "X_char = []\n",
    "for sentence in sentences:\n",
    "    sent_seq = []\n",
    "    for i in range(max_len):\n",
    "        word_seq = []\n",
    "        for j in range(max_len_char):\n",
    "            try:\n",
    "                word_seq.append(char2idx.get(sentence[i][0][j]))\n",
    "            except:\n",
    "                word_seq.append(char2idx.get(\"PAD\"))\n",
    "        sent_seq.append(word_seq)\n",
    "    X_char.append(np.array(sent_seq))"
   ]
  },
  {
   "cell_type": "code",
   "execution_count": 19,
   "metadata": {},
   "outputs": [],
   "source": [
    "y = [[tag2idx[w[1]] for w  in s] for s in sentences]\n"
   ]
  },
  {
   "cell_type": "code",
   "execution_count": 20,
   "metadata": {},
   "outputs": [
    {
     "data": {
      "text/plain": [
       "13643"
      ]
     },
     "execution_count": 20,
     "metadata": {},
     "output_type": "execute_result"
    }
   ],
   "source": [
    "len(sentences)"
   ]
  },
  {
   "cell_type": "code",
   "execution_count": 21,
   "metadata": {},
   "outputs": [],
   "source": [
    "y = pad_sequences(maxlen=max_len, sequences=y, value=tag2idx[\"PAD\"], padding='post', truncating='post')\n"
   ]
  },
  {
   "cell_type": "code",
   "execution_count": 22,
   "metadata": {},
   "outputs": [],
   "source": [
    "from sklearn.model_selection import train_test_split\n",
    "X_char_tr, X_char_te, y_tr,  y_te= train_test_split(X_char, y, test_size=0.2, random_state=2018)\n"
   ]
  },
  {
   "cell_type": "code",
   "execution_count": 23,
   "metadata": {},
   "outputs": [],
   "source": [
    "# hidden_nodes = int(2/3 * (max_len * max_len_char))\n",
    "# print(f\"The number of hidden nodes is {hidden_nodes}.\")\n"
   ]
  },
  {
   "cell_type": "code",
   "execution_count": 24,
   "metadata": {},
   "outputs": [
    {
     "name": "stdout",
     "output_type": "stream",
     "text": [
      "WARNING:tensorflow:Large dropout rate: 0.6 (>0.5). In TensorFlow 2.x, dropout() uses dropout rate instead of keep_prob. Please ensure that this is intended.\n",
      "WARNING:tensorflow:Large dropout rate: 0.6 (>0.5). In TensorFlow 2.x, dropout() uses dropout rate instead of keep_prob. Please ensure that this is intended.\n",
      "WARNING:tensorflow:Large dropout rate: 0.6 (>0.5). In TensorFlow 2.x, dropout() uses dropout rate instead of keep_prob. Please ensure that this is intended.\n",
      "WARNING:tensorflow:Large dropout rate: 0.6 (>0.5). In TensorFlow 2.x, dropout() uses dropout rate instead of keep_prob. Please ensure that this is intended.\n",
      "WARNING:tensorflow:Large dropout rate: 0.6 (>0.5). In TensorFlow 2.x, dropout() uses dropout rate instead of keep_prob. Please ensure that this is intended.\n"
     ]
    }
   ],
   "source": [
    "from keras.models import Model, Input\n",
    "from keras.layers import LSTM, Embedding, Dense, TimeDistributed, Dropout, Conv1D\n",
    "from keras.layers import Bidirectional, concatenate, SpatialDropout1D, GlobalMaxPooling1D\n",
    "\n",
    "\n",
    "# input and embeddings for characters\n",
    "char_in = Input(shape=(max_len, max_len_char,))\n",
    "emb_char = TimeDistributed(Embedding(input_dim=n_chars + 2, output_dim=10,\n",
    "                           input_length=max_len_char, mask_zero=True))(char_in)\n",
    "# character LSTM to get word encodings by characters\n",
    "char_enc = TimeDistributed(LSTM(units=20, return_sequences=False,\n",
    "                                recurrent_dropout=0.5))(emb_char)\n",
    "\n",
    "# main LSTM\n",
    "x = SpatialDropout1D(0.3)(char_enc)\n",
    "main_lstm = Bidirectional(LSTM(units=20, return_sequences=True,\n",
    "                               recurrent_dropout=0.6))(x)\n",
    "out = TimeDistributed(Dense(n_tags + 1, activation=\"softmax\"))(main_lstm)\n",
    "\n",
    "model = Model( char_in, out)\n",
    "\n",
    "\n"
   ]
  },
  {
   "cell_type": "code",
   "execution_count": 25,
   "metadata": {},
   "outputs": [
    {
     "name": "stdout",
     "output_type": "stream",
     "text": [
      "Model: \"model_1\"\n",
      "_________________________________________________________________\n",
      "Layer (type)                 Output Shape              Param #   \n",
      "=================================================================\n",
      "input_1 (InputLayer)         (None, 150, 10)           0         \n",
      "_________________________________________________________________\n",
      "time_distributed_1 (TimeDist (None, 150, 10, 10)       1060      \n",
      "_________________________________________________________________\n",
      "time_distributed_2 (TimeDist (None, 150, 20)           2480      \n",
      "_________________________________________________________________\n",
      "spatial_dropout1d_1 (Spatial (None, 150, 20)           0         \n",
      "_________________________________________________________________\n",
      "bidirectional_1 (Bidirection (None, 150, 40)           6560      \n",
      "_________________________________________________________________\n",
      "time_distributed_3 (TimeDist (None, 150, 4)            164       \n",
      "=================================================================\n",
      "Total params: 10,264\n",
      "Trainable params: 10,264\n",
      "Non-trainable params: 0\n",
      "_________________________________________________________________\n"
     ]
    }
   ],
   "source": [
    "model.compile(optimizer=\"adam\", loss=\"sparse_categorical_crossentropy\", metrics=[\"acc\"])\n",
    "model.summary()\n"
   ]
  },
  {
   "cell_type": "code",
   "execution_count": 26,
   "metadata": {},
   "outputs": [
    {
     "name": "stderr",
     "output_type": "stream",
     "text": [
      "C:\\Users\\Kasutaja\\Anaconda3\\envs\\myEnv\\lib\\site-packages\\tensorflow_core\\python\\framework\\indexed_slices.py:433: UserWarning: Converting sparse IndexedSlices to a dense Tensor of unknown shape. This may consume a large amount of memory.\n",
      "  \"Converting sparse IndexedSlices to a dense Tensor of unknown shape. \"\n"
     ]
    },
    {
     "name": "stdout",
     "output_type": "stream",
     "text": [
      "Train on 9822 samples, validate on 1092 samples\n",
      "Epoch 1/10\n",
      "9822/9822 [==============================] - 67s 7ms/step - loss: 0.0332 - acc: 0.8945 - val_loss: 0.0136 - val_acc: 0.9447\n",
      "Epoch 2/10\n",
      "9822/9822 [==============================] - 70s 7ms/step - loss: 0.0105 - acc: 0.9658 - val_loss: 0.0075 - val_acc: 0.9775\n",
      "Epoch 3/10\n",
      "9822/9822 [==============================] - 68s 7ms/step - loss: 0.0065 - acc: 0.9800 - val_loss: 0.0042 - val_acc: 0.9872\n",
      "Epoch 4/10\n",
      "9822/9822 [==============================] - 67s 7ms/step - loss: 0.0046 - acc: 0.9859 - val_loss: 0.0034 - val_acc: 0.9898\n",
      "Epoch 5/10\n",
      "9822/9822 [==============================] - 70s 7ms/step - loss: 0.0039 - acc: 0.9878 - val_loss: 0.0030 - val_acc: 0.9906\n",
      "Epoch 6/10\n",
      "9822/9822 [==============================] - 68s 7ms/step - loss: 0.0035 - acc: 0.9886 - val_loss: 0.0028 - val_acc: 0.9906\n",
      "Epoch 7/10\n",
      "9822/9822 [==============================] - 66s 7ms/step - loss: 0.0033 - acc: 0.9891 - val_loss: 0.0027 - val_acc: 0.9914\n",
      "Epoch 8/10\n",
      "9822/9822 [==============================] - 67s 7ms/step - loss: 0.0031 - acc: 0.9899 - val_loss: 0.0025 - val_acc: 0.9913\n",
      "Epoch 9/10\n",
      "9822/9822 [==============================] - 66s 7ms/step - loss: 0.0029 - acc: 0.9903 - val_loss: 0.0024 - val_acc: 0.9922\n",
      "Epoch 10/10\n",
      "9822/9822 [==============================] - 67s 7ms/step - loss: 0.0028 - acc: 0.9901 - val_loss: 0.0023 - val_acc: 0.9920\n"
     ]
    }
   ],
   "source": [
    "history = model.fit(np.array(X_char_tr).reshape((len(X_char_tr), max_len, max_len_char)),\n",
    "                    np.array(y_tr).reshape(len(y_tr), max_len, 1),\n",
    "                    batch_size=32, epochs=10, validation_split=0.1, verbose=1)\n"
   ]
  },
  {
   "cell_type": "code",
   "execution_count": 27,
   "metadata": {},
   "outputs": [],
   "source": [
    "hist = pd.DataFrame(history.history)\n"
   ]
  },
  {
   "cell_type": "code",
   "execution_count": 28,
   "metadata": {},
   "outputs": [
    {
     "data": {
      "image/png": "[encoded data removed]",
      "text/plain": [
       "<Figure size 864x864 with 1 Axes>"
      ]
     },
     "metadata": {},
     "output_type": "display_data"
    },
    {
     "data": {
      "image/png": "[encoded data removed]",
      "text/plain": [
       "<Figure size 864x360 with 2 Axes>"
      ]
     },
     "metadata": {},
     "output_type": "display_data"
    }
   ],
   "source": [
    "import matplotlib.pyplot as plt\n",
    "plt.style.use(\"ggplot\")\n",
    "plt.figure(figsize=(12,12))\n",
    "plt.plot(hist[\"acc\"])\n",
    "plt.plot(hist[\"val_acc\"])\n",
    "plt.show()\n",
    "\n",
    "\n",
    "# Plot the graph \n",
    "plt.style.use('ggplot')\n",
    "\n",
    "def plot_history(history):\n",
    "    accuracy = history.history['acc']\n",
    "    val_accuracy = history.history['val_acc']\n",
    "    loss = history.history['loss']\n",
    "    val_loss = history.history['val_loss']\n",
    "    x = range(1, len(accuracy) + 1)\n",
    "\n",
    "    plt.figure(figsize=(12, 5))\n",
    "    plt.subplot(1, 2, 1)\n",
    "    plt.plot(x, accuracy, 'b', label='Training acc')\n",
    "    plt.plot(x, val_accuracy, 'r', label='Validation acc')\n",
    "    plt.title('Training and validation accuracy')\n",
    "    plt.legend()\n",
    "    plt.subplot(1, 2, 2)\n",
    "    plt.plot(x, loss, 'b', label='Training loss')\n",
    "    plt.plot(x, val_loss, 'r', label='Validation loss')\n",
    "    plt.title('Training and validation loss')\n",
    "    plt.legend()\n",
    "\n",
    "plot_history(history)\n",
    "\n"
   ]
  },
  {
   "cell_type": "code",
   "execution_count": 29,
   "metadata": {},
   "outputs": [],
   "source": [
    "y_pred = model.predict(\n",
    "                        np.array(X_char_te).reshape((len(X_char_te),\n",
    "                                                     max_len, max_len_char)))\n"
   ]
  },
  {
   "cell_type": "code",
   "execution_count": 30,
   "metadata": {},
   "outputs": [],
   "source": [
    "def charindx2word(Tword):\n",
    "    word = []\n",
    "    for i in range(len(Tword)):\n",
    "        if(Tword[i] !=0):\n",
    "            word.append(idx2char[Tword[i]])\n",
    "    return \"\".join(word)"
   ]
  },
  {
   "cell_type": "code",
   "execution_count": 31,
   "metadata": {},
   "outputs": [
    {
     "name": "stdout",
     "output_type": "stream",
     "text": [
      "Word           ||True ||Pred\n",
      "==============================\n",
      "Üldseisnud     : text  text\n",
      "rahuldav.S     : text  text\n",
      "regulaarne     : object text\n",
      "mm             : text  text\n",
      "Hg.Vesikul     : text  text\n",
      "hingamiska     : text  text\n",
      "pehme,valu     : text  text\n"
     ]
    }
   ],
   "source": [
    "i = 1000\n",
    "p = np.argmax(y_pred[i], axis=-1)\n",
    "print(\"{:15}||{:5}||{}\".format(\"Word\", \"True\", \"Pred\"))\n",
    "print(30 * \"=\")\n",
    "for w, t, pred in zip(X_char_te[i], y_te[i], p):\n",
    "    if t != 0: #PAD\n",
    "        print(\"{:15}: {:5} {}\".format(charindx2word(w), idx2tag[t], idx2tag[pred]))\n"
   ]
  },
  {
   "cell_type": "code",
   "execution_count": 32,
   "metadata": {},
   "outputs": [
    {
     "name": "stdout",
     "output_type": "stream",
     "text": [
      "Word           ||True ||Pred\n",
      "==============================\n",
      "Üldseisnud     : text  text\n",
      "rahuldav.S     : text  text\n",
      "ebaregulaa     : object text\n",
      "mm             : text  text\n",
      "Hg.Vesiula     : text  text\n",
      "hingamiska     : text  text\n",
      "pehme,valu     : text  text\n"
     ]
    }
   ],
   "source": [
    "i = 14\n",
    "p = np.argmax(y_pred[i], axis=-1)\n",
    "print(\"{:15}||{:5}||{}\".format(\"Word\", \"True\", \"Pred\"))\n",
    "print(30 * \"=\")\n",
    "for w, t, pred in zip(X_char_te[i], y_te[i], p):\n",
    "    if t != 0: #PAD\n",
    "        print(\"{:15}: {:5} {}\".format(charindx2word(w), idx2tag[t], idx2tag[pred]))\n"
   ]
  },
  {
   "cell_type": "code",
   "execution_count": 33,
   "metadata": {},
   "outputs": [],
   "source": [
    "def pred2label(pred):\n",
    "    out = []\n",
    "    for pred_i in pred:\n",
    "        out_i = []\n",
    "        for p in pred_i:\n",
    "            p_i = np.argmax(p, axis=-1)\n",
    "#             out_i.append(idx2tag[p_i])\n",
    "            out_i.append(idx2tag[p_i].replace(\"PAD\", \"text\"))\n",
    "\n",
    "        out.append(out_i)\n",
    "    return out\n",
    "pred_labels = pred2label(y_pred)\n",
    "\n",
    "def pred2labelV2(pred):\n",
    "    out = []\n",
    "    for pred_i in pred:\n",
    "        out_i = []\n",
    "        for p in pred_i:\n",
    "#             out_i.append(idx2tag[p])\n",
    "            out_i.append(idx2tag[p].replace(\"PAD\", \"text\"))\n",
    "\n",
    "        out.append(out_i)\n",
    "    return out\n",
    "test_labels = pred2labelV2(y_te)"
   ]
  },
  {
   "cell_type": "code",
   "execution_count": 34,
   "metadata": {},
   "outputs": [
    {
     "name": "stdout",
     "output_type": "stream",
     "text": [
      "F1-score: 89.6%\n"
     ]
    }
   ],
   "source": [
    "from seqeval.metrics import accuracy_score,precision_score, recall_score, f1_score, classification_report\n",
    "print(\"F1-score: {:.1%}\".format(f1_score(test_labels, pred_labels)))"
   ]
  },
  {
   "cell_type": "code",
   "execution_count": 35,
   "metadata": {},
   "outputs": [
    {
     "name": "stdout",
     "output_type": "stream",
     "text": [
      "              precision    recall  f1-score   support\n",
      "\n",
      "      object       0.14      0.93      0.24      2075\n",
      "        text       1.00      0.92      0.96    405697\n",
      "       value       0.06      0.91      0.12      1578\n",
      "\n",
      "    accuracy                           0.92    409350\n",
      "   macro avg       0.40      0.92      0.44    409350\n",
      "weighted avg       0.99      0.92      0.95    409350\n",
      "\n"
     ]
    }
   ],
   "source": [
    "from sklearn_crfsuite.metrics import flat_classification_report  \n",
    "report = flat_classification_report(y_pred=pred_labels, y_true=test_labels)\n",
    "print(report)"
   ]
  },
  {
   "cell_type": "code",
   "execution_count": 36,
   "metadata": {},
   "outputs": [
    {
     "name": "stdout",
     "output_type": "stream",
     "text": [
      "           precision    recall  f1-score   support\n",
      "\n",
      "     text       0.94      0.87      0.90      4461\n",
      "   object       0.95      0.89      0.92      2064\n",
      "    value       0.88      0.82      0.85      1577\n",
      "\n",
      "micro avg       0.93      0.86      0.90      8102\n",
      "macro avg       0.93      0.86      0.90      8102\n",
      "\n"
     ]
    }
   ],
   "source": [
    "print(classification_report(test_labels,pred_labels))"
   ]
  },
  {
   "cell_type": "code",
   "execution_count": 39,
   "metadata": {},
   "outputs": [
    {
     "name": "stdout",
     "output_type": "stream",
     "text": [
      "Word           ||True ||Pred\n",
      "==============================\n",
      "/106           : text  value\n",
      "90             : text  value\n",
      "ebaregulaa     : object text\n",
      "160cm          : text  value\n",
      "Pikkus         : object text\n",
      "157            : value text\n",
      "Pikkus         : object text\n",
      "KORRAS.        : object text\n",
      "KOORMUSTES     : object text\n",
      "155/95         : value text\n",
      "24-tunni       : value text\n",
      "Pikkus-174     : object text\n",
      "Nõustamine     : object text\n",
      "=              : text  value\n",
      "kõikumised     : object text\n",
      "140-90mmhg     : value text\n",
      "100            : text  value\n",
      "sööki-6,6m     : object text\n",
      "regulaarne     : object text\n",
      "Pikkus-        : object text\n",
      "178            : value text\n",
      "kaebusteta     : object text\n",
      "regulaarne     : object text\n",
      "Pikkus:        : object text\n",
      "162,7cm        : value text\n",
      "Pikkus:        : object text\n",
      "162,7cm        : value text\n",
      "tarvitanud     : object text\n",
      "135/82         : value text\n",
      "139.0/85.7     : value text\n",
      "139.0/85.7     : value text\n",
      "139.0/85.7     : value text\n",
      "Pikkus         : object text\n",
      "164            : value text\n",
      "Pikkus         : object text\n",
      "162            : value text\n",
      "Pikkus         : object text\n",
      "184cm          : value text\n",
      "Pikkus         : object text\n",
      "184cm          : value text\n",
      "min.Pikkus     : object text\n",
      "189            : value text\n",
      "min.Pikkus     : object text\n",
      "189            : value text\n",
      "Kordusrets     : object text\n",
      "Pikkus         : object text\n",
      "46cm,          : value text\n",
      "Analüüsid.     : object text\n",
      "184/88         : value text\n",
      "Analüüsid.     : object text\n",
      "184/88         : value text\n",
      "regulaarse     : object text\n",
      "Pikkus         : object text\n",
      "175            : value text\n",
      "Pikkus         : object text\n",
      "175            : value text\n",
      "Pikkus         : object text\n",
      "170            : value text\n",
      "Pikkus         : object text\n",
      "170            : value text\n",
      "Pikkus         : object text\n",
      "165            : value text\n",
      "Pikkus         : object text\n",
      "165            : value text\n",
      "170            : value text\n",
      "Pikkus         : object text\n",
      "154            : value text\n",
      "Pikkus         : object text\n",
      "157cm.         : value text\n",
      "Pikkus         : object text\n",
      "157cm.         : value text\n",
      "Pikkus-        : object text\n",
      "150            : value text\n",
      "sööki-4,3m     : object text\n",
      "rr140/100      : value text\n",
      "Pikkus         : object text\n",
      "183,           : value text\n",
      "tuhmid,kah     : object text\n",
      "130/82         : value text\n",
      "RR-monitoo     : object text\n",
      "Rf             : text  object\n",
      "regulaarne     : object text\n",
      "90             : text  value\n",
      "145/80mmHg     : text  value\n",
      "98%,fr.93x     : object text\n",
      "140/90         : value text\n",
      "Pikkus-        : object text\n",
      "159            : value text\n",
      "Pikkus-165     : object text\n",
      "Pikkus-165     : object text\n",
      "140.80.        : value text\n",
      "171            : text  value\n",
      "Pikkus         : object text\n",
      "175            : value text\n",
      "Pikkus         : object text\n",
      "175            : value text\n",
      "86x´,regul     : object text\n",
      "130/90         : value text\n",
      "Tervisekon     : object text\n",
      "halvasti.R     : object text\n",
      "min.Pikkus     : object text\n",
      "162            : value text\n",
      "min.Pikkus     : object text\n",
      "162            : value text\n",
      "õhupuudus,     : object text\n",
      "sääki-14,0     : object text\n",
      "52Pikkus       : object text\n",
      "166            : value text\n",
      "52Pikkus       : object text\n",
      "166            : value text\n",
      "cor:akts.r     : object text\n",
      "120/80mmhg     : value text\n",
      "140.70         : value text\n",
      "regulaarne     : object text\n",
      "rr150/90       : value text\n",
      "Pikkus         : object text\n",
      "160            : value text\n",
      "Pikkus         : object text\n",
      "160            : value text\n",
      "Pikkus         : object text\n",
      "161cm.         : value text\n",
      "Pikkus         : object text\n",
      "161cm.         : value text\n",
      "Pikkus         : object text\n",
      "174            : value text\n",
      "Pikkus         : object text\n",
      "174            : value text\n",
      "Pikkus         : object text\n",
      "168            : value text\n",
      "Pikkus         : object text\n",
      "168            : value text\n",
      "regulaarne     : object text\n",
      "Pikkus-192     : object text\n",
      "Pikkus-192     : object text\n",
      "südamepeks     : object text\n",
      "Pikkus-        : object text\n",
      "173            : value text\n",
      "Pikkus-        : object text\n",
      "162            : value text\n",
      "Pikkus-175     : object text\n",
      "kontrollil     : object text\n",
      "166/97         : value text\n",
      "rR             : text  object\n",
      "Analüüsid.     : object text\n",
      "118/80         : value text\n",
      "Pikkus         : object text\n",
      "166            : value text\n",
      "Pikkus         : object text\n",
      "157,5          : value text\n",
      "Pikkus         : object text\n",
      "157,5          : value text\n",
      "Pikkus         : object text\n",
      "168            : value text\n",
      "Pikkus         : object text\n",
      "168            : value text\n",
      "140            : value text\n",
      "169cm          : text  value\n",
      "Nõustamine     : object text\n",
      "rr100/60       : value text\n",
      "/100           : text  value\n",
      "rr170/100(     : value text\n",
      "24             : value text\n",
      "186            : text  value\n",
      "Pikkus         : object text\n",
      "170            : value text\n",
      "Pikkus         : object text\n",
      "170            : value text\n",
      "min.Pikkus     : object text\n",
      "170            : value text\n",
      "min.Pikkus     : object text\n",
      "170            : value text\n",
      "võileib).R     : object text\n",
      "170/100        : value text\n",
      "Pikkus         : object text\n",
      "175            : value text\n",
      "140/90         : value text\n",
      "kompenseer     : object text\n",
      "140/70         : value text\n",
      "100            : text  value\n",
      "Pikkus         : object text\n",
      "177,5,         : value text\n",
      "100            : text  value\n",
      "124/78         : text  value\n",
      "pearinglus     : object text\n",
      "163            : text  value\n",
      "Pikkus         : object text\n",
      "49cm.          : value text\n",
      "170cm          : value text\n",
      "Pikkus-        : object text\n",
      "174            : value text\n",
      "tervisetõe     : object text\n",
      "159cm          : text  value\n",
      "Pikkus-        : object text\n",
      "175            : value text\n",
      "Pikkus-165     : object text\n",
      "13-101035-     : value text\n",
      "13-101035-     : value text\n",
      "13-101035-     : value text\n",
      "13-101035-     : value text\n",
      "13-101035-     : value text\n",
      "13-101035-     : value text\n",
      "13-101035-     : value text\n",
      "13-101035-     : value text\n",
      "Pikkus         : object text\n",
      "160            : value text\n",
      "sööki-6,3m     : object text\n",
      "Pikkus-        : object text\n",
      "163            : value text\n",
      "Pikkus-        : object text\n",
      "180            : value text\n",
      "Amb.m/õ,te     : object text\n",
      "id=\"0\"         : value text\n",
      "140            : value text\n",
      "Hba1c-7,0%     : object text\n",
      "110/70         : text  value\n",
      "kg.Pikkus      : object text\n",
      "163            : value text\n",
      "kg.Pikkus      : object text\n",
      "163            : value text\n",
      "kg.Pikkus      : object text\n",
      "163            : value text\n",
      "Pingepeava     : object text\n",
      "118/75         : value text\n",
      "Pikkus:        : object text\n",
      "161            : value text\n",
      "Pikkus:        : object text\n",
      "161            : value text\n",
      "RRmonitoor     : object text\n",
      "110            : value text\n",
      "110            : value text\n",
      "110            : value text\n",
      "ebaregulaa     : object text\n",
      "regulaarne     : object text\n",
      "Pikkus         : object text\n",
      "157            : value text\n",
      "Pikkus         : object text\n",
      "157            : value text\n",
      "03.06.2010     : value text\n",
      "127            : value text\n",
      "uimnasust.     : object text\n",
      "140/85.Cor     : value text\n",
      "120x1          : value text\n",
      "120x1          : value text\n",
      "rr140/90       : value text\n",
      "AVR            : text  object\n",
      "130/80         : text  value\n",
      "Nõustamine     : object text\n",
      "=              : text  value\n",
      "reg.puhtad     : object text\n",
      "Pikkus         : object text\n",
      "166cm.V/s      : value text\n",
      "Pikkus         : object text\n",
      "166cm.V/s      : value text\n",
      "Turseteta.     : object text\n",
      "statiinrav     : object text\n",
      "transparen     : object text\n",
      "134/75mmHg     : text  value\n",
      "120kg          : value text\n",
      "RR-monitoo     : object text\n",
      "135/93         : value text\n",
      "Pikkus         : object text\n",
      "170            : value text\n",
      "Pikkus         : object text\n",
      "170            : value text\n",
      "*10.06.201     : value text\n",
      "Pikkus         : object text\n",
      "170            : value text\n",
      "Pikkus         : object text\n",
      "170            : value text\n",
      "Pikkus-        : object text\n",
      "164            : value text\n",
      "158cm          : text  value\n",
      "170            : text  value\n",
      "RR-monitoo     : object text\n",
      "Pikkus         : object text\n",
      "172            : value text\n",
      "rägivad.Tu     : object text\n",
      "Pikkus-        : object text\n",
      "163            : value text\n",
      "130/80         : text  value\n",
      "130/80         : text  value\n",
      "Pikkus         : object text\n",
      "156            : value text\n",
      "Pikkus         : object text\n",
      "156            : value text\n",
      "R120-82mmh     : text  object\n",
      "=              : text  value\n",
      "100            : text  value\n",
      "168cm          : text  value\n",
      "Ülekaaluli     : object text\n",
      "135/80         : value text\n",
      "Pikkus-159     : object text\n",
      "Pikkus-159     : object text\n",
      "160cm          : text  value\n",
      "158cm          : text  value\n",
      "170/90         : text  value\n",
      "ujulast.Hb     : object text\n",
      "26.10.2015     : object text\n",
      "05.11.2015     : object text\n",
      "26.10.2015     : object text\n",
      "05.11.2015     : object text\n",
      "/106           : text  value\n",
      "90             : text  value\n",
      "meeleolula     : object text\n",
      "100/70,        : value text\n",
      "Hba1c-5,7%     : object text\n",
      "169cm          : text  value\n",
      "söönuna--1     : object text\n",
      "üldseisund     : object text\n",
      "120/70.        : value text\n",
      "120x           : value text\n",
      "p/s-12,5kg     : object text\n",
      "120,1          : value text\n",
      "*12.03.201     : value text\n",
      "24             : value text\n",
      "Pikkus         : object text\n",
      "166cm,         : value text\n",
      "rr140/90       : value text\n",
      "145;           : value text\n",
      "regulaarne     : object text\n",
      "120,2kg        : value text\n",
      "162/90         : text  value\n",
      "Pikkus         : object text\n",
      "170            : value text\n",
      "100,eelnev     : value text\n"
     ]
    }
   ],
   "source": [
    "j = 0\n",
    "print(\"{:15}||{:5}||{}\".format(\"Word\", \"True\", \"Pred\"))\n",
    "print(30 * \"=\")\n",
    "\n",
    "for i in range(len(y_pred)):\n",
    "    p = np.argmax(y_pred[i], axis=-1)\n",
    "    for w, t, pred in zip(X_char_te[i], y_te[i], p):\n",
    "        if charindx2word(w) != \"\": #PAD\n",
    "            if idx2tag[t] != idx2tag[pred]:\n",
    "                print(\"{:15}: {:5} {}\".format(charindx2word(w), idx2tag[t], idx2tag[pred]))\n",
    "                j = j+1\n",
    "                \n",
    "                \n"
   ]
  },
  {
   "cell_type": "code",
   "execution_count": 40,
   "metadata": {},
   "outputs": [
    {
     "data": {
      "text/plain": [
       "325"
      ]
     },
     "execution_count": 40,
     "metadata": {},
     "output_type": "execute_result"
    }
   ],
   "source": [
    "j"
   ]
  },
  {
   "cell_type": "code",
   "execution_count": 41,
   "metadata": {},
   "outputs": [
    {
     "data": {
      "image/png": "[encoded data removed]",
      "text/plain": [
       "<IPython.core.display.Image object>"
      ]
     },
     "execution_count": 41,
     "metadata": {},
     "output_type": "execute_result"
    }
   ],
   "source": [
    "from keras.utils.vis_utils import plot_model\n",
    "plot_model(model, to_file='ObjValue_plot.png', show_shapes=True, show_layer_names=True)"
   ]
  }
 ],
 "metadata": {
  "kernelspec": {
   "display_name": "Python 3",
   "language": "python",
   "name": "python3"
  },
  "language_info": {
   "codemirror_mode": {
    "name": "ipython",
    "version": 3
   },
   "file_extension": ".py",
   "mimetype": "text/x-python",
   "name": "python",
   "nbconvert_exporter": "python",
   "pygments_lexer": "ipython3",
   "version": "3.7.6"
  }
 },
 "nbformat": 4,
 "nbformat_minor": 4
}
