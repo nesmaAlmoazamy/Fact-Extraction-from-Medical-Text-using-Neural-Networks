{
 "cells": [
  {
   "cell_type": "code",
   "execution_count": 20,
   "metadata": {},
   "outputs": [],
   "source": [
    "import csv\n",
    "import numpy as np\n",
    "import pandas as pd\n",
    "from keras.preprocessing.text import Tokenizer\n",
    "from keras.preprocessing.sequence import pad_sequences\n",
    "import pickle\n"
   ]
  },
  {
   "cell_type": "code",
   "execution_count": 21,
   "metadata": {},
   "outputs": [],
   "source": [
    "DS = pd.read_csv(\"DataAnnotatedSubset150SentenceLength.csv\")"
   ]
  },
  {
   "cell_type": "code",
   "execution_count": 22,
   "metadata": {},
   "outputs": [],
   "source": [
    "DS['tag'].fillna('O', inplace=True)"
   ]
  },
  {
   "cell_type": "code",
   "execution_count": 23,
   "metadata": {},
   "outputs": [
    {
     "data": {
      "text/plain": [
       "27741"
      ]
     },
     "execution_count": 23,
     "metadata": {},
     "output_type": "execute_result"
    }
   ],
   "source": [
    "words = list(set(DS[\"word\"].values))\n",
    "n_words = len(words)\n",
    "n_words"
   ]
  },
  {
   "cell_type": "code",
   "execution_count": 24,
   "metadata": {},
   "outputs": [
    {
     "data": {
      "text/plain": [
       "3"
      ]
     },
     "execution_count": 24,
     "metadata": {},
     "output_type": "execute_result"
    }
   ],
   "source": [
    "tags = list(set(DS[\"tag\"].values))\n",
    "n_tags = len(tags); n_tags\n"
   ]
  },
  {
   "cell_type": "code",
   "execution_count": 25,
   "metadata": {},
   "outputs": [],
   "source": [
    "class SentenceGetter(object):\n",
    "    \n",
    "    def __init__(self, data):\n",
    "        self.n_sent = 1\n",
    "        self.data = data\n",
    "        self.empty = False\n",
    "        agg_func = lambda s: [(w, t) for w, t in zip(s[\"word\"].values.tolist(),\n",
    "                                                           s[\"tag\"].values.tolist())]\n",
    "        self.grouped = self.data.groupby(\"text_ID\").apply(agg_func)\n",
    "        self.sentences = [s for s in self.grouped]\n",
    "    \n",
    "    def get_next(self):\n",
    "        try:\n",
    "            s = self.grouped[\"Sentence: {}\".format(self.n_sent)]\n",
    "            self.n_sent += 1\n",
    "            return s\n",
    "        except:\n",
    "            return None"
   ]
  },
  {
   "cell_type": "code",
   "execution_count": 26,
   "metadata": {},
   "outputs": [],
   "source": [
    "getter = SentenceGetter(DS)"
   ]
  },
  {
   "cell_type": "code",
   "execution_count": 27,
   "metadata": {},
   "outputs": [],
   "source": [
    "sentences = getter.sentences\n"
   ]
  },
  {
   "cell_type": "code",
   "execution_count": 28,
   "metadata": {},
   "outputs": [
    {
     "data": {
      "text/plain": [
       "[('Pt.', 'O'),\n",
       " ('tehtud', 'O'),\n",
       " ('3', 'O'),\n",
       " ('plasmaferees,', 'O'),\n",
       " ('talus', 'O'),\n",
       " ('hästi.', 'O'),\n",
       " ('Eemaldatud', 'O'),\n",
       " ('700', 'O'),\n",
       " ('ml', 'O'),\n",
       " ('plasmat.', 'O'),\n",
       " ('RR', 'object'),\n",
       " ('112/60', 'value'),\n",
       " ('mmHg.', 'O'),\n",
       " ('Tgasi', 'O'),\n",
       " ('22.10.09.', 'O')]"
      ]
     },
     "execution_count": 28,
     "metadata": {},
     "output_type": "execute_result"
    }
   ],
   "source": [
    "sentences[1]"
   ]
  },
  {
   "cell_type": "code",
   "execution_count": 29,
   "metadata": {},
   "outputs": [
    {
     "data": {
      "text/plain": [
       "count    157280.000000\n",
       "mean          6.230697\n",
       "std           4.330117\n",
       "min           1.000000\n",
       "25%           3.000000\n",
       "50%           5.000000\n",
       "75%           9.000000\n",
       "max          54.000000\n",
       "Name: word, dtype: float64"
      ]
     },
     "execution_count": 29,
     "metadata": {},
     "output_type": "execute_result"
    }
   ],
   "source": [
    "# np.median([len(s) for s in sentences])\n",
    "DS.word.apply(lambda x: len(x)).describe()"
   ]
  },
  {
   "cell_type": "code",
   "execution_count": 30,
   "metadata": {},
   "outputs": [
    {
     "data": {
      "text/plain": [
       "150"
      ]
     },
     "execution_count": 30,
     "metadata": {},
     "output_type": "execute_result"
    }
   ],
   "source": [
    "LengthsList = []\n",
    "for i in range(len(sentences)):\n",
    "    LengthsList.append(len(sentences[i]))\n",
    "np.max(LengthsList)"
   ]
  },
  {
   "cell_type": "code",
   "execution_count": 31,
   "metadata": {},
   "outputs": [
    {
     "data": {
      "text/plain": [
       "[('Kokkuvõte:', 'O'),\n",
       " ('<ANONYM', 'O'),\n",
       " ('id=\"0\"', 'O'),\n",
       " ('type=\"per\"', 'O'),\n",
       " ('morph=\"_A_', 'O'),\n",
       " ('sg', 'O'),\n",
       " ('n\"/>', 'O'),\n",
       " ('nähtava', 'O'),\n",
       " ('patoloogiata.', 'O'),\n",
       " ('Kokkuvõte:', 'O'),\n",
       " ('<ANONYM', 'O'),\n",
       " ('id=\"0\"', 'O'),\n",
       " ('type=\"per\"', 'O'),\n",
       " ('morph=\"_A_', 'O'),\n",
       " ('sg', 'O'),\n",
       " ('n\"/>', 'O'),\n",
       " ('nähtava', 'O'),\n",
       " ('patoloogiata.', 'O'),\n",
       " ('Kokkuvõte:', 'O'),\n",
       " ('<ANONYM', 'O'),\n",
       " ('id=\"0\"', 'O'),\n",
       " ('type=\"per\"', 'O'),\n",
       " ('morph=\"_A_', 'O'),\n",
       " ('sg', 'O'),\n",
       " ('n\"/>', 'O'),\n",
       " ('nähtava', 'O'),\n",
       " ('patoloogiata.', 'O'),\n",
       " ('Kokkuvõte:', 'O'),\n",
       " ('<ANONYM', 'O'),\n",
       " ('id=\"0\"', 'O'),\n",
       " ('type=\"per\"', 'O'),\n",
       " ('morph=\"_A_', 'O'),\n",
       " ('sg', 'O'),\n",
       " ('n\"/>', 'O'),\n",
       " ('nähtava', 'O'),\n",
       " ('patoloogiata.', 'O'),\n",
       " ('Kokkuvõte:', 'O'),\n",
       " ('<ANONYM', 'O'),\n",
       " ('id=\"0\"', 'O'),\n",
       " ('type=\"per\"', 'O'),\n",
       " ('morph=\"_A_', 'O'),\n",
       " ('sg', 'O'),\n",
       " ('n\"/>', 'O'),\n",
       " ('nähtava', 'O'),\n",
       " ('patoloogiata.', 'O'),\n",
       " ('Kokkuvõte:', 'O'),\n",
       " ('<ANONYM', 'O'),\n",
       " ('id=\"0\"', 'O'),\n",
       " ('type=\"per\"', 'O'),\n",
       " ('morph=\"_A_', 'O'),\n",
       " ('sg', 'O'),\n",
       " ('n\"/>', 'O'),\n",
       " ('nähtava', 'O'),\n",
       " ('patoloogiata.', 'O')]"
      ]
     },
     "execution_count": 31,
     "metadata": {},
     "output_type": "execute_result"
    }
   ],
   "source": [
    "sentences[6]"
   ]
  },
  {
   "cell_type": "code",
   "execution_count": 32,
   "metadata": {},
   "outputs": [],
   "source": [
    "max_len = 150\n",
    "max_len_char = 10"
   ]
  },
  {
   "cell_type": "code",
   "execution_count": 33,
   "metadata": {},
   "outputs": [],
   "source": [
    "tag2idx = {t: i + 1 for i, t in enumerate(tags)}\n",
    "tag2idx[\"PAD\"] = 0\n",
    "idx2tag = {i: w for w, i in tag2idx.items()}"
   ]
  },
  {
   "cell_type": "code",
   "execution_count": 34,
   "metadata": {},
   "outputs": [
    {
     "name": "stdout",
     "output_type": "stream",
     "text": [
      "104\n"
     ]
    }
   ],
   "source": [
    "chars = set([w_i for w in words for w_i in w])\n",
    "n_chars = len(chars)\n",
    "print(n_chars)\n"
   ]
  },
  {
   "cell_type": "code",
   "execution_count": 35,
   "metadata": {},
   "outputs": [],
   "source": [
    "char2idx = {c: i + 2 for i, c in enumerate(chars)}\n",
    "char2idx[\"UNK\"] = 1 #For predictions\n",
    "char2idx[\"PAD\"] = 0"
   ]
  },
  {
   "cell_type": "code",
   "execution_count": 36,
   "metadata": {},
   "outputs": [],
   "source": [
    "idx2char = {i: w for w, i in char2idx.items()}"
   ]
  },
  {
   "cell_type": "code",
   "execution_count": 37,
   "metadata": {},
   "outputs": [],
   "source": [
    "X_char = []\n",
    "for sentence in sentences:\n",
    "    sent_seq = []\n",
    "    for i in range(max_len):\n",
    "        word_seq = []\n",
    "        for j in range(max_len_char):\n",
    "            try:\n",
    "                word_seq.append(char2idx.get(sentence[i][0][j]))\n",
    "            except:\n",
    "                word_seq.append(char2idx.get(\"PAD\"))\n",
    "        sent_seq.append(word_seq)\n",
    "    X_char.append(np.array(sent_seq))"
   ]
  },
  {
   "cell_type": "code",
   "execution_count": 38,
   "metadata": {},
   "outputs": [],
   "source": [
    "y = [[tag2idx[w[1]] for w  in s] for s in sentences]\n"
   ]
  },
  {
   "cell_type": "code",
   "execution_count": 39,
   "metadata": {},
   "outputs": [
    {
     "data": {
      "text/plain": [
       "13643"
      ]
     },
     "execution_count": 39,
     "metadata": {},
     "output_type": "execute_result"
    }
   ],
   "source": [
    "len(sentences)"
   ]
  },
  {
   "cell_type": "code",
   "execution_count": 40,
   "metadata": {},
   "outputs": [],
   "source": [
    "y = pad_sequences(maxlen=max_len, sequences=y, value=tag2idx[\"PAD\"], padding='post', truncating='post')\n"
   ]
  },
  {
   "cell_type": "code",
   "execution_count": 41,
   "metadata": {},
   "outputs": [],
   "source": [
    "from sklearn.model_selection import train_test_split\n",
    "X_char_tr, X_char_te, y_tr,  y_te= train_test_split(X_char, y, test_size=0.2, random_state=2018)\n"
   ]
  },
  {
   "cell_type": "code",
   "execution_count": 42,
   "metadata": {},
   "outputs": [],
   "source": [
    "# hidden_nodes = int(2/3 * (max_len * max_len_char))\n",
    "# print(f\"The number of hidden nodes is {hidden_nodes}.\")\n"
   ]
  },
  {
   "cell_type": "code",
   "execution_count": 43,
   "metadata": {},
   "outputs": [],
   "source": [
    "from keras.models import Model, Input\n",
    "from keras.layers import LSTM, Embedding, Dense, TimeDistributed, Dropout, Conv1D\n",
    "from keras.layers import Bidirectional, concatenate, SpatialDropout1D, GlobalMaxPooling1D\n",
    "\n",
    "\n",
    "# input and embeddings for characters\n",
    "char_in = Input(shape=(max_len, max_len_char,))\n",
    "emb_char = TimeDistributed(Embedding(input_dim=n_chars + 2, output_dim=10,\n",
    "                           input_length=max_len_char, mask_zero=True))(char_in)\n",
    "# character LSTM to get word encodings by characters\n",
    "char_enc = TimeDistributed(LSTM(units=20, return_sequences=False,\n",
    "                                recurrent_dropout=0.5))(emb_char)\n",
    "\n",
    "# main LSTM\n",
    "x = SpatialDropout1D(0.3)(char_enc)\n",
    "main_lstm = Bidirectional(LSTM(units=50, return_sequences=True,\n",
    "                               recurrent_dropout=0.6))(x)\n",
    "out = TimeDistributed(Dense(n_tags + 1, activation=\"softmax\"))(main_lstm)\n",
    "\n",
    "model = Model( char_in, out)\n",
    "\n",
    "\n"
   ]
  },
  {
   "cell_type": "code",
   "execution_count": 44,
   "metadata": {},
   "outputs": [
    {
     "name": "stdout",
     "output_type": "stream",
     "text": [
      "Model: \"model_2\"\n",
      "_________________________________________________________________\n",
      "Layer (type)                 Output Shape              Param #   \n",
      "=================================================================\n",
      "input_2 (InputLayer)         (None, 150, 10)           0         \n",
      "_________________________________________________________________\n",
      "time_distributed_4 (TimeDist (None, 150, 10, 10)       1060      \n",
      "_________________________________________________________________\n",
      "time_distributed_5 (TimeDist (None, 150, 20)           2480      \n",
      "_________________________________________________________________\n",
      "spatial_dropout1d_2 (Spatial (None, 150, 20)           0         \n",
      "_________________________________________________________________\n",
      "bidirectional_2 (Bidirection (None, 150, 100)          28400     \n",
      "_________________________________________________________________\n",
      "time_distributed_6 (TimeDist (None, 150, 4)            404       \n",
      "=================================================================\n",
      "Total params: 32,344\n",
      "Trainable params: 32,344\n",
      "Non-trainable params: 0\n",
      "_________________________________________________________________\n"
     ]
    }
   ],
   "source": [
    "model.compile(optimizer=\"adam\", loss=\"sparse_categorical_crossentropy\", metrics=[\"acc\"])\n",
    "model.summary()\n"
   ]
  },
  {
   "cell_type": "code",
   "execution_count": 45,
   "metadata": {},
   "outputs": [
    {
     "name": "stderr",
     "output_type": "stream",
     "text": [
      "C:\\Users\\Kasutaja\\Anaconda3\\envs\\myEnv\\lib\\site-packages\\tensorflow_core\\python\\framework\\indexed_slices.py:433: UserWarning: Converting sparse IndexedSlices to a dense Tensor of unknown shape. This may consume a large amount of memory.\n",
      "  \"Converting sparse IndexedSlices to a dense Tensor of unknown shape. \"\n"
     ]
    },
    {
     "name": "stdout",
     "output_type": "stream",
     "text": [
      "Train on 9822 samples, validate on 1092 samples\n",
      "Epoch 1/10\n",
      "9822/9822 [==============================] - 105s 11ms/step - loss: 0.0298 - acc: 0.9106 - val_loss: 0.0097 - val_acc: 0.9713\n",
      "Epoch 2/10\n",
      "9822/9822 [==============================] - 101s 10ms/step - loss: 0.0080 - acc: 0.9759 - val_loss: 0.0061 - val_acc: 0.9799\n",
      "Epoch 3/10\n",
      "9822/9822 [==============================] - 101s 10ms/step - loss: 0.0054 - acc: 0.9826 - val_loss: 0.0036 - val_acc: 0.9881\n",
      "Epoch 4/10\n",
      "9822/9822 [==============================] - 108s 11ms/step - loss: 0.0041 - acc: 0.9865 - val_loss: 0.0029 - val_acc: 0.9906\n",
      "Epoch 5/10\n",
      "9822/9822 [==============================] - 104s 11ms/step - loss: 0.0034 - acc: 0.9882 - val_loss: 0.0027 - val_acc: 0.9907\n",
      "Epoch 6/10\n",
      "9822/9822 [==============================] - 95s 10ms/step - loss: 0.0032 - acc: 0.9889 - val_loss: 0.0025 - val_acc: 0.9910\n",
      "Epoch 7/10\n",
      "9822/9822 [==============================] - 94s 10ms/step - loss: 0.0030 - acc: 0.9898 - val_loss: 0.0023 - val_acc: 0.9924\n",
      "Epoch 8/10\n",
      "9822/9822 [==============================] - 68s 7ms/step - loss: 0.0028 - acc: 0.9902 - val_loss: 0.0023 - val_acc: 0.9927\n",
      "Epoch 9/10\n",
      "9822/9822 [==============================] - 65s 7ms/step - loss: 0.0027 - acc: 0.9902 - val_loss: 0.0022 - val_acc: 0.9927\n",
      "Epoch 10/10\n",
      "9822/9822 [==============================] - 66s 7ms/step - loss: 0.0026 - acc: 0.9910 - val_loss: 0.0020 - val_acc: 0.9930\n"
     ]
    }
   ],
   "source": [
    "history = model.fit(np.array(X_char_tr).reshape((len(X_char_tr), max_len, max_len_char)),\n",
    "                    np.array(y_tr).reshape(len(y_tr), max_len, 1),\n",
    "                    batch_size=32, epochs=10, validation_split=0.1, verbose=1)\n"
   ]
  },
  {
   "cell_type": "code",
   "execution_count": 46,
   "metadata": {},
   "outputs": [],
   "source": [
    "hist = pd.DataFrame(history.history)\n"
   ]
  },
  {
   "cell_type": "code",
   "execution_count": 47,
   "metadata": {},
   "outputs": [
    {
     "data": {
      "image/png": "[encoded data removed]",
      "text/plain": [
       "<Figure size 864x864 with 1 Axes>"
      ]
     },
     "metadata": {},
     "output_type": "display_data"
    }
   ],
   "source": [
    "import matplotlib.pyplot as plt\n",
    "plt.style.use(\"ggplot\")\n",
    "plt.figure(figsize=(12,12))\n",
    "plt.plot(hist[\"acc\"])\n",
    "plt.plot(hist[\"val_acc\"])\n",
    "plt.show()\n"
   ]
  },
  {
   "cell_type": "code",
   "execution_count": 48,
   "metadata": {},
   "outputs": [],
   "source": [
    "y_pred = model.predict(\n",
    "                        np.array(X_char_te).reshape((len(X_char_te),\n",
    "                                                     max_len, max_len_char)))\n"
   ]
  },
  {
   "cell_type": "code",
   "execution_count": 49,
   "metadata": {},
   "outputs": [],
   "source": [
    "def charindx2word(Tword):\n",
    "    word = []\n",
    "    for i in range(len(Tword)):\n",
    "        if(Tword[i] !=0):\n",
    "            word.append(idx2char[Tword[i]])\n",
    "    return \"\".join(word)"
   ]
  },
  {
   "cell_type": "code",
   "execution_count": 50,
   "metadata": {},
   "outputs": [
    {
     "name": "stdout",
     "output_type": "stream",
     "text": [
      "Word           ||True ||Pred\n",
      "==============================\n",
      "Üldseisnud     : O     O\n",
      "rahuldav.S     : O     O\n",
      "regulaarne     : object O\n",
      "mm             : O     O\n",
      "Hg.Vesikul     : O     O\n",
      "hingamiska     : O     O\n",
      "pehme,valu     : O     O\n"
     ]
    }
   ],
   "source": [
    "i = 1000\n",
    "p = np.argmax(y_pred[i], axis=-1)\n",
    "print(\"{:15}||{:5}||{}\".format(\"Word\", \"True\", \"Pred\"))\n",
    "print(30 * \"=\")\n",
    "for w, t, pred in zip(X_char_te[i], y_te[i], p):\n",
    "    if t != 0: #PAD\n",
    "        print(\"{:15}: {:5} {}\".format(charindx2word(w), idx2tag[t], idx2tag[pred]))\n"
   ]
  },
  {
   "cell_type": "code",
   "execution_count": 51,
   "metadata": {},
   "outputs": [
    {
     "name": "stdout",
     "output_type": "stream",
     "text": [
      "Word           ||True ||Pred\n",
      "==============================\n",
      "Üldseisnud     : O     O\n",
      "rahuldav.S     : O     O\n",
      "ebaregulaa     : object O\n",
      "mm             : O     O\n",
      "Hg.Vesiula     : O     O\n",
      "hingamiska     : O     O\n",
      "pehme,valu     : O     O\n"
     ]
    }
   ],
   "source": [
    "i = 14\n",
    "p = np.argmax(y_pred[i], axis=-1)\n",
    "print(\"{:15}||{:5}||{}\".format(\"Word\", \"True\", \"Pred\"))\n",
    "print(30 * \"=\")\n",
    "for w, t, pred in zip(X_char_te[i], y_te[i], p):\n",
    "    if t != 0: #PAD\n",
    "        print(\"{:15}: {:5} {}\".format(charindx2word(w), idx2tag[t], idx2tag[pred]))\n"
   ]
  },
  {
   "cell_type": "code",
   "execution_count": 55,
   "metadata": {},
   "outputs": [],
   "source": [
    "def pred2label(pred):\n",
    "    out = []\n",
    "    for pred_i in pred:\n",
    "        out_i = []\n",
    "        for p in pred_i:\n",
    "            p_i = np.argmax(p, axis=-1)\n",
    "#             out_i.append(idx2tag[p_i])\n",
    "            out_i.append(idx2tag[p_i].replace(\"PAD\", \"O\"))\n",
    "\n",
    "        out.append(out_i)\n",
    "    return out\n",
    "pred_labels = pred2label(y_pred)\n",
    "\n",
    "def pred2labelV2(pred):\n",
    "    out = []\n",
    "    for pred_i in pred:\n",
    "        out_i = []\n",
    "        for p in pred_i:\n",
    "#             out_i.append(idx2tag[p])\n",
    "            out_i.append(idx2tag[p].replace(\"PAD\", \"O\"))\n",
    "\n",
    "        out.append(out_i)\n",
    "    return out\n",
    "test_labels = pred2labelV2(y_te)"
   ]
  },
  {
   "cell_type": "code",
   "execution_count": 56,
   "metadata": {},
   "outputs": [
    {
     "name": "stdout",
     "output_type": "stream",
     "text": [
      "F1-score: 90.4%\n"
     ]
    }
   ],
   "source": [
    "from seqeval.metrics import accuracy_score,precision_score, recall_score, f1_score, classification_report\n",
    "print(\"F1-score: {:.1%}\".format(f1_score(test_labels, pred_labels)))"
   ]
  },
  {
   "cell_type": "code",
   "execution_count": 57,
   "metadata": {},
   "outputs": [
    {
     "name": "stdout",
     "output_type": "stream",
     "text": [
      "              precision    recall  f1-score   support\n",
      "\n",
      "           O       1.00      0.92      0.96    405697\n",
      "      object       0.77      0.93      0.84      2075\n",
      "       value       0.04      0.90      0.08      1578\n",
      "\n",
      "    accuracy                           0.92    409350\n",
      "   macro avg       0.60      0.92      0.63    409350\n",
      "weighted avg       0.99      0.92      0.95    409350\n",
      "\n"
     ]
    }
   ],
   "source": [
    "from sklearn_crfsuite.metrics import flat_classification_report  \n",
    "report = flat_classification_report(y_pred=pred_labels, y_true=test_labels)\n",
    "print(report)"
   ]
  },
  {
   "cell_type": "code",
   "execution_count": 58,
   "metadata": {},
   "outputs": [
    {
     "name": "stdout",
     "output_type": "stream",
     "text": [
      "           precision    recall  f1-score   support\n",
      "\n",
      "    value       0.85      0.81      0.83      1577\n",
      "   object       0.99      0.93      0.96      2064\n",
      "\n",
      "micro avg       0.93      0.88      0.90      3641\n",
      "macro avg       0.93      0.88      0.90      3641\n",
      "\n"
     ]
    }
   ],
   "source": [
    "print(classification_report(test_labels,pred_labels))"
   ]
  }
 ],
 "metadata": {
  "kernelspec": {
   "display_name": "Python 3",
   "language": "python",
   "name": "python3"
  },
  "language_info": {
   "codemirror_mode": {
    "name": "ipython",
    "version": 3
   },
   "file_extension": ".py",
   "mimetype": "text/x-python",
   "name": "python",
   "nbconvert_exporter": "python",
   "pygments_lexer": "ipython3",
   "version": "3.7.6"
  }
 },
 "nbformat": 4,
 "nbformat_minor": 4
}
