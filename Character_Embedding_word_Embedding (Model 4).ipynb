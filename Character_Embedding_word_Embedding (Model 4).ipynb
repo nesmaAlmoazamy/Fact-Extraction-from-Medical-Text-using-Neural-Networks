{
 "cells": [
  {
   "cell_type": "code",
   "execution_count": 1,
   "metadata": {},
   "outputs": [
    {
     "name": "stderr",
     "output_type": "stream",
     "text": [
      "Using TensorFlow backend.\n"
     ]
    }
   ],
   "source": [
    "import csv\n",
    "import numpy as np\n",
    "import pandas as pd\n",
    "from keras.preprocessing.text import Tokenizer\n",
    "from keras.preprocessing.sequence import pad_sequences\n",
    "import pickle\n"
   ]
  },
  {
   "cell_type": "code",
   "execution_count": 2,
   "metadata": {},
   "outputs": [],
   "source": [
    "DS = pd.read_csv(\"ObjectSubset150SentenceLength.csv\")"
   ]
  },
  {
   "cell_type": "code",
   "execution_count": 3,
   "metadata": {},
   "outputs": [
    {
     "data": {
      "text/html": [
       "<div>\n",
       "<style scoped>\n",
       "    .dataframe tbody tr th:only-of-type {\n",
       "        vertical-align: middle;\n",
       "    }\n",
       "\n",
       "    .dataframe tbody tr th {\n",
       "        vertical-align: top;\n",
       "    }\n",
       "\n",
       "    .dataframe thead th {\n",
       "        text-align: right;\n",
       "    }\n",
       "</style>\n",
       "<table border=\"1\" class=\"dataframe\">\n",
       "  <thead>\n",
       "    <tr style=\"text-align: right;\">\n",
       "      <th></th>\n",
       "      <th>text_ID</th>\n",
       "      <th>word</th>\n",
       "      <th>tag</th>\n",
       "    </tr>\n",
       "  </thead>\n",
       "  <tbody>\n",
       "    <tr>\n",
       "      <th>0</th>\n",
       "      <td>46809</td>\n",
       "      <td>RR</td>\n",
       "      <td>object</td>\n",
       "    </tr>\n",
       "    <tr>\n",
       "      <th>1</th>\n",
       "      <td>46809</td>\n",
       "      <td>130/80</td>\n",
       "      <td>object</td>\n",
       "    </tr>\n",
       "    <tr>\n",
       "      <th>2</th>\n",
       "      <td>46809</td>\n",
       "      <td>mmHg.</td>\n",
       "      <td>NaN</td>\n",
       "    </tr>\n",
       "    <tr>\n",
       "      <th>3</th>\n",
       "      <td>47482</td>\n",
       "      <td>RR142/89mmHg,</td>\n",
       "      <td>object</td>\n",
       "    </tr>\n",
       "    <tr>\n",
       "      <th>4</th>\n",
       "      <td>47482</td>\n",
       "      <td>HR</td>\n",
       "      <td>NaN</td>\n",
       "    </tr>\n",
       "  </tbody>\n",
       "</table>\n",
       "</div>"
      ],
      "text/plain": [
       "   text_ID           word     tag\n",
       "0    46809             RR  object\n",
       "1    46809         130/80  object\n",
       "2    46809          mmHg.     NaN\n",
       "3    47482  RR142/89mmHg,  object\n",
       "4    47482             HR     NaN"
      ]
     },
     "execution_count": 3,
     "metadata": {},
     "output_type": "execute_result"
    }
   ],
   "source": [
    "DS.head()"
   ]
  },
  {
   "cell_type": "code",
   "execution_count": 4,
   "metadata": {},
   "outputs": [],
   "source": [
    "DS['tag'].fillna('text', inplace=True)"
   ]
  },
  {
   "cell_type": "code",
   "execution_count": 5,
   "metadata": {},
   "outputs": [
    {
     "data": {
      "text/plain": [
       "27741"
      ]
     },
     "execution_count": 5,
     "metadata": {},
     "output_type": "execute_result"
    }
   ],
   "source": [
    "words = list(set(DS[\"word\"].values))\n",
    "n_words = len(words); n_words"
   ]
  },
  {
   "cell_type": "code",
   "execution_count": 6,
   "metadata": {},
   "outputs": [
    {
     "data": {
      "text/plain": [
       "2"
      ]
     },
     "execution_count": 6,
     "metadata": {},
     "output_type": "execute_result"
    }
   ],
   "source": [
    "tags = list(set(DS[\"tag\"].values))\n",
    "n_tags = len(tags); n_tags\n"
   ]
  },
  {
   "cell_type": "code",
   "execution_count": 7,
   "metadata": {},
   "outputs": [],
   "source": [
    "class SentenceGetter(object):\n",
    "    def __init__(self, data):\n",
    "        self.n_sent = 1\n",
    "        self.data = data\n",
    "        self.empty = False\n",
    "        agg_func = lambda s: [(w, t) for w, t in zip(s[\"word\"].values.tolist(),\n",
    "                                                           s[\"tag\"].values.tolist())]\n",
    "        self.grouped = self.data.groupby(\"text_ID\").apply(agg_func)\n",
    "        self.sentences = [s for s in self.grouped]"
   ]
  },
  {
   "cell_type": "code",
   "execution_count": 8,
   "metadata": {},
   "outputs": [],
   "source": [
    "getter = SentenceGetter(DS)"
   ]
  },
  {
   "cell_type": "code",
   "execution_count": 9,
   "metadata": {},
   "outputs": [],
   "source": [
    "sentences = getter.sentences\n"
   ]
  },
  {
   "cell_type": "code",
   "execution_count": 10,
   "metadata": {},
   "outputs": [
    {
     "data": {
      "text/plain": [
       "[('Pt.', 'text'),\n",
       " ('tehtud', 'text'),\n",
       " ('3', 'text'),\n",
       " ('plasmaferees,', 'text'),\n",
       " ('talus', 'text'),\n",
       " ('hästi.', 'text'),\n",
       " ('Eemaldatud', 'text'),\n",
       " ('700', 'text'),\n",
       " ('ml', 'text'),\n",
       " ('plasmat.', 'text'),\n",
       " ('RR', 'object'),\n",
       " ('112/60', 'object'),\n",
       " ('mmHg.', 'text'),\n",
       " ('Tgasi', 'text'),\n",
       " ('22.10.09.', 'text')]"
      ]
     },
     "execution_count": 10,
     "metadata": {},
     "output_type": "execute_result"
    }
   ],
   "source": [
    "sentences[1]"
   ]
  },
  {
   "cell_type": "code",
   "execution_count": 11,
   "metadata": {},
   "outputs": [
    {
     "data": {
      "text/plain": [
       "54"
      ]
     },
     "execution_count": 11,
     "metadata": {},
     "output_type": "execute_result"
    }
   ],
   "source": [
    "max([len(s) for s in DS.word])"
   ]
  },
  {
   "cell_type": "code",
   "execution_count": 12,
   "metadata": {},
   "outputs": [],
   "source": [
    "max_len = 150\n",
    "max_len_char = 10"
   ]
  },
  {
   "cell_type": "code",
   "execution_count": 13,
   "metadata": {},
   "outputs": [],
   "source": [
    "word2idx = {w: i + 2 for i, w in enumerate(words)}\n",
    "word2idx[\"UNK\"] = 1\n",
    "word2idx[\"PAD\"] = 0\n",
    "idx2word = {i: w for w, i in word2idx.items()}\n",
    "tag2idx = {t: i + 1 for i, t in enumerate(tags)}\n",
    "tag2idx[\"PAD\"] = 0\n",
    "idx2tag = {i: w for w, i in tag2idx.items()}"
   ]
  },
  {
   "cell_type": "code",
   "execution_count": 14,
   "metadata": {},
   "outputs": [],
   "source": [
    "from keras.preprocessing.sequence import pad_sequences\n",
    "X_word = [[word2idx[w[0]] for w in s] for s in sentences]\n"
   ]
  },
  {
   "cell_type": "code",
   "execution_count": 15,
   "metadata": {},
   "outputs": [],
   "source": [
    "X_word = pad_sequences(maxlen=max_len, sequences=X_word, value=word2idx[\"PAD\"], padding='post', truncating='post')"
   ]
  },
  {
   "cell_type": "code",
   "execution_count": 16,
   "metadata": {},
   "outputs": [
    {
     "name": "stdout",
     "output_type": "stream",
     "text": [
      "104\n"
     ]
    }
   ],
   "source": [
    "chars = set([w_i for w in words for w_i in w])\n",
    "n_chars = len(chars)\n",
    "print(n_chars)\n"
   ]
  },
  {
   "cell_type": "code",
   "execution_count": 17,
   "metadata": {},
   "outputs": [],
   "source": [
    "char2idx = {c: i + 2 for i, c in enumerate(chars)}\n",
    "char2idx[\"UNK\"] = 1\n",
    "char2idx[\"PAD\"] = 0"
   ]
  },
  {
   "cell_type": "code",
   "execution_count": 18,
   "metadata": {},
   "outputs": [],
   "source": [
    "X_char = []\n",
    "for sentence in sentences:\n",
    "    sent_seq = []\n",
    "    for i in range(max_len):\n",
    "        word_seq = []\n",
    "        for j in range(max_len_char):\n",
    "            try:\n",
    "                word_seq.append(char2idx.get(sentence[i][0][j]))\n",
    "            except:\n",
    "                word_seq.append(char2idx.get(\"PAD\"))\n",
    "        sent_seq.append(word_seq)\n",
    "    X_char.append(np.array(sent_seq))"
   ]
  },
  {
   "cell_type": "code",
   "execution_count": 19,
   "metadata": {},
   "outputs": [],
   "source": [
    "y = [[tag2idx[w[1]] for w in s] for s in sentences]\n"
   ]
  },
  {
   "cell_type": "code",
   "execution_count": 20,
   "metadata": {},
   "outputs": [],
   "source": [
    "y = pad_sequences(maxlen=max_len, sequences=y, value=tag2idx[\"PAD\"], padding='post', truncating='post')\n"
   ]
  },
  {
   "cell_type": "code",
   "execution_count": 21,
   "metadata": {},
   "outputs": [],
   "source": [
    "from sklearn.model_selection import train_test_split\n",
    "X_word_tr, X_word_te, y_tr, y_te = train_test_split(X_word, y, test_size=0.2, random_state=2018)\n",
    "X_char_tr, X_char_te, _, _ = train_test_split(X_char, y, test_size=0.2, random_state=2018)\n"
   ]
  },
  {
   "cell_type": "code",
   "execution_count": 22,
   "metadata": {},
   "outputs": [
    {
     "data": {
      "text/plain": [
       "150"
      ]
     },
     "execution_count": 22,
     "metadata": {},
     "output_type": "execute_result"
    }
   ],
   "source": [
    "max_len"
   ]
  },
  {
   "cell_type": "code",
   "execution_count": 23,
   "metadata": {},
   "outputs": [],
   "source": [
    "from keras.models import Model, Input\n",
    "from keras.layers import LSTM, Embedding, Dense, TimeDistributed, Dropout, Conv1D\n",
    "from keras.layers import Bidirectional, concatenate, SpatialDropout1D, GlobalMaxPooling1D\n",
    "\n",
    "\n",
    "# input and embedding for words\n",
    "word_in = Input(shape=(max_len,))\n",
    "emb_word = Embedding(input_dim=n_words + 2, output_dim=20,\n",
    "                     input_length=max_len)(word_in)\n",
    "\n",
    "# input and embeddings for characters\n",
    "char_in = Input(shape=(max_len, max_len_char,))\n",
    "emb_char = TimeDistributed(Embedding(input_dim=n_chars + 2, output_dim=20,\n",
    "                           input_length=max_len_char, mask_zero=True))(char_in)\n",
    "# character LSTM to get word encodings by characters\n",
    "char_enc = TimeDistributed(LSTM(units=20, return_sequences=False,\n",
    "                                recurrent_dropout=0.5))(emb_char)\n",
    "\n",
    "# main LSTM\n",
    "x = concatenate([emb_word, char_enc])\n",
    "x = SpatialDropout1D(0.3)(x)\n",
    "main_lstm = Bidirectional(LSTM(units=20, return_sequences=True,\n",
    "                               recurrent_dropout=0.5))(x)\n",
    "out = TimeDistributed(Dense(n_tags + 1, activation=\"softmax\"))(main_lstm)\n",
    "\n",
    "model = Model([word_in, char_in], out)\n",
    "\n",
    "\n"
   ]
  },
  {
   "cell_type": "code",
   "execution_count": 24,
   "metadata": {},
   "outputs": [
    {
     "name": "stdout",
     "output_type": "stream",
     "text": [
      "Model: \"model_1\"\n",
      "__________________________________________________________________________________________________\n",
      "Layer (type)                    Output Shape         Param #     Connected to                     \n",
      "==================================================================================================\n",
      "input_2 (InputLayer)            (None, 150, 10)      0                                            \n",
      "__________________________________________________________________________________________________\n",
      "input_1 (InputLayer)            (None, 150)          0                                            \n",
      "__________________________________________________________________________________________________\n",
      "time_distributed_1 (TimeDistrib (None, 150, 10, 20)  2120        input_2[0][0]                    \n",
      "__________________________________________________________________________________________________\n",
      "embedding_1 (Embedding)         (None, 150, 20)      554860      input_1[0][0]                    \n",
      "__________________________________________________________________________________________________\n",
      "time_distributed_2 (TimeDistrib (None, 150, 20)      3280        time_distributed_1[0][0]         \n",
      "__________________________________________________________________________________________________\n",
      "concatenate_1 (Concatenate)     (None, 150, 40)      0           embedding_1[0][0]                \n",
      "                                                                 time_distributed_2[0][0]         \n",
      "__________________________________________________________________________________________________\n",
      "spatial_dropout1d_1 (SpatialDro (None, 150, 40)      0           concatenate_1[0][0]              \n",
      "__________________________________________________________________________________________________\n",
      "bidirectional_1 (Bidirectional) (None, 150, 40)      9760        spatial_dropout1d_1[0][0]        \n",
      "__________________________________________________________________________________________________\n",
      "time_distributed_3 (TimeDistrib (None, 150, 3)       123         bidirectional_1[0][0]            \n",
      "==================================================================================================\n",
      "Total params: 570,143\n",
      "Trainable params: 570,143\n",
      "Non-trainable params: 0\n",
      "__________________________________________________________________________________________________\n"
     ]
    }
   ],
   "source": [
    "model.compile(optimizer=\"adam\", loss=\"sparse_categorical_crossentropy\", metrics=[\"acc\"])\n",
    "model.summary()\n"
   ]
  },
  {
   "cell_type": "code",
   "execution_count": 25,
   "metadata": {},
   "outputs": [
    {
     "data": {
      "image/png": "[encoded data removed]",
      "text/plain": [
       "<IPython.core.display.Image object>"
      ]
     },
     "execution_count": 25,
     "metadata": {},
     "output_type": "execute_result"
    }
   ],
   "source": [
    "\n",
    "from keras.utils.vis_utils import plot_model\n",
    "plot_model(model, to_file='WordEmbCharEmb_Model_plot.png', show_shapes=True, show_layer_names=True)"
   ]
  },
  {
   "cell_type": "code",
   "execution_count": 25,
   "metadata": {},
   "outputs": [
    {
     "data": {
      "text/plain": [
       "(10914, 150)"
      ]
     },
     "execution_count": 25,
     "metadata": {},
     "output_type": "execute_result"
    }
   ],
   "source": [
    "X_word_tr.shape"
   ]
  },
  {
   "cell_type": "code",
   "execution_count": 26,
   "metadata": {},
   "outputs": [
    {
     "data": {
      "text/plain": [
       "(150, 10)"
      ]
     },
     "execution_count": 26,
     "metadata": {},
     "output_type": "execute_result"
    }
   ],
   "source": [
    "X_char_tr[1].shape"
   ]
  },
  {
   "cell_type": "code",
   "execution_count": 27,
   "metadata": {},
   "outputs": [
    {
     "data": {
      "text/plain": [
       "(10914, 150, 10)"
      ]
     },
     "execution_count": 27,
     "metadata": {},
     "output_type": "execute_result"
    }
   ],
   "source": [
    "np.array(X_char_tr).reshape((len(X_char_tr), max_len, max_len_char)).shape"
   ]
  },
  {
   "cell_type": "code",
   "execution_count": 28,
   "metadata": {},
   "outputs": [
    {
     "name": "stderr",
     "output_type": "stream",
     "text": [
      "C:\\Users\\Kasutaja\\Anaconda3\\envs\\myEnv\\lib\\site-packages\\tensorflow_core\\python\\framework\\indexed_slices.py:433: UserWarning: Converting sparse IndexedSlices to a dense Tensor of unknown shape. This may consume a large amount of memory.\n",
      "  \"Converting sparse IndexedSlices to a dense Tensor of unknown shape. \"\n"
     ]
    },
    {
     "name": "stdout",
     "output_type": "stream",
     "text": [
      "Train on 9822 samples, validate on 1092 samples\n",
      "Epoch 1/10\n",
      "9822/9822 [==============================] - 71s 7ms/step - loss: 0.0204 - acc: 0.9321 - val_loss: 0.0043 - val_acc: 0.9873\n",
      "Epoch 2/10\n",
      "9822/9822 [==============================] - 69s 7ms/step - loss: 0.0034 - acc: 0.9892 - val_loss: 0.0025 - val_acc: 0.9904\n",
      "Epoch 3/10\n",
      "9822/9822 [==============================] - 70s 7ms/step - loss: 0.0020 - acc: 0.9935 - val_loss: 0.0021 - val_acc: 0.9923\n",
      "Epoch 4/10\n",
      "9822/9822 [==============================] - 70s 7ms/step - loss: 0.0012 - acc: 0.9956 - val_loss: 0.0020 - val_acc: 0.9933\n",
      "Epoch 5/10\n",
      "9822/9822 [==============================] - 70s 7ms/step - loss: 6.4652e-04 - acc: 0.9974 - val_loss: 0.0020 - val_acc: 0.9930\n",
      "Epoch 6/10\n",
      "9822/9822 [==============================] - 70s 7ms/step - loss: 3.9461e-04 - acc: 0.9987 - val_loss: 0.0021 - val_acc: 0.9930\n",
      "Epoch 7/10\n",
      "9822/9822 [==============================] - 70s 7ms/step - loss: 3.0467e-04 - acc: 0.9989 - val_loss: 0.0021 - val_acc: 0.9927\n",
      "Epoch 8/10\n",
      "9822/9822 [==============================] - 70s 7ms/step - loss: 2.7067e-04 - acc: 0.9992 - val_loss: 0.0021 - val_acc: 0.9929\n",
      "Epoch 9/10\n",
      "9822/9822 [==============================] - 75s 8ms/step - loss: 2.2989e-04 - acc: 0.9991 - val_loss: 0.0021 - val_acc: 0.9930\n",
      "Epoch 10/10\n",
      "9822/9822 [==============================] - 73s 7ms/step - loss: 1.9490e-04 - acc: 0.9994 - val_loss: 0.0022 - val_acc: 0.9923\n"
     ]
    }
   ],
   "source": [
    "history = model.fit([X_word_tr,\n",
    "                     np.array(X_char_tr).reshape((len(X_char_tr), max_len, max_len_char))],\n",
    "                    np.array(y_tr).reshape(len(y_tr), max_len, 1),\n",
    "                    batch_size=32, epochs=10, validation_split=0.1, verbose=1)\n"
   ]
  },
  {
   "cell_type": "code",
   "execution_count": 29,
   "metadata": {},
   "outputs": [],
   "source": [
    "hist = pd.DataFrame(history.history)\n"
   ]
  },
  {
   "cell_type": "code",
   "execution_count": 30,
   "metadata": {},
   "outputs": [
    {
     "data": {
      "image/png": "[encoded data removed]",
      "text/plain": [
       "<Figure size 864x864 with 1 Axes>"
      ]
     },
     "metadata": {},
     "output_type": "display_data"
    }
   ],
   "source": [
    "import matplotlib.pyplot as plt\n",
    "plt.style.use(\"ggplot\")\n",
    "plt.figure(figsize=(12,12))\n",
    "plt.plot(hist[\"acc\"])\n",
    "plt.plot(hist[\"val_acc\"])\n",
    "plt.show()\n"
   ]
  },
  {
   "cell_type": "code",
   "execution_count": 31,
   "metadata": {},
   "outputs": [],
   "source": [
    "y_pred = model.predict([X_word_te,\n",
    "                        np.array(X_char_te).reshape((len(X_char_te),\n",
    "                                                     max_len, max_len_char))])\n"
   ]
  },
  {
   "cell_type": "code",
   "execution_count": 32,
   "metadata": {},
   "outputs": [
    {
     "name": "stdout",
     "output_type": "stream",
     "text": [
      "Word           ||True ||Pred\n",
      "==============================\n",
      "Kardiovaskulaarsüsteem:: text  text\n",
      "RR             : object object\n",
      "160/100mmHg.   : object object\n",
      "Ausk-l         : text  text\n",
      "s-toonid       : text  text\n",
      "reg,           : text  text\n",
      "puhtad,        : text  text\n",
      "fr.            : text  text\n",
      "60*min.        : text  text\n",
      "Kardiovaskulaarsüsteem:: text  text\n",
      "RR             : object object\n",
      "160/100mmHg.   : object object\n",
      "Ausk-l         : text  text\n",
      "s-toonid       : text  text\n",
      "reg,           : text  text\n",
      "puhtad,        : text  text\n",
      "fr.            : text  text\n",
      "60*min.        : text  text\n"
     ]
    }
   ],
   "source": [
    "i = 4\n",
    "p = np.argmax(y_pred[i], axis=-1)\n",
    "print(\"{:15}||{:5}||{}\".format(\"Word\", \"True\", \"Pred\"))\n",
    "print(30 * \"=\")\n",
    "for w, t, pred in zip(X_word_te[i], y_te[i], p):\n",
    "    if w != 0:\n",
    "        print(\"{:15}: {:5} {}\".format(idx2word[w], idx2tag[t], idx2tag[pred]))\n"
   ]
  },
  {
   "cell_type": "code",
   "execution_count": 33,
   "metadata": {},
   "outputs": [],
   "source": [
    "def pred2label(pred):\n",
    "    out = []\n",
    "    for pred_i in pred:\n",
    "        out_i = []\n",
    "        for p in pred_i:\n",
    "            p_i = np.argmax(p, axis=-1)\n",
    "            out_i.append(idx2tag[p_i].replace(\"PAD\",\"text\"))\n",
    "        out.append(out_i)\n",
    "    return out\n",
    "pred_labels = pred2label(y_pred)\n",
    "\n",
    "def pred2labelV2(pred):\n",
    "    out = []\n",
    "    for pred_i in pred:\n",
    "        out_i = []\n",
    "        for p in pred_i:\n",
    "            out_i.append(idx2tag[p].replace(\"PAD\",\"text\"))\n",
    "        out.append(out_i)\n",
    "    return out\n",
    "test_labels = pred2labelV2(y_te)"
   ]
  },
  {
   "cell_type": "code",
   "execution_count": 34,
   "metadata": {},
   "outputs": [
    {
     "name": "stdout",
     "output_type": "stream",
     "text": [
      "puhtad.RR130/90: object text\n",
      "/106           : text  object\n",
      "/106           : text  object\n",
      "ebaregulaarne,fr.87/min.RR-125/100: object text\n",
      "157            : object text\n",
      "*06.01.2015    : text  object\n",
      "72/            : text  object\n",
      "KORRAS.        : object text\n",
      "KOORMUSTEST-KORRAS: object text\n",
      "155/95         : object text\n",
      "24-tunni       : object text\n",
      "Pikkus-174cm,  : object text\n",
      "Nõustamine.RR140/80: object text\n",
      ".RR134/95      : object text\n",
      "suhtes.RR140/80mmhg: object text\n",
      "2.3.RR         : object text\n",
      "kõikumised.RR  : object text\n",
      "140-90mmhg     : object text\n",
      "130/82         : object text\n",
      "sööki.RR-136/74mmHG.: object text\n",
      "/62            : text  object\n",
      "sööki-6,6mmoll,RR-130/64mmHG.: object text\n",
      "regulaarne,fr.68/min.RR-124/78: object text\n",
      "P185           : text  object\n",
      "176/102        : text  object\n",
      "tarvitanud.RR  : object text\n",
      "135/82         : object text\n",
      "125.5/64.1     : object text\n",
      "125.5/64.1     : object text\n",
      "118            : object text\n",
      "kahin.RR       : object text\n",
      "112/81         : object text\n",
      "frekv.RR-144/90mmHg,: object text\n",
      "köha.RR        : object text\n",
      "130,           : object text\n",
      "189            : object text\n",
      "189            : object text\n",
      "72x`RR160/110mmHg,: object text\n",
      "12,9RR         : object text\n",
      "110/70         : object text\n",
      "Analüüsid.RR   : object text\n",
      "Analüüsid.RR   : object text\n",
      "regulaarsed.RR132/: object text\n",
      "x1min,RR       : object text\n",
      "125            : object text\n",
      "x1min,RR       : object text\n",
      "125            : object text\n",
      "170            : object text\n",
      "138/82         : text  object\n",
      "sööki-4,3mmol/l.RR-140/70mmHg.HbA1c-6,2: object text\n",
      "P102           : text  object\n",
      "P102           : text  object\n",
      "rr140/100      : object text\n",
      "tuhmid,kahinata.RR: object text\n",
      "130/82         : object text\n",
      "RR-monitooringul: object text\n",
      "Terve          : text  object\n",
      "regulaarne,fr.59/min.RR-118/80: object text\n",
      "145/80mmHg     : text  object\n",
      "98%,fr.93x/min.RR: object text\n",
      "RR114/72mmHg   : object text\n",
      "141/88         : text  object\n",
      "'RR            : object text\n",
      "1,01           : text  object\n",
      "86x´,regul,puhtad,RR: object text\n",
      "80/25          : text  object\n",
      "Tervisekontroll,RR-150/84,ravi: object text\n",
      "162/110        : text  object\n",
      "RR120/89mmHg,  : object text\n",
      "aja.RR         : object text\n",
      "halvasti.RR-150/80: object text\n",
      "2.60RR127/90   : object text\n",
      "õhupuudus,seljavalu,RR: object text\n",
      "118/88         : object text\n",
      "sääki-14,0.RR-150/70mmHg.: object text\n",
      "166            : object text\n",
      "166            : object text\n",
      "cor:akts.regul.72*RR: object text\n",
      "120/80mmhg_    : object text\n",
      "*06.01.2015    : text  object\n",
      "-125           : text  object\n",
      "regulaarne,fr.77/min,RR-140/80: object text\n",
      "rr150/90       : object text\n",
      "40/10          : text  object\n",
      "regulaarne,fr.76/min.RR-150/85: object text\n",
      "70x`RR130/85mmHg,: object text\n",
      "Pikkus-192,    : object text\n",
      "Pikkus-192,    : object text\n",
      "südamepekslemine,RR160/100: object text\n",
      "rR             : text  object\n",
      "136/84         : text  object\n",
      "Analüüsid.RR   : object text\n",
      "118/80         : object text\n",
      "RR104/74       : object text\n",
      "142104016      : text  object\n",
      "142104016      : text  object\n",
      "142104016      : text  object\n",
      "142104016      : text  object\n",
      "135/80         : text  object\n",
      "150/90mmHg     : text  object\n",
      "89cm           : text  object\n",
      "ole.RR120/80mmHg,fr.: object text\n",
      "RR118-78mmhg   : object PAD\n",
      "140            : object text\n",
      "Nõustamine.RR140/80.: object text\n",
      "/67            : text  object\n",
      "RR130/62mmHg   : object text\n",
      "ÜÄR            : text  object\n",
      "RR-160/100mmHg,: object text\n",
      "RR100/60mmHG.  : object text\n",
      "Ps-64x         : text  object\n",
      "RR=150/90      : object text\n",
      "regRR140-90mmhg: object text\n",
      "72x`RR120/90mmHg,: object text\n",
      "RR168/91mmHg,  : object text\n",
      "võileib).RR-138/76mmHg.: object text\n",
      "90x`RR125/80mmHg,: object text\n",
      "90x`RR125/80mmHg,: object text\n",
      "170/100        : object text\n",
      "ees.RR133-72,  : object text\n",
      "136/88<br      : text  object\n",
      "/85.           : text  object\n",
      "160            : text  object\n",
      "RR150/90mmHg.  : object text\n",
      "05.04.2013     : text  object\n",
      "I,RR           : object text\n",
      "130/70,        : object text\n",
      "de             : text  object\n",
      "142/78         : text  object\n",
      "leia,RR        : object text\n",
      "s=             : text  object\n",
      "124/78         : text  object\n",
      "�ldveri.RR     : object text\n",
      "110/80.Borrelia: object text\n",
      "mmHg,fr.73     : text  object\n",
      "pearinglus,RR170/80: object text\n",
      "70/min.RR      : object text\n",
      "4/12,5         : text  object\n",
      ":RR            : object text\n",
      "RR,            : object text\n",
      "152/96         : text  object\n",
      "110kg/164cm.   : text  object\n",
      "3260           : text  object\n",
      "170cm          : object text\n",
      "RR170/100mmHg  : object text\n",
      "5.4,RR         : object text\n",
      "155.95         : object text\n",
      "tervisetõend.RR-111/74: object text\n",
      "120/70<br      : object text\n",
      "546            : text  object\n",
      "2.3.RR         : object text\n",
      "13-101035-1    : object text\n",
      "13-101035-1    : object text\n",
      "13-101035-1    : object text\n",
      "13-101035-1    : object text\n",
      "13-101035-1    : object text\n",
      "13-101035-1    : object text\n",
      "13-101035-1    : object text\n",
      "13-101035-1    : object text\n",
      "sööki-6,3mmol/l.RR-130/88mmHg.: object text\n",
      "181/1118       : text  object\n",
      "Rvai           : text  object\n",
      "104x',RR       : object text\n",
      "114/73,        : object text\n",
      "Amb.m/õ,tervisekontroll,RR-140/90,ravi: object text\n",
      "id=\"0\"         : object text\n",
      "140            : object text\n",
      "Hba1c-7,0%RR-130/80mmHg.: object text\n",
      "112/60         : text  object\n",
      "154            : text  object\n",
      "visus:1.0      : text  object\n",
      "K21            : text  object\n",
      "71-75%,RR      : object text\n",
      "71-75%,RR      : object text\n",
      "71-75%,RR      : object text\n",
      "72x`RR115/70mmHg: object text\n",
      "Pingepeavalu.RR: object text\n",
      "118/75         : object text\n",
      "RRmonitooringul: object text\n",
      "ebaregulaarne,ekstr.4-5/min.RR-128/68: object text\n",
      "regulaarne,fr.67/min.RR-120/78: object text\n",
      "150-160/90-100.: text  object\n",
      "157            : object text\n",
      "157            : object text\n",
      "RR108/75mmHg   : object text\n",
      "03.06.2010     : object text\n",
      "127            : object text\n",
      "uimnasust.RR   : object text\n",
      "140/85.Cor     : object text\n",
      "120x1          : object text\n",
      "120x1          : object text\n",
      "rütm.,RR=      : object text\n",
      "160/25mg       : text  object\n",
      "130/80         : text  object\n",
      "300            : text  object\n",
      "RR160/100mmHg. : object text\n",
      "Rr130/80       : text  object\n",
      "Nõustamine.RR140/80: object text\n",
      "114/74         : object text\n",
      "reg.puhtadPs72min.RR140/86: object text\n",
      "166cm.V/s      : object text\n",
      "Turseteta.RR-148/84mmHg,: object text\n",
      "statiinravi,RR155/95mmHg,: object text\n",
      "154            : text  object\n",
      "min-.RR        : object text\n",
      "RR-197/95      : object text\n",
      "126/           : text  object\n",
      "transparentsed.RR110/80mmHg,ongi: object text\n",
      "RR130-68mmhg   : object text\n",
      "emo-s.--RR     : object text\n",
      "134/75mmHg     : text  object\n",
      "120kg          : object text\n",
      "RR-monitooring:: object text\n",
      "Rmberg         : text  object\n",
      "RR125/76       : object text\n",
      "*10.06.2014    : object text\n",
      "RR-monitooringul: object text\n",
      "rägivad.Tuursed-RR130/86: object text\n",
      "140/90         : text  object\n",
      "ole.RR160/100  : object text\n",
      "130/78         : text  object\n",
      "150/90         : object text\n",
      "150/90         : object text\n",
      "108/64         : text  object\n",
      "RR120/50       : object text\n",
      "130/80         : text  object\n",
      "130/80         : text  object\n",
      "R120-82mmhg    : text  object\n",
      "RR130/80_      : object text\n",
      "VEK,RR         : object text\n",
      "RR155/73mmHg   : object text\n",
      "RR155/73mmHg   : object text\n",
      "Pikkus-159cm,  : object text\n",
      "Pikkus-159cm,  : object text\n",
      "kõverad,RR     : object text\n",
      "120/75         : object text\n",
      "170/90         : text  object\n",
      "RR114-70mmhg   : object text\n",
      "ujulast.HbA1c-6,1%RR-130/80mmHg.: object text\n",
      "140/80         : text  object\n",
      "26.10.2015.RR  : object text\n",
      "05.11.2015.RR170/80: object text\n",
      "26.10.2015.RR  : object text\n",
      "05.11.2015.RR170/80: object text\n",
      "RR180/80       : object text\n",
      "/106           : text  object\n",
      "/106           : text  object\n",
      "rahuldav,RR    : object text\n",
      "meeleolulangust.RR: object text\n",
      "Hba1c-5,7%RR-110/80mmHg1: object text\n",
      "söönuna--12,7mmol/l.RR-130/80mmHG.: object text\n",
      "üldseisundis.RR: object text\n",
      "120x           : object text\n",
      "p/s-12,5kg.RR-140/80mmHG.: object text\n",
      "120,1          : object text\n",
      "*12.03.2015:   : object text\n",
      "kahin.RR-120/68: object text\n",
      "pulss88        : text  object\n",
      "128/89         : text  object\n",
      "145;           : object text\n",
      "regulaarne,fr-67/min.RR-145/90: object text\n",
      "120,2kg        : object text\n",
      "P-66,          : text  object\n",
      "l/min.RR       : object text\n",
      "162/90         : text  object\n",
      "100,eelnevalt  : object text\n"
     ]
    }
   ],
   "source": [
    "j = 0\n",
    "for i in range(len(y_pred)):\n",
    "    p = np.argmax(y_pred[i], axis=-1)\n",
    "    for w, t, pred in zip(X_word_te[i], y_te[i], p):\n",
    "        if w != 0: #PAD\n",
    "            if idx2tag[t] != idx2tag[pred]:\n",
    "                print(\"{:15}: {:5} {}\".format(idx2word[w], idx2tag[t], idx2tag[pred]))\n",
    "                j = j+1\n"
   ]
  },
  {
   "cell_type": "code",
   "execution_count": 35,
   "metadata": {},
   "outputs": [
    {
     "data": {
      "text/plain": [
       "266"
      ]
     },
     "execution_count": 35,
     "metadata": {},
     "output_type": "execute_result"
    }
   ],
   "source": [
    "j"
   ]
  },
  {
   "cell_type": "code",
   "execution_count": 36,
   "metadata": {},
   "outputs": [
    {
     "name": "stdout",
     "output_type": "stream",
     "text": [
      "F1-score: 87.1%\n"
     ]
    }
   ],
   "source": [
    "from seqeval.metrics import precision_score, recall_score, f1_score, classification_report\n",
    "print(\"F1-score: {:.1%}\".format(f1_score(test_labels, pred_labels)))"
   ]
  },
  {
   "cell_type": "code",
   "execution_count": 37,
   "metadata": {},
   "outputs": [
    {
     "name": "stdout",
     "output_type": "stream",
     "text": [
      "              precision    recall  f1-score   support\n",
      "\n",
      "      object       0.09      0.95      0.16      3653\n",
      "        text       1.00      0.91      0.95    405697\n",
      "\n",
      "    accuracy                           0.91    409350\n",
      "   macro avg       0.54      0.93      0.56    409350\n",
      "weighted avg       0.99      0.91      0.95    409350\n",
      "\n"
     ]
    }
   ],
   "source": [
    "from  sklearn_crfsuite.metrics import flat_classification_report  \n",
    "report = flat_classification_report(y_pred=pred_labels, y_true=test_labels)\n",
    "print(report)"
   ]
  },
  {
   "cell_type": "code",
   "execution_count": 38,
   "metadata": {},
   "outputs": [
    {
     "name": "stdout",
     "output_type": "stream",
     "text": [
      "F1-score: 87.1%\n",
      "           precision    recall  f1-score   support\n",
      "\n",
      "     text       0.93      0.87      0.90      4461\n",
      "   object       0.82      0.81      0.81      2104\n",
      "\n",
      "micro avg       0.90      0.85      0.87      6565\n",
      "macro avg       0.90      0.85      0.87      6565\n",
      "\n"
     ]
    }
   ],
   "source": [
    "from seqeval.metrics import accuracy_score, precision_score, recall_score, f1_score, classification_report\n",
    "print(\"F1-score: {:.1%}\".format(f1_score(test_labels, pred_labels)))\n",
    "print(classification_report(test_labels, pred_labels))\n"
   ]
  },
  {
   "cell_type": "markdown",
   "metadata": {},
   "source": [
    "#### The following code can be used for NER of new sentences"
   ]
  },
  {
   "cell_type": "code",
   "execution_count": 2,
   "metadata": {},
   "outputs": [],
   "source": [
    "# test_sentence = \" Tupp vaba, em.kael puhas, RR 155/85 mmhg , emakas vÃ¤ike, adn.ii.\"\n",
    "# test_sentence = ''.join(test_sentence).split() \n",
    "\n",
    "# x_test_sent = pad_sequences(sequences=[[word2idx.get(w, 0) for w in test_sentence]],\n",
    "#                             padding=\"post\", value=0, maxlen=max_len)\n",
    "\n",
    "# y_pred = model.predict(x_test_sent,X_char_mytest)\n",
    "\n",
    "# p = model.predict(x_test_sent)\n",
    "# p = np.argmax(p, axis=-1)\n",
    "\n",
    "# print(\"{:15}||{}\".format(\"Word\", \"Prediction\"))\n",
    "# print(30 * \"=\")\n",
    "# for w, pred in zip(test_sentence, p[0]):\n",
    "#     print(\"{:15}: {:5}\".format(w, tags[pred]))\n"
   ]
  }
 ],
 "metadata": {
  "kernelspec": {
   "display_name": "Python 3",
   "language": "python",
   "name": "python3"
  },
  "language_info": {
   "codemirror_mode": {
    "name": "ipython",
    "version": 3
   },
   "file_extension": ".py",
   "mimetype": "text/x-python",
   "name": "python",
   "nbconvert_exporter": "python",
   "pygments_lexer": "ipython3",
   "version": "3.7.6"
  }
 },
 "nbformat": 4,
 "nbformat_minor": 4
}
