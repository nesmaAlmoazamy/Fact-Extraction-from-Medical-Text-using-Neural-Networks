{
 "cells": [
  {
   "cell_type": "code",
   "execution_count": 1,
   "metadata": {},
   "outputs": [],
   "source": [
    "import csv\n",
    "import numpy as np\n",
    "import pandas as pd\n"
   ]
  },
  {
   "cell_type": "code",
   "execution_count": 2,
   "metadata": {},
   "outputs": [
    {
     "name": "stderr",
     "output_type": "stream",
     "text": [
      "C:\\Users\\Kasutaja\\Anaconda3\\envs\\py36\\lib\\site-packages\\IPython\\core\\interactiveshell.py:3063: DtypeWarning: Columns (0) have mixed types.Specify dtype option on import or set low_memory=False.\n",
      "  interactivity=interactivity, compiler=compiler, result=result)\n"
     ]
    }
   ],
   "source": [
    "TextForElmo = pd.read_csv(\"textforEmbedding.csv\")\n"
   ]
  },
  {
   "cell_type": "code",
   "execution_count": 13,
   "metadata": {},
   "outputs": [],
   "source": [
    "TextSubset = TextForElmo[1000:1500] "
   ]
  },
  {
   "cell_type": "code",
   "execution_count": 19,
   "metadata": {},
   "outputs": [],
   "source": [
    "oneString = ''.join(map(str,  TextSubset[\"text\"].tolist()))"
   ]
  },
  {
   "cell_type": "code",
   "execution_count": 21,
   "metadata": {},
   "outputs": [],
   "source": [
    "import nltk"
   ]
  },
  {
   "cell_type": "code",
   "execution_count": 22,
   "metadata": {},
   "outputs": [],
   "source": [
    "sentence_tokenizer = nltk.data.load('tokenizers/punkt/estonian.pickle')"
   ]
  },
  {
   "cell_type": "code",
   "execution_count": 24,
   "metadata": {},
   "outputs": [],
   "source": [
    "listOfSentences = sentence_tokenizer.tokenize(oneString)"
   ]
  },
  {
   "cell_type": "code",
   "execution_count": 33,
   "metadata": {},
   "outputs": [],
   "source": [
    "myTextDF = pd.DataFrame({\"transcript\":listOfSentences})"
   ]
  },
  {
   "cell_type": "code",
   "execution_count": 39,
   "metadata": {},
   "outputs": [
    {
     "data": {
      "text/html": [
       "<div>\n",
       "<style scoped>\n",
       "    .dataframe tbody tr th:only-of-type {\n",
       "        vertical-align: middle;\n",
       "    }\n",
       "\n",
       "    .dataframe tbody tr th {\n",
       "        vertical-align: top;\n",
       "    }\n",
       "\n",
       "    .dataframe thead th {\n",
       "        text-align: right;\n",
       "    }\n",
       "</style>\n",
       "<table border=\"1\" class=\"dataframe\">\n",
       "  <thead>\n",
       "    <tr style=\"text-align: right;\">\n",
       "      <th></th>\n",
       "      <th>transcript</th>\n",
       "    </tr>\n",
       "  </thead>\n",
       "  <tbody>\n",
       "    <tr>\n",
       "      <th>3500</th>\n",
       "      <td>Kirjeldus: Par.käe IV sõrme prox,falange ristifraktuur.</td>\n",
       "    </tr>\n",
       "    <tr>\n",
       "      <th>3501</th>\n",
       "      <td>Kuupäev:  Kood ja nimetus: 79200 Ühe mähisega uuring (kuni 3 tööd) keskmise väljaga MRT-l Põhjendus: mrt peaajust;\\nkognitiivne düsfktsioon, I tüüpi diabeet Kirjeldus:  KESKMISE &lt;ANONYM id=\"4\" type=\"per\" morph=\"_S_ sg kom\"/&gt; MRT-UURING PEAAJUST:  Loc, Sag.T1 SE, Ax T2 frFSE, Ax DWI 1000b, Ax T2 FLAIR,Ax SE T1,  Cor T2 FLAIR\\n\\nLEID: \\nAju külgvatsakesed, III ja IV vatsake on normaalse  kuju ja laiusega, deformatsioonita ja dislokatsioonita.</td>\n",
       "    </tr>\n",
       "    <tr>\n",
       "      <th>3502</th>\n",
       "      <td>Ekstratserebraalsed liikvoriruumid on normaalsed.</td>\n",
       "    </tr>\n",
       "    <tr>\n",
       "      <th>3503</th>\n",
       "      <td>Suuraju poolkerades subkortikaalsel üksikud paari millimeetrised T2 intensiivsed kolded.</td>\n",
       "    </tr>\n",
       "    <tr>\n",
       "      <th>3504</th>\n",
       "      <td>Muus osas on ajukude  koldemuutusteta, DW muutusteta.</td>\n",
       "    </tr>\n",
       "    <tr>\n",
       "      <th>3505</th>\n",
       "      <td>Järeldus: Üksikud kolded subkortikaalsel- tõenäoliselt isheemilis-gliootilised.</td>\n",
       "    </tr>\n",
       "    <tr>\n",
       "      <th>3506</th>\n",
       "      <td>Kuupäev: 15.01.2013 16:16 Kood ja nimetus: 79202 Ühe mähisega uuring (6-7 tööd) keskmise väljaga MRT-l Põhjendus: mrt peaajust;\\nkognitiivne düsfktsioon, I tüüpi diabeet Kirjeldus:  KESKMISE &lt;ANONYM id=\"5\" type=\"per\" morph=\"_S_ sg kom\"/&gt; MRT-UURING PEAAJUST:  Loc, Sag.T1 SE, Ax T2 frFSE, Ax DWI 1000b, Ax T2 FLAIR,Ax SE T1,  Cor T2 FLAIR\\n\\nLEID: \\nAju külgvatsakesed, III ja IV vatsake on normaalse  kuju ja laiusega, deformatsioonita ja dislokatsioonita.</td>\n",
       "    </tr>\n",
       "    <tr>\n",
       "      <th>3507</th>\n",
       "      <td>Ekstratserebraalsed liikvoriruumid on normaalsed.</td>\n",
       "    </tr>\n",
       "    <tr>\n",
       "      <th>3508</th>\n",
       "      <td>Suuraju poolkerades subkortikaalsel üksikud paari millimeetrised T2 intensiivsed kolded.</td>\n",
       "    </tr>\n",
       "    <tr>\n",
       "      <th>3509</th>\n",
       "      <td>Muus osas on ajukude  koldemuutusteta, DW muutusteta.</td>\n",
       "    </tr>\n",
       "    <tr>\n",
       "      <th>3510</th>\n",
       "      <td>Järeldus: Üksikud kolded subkortikaalsel- tõenäoliselt isheemilis-gliootilised.</td>\n",
       "    </tr>\n",
       "    <tr>\n",
       "      <th>3511</th>\n",
       "      <td>Kuupäev: 15.01.2013 13:34 Kood ja nimetus: 6323 Elektrokardiograafia koos kompuuteranalüüsiga Põhjendus: ekg Kirjeldus: Siinusrütm fr.</td>\n",
       "    </tr>\n",
       "    <tr>\n",
       "      <th>3512</th>\n",
       "      <td>83xmin.</td>\n",
       "    </tr>\n",
       "    <tr>\n",
       "      <th>3513</th>\n",
       "      <td>Intermediaarne el positsioon.</td>\n",
       "    </tr>\n",
       "    <tr>\n",
       "      <th>3514</th>\n",
       "      <td>Enneaegne erutamine.</td>\n",
       "    </tr>\n",
       "    <tr>\n",
       "      <th>3515</th>\n",
       "      <td>Repolarisatsuiooni häired \\nvas.</td>\n",
       "    </tr>\n",
       "    <tr>\n",
       "      <th>3516</th>\n",
       "      <td>vatsakese taga- \\nkülgseinas.tipu piires.</td>\n",
       "    </tr>\n",
       "    <tr>\n",
       "      <th>3517</th>\n",
       "      <td>Kuupäev: 16.01.2013 13:41 Kood ja nimetus: 6258 Elektromüograafia Põhjendus: diabeetiline poluneuropaatia?</td>\n",
       "    </tr>\n",
       "    <tr>\n",
       "      <th>3518</th>\n",
       "      <td>Kirjeldus: esineb üldine senso&gt;motoorne aksonaalset tüüpi polüneuropaatia.</td>\n",
       "    </tr>\n",
       "    <tr>\n",
       "      <th>3519</th>\n",
       "      <td>&lt;ANONYM id=\"6\" type=\"per\" morph=\"_S_ pl in\"/&gt; sensoorne kahjustus väljendunud, vastuseid n.suralistest ei saa (ka mitte nõelelektrooddega)Sümmeetriline.</td>\n",
       "    </tr>\n",
       "    <tr>\n",
       "      <th>3520</th>\n",
       "      <td>Kuupäev: 14.01.2013 08:38 Kood ja nimetus: 7601 Psühhoteraapia seanss ühele haigele Põhjendus: meeleolu ning neuropsühholoogiline hindamine Kirjeldus:  Järeldus: 14.01\\nesmane intervjuu, psühholoogilise anamneesi võtmine, ja hindamine.</td>\n",
       "    </tr>\n",
       "    <tr>\n",
       "      <th>3521</th>\n",
       "      <td>Haigusest ning järskudest muudatustest tingitud muudatused eluviisis, toimetuleku hindamine.</td>\n",
       "    </tr>\n",
       "    <tr>\n",
       "      <th>3522</th>\n",
       "      <td>Kliendiga viidud läbi meeleolu ning neuropsühholoogiliste aspektide hindamine.</td>\n",
       "    </tr>\n",
       "    <tr>\n",
       "      <th>3523</th>\n",
       "      <td>Momendil enda hinnangul meeleolu periooditi enam häiritud, rohkem närvilisust, mälu käepärasuse häireid enda hinnangul esinenud viimasel ajal, kliendi enda hinanngul segas see lõpuks ka töötamist.</td>\n",
       "    </tr>\n",
       "    <tr>\n",
       "      <th>3524</th>\n",
       "      <td>Nõustamine, esmaste plaanide tegemine, kompleksuuringu kokkuleppimine.</td>\n",
       "    </tr>\n",
       "    <tr>\n",
       "      <th>3525</th>\n",
       "      <td>(7601)\\n\\n16.01\\nNeuropsühholoogilise kompleksuuringu läbiviimine\\nKlient suunatud neuroloogi poolt neuropsühholoogiliseks hindamiseks muutuste täpsustamise eesmärgil.</td>\n",
       "    </tr>\n",
       "    <tr>\n",
       "      <th>3526</th>\n",
       "      <td>Läbi viidud neuropsühholoogiline hindamine.</td>\n",
       "    </tr>\n",
       "    <tr>\n",
       "      <th>3527</th>\n",
       "      <td>Mälu (verbaalne, loogiline, nägemis-ruumitaju hindav, kohene ja hilisem meenutamine), täidesaatvate funktsioonide, infotöötlemise kiiruse, nägemis-ruumitaju, kõne, verbaalse voolavuse, tähelepanu ja keskendumisvõime hindamiseks kasutati järgmiseid teste: Buschke valikulise meenutamise test, jutu õppimise test, nägemismälu (10/36) test (mälutestidel nii kohene kui ka hilisem meenutamine), punktide ühendamise test (A ja B), sümbolite-numbrite test, semantilise ja verbaalse kategooria sõnade genereerimise test ja Benderi kujundite kopeerimise test.</td>\n",
       "    </tr>\n",
       "    <tr>\n",
       "      <th>3528</th>\n",
       "      <td>Meeleolu hindamiseks kasutati EEK-2 enesekohast küsimustikku.</td>\n",
       "    </tr>\n",
       "    <tr>\n",
       "      <th>3529</th>\n",
       "      <td>Läbi viidud testide tulemuste kohaselt kulub nii verbaalse kui ka nägemis-ruumilise mälu korral uue materjali omandamiseks enam aega, hilisem meenutamine häiritud ei ole, meelde jääb keskmisest väiksem hulk materjali, nägemis-ruumitaju hindavad testid kergelt häiritud.</td>\n",
       "    </tr>\n",
       "    <tr>\n",
       "      <th>3530</th>\n",
       "      <td>Tähelepanu hea, keskendumisvõime säilitamine raskendatud.</td>\n",
       "    </tr>\n",
       "    <tr>\n",
       "      <th>3531</th>\n",
       "      <td>Infotöötlemise kiirus keskmisel tasemel.</td>\n",
       "    </tr>\n",
       "    <tr>\n",
       "      <th>3532</th>\n",
       "      <td>&lt;ANONYM id=\"7\" type=\"per\" morph=\"_S_ pl g\"/&gt; genereerimine.</td>\n",
       "    </tr>\n",
       "    <tr>\n",
       "      <th>3533</th>\n",
       "      <td>Täidesaatvad funktsioonid kergelt häiritud.</td>\n",
       "    </tr>\n",
       "    <tr>\n",
       "      <th>3534</th>\n",
       "      <td>Edasine konsulteerimine soovitatav muutuste dünaamika hindamiseks.</td>\n",
       "    </tr>\n",
       "    <tr>\n",
       "      <th>3535</th>\n",
       "      <td>(7616)\\n\\n18.01\\nKokkuvõttev haiglasoleku analüüs, muutuste analüüs.</td>\n",
       "    </tr>\n",
       "    <tr>\n",
       "      <th>3536</th>\n",
       "      <td>Edasiste eesmärkide püstitamine haiglaväliseks eluks, teraapia kulg, isiklike toimetulekustrateegiate väljatöötamine ning ellurakendamise plaan.</td>\n",
       "    </tr>\n",
       "    <tr>\n",
       "      <th>3537</th>\n",
       "      <td>Momendil meeleolu langus osaliselt vähenenud, toimetulek endisel tasemel.</td>\n",
       "    </tr>\n",
       "    <tr>\n",
       "      <th>3538</th>\n",
       "      <td>Muutuste läbiarutamine, võimalused ja vajadused depressiooni  raviks.</td>\n",
       "    </tr>\n",
       "    <tr>\n",
       "      <th>3539</th>\n",
       "      <td>Nõustamine.</td>\n",
       "    </tr>\n",
       "    <tr>\n",
       "      <th>3540</th>\n",
       "      <td>(7601)\\n\\nKuupäev: 18.01.2013 08:38 Kood ja nimetus: 7601 Psühhoteraapia seanss ühele haigele Põhjendus: meeleolu ning neuropsühholoogiline hindamine Kirjeldus:  Järeldus: 14.01\\nesmane intervjuu, psühholoogilise anamneesi võtmine, ja hindamine.</td>\n",
       "    </tr>\n",
       "    <tr>\n",
       "      <th>3541</th>\n",
       "      <td>Haigusest ning järskudest muudatustest tingitud muudatused eluviisis, toimetuleku hindamine.</td>\n",
       "    </tr>\n",
       "    <tr>\n",
       "      <th>3542</th>\n",
       "      <td>Kliendiga viidud läbi meeleolu ning neuropsühholoogiliste aspektide hindamine.</td>\n",
       "    </tr>\n",
       "    <tr>\n",
       "      <th>3543</th>\n",
       "      <td>Momendil enda hinnangul meeleolu periooditi enam häiritud, rohkem närvilisust, mälu käepärasuse häireid enda hinnangul esinenud viimasel ajal, kliendi enda hinanngul segas see lõpuks ka töötamist.</td>\n",
       "    </tr>\n",
       "    <tr>\n",
       "      <th>3544</th>\n",
       "      <td>Nõustamine, esmaste plaanide tegemine, kompleksuuringu kokkuleppimine.</td>\n",
       "    </tr>\n",
       "    <tr>\n",
       "      <th>3545</th>\n",
       "      <td>(7601)\\n\\n16.01\\nNeuropsühholoogilise kompleksuuringu läbiviimine\\nKlient suunatud neuroloogi poolt neuropsühholoogiliseks hindamiseks muutuste täpsustamise eesmärgil.</td>\n",
       "    </tr>\n",
       "    <tr>\n",
       "      <th>3546</th>\n",
       "      <td>Läbi viidud neuropsühholoogiline hindamine.</td>\n",
       "    </tr>\n",
       "    <tr>\n",
       "      <th>3547</th>\n",
       "      <td>Mälu (verbaalne, loogiline, nägemis-ruumitaju hindav, kohene ja hilisem meenutamine), täidesaatvate funktsioonide, infotöötlemise kiiruse, nägemis-ruumitaju, kõne, verbaalse voolavuse, tähelepanu ja keskendumisvõime hindamiseks kasutati järgmiseid teste: Buschke valikulise meenutamise test, jutu õppimise test, nägemismälu (10/36) test (mälutestidel nii kohene kui ka hilisem meenutamine), punktide ühendamise test (A ja B), sümbolite-numbrite test, semantilise ja verbaalse kategooria sõnade genereerimise test ja Benderi kujundite kopeerimise test.</td>\n",
       "    </tr>\n",
       "    <tr>\n",
       "      <th>3548</th>\n",
       "      <td>Meeleolu hindamiseks kasutati EEK-2 enesekohast küsimustikku.</td>\n",
       "    </tr>\n",
       "    <tr>\n",
       "      <th>3549</th>\n",
       "      <td>Läbi viidud testide tulemuste kohaselt kulub nii verbaalse kui ka nägemis-ruumilise mälu korral uue materjali omandamiseks enam aega, hilisem meenutamine häiritud ei ole, meelde jääb keskmisest väiksem hulk materjali, nägemis-ruumitaju hindavad testid kergelt häiritud.</td>\n",
       "    </tr>\n",
       "  </tbody>\n",
       "</table>\n",
       "</div>"
      ],
      "text/plain": [
       "                                                                                                                                                                                                                                                                                                                                                                                                                                                                                                                                                                   transcript\n",
       "3500                                                                                                                                                                                                                                                                                                                                                                                                                                                                                                                  Kirjeldus: Par.käe IV sõrme prox,falange ristifraktuur.\n",
       "3501                                                                                                             Kuupäev:  Kood ja nimetus: 79200 Ühe mähisega uuring (kuni 3 tööd) keskmise väljaga MRT-l Põhjendus: mrt peaajust;\\nkognitiivne düsfktsioon, I tüüpi diabeet Kirjeldus:  KESKMISE <ANONYM id=\"4\" type=\"per\" morph=\"_S_ sg kom\"/> MRT-UURING PEAAJUST:  Loc, Sag.T1 SE, Ax T2 frFSE, Ax DWI 1000b, Ax T2 FLAIR,Ax SE T1,  Cor T2 FLAIR\\n\\nLEID: \\nAju külgvatsakesed, III ja IV vatsake on normaalse  kuju ja laiusega, deformatsioonita ja dislokatsioonita.\n",
       "3502                                                                                                                                                                                                                                                                                                                                                                                                                                                                                                                        Ekstratserebraalsed liikvoriruumid on normaalsed.\n",
       "3503                                                                                                                                                                                                                                                                                                                                                                                                                                                                                 Suuraju poolkerades subkortikaalsel üksikud paari millimeetrised T2 intensiivsed kolded.\n",
       "3504                                                                                                                                                                                                                                                                                                                                                                                                                                                                                                                    Muus osas on ajukude  koldemuutusteta, DW muutusteta.\n",
       "3505                                                                                                                                                                                                                                                                                                                                                                                                                                                                                          Järeldus: Üksikud kolded subkortikaalsel- tõenäoliselt isheemilis-gliootilised.\n",
       "3506                                                                                                Kuupäev: 15.01.2013 16:16 Kood ja nimetus: 79202 Ühe mähisega uuring (6-7 tööd) keskmise väljaga MRT-l Põhjendus: mrt peaajust;\\nkognitiivne düsfktsioon, I tüüpi diabeet Kirjeldus:  KESKMISE <ANONYM id=\"5\" type=\"per\" morph=\"_S_ sg kom\"/> MRT-UURING PEAAJUST:  Loc, Sag.T1 SE, Ax T2 frFSE, Ax DWI 1000b, Ax T2 FLAIR,Ax SE T1,  Cor T2 FLAIR\\n\\nLEID: \\nAju külgvatsakesed, III ja IV vatsake on normaalse  kuju ja laiusega, deformatsioonita ja dislokatsioonita.\n",
       "3507                                                                                                                                                                                                                                                                                                                                                                                                                                                                                                                        Ekstratserebraalsed liikvoriruumid on normaalsed.\n",
       "3508                                                                                                                                                                                                                                                                                                                                                                                                                                                                                 Suuraju poolkerades subkortikaalsel üksikud paari millimeetrised T2 intensiivsed kolded.\n",
       "3509                                                                                                                                                                                                                                                                                                                                                                                                                                                                                                                    Muus osas on ajukude  koldemuutusteta, DW muutusteta.\n",
       "3510                                                                                                                                                                                                                                                                                                                                                                                                                                                                                          Järeldus: Üksikud kolded subkortikaalsel- tõenäoliselt isheemilis-gliootilised.\n",
       "3511                                                                                                                                                                                                                                                                                                                                                                                                                                   Kuupäev: 15.01.2013 13:34 Kood ja nimetus: 6323 Elektrokardiograafia koos kompuuteranalüüsiga Põhjendus: ekg Kirjeldus: Siinusrütm fr.\n",
       "3512                                                                                                                                                                                                                                                                                                                                                                                                                                                                                                                                                                  83xmin.\n",
       "3513                                                                                                                                                                                                                                                                                                                                                                                                                                                                                                                                            Intermediaarne el positsioon.\n",
       "3514                                                                                                                                                                                                                                                                                                                                                                                                                                                                                                                                                     Enneaegne erutamine.\n",
       "3515                                                                                                                                                                                                                                                                                                                                                                                                                                                                                                                                         Repolarisatsuiooni häired \\nvas.\n",
       "3516                                                                                                                                                                                                                                                                                                                                                                                                                                                                                                                                vatsakese taga- \\nkülgseinas.tipu piires.\n",
       "3517                                                                                                                                                                                                                                                                                                                                                                                                                                                               Kuupäev: 16.01.2013 13:41 Kood ja nimetus: 6258 Elektromüograafia Põhjendus: diabeetiline poluneuropaatia?\n",
       "3518                                                                                                                                                                                                                                                                                                                                                                                                                                                                                               Kirjeldus: esineb üldine senso>motoorne aksonaalset tüüpi polüneuropaatia.\n",
       "3519                                                                                                                                                                                                                                                                                                                                                                                                                 <ANONYM id=\"6\" type=\"per\" morph=\"_S_ pl in\"/> sensoorne kahjustus väljendunud, vastuseid n.suralistest ei saa (ka mitte nõelelektrooddega)Sümmeetriline.\n",
       "3520                                                                                                                                                                                                                                                                                                                              Kuupäev: 14.01.2013 08:38 Kood ja nimetus: 7601 Psühhoteraapia seanss ühele haigele Põhjendus: meeleolu ning neuropsühholoogiline hindamine Kirjeldus:  Järeldus: 14.01\\nesmane intervjuu, psühholoogilise anamneesi võtmine, ja hindamine.\n",
       "3521                                                                                                                                                                                                                                                                                                                                                                                                                                                                             Haigusest ning järskudest muudatustest tingitud muudatused eluviisis, toimetuleku hindamine.\n",
       "3522                                                                                                                                                                                                                                                                                                                                                                                                                                                                                           Kliendiga viidud läbi meeleolu ning neuropsühholoogiliste aspektide hindamine.\n",
       "3523                                                                                                                                                                                                                                                                                                                                                                     Momendil enda hinnangul meeleolu periooditi enam häiritud, rohkem närvilisust, mälu käepärasuse häireid enda hinnangul esinenud viimasel ajal, kliendi enda hinanngul segas see lõpuks ka töötamist.\n",
       "3524                                                                                                                                                                                                                                                                                                                                                                                                                                                                                                   Nõustamine, esmaste plaanide tegemine, kompleksuuringu kokkuleppimine.\n",
       "3525                                                                                                                                                                                                                                                                                                                                                                                                  (7601)\\n\\n16.01\\nNeuropsühholoogilise kompleksuuringu läbiviimine\\nKlient suunatud neuroloogi poolt neuropsühholoogiliseks hindamiseks muutuste täpsustamise eesmärgil.\n",
       "3526                                                                                                                                                                                                                                                                                                                                                                                                                                                                                                                              Läbi viidud neuropsühholoogiline hindamine.\n",
       "3527  Mälu (verbaalne, loogiline, nägemis-ruumitaju hindav, kohene ja hilisem meenutamine), täidesaatvate funktsioonide, infotöötlemise kiiruse, nägemis-ruumitaju, kõne, verbaalse voolavuse, tähelepanu ja keskendumisvõime hindamiseks kasutati järgmiseid teste: Buschke valikulise meenutamise test, jutu õppimise test, nägemismälu (10/36) test (mälutestidel nii kohene kui ka hilisem meenutamine), punktide ühendamise test (A ja B), sümbolite-numbrite test, semantilise ja verbaalse kategooria sõnade genereerimise test ja Benderi kujundite kopeerimise test.\n",
       "3528                                                                                                                                                                                                                                                                                                                                                                                                                                                                                                            Meeleolu hindamiseks kasutati EEK-2 enesekohast küsimustikku.\n",
       "3529                                                                                                                                                                                                                                                                                            Läbi viidud testide tulemuste kohaselt kulub nii verbaalse kui ka nägemis-ruumilise mälu korral uue materjali omandamiseks enam aega, hilisem meenutamine häiritud ei ole, meelde jääb keskmisest väiksem hulk materjali, nägemis-ruumitaju hindavad testid kergelt häiritud.\n",
       "3530                                                                                                                                                                                                                                                                                                                                                                                                                                                                                                                Tähelepanu hea, keskendumisvõime säilitamine raskendatud.\n",
       "3531                                                                                                                                                                                                                                                                                                                                                                                                                                                                                                                                 Infotöötlemise kiirus keskmisel tasemel.\n",
       "3532                                                                                                                                                                                                                                                                                                                                                                                                                                                                                                              <ANONYM id=\"7\" type=\"per\" morph=\"_S_ pl g\"/> genereerimine.\n",
       "3533                                                                                                                                                                                                                                                                                                                                                                                                                                                                                                                              Täidesaatvad funktsioonid kergelt häiritud.\n",
       "3534                                                                                                                                                                                                                                                                                                                                                                                                                                                                                                       Edasine konsulteerimine soovitatav muutuste dünaamika hindamiseks.\n",
       "3535                                                                                                                                                                                                                                                                                                                                                                                                                                                                                                     (7616)\\n\\n18.01\\nKokkuvõttev haiglasoleku analüüs, muutuste analüüs.\n",
       "3536                                                                                                                                                                                                                                                                                                                                                                                                                         Edasiste eesmärkide püstitamine haiglaväliseks eluks, teraapia kulg, isiklike toimetulekustrateegiate väljatöötamine ning ellurakendamise plaan.\n",
       "3537                                                                                                                                                                                                                                                                                                                                                                                                                                                                                                Momendil meeleolu langus osaliselt vähenenud, toimetulek endisel tasemel.\n",
       "3538                                                                                                                                                                                                                                                                                                                                                                                                                                                                                                    Muutuste läbiarutamine, võimalused ja vajadused depressiooni  raviks.\n",
       "3539                                                                                                                                                                                                                                                                                                                                                                                                                                                                                                                                                              Nõustamine.\n",
       "3540                                                                                                                                                                                                                                                                                                                    (7601)\\n\\nKuupäev: 18.01.2013 08:38 Kood ja nimetus: 7601 Psühhoteraapia seanss ühele haigele Põhjendus: meeleolu ning neuropsühholoogiline hindamine Kirjeldus:  Järeldus: 14.01\\nesmane intervjuu, psühholoogilise anamneesi võtmine, ja hindamine.\n",
       "3541                                                                                                                                                                                                                                                                                                                                                                                                                                                                             Haigusest ning järskudest muudatustest tingitud muudatused eluviisis, toimetuleku hindamine.\n",
       "3542                                                                                                                                                                                                                                                                                                                                                                                                                                                                                           Kliendiga viidud läbi meeleolu ning neuropsühholoogiliste aspektide hindamine.\n",
       "3543                                                                                                                                                                                                                                                                                                                                                                     Momendil enda hinnangul meeleolu periooditi enam häiritud, rohkem närvilisust, mälu käepärasuse häireid enda hinnangul esinenud viimasel ajal, kliendi enda hinanngul segas see lõpuks ka töötamist.\n",
       "3544                                                                                                                                                                                                                                                                                                                                                                                                                                                                                                   Nõustamine, esmaste plaanide tegemine, kompleksuuringu kokkuleppimine.\n",
       "3545                                                                                                                                                                                                                                                                                                                                                                                                  (7601)\\n\\n16.01\\nNeuropsühholoogilise kompleksuuringu läbiviimine\\nKlient suunatud neuroloogi poolt neuropsühholoogiliseks hindamiseks muutuste täpsustamise eesmärgil.\n",
       "3546                                                                                                                                                                                                                                                                                                                                                                                                                                                                                                                              Läbi viidud neuropsühholoogiline hindamine.\n",
       "3547  Mälu (verbaalne, loogiline, nägemis-ruumitaju hindav, kohene ja hilisem meenutamine), täidesaatvate funktsioonide, infotöötlemise kiiruse, nägemis-ruumitaju, kõne, verbaalse voolavuse, tähelepanu ja keskendumisvõime hindamiseks kasutati järgmiseid teste: Buschke valikulise meenutamise test, jutu õppimise test, nägemismälu (10/36) test (mälutestidel nii kohene kui ka hilisem meenutamine), punktide ühendamise test (A ja B), sümbolite-numbrite test, semantilise ja verbaalse kategooria sõnade genereerimise test ja Benderi kujundite kopeerimise test.\n",
       "3548                                                                                                                                                                                                                                                                                                                                                                                                                                                                                                            Meeleolu hindamiseks kasutati EEK-2 enesekohast küsimustikku.\n",
       "3549                                                                                                                                                                                                                                                                                            Läbi viidud testide tulemuste kohaselt kulub nii verbaalse kui ka nägemis-ruumilise mälu korral uue materjali omandamiseks enam aega, hilisem meenutamine häiritud ei ole, meelde jääb keskmisest väiksem hulk materjali, nägemis-ruumitaju hindavad testid kergelt häiritud."
      ]
     },
     "execution_count": 39,
     "metadata": {},
     "output_type": "execute_result"
    }
   ],
   "source": [
    "myTextDF[3500:3550]"
   ]
  },
  {
   "cell_type": "code",
   "execution_count": 40,
   "metadata": {},
   "outputs": [],
   "source": [
    "train_df = myTextDF.sample(frac=0.8, random_state=100)\n",
    "test_df = myTextDF[~myTextDF.index.isin(train_df.index)]\n"
   ]
  },
  {
   "cell_type": "code",
   "execution_count": 47,
   "metadata": {},
   "outputs": [
    {
     "data": {
      "text/plain": [
       "2160                                                           <ANONYM id=\"33\" type=\"per\" morph=\"_A_ pl p\"/> väikesi bullasid.\n",
       "1782                                                                                                                  Peaseis.\n",
       "1877    Kuupäev: 11.07.2013 12:56 Kood ja nimetus: 7984 Kompuutertomograafia-angiograafia ühest piirkonnast Põhjendus: tuumor?\n",
       "426                                              Pankrease mõõtmed on normi piires, struktuur, kontrasteerumine iseärasusteta.\n",
       "6963                                                                       Aspirin, Plavix, Norvasc, Betaloc-Zoc, Simvastatin.\n",
       "244                                                                                         Mõõtmetelt maks suurenenud ei ole.\n",
       "3853                                                                      Kontrastainena süstitud  Visipaque 270 - 110 ml i/v.\n",
       "4694                                     Esineb hüpokinees inferoseptaalses seinas basaalses segmendis ja inferioorses seinas.\n",
       "4584                                                                                            IVA1\\n- Kasvajavaba lümfisõlm.\n",
       "6746                                                                                                                    Repol.\n",
       "Name: transcript, dtype: object"
      ]
     },
     "execution_count": 47,
     "metadata": {},
     "output_type": "execute_result"
    }
   ],
   "source": [
    "# train_df['transcript'] = train_df['transcript'] + \" .\"\n",
    "\n",
    "train_df['transcript'][200:210]"
   ]
  },
  {
   "cell_type": "code",
   "execution_count": 134,
   "metadata": {},
   "outputs": [],
   "source": [
    "import os\n",
    "if not os.path.exists(\"swb/train\"):\n",
    "    os.makedirs(\"swb/train\")\n",
    " \n",
    "for i in range(0,train_df.shape[0],6):\n",
    "    text = \"\\n\".join(train_df['transcript'][i:i+6].tolist())\n",
    "    fp = open(\"swb/train/\"+str(i)+\".txt\",\"w\",encoding=\"UTF-8\")\n",
    "    fp.write(text)\n",
    "    fp.close()"
   ]
  },
  {
   "cell_type": "markdown",
   "metadata": {},
   "source": [
    "#Prepare Validation Data\n"
   ]
  },
  {
   "cell_type": "code",
   "execution_count": 136,
   "metadata": {},
   "outputs": [
    {
     "name": "stderr",
     "output_type": "stream",
     "text": [
      "C:\\Users\\Kasutaja\\Anaconda3\\envs\\py36\\lib\\site-packages\\ipykernel_launcher.py:1: SettingWithCopyWarning: \n",
      "A value is trying to be set on a copy of a slice from a DataFrame.\n",
      "Try using .loc[row_indexer,col_indexer] = value instead\n",
      "\n",
      "See the caveats in the documentation: https://pandas.pydata.org/pandas-docs/stable/user_guide/indexing.html#returning-a-view-versus-a-copy\n",
      "  \"\"\"Entry point for launching an IPython kernel.\n"
     ]
    }
   ],
   "source": [
    "test_df['transcript'] = test_df['transcript'] + \" .\"\n",
    "if not os.path.exists(\"swb/dev\"):\n",
    "    os.makedirs(\"swb/dev\")\n",
    " \n",
    "for i in range(0,test_df.shape[0],6):\n",
    "    text = \"\\n\".join(test_df['transcript'][i:i+6].tolist())\n",
    "    fp = open(\"swb/dev/\"+str(i)+\".txt\",\"w\",encoding=\"UTF-8\")\n",
    "    fp.write(text)\n",
    "    fp.close()"
   ]
  },
  {
   "cell_type": "markdown",
   "metadata": {},
   "source": [
    "#Prepare vocab file"
   ]
  },
  {
   "cell_type": "code",
   "execution_count": 137,
   "metadata": {},
   "outputs": [
    {
     "name": "stdout",
     "output_type": "stream",
     "text": [
      "Number of tokens in Training data =  86912\n",
      "Size of Vocab 8797\n"
     ]
    }
   ],
   "source": [
    "from collections import Counter\n",
    "vocab = \" \".join(train_df['transcript'].tolist())\n",
    "vocab_words = vocab.split(\" \")\n",
    "print(\"Number of tokens in Training data = \",len(vocab_words))\n",
    "dictionary = Counter(vocab_words)\n",
    "print(\"Size of Vocab\",len(dictionary))\n",
    "sorted_vocab = [\"&lt;S&gt;\",\"&lt;/S&gt;\",\"&lt;UNK&gt;\"]\n",
    "sorted_vocab.extend([pair[0] for pair in dictionary.most_common()])\n",
    " \n",
    "sorted_text = \"\\n\".join(sorted_vocab)\n",
    "fp = open(\"swb/vocab.txt\",\"w\",encoding=\"UTF-8\")\n",
    "fp.write(sorted_text)\n",
    "fp.close()"
   ]
  },
  {
   "cell_type": "code",
   "execution_count": 50,
   "metadata": {},
   "outputs": [
    {
     "name": "stderr",
     "output_type": "stream",
     "text": [
      "ERROR: Could not find a version that satisfies the requirement os (from versions: none)\n",
      "ERROR: No matching distribution found for os\n"
     ]
    }
   ],
   "source": [
    "!pip install os"
   ]
  }
 ],
 "metadata": {
  "kernelspec": {
   "display_name": "Python 3",
   "language": "python",
   "name": "python3"
  },
  "language_info": {
   "codemirror_mode": {
    "name": "ipython",
    "version": 3
   },
   "file_extension": ".py",
   "mimetype": "text/x-python",
   "name": "python",
   "nbconvert_exporter": "python",
   "pygments_lexer": "ipython3",
   "version": "3.6.10"
  }
 },
 "nbformat": 4,
 "nbformat_minor": 4
}
